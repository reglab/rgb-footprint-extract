{
 "cells": [
  {
   "cell_type": "code",
   "execution_count": 1,
   "id": "0fb32a59",
   "metadata": {},
   "outputs": [],
   "source": [
    "import geopandas as gpd\n",
    "import pandas as pd\n",
    "import numpy as np\n",
    "import os\n",
    "import shapely.wkt\n",
    "import pyproj\n",
    "from pyproj import Geod\n",
    "import shapely\n",
    "from shapely.geometry import box, Polygon, Point\n",
    "from shapely.ops import orient\n",
    "from tqdm import tqdm\n",
    "import time\n",
    "import matplotlib.pyplot as plt\n",
    "import seaborn as sns\n",
    "import multiprocessing as mp\n",
    "import pickle\n",
    "import matplotlib"
   ]
  },
  {
   "cell_type": "markdown",
   "id": "9cc3852e",
   "metadata": {},
   "source": [
    "## 0. Specify Filepaths and Preprocessing"
   ]
  },
  {
   "cell_type": "code",
   "execution_count": 2,
   "id": "7f31e832",
   "metadata": {},
   "outputs": [],
   "source": [
    "OAK_FP = '/oak/stanford/groups/deho/building_compliance/'\n",
    "OUTPUT_FP = os.path.join(OAK_FP, 'outputs/Population-Estimates/final/')\n",
    "cf_fp = '/oak/stanford/groups/deho/building_compliance/CloudFactory/'\n",
    "plots_fp = os.path.join(OAK_FP, 'outputs/journal_plots/')"
   ]
  },
  {
   "cell_type": "code",
   "execution_count": 3,
   "id": "13192193",
   "metadata": {},
   "outputs": [],
   "source": [
    "df_processed = pd.read_csv(os.path.join(cf_fp, 'results', 'Batch3', 'processed_buildings.csv'), dtype={'apn': str})\n",
    "\n",
    "wgs84 = pyproj.CRS('EPSG:4326')\n",
    "utm = pyproj.CRS('EPSG:26910')\n",
    "project = pyproj.Transformer.from_crs(wgs84, utm, always_xy=True).transform\n",
    "\n",
    "df_processed['2016_a'] = df_processed['2016'].apply(lambda x: shapely.ops.transform(project, \n",
    "                                                                                    shapely.wkt.loads(x)).area if not pd.isna(x) else x)\n",
    "df_processed['2020_a'] = df_processed['2020'].apply(lambda x: shapely.ops.transform(project, \n",
    "                                                                                    shapely.wkt.loads(x)).area if not pd.isna(x) else x)\n",
    "subset = df_processed[(df_processed['2016_a'] >= 11.15) | (df_processed['2020_a'] >= 11.15)]"
   ]
  },
  {
   "cell_type": "markdown",
   "id": "45037fd8",
   "metadata": {},
   "source": [
    "## Fig 1 (left): Population Estimate"
   ]
  },
  {
   "cell_type": "code",
   "execution_count": 4,
   "id": "b50fe57b",
   "metadata": {},
   "outputs": [],
   "source": [
    "bins = pd.read_csv(os.path.join(OUTPUT_FP, '../outputs/Strata/sj_parcels_bins.csv'))\n",
    "bins_sample = pd.read_csv(os.path.join(OUTPUT_FP, '../CloudFactory/Iteration3/complete_sampled_APNs.csv'))"
   ]
  },
  {
   "cell_type": "code",
   "execution_count": 5,
   "id": "4e2fffd0",
   "metadata": {},
   "outputs": [],
   "source": [
    "bin_n = bins['Bin'].value_counts()\n",
    "bin_sample_n = bins_sample['Bin'].value_counts()\n",
    "\n",
    "unique_bins = list(bins['Bin'].unique())\n",
    "sampled_unique_bins = list(bins_sample['Bin'].unique())\n",
    "\n",
    "merged = subset[['apn', '2016', '2020']].merge(bins, left_on='apn', right_on='APN', how='left').drop(columns=['apn'])"
   ]
  },
  {
   "cell_type": "code",
   "execution_count": 6,
   "id": "45457df5",
   "metadata": {},
   "outputs": [
    {
     "name": "stderr",
     "output_type": "stream",
     "text": [
      "<ipython-input-6-32856b769587>:13: SettingWithCopyWarning: \n",
      "A value is trying to be set on a copy of a slice from a DataFrame.\n",
      "Try using .loc[row_indexer,col_indexer] = value instead\n",
      "\n",
      "See the caveats in the documentation: https://pandas.pydata.org/pandas-docs/stable/user_guide/indexing.html#returning-a-view-versus-a-copy\n",
      "  sub[year] = sub[year].apply(lambda x: 1 if not pd.isna(x) else 0)\n"
     ]
    }
   ],
   "source": [
    "results = {}\n",
    "results_df = pd.DataFrame(columns=['bin', 'year', 't', 'ybar', 'N', 'n', 'var', 'tot_var', 'high'])\n",
    "for year in ['2016', '2020']:\n",
    "    total = 0\n",
    "    total_var = 0\n",
    "    \n",
    "    for b in unique_bins:\n",
    "        if b in sampled_unique_bins: # we drop 2 bins\n",
    "            high_income = False\n",
    "            income = b.split('_')[1].split('-')[0]\n",
    "            \n",
    "            sub = merged[merged['Bin'] == b]\n",
    "            sub[year] = sub[year].apply(lambda x: 1 if not pd.isna(x) else 0)\n",
    "            sub = sub[[year, 'APN']].groupby('APN').agg(list)\n",
    "            sub[year] = sub[year].apply(lambda x: np.sum(x))\n",
    "\n",
    "            n_j = bin_sample_n[b]\n",
    "            N_j = bin_n[b]\n",
    "\n",
    "            y_avg_j = sub[year].sum()/n_j\n",
    "            t_j = N_j*y_avg_j\n",
    "            if n_j == 1:\n",
    "                n_j += 1 # safeguard against div by 0 error\n",
    "            var_j = np.sum(np.square(np.array(sub[year].tolist() + \\\n",
    "                                          [0] * (n_j-len(sub))) - y_avg_j)) / (n_j - 1)\n",
    "            total_var_j = (1-(n_j/N_j))*N_j*N_j*(var_j/n_j)\n",
    "\n",
    "            total += t_j\n",
    "            total_var += total_var_j\n",
    "            \n",
    "            results_df.loc[len(results_df)] = [b, year, t_j, y_avg_j, N_j, n_j, var_j, total_var_j, high_income]\n",
    "            \n",
    "    results[year] = {'t': total, 'var': total_var}\n"
   ]
  },
  {
   "cell_type": "code",
   "execution_count": 7,
   "id": "22bc83b9",
   "metadata": {},
   "outputs": [],
   "source": [
    "results_df.to_csv(os.path.join(OUTPUT_FP, 'batch3', 'bin_estimates.csv'), index=False)"
   ]
  },
  {
   "cell_type": "code",
   "execution_count": 11,
   "id": "ab182617",
   "metadata": {},
   "outputs": [],
   "source": [
    "def plot_q1_left(results, savefig):\n",
    "    x = list(results.keys())\n",
    "    t = [results['2016']['t'], results['2020']['t']]\n",
    "    var = [results['2016']['var'], results['2020']['var']]\n",
    "    CI = np.sqrt(var)*1.96\n",
    "    \n",
    "    plt.figure(figsize=(8, 6))\n",
    "    plt.bar(x, t, yerr=CI, align='center', ecolor='black', capsize=10)\n",
    "    plt.xlabel('Year')\n",
    "    plt.ylabel('Est. number of ADUs')\n",
    "    plt.ylim([15000, 25000])\n",
    "    plt.savefig(savefig, bbox_inches='tight')\n",
    "    plt.show()"
   ]
  },
  {
   "cell_type": "code",
   "execution_count": 12,
   "id": "2a40e0a4",
   "metadata": {},
   "outputs": [
    {
     "data": {
      "image/png": "[encoded data removed]",
      "text/plain": [
       "<Figure size 800x600 with 1 Axes>"
      ]
     },
     "metadata": {},
     "output_type": "display_data"
    }
   ],
   "source": [
    "plot_q1_left(results, os.path.join(plots_fp, 'q1_left.pdf'))"
   ]
  },
  {
   "cell_type": "markdown",
   "id": "73b5b6ed",
   "metadata": {},
   "source": [
    "## Fig 1 (right): Bootstrap Test (t20-t16 > 0)"
   ]
  },
  {
   "cell_type": "markdown",
   "id": "255e0121",
   "metadata": {},
   "source": [
    "Helper functions"
   ]
  },
  {
   "cell_type": "code",
   "execution_count": 13,
   "id": "68ad6a34",
   "metadata": {},
   "outputs": [],
   "source": [
    "def make_global(bins_all_res, bins_sample, merged):\n",
    "    global bins_all_res_global\n",
    "    global merged_global\n",
    "    global bins_sample_global\n",
    "\n",
    "    bins_all_res_global = bins_all_res\n",
    "    merged_global = merged\n",
    "    bins_sample_global = bins_sample\n",
    "    \n",
    "def driver(i):\n",
    "    bin_n = bins_all_res_global['Bin'].value_counts()\n",
    "    bin_sample_n = bins_sample_global['Bin'].value_counts()\n",
    "    unique_bins = list(bins_all_res_global['Bin'].unique())\n",
    "    sampled_unique_bins = list(bins_sample_global['Bin'].unique())\n",
    "    \n",
    "    results = {}\n",
    "    for year in ['2016', '2020']:\n",
    "\n",
    "        total = 0\n",
    "        total_var = 0\n",
    "\n",
    "        for b in unique_bins:\n",
    "            if b in sampled_unique_bins: # we drop 2 bins\n",
    "                # SAMPLE WITH REPLACEMENT HERE\n",
    "                np.random.seed((os.getpid() * int(time.time())) % 123456789)\n",
    "                bootstrap = bins_sample_global[bins_sample_global['Bin'] == b].sample(frac=1.0, replace=True)\n",
    "                value_counts = bootstrap['APN'].value_counts()\n",
    "\n",
    "                overlap = list(set(bootstrap['APN'].unique()) & set(merged_global['APN'].unique()))\n",
    "                overlap_counts = value_counts.loc[overlap]\n",
    "                sub = pd.DataFrame(columns=merged_global.columns)\n",
    "\n",
    "                for idx, val in overlap_counts.iteritems():\n",
    "                    for i in range(val):\n",
    "                        sub.loc[len(sub)] = merged_global[merged_global['APN'] == idx].iloc[0].tolist()\n",
    "\n",
    "                sub[year] = sub[year].apply(lambda x: 1 if not pd.isna(x) else 0)\n",
    "                sub = sub[[year, 'APN']].groupby('APN').agg(list)\n",
    "                sub[year] = sub[year].apply(lambda x: np.sum(x))\n",
    "\n",
    "                n_j = bin_sample_n[b]\n",
    "                N_j = bin_n[b]\n",
    "\n",
    "                y_avg_j = sub[year].sum()/n_j\n",
    "                t_j = N_j*y_avg_j\n",
    "                if n_j == 1:\n",
    "                    n_j += 1 # safeguard against div by 0 error\n",
    "                var_j = np.sum(np.square(np.array(sub[year].tolist() + \\\n",
    "                                              [0] * (n_j-len(sub))) - y_avg_j)) / (n_j - 1)\n",
    "                total_var_j = (1-(n_j/N_j))*N_j*N_j*(var_j/n_j)\n",
    "\n",
    "                total += t_j\n",
    "                total_var += total_var_j\n",
    "\n",
    "        results[year] = {'t': total, 'var': total_var}\n",
    "\n",
    "    return results['2020']['t'] - results['2016']['t']\n",
    "\n",
    "def bootstrap_mp(subset, bins_all_res, bins_sample, n):\n",
    "    \n",
    "    merged = subset[['apn', '2016', '2020']].merge(bins_all_res, left_on='apn', \n",
    "                                                   right_on='APN', how='left').drop(columns=['apn'])\n",
    "    \n",
    "    nprocs = mp.cpu_count()\n",
    "\n",
    "    p = mp.Pool(processes=nprocs, initializer=make_global, \n",
    "                initargs=(bins_all_res, bins_sample, merged, ))\n",
    "    \n",
    "#     result = p.map(driver, range(n))\n",
    "    \n",
    "    result = []\n",
    "    for x in tqdm(p.imap_unordered(driver, range(n)), total=n):\n",
    "        result.append(x)\n",
    "    \n",
    "    return result\n",
    "\n",
    "def two_sided_test(l, p):\n",
    "    l.sort()\n",
    "    ci = [l[int(p/2*len(l))], l[len(l) - int(p/2*len(l))]]\n",
    "    mean = np.mean(l)\n",
    "    return mean, ci\n",
    "\n",
    "def one_sided_test(l, p):\n",
    "    l.sort()\n",
    "    lb = l[int(p*len(l))]\n",
    "    return lb"
   ]
  },
  {
   "cell_type": "markdown",
   "id": "66dbe03b",
   "metadata": {},
   "source": [
    "**The folloiwng code takes 2++ hrs, please DON'T run**"
   ]
  },
  {
   "cell_type": "code",
   "execution_count": 22,
   "id": "3e1d3d8f",
   "metadata": {},
   "outputs": [
    {
     "name": "stderr",
     "output_type": "stream",
     "text": [
      "100%|██████████| 5000/5000 [2:21:48<00:00,  1.70s/it]  \n"
     ]
    }
   ],
   "source": [
    "n = 5000\n",
    "diff_n = bootstrap_mp(subset, bins, bins_sample, n)\n",
    "\n",
    "with open(os.path.join(OUTPUT_FP, \"bootstrap_q1.p\"), \"wb\") as output_file:\n",
    "    pickle.dump(diff_n, output_file)"
   ]
  },
  {
   "cell_type": "markdown",
   "id": "196fea2b",
   "metadata": {},
   "source": [
    "**START HERE INSTEAD**"
   ]
  },
  {
   "cell_type": "code",
   "execution_count": 4,
   "id": "1b77f285",
   "metadata": {},
   "outputs": [],
   "source": [
    "with open(os.path.join(OUTPUT_FP, \"bootstrap_q1.p\"), \"rb\") as output_file:\n",
    "    diff_n = pickle.load(output_file)"
   ]
  },
  {
   "cell_type": "code",
   "execution_count": 88,
   "id": "64c7ce70",
   "metadata": {},
   "outputs": [
    {
     "data": {
      "image/png": "[encoded data removed]",
      "text/plain": [
       "<Figure size 800x600 with 1 Axes>"
      ]
     },
     "metadata": {},
     "output_type": "display_data"
    }
   ],
   "source": [
    "matplotlib.rcParams.update({'font.size': 20})\n",
    "plt.figure(figsize=(8, 6))\n",
    "plt.hist(diff_n, bins=30, density=True)\n",
    "plt.axvline(x=0, linestyle='--', color='r')\n",
    "plt.text(-450, 0.00075, f'$p=0.003$', ha='center', va='center', size='15', color='r')\n",
    "plt.xlabel('$Y^{20}-Y^{16}$ (n=5,000)')\n",
    "plt.ylabel('Density')\n",
    "plt.yticks([0.0000, 0.0003, 0.0006])\n",
    "plt.savefig(os.path.join(plot_fp, 'q1_right.pdf'), bbox_inches='tight')\n",
    "plt.show()"
   ]
  },
  {
   "cell_type": "code",
   "execution_count": 7,
   "id": "e4d568c3",
   "metadata": {},
   "outputs": [
    {
     "data": {
      "text/plain": [
       "(1527.095221340588, [472.1294420752529, 2571.4674599569407])"
      ]
     },
     "execution_count": 7,
     "metadata": {},
     "output_type": "execute_result"
    }
   ],
   "source": [
    "two_sided_test(diff_n, 0.05)"
   ]
  },
  {
   "cell_type": "code",
   "execution_count": 9,
   "id": "4344c43f",
   "metadata": {},
   "outputs": [
    {
     "data": {
      "text/plain": [
       "652.6931007592175"
      ]
     },
     "execution_count": 9,
     "metadata": {},
     "output_type": "execute_result"
    }
   ],
   "source": [
    "one_sided_test(diff_n, 0.05)"
   ]
  }
 ],
 "metadata": {
  "kernelspec": {
   "display_name": "Python 3",
   "language": "python",
   "name": "python3"
  },
  "language_info": {
   "codemirror_mode": {
    "name": "ipython",
    "version": 3
   },
   "file_extension": ".py",
   "mimetype": "text/x-python",
   "name": "python",
   "nbconvert_exporter": "python",
   "pygments_lexer": "ipython3",
   "version": "3.8.10"
  }
 },
 "nbformat": 4,
 "nbformat_minor": 5
}
