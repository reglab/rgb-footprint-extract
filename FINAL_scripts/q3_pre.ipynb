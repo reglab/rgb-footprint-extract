{
 "cells": [
  {
   "cell_type": "code",
   "execution_count": 1,
   "id": "0fb32a59",
   "metadata": {},
   "outputs": [],
   "source": [
    "import geopandas as gpd\n",
    "import pandas as pd\n",
    "import numpy as np\n",
    "import os\n",
    "import shapely.wkt\n",
    "import pyproj\n",
    "from pyproj import Geod\n",
    "import shapely\n",
    "from shapely.geometry import box, Polygon, Point\n",
    "from shapely.ops import orient\n",
    "from tqdm import tqdm\n",
    "import matplotlib.pyplot as plt\n",
    "import seaborn as sns\n",
    "import multiprocessing as mp\n",
    "import time"
   ]
  },
  {
   "cell_type": "code",
   "execution_count": 2,
   "id": "7f31e832",
   "metadata": {},
   "outputs": [],
   "source": [
    "OAK_FP = '/oak/stanford/groups/deho/building_compliance/'\n",
    "OUTPUT_FP = os.path.join(OAK_FP, 'outputs/Population-Estimates/outputs/')\n",
    "cf_fp = '/oak/stanford/groups/deho/building_compliance/CloudFactory/'\n",
    "fp = '/oak/stanford/groups/deho/building_compliance/outputs/Population-Estimates/final/'"
   ]
  },
  {
   "cell_type": "code",
   "execution_count": 3,
   "id": "8bf1c09b",
   "metadata": {},
   "outputs": [],
   "source": [
    "df_processed = pd.read_csv(os.path.join(cf_fp, 'results', 'Batch3', 'processed_buildings.csv'), \n",
    "                           dtype={'apn': str})\n",
    "\n",
    "subset = df_processed[(df_processed['2016_a'] >= 11.15) | (df_processed['2020_a'] >= 11.15)]"
   ]
  },
  {
   "cell_type": "markdown",
   "id": "5cd65b8c",
   "metadata": {},
   "source": [
    "## Merge with sampling bins"
   ]
  },
  {
   "cell_type": "code",
   "execution_count": 5,
   "id": "b50fe57b",
   "metadata": {},
   "outputs": [],
   "source": [
    "bins = pd.read_csv(os.path.join(OUTPUT_FP, 'Strata/sj_parcels_bins.csv'))\n",
    "bins_sample = pd.read_csv(os.path.join(OUTPUT_FP, '../CloudFactory/Iteration1/sampled_APNs_bins.csv'))\n",
    "bins_sample = pd.read_csv(os.path.join(OUTPUT_FP, '../CloudFactory/Iteration3/complete_sampled_APNs.csv'))"
   ]
  },
  {
   "cell_type": "code",
   "execution_count": 6,
   "id": "189c5777",
   "metadata": {},
   "outputs": [],
   "source": [
    "bins_sample['Bin'] = bins_sample['Bin'].apply(lambda x: x.split('.')[0])"
   ]
  },
  {
   "cell_type": "markdown",
   "id": "c26a6a04",
   "metadata": {},
   "source": [
    "## 1. Bootstrap CIs (parallelized)\n",
    "\n",
    "Define helper functions"
   ]
  },
  {
   "cell_type": "code",
   "execution_count": 6,
   "id": "fd2d12cb",
   "metadata": {},
   "outputs": [],
   "source": [
    "def make_global(bins_all_res, bins_sample, merged, col):\n",
    "    global bins_all_res_global\n",
    "    global merged_global\n",
    "    global bins_sample_global\n",
    "    global col_global\n",
    "\n",
    "    bins_all_res_global = bins_all_res\n",
    "    merged_global = merged\n",
    "    bins_sample_global = bins_sample\n",
    "    col_global = col\n",
    "    \n",
    "def driver(i):\n",
    "    bin_n = bins_all_res_global['Bin'].value_counts()\n",
    "    bin_sample_n = bins_sample_global['Bin'].value_counts()\n",
    "    unique_bins = list(bins_all_res_global['Bin'].unique())\n",
    "    sampled_unique_bins = list(bins_sample_global['Bin'].unique())\n",
    "\n",
    "    results_df = pd.DataFrame(columns=['bin', 't', 'ybar', 'N', 'n', 'var', 'tot_var'])\n",
    "    for b in unique_bins:\n",
    "        if b in sampled_unique_bins: # we drop 2 bins\n",
    "            np.random.seed((os.getpid() * int(time.time())) % 123456789)\n",
    "            bootstrap = bins_sample[bins_sample['Bin'] == b].sample(frac=1.0, replace=True)\n",
    "            value_counts = bootstrap['APN'].value_counts()\n",
    "\n",
    "            overlap = list(set(bootstrap['APN'].unique()) & set(merged_global['APN'].unique()))\n",
    "            overlap_counts = value_counts.loc[overlap]\n",
    "            sub = pd.DataFrame(columns=merged_global.columns)\n",
    "\n",
    "            for idx, val in overlap_counts.iteritems():\n",
    "                for i in range(val):\n",
    "                    sub.loc[len(sub)] = merged_global[merged_global['APN'] == idx].iloc[0].tolist()\n",
    "\n",
    "            sub = sub[[col_global, 'APN']].groupby('APN').agg(list)\n",
    "            sub[col_global] = sub[col_global].apply(lambda x: np.sum(x))\n",
    "\n",
    "            n_j = bin_sample_n[b]\n",
    "            N_j = bin_n[b]\n",
    "\n",
    "            y_avg_j = sub[col_global].sum()/n_j\n",
    "            t_j = N_j*y_avg_j\n",
    "            if n_j == 1:\n",
    "                n_j += 1 # safeguard against div by 0 error\n",
    "            var_j = np.sum(np.square(np.array(sub[col_global].tolist() + \\\n",
    "                                          [0] * (n_j-len(sub))) - y_avg_j)) / (n_j - 1)\n",
    "            total_var_j = (1-(n_j/N_j))*N_j*N_j*(var_j/n_j)\n",
    "\n",
    "#             t += t_j\n",
    "#             total_var += total_var_j\n",
    "            results_df.loc[len(results_df)] = [b, t_j, y_avg_j, N_j, n_j, var_j, total_var_j]\n",
    "\n",
    "    return results_df\n",
    "\n",
    "def bootstrap_mp(subset, bins_all_res, bins_sample, n, col):\n",
    "    \n",
    "    merged = subset[['apn', '2016', '2020', 'change', \n",
    "                 'construction', 'change_area1.2']].merge(bins_all_res, left_on='apn', \n",
    "                                                       right_on='APN', how='left').drop(columns=['apn'])\n",
    "    \n",
    "    nprocs = mp.cpu_count()\n",
    "    \n",
    "    \n",
    "    p = mp.Pool(processes=nprocs, initializer=make_global, \n",
    "                initargs=(bins_all_res, bins_sample, merged, col, ))\n",
    "    \n",
    "    results_df = pd.DataFrame(columns=['bin', 't', 'ybar', 'N', 'n', 'var', 'tot_var'])\n",
    "    for x in tqdm(p.imap_unordered(driver, range(n)), total=n):\n",
    "        results_df = pd.concat([results_df, x])\n",
    "    \n",
    "    return results_df"
   ]
  },
  {
   "cell_type": "markdown",
   "id": "d3092685",
   "metadata": {},
   "source": [
    "**IF RUNNING: save should be FALSE**"
   ]
  },
  {
   "cell_type": "code",
   "execution_count": null,
   "id": "679c92b5",
   "metadata": {},
   "outputs": [],
   "source": [
    "save = False"
   ]
  },
  {
   "cell_type": "code",
   "execution_count": 43,
   "id": "ead33a02",
   "metadata": {},
   "outputs": [
    {
     "name": "stderr",
     "output_type": "stream",
     "text": [
      "100%|██████████| 1000/1000 [27:46<00:00,  1.67s/it]\n"
     ]
    }
   ],
   "source": [
    "col = 'construction'\n",
    "results_df = bootstrap_mp(subset, bins, bins_sample, 1000, col)\n",
    "\n",
    "if save:\n",
    "    results_df.to_csv(os.path.join(fp, 'batch3', f'bin_estimates_boostrap_{col}.csv'), index=False)"
   ]
  },
  {
   "cell_type": "code",
   "execution_count": 44,
   "id": "74742c69",
   "metadata": {},
   "outputs": [
    {
     "name": "stderr",
     "output_type": "stream",
     "text": [
      "100%|██████████| 1000/1000 [28:11<00:00,  1.69s/it]\n"
     ]
    }
   ],
   "source": [
    "col = 'change'\n",
    "results_df = bootstrap_mp(subset, bins, bins_sample, 1000, col)\n",
    "\n",
    "if save:\n",
    "    results_df.to_csv(os.path.join(fp, 'batch3', f'bin_estimates_boostrap_{col}.csv'), index=False)"
   ]
  },
  {
   "cell_type": "code",
   "execution_count": 45,
   "id": "3cda6e79",
   "metadata": {},
   "outputs": [
    {
     "name": "stderr",
     "output_type": "stream",
     "text": [
      "100%|██████████| 1000/1000 [27:48<00:00,  1.67s/it]\n"
     ]
    }
   ],
   "source": [
    "col = 'change_area1.2'\n",
    "results_df = bootstrap_mp(subset, bins, bins_sample, 1000, col)\n",
    "\n",
    "if save:\n",
    "    results_df.to_csv(os.path.join(fp, 'batch3', f'bin_estimates_boostrap_{col}.csv'), index=False)"
   ]
  },
  {
   "cell_type": "markdown",
   "id": "87ea0068",
   "metadata": {},
   "source": [
    "## 2. PopEstimate CIs (not parallelized)"
   ]
  },
  {
   "cell_type": "code",
   "execution_count": 48,
   "id": "47b2d667",
   "metadata": {},
   "outputs": [],
   "source": [
    "bin_n = bins['Bin'].value_counts()\n",
    "bin_sample_n = bins_sample['Bin'].value_counts()\n",
    "\n",
    "unique_bins = list(bins['Bin'].unique())\n",
    "sampled_unique_bins = list(bins_sample['Bin'].unique())\n",
    "\n",
    "merged = subset[['apn', '2016', '2020', 'change', \n",
    "                 'construction', 'change_area1.2']].merge(bins, left_on='apn', \n",
    "                                                       right_on='APN', how='left').drop(columns=['apn'])"
   ]
  },
  {
   "cell_type": "code",
   "execution_count": 46,
   "id": "6ef38af9",
   "metadata": {},
   "outputs": [],
   "source": [
    "def run_popestimate(merged, col, save_df=None):\n",
    "    results_df = pd.DataFrame(columns=['bin', 't', 'ybar', 'N', 'n', 'var', 'tot_var'])\n",
    "    t = 0\n",
    "    total_var = 0\n",
    "    t_list = []\n",
    "    for b in unique_bins:\n",
    "        if b in sampled_unique_bins: # we drop 2 bins\n",
    "            sub = merged[merged['Bin'] == b]\n",
    "            sub = sub[[col, 'APN']].groupby('APN').agg(list)\n",
    "            sub[col] = sub[col].apply(lambda x: np.sum(x))\n",
    "\n",
    "            n_j = bin_sample_n[b]\n",
    "            N_j = bin_n[b]\n",
    "\n",
    "            y_avg_j = sub[col].sum()/n_j\n",
    "            t_j = N_j*y_avg_j\n",
    "            if n_j == 1:\n",
    "                n_j += 1 # safeguard against div by 0 error\n",
    "            var_j = np.sum(np.square(np.array(sub[col].tolist() + \\\n",
    "                                          [0] * (n_j-len(sub))) - y_avg_j)) / (n_j - 1)\n",
    "            total_var_j = (1-(n_j/N_j))*N_j*N_j*(var_j/n_j)\n",
    "            t_list.append(t_j)\n",
    "            t += t_j\n",
    "            total_var += total_var_j\n",
    "            results_df.loc[len(results_df)] = [b, t_j, y_avg_j, N_j, n_j, var_j, total_var_j]\n",
    "\n",
    "    if save_df is not None:\n",
    "        results_df.to_csv(save_df, index=False)\n",
    "        \n",
    "    return t, total_var"
   ]
  },
  {
   "cell_type": "code",
   "execution_count": 54,
   "id": "45c93576",
   "metadata": {},
   "outputs": [],
   "source": [
    "col = 'change_area1.2'\n",
    "t, total_var = run_popestimate(merged, col, os.path.join(fp, 'batch3', f'bin_estimates_{col}.csv'))"
   ]
  },
  {
   "cell_type": "code",
   "execution_count": null,
   "id": "7d5fcee0",
   "metadata": {},
   "outputs": [],
   "source": [
    "col = 'change'\n",
    "t, total_var = run_popestimate(merged, col, os.path.join(fp, 'batch3', f'bin_estimates_{col}.csv'))"
   ]
  },
  {
   "cell_type": "code",
   "execution_count": null,
   "id": "0d4ef5db",
   "metadata": {},
   "outputs": [],
   "source": [
    "col = 'construction'\n",
    "t, total_var = run_popestimate(merged, col, os.path.join(fp, 'batch3', f'bin_estimates_{col}.csv'))"
   ]
  },
  {
   "cell_type": "code",
   "execution_count": null,
   "id": "ca41c25b",
   "metadata": {},
   "outputs": [],
   "source": []
  }
 ],
 "metadata": {
  "kernelspec": {
   "display_name": "Python 3",
   "language": "python",
   "name": "python3"
  },
  "language_info": {
   "codemirror_mode": {
    "name": "ipython",
    "version": 3
   },
   "file_extension": ".py",
   "mimetype": "text/x-python",
   "name": "python",
   "nbconvert_exporter": "python",
   "pygments_lexer": "ipython3",
   "version": "3.8.10"
  }
 },
 "nbformat": 4,
 "nbformat_minor": 5
}
