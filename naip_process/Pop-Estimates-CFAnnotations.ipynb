{
 "cells": [
  {
   "cell_type": "markdown",
   "id": "febc202b",
   "metadata": {},
   "source": [
    "# Population Estimates: Compute CBG-level estimates using existing Cloud Factory annotations\n",
    "\n",
    "We submitted ~700 tiles for CF to review prior to performing the population estimates. These tiles covered the same geographic areas for 2016, 2018 and 2020, and were sampled via random sampling stratified at the CBG-level. For this reason, although a CBG may not have been fully reviewed by CF, we assume that the 1 or 2 tiles reviewed for the CBG are representative of the small building density (number of small buildings per parcel) for the CBG. "
   ]
  },
  {
   "cell_type": "code",
   "execution_count": 1,
   "id": "255193ae",
   "metadata": {},
   "outputs": [],
   "source": [
    "import seaborn as sns\n",
    "from tqdm import tqdm\n",
    "\n",
    "import warnings\n",
    "warnings.simplefilter(action='ignore', category=FutureWarning)\n",
    "warnings.filterwarnings(\"ignore\")\n",
    "\n",
    "tqdm.pandas()"
   ]
  },
  {
   "cell_type": "code",
   "execution_count": 2,
   "id": "d87f2ff4",
   "metadata": {},
   "outputs": [],
   "source": [
    "# Import functions\n",
    "%run inference-functions.ipynb import load_data, get_bounds, assign_cbgs, visualize_tile_predvOSM, assign_cbgs_by_coverage\n",
    "%run ADU_permit_matching-polygon-pipeline.ipynb import load_sources"
   ]
  },
  {
   "cell_type": "code",
   "execution_count": 4,
   "id": "0e295730",
   "metadata": {},
   "outputs": [
    {
     "name": "stderr",
     "output_type": "stream",
     "text": [
      "100%|██████████| 3192/3192 [00:00<00:00, 7613.42it/s] \n",
      "100%|██████████| 3192/3192 [00:00<00:00, 8183.30it/s] \n",
      "100%|██████████| 3324/3324 [00:00<00:00, 7699.40it/s] \n"
     ]
    }
   ],
   "source": [
    "# Paths\n",
    "OAK_FP = '/oak/stanford/groups/deho/building_compliance/'\n",
    "SHAPEFILE_FP = '/oak/stanford/groups/deho/building_compliance/shapefiles'\n",
    "INPUT_FP = os.path.join(OAK_FP, 'outputs', 'Population-Estimates', 'inputs')\n",
    "OUTPUT_FP = os.path.join(OAK_FP, 'outputs', 'Population-Estimates', 'outputs')\n",
    "PERMIT_INPUT_FP = os.path.join(OAK_FP, 'outputs', 'Permit-Matching', 'inputs')\n",
    "SJ_RES_PARCELS_FP = os.path.join(PERMIT_INPUT_FP, 'san_jose_parcels_res.geojson')\n",
    "\n",
    "# Load sources for each year\n",
    "TIF_FP, INFERENCES_DIR, IMG_FP = load_sources()\n",
    "tile_bounds_dict_all, tiles_gdf = get_tile_dicts_all_years(oak_fp=OAK_FP, inferences_dir=INFERENCES_DIR)\n",
    "\n",
    "# * Parcels assigned to each CBG\n",
    "sj_parcels_cbgs = gpd.read_file(os.path.join(OUTPUT_FP, 'sj-parcels-res-cbgs'))\n",
    "\n",
    "# * CF annotations\n",
    "CF_LABELS = pd.read_csv(os.path.join(OAK_FP, 'CloudFactory_phase1/cf_coords.csv'))\n",
    "\n",
    "# * Income-stratified CBGs (from Pop-Estimates-Strata.ipynb)\n",
    "cbg_income_2016_SJ = gpd.read_file(os.path.join(OUTPUT_FP, 'Strata', 'cbg-income-strata'))"
   ]
  },
  {
   "cell_type": "markdown",
   "id": "80b13f27",
   "metadata": {},
   "source": [
    "## 1. Identify the universe of parcels annotated by CF"
   ]
  },
  {
   "cell_type": "code",
   "execution_count": 5,
   "id": "959cf2c0",
   "metadata": {},
   "outputs": [],
   "source": [
    "# Convert to GDF\n",
    "CF_LABELS = gpd.GeoDataFrame(\n",
    "    CF_LABELS, geometry=gpd.points_from_xy(CF_LABELS.longitude, CF_LABELS.latitude), crs='EPSG:4326')"
   ]
  },
  {
   "cell_type": "code",
   "execution_count": 6,
   "id": "82b67e5a",
   "metadata": {},
   "outputs": [],
   "source": [
    "# Collect tile names\n",
    "CF_tiles = []\n",
    "for cf_round in [1, 2]:\n",
    "    round_path = os.path.join(\n",
    "        OAK_FP, 'outputs/Temporal-Error-Analysis/Round{}/CF_Visualizations/2018'.format(cf_round))\n",
    "    round_tiles = glob.glob(os.path.join(round_path, '*.png'))\n",
    "    round_tiles = [tile.split(os.path.sep)[-1].replace('-small_2018.png', '') for tile in round_tiles]\n",
    "    CF_tiles.extend(round_tiles)"
   ]
  },
  {
   "cell_type": "code",
   "execution_count": 7,
   "id": "40c67f79",
   "metadata": {},
   "outputs": [],
   "source": [
    "# Collect tile geometries\n",
    "CF_area_coverage = tiles_gdf['2020'].copy()\n",
    "CF_area_coverage = CF_area_coverage.loc[CF_area_coverage['file'].isin(CF_tiles)]"
   ]
  },
  {
   "cell_type": "code",
   "execution_count": 8,
   "id": "667ba930",
   "metadata": {},
   "outputs": [],
   "source": [
    "# Collect associated parcels\n",
    "CF_parcels = sj_parcels_cbgs.sjoin(CF_area_coverage, how='left', predicate='intersects')\n",
    "CF_parcels = CF_parcels.loc[~CF_parcels['index_right'].isna()]\n",
    "CF_parcels.drop('index_right', axis=1, inplace=True)\n",
    "\n",
    "# Drop duplicate parcels (these are caused by parcels that belong to more than 1 tile)\n",
    "CF_parcels.drop_duplicates('APN', inplace=True)\n",
    "CF_parcels.drop('file', axis=1, inplace=True)"
   ]
  },
  {
   "cell_type": "code",
   "execution_count": 9,
   "id": "55b9ed2b",
   "metadata": {},
   "outputs": [
    {
     "data": {
      "text/plain": [
       "17973"
      ]
     },
     "execution_count": 9,
     "metadata": {},
     "output_type": "execute_result"
    }
   ],
   "source": [
    "# CF annotated 17,973 unique parcels in total, for three years\n",
    "len(CF_parcels)"
   ]
  },
  {
   "cell_type": "code",
   "execution_count": 87,
   "id": "aa261594",
   "metadata": {},
   "outputs": [
    {
     "data": {
      "text/html": [
       "<div>\n",
       "<style scoped>\n",
       "    .dataframe tbody tr th:only-of-type {\n",
       "        vertical-align: middle;\n",
       "    }\n",
       "\n",
       "    .dataframe tbody tr th {\n",
       "        vertical-align: top;\n",
       "    }\n",
       "\n",
       "    .dataframe thead th {\n",
       "        text-align: right;\n",
       "    }\n",
       "</style>\n",
       "<table border=\"1\" class=\"dataframe\">\n",
       "  <thead>\n",
       "    <tr style=\"text-align: right;\">\n",
       "      <th></th>\n",
       "      <th>GEOID</th>\n",
       "      <th>mean_density</th>\n",
       "      <th>std_density</th>\n",
       "      <th>year</th>\n",
       "    </tr>\n",
       "  </thead>\n",
       "  <tbody>\n",
       "    <tr>\n",
       "      <th>0</th>\n",
       "      <td>060855001001</td>\n",
       "      <td>0.266667</td>\n",
       "      <td>0.576239</td>\n",
       "      <td>2016</td>\n",
       "    </tr>\n",
       "    <tr>\n",
       "      <th>1</th>\n",
       "      <td>060855001002</td>\n",
       "      <td>0.714286</td>\n",
       "      <td>0.487950</td>\n",
       "      <td>2016</td>\n",
       "    </tr>\n",
       "    <tr>\n",
       "      <th>2</th>\n",
       "      <td>060855001003</td>\n",
       "      <td>0.563107</td>\n",
       "      <td>0.544057</td>\n",
       "      <td>2016</td>\n",
       "    </tr>\n",
       "    <tr>\n",
       "      <th>3</th>\n",
       "      <td>060855001004</td>\n",
       "      <td>0.241379</td>\n",
       "      <td>0.435494</td>\n",
       "      <td>2016</td>\n",
       "    </tr>\n",
       "    <tr>\n",
       "      <th>4</th>\n",
       "      <td>060855002001</td>\n",
       "      <td>0.137931</td>\n",
       "      <td>0.350931</td>\n",
       "      <td>2016</td>\n",
       "    </tr>\n",
       "    <tr>\n",
       "      <th>...</th>\n",
       "      <td>...</td>\n",
       "      <td>...</td>\n",
       "      <td>...</td>\n",
       "      <td>...</td>\n",
       "    </tr>\n",
       "    <tr>\n",
       "      <th>244</th>\n",
       "      <td>060855120473</td>\n",
       "      <td>0.000000</td>\n",
       "      <td>NaN</td>\n",
       "      <td>2020</td>\n",
       "    </tr>\n",
       "    <tr>\n",
       "      <th>245</th>\n",
       "      <td>060855120522</td>\n",
       "      <td>0.091667</td>\n",
       "      <td>0.289765</td>\n",
       "      <td>2020</td>\n",
       "    </tr>\n",
       "    <tr>\n",
       "      <th>246</th>\n",
       "      <td>060855120523</td>\n",
       "      <td>0.000000</td>\n",
       "      <td>0.000000</td>\n",
       "      <td>2020</td>\n",
       "    </tr>\n",
       "    <tr>\n",
       "      <th>247</th>\n",
       "      <td>060855120531</td>\n",
       "      <td>0.052632</td>\n",
       "      <td>0.226294</td>\n",
       "      <td>2020</td>\n",
       "    </tr>\n",
       "    <tr>\n",
       "      <th>248</th>\n",
       "      <td>060855120532</td>\n",
       "      <td>0.080569</td>\n",
       "      <td>0.272819</td>\n",
       "      <td>2020</td>\n",
       "    </tr>\n",
       "  </tbody>\n",
       "</table>\n",
       "<p>747 rows × 4 columns</p>\n",
       "</div>"
      ],
      "text/plain": [
       "            GEOID  mean_density  std_density  year\n",
       "0    060855001001      0.266667     0.576239  2016\n",
       "1    060855001002      0.714286     0.487950  2016\n",
       "2    060855001003      0.563107     0.544057  2016\n",
       "3    060855001004      0.241379     0.435494  2016\n",
       "4    060855002001      0.137931     0.350931  2016\n",
       "..            ...           ...          ...   ...\n",
       "244  060855120473      0.000000          NaN  2020\n",
       "245  060855120522      0.091667     0.289765  2020\n",
       "246  060855120523      0.000000     0.000000  2020\n",
       "247  060855120531      0.052632     0.226294  2020\n",
       "248  060855120532      0.080569     0.272819  2020\n",
       "\n",
       "[747 rows x 4 columns]"
      ]
     },
     "execution_count": 87,
     "metadata": {},
     "output_type": "execute_result"
    }
   ],
   "source": [
    "cbg_density"
   ]
  },
  {
   "cell_type": "code",
   "execution_count": 218,
   "id": "ab128d77",
   "metadata": {},
   "outputs": [],
   "source": [
    "# Compute small building density per parcel per year for each CBG\n",
    "cbg_density = pd.DataFrame()\n",
    "parcel_density = pd.DataFrame()\n",
    "for year in ['2016', '2018', '2020']:\n",
    "    parcel_density_year = CF_parcels.copy()\n",
    "    cf_labels_year = CF_LABELS.loc[CF_LABELS['year'] == int(year)]\n",
    "    \n",
    "    # Assign CF points to parcels\n",
    "    parcel_density_year = parcel_density_year.sjoin(cf_labels_year, how='left')\n",
    "    \n",
    "    # Parcel density\n",
    "    parcel_density_year = parcel_density_year.groupby(\n",
    "        ['APN', 'GEOID'])['index_right'].count().reset_index()\n",
    "    parcel_density_year['year'] = year\n",
    "    \n",
    "    # Aggregate at the CBG level (gives the mean density of the parcels reviewed by CF in a CBG)\n",
    "    cbg_density_year = parcel_density_year.groupby('GEOID').agg(\n",
    "        {'index_right': ['mean', 'std', 'count']}).reset_index()\n",
    "    cbg_density_year.columns = ['-'.join(l) if l[1] != '' else l[0] for l in cbg_density_year.columns]\n",
    "    \n",
    "    cbg_density_year.rename(columns={'index_right-mean': 'mean_density', \n",
    "                                     'index_right-std': 'std_density', \n",
    "                                    'index_right-count': 'N_parcels_sampled'}, inplace=True)\n",
    "    cbg_density_year['year'] = year\n",
    "    \n",
    "    # Append\n",
    "    cbg_density = pd.concat([cbg_density, cbg_density_year])\n",
    "    \n",
    "    parcel_density_year.rename(columns={'index_right': 'parcel_density'}, inplace=True)\n",
    "    parcel_density = pd.concat([parcel_density, parcel_density_year])"
   ]
  },
  {
   "cell_type": "code",
   "execution_count": 214,
   "id": "d23f471d",
   "metadata": {},
   "outputs": [
    {
     "data": {
      "text/html": [
       "<div>\n",
       "<style scoped>\n",
       "    .dataframe tbody tr th:only-of-type {\n",
       "        vertical-align: middle;\n",
       "    }\n",
       "\n",
       "    .dataframe tbody tr th {\n",
       "        vertical-align: top;\n",
       "    }\n",
       "\n",
       "    .dataframe thead th {\n",
       "        text-align: right;\n",
       "    }\n",
       "</style>\n",
       "<table border=\"1\" class=\"dataframe\">\n",
       "  <thead>\n",
       "    <tr style=\"text-align: right;\">\n",
       "      <th></th>\n",
       "      <th>year</th>\n",
       "      <th>neighborho</th>\n",
       "      <th>parcel_density</th>\n",
       "    </tr>\n",
       "  </thead>\n",
       "  <tbody>\n",
       "    <tr>\n",
       "      <th>0</th>\n",
       "      <td>2016</td>\n",
       "      <td>high</td>\n",
       "      <td>0.130801</td>\n",
       "    </tr>\n",
       "    <tr>\n",
       "      <th>1</th>\n",
       "      <td>2016</td>\n",
       "      <td>low</td>\n",
       "      <td>0.177642</td>\n",
       "    </tr>\n",
       "    <tr>\n",
       "      <th>2</th>\n",
       "      <td>2018</td>\n",
       "      <td>high</td>\n",
       "      <td>0.090887</td>\n",
       "    </tr>\n",
       "    <tr>\n",
       "      <th>3</th>\n",
       "      <td>2018</td>\n",
       "      <td>low</td>\n",
       "      <td>0.148351</td>\n",
       "    </tr>\n",
       "    <tr>\n",
       "      <th>4</th>\n",
       "      <td>2020</td>\n",
       "      <td>high</td>\n",
       "      <td>0.173960</td>\n",
       "    </tr>\n",
       "    <tr>\n",
       "      <th>5</th>\n",
       "      <td>2020</td>\n",
       "      <td>low</td>\n",
       "      <td>0.242229</td>\n",
       "    </tr>\n",
       "  </tbody>\n",
       "</table>\n",
       "</div>"
      ],
      "text/plain": [
       "   year neighborho  parcel_density\n",
       "0  2016       high        0.130801\n",
       "1  2016        low        0.177642\n",
       "2  2018       high        0.090887\n",
       "3  2018        low        0.148351\n",
       "4  2020       high        0.173960\n",
       "5  2020        low        0.242229"
      ]
     },
     "execution_count": 214,
     "metadata": {},
     "output_type": "execute_result"
    }
   ],
   "source": [
    "parcel_density.groupby(['year', 'neighborho'])['parcel_density'].mean().reset_index()"
   ]
  },
  {
   "cell_type": "code",
   "execution_count": 216,
   "id": "fcfadd33",
   "metadata": {},
   "outputs": [
    {
     "data": {
      "text/html": [
       "<div>\n",
       "<style scoped>\n",
       "    .dataframe tbody tr th:only-of-type {\n",
       "        vertical-align: middle;\n",
       "    }\n",
       "\n",
       "    .dataframe tbody tr th {\n",
       "        vertical-align: top;\n",
       "    }\n",
       "\n",
       "    .dataframe thead tr th {\n",
       "        text-align: left;\n",
       "    }\n",
       "</style>\n",
       "<table border=\"1\" class=\"dataframe\">\n",
       "  <thead>\n",
       "    <tr>\n",
       "      <th></th>\n",
       "      <th>year</th>\n",
       "      <th>neighborho</th>\n",
       "      <th>GEOID</th>\n",
       "      <th colspan=\"2\" halign=\"left\">parcel_density</th>\n",
       "    </tr>\n",
       "    <tr>\n",
       "      <th></th>\n",
       "      <th></th>\n",
       "      <th></th>\n",
       "      <th></th>\n",
       "      <th>mean</th>\n",
       "      <th>count</th>\n",
       "    </tr>\n",
       "  </thead>\n",
       "  <tbody>\n",
       "    <tr>\n",
       "      <th>0</th>\n",
       "      <td>2016</td>\n",
       "      <td>high</td>\n",
       "      <td>060855001002</td>\n",
       "      <td>0.714286</td>\n",
       "      <td>7</td>\n",
       "    </tr>\n",
       "    <tr>\n",
       "      <th>1</th>\n",
       "      <td>2016</td>\n",
       "      <td>high</td>\n",
       "      <td>060855002001</td>\n",
       "      <td>0.137931</td>\n",
       "      <td>29</td>\n",
       "    </tr>\n",
       "    <tr>\n",
       "      <th>2</th>\n",
       "      <td>2016</td>\n",
       "      <td>high</td>\n",
       "      <td>060855002004</td>\n",
       "      <td>0.307692</td>\n",
       "      <td>39</td>\n",
       "    </tr>\n",
       "    <tr>\n",
       "      <th>3</th>\n",
       "      <td>2016</td>\n",
       "      <td>high</td>\n",
       "      <td>060855005001</td>\n",
       "      <td>0.198020</td>\n",
       "      <td>101</td>\n",
       "    </tr>\n",
       "    <tr>\n",
       "      <th>4</th>\n",
       "      <td>2016</td>\n",
       "      <td>high</td>\n",
       "      <td>060855005002</td>\n",
       "      <td>0.441026</td>\n",
       "      <td>195</td>\n",
       "    </tr>\n",
       "    <tr>\n",
       "      <th>...</th>\n",
       "      <td>...</td>\n",
       "      <td>...</td>\n",
       "      <td>...</td>\n",
       "      <td>...</td>\n",
       "      <td>...</td>\n",
       "    </tr>\n",
       "    <tr>\n",
       "      <th>730</th>\n",
       "      <td>2020</td>\n",
       "      <td>low</td>\n",
       "      <td>060855120381</td>\n",
       "      <td>0.000000</td>\n",
       "      <td>6</td>\n",
       "    </tr>\n",
       "    <tr>\n",
       "      <th>731</th>\n",
       "      <td>2020</td>\n",
       "      <td>low</td>\n",
       "      <td>060855120421</td>\n",
       "      <td>0.000000</td>\n",
       "      <td>9</td>\n",
       "    </tr>\n",
       "    <tr>\n",
       "      <th>732</th>\n",
       "      <td>2020</td>\n",
       "      <td>low</td>\n",
       "      <td>060855120422</td>\n",
       "      <td>0.000000</td>\n",
       "      <td>3</td>\n",
       "    </tr>\n",
       "    <tr>\n",
       "      <th>733</th>\n",
       "      <td>2020</td>\n",
       "      <td>low</td>\n",
       "      <td>060855120522</td>\n",
       "      <td>0.091667</td>\n",
       "      <td>120</td>\n",
       "    </tr>\n",
       "    <tr>\n",
       "      <th>734</th>\n",
       "      <td>2020</td>\n",
       "      <td>low</td>\n",
       "      <td>060855120531</td>\n",
       "      <td>0.052632</td>\n",
       "      <td>38</td>\n",
       "    </tr>\n",
       "  </tbody>\n",
       "</table>\n",
       "<p>735 rows × 5 columns</p>\n",
       "</div>"
      ],
      "text/plain": [
       "     year neighborho         GEOID parcel_density      \n",
       "                                             mean count\n",
       "0    2016       high  060855001002       0.714286     7\n",
       "1    2016       high  060855002001       0.137931    29\n",
       "2    2016       high  060855002004       0.307692    39\n",
       "3    2016       high  060855005001       0.198020   101\n",
       "4    2016       high  060855005002       0.441026   195\n",
       "..    ...        ...           ...            ...   ...\n",
       "730  2020        low  060855120381       0.000000     6\n",
       "731  2020        low  060855120421       0.000000     9\n",
       "732  2020        low  060855120422       0.000000     3\n",
       "733  2020        low  060855120522       0.091667   120\n",
       "734  2020        low  060855120531       0.052632    38\n",
       "\n",
       "[735 rows x 5 columns]"
      ]
     },
     "execution_count": 216,
     "metadata": {},
     "output_type": "execute_result"
    }
   ],
   "source": [
    "x = parcel_density.groupby(['year', 'neighborho', 'GEOID']).agg(\n",
    "    {'parcel_density': ['mean', 'count']}).reset_index()\n",
    "x.columns = ['-'.join(l) for l in x.columns]\n",
    "x.groupby(\n",
    "    ['year', 'neighborho'])['parcel_density'].mean().reset_index()"
   ]
  },
  {
   "cell_type": "markdown",
   "id": "91c5080d",
   "metadata": {},
   "source": [
    "## 2. Aggregate at the CBG and neighborhood level"
   ]
  },
  {
   "cell_type": "code",
   "execution_count": 219,
   "id": "6512f60d",
   "metadata": {},
   "outputs": [],
   "source": [
    "# Add neighborhood type\n",
    "cbg_density = pd.merge(\n",
    "    cbg_density, cbg_income_2016_SJ[['GEOID', 'neighborho', 'geometry']], how='left', \n",
    "    validate='many_to_one')\n",
    "\n",
    "parcel_density = pd.merge(\n",
    "    parcel_density, cbg_income_2016_SJ[['GEOID', 'neighborho']], how='left', validate='many_to_one'\n",
    ")"
   ]
  },
  {
   "cell_type": "code",
   "execution_count": 220,
   "id": "545ef6ab",
   "metadata": {
    "scrolled": true
   },
   "outputs": [],
   "source": [
    "#g = sns.FacetGrid(cbg_density, row=\"year\", hue='neighborho', height=3.5, aspect=2.65)\n",
    "#g.map(sns.kdeplot, 'mean_density')\n",
    "#g.add_legend()\n",
    "#plt.show()"
   ]
  },
  {
   "cell_type": "code",
   "execution_count": 221,
   "id": "482d9c09",
   "metadata": {},
   "outputs": [],
   "source": [
    "# Add number of total parcels in each CBG\n",
    "cbg_nparcels = sj_parcels_cbgs.groupby('GEOID')['APN'].count().reset_index()\n",
    "cbg_density = pd.merge(cbg_density, cbg_nparcels, how='left', validate='many_to_one')\n",
    "cbg_density.rename(columns={'APN': 'N_parcels'}, inplace=True)"
   ]
  },
  {
   "cell_type": "code",
   "execution_count": 222,
   "id": "2999da88",
   "metadata": {},
   "outputs": [
    {
     "data": {
      "text/html": [
       "<div>\n",
       "<style scoped>\n",
       "    .dataframe tbody tr th:only-of-type {\n",
       "        vertical-align: middle;\n",
       "    }\n",
       "\n",
       "    .dataframe tbody tr th {\n",
       "        vertical-align: top;\n",
       "    }\n",
       "\n",
       "    .dataframe thead th {\n",
       "        text-align: right;\n",
       "    }\n",
       "</style>\n",
       "<table border=\"1\" class=\"dataframe\">\n",
       "  <thead>\n",
       "    <tr style=\"text-align: right;\">\n",
       "      <th></th>\n",
       "      <th>GEOID</th>\n",
       "      <th>mean_density</th>\n",
       "      <th>std_density</th>\n",
       "      <th>N_parcels_sampled</th>\n",
       "      <th>year</th>\n",
       "      <th>neighborho</th>\n",
       "      <th>geometry</th>\n",
       "      <th>N_parcels</th>\n",
       "    </tr>\n",
       "  </thead>\n",
       "  <tbody>\n",
       "    <tr>\n",
       "      <th>0</th>\n",
       "      <td>060855001001</td>\n",
       "      <td>0.266667</td>\n",
       "      <td>0.576239</td>\n",
       "      <td>105</td>\n",
       "      <td>2016</td>\n",
       "      <td>low</td>\n",
       "      <td>POLYGON ((-121.90463 37.36078, -121.90449 37.3...</td>\n",
       "      <td>144</td>\n",
       "    </tr>\n",
       "    <tr>\n",
       "      <th>1</th>\n",
       "      <td>060855001002</td>\n",
       "      <td>0.714286</td>\n",
       "      <td>0.487950</td>\n",
       "      <td>7</td>\n",
       "      <td>2016</td>\n",
       "      <td>high</td>\n",
       "      <td>POLYGON ((-121.89147 37.36290, -121.89036 37.3...</td>\n",
       "      <td>239</td>\n",
       "    </tr>\n",
       "    <tr>\n",
       "      <th>2</th>\n",
       "      <td>060855001003</td>\n",
       "      <td>0.563107</td>\n",
       "      <td>0.544057</td>\n",
       "      <td>206</td>\n",
       "      <td>2016</td>\n",
       "      <td>low</td>\n",
       "      <td>POLYGON ((-121.88918 37.35723, -121.88916 37.3...</td>\n",
       "      <td>346</td>\n",
       "    </tr>\n",
       "    <tr>\n",
       "      <th>3</th>\n",
       "      <td>060855001004</td>\n",
       "      <td>0.241379</td>\n",
       "      <td>0.435494</td>\n",
       "      <td>29</td>\n",
       "      <td>2016</td>\n",
       "      <td>low</td>\n",
       "      <td>POLYGON ((-121.90001 37.35498, -121.89936 37.3...</td>\n",
       "      <td>333</td>\n",
       "    </tr>\n",
       "    <tr>\n",
       "      <th>4</th>\n",
       "      <td>060855002001</td>\n",
       "      <td>0.137931</td>\n",
       "      <td>0.350931</td>\n",
       "      <td>29</td>\n",
       "      <td>2016</td>\n",
       "      <td>high</td>\n",
       "      <td>POLYGON ((-121.91125 37.35418, -121.91083 37.3...</td>\n",
       "      <td>331</td>\n",
       "    </tr>\n",
       "  </tbody>\n",
       "</table>\n",
       "</div>"
      ],
      "text/plain": [
       "          GEOID  mean_density  std_density  N_parcels_sampled  year  \\\n",
       "0  060855001001      0.266667     0.576239                105  2016   \n",
       "1  060855001002      0.714286     0.487950                  7  2016   \n",
       "2  060855001003      0.563107     0.544057                206  2016   \n",
       "3  060855001004      0.241379     0.435494                 29  2016   \n",
       "4  060855002001      0.137931     0.350931                 29  2016   \n",
       "\n",
       "  neighborho                                           geometry  N_parcels  \n",
       "0        low  POLYGON ((-121.90463 37.36078, -121.90449 37.3...        144  \n",
       "1       high  POLYGON ((-121.89147 37.36290, -121.89036 37.3...        239  \n",
       "2        low  POLYGON ((-121.88918 37.35723, -121.88916 37.3...        346  \n",
       "3        low  POLYGON ((-121.90001 37.35498, -121.89936 37.3...        333  \n",
       "4       high  POLYGON ((-121.91125 37.35418, -121.91083 37.3...        331  "
      ]
     },
     "execution_count": 222,
     "metadata": {},
     "output_type": "execute_result"
    }
   ],
   "source": [
    "cbg_density.head()"
   ]
  },
  {
   "cell_type": "code",
   "execution_count": 223,
   "id": "acd8aa2b",
   "metadata": {},
   "outputs": [],
   "source": [
    "# Add percentage of sampled parcels\n",
    "cbg_density['perc_sampled'] = cbg_density['N_parcels_sampled'] / cbg_density['N_parcels']"
   ]
  },
  {
   "cell_type": "code",
   "execution_count": 225,
   "id": "f41fcbb7",
   "metadata": {},
   "outputs": [],
   "source": [
    "# Compute total sampled parcels per year/neighborhood\n",
    "sampled_parcels = cbg_density.fillna(-1).groupby(['year', 'neighborho'])['N_parcels_sampled'].sum().reset_index()"
   ]
  },
  {
   "cell_type": "code",
   "execution_count": 226,
   "id": "b9be5e4f",
   "metadata": {},
   "outputs": [
    {
     "data": {
      "text/html": [
       "<div>\n",
       "<style scoped>\n",
       "    .dataframe tbody tr th:only-of-type {\n",
       "        vertical-align: middle;\n",
       "    }\n",
       "\n",
       "    .dataframe tbody tr th {\n",
       "        vertical-align: top;\n",
       "    }\n",
       "\n",
       "    .dataframe thead th {\n",
       "        text-align: right;\n",
       "    }\n",
       "</style>\n",
       "<table border=\"1\" class=\"dataframe\">\n",
       "  <thead>\n",
       "    <tr style=\"text-align: right;\">\n",
       "      <th></th>\n",
       "      <th>year</th>\n",
       "      <th>neighborho</th>\n",
       "      <th>N_parcels_sampled</th>\n",
       "    </tr>\n",
       "  </thead>\n",
       "  <tbody>\n",
       "    <tr>\n",
       "      <th>0</th>\n",
       "      <td>2016</td>\n",
       "      <td>-1</td>\n",
       "      <td>164</td>\n",
       "    </tr>\n",
       "    <tr>\n",
       "      <th>1</th>\n",
       "      <td>2016</td>\n",
       "      <td>high</td>\n",
       "      <td>8318</td>\n",
       "    </tr>\n",
       "    <tr>\n",
       "      <th>2</th>\n",
       "      <td>2016</td>\n",
       "      <td>low</td>\n",
       "      <td>9491</td>\n",
       "    </tr>\n",
       "    <tr>\n",
       "      <th>3</th>\n",
       "      <td>2018</td>\n",
       "      <td>-1</td>\n",
       "      <td>164</td>\n",
       "    </tr>\n",
       "    <tr>\n",
       "      <th>4</th>\n",
       "      <td>2018</td>\n",
       "      <td>high</td>\n",
       "      <td>8318</td>\n",
       "    </tr>\n",
       "    <tr>\n",
       "      <th>5</th>\n",
       "      <td>2018</td>\n",
       "      <td>low</td>\n",
       "      <td>9491</td>\n",
       "    </tr>\n",
       "    <tr>\n",
       "      <th>6</th>\n",
       "      <td>2020</td>\n",
       "      <td>-1</td>\n",
       "      <td>164</td>\n",
       "    </tr>\n",
       "    <tr>\n",
       "      <th>7</th>\n",
       "      <td>2020</td>\n",
       "      <td>high</td>\n",
       "      <td>8318</td>\n",
       "    </tr>\n",
       "    <tr>\n",
       "      <th>8</th>\n",
       "      <td>2020</td>\n",
       "      <td>low</td>\n",
       "      <td>9491</td>\n",
       "    </tr>\n",
       "  </tbody>\n",
       "</table>\n",
       "</div>"
      ],
      "text/plain": [
       "   year neighborho  N_parcels_sampled\n",
       "0  2016         -1                164\n",
       "1  2016       high               8318\n",
       "2  2016        low               9491\n",
       "3  2018         -1                164\n",
       "4  2018       high               8318\n",
       "5  2018        low               9491\n",
       "6  2020         -1                164\n",
       "7  2020       high               8318\n",
       "8  2020        low               9491"
      ]
     },
     "execution_count": 226,
     "metadata": {},
     "output_type": "execute_result"
    }
   ],
   "source": [
    "sampled_parcels"
   ]
  },
  {
   "cell_type": "code",
   "execution_count": 228,
   "id": "f1782618",
   "metadata": {},
   "outputs": [],
   "source": [
    "# Compute weighted mean density and weighted total small buildings\n",
    "#cbg_density['weighted_mean_density'] = cbg_density.apply(\n",
    "#    lambda row: row['mean_density'] * row['N_parcels'] / sampled_parcels.loc[], \n",
    "#    axis=1)\n",
    "\n",
    "# Before\n",
    "#cbg_density['weighted_mean_density_sampled'] = cbg_density.apply(\n",
    "#    lambda row: row['mean_density'] * row['N_parcels_sampled'] / cbg_density.groupby(['year'])['N_parcels'].sum()[row['year']], \n",
    "#    axis=1)\n",
    "\n",
    "cbg_density['weighted_mean_density_sampled'] = cbg_density.apply(\n",
    "    lambda row: 0 if pd.isnull(row['neighborho']) else row['mean_density'] * row['N_parcels_sampled'] / sampled_parcels.loc[\n",
    "        (sampled_parcels['year'] == row['year']) & (\n",
    "            sampled_parcels['neighborho'] == row['neighborho'])].iloc[0]['N_parcels_sampled'], \n",
    "    axis=1)"
   ]
  },
  {
   "cell_type": "code",
   "execution_count": 229,
   "id": "b8028607",
   "metadata": {},
   "outputs": [],
   "source": [
    "# Weighted mean and SD estimates\n",
    "aggregates = cbg_density.groupby(['year', 'neighborho']).agg(\n",
    "    {'weighted_mean_density_sampled': ['sum']}).reset_index()\n",
    "aggregates.columns = ['-'.join(l) for l in aggregates.columns]"
   ]
  },
  {
   "cell_type": "code",
   "execution_count": 230,
   "id": "a090db17",
   "metadata": {},
   "outputs": [
    {
     "data": {
      "image/png": "[encoded data removed]",
      "text/plain": [
       "<Figure size 1278.61x650 with 3 Axes>"
      ]
     },
     "metadata": {},
     "output_type": "display_data"
    }
   ],
   "source": [
    "g = sns.FacetGrid(aggregates, col=\"year-\",  height=6.5, aspect=.65)\n",
    "#g.map(sns.barplot, 'neighborho-', 'weighted_total-sum')\n",
    "g.map(sns.barplot, 'neighborho-', 'weighted_mean_density_sampled-sum')\n",
    "g.add_legend()\n",
    "plt.show()"
   ]
  },
  {
   "cell_type": "code",
   "execution_count": 121,
   "id": "38ac8ea6",
   "metadata": {},
   "outputs": [
    {
     "data": {
      "image/png": "[encoded data removed]",
      "text/plain": [
       "<Figure size 640x480 with 1 Axes>"
      ]
     },
     "metadata": {},
     "output_type": "display_data"
    }
   ],
   "source": [
    "cbg_density['perc_sampled'].hist()\n",
    "plt.show()"
   ]
  },
  {
   "cell_type": "code",
   "execution_count": 110,
   "id": "6ccb53b2",
   "metadata": {},
   "outputs": [],
   "source": [
    "cbg_density['pop_weights'] = cbg_density.apply(\n",
    "    lambda row: row['APN_x'] / cbg_density.groupby('year')['APN_x'].sum()[row['year']], axis=1)"
   ]
  },
  {
   "cell_type": "code",
   "execution_count": 111,
   "id": "334027ba",
   "metadata": {},
   "outputs": [
    {
     "data": {
      "image/png": "[encoded data removed]",
      "text/plain": [
       "<Figure size 640x480 with 1 Axes>"
      ]
     },
     "metadata": {},
     "output_type": "display_data"
    }
   ],
   "source": [
    "cbg_density['pop_weights'].hist()\n",
    "plt.show()"
   ]
  },
  {
   "cell_type": "code",
   "execution_count": 112,
   "id": "547e0820",
   "metadata": {},
   "outputs": [
    {
     "data": {
      "image/png": "[encoded data removed]",
      "text/plain": [
       "<Figure size 640x480 with 1 Axes>"
      ]
     },
     "metadata": {},
     "output_type": "display_data"
    }
   ],
   "source": [
    "# sample weights\n",
    "cbg_density['sample_weights'] = cbg_density.apply(\n",
    "    lambda row: row['APN_y'] / cbg_density.groupby('year')['APN_y'].sum()[row['year']], axis=1)\n",
    "cbg_density['sample_weights'].hist()\n",
    "plt.show()"
   ]
  },
  {
   "cell_type": "markdown",
   "id": "3ced1642",
   "metadata": {},
   "source": [
    "## 3. Power Analysis\n",
    "Need to aggregate from the parcel level because we wish to compute the number of *parcels* that need to be reviewed."
   ]
  },
  {
   "cell_type": "code",
   "execution_count": 128,
   "id": "fef1ed4b",
   "metadata": {},
   "outputs": [],
   "source": [
    "aggregates_from_parcel = parcel_density.groupby(['year', 'neighborho']).agg(\n",
    "    {'parcel_density': ['mean', 'std', 'count']}).reset_index()\n",
    "aggregates_from_parcel.columns = ['-'.join(l) for l in aggregates_from_parcel.columns]"
   ]
  },
  {
   "cell_type": "code",
   "execution_count": 129,
   "id": "d3693f7b",
   "metadata": {},
   "outputs": [
    {
     "data": {
      "text/html": [
       "<div>\n",
       "<style scoped>\n",
       "    .dataframe tbody tr th:only-of-type {\n",
       "        vertical-align: middle;\n",
       "    }\n",
       "\n",
       "    .dataframe tbody tr th {\n",
       "        vertical-align: top;\n",
       "    }\n",
       "\n",
       "    .dataframe thead th {\n",
       "        text-align: right;\n",
       "    }\n",
       "</style>\n",
       "<table border=\"1\" class=\"dataframe\">\n",
       "  <thead>\n",
       "    <tr style=\"text-align: right;\">\n",
       "      <th></th>\n",
       "      <th>year-</th>\n",
       "      <th>neighborho-</th>\n",
       "      <th>parcel_density-mean</th>\n",
       "      <th>parcel_density-std</th>\n",
       "      <th>parcel_density-count</th>\n",
       "    </tr>\n",
       "  </thead>\n",
       "  <tbody>\n",
       "    <tr>\n",
       "      <th>0</th>\n",
       "      <td>2016</td>\n",
       "      <td>high</td>\n",
       "      <td>0.130801</td>\n",
       "      <td>0.361301</td>\n",
       "      <td>8318</td>\n",
       "    </tr>\n",
       "    <tr>\n",
       "      <th>1</th>\n",
       "      <td>2016</td>\n",
       "      <td>low</td>\n",
       "      <td>0.177642</td>\n",
       "      <td>0.427024</td>\n",
       "      <td>9491</td>\n",
       "    </tr>\n",
       "    <tr>\n",
       "      <th>2</th>\n",
       "      <td>2018</td>\n",
       "      <td>high</td>\n",
       "      <td>0.090887</td>\n",
       "      <td>0.303736</td>\n",
       "      <td>8318</td>\n",
       "    </tr>\n",
       "    <tr>\n",
       "      <th>3</th>\n",
       "      <td>2018</td>\n",
       "      <td>low</td>\n",
       "      <td>0.148351</td>\n",
       "      <td>0.393188</td>\n",
       "      <td>9491</td>\n",
       "    </tr>\n",
       "    <tr>\n",
       "      <th>4</th>\n",
       "      <td>2020</td>\n",
       "      <td>high</td>\n",
       "      <td>0.173960</td>\n",
       "      <td>0.434654</td>\n",
       "      <td>8318</td>\n",
       "    </tr>\n",
       "    <tr>\n",
       "      <th>5</th>\n",
       "      <td>2020</td>\n",
       "      <td>low</td>\n",
       "      <td>0.242229</td>\n",
       "      <td>0.496576</td>\n",
       "      <td>9491</td>\n",
       "    </tr>\n",
       "  </tbody>\n",
       "</table>\n",
       "</div>"
      ],
      "text/plain": [
       "  year- neighborho-  parcel_density-mean  parcel_density-std  \\\n",
       "0  2016        high             0.130801            0.361301   \n",
       "1  2016         low             0.177642            0.427024   \n",
       "2  2018        high             0.090887            0.303736   \n",
       "3  2018         low             0.148351            0.393188   \n",
       "4  2020        high             0.173960            0.434654   \n",
       "5  2020         low             0.242229            0.496576   \n",
       "\n",
       "   parcel_density-count  \n",
       "0                  8318  \n",
       "1                  9491  \n",
       "2                  8318  \n",
       "3                  9491  \n",
       "4                  8318  \n",
       "5                  9491  "
      ]
     },
     "execution_count": 129,
     "metadata": {},
     "output_type": "execute_result"
    }
   ],
   "source": [
    "aggregates_from_parcel"
   ]
  },
  {
   "cell_type": "code",
   "execution_count": 80,
   "id": "d8e8ba86",
   "metadata": {},
   "outputs": [
    {
     "data": {
      "image/png": "[encoded data removed]",
      "text/plain": [
       "<Figure size 1278.61x650 with 3 Axes>"
      ]
     },
     "metadata": {},
     "output_type": "display_data"
    }
   ],
   "source": [
    "g = sns.FacetGrid(aggregates_from_parcel, col=\"year-\",  height=6.5, aspect=.65)\n",
    "g.map(sns.barplot, 'neighborho-', 'parcel_density-mean')\n",
    "g.add_legend()\n",
    "plt.show()"
   ]
  },
  {
   "cell_type": "markdown",
   "id": "9fdce782",
   "metadata": {},
   "source": [
    "## S_j"
   ]
  },
  {
   "cell_type": "code",
   "execution_count": 184,
   "id": "89c40a7b",
   "metadata": {},
   "outputs": [
    {
     "name": "stdout",
     "output_type": "stream",
     "text": [
      "<class 'pandas.core.frame.DataFrame'>\n",
      "Int64Index: 249 entries, 498 to 746\n",
      "Data columns (total 6 columns):\n",
      " #   Column        Non-Null Count  Dtype   \n",
      "---  ------        --------------  -----   \n",
      " 0   GEOID         249 non-null    object  \n",
      " 1   mean_density  249 non-null    float64 \n",
      " 2   std_density   241 non-null    float64 \n",
      " 3   year          249 non-null    object  \n",
      " 4   neighborho    245 non-null    object  \n",
      " 5   geometry      249 non-null    geometry\n",
      "dtypes: float64(2), geometry(1), object(3)\n",
      "memory usage: 13.6+ KB\n"
     ]
    }
   ],
   "source": [
    "cbg_density.loc[cbg_density['year'] == '2020'].info()"
   ]
  },
  {
   "cell_type": "code",
   "execution_count": 156,
   "id": "bd2fed9a",
   "metadata": {
    "scrolled": false
   },
   "outputs": [
    {
     "data": {
      "image/png": "[encoded data removed]",
      "text/plain": [
       "<Figure size 1017.49x1050 with 3 Axes>"
      ]
     },
     "metadata": {},
     "output_type": "display_data"
    }
   ],
   "source": [
    "g = sns.FacetGrid(cbg_density, row=\"year\", hue='neighborho', height=3.5, aspect=2.65)\n",
    "g.map(sns.kdeplot, 'std_density')\n",
    "g.add_legend()\n",
    "plt.show()"
   ]
  },
  {
   "cell_type": "code",
   "execution_count": null,
   "id": "62a04648",
   "metadata": {},
   "outputs": [],
   "source": []
  }
 ],
 "metadata": {
  "kernelspec": {
   "display_name": "Python 3",
   "language": "python",
   "name": "python3"
  },
  "language_info": {
   "codemirror_mode": {
    "name": "ipython",
    "version": 3
   },
   "file_extension": ".py",
   "mimetype": "text/x-python",
   "name": "python",
   "nbconvert_exporter": "python",
   "pygments_lexer": "ipython3",
   "version": "3.8.10"
  }
 },
 "nbformat": 4,
 "nbformat_minor": 5
}
