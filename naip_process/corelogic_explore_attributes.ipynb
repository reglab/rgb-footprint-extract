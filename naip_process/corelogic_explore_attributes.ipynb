{
 "cells": [
  {
   "cell_type": "code",
   "execution_count": 1,
   "id": "72d89a6e",
   "metadata": {},
   "outputs": [],
   "source": [
    "import pandas as pd\n",
    "import numpy as np\n",
    "import os\n",
    "from tqdm import tqdm\n",
    "import matplotlib.pyplot as plt\n",
    "import geopandas as gpd\n",
    "tqdm.pandas()\n",
    "from shapely.geometry import box, Polygon, Point"
   ]
  },
  {
   "cell_type": "markdown",
   "id": "f956bdef",
   "metadata": {},
   "source": [
    "## Open and process files\n",
    "1. CoreLogic 2016 tax year for Santa Clara County\n",
    "2. Universe of SJ residential parcels"
   ]
  },
  {
   "cell_type": "code",
   "execution_count": 6,
   "id": "07a47e27",
   "metadata": {},
   "outputs": [
    {
     "name": "stderr",
     "output_type": "stream",
     "text": [
      "/usr/local/lib/python3.8/dist-packages/IPython/core/interactiveshell.py:3457: DtypeWarning: Columns (5,12,13,14,15,20,21,22,28,31,32,34,37,38,49,52,53,54,90,109,110,114,115,116,117,119,120,122,123,124,126,127,128,129,131,132,134,135,136,139,140,141,142,143) have mixed types.Specify dtype option on import or set low_memory=False.\n",
      "  exec(code_obj, self.user_global_ns, self.user_ns)\n",
      "/usr/local/lib/python3.8/dist-packages/IPython/core/interactiveshell.py:3457: DtypeWarning: Columns (14,20,21,25,32,33,34,35,36,37,38,41,49,55,56,57,60,61,62,63,64,72,73,84,87,92,93) have mixed types.Specify dtype option on import or set low_memory=False.\n",
      "  exec(code_obj, self.user_global_ns, self.user_ns)\n"
     ]
    }
   ],
   "source": [
    "fp = '/oak/stanford/groups/deho/corelogic/data/final/CA/'\n",
    "df = pd.read_csv(os.path.join(fp, 'SC_county_2018_Tax.txt'), delimiter='|', dtype={'FIPS CODE': str,\n",
    "                                                                                  'APN (PARCEL NUMBER UNFORMATTED)': str})\n",
    "df_deed = pd.read_csv(os.path.join(fp, 'SC_county_deed.txt'), delimiter='|', dtype={'FIPS CODE': str,\n",
    "                                                                                  'APN UNFORMATTED': str,\n",
    "                                                                                   'SALE DATE (YYYYMMDD)': str,\n",
    "                                                                                    'RECORDING DATE (YYYYMMDD)': str,\n",
    "                                                                                   'MORTGAGE DATE': str})"
   ]
  },
  {
   "cell_type": "code",
   "execution_count": null,
   "id": "14a069b3",
   "metadata": {},
   "outputs": [],
   "source": [
    "df['HOMESTEAD EXEMPT'] = df['HOMESTEAD EXEMPT'].fillna('N').map({'Y': 1, 'N': 0})"
   ]
  },
  {
   "cell_type": "code",
   "execution_count": 7,
   "id": "72a4f2c7",
   "metadata": {},
   "outputs": [],
   "source": [
    "df_deed['SALE DATE (YYYYMMDD)'] = df_deed['SALE DATE (YYYYMMDD)'].apply(lambda x: f'{x[:-2]}01' if (not pd.isna(x) and x[-2:] == '00') else x)\n",
    "df_deed['SALE DATE (YYYYMMDD)'] = df_deed['SALE DATE (YYYYMMDD)'].apply(lambda x: f'{x[:4]}01{x[-2:]}' if (not pd.isna(x) and x[4:6] == '00') else x)\n",
    "df_deed['SALE DATE (YYYYMMDD)'] = df_deed['SALE DATE (YYYYMMDD)'].apply(lambda x: np.nan if (not pd.isna(x) and int(x[:4]) < 1900) else x)\n",
    "df_deed['SALE DATE'] = pd.to_datetime(df_deed['SALE DATE (YYYYMMDD)'].apply(lambda x: f'{x[:4]}-{x[4:6]}-{x[6:]}' if not pd.isna(x) else np.nan))"
   ]
  },
  {
   "cell_type": "code",
   "execution_count": 8,
   "id": "355618f6",
   "metadata": {},
   "outputs": [],
   "source": [
    "df_deed['RECORDING DATE (YYYYMMDD)'] = df_deed['RECORDING DATE (YYYYMMDD)'].apply(lambda x: f'{x[:-2]}01' if (not pd.isna(x) and x[-2:] == '00') else x)\n",
    "df_deed['RECORDING DATE (YYYYMMDD)'] = df_deed['RECORDING DATE (YYYYMMDD)'].apply(lambda x: f'{x[:4]}01{x[-2:]}' if (not pd.isna(x) and x[4:6] == '00') else x)\n",
    "df_deed['RECORDING DATE (YYYYMMDD)'] = df_deed['RECORDING DATE (YYYYMMDD)'].apply(lambda x: np.nan if (not pd.isna(x) and int(x[:4]) < 1900) else x)\n",
    "df_deed['RECORDING DATE'] = pd.to_datetime(df_deed['RECORDING DATE (YYYYMMDD)'].apply(lambda x: f'{x[:4]}-{x[4:6]}-{x[6:]}' if not pd.isna(x) else np.nan))"
   ]
  },
  {
   "cell_type": "code",
   "execution_count": 9,
   "id": "6dad4867",
   "metadata": {},
   "outputs": [],
   "source": [
    "df_deed['MORTGAGE DATE'] = df_deed['MORTGAGE DATE'].apply(lambda x: f'{x[:-2]}01' if (not pd.isna(x) and x[-2:] == '00') else x)\n",
    "df_deed['MORTGAGE DATE'] = df_deed['MORTGAGE DATE'].apply(lambda x: f'{x[:4]}01{x[-2:]}' if (not pd.isna(x) and x[4:6] == '00') else x)\n",
    "df_deed['MORTGAGE DATE'] = df_deed['MORTGAGE DATE'].apply(lambda x: f'{x[:4]}12{x[-2:]}' if (not pd.isna(x) and int(x[4:6]) > 12) else x)\n",
    "df_deed['MORTGAGE DATE'] = df_deed['MORTGAGE DATE'].apply(lambda x: np.nan if (not pd.isna(x) and int(x[:4]) < 1900) else x)\n",
    "df_deed['MORTGAGE DATE'] = pd.to_datetime(df_deed['MORTGAGE DATE'].apply(lambda x: f'{x[:4]}-{x[4:6]}-{x[6:]}' if not pd.isna(x) else np.nan))"
   ]
  },
  {
   "cell_type": "code",
   "execution_count": 10,
   "id": "836c0697",
   "metadata": {},
   "outputs": [],
   "source": [
    "df_deed = df_deed[(df_deed['RECORDING DATE'].notna()) | (df_deed['MORTGAGE DATE'].notna()) | (df_deed['SALE DATE'].notna())]"
   ]
  },
  {
   "cell_type": "code",
   "execution_count": 18,
   "id": "826600a1",
   "metadata": {},
   "outputs": [],
   "source": [
    "h = pd.to_datetime('January 1 2000')\n",
    "t = pd.to_datetime(np.nan)\n",
    "t1 = pd.to_datetime(np.nan)\n",
    "j = pd.to_datetime('January 2, 1999')"
   ]
  },
  {
   "cell_type": "code",
   "execution_count": 22,
   "id": "e922bdc0",
   "metadata": {},
   "outputs": [
    {
     "data": {
      "text/plain": [
       "NaT"
      ]
     },
     "execution_count": 22,
     "metadata": {},
     "output_type": "execute_result"
    }
   ],
   "source": [
    "min(t1, j, t)"
   ]
  },
  {
   "cell_type": "code",
   "execution_count": 8,
   "id": "57c1e05f",
   "metadata": {},
   "outputs": [
    {
     "data": {
      "text/plain": [
       "False"
      ]
     },
     "execution_count": 8,
     "metadata": {},
     "output_type": "execute_result"
    }
   ],
   "source": [
    "pd.to_datetime(np.nan) < h"
   ]
  },
  {
   "cell_type": "code",
   "execution_count": 11,
   "id": "71d9f64b",
   "metadata": {},
   "outputs": [],
   "source": [
    "# def pick_earliest(row):\n",
    "#     earliest_date = None\n",
    "#     cols = ['RECORDING DATE', 'MORTGAGE DATE', 'SALE DATE']\n",
    "#     for col in cols:\n",
    "#         if pd.isna(row[col]):\n",
    "#             cols.remove(col)\n",
    "            \n",
    "    \n",
    "#     if row['RECORDING DATE'] < row['MORTGAGE DATE']:\n",
    "#         earliest_date = row[]\n",
    "df_deed['OWNERSHIP CHANGE'] = df_deed.apply(lambda row: min(row['RECORDING DATE'], row['MORTGAGE DATE'], \n",
    "                                                            row['SALE DATE']), axis=1)"
   ]
  },
  {
   "cell_type": "code",
   "execution_count": 12,
   "id": "849c8a11",
   "metadata": {},
   "outputs": [],
   "source": [
    "df_deed_missing = df_deed[df_deed['OWNERSHIP CHANGE'].isna()]\n",
    "df_deed_notmissing = df_deed[df_deed['OWNERSHIP CHANGE'].notna()]"
   ]
  },
  {
   "cell_type": "code",
   "execution_count": 13,
   "id": "4ab4690b",
   "metadata": {},
   "outputs": [
    {
     "name": "stderr",
     "output_type": "stream",
     "text": [
      "<ipython-input-13-d7afd03fa9d0>:1: SettingWithCopyWarning: \n",
      "A value is trying to be set on a copy of a slice from a DataFrame.\n",
      "Try using .loc[row_indexer,col_indexer] = value instead\n",
      "\n",
      "See the caveats in the documentation: https://pandas.pydata.org/pandas-docs/stable/user_guide/indexing.html#returning-a-view-versus-a-copy\n",
      "  df_deed_missing['OWNERSHIP CHANGE'] = df_deed_missing['SALE DATE']\n"
     ]
    }
   ],
   "source": [
    "df_deed_missing['OWNERSHIP CHANGE'] = df_deed_missing['SALE DATE']"
   ]
  },
  {
   "cell_type": "code",
   "execution_count": 14,
   "id": "5066800e",
   "metadata": {},
   "outputs": [],
   "source": [
    "df_deed = pd.concat([df_deed_notmissing, df_deed_missing], ignore_index=True)"
   ]
  },
  {
   "cell_type": "code",
   "execution_count": 18,
   "id": "d47598a9",
   "metadata": {},
   "outputs": [],
   "source": [
    "df_deed['OWNERSHIP CHANGE YEAR'] = df_deed['OWNERSHIP CHANGE'].dt.year\n",
    "df_deed['OWNERSHIP CHANGE MONTH'] = df_deed['OWNERSHIP CHANGE'].dt.month"
   ]
  },
  {
   "cell_type": "code",
   "execution_count": 16,
   "id": "fecfe745",
   "metadata": {},
   "outputs": [],
   "source": [
    "df_deed = df_deed[df_deed['OWNERSHIP CHANGE YEAR'] < 2016]"
   ]
  },
  {
   "cell_type": "code",
   "execution_count": 17,
   "id": "e681248a",
   "metadata": {},
   "outputs": [],
   "source": [
    "df_deed = df_deed.sort_values(['OWNERSHIP CHANGE'])"
   ]
  },
  {
   "cell_type": "code",
   "execution_count": 20,
   "id": "ac5d86b0",
   "metadata": {},
   "outputs": [],
   "source": [
    "df_deed = df_deed.drop_duplicates(['APN UNFORMATTED'], keep='last')"
   ]
  },
  {
   "cell_type": "code",
   "execution_count": 21,
   "id": "198c1d02",
   "metadata": {},
   "outputs": [
    {
     "name": "stderr",
     "output_type": "stream",
     "text": [
      "/usr/local/lib/python3.8/dist-packages/pandas/core/dtypes/cast.py:118: ShapelyDeprecationWarning: The array interface is deprecated and will no longer work in Shapely 2.0. Convert the '.coords' to a numpy array instead.\n",
      "  arr = construct_1d_object_array_from_listlike(values)\n",
      "<ipython-input-21-3cba07b5439a>:1: SettingWithCopyWarning: \n",
      "A value is trying to be set on a copy of a slice from a DataFrame.\n",
      "Try using .loc[row_indexer,col_indexer] = value instead\n",
      "\n",
      "See the caveats in the documentation: https://pandas.pydata.org/pandas-docs/stable/user_guide/indexing.html#returning-a-view-versus-a-copy\n",
      "  df_deed['geometry'] = df_deed.apply(lambda row: Point(row['PROPERTY LEVEL LONGITUDE'], row['PROPERTY LEVEL LATITUDE']), axis=1)\n"
     ]
    }
   ],
   "source": [
    "df_deed['geometry'] = df_deed.apply(lambda row: Point(row['PROPERTY LEVEL LONGITUDE'], row['PROPERTY LEVEL LATITUDE']), axis=1)\n",
    "df_deed = gpd.GeoDataFrame(df_deed)\n",
    "df_deed = df_deed.set_crs('epsg:4326')"
   ]
  },
  {
   "cell_type": "code",
   "execution_count": 76,
   "id": "d8ae3e96",
   "metadata": {},
   "outputs": [
    {
     "data": {
      "text/html": [
       "<div>\n",
       "<style scoped>\n",
       "    .dataframe tbody tr th:only-of-type {\n",
       "        vertical-align: middle;\n",
       "    }\n",
       "\n",
       "    .dataframe tbody tr th {\n",
       "        vertical-align: top;\n",
       "    }\n",
       "\n",
       "    .dataframe thead th {\n",
       "        text-align: right;\n",
       "    }\n",
       "</style>\n",
       "<table border=\"1\" class=\"dataframe\">\n",
       "  <thead>\n",
       "    <tr style=\"text-align: right;\">\n",
       "      <th></th>\n",
       "      <th>PROPERTY LEVEL LATITUDE</th>\n",
       "      <th>PROPERTY LEVEL LONGITUDE</th>\n",
       "      <th>SALE DATE (YYYYMMDD)</th>\n",
       "      <th>SALE AMOUNT</th>\n",
       "      <th>SALE CODE</th>\n",
       "      <th>RECORDING DATE (YYYYMMDD)</th>\n",
       "      <th>MORTGAGE AMOUNT</th>\n",
       "      <th>MORTGAGE DATE</th>\n",
       "    </tr>\n",
       "  </thead>\n",
       "  <tbody>\n",
       "    <tr>\n",
       "      <th>224393</th>\n",
       "      <td>37.308928</td>\n",
       "      <td>-121.981711</td>\n",
       "      <td>NaN</td>\n",
       "      <td>NaN</td>\n",
       "      <td>NaN</td>\n",
       "      <td>NaN</td>\n",
       "      <td>NaN</td>\n",
       "      <td>NaT</td>\n",
       "    </tr>\n",
       "    <tr>\n",
       "      <th>378177</th>\n",
       "      <td>37.308928</td>\n",
       "      <td>-121.981711</td>\n",
       "      <td>NaN</td>\n",
       "      <td>NaN</td>\n",
       "      <td>NaN</td>\n",
       "      <td>19931012.0</td>\n",
       "      <td>NaN</td>\n",
       "      <td>NaT</td>\n",
       "    </tr>\n",
       "  </tbody>\n",
       "</table>\n",
       "</div>"
      ],
      "text/plain": [
       "        PROPERTY LEVEL LATITUDE  PROPERTY LEVEL LONGITUDE  \\\n",
       "224393                37.308928               -121.981711   \n",
       "378177                37.308928               -121.981711   \n",
       "\n",
       "       SALE DATE (YYYYMMDD)  SALE AMOUNT SALE CODE  RECORDING DATE (YYYYMMDD)  \\\n",
       "224393                  NaN          NaN       NaN                        NaN   \n",
       "378177                  NaN          NaN       NaN                 19931012.0   \n",
       "\n",
       "        MORTGAGE AMOUNT MORTGAGE DATE  \n",
       "224393              NaN           NaT  \n",
       "378177              NaN           NaT  "
      ]
     },
     "execution_count": 76,
     "metadata": {},
     "output_type": "execute_result"
    }
   ],
   "source": [
    "df_deed[df_deed['APN UNFORMATTED'] == '38112002'][['PROPERTY LEVEL LATITUDE',\n",
    " 'PROPERTY LEVEL LONGITUDE', 'SALE DATE (YYYYMMDD)', 'SALE AMOUNT', 'SALE CODE', \n",
    "                                                   'RECORDING DATE (YYYYMMDD)',\n",
    "                                                    'MORTGAGE AMOUNT', 'MORTGAGE DATE']]"
   ]
  },
  {
   "cell_type": "code",
   "execution_count": 22,
   "id": "5f6cc0cb",
   "metadata": {
    "scrolled": true
   },
   "outputs": [
    {
     "name": "stderr",
     "output_type": "stream",
     "text": [
      "/usr/local/lib/python3.8/dist-packages/pandas/core/dtypes/cast.py:118: ShapelyDeprecationWarning: The array interface is deprecated and will no longer work in Shapely 2.0. Convert the '.coords' to a numpy array instead.\n",
      "  arr = construct_1d_object_array_from_listlike(values)\n"
     ]
    }
   ],
   "source": [
    "df['geometry'] = df.apply(lambda row: Point(row['PARCEL LEVEL LONGITUDE'], row['PARCEL LEVEL LATITUDE']), axis=1)\n",
    "df = gpd.GeoDataFrame(df)\n",
    "df = df.set_crs('epsg:4326')"
   ]
  },
  {
   "cell_type": "code",
   "execution_count": 104,
   "id": "620b6d0f",
   "metadata": {},
   "outputs": [],
   "source": [
    "OAK_FP = '/oak/stanford/groups/deho/building_compliance/'\n",
    "OUTPUT_FP = os.path.join(OAK_FP, 'outputs', 'Population-Estimates', 'outputs')\n",
    "INPUT_FP = os.path.join(OAK_FP, 'outputs', 'Population-Estimates', 'inputs')\n",
    "\n",
    "# APN - GEOID - MEDIAN INCOME ----\n",
    "# * Universe of SJ res parcels assigned to each CBG\n",
    "sj_parcels_cbgs = gpd.read_file(os.path.join(OUTPUT_FP, 'sj-parcels-res-cbgs'), dtype={'APN', str})"
   ]
  },
  {
   "cell_type": "code",
   "execution_count": 105,
   "id": "7ffe3186",
   "metadata": {},
   "outputs": [],
   "source": [
    "sj_parcels_cbgs['geometry_parcel'] = sj_parcels_cbgs['geometry']"
   ]
  },
  {
   "cell_type": "code",
   "execution_count": 106,
   "id": "2d345715",
   "metadata": {},
   "outputs": [],
   "source": [
    "informal_units = pd.read_csv('/oak/stanford/groups/deho/building_compliance/outputs/Population-Estimates/outputs/DIMeans/b3_cevents_ca12_formal_informal_sqftcom.csv',\n",
    "                            dtype={'APN': str})"
   ]
  },
  {
   "cell_type": "code",
   "execution_count": 107,
   "id": "c14f7e93",
   "metadata": {},
   "outputs": [],
   "source": [
    "informal_units['APN'] = informal_units['APN'].str.zfill(8)"
   ]
  },
  {
   "cell_type": "code",
   "execution_count": 108,
   "id": "dff789d2",
   "metadata": {},
   "outputs": [],
   "source": [
    "apn_list = informal_units['APN'].unique()"
   ]
  },
  {
   "cell_type": "code",
   "execution_count": 110,
   "id": "ebb2d351",
   "metadata": {
    "scrolled": true
   },
   "outputs": [],
   "source": [
    "sj_parcels_cbgs = sj_parcels_cbgs[sj_parcels_cbgs['APN'].isin(apn_list)]"
   ]
  },
  {
   "cell_type": "markdown",
   "id": "0ee10507",
   "metadata": {},
   "source": [
    "## 2. Merge"
   ]
  },
  {
   "cell_type": "code",
   "execution_count": 154,
   "id": "b2490a43",
   "metadata": {
    "scrolled": false
   },
   "outputs": [],
   "source": [
    "merged = gpd.sjoin(df, sj_parcels_cbgs, predicate='within', how='right') "
   ]
  },
  {
   "cell_type": "markdown",
   "id": "ca4e534e",
   "metadata": {},
   "source": [
    "Take out edge case -- APN 26157028 sjoined with 26157027 and 26157028"
   ]
  },
  {
   "cell_type": "code",
   "execution_count": 155,
   "id": "3599b0c8",
   "metadata": {},
   "outputs": [],
   "source": [
    "merged = merged[merged['APN (PARCEL NUMBER UNFORMATTED)'] != '26157027']"
   ]
  },
  {
   "cell_type": "code",
   "execution_count": 156,
   "id": "69e01534",
   "metadata": {},
   "outputs": [],
   "source": [
    "merged = merged.rename(columns={'geometry': 'geometry_cl', 'geometry_parcel': 'geometry'})"
   ]
  },
  {
   "cell_type": "code",
   "execution_count": 124,
   "id": "bb068ad1",
   "metadata": {},
   "outputs": [
    {
     "data": {
      "text/plain": [
       "Index(['index_left', 'FIPS CODE', 'APN (PARCEL NUMBER UNFORMATTED)',\n",
       "       'APN SEQUENCE NUMBER)', 'COMPOSITE PROPERTY LINKAGE KEY',\n",
       "       'FORMATTED APN', 'ORIGINAL APN', 'PREVIOUS PARCEL NUMBER',\n",
       "       'P-ID-IRIS-FRMTD', 'ACCOUNT NUMBER',\n",
       "       ...\n",
       "       'PARCEL LEVEL LONGITUDE', 'SPLIT FROM PARCEL ',\n",
       "       'TAX ROLL CERTIFICATION DATE', 'TAX ROLL EDITION NUMBER',\n",
       "       'BEGINNING TAX YEAR DATE', 'ENDING TAX YEAR DATE', 'APN', 'GEOID',\n",
       "       'geometry_cl', 'geometry'],\n",
       "      dtype='object', length=161)"
      ]
     },
     "execution_count": 124,
     "metadata": {},
     "output_type": "execute_result"
    }
   ],
   "source": [
    "merged.columns"
   ]
  },
  {
   "cell_type": "code",
   "execution_count": 157,
   "id": "808eaf3a",
   "metadata": {},
   "outputs": [],
   "source": [
    "merged = merged.drop(columns=['index_left'])"
   ]
  },
  {
   "cell_type": "code",
   "execution_count": 158,
   "id": "69ef00bc",
   "metadata": {},
   "outputs": [],
   "source": [
    "df_deed['geometry_deed'] = df_deed['geometry']"
   ]
  },
  {
   "cell_type": "code",
   "execution_count": 159,
   "id": "77cdbec9",
   "metadata": {},
   "outputs": [],
   "source": [
    "merged2 = gpd.sjoin(df_deed[['geometry', 'geometry_deed', 'APN UNFORMATTED',\n",
    "                             'OWNERSHIP CHANGE', 'OWNERSHIP CHANGE YEAR', 'OWNERSHIP CHANGE MONTH',\n",
    "                             'SALE AMOUNT', 'SALE CODE', 'MORTGAGE AMOUNT', \n",
    "                             'SALE DATE', 'RECORDING DATE', 'MORTGAGE DATE']],\n",
    "                   merged, predicate='within', how='right')"
   ]
  },
  {
   "cell_type": "code",
   "execution_count": 160,
   "id": "f4a167ce",
   "metadata": {},
   "outputs": [],
   "source": [
    "merged2 = merged2[merged2['APN UNFORMATTED'] != '26157027']"
   ]
  },
  {
   "cell_type": "code",
   "execution_count": null,
   "id": "a45e43b1",
   "metadata": {},
   "outputs": [],
   "source": []
  },
  {
   "cell_type": "code",
   "execution_count": null,
   "id": "93e2e938",
   "metadata": {},
   "outputs": [],
   "source": [
    "df_deed[['geometry', 'SALE DATE', 'SALE AMOUNT', 'SALE CODE', 'MORTGAGE AMOUNT', 'MORTGAGE DATE']]"
   ]
  },
  {
   "cell_type": "markdown",
   "id": "65c5e2f3",
   "metadata": {},
   "source": [
    "## 3. Analysis: NAs"
   ]
  },
  {
   "cell_type": "code",
   "execution_count": 161,
   "id": "9c0eaf8b",
   "metadata": {},
   "outputs": [],
   "source": [
    "cols = ['APN', 'APN (PARCEL NUMBER UNFORMATTED)', 'TOTAL VALUE CALCULATED', \n",
    "         'LAND VALUE CALCULATED', 'IMPROVEMENT VALUE CALCULATED',\n",
    "        'ASSD TOTAL VALUE', 'ASSD LAND VALUE', 'ASSD IMPROVEMENT VALUE',\n",
    "        'ACRES', 'LAND SQUARE FOOTAGE',\n",
    "        'UNIVERSAL BUILDING SQUARE FEET',\n",
    " 'BUILDING SQUARE FEET IND',\n",
    " 'BUILDING  SQUARE FEET',\n",
    " 'LIVING SQUARE FEET',\n",
    " 'GROUND FLOOR SQUARE FEET',\n",
    " 'BEDROOMS', \n",
    "        'HOMESTEAD EXEMPT', 'OWNERSHIP CHANGE', \n",
    "        'OWNERSHIP CHANGE YEAR', 'OWNERSHIP CHANGE MONTH', 'SALE AMOUNT', 'SALE CODE', 'MORTGAGE AMOUNT',\n",
    "        'geometry']"
   ]
  },
  {
   "cell_type": "code",
   "execution_count": 162,
   "id": "0c89305b",
   "metadata": {
    "scrolled": true
   },
   "outputs": [],
   "source": [
    "merged_filter = merged2[cols]"
   ]
  },
  {
   "cell_type": "code",
   "execution_count": 163,
   "id": "b6e79fbe",
   "metadata": {},
   "outputs": [],
   "source": [
    "from operator import attrgetter\n"
   ]
  },
  {
   "cell_type": "code",
   "execution_count": 164,
   "id": "7694b348",
   "metadata": {},
   "outputs": [
    {
     "name": "stderr",
     "output_type": "stream",
     "text": [
      "/usr/local/lib/python3.8/dist-packages/geopandas/geodataframe.py:1351: SettingWithCopyWarning: \n",
      "A value is trying to be set on a copy of a slice from a DataFrame.\n",
      "Try using .loc[row_indexer,col_indexer] = value instead\n",
      "\n",
      "See the caveats in the documentation: https://pandas.pydata.org/pandas-docs/stable/user_guide/indexing.html#returning-a-view-versus-a-copy\n",
      "  super().__setitem__(key, value)\n"
     ]
    }
   ],
   "source": [
    "merged_filter['YEARS SINCE LAST OWNERSHIP CHANGE'] = 2016 - merged_filter['OWNERSHIP CHANGE YEAR']"
   ]
  },
  {
   "cell_type": "code",
   "execution_count": 165,
   "id": "cadadde5",
   "metadata": {},
   "outputs": [],
   "source": [
    "merged_filter['MONTHS SINCE LAST OWNERSHIP CHANGE'] = pd.to_datetime('January 1, 2016').to_period('M') - \\\n",
    "                                                    merged_filter['OWNERSHIP CHANGE'].dt.to_period('M')"
   ]
  },
  {
   "cell_type": "code",
   "execution_count": 166,
   "id": "c90d5abd",
   "metadata": {},
   "outputs": [],
   "source": [
    "merged_filter['MONTHS SINCE LAST OWNERSHIP CHANGE'] = merged_filter['MONTHS SINCE LAST OWNERSHIP CHANGE'].apply(lambda x: attrgetter('n')(x) if not pd.isna(x) else np.nan)"
   ]
  },
  {
   "cell_type": "code",
   "execution_count": 167,
   "id": "7cf563f9",
   "metadata": {},
   "outputs": [],
   "source": [
    "merged_filter['YEARS SINCE LAST OWNERSHIP CHANGE'] = 2016 - merged_filter['OWNERSHIP CHANGE YEAR']"
   ]
  },
  {
   "cell_type": "code",
   "execution_count": 168,
   "id": "048e199e",
   "metadata": {},
   "outputs": [],
   "source": [
    "na_df = pd.DataFrame(columns=['column', 'NA'])\n",
    "for i in cols:\n",
    "    na_df.loc[len(na_df)] = [i, merged_filter[i].isna().sum()/len(merged_filter)]"
   ]
  },
  {
   "cell_type": "markdown",
   "id": "9827e0d3",
   "metadata": {},
   "source": [
    "We can't use the following columns because most of them are NAs:\n",
    "- MKT TOTAL VALUE\n",
    "- MKT LAND VALUE\n",
    "- MKT IMPROVEMENT VALUE\n",
    "- GROSS SQUARE FEET\n",
    "- ADJUSTED GROSS SQUARE FEET\n",
    "- BASEMENT SQUARE FEET\n",
    "- POOL (though i think all NAs means they don't have pools)\n",
    "- PARKING SPACES\n",
    "- UNITS NUMBER"
   ]
  },
  {
   "cell_type": "markdown",
   "id": "3fbdbe75",
   "metadata": {},
   "source": [
    "## Save"
   ]
  },
  {
   "cell_type": "code",
   "execution_count": 170,
   "id": "f47240ac",
   "metadata": {},
   "outputs": [],
   "source": [
    "merged_filter.to_csv('/oak/stanford/groups/deho/building_compliance/san_jose_suppl/addl_variables/corelogic_may1223.csv', index=False)"
   ]
  },
  {
   "cell_type": "code",
   "execution_count": 2,
   "id": "06a8c095",
   "metadata": {},
   "outputs": [
    {
     "name": "stderr",
     "output_type": "stream",
     "text": [
      "/usr/local/lib/python3.8/dist-packages/IPython/core/interactiveshell.py:3457: DtypeWarning: Columns (0) have mixed types.Specify dtype option on import or set low_memory=False.\n",
      "  exec(code_obj, self.user_global_ns, self.user_ns)\n"
     ]
    }
   ],
   "source": [
    "merged_filter = pd.read_csv('/oak/stanford/groups/deho/building_compliance/san_jose_suppl/addl_variables/corelogic_may1223.csv')"
   ]
  },
  {
   "cell_type": "code",
   "execution_count": 5,
   "id": "1ebd25ac",
   "metadata": {},
   "outputs": [
    {
     "data": {
      "text/html": [
       "<div>\n",
       "<style scoped>\n",
       "    .dataframe tbody tr th:only-of-type {\n",
       "        vertical-align: middle;\n",
       "    }\n",
       "\n",
       "    .dataframe tbody tr th {\n",
       "        vertical-align: top;\n",
       "    }\n",
       "\n",
       "    .dataframe thead th {\n",
       "        text-align: right;\n",
       "    }\n",
       "</style>\n",
       "<table border=\"1\" class=\"dataframe\">\n",
       "  <thead>\n",
       "    <tr style=\"text-align: right;\">\n",
       "      <th></th>\n",
       "      <th>APN</th>\n",
       "      <th>APN (PARCEL NUMBER UNFORMATTED)</th>\n",
       "      <th>TOTAL VALUE CALCULATED</th>\n",
       "      <th>LAND VALUE CALCULATED</th>\n",
       "      <th>IMPROVEMENT VALUE CALCULATED</th>\n",
       "      <th>ASSD TOTAL VALUE</th>\n",
       "      <th>ASSD LAND VALUE</th>\n",
       "      <th>ASSD IMPROVEMENT VALUE</th>\n",
       "      <th>ACRES</th>\n",
       "      <th>LAND SQUARE FOOTAGE</th>\n",
       "      <th>...</th>\n",
       "      <th>HOMESTEAD EXEMPT</th>\n",
       "      <th>OWNERSHIP CHANGE</th>\n",
       "      <th>OWNERSHIP CHANGE YEAR</th>\n",
       "      <th>OWNERSHIP CHANGE MONTH</th>\n",
       "      <th>SALE AMOUNT</th>\n",
       "      <th>SALE CODE</th>\n",
       "      <th>MORTGAGE AMOUNT</th>\n",
       "      <th>geometry</th>\n",
       "      <th>YEARS SINCE LAST OWNERSHIP CHANGE</th>\n",
       "      <th>MONTHS SINCE LAST OWNERSHIP CHANGE</th>\n",
       "    </tr>\n",
       "  </thead>\n",
       "  <tbody>\n",
       "    <tr>\n",
       "      <th>31452</th>\n",
       "      <td>37227C01</td>\n",
       "      <td>37227001</td>\n",
       "      <td>442098.0</td>\n",
       "      <td>221049.0</td>\n",
       "      <td>221049.0</td>\n",
       "      <td>442098.0</td>\n",
       "      <td>221049.0</td>\n",
       "      <td>221049.0</td>\n",
       "      <td>0.0101</td>\n",
       "      <td>441.0</td>\n",
       "      <td>...</td>\n",
       "      <td>Y</td>\n",
       "      <td>2011-10-07</td>\n",
       "      <td>2011.0</td>\n",
       "      <td>10.0</td>\n",
       "      <td>NaN</td>\n",
       "      <td>NaN</td>\n",
       "      <td>200000.0</td>\n",
       "      <td>POLYGON ((-122.0297019861342 37.30442494264316...</td>\n",
       "      <td>5.0</td>\n",
       "      <td>51.0</td>\n",
       "    </tr>\n",
       "    <tr>\n",
       "      <th>31453</th>\n",
       "      <td>37227C01</td>\n",
       "      <td>37227001</td>\n",
       "      <td>442098.0</td>\n",
       "      <td>221049.0</td>\n",
       "      <td>221049.0</td>\n",
       "      <td>442098.0</td>\n",
       "      <td>221049.0</td>\n",
       "      <td>221049.0</td>\n",
       "      <td>0.0101</td>\n",
       "      <td>441.0</td>\n",
       "      <td>...</td>\n",
       "      <td>Y</td>\n",
       "      <td>2004-03-03</td>\n",
       "      <td>2004.0</td>\n",
       "      <td>3.0</td>\n",
       "      <td>NaN</td>\n",
       "      <td>NaN</td>\n",
       "      <td>148000.0</td>\n",
       "      <td>POLYGON ((-122.0297019861342 37.30442494264316...</td>\n",
       "      <td>12.0</td>\n",
       "      <td>142.0</td>\n",
       "    </tr>\n",
       "    <tr>\n",
       "      <th>31454</th>\n",
       "      <td>37227C01</td>\n",
       "      <td>37227001</td>\n",
       "      <td>442098.0</td>\n",
       "      <td>221049.0</td>\n",
       "      <td>221049.0</td>\n",
       "      <td>442098.0</td>\n",
       "      <td>221049.0</td>\n",
       "      <td>221049.0</td>\n",
       "      <td>0.0101</td>\n",
       "      <td>441.0</td>\n",
       "      <td>...</td>\n",
       "      <td>Y</td>\n",
       "      <td>2012-09-21</td>\n",
       "      <td>2012.0</td>\n",
       "      <td>9.0</td>\n",
       "      <td>NaN</td>\n",
       "      <td>NaN</td>\n",
       "      <td>NaN</td>\n",
       "      <td>POLYGON ((-122.0297019861342 37.30442494264316...</td>\n",
       "      <td>4.0</td>\n",
       "      <td>40.0</td>\n",
       "    </tr>\n",
       "    <tr>\n",
       "      <th>31455</th>\n",
       "      <td>37227C01</td>\n",
       "      <td>37227001</td>\n",
       "      <td>442098.0</td>\n",
       "      <td>221049.0</td>\n",
       "      <td>221049.0</td>\n",
       "      <td>442098.0</td>\n",
       "      <td>221049.0</td>\n",
       "      <td>221049.0</td>\n",
       "      <td>0.0101</td>\n",
       "      <td>441.0</td>\n",
       "      <td>...</td>\n",
       "      <td>Y</td>\n",
       "      <td>2015-03-09</td>\n",
       "      <td>2015.0</td>\n",
       "      <td>3.0</td>\n",
       "      <td>NaN</td>\n",
       "      <td>NaN</td>\n",
       "      <td>NaN</td>\n",
       "      <td>POLYGON ((-122.0297019861342 37.30442494264316...</td>\n",
       "      <td>1.0</td>\n",
       "      <td>10.0</td>\n",
       "    </tr>\n",
       "    <tr>\n",
       "      <th>31456</th>\n",
       "      <td>37227C01</td>\n",
       "      <td>37227001</td>\n",
       "      <td>442098.0</td>\n",
       "      <td>221049.0</td>\n",
       "      <td>221049.0</td>\n",
       "      <td>442098.0</td>\n",
       "      <td>221049.0</td>\n",
       "      <td>221049.0</td>\n",
       "      <td>0.0101</td>\n",
       "      <td>441.0</td>\n",
       "      <td>...</td>\n",
       "      <td>Y</td>\n",
       "      <td>1988-01-28</td>\n",
       "      <td>1988.0</td>\n",
       "      <td>1.0</td>\n",
       "      <td>NaN</td>\n",
       "      <td>NaN</td>\n",
       "      <td>NaN</td>\n",
       "      <td>POLYGON ((-122.0297019861342 37.30442494264316...</td>\n",
       "      <td>28.0</td>\n",
       "      <td>336.0</td>\n",
       "    </tr>\n",
       "    <tr>\n",
       "      <th>...</th>\n",
       "      <td>...</td>\n",
       "      <td>...</td>\n",
       "      <td>...</td>\n",
       "      <td>...</td>\n",
       "      <td>...</td>\n",
       "      <td>...</td>\n",
       "      <td>...</td>\n",
       "      <td>...</td>\n",
       "      <td>...</td>\n",
       "      <td>...</td>\n",
       "      <td>...</td>\n",
       "      <td>...</td>\n",
       "      <td>...</td>\n",
       "      <td>...</td>\n",
       "      <td>...</td>\n",
       "      <td>...</td>\n",
       "      <td>...</td>\n",
       "      <td>...</td>\n",
       "      <td>...</td>\n",
       "      <td>...</td>\n",
       "      <td>...</td>\n",
       "    </tr>\n",
       "    <tr>\n",
       "      <th>32471</th>\n",
       "      <td>37227C01</td>\n",
       "      <td>37227032</td>\n",
       "      <td>670064.0</td>\n",
       "      <td>335032.0</td>\n",
       "      <td>335032.0</td>\n",
       "      <td>670064.0</td>\n",
       "      <td>335032.0</td>\n",
       "      <td>335032.0</td>\n",
       "      <td>0.0101</td>\n",
       "      <td>441.0</td>\n",
       "      <td>...</td>\n",
       "      <td>Y</td>\n",
       "      <td>1987-01-28</td>\n",
       "      <td>1987.0</td>\n",
       "      <td>1.0</td>\n",
       "      <td>NaN</td>\n",
       "      <td>F</td>\n",
       "      <td>NaN</td>\n",
       "      <td>POLYGON ((-122.0297019861342 37.30442494264316...</td>\n",
       "      <td>29.0</td>\n",
       "      <td>348.0</td>\n",
       "    </tr>\n",
       "    <tr>\n",
       "      <th>32472</th>\n",
       "      <td>37227C01</td>\n",
       "      <td>37227032</td>\n",
       "      <td>670064.0</td>\n",
       "      <td>335032.0</td>\n",
       "      <td>335032.0</td>\n",
       "      <td>670064.0</td>\n",
       "      <td>335032.0</td>\n",
       "      <td>335032.0</td>\n",
       "      <td>0.0101</td>\n",
       "      <td>441.0</td>\n",
       "      <td>...</td>\n",
       "      <td>Y</td>\n",
       "      <td>2012-05-23</td>\n",
       "      <td>2012.0</td>\n",
       "      <td>5.0</td>\n",
       "      <td>415000.0</td>\n",
       "      <td>F</td>\n",
       "      <td>NaN</td>\n",
       "      <td>POLYGON ((-122.0297019861342 37.30442494264316...</td>\n",
       "      <td>4.0</td>\n",
       "      <td>44.0</td>\n",
       "    </tr>\n",
       "    <tr>\n",
       "      <th>32473</th>\n",
       "      <td>37227C01</td>\n",
       "      <td>37227032</td>\n",
       "      <td>670064.0</td>\n",
       "      <td>335032.0</td>\n",
       "      <td>335032.0</td>\n",
       "      <td>670064.0</td>\n",
       "      <td>335032.0</td>\n",
       "      <td>335032.0</td>\n",
       "      <td>0.0101</td>\n",
       "      <td>441.0</td>\n",
       "      <td>...</td>\n",
       "      <td>Y</td>\n",
       "      <td>2015-02-03</td>\n",
       "      <td>2015.0</td>\n",
       "      <td>2.0</td>\n",
       "      <td>NaN</td>\n",
       "      <td>NaN</td>\n",
       "      <td>146500.0</td>\n",
       "      <td>POLYGON ((-122.0297019861342 37.30442494264316...</td>\n",
       "      <td>1.0</td>\n",
       "      <td>11.0</td>\n",
       "    </tr>\n",
       "    <tr>\n",
       "      <th>32474</th>\n",
       "      <td>37227C01</td>\n",
       "      <td>37227032</td>\n",
       "      <td>670064.0</td>\n",
       "      <td>335032.0</td>\n",
       "      <td>335032.0</td>\n",
       "      <td>670064.0</td>\n",
       "      <td>335032.0</td>\n",
       "      <td>335032.0</td>\n",
       "      <td>0.0101</td>\n",
       "      <td>441.0</td>\n",
       "      <td>...</td>\n",
       "      <td>Y</td>\n",
       "      <td>2011-01-19</td>\n",
       "      <td>2011.0</td>\n",
       "      <td>1.0</td>\n",
       "      <td>NaN</td>\n",
       "      <td>NaN</td>\n",
       "      <td>160000.0</td>\n",
       "      <td>POLYGON ((-122.0297019861342 37.30442494264316...</td>\n",
       "      <td>5.0</td>\n",
       "      <td>60.0</td>\n",
       "    </tr>\n",
       "    <tr>\n",
       "      <th>32475</th>\n",
       "      <td>37227C01</td>\n",
       "      <td>37227032</td>\n",
       "      <td>670064.0</td>\n",
       "      <td>335032.0</td>\n",
       "      <td>335032.0</td>\n",
       "      <td>670064.0</td>\n",
       "      <td>335032.0</td>\n",
       "      <td>335032.0</td>\n",
       "      <td>0.0101</td>\n",
       "      <td>441.0</td>\n",
       "      <td>...</td>\n",
       "      <td>Y</td>\n",
       "      <td>1997-04-16</td>\n",
       "      <td>1997.0</td>\n",
       "      <td>4.0</td>\n",
       "      <td>NaN</td>\n",
       "      <td>F</td>\n",
       "      <td>NaN</td>\n",
       "      <td>POLYGON ((-122.0297019861342 37.30442494264316...</td>\n",
       "      <td>19.0</td>\n",
       "      <td>225.0</td>\n",
       "    </tr>\n",
       "  </tbody>\n",
       "</table>\n",
       "<p>1024 rows × 26 columns</p>\n",
       "</div>"
      ],
      "text/plain": [
       "            APN  APN (PARCEL NUMBER UNFORMATTED)  TOTAL VALUE CALCULATED  \\\n",
       "31452  37227C01                         37227001                442098.0   \n",
       "31453  37227C01                         37227001                442098.0   \n",
       "31454  37227C01                         37227001                442098.0   \n",
       "31455  37227C01                         37227001                442098.0   \n",
       "31456  37227C01                         37227001                442098.0   \n",
       "...         ...                              ...                     ...   \n",
       "32471  37227C01                         37227032                670064.0   \n",
       "32472  37227C01                         37227032                670064.0   \n",
       "32473  37227C01                         37227032                670064.0   \n",
       "32474  37227C01                         37227032                670064.0   \n",
       "32475  37227C01                         37227032                670064.0   \n",
       "\n",
       "       LAND VALUE CALCULATED  IMPROVEMENT VALUE CALCULATED  ASSD TOTAL VALUE  \\\n",
       "31452               221049.0                      221049.0          442098.0   \n",
       "31453               221049.0                      221049.0          442098.0   \n",
       "31454               221049.0                      221049.0          442098.0   \n",
       "31455               221049.0                      221049.0          442098.0   \n",
       "31456               221049.0                      221049.0          442098.0   \n",
       "...                      ...                           ...               ...   \n",
       "32471               335032.0                      335032.0          670064.0   \n",
       "32472               335032.0                      335032.0          670064.0   \n",
       "32473               335032.0                      335032.0          670064.0   \n",
       "32474               335032.0                      335032.0          670064.0   \n",
       "32475               335032.0                      335032.0          670064.0   \n",
       "\n",
       "       ASSD LAND VALUE  ASSD IMPROVEMENT VALUE   ACRES  LAND SQUARE FOOTAGE  \\\n",
       "31452         221049.0                221049.0  0.0101                441.0   \n",
       "31453         221049.0                221049.0  0.0101                441.0   \n",
       "31454         221049.0                221049.0  0.0101                441.0   \n",
       "31455         221049.0                221049.0  0.0101                441.0   \n",
       "31456         221049.0                221049.0  0.0101                441.0   \n",
       "...                ...                     ...     ...                  ...   \n",
       "32471         335032.0                335032.0  0.0101                441.0   \n",
       "32472         335032.0                335032.0  0.0101                441.0   \n",
       "32473         335032.0                335032.0  0.0101                441.0   \n",
       "32474         335032.0                335032.0  0.0101                441.0   \n",
       "32475         335032.0                335032.0  0.0101                441.0   \n",
       "\n",
       "       ...  HOMESTEAD EXEMPT OWNERSHIP CHANGE  OWNERSHIP CHANGE YEAR  \\\n",
       "31452  ...                 Y       2011-10-07                 2011.0   \n",
       "31453  ...                 Y       2004-03-03                 2004.0   \n",
       "31454  ...                 Y       2012-09-21                 2012.0   \n",
       "31455  ...                 Y       2015-03-09                 2015.0   \n",
       "31456  ...                 Y       1988-01-28                 1988.0   \n",
       "...    ...               ...              ...                    ...   \n",
       "32471  ...                 Y       1987-01-28                 1987.0   \n",
       "32472  ...                 Y       2012-05-23                 2012.0   \n",
       "32473  ...                 Y       2015-02-03                 2015.0   \n",
       "32474  ...                 Y       2011-01-19                 2011.0   \n",
       "32475  ...                 Y       1997-04-16                 1997.0   \n",
       "\n",
       "       OWNERSHIP CHANGE MONTH  SALE AMOUNT  SALE CODE MORTGAGE AMOUNT  \\\n",
       "31452                    10.0          NaN        NaN        200000.0   \n",
       "31453                     3.0          NaN        NaN        148000.0   \n",
       "31454                     9.0          NaN        NaN             NaN   \n",
       "31455                     3.0          NaN        NaN             NaN   \n",
       "31456                     1.0          NaN        NaN             NaN   \n",
       "...                       ...          ...        ...             ...   \n",
       "32471                     1.0          NaN          F             NaN   \n",
       "32472                     5.0     415000.0          F             NaN   \n",
       "32473                     2.0          NaN        NaN        146500.0   \n",
       "32474                     1.0          NaN        NaN        160000.0   \n",
       "32475                     4.0          NaN          F             NaN   \n",
       "\n",
       "                                                geometry  \\\n",
       "31452  POLYGON ((-122.0297019861342 37.30442494264316...   \n",
       "31453  POLYGON ((-122.0297019861342 37.30442494264316...   \n",
       "31454  POLYGON ((-122.0297019861342 37.30442494264316...   \n",
       "31455  POLYGON ((-122.0297019861342 37.30442494264316...   \n",
       "31456  POLYGON ((-122.0297019861342 37.30442494264316...   \n",
       "...                                                  ...   \n",
       "32471  POLYGON ((-122.0297019861342 37.30442494264316...   \n",
       "32472  POLYGON ((-122.0297019861342 37.30442494264316...   \n",
       "32473  POLYGON ((-122.0297019861342 37.30442494264316...   \n",
       "32474  POLYGON ((-122.0297019861342 37.30442494264316...   \n",
       "32475  POLYGON ((-122.0297019861342 37.30442494264316...   \n",
       "\n",
       "       YEARS SINCE LAST OWNERSHIP CHANGE  MONTHS SINCE LAST OWNERSHIP CHANGE  \n",
       "31452                                5.0                                51.0  \n",
       "31453                               12.0                               142.0  \n",
       "31454                                4.0                                40.0  \n",
       "31455                                1.0                                10.0  \n",
       "31456                               28.0                               336.0  \n",
       "...                                  ...                                 ...  \n",
       "32471                               29.0                               348.0  \n",
       "32472                                4.0                                44.0  \n",
       "32473                                1.0                                11.0  \n",
       "32474                                5.0                                60.0  \n",
       "32475                               19.0                               225.0  \n",
       "\n",
       "[1024 rows x 26 columns]"
      ]
     },
     "execution_count": 5,
     "metadata": {},
     "output_type": "execute_result"
    }
   ],
   "source": [
    "merged_filter[merged_filter['APN'] == '37227C01']"
   ]
  },
  {
   "cell_type": "code",
   "execution_count": 4,
   "id": "5d3dd659",
   "metadata": {},
   "outputs": [
    {
     "data": {
      "text/plain": [
       "37227C01    1024\n",
       "70449C01     400\n",
       "46451C01     289\n",
       "56770C01     256\n",
       "67033001     256\n",
       "            ... \n",
       "43942054       1\n",
       "43942055       1\n",
       "43942056       1\n",
       "43942057       1\n",
       "74235126       1\n",
       "Name: APN, Length: 158952, dtype: int64"
      ]
     },
     "execution_count": 4,
     "metadata": {},
     "output_type": "execute_result"
    }
   ],
   "source": [
    "merged_filter['APN'].value_counts()"
   ]
  },
  {
   "cell_type": "markdown",
   "id": "b35a720e",
   "metadata": {},
   "source": [
    "## Explore Deed Data"
   ]
  },
  {
   "cell_type": "markdown",
   "id": "4ccef8ab",
   "metadata": {},
   "source": [
    "Do the APNs match? 97.8% of the APNs match via the merge"
   ]
  },
  {
   "cell_type": "code",
   "execution_count": 7,
   "id": "7f132697",
   "metadata": {},
   "outputs": [
    {
     "name": "stderr",
     "output_type": "stream",
     "text": [
      "101039484it [07:56, 212035.86it/s]\n"
     ]
    }
   ],
   "source": [
    "\n",
    "w3 = open(f'/oak/stanford/groups/deho/corelogic/data/final/CA/SC_county_deed.txt', 'w')\n",
    "\n",
    "with open('/oak/stanford/groups/deho/corelogic/data/raw/deed_CA/StanfordUniversity_DEED_201906_CA.txt', encoding='ISO-8859–1') as f:\n",
    "    counter = 0\n",
    "    for line in tqdm(f):\n",
    "        if counter < 1:\n",
    "            w3.write(line)\n",
    "            counter += 1\n",
    "        else:\n",
    "            line_buffer = line.split('|')\n",
    "            if line_buffer[0] == '06085':\n",
    "                w3.write(line)\n",
    "\n",
    "w3.close()"
   ]
  },
  {
   "cell_type": "code",
   "execution_count": null,
   "id": "2b8f4174",
   "metadata": {},
   "outputs": [],
   "source": []
  }
 ],
 "metadata": {
  "kernelspec": {
   "display_name": "Python 3 (ipykernel)",
   "language": "python",
   "name": "python3"
  },
  "language_info": {
   "codemirror_mode": {
    "name": "ipython",
    "version": 3
   },
   "file_extension": ".py",
   "mimetype": "text/x-python",
   "name": "python",
   "nbconvert_exporter": "python",
   "pygments_lexer": "ipython3",
   "version": "3.8.10"
  }
 },
 "nbformat": 4,
 "nbformat_minor": 5
}
