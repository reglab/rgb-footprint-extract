{
 "cells": [
  {
   "cell_type": "markdown",
   "id": "46e3faba",
   "metadata": {},
   "source": [
    "# SJ Detached ADUs\n",
    "\n",
    "* Geocode detached ADU list (1,142 records)\n",
    "*"
   ]
  },
  {
   "cell_type": "code",
   "execution_count": 1,
   "id": "3f780a51",
   "metadata": {},
   "outputs": [],
   "source": [
    "import matplotlib.pyplot as plt\n",
    "import numpy as np\n",
    "import seaborn as sns\n",
    "from tqdm import tqdm\n",
    "import geopandas as gpd\n",
    "import pandas as pd\n",
    "import os\n",
    "\n",
    "tqdm.pandas()"
   ]
  },
  {
   "cell_type": "code",
   "execution_count": 2,
   "id": "109ea9ab",
   "metadata": {},
   "outputs": [],
   "source": [
    "# Paths\n",
    "OAK_FP = '/oak/stanford/groups/deho/building_compliance/'\n",
    "OUTPUT_FP = os.path.join(OAK_FP, 'outputs', 'Population-Estimates', 'outputs')\n",
    "INPUT_FP = os.path.join(OAK_FP, 'outputs', 'Population-Estimates', 'inputs')"
   ]
  },
  {
   "cell_type": "code",
   "execution_count": 5,
   "id": "e0e84742",
   "metadata": {},
   "outputs": [],
   "source": [
    "# SJ Residential parcels\n",
    "sj_parcels_cbgs = gpd.read_file(os.path.join(OUTPUT_FP, 'sj-parcels-res-cbgs'))\n",
    "\n",
    "# Assessor parcel data\n",
    "assessor_parcels = gpd.read_file(os.path.join(INPUT_FP, 'AssessorData', 'assessor_scc_parcels.geojson'))\n",
    "sj_assessor_parcels = assessor_parcels.loc[assessor_parcels['SITUS_CITY'] == 'SAN JOSE'].copy()\n",
    "del assessor_parcels\n",
    "\n",
    "# Detached ADU list (issued on or after Jan 1, 2015 - December, 2022)\n",
    "adu_list = pd.read_csv(os.path.join(INPUT_FP, 'IssuedADUs', 'Adu_Detach.csv'))\n",
    "adu_list['DATE'] = pd.to_datetime(adu_list['ISSUEDATE'])"
   ]
  },
  {
   "cell_type": "code",
   "execution_count": 6,
   "id": "4144d8d7",
   "metadata": {},
   "outputs": [],
   "source": [
    "# Keep only parcel data\n",
    "sj_assessor_parcels = sj_assessor_parcels.loc[sj_assessor_parcels['FEATURE'] == 'PAR']\n",
    "sj_assessor_parcels = sj_assessor_parcels[[\n",
    "    'OBJECTID', 'APN', 'SITUS_HOUS', 'SITUS_STRE', 'SITUS_HO_1', 'SITUS_ST_1', 'SITUS_ST_2', 'SITUS_UNIT', \n",
    "    'SITUS_CITY', 'SITUS_STAT', 'SITUS_ZIP_', 'geometry']].copy()"
   ]
  },
  {
   "cell_type": "code",
   "execution_count": 7,
   "id": "b19b65de",
   "metadata": {},
   "outputs": [
    {
     "name": "stdout",
     "output_type": "stream",
     "text": [
      "[INFO] Number of ADUs: 1142\n",
      "[INFO] Number of duplicated ADU addresses: 0\n",
      "[INFO] Number of duplicated folder numbers: 0\n"
     ]
    }
   ],
   "source": [
    "# Check for dupilcate addresses in ADU list\n",
    "N_ADUs = len(adu_list)\n",
    "print('[INFO] Number of ADUs: {}'.format(N_ADUs))\n",
    "print('[INFO] Number of duplicated ADU addresses: {}'.format(adu_list.duplicated(['PROP_ADDRESS']).sum()))\n",
    "print('[INFO] Number of duplicated folder numbers: {}'.format(adu_list.duplicated(['FOLDERNUMBER']).sum()))"
   ]
  },
  {
   "cell_type": "code",
   "execution_count": 8,
   "id": "2c20641a",
   "metadata": {},
   "outputs": [
    {
     "name": "stdout",
     "output_type": "stream",
     "text": [
      "[INFO] Annual number of detached ADU permits issued\n"
     ]
    },
    {
     "data": {
      "image/png": "[encoded data removed]",
      "text/plain": [
       "<Figure size 640x480 with 1 Axes>"
      ]
     },
     "metadata": {},
     "output_type": "display_data"
    }
   ],
   "source": [
    "print('[INFO] Annual number of detached ADU permits issued')\n",
    "df = adu_list.set_index('DATE').resample('Y')['FOLDERNUMBER'].count()\n",
    "df.plot()\n",
    "plt.show()"
   ]
  },
  {
   "cell_type": "markdown",
   "id": "1cebdefc",
   "metadata": {},
   "source": [
    "## 1. Geocode detached ADUs"
   ]
  },
  {
   "cell_type": "code",
   "execution_count": 9,
   "id": "28e08c28",
   "metadata": {},
   "outputs": [],
   "source": [
    "# Remove trailing 2 and 3\n",
    "adu_list['CLEAN_ADDRESS'] = adu_list['PROP_ADDRESS'].apply(\n",
    "    lambda address: address.rstrip())\n",
    "\n",
    "adu_list['CLEAN_ADDRESS'] = adu_list['CLEAN_ADDRESS'].apply(\n",
    "    lambda address: address[:-2] if address[-2:] in [' 2', ' 3'] else address)\n",
    "\n",
    "# Note that properties ending in 2, 3 that are duplicated point to the same parcel APN"
   ]
  },
  {
   "cell_type": "code",
   "execution_count": 10,
   "id": "012fe6bb",
   "metadata": {},
   "outputs": [
    {
     "name": "stderr",
     "output_type": "stream",
     "text": [
      "100%|██████████| 228276/228276 [00:03<00:00, 75475.40it/s]\n"
     ]
    }
   ],
   "source": [
    "# Configure address\n",
    "sj_assessor_parcels_m = sj_assessor_parcels.copy()\n",
    "sj_assessor_parcels_m['ADDRESS'] = sj_assessor_parcels_m.progress_apply(\n",
    "    lambda row: '{}  {} {}'.format(\n",
    "        str(row['SITUS_HOUS'] or ''),\n",
    "        str(row['SITUS_ST_1'] or ''), \n",
    "        str(row['SITUS_ST_2'] or '')), \n",
    "    axis=1)"
   ]
  },
  {
   "cell_type": "code",
   "execution_count": 11,
   "id": "62c67760",
   "metadata": {},
   "outputs": [
    {
     "name": "stdout",
     "output_type": "stream",
     "text": [
      "[INFO] Duplicated addresses: 6816\n"
     ]
    }
   ],
   "source": [
    "# Address duplicates matching to different APNs\n",
    "# We allow addresses to match multiple APNs as we have no way of knowing the exact address for these\n",
    "print('[INFO] Duplicated addresses: {}'.format(sj_assessor_parcels_m.duplicated(['ADDRESS']).sum()))\n",
    "\n",
    "# Merge\n",
    "merged = pd.merge(\n",
    "    adu_list, sj_assessor_parcels_m[['APN', 'ADDRESS']], \n",
    "    how='left', left_on='CLEAN_ADDRESS', right_on='ADDRESS')"
   ]
  },
  {
   "cell_type": "markdown",
   "id": "85b37f72",
   "metadata": {},
   "source": [
    "Handle the following cases and concatenate back together out of the 1,142 cases\n",
    "* Non-missing, unique APNs (1,090 cases)\n",
    "* Multiple APNs (24 cases)\n",
    "* Missing APNs (28 cases)"
   ]
  },
  {
   "cell_type": "code",
   "execution_count": 12,
   "id": "08926f1b",
   "metadata": {},
   "outputs": [],
   "source": [
    "# Non-missing, unique APNs\n",
    "unique_nonmis = merged.loc[\n",
    "    (~merged.duplicated(['FOLDERNUMBER'], keep=False)) & (~merged['APN'].isna())]"
   ]
  },
  {
   "cell_type": "code",
   "execution_count": 22,
   "id": "c01cc375",
   "metadata": {},
   "outputs": [],
   "source": [
    "# Compute centroids so we can get parcel locations\n",
    "sj_parcels_cbgs_cent = sj_parcels_cbgs.to_crs('EPSG:26910').copy()\n",
    "sj_parcels_cbgs_cent['centroid'] = sj_parcels_cbgs_cent.geometry.centroid\n",
    "sj_parcels_cbgs_cent = gpd.GeoDataFrame(sj_parcels_cbgs_cent, geometry='centroid', crs='EPSG:26910')\n",
    "sj_parcels_cbgs_cent = sj_parcels_cbgs_cent.to_crs('EPSG:4326')\n",
    "\n",
    "sj_parcels_cbgs_cent['cent'] = sj_parcels_cbgs_cent['centroid'].apply(\n",
    "    lambda p: '{}, {}'.format(list(p.coords)[0][1], list(p.coords)[0][0]))"
   ]
  },
  {
   "cell_type": "code",
   "execution_count": 113,
   "id": "5fc3782e",
   "metadata": {
    "scrolled": false
   },
   "outputs": [
    {
     "data": {
      "text/plain": [
       "FOLDERNUMBER            20-110656\n",
       "APN             46747027 24943081\n",
       "Name: 10, dtype: object"
      ]
     },
     "execution_count": 113,
     "metadata": {},
     "output_type": "execute_result"
    }
   ],
   "source": [
    "# ADUs with multiple APN matches\n",
    "multiple = merged.loc[merged['FOLDERNUMBER'].isin(\n",
    "    merged.loc[merged.duplicated('FOLDERNUMBER')]['FOLDERNUMBER'])].sort_values('FOLDERNUMBER')\n",
    "\n",
    "# Check APNs for detached buildings\n",
    "multiple = multiple.groupby('FOLDERNUMBER')['APN'].apply(' '.join).reset_index()\n",
    "multiple.iloc[10]"
   ]
  },
  {
   "cell_type": "code",
   "execution_count": 114,
   "id": "6056573a",
   "metadata": {},
   "outputs": [
    {
     "data": {
      "text/html": [
       "<div>\n",
       "<style scoped>\n",
       "    .dataframe tbody tr th:only-of-type {\n",
       "        vertical-align: middle;\n",
       "    }\n",
       "\n",
       "    .dataframe tbody tr th {\n",
       "        vertical-align: top;\n",
       "    }\n",
       "\n",
       "    .dataframe thead th {\n",
       "        text-align: right;\n",
       "    }\n",
       "</style>\n",
       "<table border=\"1\" class=\"dataframe\">\n",
       "  <thead>\n",
       "    <tr style=\"text-align: right;\">\n",
       "      <th></th>\n",
       "      <th>APN</th>\n",
       "      <th>GEOID</th>\n",
       "      <th>geometry</th>\n",
       "      <th>centroid</th>\n",
       "      <th>cent</th>\n",
       "    </tr>\n",
       "  </thead>\n",
       "  <tbody>\n",
       "    <tr>\n",
       "      <th>49944</th>\n",
       "      <td>24943081</td>\n",
       "      <td>060855011011</td>\n",
       "      <td>POLYGON ((597936.623 4133696.681, 597944.346 4...</td>\n",
       "      <td>POINT (-121.89447 37.34464)</td>\n",
       "      <td>37.344643069224645, -121.89447017015496</td>\n",
       "    </tr>\n",
       "    <tr>\n",
       "      <th>92009</th>\n",
       "      <td>46747027</td>\n",
       "      <td>060855009012</td>\n",
       "      <td>POLYGON ((598908.641 4132103.370, 598914.022 4...</td>\n",
       "      <td>POINT (-121.88371 37.33020)</td>\n",
       "      <td>37.3302018754484, -121.88371113959083</td>\n",
       "    </tr>\n",
       "  </tbody>\n",
       "</table>\n",
       "</div>"
      ],
      "text/plain": [
       "            APN         GEOID  \\\n",
       "49944  24943081  060855011011   \n",
       "92009  46747027  060855009012   \n",
       "\n",
       "                                                geometry  \\\n",
       "49944  POLYGON ((597936.623 4133696.681, 597944.346 4...   \n",
       "92009  POLYGON ((598908.641 4132103.370, 598914.022 4...   \n",
       "\n",
       "                          centroid                                     cent  \n",
       "49944  POINT (-121.89447 37.34464)  37.344643069224645, -121.89447017015496  \n",
       "92009  POINT (-121.88371 37.33020)    37.3302018754484, -121.88371113959083  "
      ]
     },
     "execution_count": 114,
     "metadata": {},
     "output_type": "execute_result"
    }
   ],
   "source": [
    "sj_parcels_cbgs_cent.loc[sj_parcels_cbgs_cent['APN'].isin(['46747027', '24943081'])]"
   ]
  },
  {
   "cell_type": "code",
   "execution_count": 115,
   "id": "a56cc947",
   "metadata": {},
   "outputs": [
    {
     "data": {
      "text/html": [
       "<div>\n",
       "<style scoped>\n",
       "    .dataframe tbody tr th:only-of-type {\n",
       "        vertical-align: middle;\n",
       "    }\n",
       "\n",
       "    .dataframe tbody tr th {\n",
       "        vertical-align: top;\n",
       "    }\n",
       "\n",
       "    .dataframe thead th {\n",
       "        text-align: right;\n",
       "    }\n",
       "</style>\n",
       "<table border=\"1\" class=\"dataframe\">\n",
       "  <thead>\n",
       "    <tr style=\"text-align: right;\">\n",
       "      <th></th>\n",
       "      <th>FOLDERNUMBER</th>\n",
       "      <th>ISSUEDATE</th>\n",
       "      <th>FOLDERRSN</th>\n",
       "      <th>SUBDESC</th>\n",
       "      <th>WORKDESC</th>\n",
       "      <th>PROP_ADDRESS</th>\n",
       "      <th>DATE</th>\n",
       "      <th>CLEAN_ADDRESS</th>\n",
       "    </tr>\n",
       "  </thead>\n",
       "  <tbody>\n",
       "    <tr>\n",
       "      <th>447</th>\n",
       "      <td>20-110656</td>\n",
       "      <td>07/08/2020 09:45:10</td>\n",
       "      <td>1,858,773</td>\n",
       "      <td>2nd Unit Added</td>\n",
       "      <td>New Construction</td>\n",
       "      <td>453  3RD ST 2</td>\n",
       "      <td>2020-07-08 09:45:10</td>\n",
       "      <td>453  3RD ST</td>\n",
       "    </tr>\n",
       "  </tbody>\n",
       "</table>\n",
       "</div>"
      ],
      "text/plain": [
       "    FOLDERNUMBER            ISSUEDATE  FOLDERRSN         SUBDESC  \\\n",
       "447    20-110656  07/08/2020 09:45:10  1,858,773  2nd Unit Added   \n",
       "\n",
       "             WORKDESC   PROP_ADDRESS                DATE CLEAN_ADDRESS  \n",
       "447  New Construction  453  3RD ST 2 2020-07-08 09:45:10   453  3RD ST  "
      ]
     },
     "execution_count": 115,
     "metadata": {},
     "output_type": "execute_result"
    }
   ],
   "source": [
    "adu_list.loc[adu_list['FOLDERNUMBER'] == '20-110656']"
   ]
  },
  {
   "cell_type": "code",
   "execution_count": 127,
   "id": "bb8ede1b",
   "metadata": {},
   "outputs": [],
   "source": [
    "multiple_cases = {\n",
    "    '17-026160': '24923039',\n",
    "    '18-101972': '48116046',\n",
    "    '18-135702': '46737082', \n",
    "    '18-138469': '24901009', \n",
    "    '18-139413': '24931030',\n",
    "    '19-100899': '24931033',\n",
    "    '19-130667': '47222029', \n",
    "    '19-144077': None, # both already built \n",
    "    '19-154795': '47223028', \n",
    "    '20-108480': '24947022',\n",
    "    '20-110656': None, # both already built \n",
    "    '20-121936': '23506017', # already built \n",
    "    '20-140394': None, # both already built \n",
    "    '20-145382': '47219062', \n",
    "    '21-010446': '47222006',\n",
    "    '21-011572': '47230014', \n",
    "    '21-012800': '24954058', \n",
    "    '21-020836': '46703097', \n",
    "    '21-024523': '24952044', # being built\n",
    "    '21-026034': '26108066', # already built\n",
    "    '21-033589': '24942024', # already built \n",
    "    '21-053632': '24957014', \n",
    "    '21-060566': None, # both already built \n",
    "    '22-661460': None, # both already built\n",
    "}\n",
    "\n",
    "# Check that all APNs stem from potential APNs\n",
    "for folder, apn in multiple_cases.items():\n",
    "    row = multiple.loc[multiple['FOLDERNUMBER'] == folder].iloc[0]\n",
    "    if not pd.isnull(apn) and apn not in row['APN'].split(' '):\n",
    "        print('[ERROR] {}'.format(apn))\n",
    "multiple_cases = pd.DataFrame({'FOLDERNUMBER': multiple_cases.keys(), 'APN': multiple_cases.values()})"
   ]
  },
  {
   "cell_type": "code",
   "execution_count": 143,
   "id": "637411ee",
   "metadata": {
    "scrolled": true
   },
   "outputs": [
    {
     "name": "stdout",
     "output_type": "stream",
     "text": [
      "Missing: 28\n"
     ]
    }
   ],
   "source": [
    "# Handle missing cases\n",
    "print('Missing: {}'.format(len(merged.loc[merged['APN'].isna()])))\n",
    "merged.loc[merged['APN'].isna()]\n",
    "\n",
    "missing_cases = {\n",
    " '1025  HAPPY VALLEY AV ': '38141082',\n",
    " '15110  SAMARITAN DR ': '42108045',\n",
    " '1761  PARKMOOR AV ': '27726015',\n",
    " '1469  RUE AVATI  ': '24525032',\n",
    " '2696  PLAZA BANDERAS  ': '58902031',\n",
    " '6103  CORTE DE LA REINA  ': '57531011',\n",
    " '454  21ST ST ': '24963047', ### MULTIPLE but this one has an ADU construction\n",
    " '344  JEROME ST 2': '26440130',\n",
    " '271  MCDONALD AV 2': '48103045',\n",
    " '273  MCDONALD AV 2': '48103045',\n",
    " '724  HARRISON ST 2': '26443028',\n",
    " '453  6TH ST 2': '24947023', # MULTIPLE but only North has an ADU construction\n",
    " '1074  MACHADO LN 2': '61233013',\n",
    " '2041  CULLY PL 2': '41452001',\n",
    " '2045  CULLY PL 2': '41452002',\n",
    " '2049  CULLY PL 2': '41452003',\n",
    " '2053  CULLY PL 2': '41452004',\n",
    " '2057  CULLY PL 2': '41452005',\n",
    " '2061  CULLY PL 2': '41452006',\n",
    " '2214  ROYAL TREE CL 2': '24410033',\n",
    " '2785  ALMADEN RD 2': '43946076',\n",
    " '2743  ALMADEN RD 2': '43946074',\n",
    " '1053  COLEMAN RD 1107': None, # Assessor maps to 69402031? UNSURE -- these are apartments\n",
    " '1035  COLEMAN RD 7125': None, # Assessor maps to  69402031 -- these are apartments\n",
    " '115  MUIRFIELD DR 3': '48441149',\n",
    " '1960  QUITO RD 2': '40332122',\n",
    " '5187  WARWICK RD 2': None, # Can't find in Google Maps nor assessor data\n",
    " '5161  WARWICK RD 2': None # Can't find in Google Maps nor assessor data\n",
    "}\n",
    "\n",
    "missing_cases = pd.DataFrame({'PROP_ADDRESS': missing_cases.keys(), 'APN': missing_cases.values()})\n",
    "missing_cases = pd.merge(missing_cases, adu_list[['FOLDERNUMBER', 'PROP_ADDRESS']], validate='one_to_one')"
   ]
  },
  {
   "cell_type": "code",
   "execution_count": 144,
   "id": "29712193",
   "metadata": {},
   "outputs": [],
   "source": [
    "# Concatenate and generate final list\n",
    "final_list = pd.concat([\n",
    "    unique_nonmis[['FOLDERNUMBER', 'APN']], \n",
    "    multiple_cases[['FOLDERNUMBER', 'APN']], \n",
    "    missing_cases[['FOLDERNUMBER', 'APN']]\n",
    "    ])\n",
    "\n",
    "final_list = pd.merge(\n",
    "    final_list, adu_list[['FOLDERNUMBER', 'ISSUEDATE', 'SUBDESC', 'WORKDESC', 'PROP_ADDRESS', 'DATE']], \n",
    "    how='left', on='FOLDERNUMBER', validate='one_to_one'\n",
    ")"
   ]
  },
  {
   "cell_type": "code",
   "execution_count": 147,
   "id": "c9539089",
   "metadata": {},
   "outputs": [
    {
     "name": "stdout",
     "output_type": "stream",
     "text": [
      "[INFO] Pass 18/18 cases\n"
     ]
    }
   ],
   "source": [
    "test_cases = {\n",
    "    '137  CEDAR LN 2': '48416116', \n",
    "    '971  PACIFIC AV 2': '26141068',\n",
    "    '2956  DRIFTWOOD DR 2': '27926026', \n",
    "    '1690  SANTA LUCIA DR 2': '28414029', \n",
    "    '5488  ESCOVER LN 2': '56904057',\n",
    "    '6162  MERIDIAN AV ': '57713060', \n",
    "    '912  MISSION ST ': '24919087', # east? \n",
    "    '5209  HALIFAX DR 2': '40338022',\n",
    "    '732  VONNA CT 2': '68716064',\n",
    "    '1485  RICHARDS AV ': '42939019', \n",
    "    '2718  AIDA AV 2': '67018039',\n",
    "    '14155  CANDLER AV 2': '64703047', \n",
    "    '3289  INGERSOLL DR 3': '65445032',\n",
    "    '2179  LAKEWOOD DR ': '09204051', \n",
    "    '1303  FLORA AV ': '30723014',\n",
    "    '470  MAPLEWOOD AV ': '30341002',\n",
    "    '6948  HOWDEN CT 2': '70638027',\n",
    "    '950  THELMA WY 2': '47744005'\n",
    "}\n",
    "\n",
    "test_pass = 0\n",
    "for address, apn in test_cases.items():\n",
    "    row = final_list.loc[final_list['PROP_ADDRESS'] == address]\n",
    "    if len(row) > 2:\n",
    "        print('[ERR]')\n",
    "        continue\n",
    "    \n",
    "    row = row.iloc[0]\n",
    "    geo_apn = row['APN']\n",
    "    if geo_apn == apn:\n",
    "        test_pass += 1\n",
    "    else:\n",
    "        print('[ERR] {} {} {}'.format(address, apn, geo_apn))\n",
    "print('[INFO] Pass {}/{} cases'.format(test_pass, len(test_cases)))"
   ]
  },
  {
   "cell_type": "code",
   "execution_count": 148,
   "id": "ac1f39d8",
   "metadata": {},
   "outputs": [
    {
     "data": {
      "text/html": [
       "<div>\n",
       "<style scoped>\n",
       "    .dataframe tbody tr th:only-of-type {\n",
       "        vertical-align: middle;\n",
       "    }\n",
       "\n",
       "    .dataframe tbody tr th {\n",
       "        vertical-align: top;\n",
       "    }\n",
       "\n",
       "    .dataframe thead th {\n",
       "        text-align: right;\n",
       "    }\n",
       "</style>\n",
       "<table border=\"1\" class=\"dataframe\">\n",
       "  <thead>\n",
       "    <tr style=\"text-align: right;\">\n",
       "      <th></th>\n",
       "      <th>FOLDERNUMBER</th>\n",
       "      <th>APN</th>\n",
       "      <th>ISSUEDATE</th>\n",
       "      <th>SUBDESC</th>\n",
       "      <th>WORKDESC</th>\n",
       "      <th>PROP_ADDRESS</th>\n",
       "      <th>DATE</th>\n",
       "    </tr>\n",
       "  </thead>\n",
       "  <tbody>\n",
       "    <tr>\n",
       "      <th>0</th>\n",
       "      <td>14-044732</td>\n",
       "      <td>49709034</td>\n",
       "      <td>01/12/2015 16:28:45</td>\n",
       "      <td>2nd Unit Added</td>\n",
       "      <td>New Construction</td>\n",
       "      <td>13112  BROWN AV</td>\n",
       "      <td>2015-01-12 16:28:45</td>\n",
       "    </tr>\n",
       "    <tr>\n",
       "      <th>1</th>\n",
       "      <td>14-021975</td>\n",
       "      <td>49146040</td>\n",
       "      <td>03/30/2015 14:08:16</td>\n",
       "      <td>2nd Unit Added</td>\n",
       "      <td>New Construction</td>\n",
       "      <td>2800  GLEN SHARON WY</td>\n",
       "      <td>2015-03-30 14:08:16</td>\n",
       "    </tr>\n",
       "    <tr>\n",
       "      <th>2</th>\n",
       "      <td>14-033640</td>\n",
       "      <td>43917022</td>\n",
       "      <td>04/10/2015 10:18:39</td>\n",
       "      <td>2nd Unit Added</td>\n",
       "      <td>New Construction</td>\n",
       "      <td>999  FRANQUETTE AV</td>\n",
       "      <td>2015-04-10 10:18:39</td>\n",
       "    </tr>\n",
       "    <tr>\n",
       "      <th>3</th>\n",
       "      <td>14-012614</td>\n",
       "      <td>58351012</td>\n",
       "      <td>07/09/2015 16:09:49</td>\n",
       "      <td>2nd Unit Added</td>\n",
       "      <td>New Construction</td>\n",
       "      <td>1188  ALMADEN OAKS LN</td>\n",
       "      <td>2015-07-09 16:09:49</td>\n",
       "    </tr>\n",
       "    <tr>\n",
       "      <th>4</th>\n",
       "      <td>15-009106</td>\n",
       "      <td>28823016</td>\n",
       "      <td>10/19/2015 14:56:10</td>\n",
       "      <td>2nd Unit Added</td>\n",
       "      <td>New Construction</td>\n",
       "      <td>1979  PATIO DR</td>\n",
       "      <td>2015-10-19 14:56:10</td>\n",
       "    </tr>\n",
       "  </tbody>\n",
       "</table>\n",
       "</div>"
      ],
      "text/plain": [
       "  FOLDERNUMBER       APN            ISSUEDATE         SUBDESC  \\\n",
       "0    14-044732  49709034  01/12/2015 16:28:45  2nd Unit Added   \n",
       "1    14-021975  49146040  03/30/2015 14:08:16  2nd Unit Added   \n",
       "2    14-033640  43917022  04/10/2015 10:18:39  2nd Unit Added   \n",
       "3    14-012614  58351012  07/09/2015 16:09:49  2nd Unit Added   \n",
       "4    15-009106  28823016  10/19/2015 14:56:10  2nd Unit Added   \n",
       "\n",
       "           WORKDESC            PROP_ADDRESS                DATE  \n",
       "0  New Construction        13112  BROWN AV  2015-01-12 16:28:45  \n",
       "1  New Construction   2800  GLEN SHARON WY  2015-03-30 14:08:16  \n",
       "2  New Construction     999  FRANQUETTE AV  2015-04-10 10:18:39  \n",
       "3  New Construction  1188  ALMADEN OAKS LN  2015-07-09 16:09:49  \n",
       "4  New Construction         1979  PATIO DR  2015-10-19 14:56:10  "
      ]
     },
     "execution_count": 148,
     "metadata": {},
     "output_type": "execute_result"
    }
   ],
   "source": [
    "# Save geocoded version\n",
    "final_list.to_csv(os.path.join(OUTPUT_FP, 'IssuedADUs', 'Adu_Detach.csv'), index=False)\n",
    "final_list.head()"
   ]
  },
  {
   "cell_type": "code",
   "execution_count": 149,
   "id": "2abd3cae",
   "metadata": {},
   "outputs": [
    {
     "name": "stdout",
     "output_type": "stream",
     "text": [
      "<class 'pandas.core.frame.DataFrame'>\n",
      "Int64Index: 1142 entries, 0 to 1141\n",
      "Data columns (total 7 columns):\n",
      " #   Column        Non-Null Count  Dtype         \n",
      "---  ------        --------------  -----         \n",
      " 0   FOLDERNUMBER  1142 non-null   object        \n",
      " 1   APN           1133 non-null   object        \n",
      " 2   ISSUEDATE     1142 non-null   object        \n",
      " 3   SUBDESC       1142 non-null   object        \n",
      " 4   WORKDESC      1142 non-null   object        \n",
      " 5   PROP_ADDRESS  1142 non-null   object        \n",
      " 6   DATE          1142 non-null   datetime64[ns]\n",
      "dtypes: datetime64[ns](1), object(6)\n",
      "memory usage: 71.4+ KB\n"
     ]
    }
   ],
   "source": [
    "final_list.info()"
   ]
  }
 ],
 "metadata": {
  "kernelspec": {
   "display_name": "Python 3",
   "language": "python",
   "name": "python3"
  },
  "language_info": {
   "codemirror_mode": {
    "name": "ipython",
    "version": 3
   },
   "file_extension": ".py",
   "mimetype": "text/x-python",
   "name": "python",
   "nbconvert_exporter": "python",
   "pygments_lexer": "ipython3",
   "version": "3.8.10"
  }
 },
 "nbformat": 4,
 "nbformat_minor": 5
}
