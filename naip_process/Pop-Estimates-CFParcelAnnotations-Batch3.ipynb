{
 "cells": [
  {
   "cell_type": "markdown",
   "id": "76c46b18",
   "metadata": {},
   "source": [
    "# Outcome Analysis for Parcel-Level CF Annotations"
   ]
  },
  {
   "cell_type": "code",
   "execution_count": 1,
   "id": "1159c8e1",
   "metadata": {},
   "outputs": [],
   "source": [
    "import geopandas as gpd\n",
    "import glob\n",
    "import matplotlib.pyplot as plt\n",
    "import numpy as np\n",
    "import os\n",
    "import pandas as pd\n",
    "import pyproj\n",
    "import seaborn as sns\n",
    "from tqdm import tqdm\n",
    "from shapely import wkt\n",
    "import shapely\n",
    "\n",
    "tqdm.pandas()"
   ]
  },
  {
   "cell_type": "code",
   "execution_count": 3,
   "id": "97f5634d",
   "metadata": {},
   "outputs": [],
   "source": [
    "# Paths\n",
    "OAK_FP = '/oak/stanford/groups/deho/building_compliance/'\n",
    "CF_FP = os.path.join(OAK_FP, 'CloudFactory')\n",
    "OUTPUT_FP = os.path.join(OAK_FP, 'outputs', 'Population-Estimates', 'outputs')"
   ]
  },
  {
   "cell_type": "code",
   "execution_count": 4,
   "id": "22ddbc08",
   "metadata": {},
   "outputs": [],
   "source": [
    "# Input data\n",
    "# * Universe of SJ res parcels assigned to each CBG\n",
    "sj_parcels_cbgs = gpd.read_file(os.path.join(OUTPUT_FP, 'sj-parcels-res-cbgs'))\n",
    "\n",
    "# * Income-stratified CBGs (from Pop-Estimates-Strata.ipynb)\n",
    "cbg_income_2016_SJ = gpd.read_file(os.path.join(OUTPUT_FP, 'Strata', 'cbg-income-strata'))\n",
    "\n",
    "# * San Jose AANC permit data\n",
    "permits = pd.read_csv(os.path.join(OAK_FP, 'outputs/Permit-Matching/outputs/all_permits.csv'))\n",
    "permits['geometry_permit'] = gpd.GeoSeries.from_wkt(permits['geometry_permit'])\n",
    "permits_2015_20 = permits.loc[\n",
    "    permits['issue_year'].isin([2015, 2016, 2017, 2018, 2019, 2020])].copy()"
   ]
  },
  {
   "cell_type": "code",
   "execution_count": 5,
   "id": "32afd00a",
   "metadata": {},
   "outputs": [],
   "source": [
    "def identify_construction_events(CF_FP, OAK_FP, params):\n",
    "    \n",
    "    # Load extracted polygons\n",
    "    sbuild = pd.read_csv(\n",
    "        os.path.join(OAK_FP, 'CloudFactory/results/Batch3/processed_buildings.csv'), \n",
    "        dtype={'apn': str})\n",
    "    sbuild.rename(columns={'apn': 'APN'}, inplace=True)\n",
    "    sbuild.reset_index(inplace=True, drop=False)\n",
    "    sbuild.rename(columns={'index': 'building_index'}, inplace=True)\n",
    "    assert len(sbuild['building_index'].unique()) == len(sbuild)\n",
    "    \n",
    "    # Make gdf for 2020\n",
    "    sbuild20 = sbuild.copy()\n",
    "    sbuild20.drop('2016', axis=1, inplace=True)\n",
    "    sbuild20 = sbuild20.loc[~sbuild20['2020'].isna()]\n",
    "    sbuild20['2020'] = sbuild20['2020'].apply(wkt.loads)\n",
    "    sbuild20 = gpd.GeoDataFrame(sbuild20, geometry='2020', crs='EPSG:4326')\n",
    "    \n",
    "    # Define construction event\n",
    "    sbuild_2020_compared = sbuild20.copy()\n",
    "    sbuild_2020_compared['expansion_2016_flag'] = sbuild_2020_compared[params['event_type']]\n",
    "    sbuild_2020_compared['expansion_2016_flag'] = sbuild_2020_compared['expansion_2016_flag'].astype(bool)\n",
    "\n",
    "    return sbuild_2020_compared"
   ]
  },
  {
   "cell_type": "code",
   "execution_count": 6,
   "id": "2b3c4c2e",
   "metadata": {},
   "outputs": [],
   "source": [
    "def permit_match(OUTPUT_FP, permits_2015_20, sbuild_2020_compared, params):\n",
    "    \"\"\"\n",
    "    Counts the number of newly constructed small buildings and the number of AANC permits issued\n",
    "    during 2015-20 to determine what proportion are permitted vs unpermitted. \n",
    "    \"\"\"\n",
    "    \n",
    "    # Get number of 2015-20 AANC permits per parcel\n",
    "    parcel_permit_counts = permits_2015_20.copy()\n",
    "    parcel_permit_counts = parcel_permit_counts.groupby('APN_parcel')['OBJECTID_left'].count().reset_index()\n",
    "    parcel_permit_counts.rename(\n",
    "        columns={'APN_parcel': 'APN', 'OBJECTID_left': 'pcount_2015_20'}, inplace=True)\n",
    "    \n",
    "    # Get new small building counts for each parcel\n",
    "    new_sbuild_2020 = sbuild_2020_compared.loc[sbuild_2020_compared['expansion_2016_flag'] == True].copy()\n",
    "    new_sbuild_2020 = new_sbuild_2020.groupby('APN')['expansion_2016_flag'].count().reset_index()\n",
    "    new_sbuild_2020.rename(columns={'expansion_2016_flag': 'count_new_sbuild'}, inplace=True)\n",
    "    \n",
    "    # Merge permit and small building data\n",
    "    new_sbuild_2020 = pd.merge(\n",
    "        new_sbuild_2020, parcel_permit_counts[['APN', 'pcount_2015_20']], on='APN', \n",
    "        how='left', validate='one_to_one')\n",
    "\n",
    "    # Fill parcel columns with zeros\n",
    "    new_sbuild_2020[['pcount_2015_20']] = new_sbuild_2020[['pcount_2015_20']].fillna(value=0)\n",
    "\n",
    "    # Compute unpermitted and permitted new small buildings at the parcel level\n",
    "    new_sbuild_2020['count_new_sbuild_permitted'] = new_sbuild_2020.apply(\n",
    "        lambda row: min(row['count_new_sbuild'], row['pcount_2015_20']), axis=1)\n",
    "    new_sbuild_2020['count_new_sbuild_unpermitted'] = new_sbuild_2020[\n",
    "        'count_new_sbuild'] - new_sbuild_2020['count_new_sbuild_permitted']\n",
    "\n",
    "    assert new_sbuild_2020['count_new_sbuild_unpermitted'].sum() + new_sbuild_2020[\n",
    "        'count_new_sbuild_permitted'].sum() == new_sbuild_2020['count_new_sbuild'].sum()\n",
    "        \n",
    "    # Print stats\n",
    "    if params['verbose']:\n",
    "        print('[INFO] Permitted small building constructions: {}'.format(\n",
    "            new_sbuild_2020['count_new_sbuild_permitted'].sum() ))\n",
    "        print('[INFO] Unpermitted small building constructions: {}'.format(\n",
    "            new_sbuild_2020['count_new_sbuild_unpermitted'].sum() ))\n",
    "        print('[INFO] Total small building constructions: {}'.format(\n",
    "            new_sbuild_2020['count_new_sbuild'].sum() ))\n",
    "\n",
    "    return new_sbuild_2020"
   ]
  },
  {
   "cell_type": "code",
   "execution_count": 7,
   "id": "93283004",
   "metadata": {},
   "outputs": [],
   "source": [
    "def define_income_groups(cbg_df):\n",
    "    # Generate quartile and neighborhood columns for each CBG\n",
    "    if 'neighborho' in cbg_df.columns:\n",
    "        cbg_df.drop('neighborho', axis=1, inplace=True)\n",
    "\n",
    "    quartile_names = {'IS_0': 'Low', 'IS_1': 'Low-Moderate', \n",
    "                      'IS_2': 'High-moderate', 'IS_3': 'High', 'IS_4': 'Highest'}\n",
    "\n",
    "    cbg_df['quintile'] = pd.qcut(\n",
    "        cbg_df['median_inc'], q=5, \n",
    "        labels=['IS_{}'.format(i) for i in range(5)])\n",
    "\n",
    "    cbg_df['quintile'] = cbg_df['quintile'].apply(\n",
    "        lambda quartile: quartile_names[quartile])\n",
    "    return cbg_df"
   ]
  },
  {
   "cell_type": "code",
   "execution_count": 8,
   "id": "01855c38",
   "metadata": {},
   "outputs": [],
   "source": [
    "def outcome_analysis(sj_parcels_cbgs, cbg_income_2016_SJ, new_sbuild_2020):\n",
    "\n",
    "    cbg_income_2016_SJ_inc = define_income_groups(cbg_income_2016_SJ)\n",
    "\n",
    "    sj_parcels_cbgs = pd.merge(\n",
    "        sj_parcels_cbgs, cbg_income_2016_SJ_inc[['GEOID', 'quintile', 'median_inc']], \n",
    "        how='left',  validate='many_to_one')\n",
    "    \n",
    "    # Add GEOID, neighborhood and quintile\n",
    "    outcome = new_sbuild_2020.copy()\n",
    "    outcome = pd.merge(\n",
    "        outcome, sj_parcels_cbgs[['APN', 'GEOID', 'quintile']], \n",
    "        how='left', validate='one_to_one')\n",
    "\n",
    "    # Aggregate by quintile\n",
    "    outcome_quintile = outcome.groupby('quintile')[\n",
    "        ['count_new_sbuild_permitted', 'count_new_sbuild_unpermitted']].sum().reset_index()\n",
    "\n",
    "    outcome_quintile['total_change'] = outcome_quintile['count_new_sbuild_permitted'] + outcome_quintile[\n",
    "        'count_new_sbuild_unpermitted']\n",
    "    outcome_quintile['permitted_proportion'] = outcome_quintile.apply(\n",
    "        lambda row: row['count_new_sbuild_permitted'] / row['total_change'], axis=1)\n",
    "    \n",
    "\n",
    "    if params['verbose']:\n",
    "        print(outcome_quintile)\n",
    "\n",
    "        sns.barplot(data=outcome_quintile, x='quintile', y='permitted_proportion')\n",
    "        plt.show()\n",
    "\n",
    "        print('[INFO] Small building construction events across income quartiles')\n",
    "        sns.barplot(data=outcome_quintile, x='quintile', y='total_change')\n",
    "        plt.show()\n",
    "        "
   ]
  },
  {
   "cell_type": "code",
   "execution_count": 9,
   "id": "fba4a222",
   "metadata": {},
   "outputs": [],
   "source": [
    "def main(CF_FP, OAK_FP, OUTPUT_FP, permits_2015_20, sj_parcels_cbgs, cbg_income_2016_SJ, params):\n",
    "    sbuild_2020_compared = identify_construction_events(CF_FP, OAK_FP, params)\n",
    "    new_sbuild_2020 = permit_match(OUTPUT_FP, permits_2015_20, sbuild_2020_compared, params)\n",
    "    outcome_analysis(sj_parcels_cbgs, cbg_income_2016_SJ, new_sbuild_2020)"
   ]
  },
  {
   "cell_type": "markdown",
   "id": "6dbf4aca",
   "metadata": {},
   "source": [
    "# 1. Single run"
   ]
  },
  {
   "cell_type": "code",
   "execution_count": 10,
   "id": "4521ecbd",
   "metadata": {
    "scrolled": true
   },
   "outputs": [],
   "source": [
    "params = {'event_type': 'change_area1.2', 'subset': 100, 'verbose': True}"
   ]
  },
  {
   "cell_type": "code",
   "execution_count": 11,
   "id": "26a91e53",
   "metadata": {},
   "outputs": [
    {
     "name": "stdout",
     "output_type": "stream",
     "text": [
      "[INFO] Permitted small building constructions: 27.0\n",
      "[INFO] Unpermitted small building constructions: 340.0\n",
      "[INFO] Total small building constructions: 367\n",
      "        quintile  count_new_sbuild_permitted  count_new_sbuild_unpermitted  \\\n",
      "0            Low                         6.0                          60.0   \n",
      "1   Low-Moderate                         5.0                          73.0   \n",
      "2  High-moderate                         3.0                          82.0   \n",
      "3           High                         9.0                          89.0   \n",
      "4        Highest                         4.0                          36.0   \n",
      "\n",
      "   total_change  permitted_proportion  \n",
      "0          66.0              0.090909  \n",
      "1          78.0              0.064103  \n",
      "2          85.0              0.035294  \n",
      "3          98.0              0.091837  \n",
      "4          40.0              0.100000  \n"
     ]
    },
    {
     "data": {
      "image/png": "[encoded data removed]",
      "text/plain": [
       "<Figure size 640x480 with 1 Axes>"
      ]
     },
     "metadata": {},
     "output_type": "display_data"
    },
    {
     "name": "stdout",
     "output_type": "stream",
     "text": [
      "[INFO] Small building construction events across income quartiles\n"
     ]
    },
    {
     "data": {
      "image/png": "[encoded data removed]",
      "text/plain": [
       "<Figure size 640x480 with 1 Axes>"
      ]
     },
     "metadata": {},
     "output_type": "display_data"
    }
   ],
   "source": [
    "main(CF_FP, OAK_FP, OUTPUT_FP, permits_2015_20, sj_parcels_cbgs, cbg_income_2016_SJ, params)"
   ]
  },
  {
   "cell_type": "code",
   "execution_count": null,
   "id": "68760e08",
   "metadata": {},
   "outputs": [],
   "source": []
  }
 ],
 "metadata": {
  "kernelspec": {
   "display_name": "Python 3",
   "language": "python",
   "name": "python3"
  },
  "language_info": {
   "codemirror_mode": {
    "name": "ipython",
    "version": 3
   },
   "file_extension": ".py",
   "mimetype": "text/x-python",
   "name": "python",
   "nbconvert_exporter": "python",
   "pygments_lexer": "ipython3",
   "version": "3.8.10"
  }
 },
 "nbformat": 4,
 "nbformat_minor": 5
}
