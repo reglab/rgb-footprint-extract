{
 "cells": [
  {
   "cell_type": "markdown",
   "id": "31b1ec13",
   "metadata": {},
   "source": [
    "# Q1: Computes permitted detached ADU additions"
   ]
  },
  {
   "cell_type": "code",
   "execution_count": 1,
   "id": "7e1b544d",
   "metadata": {},
   "outputs": [],
   "source": [
    "import matplotlib.pyplot as plt\n",
    "import numpy as np\n",
    "import seaborn as sns\n",
    "from tqdm import tqdm\n",
    "import geopandas as gpd\n",
    "import pandas as pd\n",
    "import os\n",
    "\n",
    "from dateutil.relativedelta import relativedelta\n",
    "\n",
    "tqdm.pandas()"
   ]
  },
  {
   "cell_type": "code",
   "execution_count": 2,
   "id": "56434b67",
   "metadata": {},
   "outputs": [],
   "source": [
    "import glob"
   ]
  },
  {
   "cell_type": "code",
   "execution_count": 3,
   "id": "38692144",
   "metadata": {},
   "outputs": [],
   "source": [
    "# Paths\n",
    "OAK_FP = '/oak/stanford/groups/deho/building_compliance/'\n",
    "OUTPUT_FP = os.path.join(OAK_FP, 'outputs', 'Population-Estimates', 'outputs')\n",
    "INPUT_FP = os.path.join(OAK_FP, 'outputs', 'Population-Estimates', 'inputs')"
   ]
  },
  {
   "cell_type": "code",
   "execution_count": 4,
   "id": "38b34377",
   "metadata": {},
   "outputs": [],
   "source": [
    "dADU_permits = pd.read_csv(\n",
    "    os.path.join(OUTPUT_FP, 'IssuedADUs', 'Adu_Detach.csv'), dtype={'APN': str}, parse_dates=['DATE'])"
   ]
  },
  {
   "cell_type": "markdown",
   "id": "49a8a803",
   "metadata": {},
   "source": [
    "## Compute average time from permit issuance to completion "
   ]
  },
  {
   "cell_type": "code",
   "execution_count": 5,
   "id": "1770e80e",
   "metadata": {},
   "outputs": [],
   "source": [
    "soc_df = pd.DataFrame()\n",
    "soc_files = glob.glob(os.path.join(INPUT_FP, 'SOC', r'soc[0-9]*.csv'))\n",
    "\n",
    "for file in soc_files:\n",
    "    year = '20' + file.split(os.path.sep)[-1].replace('soc', '').replace('.csv', '')\n",
    "    soc_year = pd.read_csv(file)\n",
    "    soc_year['survey_year'] = year\n",
    "    soc_df = pd.concat([soc_df, soc_year])"
   ]
  },
  {
   "cell_type": "code",
   "execution_count": 6,
   "id": "6dcb00c8",
   "metadata": {},
   "outputs": [
    {
     "data": {
      "text/plain": [
       "['/oak/stanford/groups/deho/building_compliance/outputs/Population-Estimates/inputs/SOC/soc17.csv',\n",
       " '/oak/stanford/groups/deho/building_compliance/outputs/Population-Estimates/inputs/SOC/soc18.csv',\n",
       " '/oak/stanford/groups/deho/building_compliance/outputs/Population-Estimates/inputs/SOC/soc20.csv',\n",
       " '/oak/stanford/groups/deho/building_compliance/outputs/Population-Estimates/inputs/SOC/soc19.csv',\n",
       " '/oak/stanford/groups/deho/building_compliance/outputs/Population-Estimates/inputs/SOC/soc16.csv',\n",
       " '/oak/stanford/groups/deho/building_compliance/outputs/Population-Estimates/inputs/SOC/soc15.csv']"
      ]
     },
     "execution_count": 6,
     "metadata": {},
     "output_type": "execute_result"
    }
   ],
   "source": [
    "soc_files"
   ]
  },
  {
   "cell_type": "code",
   "execution_count": 7,
   "id": "c1e6e93f",
   "metadata": {},
   "outputs": [],
   "source": [
    "# Filter to Pacific division\n",
    "soc_df = soc_df.loc[soc_df['DIV'] == 9]"
   ]
  },
  {
   "cell_type": "code",
   "execution_count": 8,
   "id": "76a55723",
   "metadata": {},
   "outputs": [],
   "source": [
    "# Dates (start date, construction date, completion date)\n",
    "\n",
    "# As the survey includes single-family houses started, completed and/or sold in the US, some\n",
    "# observations have missing start or completion dates, coded as 0\n",
    "\n",
    "# Replace these 0 values with None \n",
    "soc_df['STRT'] = soc_df['STRT'].replace(0, np.nan)\n",
    "soc_df['COMP'] = soc_df['COMP'].replace(0, np.nan)\n",
    "\n",
    "# * Check that all dates are 6 characters YYYYMM\n",
    "#assert len(soc_df['STRT'].apply(lambda y: len(str(y))).unique()) == 1\n",
    "#assert len(soc_df['COMP'].apply(lambda y: len(str(y))).unique()) == 1\n",
    "assert len(soc_df['AUTH'].apply(lambda y: len(str(y))).unique()) == 1\n",
    "\n",
    "soc_df['permit_date'] = pd.to_datetime(soc_df['AUTH'], format='%Y%m')\n",
    "soc_df['start_date'] = pd.to_datetime(soc_df['STRT'], format='%Y%m')\n",
    "soc_df['completion_date'] = pd.to_datetime(soc_df['COMP'], format='%Y%m')"
   ]
  },
  {
   "cell_type": "code",
   "execution_count": 9,
   "id": "981c8c10",
   "metadata": {},
   "outputs": [],
   "source": [
    "# Time from permit to completion\n",
    "soc_df['permit_comp_delta'] = (soc_df['completion_date'] - soc_df['permit_date'])/np.timedelta64(1, 'M')"
   ]
  },
  {
   "cell_type": "code",
   "execution_count": 10,
   "id": "ad164b08",
   "metadata": {},
   "outputs": [
    {
     "data": {
      "image/png": "[encoded data removed]",
      "text/plain": [
       "<Figure size 640x480 with 1 Axes>"
      ]
     },
     "metadata": {},
     "output_type": "display_data"
    }
   ],
   "source": [
    "soc_df['permit_comp_delta'].hist()\n",
    "plt.title('Historgram of months from permit authorization to construction completion')\n",
    "plt.show()"
   ]
  },
  {
   "cell_type": "code",
   "execution_count": 11,
   "id": "41d8259f",
   "metadata": {},
   "outputs": [
    {
     "data": {
      "text/plain": [
       "count    13327.000000\n",
       "mean         8.886621\n",
       "std          6.242138\n",
       "min          0.985647\n",
       "25%          5.026797\n",
       "50%          6.998090\n",
       "75%         10.020740\n",
       "max         77.044703\n",
       "Name: permit_comp_delta, dtype: float64"
      ]
     },
     "execution_count": 11,
     "metadata": {},
     "output_type": "execute_result"
    }
   ],
   "source": [
    "# Average number of months is 8.9 months, median is 7 months \n",
    "soc_df['permit_comp_delta'].describe()"
   ]
  },
  {
   "cell_type": "markdown",
   "id": "3fe35a74",
   "metadata": {},
   "source": [
    "## Shift and compute annual counts"
   ]
  },
  {
   "cell_type": "code",
   "execution_count": 12,
   "id": "03d5f52a",
   "metadata": {},
   "outputs": [],
   "source": [
    "# Shift to completion date\n",
    "AVG_TIME_PERIOD = 8 # (in months) This is to be adjusted with updated survey data\n",
    "dADU_permits['completion_date_unadj'] = dADU_permits['DATE']\n",
    "dADU_permits['completion_date_adj'] = dADU_permits['DATE'].apply(\n",
    "    lambda date: date + relativedelta(months=AVG_TIME_PERIOD))"
   ]
  },
  {
   "cell_type": "code",
   "execution_count": 13,
   "id": "fae5ae2b",
   "metadata": {},
   "outputs": [],
   "source": [
    "dADU_permits['completion_year_adj'] = dADU_permits['completion_date_adj'].apply(lambda date: date.year)\n",
    "dADU_permits['completion_year_unadj'] = dADU_permits['completion_date_unadj'].apply(lambda date: date.year)"
   ]
  },
  {
   "cell_type": "code",
   "execution_count": 15,
   "id": "9c4a867a",
   "metadata": {},
   "outputs": [
    {
     "name": "stdout",
     "output_type": "stream",
     "text": [
      "<class 'pandas.core.frame.DataFrame'>\n",
      "RangeIndex: 1142 entries, 0 to 1141\n",
      "Data columns (total 11 columns):\n",
      " #   Column                 Non-Null Count  Dtype         \n",
      "---  ------                 --------------  -----         \n",
      " 0   FOLDERNUMBER           1142 non-null   object        \n",
      " 1   APN                    1133 non-null   object        \n",
      " 2   ISSUEDATE              1142 non-null   object        \n",
      " 3   SUBDESC                1142 non-null   object        \n",
      " 4   WORKDESC               1142 non-null   object        \n",
      " 5   PROP_ADDRESS           1142 non-null   object        \n",
      " 6   DATE                   1142 non-null   datetime64[ns]\n",
      " 7   completion_date_unadj  1142 non-null   datetime64[ns]\n",
      " 8   completion_date_adj    1142 non-null   datetime64[ns]\n",
      " 9   completion_year_adj    1142 non-null   int64         \n",
      " 10  completion_year_unadj  1142 non-null   int64         \n",
      "dtypes: datetime64[ns](3), int64(2), object(6)\n",
      "memory usage: 98.3+ KB\n"
     ]
    }
   ],
   "source": [
    "# \n",
    "dADU_permits.info()"
   ]
  },
  {
   "cell_type": "code",
   "execution_count": 107,
   "id": "974779f6",
   "metadata": {},
   "outputs": [],
   "source": [
    "# Aggregate\n",
    "annual_counts_adj = dADU_permits.groupby('completion_year_adj')['APN'].count().reset_index()\n",
    "annual_counts_unadj = dADU_permits.groupby('completion_year_unadj')['APN'].count().reset_index()\n",
    "\n",
    "annual_counts_adj.rename(columns={'completion_year_adj': 'year', 'APN': 'Count'}, inplace=True)\n",
    "annual_counts_adj['Count type'] = 'Adjusted'\n",
    "annual_counts_unadj.rename(columns={'completion_year_unadj': 'year', 'APN': 'Count'}, inplace=True)\n",
    "annual_counts_unadj['Count type'] = 'Unadjusted'"
   ]
  },
  {
   "cell_type": "code",
   "execution_count": 109,
   "id": "ba244e38",
   "metadata": {},
   "outputs": [],
   "source": [
    "annual_counts = pd.concat([annual_counts_adj, annual_counts_unadj])"
   ]
  },
  {
   "cell_type": "code",
   "execution_count": 110,
   "id": "3272a1b9",
   "metadata": {},
   "outputs": [
    {
     "data": {
      "text/html": [
       "<div>\n",
       "<style scoped>\n",
       "    .dataframe tbody tr th:only-of-type {\n",
       "        vertical-align: middle;\n",
       "    }\n",
       "\n",
       "    .dataframe tbody tr th {\n",
       "        vertical-align: top;\n",
       "    }\n",
       "\n",
       "    .dataframe thead th {\n",
       "        text-align: right;\n",
       "    }\n",
       "</style>\n",
       "<table border=\"1\" class=\"dataframe\">\n",
       "  <thead>\n",
       "    <tr style=\"text-align: right;\">\n",
       "      <th></th>\n",
       "      <th>year</th>\n",
       "      <th>Count</th>\n",
       "      <th>Count type</th>\n",
       "    </tr>\n",
       "  </thead>\n",
       "  <tbody>\n",
       "    <tr>\n",
       "      <th>0</th>\n",
       "      <td>2015</td>\n",
       "      <td>3</td>\n",
       "      <td>Adjusted</td>\n",
       "    </tr>\n",
       "    <tr>\n",
       "      <th>1</th>\n",
       "      <td>2016</td>\n",
       "      <td>7</td>\n",
       "      <td>Adjusted</td>\n",
       "    </tr>\n",
       "    <tr>\n",
       "      <th>2</th>\n",
       "      <td>2017</td>\n",
       "      <td>28</td>\n",
       "      <td>Adjusted</td>\n",
       "    </tr>\n",
       "    <tr>\n",
       "      <th>3</th>\n",
       "      <td>2018</td>\n",
       "      <td>60</td>\n",
       "      <td>Adjusted</td>\n",
       "    </tr>\n",
       "    <tr>\n",
       "      <th>4</th>\n",
       "      <td>2019</td>\n",
       "      <td>113</td>\n",
       "      <td>Adjusted</td>\n",
       "    </tr>\n",
       "  </tbody>\n",
       "</table>\n",
       "</div>"
      ],
      "text/plain": [
       "   year  Count Count type\n",
       "0  2015      3   Adjusted\n",
       "1  2016      7   Adjusted\n",
       "2  2017     28   Adjusted\n",
       "3  2018     60   Adjusted\n",
       "4  2019    113   Adjusted"
      ]
     },
     "execution_count": 110,
     "metadata": {},
     "output_type": "execute_result"
    }
   ],
   "source": [
    "annual_counts.head()"
   ]
  },
  {
   "cell_type": "code",
   "execution_count": 118,
   "id": "550e48f6",
   "metadata": {},
   "outputs": [
    {
     "data": {
      "image/png": "[encoded data removed]",
      "text/plain": [
       "<Figure size 640x480 with 1 Axes>"
      ]
     },
     "metadata": {},
     "output_type": "display_data"
    }
   ],
   "source": [
    "plt.clf()\n",
    "ax = sns.barplot(annual_counts, x='year', y='Count', hue='Count type')\n",
    "ax.set(xlabel='Year', ylabel='Number of detached ADUs')\n",
    "plt.show()"
   ]
  },
  {
   "cell_type": "code",
   "execution_count": 119,
   "id": "9d0864c7",
   "metadata": {},
   "outputs": [
    {
     "data": {
      "text/html": [
       "<div>\n",
       "<style scoped>\n",
       "    .dataframe tbody tr th:only-of-type {\n",
       "        vertical-align: middle;\n",
       "    }\n",
       "\n",
       "    .dataframe tbody tr th {\n",
       "        vertical-align: top;\n",
       "    }\n",
       "\n",
       "    .dataframe thead th {\n",
       "        text-align: right;\n",
       "    }\n",
       "</style>\n",
       "<table border=\"1\" class=\"dataframe\">\n",
       "  <thead>\n",
       "    <tr style=\"text-align: right;\">\n",
       "      <th></th>\n",
       "      <th>Count type</th>\n",
       "      <th>Count</th>\n",
       "    </tr>\n",
       "  </thead>\n",
       "  <tbody>\n",
       "    <tr>\n",
       "      <th>0</th>\n",
       "      <td>Adjusted</td>\n",
       "      <td>421</td>\n",
       "    </tr>\n",
       "    <tr>\n",
       "      <th>1</th>\n",
       "      <td>Unadjusted</td>\n",
       "      <td>548</td>\n",
       "    </tr>\n",
       "  </tbody>\n",
       "</table>\n",
       "</div>"
      ],
      "text/plain": [
       "   Count type  Count\n",
       "0    Adjusted    421\n",
       "1  Unadjusted    548"
      ]
     },
     "execution_count": 119,
     "metadata": {},
     "output_type": "execute_result"
    }
   ],
   "source": [
    "# 2016-2020 additions\n",
    "annual_counts.loc[annual_counts['year'].isin([2016, 2017, 2018, 2019, 2020])].groupby(\n",
    "    'Count type')['Count'].sum().reset_index()"
   ]
  }
 ],
 "metadata": {
  "kernelspec": {
   "display_name": "Python 3",
   "language": "python",
   "name": "python3"
  },
  "language_info": {
   "codemirror_mode": {
    "name": "ipython",
    "version": 3
   },
   "file_extension": ".py",
   "mimetype": "text/x-python",
   "name": "python",
   "nbconvert_exporter": "python",
   "pygments_lexer": "ipython3",
   "version": "3.8.10"
  }
 },
 "nbformat": 4,
 "nbformat_minor": 5
}
