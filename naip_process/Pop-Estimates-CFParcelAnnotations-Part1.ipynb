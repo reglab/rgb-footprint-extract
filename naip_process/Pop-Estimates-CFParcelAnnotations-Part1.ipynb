{
 "cells": [
  {
   "cell_type": "markdown",
   "id": "ff5c9dd4",
   "metadata": {},
   "source": [
    "# Process CF Parcel-level Annotations\n",
    "\n",
    "1. Batch 1: 5,500 residential parcels from a simple random sample (3.5%) across each of the 51 income strata\n",
    "2. Batch 2: ~3,000 residential parcels matching to AANC permits\n",
    "3. Batch 3: ~16,000 residential parcels (latest estimate) according Neyman allocation per the power analysis to detect a significant effect in the permitted new small building proportion in low vs. high income neighborhoods"
   ]
  },
  {
   "cell_type": "markdown",
   "id": "e5711ef5",
   "metadata": {},
   "source": [
    "**Outline:**\n",
    "\n",
    "Part 1: \n",
    "- Extract CF polygons -> This gives us a map of small buildings in each year (gdf)\n",
    "- Identify newly constructed small buildings (entirely new, replacement of old building)\n",
    "\n",
    "*Part 1 outputs:*\n",
    "- parcel_density: DataFrame of number of small buildings per parcel in 2016 and 2020\n",
    "- CF_area_coverage: shp of the parcels annotated by CF\n",
    "- sbuild_2020_compared: geoDataFrame of 2020 small buildings, including a flag for whether they are new constructions\n",
    "\n",
    "Part 2: \n",
    "- Permit-matching for newly constructed small buildings\n",
    "- Outcome analysis "
   ]
  },
  {
   "cell_type": "code",
   "execution_count": 76,
   "id": "a9656538",
   "metadata": {},
   "outputs": [],
   "source": [
    "import geopandas as gpd\n",
    "import glob\n",
    "import matplotlib.pyplot as plt\n",
    "import os\n",
    "import pandas as pd\n",
    "import pyproj\n",
    "import seaborn as sns\n",
    "from tqdm import tqdm\n",
    "from shapely import wkt\n",
    "import shapely\n",
    "\n",
    "import warnings\n",
    "warnings.simplefilter(action='ignore', category=FutureWarning)\n",
    "warnings.filterwarnings(\"ignore\")\n",
    "\n",
    "tqdm.pandas()"
   ]
  },
  {
   "cell_type": "code",
   "execution_count": 77,
   "id": "365edf3a",
   "metadata": {},
   "outputs": [],
   "source": [
    "# Load functions \n",
    "%run ADU_permit_matching-polygon-pipeline.ipynb import compare_building_footprint"
   ]
  },
  {
   "cell_type": "code",
   "execution_count": 78,
   "id": "4d829079",
   "metadata": {},
   "outputs": [],
   "source": [
    "# Paths\n",
    "OAK_FP = '/oak/stanford/groups/deho/building_compliance/'\n",
    "CF_FP = os.path.join(OAK_FP, 'CloudFactory')\n",
    "OUTPUT_FP = os.path.join(OAK_FP, 'outputs', 'Population-Estimates', 'outputs')\n",
    "\n",
    "# Parameters\n",
    "batch = 1\n",
    "completion = 100 # (completion rate of the batch so we can update as CF progresses without overwriting)\n",
    "construction_detection = 'CF' #['AT', 'CF', 'hybrid'][1]\n",
    "min_sqft = [0, 11.1484][1] # Note that 120sqft = 11.1484 sqm\n",
    "limit_to_GT = False\n",
    "\n",
    "subset = 100"
   ]
  },
  {
   "cell_type": "code",
   "execution_count": 79,
   "id": "d530ce77",
   "metadata": {},
   "outputs": [],
   "source": [
    "# Input data\n",
    "# * Universe of SJ res parcels assigned to each CBG\n",
    "sj_parcels_cbgs = gpd.read_file(os.path.join(OUTPUT_FP, 'sj-parcels-res-cbgs'))\n",
    "\n",
    "# * Income-stratified CBGs (from Pop-Estimates-Strata.ipynb)\n",
    "cbg_income_2016_SJ = gpd.read_file(os.path.join(OUTPUT_FP, 'Strata', 'cbg-income-strata'))"
   ]
  },
  {
   "cell_type": "code",
   "execution_count": 80,
   "id": "4128248a",
   "metadata": {},
   "outputs": [],
   "source": [
    "# Functions\n",
    "def compare_smallbuildings(gdf, comp_list, name_list, model_params):\n",
    "    \"\"\"\n",
    "    Compares the area of each building in gdf to the buildings in the GeoDataFrames in\n",
    "    comp_list to check for expansions/constructions.\n",
    "    \"\"\"\n",
    "    match_cols = ['building_index', 'APN', 'geometry'] +  [\n",
    "        'expansion_{}_flag'.format(comp_name) for comp_name in name_list] + [\n",
    "        'diff_{}_value'.format(comp_name) for comp_name in name_list]\n",
    "    \n",
    "    if gdf is None:\n",
    "        return None\n",
    "    \n",
    "    for comp_name in name_list:\n",
    "        gdf['expansion_{}_flag'.format(comp_name)] = None\n",
    "        gdf['diff_{}_value'.format(comp_name)] = None\n",
    "    \n",
    "    for comp, comp_name in zip(comp_list, name_list):\n",
    "        \n",
    "        if comp is None:\n",
    "            continue\n",
    "        \n",
    "        # Check expansion\n",
    "        if len(gdf) > 0:\n",
    "            comp['geometry_comp'] = comp['geometry']\n",
    "\n",
    "            # Get polygon in comp gdf to which we compare each polygon\n",
    "            comp = comp.reset_index()\n",
    "            gdf = gdf.sjoin(comp[['geometry', 'geometry_comp']], how='left', predicate='intersects')\n",
    "            gdf['iou_comp'] = gdf.apply(lambda row: (\n",
    "                row['geometry'].intersection(comp.iloc[int(row['index_right'])]['geometry'])).area / \n",
    "                                    row['geometry'].area if pd.notnull(row['index_right']) else None, axis=1)\n",
    "\n",
    "            # Have to account for potentially various matches for one inference (we compare to \n",
    "            # the one with highest overlap)\n",
    "            gdf = gdf.sort_values('iou_comp', ascending=False)\n",
    "            gdf.drop_duplicates(subset=['geometry'], keep='first', inplace=True)\n",
    "\n",
    "            # Check expansion for each polygon\n",
    "            gdf[['expansion_{}_flag'.format(comp_name), 'diff_{}_value'.format(comp_name)]] = gdf.apply(\n",
    "                lambda row: compare_building_footprint(\n",
    "                    base_geom=comp.iloc[int(row['index_right'])]['geometry'], \n",
    "                    new_geom=row['geometry'].union(comp.iloc[int(row['index_right'])]['geometry']), \n",
    "                    diff_type='protruding_poly', \n",
    "                    model_params=model_params, \n",
    "                    main_building_flag=False\n",
    "                ) if pd.notnull(row['index_right']) else (True, True), \n",
    "                axis=1, result_type=\"expand\")\n",
    "            \n",
    "            # Set area equal to the full polygon where we have a fully new small building\n",
    "            gdf.loc[gdf['diff_{}_value'.format(comp_name)] == True, 'diff_{}_value'.format(comp_name)] = gdf.loc[\n",
    "                gdf['diff_{}_value'.format(comp_name)] == True].to_crs('EPSG:26910')['geometry'].area\n",
    "\n",
    "        gdf = gdf[match_cols]\n",
    "\n",
    "    return gdf"
   ]
  },
  {
   "cell_type": "code",
   "execution_count": 81,
   "id": "a97d7389",
   "metadata": {},
   "outputs": [],
   "source": [
    "# Ground truth small building consutrction cases\n",
    "# Batch 1\n",
    "test_cases = {\n",
    "    'true(new)': [\n",
    "        '45120021', '44732030', '43933037', '44626011', '46432056', '43428123', \n",
    "        '27453041', '26462005', '30341002', '30334023', '47701055', '48125057',\n",
    "        '29928063', '37317034', '27726026', '30330004', '30327016', '24960051', \n",
    "        '24529043', '46227003', '26123040', '41934030', '44228010', '49704006', \n",
    "        '49724012', '49902047', '49927002', '59949012', '65219015', '01511081', \n",
    "        '48611010', '48612015', '48635017', '48804008', '48804026', '49109059',\n",
    "        '49119021', '49407021', '49709005', '49902084', '49916019', '56911050', \n",
    "        '56938060', '58629019', '59205028', '64920009', '65424001', '65937019', \n",
    "        '67032055', '67622042', '67849070', '68433070', '69205043', '69210133', \n",
    "        '69226014', '70617022', '68701028', '70101032', '68452040', '67018013', \n",
    "        '69501022', '67646016', '68922029', '26449031', \n",
    "    ],\n",
    "    'true(replace)': [\n",
    "        '43406087', '42933015', '27409002', '26435035', '24509006', '26117066', \n",
    "        '24902060', '48144016', '42914030', '48419045', '49461011', '59214041',\n",
    "        '67646033', '67832020', '47736020', '48446044', '49141060', '68918083', \n",
    "        '67303059', '67008008', '24928012', '47745061', '48129033', '48425023'\n",
    "    ],\n",
    "    'false': [\n",
    "        '44708058', '44629050', '43917076', '43409088', '42929009', '44626008', \n",
    "        '41944094', '42926032', '43915071', '42903018', '46714029', '44706008',\n",
    "        '43920020', '42940022', '44627033', '46705041', '46707017', '43946024', \n",
    "        '43429050', '42108046', '42923006', '43903050', '42117003', '42950063',\n",
    "        '43422021', '41917050', '42916008', '43424064', '42950046', '44638005', \n",
    "        '44709053', '45515080', '44232048', '42947023', '43925046', '43910021', \n",
    "        '46237003', '42908005', '44627041', '42906013', '43914059', '42924011', \n",
    "        '42114072', '27445085', '40304054', '24953062', '24927036', '24958007',\n",
    "        '25404032', '27423086', '27437020', '27438048', '28213044', '28214011',\n",
    "        '43412093', '43909051', '44245040', '46738010', '46740005', '01506001', \n",
    "        '47228068', '47229033', '47229085', '48426033', '48816030', \n",
    "        '56922048', # this is a hard case but it seems the small builds were just moved around\n",
    "        '58923068', '59108040', '64906009', '65438025', '68945071', '42935022', \n",
    "        '43917140', '46207052', '65215028', '69525051', '67310023', '67845058', \n",
    "        '46705073'\n",
    "    ], \n",
    "    'unsure': [\n",
    "        '48605010' # roof cover\n",
    "    ]\n",
    "}"
   ]
  },
  {
   "cell_type": "markdown",
   "id": "e059b303",
   "metadata": {},
   "source": [
    "## 1. Check batch completion and extract CF polygons"
   ]
  },
  {
   "cell_type": "code",
   "execution_count": 82,
   "id": "c5af08f7",
   "metadata": {},
   "outputs": [],
   "source": [
    "# Load batch data and batch query\n",
    "# * Submitted parcels\n",
    "submitted_parcels = glob.glob(os.path.join(CF_FP, 'images', 'batch{}'.format(batch), 'images', '*.png'))"
   ]
  },
  {
   "cell_type": "code",
   "execution_count": 83,
   "id": "94e2ebf5",
   "metadata": {},
   "outputs": [],
   "source": [
    "# * Annotated parcels\n",
    "annotated_parcels_files = glob.glob(\n",
    "    os.path.join(CF_FP, 'exports', 'Batch{}_{}'.format(batch, completion), '*.json'))\n",
    "annotated_parcels = [p.split(os.path.sep)[-1].replace('.json', '') for p in annotated_parcels_files]\n",
    "if len(annotated_parcels) == 0:\n",
    "    with open(os.path.join(CF_FP, 'exports', 'Batch{}_{}'.format(batch, completion), 'apn.txt'), 'r') as f:\n",
    "        annotated_parcels = f.readlines()\n",
    "\n",
    "smallbuild_parcels = sbuild['APN'].unique()\n",
    "\n",
    "# Generate shp of annotated area\n",
    "annotated_parcels_shp = sj_parcels_cbgs.loc[sj_parcels_cbgs['APN'].isin(annotated_parcels)].copy()"
   ]
  },
  {
   "cell_type": "code",
   "execution_count": 84,
   "id": "db90e14c",
   "metadata": {},
   "outputs": [
    {
     "name": "stdout",
     "output_type": "stream",
     "text": [
      "[INFO] Number of unique buildings: 850\n"
     ]
    }
   ],
   "source": [
    "# Load extracted polygons\n",
    "sbuild = pd.read_csv(\n",
    "    os.path.join(OAK_FP, 'CloudFactory/results/Batch{}_{}/processed_buildings.csv'.format(\n",
    "        batch, completion)), \n",
    "    dtype={'apn': str})\n",
    "sbuild.rename(columns={'apn': 'APN'}, inplace=True)\n",
    "sbuild.reset_index(inplace=True, drop=False)\n",
    "sbuild.rename(columns={'index': 'building_index'}, inplace=True)\n",
    "assert len(sbuild['building_index'].unique()) == len(sbuild)\n",
    "\n",
    "print('[INFO] Number of unique buildings: {}'.format(len(sbuild)))"
   ]
  },
  {
   "cell_type": "code",
   "execution_count": 85,
   "id": "d6b11553",
   "metadata": {},
   "outputs": [
    {
     "name": "stderr",
     "output_type": "stream",
     "text": [
      "100%|██████████| 850/850 [00:00<00:00, 6255.77it/s]\n",
      "100%|██████████| 850/850 [00:00<00:00, 6034.23it/s]"
     ]
    },
    {
     "name": "stdout",
     "output_type": "stream",
     "text": [
      "[INFO] Dropping 36 small buildings that do not meet the minimum area threshold.\n"
     ]
    },
    {
     "name": "stderr",
     "output_type": "stream",
     "text": [
      "\n"
     ]
    }
   ],
   "source": [
    "# Impose minimum size for small buildings\n",
    "\n",
    "# * Compute 2016 and 2020 areas\n",
    "wgs84 = pyproj.CRS('EPSG:26910')\n",
    "utm = pyproj.CRS('EPSG:4326')\n",
    "project = pyproj.Transformer.from_crs(utm, wgs84, always_xy=True).transform\n",
    "\n",
    "sbuild['2016_min_area'] = sbuild['2016'].progress_apply(\n",
    "    lambda geom: 0 if pd.isnull(geom) else shapely.ops.transform(project, wkt.loads(geom)).area)\n",
    "sbuild['2020_min_area'] = sbuild['2020'].progress_apply(\n",
    "    lambda geom: 0 if pd.isnull(geom) else shapely.ops.transform(project, wkt.loads(geom)).area)\n",
    "\n",
    "n_builds = len(sbuild)\n",
    "sbuild = sbuild.loc[(sbuild['2016_min_area'] >= min_sqft) | (sbuild['2020_min_area'] >= min_sqft)]\n",
    "\n",
    "print('[INFO] Dropping {} small buildings that do not meet the minimum area threshold.'.format(\n",
    "    n_builds - len(sbuild)))\n",
    "sbuild.drop(['2016_min_area', '2020_min_area'], axis=1, inplace=True)"
   ]
  },
  {
   "cell_type": "code",
   "execution_count": 86,
   "id": "3d7ebc69",
   "metadata": {},
   "outputs": [],
   "source": [
    "# Make gdf for each year\n",
    "sbuild16 = sbuild[['building_index', 'APN', '2016']].copy()\n",
    "sbuild16 = sbuild16.loc[~sbuild16['2016'].isna()]\n",
    "sbuild16['2016'] = sbuild16['2016'].apply(wkt.loads)\n",
    "sbuild16 = gpd.GeoDataFrame(sbuild16, geometry='2016', crs='EPSG:4326')\n",
    "\n",
    "sbuild20 = sbuild.copy()\n",
    "sbuild20.drop('2016', axis=1, inplace=True)\n",
    "sbuild20 = sbuild20.loc[~sbuild20['2020'].isna()]\n",
    "sbuild20['2020'] = sbuild20['2020'].apply(wkt.loads)\n",
    "sbuild20 = gpd.GeoDataFrame(sbuild20, geometry='2020', crs='EPSG:4326')"
   ]
  },
  {
   "cell_type": "code",
   "execution_count": 87,
   "id": "9b8d9a74",
   "metadata": {},
   "outputs": [
    {
     "name": "stdout",
     "output_type": "stream",
     "text": [
      "[INFO] Annotated 5536 parcels out of 5541 submitted parcels for batch 1 at 99% completion\n",
      "[INFO] 825 parcels including small buildings across both years\n"
     ]
    }
   ],
   "source": [
    "print('[INFO] Annotated {} parcels out of {} submitted parcels for batch {} at {}% completion'.format(\n",
    "    len(annotated_parcels), len(submitted_parcels), batch, \n",
    "    int(len(annotated_parcels) / len(submitted_parcels) * 100)))\n",
    "print('[INFO] {} parcels including small buildings across both years'.format(len(smallbuild_parcels)))"
   ]
  },
  {
   "cell_type": "markdown",
   "id": "bfc4e5c3",
   "metadata": {},
   "source": [
    "### 1.1 Generate dataframe of small building counts per parcel and CF area coverage"
   ]
  },
  {
   "cell_type": "code",
   "execution_count": 88,
   "id": "c09f9c67",
   "metadata": {},
   "outputs": [],
   "source": [
    "if not os.path.exists(os.path.join(OUTPUT_FP, 'Outcomes', 'B{}-{}'.format(\n",
    "    batch, completion))):\n",
    "    os.makedirs(os.path.join(OUTPUT_FP, 'Outcomes', 'B{}-{}'.format(batch, completion)))"
   ]
  },
  {
   "cell_type": "code",
   "execution_count": 89,
   "id": "350a304c",
   "metadata": {},
   "outputs": [],
   "source": [
    "parcel_density = sbuild.notna().groupby(sbuild['APN'])[['2016', '2020']].sum().reset_index()\n",
    "\n",
    "parcel_density = pd.DataFrame({'APN': annotated_parcels}).merge(\n",
    "    parcel_density, how='left', validate='one_to_one')\n",
    "\n",
    "parcel_density.fillna(0, inplace=True)\n",
    "parcel_density.to_csv(\n",
    "    os.path.join(OUTPUT_FP, 'Outcomes', 'B{}-{}'.format(batch, completion), \n",
    "                 'parcel_density-min{}.csv'.format(int(min_sqft))), \n",
    "    index=False)"
   ]
  },
  {
   "cell_type": "code",
   "execution_count": 90,
   "id": "e690cf8b",
   "metadata": {},
   "outputs": [],
   "source": [
    "CF_area_coverage = sj_parcels_cbgs.loc[sj_parcels_cbgs['APN'].isin(annotated_parcels)]\n",
    "CF_area_coverage.to_file(\n",
    "    os.path.join(OUTPUT_FP, 'Outcomes', 'B{}-{}'.format(batch, completion), 'CF_area_coverage'))"
   ]
  },
  {
   "cell_type": "code",
   "execution_count": 91,
   "id": "7bab6f1a",
   "metadata": {},
   "outputs": [
    {
     "name": "stdout",
     "output_type": "stream",
     "text": [
      "[INFO] 753 small buildings found in 2016; 800 small buildings found in 2020\n"
     ]
    }
   ],
   "source": [
    "print('[INFO] {} small buildings found in 2016; {} small buildings found in 2020'.format(\n",
    "    int(parcel_density['2016'].sum()), int(parcel_density['2020'].sum())\n",
    "))"
   ]
  },
  {
   "cell_type": "markdown",
   "id": "b0fbe320",
   "metadata": {},
   "source": [
    "## 2. Identify newly constructed small buildings\n",
    "\n",
    "Two ways to identify construction events: 1) Using CF annotations directly (i.e., whether a polygon was copy-pasted or not) `CF`; 2) using area-thresholds (this does not allow us to detect material changes to buildings that did not have a significant change on the building footprint) `AT`; 3) the hybrid method uses CF annotations directly for annotations made after the CF guideliness were issued, and uses the area threshold method for those made before the guidelines were issued."
   ]
  },
  {
   "cell_type": "code",
   "execution_count": 92,
   "id": "1daae514",
   "metadata": {},
   "outputs": [],
   "source": [
    "# Cloud Factory detection\n",
    "sbuild_2020_compared = sbuild20.copy()\n",
    "\n",
    "sbuild_2020_compared['area'] = sbuild_2020_compared.to_crs('EPSG:26910').geometry.area\n",
    "sbuild_2020_compared['year'] = '2020'\n",
    "\n",
    "# Construction event if exact_match == 0\n",
    "sbuild_2020_compared['expansion_2016_flag_CF'] = 1 - sbuild_2020_compared['exact_match']"
   ]
  },
  {
   "cell_type": "code",
   "execution_count": 93,
   "id": "f63eaa5c",
   "metadata": {},
   "outputs": [],
   "source": [
    "# Area Threshold detection\n",
    "if construction_detection != 'CF':\n",
    "    sbuild_2020_compared_AT = gpd.GeoDataFrame()\n",
    "\n",
    "    for parcel_apn in tqdm(sbuild20['APN'].unique()):\n",
    "        # Get annual small building gdfs\n",
    "        parcel_sbuild_2020 = sbuild20.loc[sbuild20['APN'] == parcel_apn].copy()\n",
    "        parcel_sbuild_2016 = sbuild16.loc[sbuild16['APN'] == parcel_apn].copy()\n",
    "\n",
    "        parcel_sbuild_2020.rename(columns={'2020': 'geometry'}, inplace=True)\n",
    "        parcel_sbuild_2016.rename(columns={'2016': 'geometry'}, inplace=True)\n",
    "\n",
    "        parcel_sbuild_2020 = gpd.GeoDataFrame(parcel_sbuild_2020, crs='EPSG:4326')\n",
    "        parcel_sbuild_2016 = gpd.GeoDataFrame(parcel_sbuild_2016, crs='EPSG:4326')\n",
    "\n",
    "        # Check for new constructions\n",
    "        parcel_sbuild_2020 = compare_smallbuildings(\n",
    "            gdf=parcel_sbuild_2020, comp_list=[parcel_sbuild_2016], \n",
    "            name_list=['2016'], \n",
    "            model_params={'area_threshold_main': None, 'area_threshold_small': 20, \n",
    "                          'negative_buffer': 0.5})\n",
    "\n",
    "        # Append\n",
    "        sbuild_2020_compared_AT = pd.concat([sbuild_2020_compared_AT, parcel_sbuild_2020])\n",
    "\n",
    "    if 'index_right' in sbuild_2020_compared.columns:\n",
    "        sbuild_2020_compared_AT.drop('index_right', inplace=True, axis=1)\n",
    "\n",
    "    sbuild_2020_compared_AT.rename(columns={'expansion_2016_flag': 'expansion_2016_flag_AT'}, inplace=True)"
   ]
  },
  {
   "cell_type": "code",
   "execution_count": 94,
   "id": "7b902b0d",
   "metadata": {},
   "outputs": [],
   "source": [
    "# Merge\n",
    "if construction_detection != 'CF':\n",
    "    sbuild_2020_compared = pd.merge(\n",
    "        sbuild_2020_compared, sbuild_2020_compared_AT[['building_index', 'expansion_2016_flag_AT']], \n",
    "        on='building_index', validate='one_to_one'\n",
    "    )"
   ]
  },
  {
   "cell_type": "code",
   "execution_count": 95,
   "id": "6b0a11b6",
   "metadata": {},
   "outputs": [],
   "source": [
    "if construction_detection == 'CF':\n",
    "    sbuild_2020_compared['expansion_2016_flag'] = sbuild_2020_compared['expansion_2016_flag_CF']\n",
    "elif construction_detection == 'AT':\n",
    "    sbuild_2020_compared['expansion_2016_flag'] = sbuild_2020_compared['expansion_2016_flag_AT']\n",
    "elif construction_detection == 'hybrid':\n",
    "    sbuild_2020_compared['expansion_2016_flag'] = sbuild_2020_compared.apply(\n",
    "        lambda row: row['expansion_2016_flag_CF'] if row['correct_procedure'] == 1 else row['expansion_2016_flag_AT'], axis=1)\n",
    "else:\n",
    "    raise Exception('[ERROR] Check method for construction events.')\n",
    "    \n",
    "sbuild_2020_compared['expansion_2016_flag'] = sbuild_2020_compared['expansion_2016_flag'].astype(bool)"
   ]
  },
  {
   "cell_type": "code",
   "execution_count": 96,
   "id": "856081dc",
   "metadata": {},
   "outputs": [],
   "source": [
    "# Limit to ground truth cases\n",
    "if limit_to_GT:\n",
    "    print('[INFO] Number of predicted construction events: {}'.format(\n",
    "        sbuild_2020_compared['expansion_2016_flag'].sum()))\n",
    "    \n",
    "    # Drop false positives\n",
    "    # Note: False cases have NO small building construction events. True parcels can have\n",
    "    # false events as there can be multiple small buildings in a parcel\n",
    "    sbuild_2020_compared.loc[\n",
    "        sbuild_2020_compared['APN'].isin(test_cases['false']), ['expansion_2016_flag']] = False \n",
    "    \n",
    "    print('[INFO] Number of construction events after dropping FPs: {}'.format(\n",
    "        sbuild_2020_compared['expansion_2016_flag'].sum()))\n",
    "    \n",
    "    # Note that we can't add false negatives because there can be multiple buildings\n",
    "    # at the parcel level. We can only add those that belong to parcels that have a single building\n",
    "    # as we can then indeed affirm that the building is associated with a construction event. \n",
    "    single_build_apns = sbuild_2020_compared.groupby('APN')['building_index'].count().reset_index()\n",
    "    single_build_apns = single_build_apns.loc[single_build_apns['building_index'] < 2]\n",
    "    # * negatives\n",
    "    FN_sbuild = sbuild_2020_compared.loc[sbuild_2020_compared['expansion_2016_flag'] == False].copy()\n",
    "    # * Potential FNs: some are TNs but belong to parcels where another small building is a FN\n",
    "    PFN_sbuild = FN_sbuild.loc[\n",
    "        FN_sbuild['APN'].isin(test_cases['true(new)'] + test_cases['true(replace)'])]\n",
    "    # * FNs with a single small building\n",
    "    FN_single_sbuild = PFN_sbuild.loc[PFN_sbuild['APN'].isin(single_build_apns)]\n",
    "    FN_single_sbuild = FN_single_sbuild['APN'].unique()\n",
    "    \n",
    "    #sbuild_2020_compared.loc[\n",
    "    #    sbuild_2020_compared['APN'].isin(FN_single_sbuild), ['expansion_2016_flag']] = True \n",
    "    \n",
    "    print('[INFO] Number of construction events after adding FNs: {}'.format(\n",
    "        sbuild_2020_compared['expansion_2016_flag'].sum()))\n",
    "    \n",
    "    print('[INFO] Note: Potentially missing {} construction events'.format(\n",
    "        len(PFN_sbuild) - len(FN_single_sbuild)))"
   ]
  },
  {
   "cell_type": "code",
   "execution_count": 97,
   "id": "9c960a2b",
   "metadata": {},
   "outputs": [
    {
     "name": "stdout",
     "output_type": "stream",
     "text": [
      "[INFO] We have 1553 small building annotations across 825 parcels for both years.\n",
      "[INFO] We have 800 small building annotations for 2020; and identify 195 of these to be built after 2016\n"
     ]
    }
   ],
   "source": [
    "print('[INFO] We have {} small building annotations across {} parcels for both years.'.format(\n",
    "    sbuild[['2016', '2020']].notna().sum().sum(), len(smallbuild_parcels)))\n",
    "print('[INFO] We have {} small building annotations for 2020; and '\n",
    "      'identify {} of these to be built after 2016'.format(\n",
    "      len(sbuild_2020_compared), sbuild_2020_compared['expansion_2016_flag'].sum()))"
   ]
  },
  {
   "cell_type": "code",
   "execution_count": 98,
   "id": "e87b1a56",
   "metadata": {},
   "outputs": [],
   "source": [
    "sbuild_2020_compared[['APN', 'area', 'year', 'expansion_2016_flag']].to_csv(os.path.join(\n",
    "    OUTPUT_FP, 'Outcomes', 'B{}-{}'.format(batch, completion), \n",
    "    'sbuild_2020_compared-{}-min{}.csv'.format(construction_detection, int(min_sqft))), index=False)"
   ]
  },
  {
   "cell_type": "code",
   "execution_count": 99,
   "id": "ef8bfa9b",
   "metadata": {},
   "outputs": [],
   "source": [
    "sbuild_2020_compared.to_file(os.path.join(\n",
    "    OUTPUT_FP, 'Outcomes', 'B{}-{}'.format(batch, completion), \n",
    "    'sbuild_2020_compared-{}-min{}'.format(construction_detection, int(min_sqft))), index=False)"
   ]
  },
  {
   "cell_type": "markdown",
   "id": "1abee6da",
   "metadata": {},
   "source": [
    "### 2.1 Check whether we pass test cases\n",
    "These are manually collected ground truth cases on parcels with no small building construction events (false), cases with entirely new small buildings (true-new) and cases with small buildings that replace old structures (true-replace)."
   ]
  },
  {
   "cell_type": "code",
   "execution_count": 100,
   "id": "fcd7880c",
   "metadata": {
    "scrolled": true
   },
   "outputs": [
    {
     "name": "stdout",
     "output_type": "stream",
     "text": [
      "[INFO] True (new) additions: 49/51 out of 64 cases\n",
      "[INFO] True (replace) additions: 21/21 out of 24 cases\n",
      "[INFO] False additions: 37/60 out of 79 cases\n"
     ]
    }
   ],
   "source": [
    "# These checks ensure that at least one small building in the parcel is marked for a\n",
    "# construction event. \n",
    "new_add = sbuild_2020_compared.loc[sbuild_2020_compared['APN'].isin(test_cases['true(new)'])].copy()\n",
    "new_add = new_add.groupby('APN')['expansion_2016_flag'].sum().reset_index()\n",
    "new_add['expansion'] = new_add['expansion_2016_flag'].apply(lambda x: min(x, 1))\n",
    "\n",
    "print('[INFO] True (new) additions: {}/{} out of {} cases'.format(\n",
    "    new_add['expansion'].sum(), len(new_add), len(test_cases['true(new)'])))\n",
    "\n",
    "replace_add = sbuild_2020_compared.loc[sbuild_2020_compared['APN'].isin(test_cases['true(replace)'])].copy()\n",
    "replace_add = replace_add.groupby('APN')['expansion_2016_flag'].sum().reset_index()\n",
    "replace_add['expansion'] = replace_add['expansion_2016_flag'].apply(lambda x: min(x, 1))\n",
    "\n",
    "print('[INFO] True (replace) additions: {}/{} out of {} cases'.format(\n",
    "    replace_add['expansion'].sum(), len(replace_add), len(test_cases['true(replace)'])))\n",
    "\n",
    "# This check ensures that no small building in these parcels is marked for a construction event. \n",
    "false_add = sbuild_2020_compared.loc[sbuild_2020_compared['APN'].isin(test_cases['false'])].copy()\n",
    "false_add = false_add.groupby('APN')['expansion_2016_flag'].sum().reset_index()\n",
    "false_add['expansion'] = false_add['expansion_2016_flag'].apply(lambda x: min(x, 1))\n",
    "\n",
    "print('[INFO] False additions: {}/{} out of {} cases'.format(\n",
    "    len(false_add) - false_add['expansion'].sum(), len(false_add), len(test_cases['false'])))"
   ]
  },
  {
   "cell_type": "code",
   "execution_count": 65,
   "id": "bb31f54c",
   "metadata": {},
   "outputs": [
    {
     "data": {
      "text/html": [
       "<div>\n",
       "<style scoped>\n",
       "    .dataframe tbody tr th:only-of-type {\n",
       "        vertical-align: middle;\n",
       "    }\n",
       "\n",
       "    .dataframe tbody tr th {\n",
       "        vertical-align: top;\n",
       "    }\n",
       "\n",
       "    .dataframe thead th {\n",
       "        text-align: right;\n",
       "    }\n",
       "</style>\n",
       "<table border=\"1\" class=\"dataframe\">\n",
       "  <thead>\n",
       "    <tr style=\"text-align: right;\">\n",
       "      <th></th>\n",
       "      <th>APN</th>\n",
       "      <th>expansion_2016_flag</th>\n",
       "      <th>expansion</th>\n",
       "    </tr>\n",
       "  </thead>\n",
       "  <tbody>\n",
       "    <tr>\n",
       "      <th>27</th>\n",
       "      <td>68452040</td>\n",
       "      <td>0</td>\n",
       "      <td>0</td>\n",
       "    </tr>\n",
       "    <tr>\n",
       "      <th>34</th>\n",
       "      <td>70101032</td>\n",
       "      <td>0</td>\n",
       "      <td>0</td>\n",
       "    </tr>\n",
       "  </tbody>\n",
       "</table>\n",
       "</div>"
      ],
      "text/plain": [
       "         APN  expansion_2016_flag  expansion\n",
       "27  68452040                    0          0\n",
       "34  70101032                    0          0"
      ]
     },
     "execution_count": 65,
     "metadata": {},
     "output_type": "execute_result"
    }
   ],
   "source": [
    "new_add.loc[new_add['expansion'] == 0]"
   ]
  },
  {
   "cell_type": "code",
   "execution_count": 58,
   "id": "ee9a9de6",
   "metadata": {
    "scrolled": false
   },
   "outputs": [
    {
     "data": {
      "text/html": [
       "<div>\n",
       "<style scoped>\n",
       "    .dataframe tbody tr th:only-of-type {\n",
       "        vertical-align: middle;\n",
       "    }\n",
       "\n",
       "    .dataframe tbody tr th {\n",
       "        vertical-align: top;\n",
       "    }\n",
       "\n",
       "    .dataframe thead th {\n",
       "        text-align: right;\n",
       "    }\n",
       "</style>\n",
       "<table border=\"1\" class=\"dataframe\">\n",
       "  <thead>\n",
       "    <tr style=\"text-align: right;\">\n",
       "      <th></th>\n",
       "      <th>APN</th>\n",
       "      <th>area</th>\n",
       "      <th>year</th>\n",
       "      <th>expansion_2016_flag</th>\n",
       "    </tr>\n",
       "  </thead>\n",
       "  <tbody>\n",
       "    <tr>\n",
       "      <th>29</th>\n",
       "      <td>24915056</td>\n",
       "      <td>31.365</td>\n",
       "      <td>2020</td>\n",
       "      <td>True</td>\n",
       "    </tr>\n",
       "    <tr>\n",
       "      <th>36</th>\n",
       "      <td>24928012</td>\n",
       "      <td>67.680</td>\n",
       "      <td>2020</td>\n",
       "      <td>True</td>\n",
       "    </tr>\n",
       "    <tr>\n",
       "      <th>42</th>\n",
       "      <td>24938019</td>\n",
       "      <td>43.875</td>\n",
       "      <td>2020</td>\n",
       "      <td>True</td>\n",
       "    </tr>\n",
       "    <tr>\n",
       "      <th>51</th>\n",
       "      <td>25411059</td>\n",
       "      <td>28.620</td>\n",
       "      <td>2020</td>\n",
       "      <td>True</td>\n",
       "    </tr>\n",
       "    <tr>\n",
       "      <th>73</th>\n",
       "      <td>26421037</td>\n",
       "      <td>46.710</td>\n",
       "      <td>2020</td>\n",
       "      <td>True</td>\n",
       "    </tr>\n",
       "    <tr>\n",
       "      <th>74</th>\n",
       "      <td>26436110</td>\n",
       "      <td>10.080</td>\n",
       "      <td>2020</td>\n",
       "      <td>True</td>\n",
       "    </tr>\n",
       "    <tr>\n",
       "      <th>88</th>\n",
       "      <td>26449031</td>\n",
       "      <td>14.175</td>\n",
       "      <td>2020</td>\n",
       "      <td>True</td>\n",
       "    </tr>\n",
       "    <tr>\n",
       "      <th>103</th>\n",
       "      <td>27412054</td>\n",
       "      <td>25.740</td>\n",
       "      <td>2020</td>\n",
       "      <td>True</td>\n",
       "    </tr>\n",
       "    <tr>\n",
       "      <th>139</th>\n",
       "      <td>28826037</td>\n",
       "      <td>153.360</td>\n",
       "      <td>2020</td>\n",
       "      <td>True</td>\n",
       "    </tr>\n",
       "    <tr>\n",
       "      <th>155</th>\n",
       "      <td>40358067</td>\n",
       "      <td>13.455</td>\n",
       "      <td>2020</td>\n",
       "      <td>True</td>\n",
       "    </tr>\n",
       "    <tr>\n",
       "      <th>164</th>\n",
       "      <td>42902039</td>\n",
       "      <td>53.550</td>\n",
       "      <td>2020</td>\n",
       "      <td>True</td>\n",
       "    </tr>\n",
       "    <tr>\n",
       "      <th>220</th>\n",
       "      <td>43940197</td>\n",
       "      <td>15.345</td>\n",
       "      <td>2020</td>\n",
       "      <td>True</td>\n",
       "    </tr>\n",
       "    <tr>\n",
       "      <th>226</th>\n",
       "      <td>44704108</td>\n",
       "      <td>39.510</td>\n",
       "      <td>2020</td>\n",
       "      <td>True</td>\n",
       "    </tr>\n",
       "    <tr>\n",
       "      <th>260</th>\n",
       "      <td>46737004</td>\n",
       "      <td>91.620</td>\n",
       "      <td>2020</td>\n",
       "      <td>True</td>\n",
       "    </tr>\n",
       "    <tr>\n",
       "      <th>279</th>\n",
       "      <td>47745061</td>\n",
       "      <td>71.820</td>\n",
       "      <td>2020</td>\n",
       "      <td>True</td>\n",
       "    </tr>\n",
       "    <tr>\n",
       "      <th>289</th>\n",
       "      <td>48116063</td>\n",
       "      <td>48.915</td>\n",
       "      <td>2020</td>\n",
       "      <td>True</td>\n",
       "    </tr>\n",
       "    <tr>\n",
       "      <th>294</th>\n",
       "      <td>48128059</td>\n",
       "      <td>13.725</td>\n",
       "      <td>2020</td>\n",
       "      <td>True</td>\n",
       "    </tr>\n",
       "    <tr>\n",
       "      <th>295</th>\n",
       "      <td>48129033</td>\n",
       "      <td>48.285</td>\n",
       "      <td>2020</td>\n",
       "      <td>True</td>\n",
       "    </tr>\n",
       "    <tr>\n",
       "      <th>308</th>\n",
       "      <td>48425023</td>\n",
       "      <td>22.230</td>\n",
       "      <td>2020</td>\n",
       "      <td>True</td>\n",
       "    </tr>\n",
       "    <tr>\n",
       "      <th>315</th>\n",
       "      <td>48605010</td>\n",
       "      <td>19.980</td>\n",
       "      <td>2020</td>\n",
       "      <td>True</td>\n",
       "    </tr>\n",
       "    <tr>\n",
       "      <th>319</th>\n",
       "      <td>48617007</td>\n",
       "      <td>98.910</td>\n",
       "      <td>2020</td>\n",
       "      <td>True</td>\n",
       "    </tr>\n",
       "    <tr>\n",
       "      <th>496</th>\n",
       "      <td>68432012</td>\n",
       "      <td>15.840</td>\n",
       "      <td>2020</td>\n",
       "      <td>True</td>\n",
       "    </tr>\n",
       "    <tr>\n",
       "      <th>502</th>\n",
       "      <td>68452041</td>\n",
       "      <td>26.775</td>\n",
       "      <td>2020</td>\n",
       "      <td>True</td>\n",
       "    </tr>\n",
       "    <tr>\n",
       "      <th>507</th>\n",
       "      <td>68517057</td>\n",
       "      <td>17.280</td>\n",
       "      <td>2020</td>\n",
       "      <td>True</td>\n",
       "    </tr>\n",
       "    <tr>\n",
       "      <th>524</th>\n",
       "      <td>68955095</td>\n",
       "      <td>57.465</td>\n",
       "      <td>2020</td>\n",
       "      <td>True</td>\n",
       "    </tr>\n",
       "  </tbody>\n",
       "</table>\n",
       "</div>"
      ],
      "text/plain": [
       "          APN     area  year  expansion_2016_flag\n",
       "29   24915056   31.365  2020                 True\n",
       "36   24928012   67.680  2020                 True\n",
       "42   24938019   43.875  2020                 True\n",
       "51   25411059   28.620  2020                 True\n",
       "73   26421037   46.710  2020                 True\n",
       "74   26436110   10.080  2020                 True\n",
       "88   26449031   14.175  2020                 True\n",
       "103  27412054   25.740  2020                 True\n",
       "139  28826037  153.360  2020                 True\n",
       "155  40358067   13.455  2020                 True\n",
       "164  42902039   53.550  2020                 True\n",
       "220  43940197   15.345  2020                 True\n",
       "226  44704108   39.510  2020                 True\n",
       "260  46737004   91.620  2020                 True\n",
       "279  47745061   71.820  2020                 True\n",
       "289  48116063   48.915  2020                 True\n",
       "294  48128059   13.725  2020                 True\n",
       "295  48129033   48.285  2020                 True\n",
       "308  48425023   22.230  2020                 True\n",
       "315  48605010   19.980  2020                 True\n",
       "319  48617007   98.910  2020                 True\n",
       "496  68432012   15.840  2020                 True\n",
       "502  68452041   26.775  2020                 True\n",
       "507  68517057   17.280  2020                 True\n",
       "524  68955095   57.465  2020                 True"
      ]
     },
     "execution_count": 58,
     "metadata": {},
     "output_type": "execute_result"
    }
   ],
   "source": [
    "# Check all construction cases\n",
    "ground_truth_cases = test_cases['true(new)'] + test_cases['true(replace)'] + test_cases['false']\n",
    "sbuild_2020_compared = sbuild_2020_compared[['APN', 'area', 'year', 'expansion_2016_flag']]\n",
    "sbuild_2020_compared.loc[\n",
    "    (sbuild_2020_compared['expansion_2016_flag'] == True) & ~(sbuild_2020_compared['APN'].isin(ground_truth_cases))]"
   ]
  },
  {
   "cell_type": "markdown",
   "id": "b536985f",
   "metadata": {},
   "source": [
    "### 2.2 Test specific cases"
   ]
  },
  {
   "cell_type": "code",
   "execution_count": 34,
   "id": "e04125bc",
   "metadata": {},
   "outputs": [],
   "source": [
    "parcel_apn = '27409002'\n",
    "parcel_sbuild = sbuild.loc[sbuild['APN'] == parcel_apn].copy()\n",
    "parcel_sbuild_2020 = parcel_sbuild.loc[parcel_sbuild['year'] == '2020'].copy()\n",
    "parcel_sbuild_2016 = parcel_sbuild.loc[parcel_sbuild['year'] == '2016'].copy()\n",
    "\n",
    "# Check for new constructions\n",
    "parcel_sbuild_2020 = compare_smallbuildings(\n",
    "    gdf=parcel_sbuild_2020, comp_list=[parcel_sbuild_2016], \n",
    "    name_list=['2016'], \n",
    "    model_params={'area_threshold_main': None, 'area_threshold_small': 20, \n",
    "                  'negative_buffer': 0.5})"
   ]
  },
  {
   "cell_type": "code",
   "execution_count": 35,
   "id": "ee4de758",
   "metadata": {},
   "outputs": [
    {
     "data": {
      "text/html": [
       "<div>\n",
       "<style scoped>\n",
       "    .dataframe tbody tr th:only-of-type {\n",
       "        vertical-align: middle;\n",
       "    }\n",
       "\n",
       "    .dataframe tbody tr th {\n",
       "        vertical-align: top;\n",
       "    }\n",
       "\n",
       "    .dataframe thead th {\n",
       "        text-align: right;\n",
       "    }\n",
       "</style>\n",
       "<table border=\"1\" class=\"dataframe\">\n",
       "  <thead>\n",
       "    <tr style=\"text-align: right;\">\n",
       "      <th></th>\n",
       "      <th>APN</th>\n",
       "      <th>area</th>\n",
       "      <th>year</th>\n",
       "      <th>geometry</th>\n",
       "      <th>expansion_2016_flag</th>\n",
       "      <th>diff_2016_value</th>\n",
       "    </tr>\n",
       "  </thead>\n",
       "  <tbody>\n",
       "    <tr>\n",
       "      <th>865</th>\n",
       "      <td>27409002</td>\n",
       "      <td>37.485</td>\n",
       "      <td>2020</td>\n",
       "      <td>POLYGON ((-121.92719 37.33260, -121.92723 37.3...</td>\n",
       "      <td>False</td>\n",
       "      <td>0.0</td>\n",
       "    </tr>\n",
       "  </tbody>\n",
       "</table>\n",
       "</div>"
      ],
      "text/plain": [
       "          APN    area  year  \\\n",
       "865  27409002  37.485  2020   \n",
       "\n",
       "                                              geometry  expansion_2016_flag  \\\n",
       "865  POLYGON ((-121.92719 37.33260, -121.92723 37.3...                False   \n",
       "\n",
       "     diff_2016_value  \n",
       "865              0.0  "
      ]
     },
     "execution_count": 35,
     "metadata": {},
     "output_type": "execute_result"
    }
   ],
   "source": [
    "parcel_sbuild_2020"
   ]
  }
 ],
 "metadata": {
  "kernelspec": {
   "display_name": "Python 3",
   "language": "python",
   "name": "python3"
  },
  "language_info": {
   "codemirror_mode": {
    "name": "ipython",
    "version": 3
   },
   "file_extension": ".py",
   "mimetype": "text/x-python",
   "name": "python",
   "nbconvert_exporter": "python",
   "pygments_lexer": "ipython3",
   "version": "3.8.10"
  }
 },
 "nbformat": 4,
 "nbformat_minor": 5
}
