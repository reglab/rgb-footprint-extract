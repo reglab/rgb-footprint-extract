{
 "cells": [
  {
   "cell_type": "markdown",
   "id": "46e3faba",
   "metadata": {},
   "source": [
    "# Define Parcel APNs and boundaries"
   ]
  },
  {
   "cell_type": "code",
   "execution_count": 1,
   "id": "3f780a51",
   "metadata": {},
   "outputs": [],
   "source": [
    "import matplotlib.pyplot as plt\n",
    "import numpy as np\n",
    "import seaborn as sns\n",
    "from tqdm import tqdm\n",
    "import geopandas as gpd\n",
    "import pandas as pd\n",
    "import os\n",
    "\n",
    "tqdm.pandas()"
   ]
  },
  {
   "cell_type": "code",
   "execution_count": 2,
   "id": "109ea9ab",
   "metadata": {},
   "outputs": [],
   "source": [
    "# Paths\n",
    "OAK_FP = '/oak/stanford/groups/deho/building_compliance/'\n",
    "OUTPUT_FP = os.path.join(OAK_FP, 'outputs', 'Population-Estimates', 'outputs')\n",
    "INPUT_FP = os.path.join(OAK_FP, 'outputs', 'Population-Estimates', 'inputs')"
   ]
  },
  {
   "cell_type": "code",
   "execution_count": 3,
   "id": "653f8216",
   "metadata": {},
   "outputs": [],
   "source": [
    "# Raw permit data (subset to AANC)\n",
    "bldg_recent = gpd.read_file(os.path.join(OAK_FP, 'permits', 'bldg_recent.geojson'))\n",
    "bldg_active = gpd.read_file(os.path.join(OAK_FP, 'permits', 'bldg_active.geojson'))\n",
    "bldg_expired = gpd.read_file(os.path.join(OAK_FP, 'permits', 'bldg_expired.geojson'))\n",
    "\n",
    "bldg_active['OBJECTID'] = bldg_active['OBJECTID'].astype(str).apply(lambda x: f'A_{x}')\n",
    "bldg_recent['OBJECTID'] = bldg_recent['OBJECTID'].astype(str).apply(lambda x: f'R_{x}')\n",
    "bldg_expired['OBJECTID'] = bldg_expired['OBJECTID'].astype(str).apply(lambda x: f'E_{x}')\n",
    "\n",
    "cols = list(bldg_active.columns) + ['permit_status']\n",
    "permits_raw = gpd.GeoDataFrame(columns=cols)\n",
    "for i, status in zip([bldg_active, bldg_recent, bldg_expired], ['active', 'recent', 'expired']):\n",
    "    i['permit_status'] = status\n",
    "    # Subset\n",
    "    i = i[i['WORKDESC'].isin(['New Construction', 'Additions/Alterations'])]\n",
    "    permits_raw = pd.concat([permits_raw, i])\n",
    "permits_raw = permits_raw.reset_index(drop=True)\n",
    "\n",
    "permits_raw.crs = \"EPSG:4326\"\n",
    "permits_raw['year'] = permits_raw['FOLDERNUM'].apply(lambda x: int(x.split('-')[0]))"
   ]
  },
  {
   "cell_type": "code",
   "execution_count": 4,
   "id": "d0fd8ba4",
   "metadata": {},
   "outputs": [],
   "source": [
    "# Our current data (just AA+NC permits)\n",
    "permits = pd.read_csv(os.path.join(OAK_FP, 'outputs/Permit-Matching/outputs/all_permits.csv'))\n",
    "permits['geometry_permit'] = gpd.GeoSeries.from_wkt(permits['geometry_permit'])\n",
    "permits.drop_duplicates(inplace=True)\n",
    "\n",
    "permits_raw.crs = \"EPSG:4326\""
   ]
  },
  {
   "cell_type": "code",
   "execution_count": 5,
   "id": "2724972e",
   "metadata": {},
   "outputs": [
    {
     "data": {
      "text/html": [
       "<div>\n",
       "<style scoped>\n",
       "    .dataframe tbody tr th:only-of-type {\n",
       "        vertical-align: middle;\n",
       "    }\n",
       "\n",
       "    .dataframe tbody tr th {\n",
       "        vertical-align: top;\n",
       "    }\n",
       "\n",
       "    .dataframe thead th {\n",
       "        text-align: right;\n",
       "    }\n",
       "</style>\n",
       "<table border=\"1\" class=\"dataframe\">\n",
       "  <thead>\n",
       "    <tr style=\"text-align: right;\">\n",
       "      <th></th>\n",
       "      <th>OBJECTID</th>\n",
       "      <th>FACILITYID</th>\n",
       "      <th>INTID</th>\n",
       "      <th>ADDRESS</th>\n",
       "      <th>APN</th>\n",
       "      <th>APPLICANT</th>\n",
       "      <th>CONTRACTOR</th>\n",
       "      <th>WORKDESC</th>\n",
       "      <th>SUBDESC</th>\n",
       "      <th>PERMITAPPROVAL</th>\n",
       "      <th>...</th>\n",
       "      <th>PERMITVALUE</th>\n",
       "      <th>SQUAREFOOT</th>\n",
       "      <th>FOLDERNUM</th>\n",
       "      <th>LASTUPDATE</th>\n",
       "      <th>LASTEDITOR</th>\n",
       "      <th>NOTES</th>\n",
       "      <th>ENTERPRISEID</th>\n",
       "      <th>geometry</th>\n",
       "      <th>permit_status</th>\n",
       "      <th>year</th>\n",
       "    </tr>\n",
       "  </thead>\n",
       "  <tbody>\n",
       "    <tr>\n",
       "      <th>0</th>\n",
       "      <td>A_294</td>\n",
       "      <td>351</td>\n",
       "      <td>351</td>\n",
       "      <td>2027  LOCKWOOD DR  , SAN JOSE CA 95132-1323</td>\n",
       "      <td>09226077</td>\n",
       "      <td>CHRISTOPHER CAO</td>\n",
       "      <td>None</td>\n",
       "      <td>New Construction</td>\n",
       "      <td>2nd Unit Added</td>\n",
       "      <td>B-Complete, E-Complete, M-Complete, P-Complete</td>\n",
       "      <td>...</td>\n",
       "      <td>71070.0</td>\n",
       "      <td>600</td>\n",
       "      <td>2018-109724-RS</td>\n",
       "      <td>1.622107e+12</td>\n",
       "      <td>FME</td>\n",
       "      <td></td>\n",
       "      <td>PLN-PBAC-0000000351</td>\n",
       "      <td>POINT (-121.86056 37.41525)</td>\n",
       "      <td>active</td>\n",
       "      <td>2018</td>\n",
       "    </tr>\n",
       "  </tbody>\n",
       "</table>\n",
       "<p>1 rows × 25 columns</p>\n",
       "</div>"
      ],
      "text/plain": [
       "  OBJECTID FACILITYID INTID                                      ADDRESS  \\\n",
       "0    A_294        351   351  2027  LOCKWOOD DR  , SAN JOSE CA 95132-1323   \n",
       "\n",
       "        APN         APPLICANT CONTRACTOR          WORKDESC         SUBDESC  \\\n",
       "0  09226077   CHRISTOPHER CAO       None  New Construction  2nd Unit Added   \n",
       "\n",
       "                                   PERMITAPPROVAL  ...  PERMITVALUE  \\\n",
       "0  B-Complete, E-Complete, M-Complete, P-Complete  ...      71070.0   \n",
       "\n",
       "   SQUAREFOOT       FOLDERNUM    LASTUPDATE LASTEDITOR  NOTES  \\\n",
       "0         600  2018-109724-RS  1.622107e+12        FME          \n",
       "\n",
       "          ENTERPRISEID                     geometry  permit_status  year  \n",
       "0  PLN-PBAC-0000000351  POINT (-121.86056 37.41525)         active  2018  \n",
       "\n",
       "[1 rows x 25 columns]"
      ]
     },
     "execution_count": 5,
     "metadata": {},
     "output_type": "execute_result"
    }
   ],
   "source": [
    "permits_raw.head(1)"
   ]
  },
  {
   "cell_type": "code",
   "execution_count": 6,
   "id": "e0e84742",
   "metadata": {},
   "outputs": [],
   "source": [
    "# SJ Residential parcels\n",
    "sj_parcels_cbgs = gpd.read_file(os.path.join(OUTPUT_FP, 'sj-parcels-res-cbgs'))"
   ]
  },
  {
   "cell_type": "code",
   "execution_count": null,
   "id": "9762d46e",
   "metadata": {},
   "outputs": [],
   "source": []
  },
  {
   "cell_type": "code",
   "execution_count": 8,
   "id": "7772082f",
   "metadata": {},
   "outputs": [],
   "source": [
    "length = sj_parcels_cbgs.to_crs('EPSG:26910')['geometry'].length"
   ]
  },
  {
   "cell_type": "code",
   "execution_count": 9,
   "id": "e83189a4",
   "metadata": {},
   "outputs": [
    {
     "data": {
      "text/plain": [
       "count    159930.000000\n",
       "mean        106.110200\n",
       "std          27.417965\n",
       "min           6.374590\n",
       "25%          97.517640\n",
       "50%         101.359958\n",
       "75%         111.801065\n",
       "max        1923.333389\n",
       "dtype: float64"
      ]
     },
     "execution_count": 9,
     "metadata": {},
     "output_type": "execute_result"
    }
   ],
   "source": [
    "length.describe()"
   ]
  },
  {
   "cell_type": "code",
   "execution_count": 11,
   "id": "a18d50b4",
   "metadata": {},
   "outputs": [],
   "source": [
    "area = sj_parcels_cbgs.to_crs('EPSG:26910')['geometry'].area"
   ]
  },
  {
   "cell_type": "code",
   "execution_count": 12,
   "id": "235ac8d3",
   "metadata": {},
   "outputs": [
    {
     "data": {
      "text/plain": [
       "count    159930.000000\n",
       "mean        649.345023\n",
       "std         310.211776\n",
       "min           1.102598\n",
       "25%         550.736357\n",
       "50%         589.161898\n",
       "75%         703.936382\n",
       "max        4991.710854\n",
       "dtype: float64"
      ]
     },
     "execution_count": 12,
     "metadata": {},
     "output_type": "execute_result"
    }
   ],
   "source": [
    "area.describe()"
   ]
  },
  {
   "cell_type": "code",
   "execution_count": 5,
   "id": "16372767",
   "metadata": {},
   "outputs": [],
   "source": [
    "# Assessor parcel data\n",
    "assessor_parcels = gpd.read_file(os.path.join(INPUT_FP, 'AssessorData', 'assessor_scc_parcels.geojson'))\n",
    "sj_assessor_parcels = assessor_parcels.loc[assessor_parcels['SITUS_CITY'] == 'SAN JOSE'].copy()"
   ]
  },
  {
   "cell_type": "code",
   "execution_count": null,
   "id": "b9c12ab2",
   "metadata": {},
   "outputs": [],
   "source": [
    "sj_assessor_parcels.head()"
   ]
  },
  {
   "cell_type": "code",
   "execution_count": 154,
   "id": "4144d8d7",
   "metadata": {},
   "outputs": [],
   "source": [
    "# Keep only parcel data\n",
    "sj_assessor_parcels = sj_assessor_parcels.loc[sj_assessor_parcels['FEATURE'] == 'PAR']\n",
    "\n",
    "sj_assessor_parcels = sj_assessor_parcels[[\n",
    "    'OBJECTID', 'APN', 'SITUS_HOUS', 'SITUS_STRE', 'SITUS_HO_1', 'SITUS_ST_1', 'SITUS_ST_2', 'SITUS_UNIT', \n",
    "    'SITUS_CITY', 'SITUS_STAT', 'SITUS_ZIP_', 'geometry'\n",
    "]].copy()"
   ]
  },
  {
   "cell_type": "code",
   "execution_count": 155,
   "id": "012fe6bb",
   "metadata": {},
   "outputs": [],
   "source": [
    "# Configure address\n",
    "sj_assessor_parcels['ADDRESS'] = sj_assessor_parcels.apply(\n",
    "    lambda row: '{} {} {} {} {} , {} {} {}'.format(\n",
    "        str(row['SITUS_HOUS'] or ''), \n",
    "        str(row['SITUS_STRE'] or ''), \n",
    "        #str(row['SITUS_HO_1'] or ''), \n",
    "        str(row['SITUS_ST_1'] or ''), \n",
    "        str(row['SITUS_ST_2'] or ''), \n",
    "        str(row['SITUS_UNIT'] or ''), \n",
    "        str(row['SITUS_CITY'] or ''), \n",
    "        str(row['SITUS_STAT'] or ''), \n",
    "        str(row['SITUS_ZIP_'] or '')), \n",
    "    axis=1)\n",
    "sj_assessor_parcels.rename(columns={'APN': 'ASSESSOR APN'}, inplace=True)"
   ]
  },
  {
   "cell_type": "code",
   "execution_count": 156,
   "id": "cc7ed470",
   "metadata": {},
   "outputs": [
    {
     "name": "stdout",
     "output_type": "stream",
     "text": [
      "[INFO] Duplicated addresses: 2589\n"
     ]
    }
   ],
   "source": [
    "# Handle address duplicates matching to different APNs\n",
    "# For now, drop all parcels that have duplicated addresses. \n",
    "print('[INFO] Duplicated addresses: {}'.format(sj_assessor_parcels.duplicated('ADDRESS').sum()))\n",
    "sj_assessor_parcels = sj_assessor_parcels.drop_duplicates(subset=['ADDRESS'], keep=False)"
   ]
  },
  {
   "cell_type": "code",
   "execution_count": 157,
   "id": "df423a8a",
   "metadata": {},
   "outputs": [],
   "source": [
    "# Check how many spatially-matched APNs match to assessor APNs\n",
    "# These are the 14,372 AANC permits in San Jose during the entire period. \n",
    "merged_permits = pd.merge(\n",
    "    permits_raw[['OBJECTID', 'APN', 'WORKDESC', 'ADDRESS', 'geometry']], \n",
    "    permits[['OBJECTID_left', 'APN_parcel', 'geometry_parcel', 'issue_year']], \n",
    "    how='left', left_on='OBJECTID', right_on='OBJECTID_left', validate='one_to_one'\n",
    ")\n",
    "(merged_permits['APN'] != merged_permits['APN_parcel']).sum()\n",
    "merged_permits.rename(columns={'APN': 'Permit APN', 'APN_parcel': 'SM APN'}, inplace=True)"
   ]
  },
  {
   "cell_type": "code",
   "execution_count": 143,
   "id": "053257a6",
   "metadata": {},
   "outputs": [],
   "source": [
    "#dupli = sj_assessor_parcels[sj_assessor_parcels.duplicated(subset=['ADDRESS'])]"
   ]
  },
  {
   "cell_type": "code",
   "execution_count": 158,
   "id": "f7d3d8df",
   "metadata": {},
   "outputs": [],
   "source": [
    "# Obtain Assessor APN based on permit address\n",
    "# First merge\n",
    "merged_permits = pd.merge(\n",
    "    merged_permits, sj_assessor_parcels[['ASSESSOR APN', 'ADDRESS']], how='left', \n",
    "    on='ADDRESS', validate='many_to_one')"
   ]
  },
  {
   "cell_type": "code",
   "execution_count": 159,
   "id": "6b315fe9",
   "metadata": {},
   "outputs": [
    {
     "name": "stdout",
     "output_type": "stream",
     "text": [
      "<class 'geopandas.geodataframe.GeoDataFrame'>\n",
      "Int64Index: 14372 entries, 0 to 14371\n",
      "Data columns (total 10 columns):\n",
      " #   Column           Non-Null Count  Dtype   \n",
      "---  ------           --------------  -----   \n",
      " 0   OBJECTID         14372 non-null  object  \n",
      " 1   Permit APN       14175 non-null  object  \n",
      " 2   WORKDESC         14372 non-null  object  \n",
      " 3   ADDRESS          14372 non-null  object  \n",
      " 4   geometry         14372 non-null  geometry\n",
      " 5   OBJECTID_left    14372 non-null  object  \n",
      " 6   SM APN           14232 non-null  object  \n",
      " 7   geometry_parcel  14261 non-null  object  \n",
      " 8   issue_year       14372 non-null  int64   \n",
      " 9   ASSESSOR APN     9941 non-null   object  \n",
      "dtypes: geometry(1), int64(1), object(8)\n",
      "memory usage: 1.2+ MB\n"
     ]
    }
   ],
   "source": [
    "merged_permits.info()"
   ]
  },
  {
   "cell_type": "code",
   "execution_count": 160,
   "id": "0807d909",
   "metadata": {},
   "outputs": [],
   "source": [
    "# We perform a second merge replacing full zip code with 5-digit zip code, as this\n",
    "# is missing from some entries of the permit data and not others. \n",
    "sj_assessor_parcels_av2 = sj_assessor_parcels.copy()\n",
    "sj_assessor_parcels_av2['ADDRESS'] = sj_assessor_parcels_av2.apply(\n",
    "    lambda row: '{} {} {} {} {} , {} {} {}'.format(\n",
    "        str(row['SITUS_HOUS'] or ''), \n",
    "        str(row['SITUS_STRE'] or ''), \n",
    "        #str(row['SITUS_HO_1'] or ''), \n",
    "        str(row['SITUS_ST_1'] or ''), \n",
    "        str(row['SITUS_ST_2'] or ''), \n",
    "        str(row['SITUS_UNIT'] or ''), \n",
    "        str(row['SITUS_CITY'] or ''), \n",
    "        str(row['SITUS_STAT'] or ''), \n",
    "        str(row['SITUS_ZIP_'].split('-')[0] or '')), \n",
    "    axis=1)\n",
    "sj_assessor_parcels_av2.rename(columns={'ASSESSOR APN': 'ASSESSOR APN2'}, inplace=True)\n",
    "sj_assessor_parcels_av2.drop_duplicates(subset=['ADDRESS'], keep=False, inplace=True)\n",
    "\n",
    "merged_permits = pd.merge(\n",
    "    merged_permits, sj_assessor_parcels_av2[['ASSESSOR APN2', 'ADDRESS']], how='left', \n",
    "    on='ADDRESS', validate='many_to_one')"
   ]
  },
  {
   "cell_type": "code",
   "execution_count": 202,
   "id": "240d7976",
   "metadata": {},
   "outputs": [
    {
     "name": "stdout",
     "output_type": "stream",
     "text": [
      "<class 'geopandas.geodataframe.GeoDataFrame'>\n",
      "Int64Index: 14372 entries, 0 to 14371\n",
      "Data columns (total 11 columns):\n",
      " #   Column           Non-Null Count  Dtype   \n",
      "---  ------           --------------  -----   \n",
      " 0   OBJECTID         14372 non-null  object  \n",
      " 1   Permit APN       14175 non-null  object  \n",
      " 2   WORKDESC         14372 non-null  object  \n",
      " 3   ADDRESS          14372 non-null  object  \n",
      " 4   geometry         14372 non-null  geometry\n",
      " 5   OBJECTID_left    14372 non-null  object  \n",
      " 6   SM APN           14232 non-null  object  \n",
      " 7   geometry_parcel  14261 non-null  object  \n",
      " 8   issue_year       14372 non-null  int64   \n",
      " 9   ASSESSOR APN     9966 non-null   object  \n",
      " 10  ASSESSOR APN3    9966 non-null   object  \n",
      "dtypes: geometry(1), int64(1), object(9)\n",
      "memory usage: 1.3+ MB\n"
     ]
    }
   ],
   "source": [
    "merged_permits.info()"
   ]
  },
  {
   "cell_type": "code",
   "execution_count": 201,
   "id": "4677d48b",
   "metadata": {},
   "outputs": [],
   "source": [
    "# Combine Assessor APNS\n",
    "merged_permits['ASSESSOR APN'] = merged_permits.apply(\n",
    "    lambda row: row['ASSESSOR APN2'] if pd.isnull(row['ASSESSOR APN']) else row['ASSESSOR APN'], axis=1)\n",
    "merged_permits.drop('ASSESSOR APN2', inplace=True, axis=1)"
   ]
  },
  {
   "cell_type": "code",
   "execution_count": 212,
   "id": "fc5288d4",
   "metadata": {},
   "outputs": [],
   "source": [
    "# Impute the remaining Assessor APNs spacially\n",
    "spatial_assesssor_permits = permits_raw.copy()\n",
    "spatial_assesssor_permits = spatial_assesssor_permits.sjoin(\n",
    "    sj_assessor_parcels[['ASSESSOR APN', 'ADDRESS', 'geometry']], \n",
    "    predicate='intersects', how='left')\n",
    "\n",
    "spatial_assesssor_permits = spatial_assesssor_permits.loc[\n",
    "    ~spatial_assesssor_permits['ASSESSOR APN'].isna()]\n",
    "\n",
    "spatial_assesssor_permits.rename(\n",
    "    columns={'ASSESSOR APN': 'SM ASSESSOR APN', 'ADDRESS_right': 'SM ASSESSOR ADRRESS'}, inplace=True)"
   ]
  },
  {
   "cell_type": "code",
   "execution_count": 213,
   "id": "688ede23",
   "metadata": {},
   "outputs": [],
   "source": [
    "merged_permits = pd.merge(\n",
    "    merged_permits, spatial_assesssor_permits[['OBJECTID', 'SM ASSESSOR APN', 'SM ASSESSOR ADRRESS']], \n",
    "    how='left', on='OBJECTID', validate='one_to_one')"
   ]
  },
  {
   "cell_type": "code",
   "execution_count": 216,
   "id": "45cead0a",
   "metadata": {},
   "outputs": [
    {
     "name": "stdout",
     "output_type": "stream",
     "text": [
      "<class 'geopandas.geodataframe.GeoDataFrame'>\n",
      "Int64Index: 14372 entries, 0 to 14371\n",
      "Data columns (total 12 columns):\n",
      " #   Column               Non-Null Count  Dtype   \n",
      "---  ------               --------------  -----   \n",
      " 0   OBJECTID             14372 non-null  object  \n",
      " 1   Permit APN           14175 non-null  object  \n",
      " 2   WORKDESC             14372 non-null  object  \n",
      " 3   ADDRESS              14372 non-null  object  \n",
      " 4   geometry             14372 non-null  geometry\n",
      " 5   OBJECTID_left        14372 non-null  object  \n",
      " 6   SM APN               14232 non-null  object  \n",
      " 7   geometry_parcel      14261 non-null  object  \n",
      " 8   issue_year           14372 non-null  int64   \n",
      " 9   ASSESSOR APN         9966 non-null   object  \n",
      " 10  SM ASSESSOR APN      13170 non-null  object  \n",
      " 11  SM ASSESSOR ADRRESS  13170 non-null  object  \n",
      "dtypes: geometry(1), int64(1), object(10)\n",
      "memory usage: 1.4+ MB\n"
     ]
    }
   ],
   "source": [
    "merged_permits.info()"
   ]
  },
  {
   "cell_type": "code",
   "execution_count": 217,
   "id": "7446f2c4",
   "metadata": {},
   "outputs": [
    {
     "data": {
      "text/plain": [
       "9908"
      ]
     },
     "execution_count": 217,
     "metadata": {},
     "output_type": "execute_result"
    }
   ],
   "source": [
    "(merged_permits['ASSESSOR APN'] == merged_permits['SM ASSESSOR APN']).sum()"
   ]
  },
  {
   "cell_type": "code",
   "execution_count": 226,
   "id": "1b9d210d",
   "metadata": {},
   "outputs": [],
   "source": [
    "# Summary stats\n",
    "summary_stats = merged_permits.copy()\n",
    "\n",
    "# Subset to permits issued 2015-2020\n",
    "summary_stats = summary_stats.loc[\n",
    "    summary_stats['issue_year'].isin([2015, 2016, 2017, 2018, 2019, 2020])]\n",
    "\n",
    "# Subset to residential parcels\n",
    "summary_stats = summary_stats.loc[summary_stats['SM APN'].isin(sj_parcels_cbgs['APN'])]"
   ]
  },
  {
   "cell_type": "code",
   "execution_count": 240,
   "id": "f7c62fe7",
   "metadata": {},
   "outputs": [
    {
     "data": {
      "text/plain": [
       "array(['New Construction', 'Additions/Alterations'], dtype=object)"
      ]
     },
     "execution_count": 240,
     "metadata": {},
     "output_type": "execute_result"
    }
   ],
   "source": [
    "summary_stats['WORKDESC'].unique()"
   ]
  },
  {
   "cell_type": "code",
   "execution_count": 227,
   "id": "1f5ee8d1",
   "metadata": {},
   "outputs": [
    {
     "name": "stdout",
     "output_type": "stream",
     "text": [
      "<class 'geopandas.geodataframe.GeoDataFrame'>\n",
      "Int64Index: 3176 entries, 0 to 14369\n",
      "Data columns (total 12 columns):\n",
      " #   Column               Non-Null Count  Dtype   \n",
      "---  ------               --------------  -----   \n",
      " 0   OBJECTID             3176 non-null   object  \n",
      " 1   Permit APN           3171 non-null   object  \n",
      " 2   WORKDESC             3176 non-null   object  \n",
      " 3   ADDRESS              3176 non-null   object  \n",
      " 4   geometry             3176 non-null   geometry\n",
      " 5   OBJECTID_left        3176 non-null   object  \n",
      " 6   SM APN               3176 non-null   object  \n",
      " 7   geometry_parcel      3176 non-null   object  \n",
      " 8   issue_year           3176 non-null   int64   \n",
      " 9   ASSESSOR APN         2872 non-null   object  \n",
      " 10  SM ASSESSOR APN      3141 non-null   object  \n",
      " 11  SM ASSESSOR ADRRESS  3141 non-null   object  \n",
      "dtypes: geometry(1), int64(1), object(10)\n",
      "memory usage: 322.6+ KB\n"
     ]
    }
   ],
   "source": [
    "summary_stats.info()"
   ]
  },
  {
   "cell_type": "code",
   "execution_count": 234,
   "id": "5699d363",
   "metadata": {},
   "outputs": [
    {
     "data": {
      "text/plain": [
       "3129"
      ]
     },
     "execution_count": 234,
     "metadata": {},
     "output_type": "execute_result"
    }
   ],
   "source": [
    "(summary_stats['SM APN'] == summary_stats['SM ASSESSOR APN']).sum()"
   ]
  },
  {
   "cell_type": "code",
   "execution_count": 235,
   "id": "df29d756",
   "metadata": {},
   "outputs": [
    {
     "data": {
      "text/plain": [
       "2967"
      ]
     },
     "execution_count": 235,
     "metadata": {},
     "output_type": "execute_result"
    }
   ],
   "source": [
    "(summary_stats['SM APN'] == summary_stats['Permit APN']).sum()"
   ]
  },
  {
   "cell_type": "code",
   "execution_count": 237,
   "id": "1f496c77",
   "metadata": {},
   "outputs": [
    {
     "data": {
      "text/plain": [
       "2861"
      ]
     },
     "execution_count": 237,
     "metadata": {},
     "output_type": "execute_result"
    }
   ],
   "source": [
    "(summary_stats['SM APN'] == summary_stats['ASSESSOR APN']).sum()"
   ]
  },
  {
   "cell_type": "markdown",
   "id": "c1fb7ef8",
   "metadata": {},
   "source": [
    "Prepare Batch #2 with those that do match"
   ]
  },
  {
   "cell_type": "code",
   "execution_count": 238,
   "id": "a98db7e5",
   "metadata": {},
   "outputs": [],
   "source": [
    "batch2 = summary_stats.copy()\n",
    "batch2 = batch2.loc[(batch2['SM APN'] == batch2['SM ASSESSOR APN'])]"
   ]
  },
  {
   "cell_type": "code",
   "execution_count": 239,
   "id": "23af35e6",
   "metadata": {},
   "outputs": [
    {
     "name": "stdout",
     "output_type": "stream",
     "text": [
      "<class 'geopandas.geodataframe.GeoDataFrame'>\n",
      "Int64Index: 3129 entries, 0 to 14369\n",
      "Data columns (total 12 columns):\n",
      " #   Column               Non-Null Count  Dtype   \n",
      "---  ------               --------------  -----   \n",
      " 0   OBJECTID             3129 non-null   object  \n",
      " 1   Permit APN           3124 non-null   object  \n",
      " 2   WORKDESC             3129 non-null   object  \n",
      " 3   ADDRESS              3129 non-null   object  \n",
      " 4   geometry             3129 non-null   geometry\n",
      " 5   OBJECTID_left        3129 non-null   object  \n",
      " 6   SM APN               3129 non-null   object  \n",
      " 7   geometry_parcel      3129 non-null   object  \n",
      " 8   issue_year           3129 non-null   int64   \n",
      " 9   ASSESSOR APN         2863 non-null   object  \n",
      " 10  SM ASSESSOR APN      3129 non-null   object  \n",
      " 11  SM ASSESSOR ADRRESS  3129 non-null   object  \n",
      "dtypes: geometry(1), int64(1), object(10)\n",
      "memory usage: 317.8+ KB\n"
     ]
    }
   ],
   "source": [
    "batch2.info()"
   ]
  },
  {
   "cell_type": "code",
   "execution_count": 249,
   "id": "2aa877f6",
   "metadata": {},
   "outputs": [
    {
     "data": {
      "text/plain": [
       "11184    24408036\n",
       "12789    46239021\n",
       "9309     27451032\n",
       "9935     49722035\n",
       "9477     26452036\n",
       "Name: SM APN, dtype: object"
      ]
     },
     "execution_count": 249,
     "metadata": {},
     "output_type": "execute_result"
    }
   ],
   "source": [
    "idx = np.random.choice(range(len(batch2)), size=5, replace=False)\n",
    "batch2.iloc[idx]['SM APN']"
   ]
  },
  {
   "cell_type": "code",
   "execution_count": 243,
   "id": "4ad56cf3",
   "metadata": {
    "scrolled": false
   },
   "outputs": [
    {
     "data": {
      "text/html": [
       "<div>\n",
       "<style scoped>\n",
       "    .dataframe tbody tr th:only-of-type {\n",
       "        vertical-align: middle;\n",
       "    }\n",
       "\n",
       "    .dataframe tbody tr th {\n",
       "        vertical-align: top;\n",
       "    }\n",
       "\n",
       "    .dataframe thead th {\n",
       "        text-align: right;\n",
       "    }\n",
       "</style>\n",
       "<table border=\"1\" class=\"dataframe\">\n",
       "  <thead>\n",
       "    <tr style=\"text-align: right;\">\n",
       "      <th></th>\n",
       "      <th>OBJECTID</th>\n",
       "      <th>Permit APN</th>\n",
       "      <th>WORKDESC</th>\n",
       "      <th>ADDRESS</th>\n",
       "      <th>geometry</th>\n",
       "      <th>OBJECTID_left</th>\n",
       "      <th>SM APN</th>\n",
       "      <th>geometry_parcel</th>\n",
       "      <th>issue_year</th>\n",
       "      <th>ASSESSOR APN</th>\n",
       "      <th>SM ASSESSOR APN</th>\n",
       "      <th>SM ASSESSOR ADRRESS</th>\n",
       "    </tr>\n",
       "  </thead>\n",
       "  <tbody>\n",
       "    <tr>\n",
       "      <th>97</th>\n",
       "      <td>A_17385</td>\n",
       "      <td>47217024</td>\n",
       "      <td>New Construction</td>\n",
       "      <td>737 S 2ND ST 1 , SAN JOSE CA 95112-5821</td>\n",
       "      <td>POINT (-121.88142 37.32549)</td>\n",
       "      <td>A_17385</td>\n",
       "      <td>47217097</td>\n",
       "      <td>POLYGON ((-121.88142073312616 37.3254265513074...</td>\n",
       "      <td>2019</td>\n",
       "      <td>NaN</td>\n",
       "      <td>47217024</td>\n",
       "      <td>735 S 2ND ST  , SAN JOSE CA 95112-5821</td>\n",
       "    </tr>\n",
       "    <tr>\n",
       "      <th>252</th>\n",
       "      <td>A_27551</td>\n",
       "      <td>24123053</td>\n",
       "      <td>New Construction</td>\n",
       "      <td>1598  RINGWOOD AV  , SAN JOSE CA 95131</td>\n",
       "      <td>POINT (-121.88998 37.38470)</td>\n",
       "      <td>A_27551</td>\n",
       "      <td>24123055</td>\n",
       "      <td>POLYGON ((-121.88984001941922 37.3847110639443...</td>\n",
       "      <td>2020</td>\n",
       "      <td>NaN</td>\n",
       "      <td>24123054</td>\n",
       "      <td>1508  MURPHY AV  , SAN JOSE CA 95131-2425</td>\n",
       "    </tr>\n",
       "    <tr>\n",
       "      <th>9586</th>\n",
       "      <td>E_27943</td>\n",
       "      <td>47765103</td>\n",
       "      <td>Additions/Alterations</td>\n",
       "      <td>1370  MCQUESTEN DR A , SAN JOSE CA 95122-4103</td>\n",
       "      <td>POINT (-121.84625 37.32973)</td>\n",
       "      <td>E_27943</td>\n",
       "      <td>47765C02</td>\n",
       "      <td>POLYGON ((-121.84642498726052 37.3300087227158...</td>\n",
       "      <td>2015</td>\n",
       "      <td>NaN</td>\n",
       "      <td>47765103</td>\n",
       "      <td>1370  MCQUESTEN DR A , SAN JOSE CA 95122</td>\n",
       "    </tr>\n",
       "    <tr>\n",
       "      <th>9735</th>\n",
       "      <td>E_28994</td>\n",
       "      <td>45825054</td>\n",
       "      <td>Additions/Alterations</td>\n",
       "      <td>4607  BLACK RIVER CT  , SAN JOSE CA 95136-2703</td>\n",
       "      <td>POINT (-121.86338 37.26492)</td>\n",
       "      <td>E_28994</td>\n",
       "      <td>45825C02</td>\n",
       "      <td>POLYGON ((-121.86334267247558 37.2642760592608...</td>\n",
       "      <td>2015</td>\n",
       "      <td>45825054</td>\n",
       "      <td>45825054</td>\n",
       "      <td>4607  BLACK RIVER CT  , SAN JOSE CA 95136-2703</td>\n",
       "    </tr>\n",
       "    <tr>\n",
       "      <th>10521</th>\n",
       "      <td>E_35059</td>\n",
       "      <td>42907004</td>\n",
       "      <td>Additions/Alterations</td>\n",
       "      <td>1127  MEREDITH AV  , SAN JOSE CA 95125-3239</td>\n",
       "      <td>POINT (-121.90108 37.30646)</td>\n",
       "      <td>E_35059</td>\n",
       "      <td>42907004</td>\n",
       "      <td>POLYGON ((-121.90086127756395 37.3063892667020...</td>\n",
       "      <td>2017</td>\n",
       "      <td>42907004</td>\n",
       "      <td>42907005</td>\n",
       "      <td>1131  MEREDITH AV  , SAN JOSE CA 95125-3239</td>\n",
       "    </tr>\n",
       "    <tr>\n",
       "      <th>11489</th>\n",
       "      <td>E_41806</td>\n",
       "      <td>59229011</td>\n",
       "      <td>Additions/Alterations</td>\n",
       "      <td>341  PASQUALE CT  , SAN JOSE CA 95133-2435</td>\n",
       "      <td>POINT (-121.84070 37.37271)</td>\n",
       "      <td>E_41806</td>\n",
       "      <td>59229C01</td>\n",
       "      <td>POLYGON ((-121.84054863641344 37.3729762008285...</td>\n",
       "      <td>2018</td>\n",
       "      <td>59229011</td>\n",
       "      <td>59229011</td>\n",
       "      <td>341  PASQUALE CT  , SAN JOSE CA 95133-2435</td>\n",
       "    </tr>\n",
       "    <tr>\n",
       "      <th>12199</th>\n",
       "      <td>E_46085</td>\n",
       "      <td>58132015</td>\n",
       "      <td>Additions/Alterations</td>\n",
       "      <td>1327  HILLCREST DR  , SAN JOSE CA 95120-5618</td>\n",
       "      <td>POINT (-121.87184 37.20922)</td>\n",
       "      <td>E_46085</td>\n",
       "      <td>58132033</td>\n",
       "      <td>POLYGON ((-121.87154132785456 37.2093199696808...</td>\n",
       "      <td>2018</td>\n",
       "      <td>58132015</td>\n",
       "      <td>58132015</td>\n",
       "      <td>1327  HILLCREST DR  , SAN JOSE CA 95120-5618</td>\n",
       "    </tr>\n",
       "    <tr>\n",
       "      <th>12752</th>\n",
       "      <td>E_53362</td>\n",
       "      <td>42916069</td>\n",
       "      <td>Additions/Alterations</td>\n",
       "      <td>1137  BRACE AV 1 , SAN JOSE CA 95125-3249</td>\n",
       "      <td>POINT (-121.90042 37.30430)</td>\n",
       "      <td>E_53362</td>\n",
       "      <td>42916C04</td>\n",
       "      <td>POLYGON ((-121.9006446012302 37.30476477418398...</td>\n",
       "      <td>2019</td>\n",
       "      <td>42916069</td>\n",
       "      <td>42916069</td>\n",
       "      <td>1137  BRACE AV 1 , SAN JOSE CA 95125-3249</td>\n",
       "    </tr>\n",
       "    <tr>\n",
       "      <th>13022</th>\n",
       "      <td>E_54832</td>\n",
       "      <td>46755001</td>\n",
       "      <td>Additions/Alterations</td>\n",
       "      <td>388 S 11TH ST  , SAN JOSE CA 95112-2258</td>\n",
       "      <td>POINT (-121.87524 37.33526)</td>\n",
       "      <td>E_54832</td>\n",
       "      <td>46755C01</td>\n",
       "      <td>POLYGON ((-121.87513066307586 37.3355753662554...</td>\n",
       "      <td>2019</td>\n",
       "      <td>46755001</td>\n",
       "      <td>46755001</td>\n",
       "      <td>388 S 11TH ST  , SAN JOSE CA 95112-2258</td>\n",
       "    </tr>\n",
       "    <tr>\n",
       "      <th>13143</th>\n",
       "      <td>E_55569</td>\n",
       "      <td>70449008</td>\n",
       "      <td>Additions/Alterations</td>\n",
       "      <td>6145  CAMINO VERDE DR A , SAN JOSE CA 95119-1400</td>\n",
       "      <td>POINT (-121.80184 37.23535)</td>\n",
       "      <td>E_55569</td>\n",
       "      <td>70449C01</td>\n",
       "      <td>POLYGON ((-121.80265856742722 37.2355483179328...</td>\n",
       "      <td>2019</td>\n",
       "      <td>70449008</td>\n",
       "      <td>70449008</td>\n",
       "      <td>6145  CAMINO VERDE DR A , SAN JOSE CA 95119-1400</td>\n",
       "    </tr>\n",
       "    <tr>\n",
       "      <th>13581</th>\n",
       "      <td>E_56245</td>\n",
       "      <td>26454064</td>\n",
       "      <td>Additions/Alterations</td>\n",
       "      <td>1011  BROADWAY AV  , SAN JOSE CA 95125-2214</td>\n",
       "      <td>POINT (-121.90029 37.31331)</td>\n",
       "      <td>E_56245</td>\n",
       "      <td>26454064</td>\n",
       "      <td>POLYGON ((-121.9001158725172 37.31316671619158...</td>\n",
       "      <td>2016</td>\n",
       "      <td>NaN</td>\n",
       "      <td>26454079</td>\n",
       "      <td>1011  BROADWAY AV  , SAN JOSE CA 95125</td>\n",
       "    </tr>\n",
       "    <tr>\n",
       "      <th>14122</th>\n",
       "      <td>E_57267</td>\n",
       "      <td>46732074</td>\n",
       "      <td>Additions/Alterations</td>\n",
       "      <td>152 S 23RD ST  , SAN JOSE CA 95116-2729</td>\n",
       "      <td>POINT (-121.86611 37.34426)</td>\n",
       "      <td>E_57267</td>\n",
       "      <td>46732074</td>\n",
       "      <td>POLYGON ((-121.8659286306594 37.34444617172698...</td>\n",
       "      <td>2019</td>\n",
       "      <td>46732092</td>\n",
       "      <td>46732092</td>\n",
       "      <td>152 S 23RD ST  , SAN JOSE CA 95116-2729</td>\n",
       "    </tr>\n",
       "  </tbody>\n",
       "</table>\n",
       "</div>"
      ],
      "text/plain": [
       "      OBJECTID Permit APN               WORKDESC  \\\n",
       "97     A_17385   47217024       New Construction   \n",
       "252    A_27551   24123053       New Construction   \n",
       "9586   E_27943   47765103  Additions/Alterations   \n",
       "9735   E_28994   45825054  Additions/Alterations   \n",
       "10521  E_35059   42907004  Additions/Alterations   \n",
       "11489  E_41806   59229011  Additions/Alterations   \n",
       "12199  E_46085   58132015  Additions/Alterations   \n",
       "12752  E_53362   42916069  Additions/Alterations   \n",
       "13022  E_54832   46755001  Additions/Alterations   \n",
       "13143  E_55569   70449008  Additions/Alterations   \n",
       "13581  E_56245   26454064  Additions/Alterations   \n",
       "14122  E_57267   46732074  Additions/Alterations   \n",
       "\n",
       "                                                ADDRESS  \\\n",
       "97              737 S 2ND ST 1 , SAN JOSE CA 95112-5821   \n",
       "252              1598  RINGWOOD AV  , SAN JOSE CA 95131   \n",
       "9586      1370  MCQUESTEN DR A , SAN JOSE CA 95122-4103   \n",
       "9735     4607  BLACK RIVER CT  , SAN JOSE CA 95136-2703   \n",
       "10521       1127  MEREDITH AV  , SAN JOSE CA 95125-3239   \n",
       "11489        341  PASQUALE CT  , SAN JOSE CA 95133-2435   \n",
       "12199      1327  HILLCREST DR  , SAN JOSE CA 95120-5618   \n",
       "12752         1137  BRACE AV 1 , SAN JOSE CA 95125-3249   \n",
       "13022           388 S 11TH ST  , SAN JOSE CA 95112-2258   \n",
       "13143  6145  CAMINO VERDE DR A , SAN JOSE CA 95119-1400   \n",
       "13581       1011  BROADWAY AV  , SAN JOSE CA 95125-2214   \n",
       "14122           152 S 23RD ST  , SAN JOSE CA 95116-2729   \n",
       "\n",
       "                          geometry OBJECTID_left    SM APN  \\\n",
       "97     POINT (-121.88142 37.32549)       A_17385  47217097   \n",
       "252    POINT (-121.88998 37.38470)       A_27551  24123055   \n",
       "9586   POINT (-121.84625 37.32973)       E_27943  47765C02   \n",
       "9735   POINT (-121.86338 37.26492)       E_28994  45825C02   \n",
       "10521  POINT (-121.90108 37.30646)       E_35059  42907004   \n",
       "11489  POINT (-121.84070 37.37271)       E_41806  59229C01   \n",
       "12199  POINT (-121.87184 37.20922)       E_46085  58132033   \n",
       "12752  POINT (-121.90042 37.30430)       E_53362  42916C04   \n",
       "13022  POINT (-121.87524 37.33526)       E_54832  46755C01   \n",
       "13143  POINT (-121.80184 37.23535)       E_55569  70449C01   \n",
       "13581  POINT (-121.90029 37.31331)       E_56245  26454064   \n",
       "14122  POINT (-121.86611 37.34426)       E_57267  46732074   \n",
       "\n",
       "                                         geometry_parcel  issue_year  \\\n",
       "97     POLYGON ((-121.88142073312616 37.3254265513074...        2019   \n",
       "252    POLYGON ((-121.88984001941922 37.3847110639443...        2020   \n",
       "9586   POLYGON ((-121.84642498726052 37.3300087227158...        2015   \n",
       "9735   POLYGON ((-121.86334267247558 37.2642760592608...        2015   \n",
       "10521  POLYGON ((-121.90086127756395 37.3063892667020...        2017   \n",
       "11489  POLYGON ((-121.84054863641344 37.3729762008285...        2018   \n",
       "12199  POLYGON ((-121.87154132785456 37.2093199696808...        2018   \n",
       "12752  POLYGON ((-121.9006446012302 37.30476477418398...        2019   \n",
       "13022  POLYGON ((-121.87513066307586 37.3355753662554...        2019   \n",
       "13143  POLYGON ((-121.80265856742722 37.2355483179328...        2019   \n",
       "13581  POLYGON ((-121.9001158725172 37.31316671619158...        2016   \n",
       "14122  POLYGON ((-121.8659286306594 37.34444617172698...        2019   \n",
       "\n",
       "      ASSESSOR APN SM ASSESSOR APN  \\\n",
       "97             NaN        47217024   \n",
       "252            NaN        24123054   \n",
       "9586           NaN        47765103   \n",
       "9735      45825054        45825054   \n",
       "10521     42907004        42907005   \n",
       "11489     59229011        59229011   \n",
       "12199     58132015        58132015   \n",
       "12752     42916069        42916069   \n",
       "13022     46755001        46755001   \n",
       "13143     70449008        70449008   \n",
       "13581          NaN        26454079   \n",
       "14122     46732092        46732092   \n",
       "\n",
       "                                    SM ASSESSOR ADRRESS  \n",
       "97               735 S 2ND ST  , SAN JOSE CA 95112-5821  \n",
       "252           1508  MURPHY AV  , SAN JOSE CA 95131-2425  \n",
       "9586           1370  MCQUESTEN DR A , SAN JOSE CA 95122  \n",
       "9735     4607  BLACK RIVER CT  , SAN JOSE CA 95136-2703  \n",
       "10521       1131  MEREDITH AV  , SAN JOSE CA 95125-3239  \n",
       "11489        341  PASQUALE CT  , SAN JOSE CA 95133-2435  \n",
       "12199      1327  HILLCREST DR  , SAN JOSE CA 95120-5618  \n",
       "12752         1137  BRACE AV 1 , SAN JOSE CA 95125-3249  \n",
       "13022           388 S 11TH ST  , SAN JOSE CA 95112-2258  \n",
       "13143  6145  CAMINO VERDE DR A , SAN JOSE CA 95119-1400  \n",
       "13581            1011  BROADWAY AV  , SAN JOSE CA 95125  \n",
       "14122           152 S 23RD ST  , SAN JOSE CA 95116-2729  "
      ]
     },
     "execution_count": 243,
     "metadata": {},
     "output_type": "execute_result"
    }
   ],
   "source": [
    "summary_stats.loc[(summary_stats['SM APN'] != summary_stats['SM ASSESSOR APN']) & (~summary_stats['SM ASSESSOR APN'].isna())]"
   ]
  },
  {
   "cell_type": "code",
   "execution_count": null,
   "id": "e3894156",
   "metadata": {},
   "outputs": [],
   "source": []
  },
  {
   "cell_type": "code",
   "execution_count": null,
   "id": "086f3381",
   "metadata": {},
   "outputs": [],
   "source": []
  },
  {
   "cell_type": "code",
   "execution_count": null,
   "id": "07376196",
   "metadata": {},
   "outputs": [],
   "source": []
  },
  {
   "cell_type": "code",
   "execution_count": null,
   "id": "6757601c",
   "metadata": {},
   "outputs": [],
   "source": []
  },
  {
   "cell_type": "code",
   "execution_count": 178,
   "id": "f61d36a9",
   "metadata": {},
   "outputs": [
    {
     "data": {
      "text/html": [
       "<div>\n",
       "<style scoped>\n",
       "    .dataframe tbody tr th:only-of-type {\n",
       "        vertical-align: middle;\n",
       "    }\n",
       "\n",
       "    .dataframe tbody tr th {\n",
       "        vertical-align: top;\n",
       "    }\n",
       "\n",
       "    .dataframe thead th {\n",
       "        text-align: right;\n",
       "    }\n",
       "</style>\n",
       "<table border=\"1\" class=\"dataframe\">\n",
       "  <thead>\n",
       "    <tr style=\"text-align: right;\">\n",
       "      <th></th>\n",
       "      <th>OBJECTID</th>\n",
       "      <th>Permit APN</th>\n",
       "      <th>WORKDESC</th>\n",
       "      <th>ADDRESS</th>\n",
       "      <th>geometry</th>\n",
       "      <th>OBJECTID_left</th>\n",
       "      <th>SM APN</th>\n",
       "      <th>geometry_parcel</th>\n",
       "      <th>issue_year</th>\n",
       "      <th>ASSESSOR APN</th>\n",
       "      <th>ASSESSOR APN2</th>\n",
       "      <th>ASSESSOR APN3</th>\n",
       "    </tr>\n",
       "  </thead>\n",
       "  <tbody>\n",
       "    <tr>\n",
       "      <th>37</th>\n",
       "      <td>A_5501</td>\n",
       "      <td>43955059</td>\n",
       "      <td>Additions/Alterations</td>\n",
       "      <td>1375  DRY CREEK RD  , SAN JOSE CA 95125-0000</td>\n",
       "      <td>POINT (-121.90136 37.29156)</td>\n",
       "      <td>A_5501</td>\n",
       "      <td>43955059</td>\n",
       "      <td>POLYGON ((-121.90130336802491 37.2917911429285...</td>\n",
       "      <td>2017</td>\n",
       "      <td>NaN</td>\n",
       "      <td>NaN</td>\n",
       "      <td>NaN</td>\n",
       "    </tr>\n",
       "    <tr>\n",
       "      <th>42</th>\n",
       "      <td>A_7328</td>\n",
       "      <td>24963032</td>\n",
       "      <td>New Construction</td>\n",
       "      <td>450 N 21ST ST  , SAN JOSE CA 95112-1747</td>\n",
       "      <td>POINT (-121.87626 37.35325)</td>\n",
       "      <td>A_7328</td>\n",
       "      <td>NaN</td>\n",
       "      <td>NaN</td>\n",
       "      <td>2020</td>\n",
       "      <td>NaN</td>\n",
       "      <td>NaN</td>\n",
       "      <td>NaN</td>\n",
       "    </tr>\n",
       "    <tr>\n",
       "      <th>43</th>\n",
       "      <td>A_7329</td>\n",
       "      <td>43955021</td>\n",
       "      <td>New Construction</td>\n",
       "      <td>1930  HICKS AV 2 , SAN JOSE CA 95125</td>\n",
       "      <td>POINT (-121.90217 37.29014)</td>\n",
       "      <td>A_7329</td>\n",
       "      <td>43955021</td>\n",
       "      <td>POLYGON ((-121.9018919311962 37.29033066719882...</td>\n",
       "      <td>2020</td>\n",
       "      <td>NaN</td>\n",
       "      <td>NaN</td>\n",
       "      <td>NaN</td>\n",
       "    </tr>\n",
       "    <tr>\n",
       "      <th>44</th>\n",
       "      <td>A_7672</td>\n",
       "      <td>48126030</td>\n",
       "      <td>New Construction</td>\n",
       "      <td>245  MCCREERY AV 2 , SAN JOSE CA 95116</td>\n",
       "      <td>POINT (-121.84820 37.35035)</td>\n",
       "      <td>A_7672</td>\n",
       "      <td>48126030</td>\n",
       "      <td>POLYGON ((-121.84817900902405 37.3504477973360...</td>\n",
       "      <td>2020</td>\n",
       "      <td>NaN</td>\n",
       "      <td>NaN</td>\n",
       "      <td>NaN</td>\n",
       "    </tr>\n",
       "    <tr>\n",
       "      <th>48</th>\n",
       "      <td>A_8396</td>\n",
       "      <td>49738004</td>\n",
       "      <td>New Construction</td>\n",
       "      <td>2660  MONTEREY RD  , SAN JOSE CA 95111-3050</td>\n",
       "      <td>POINT (-121.85305 37.29673)</td>\n",
       "      <td>A_8396</td>\n",
       "      <td>49738025</td>\n",
       "      <td>POLYGON ((-121.85368860061926 37.2963199807144...</td>\n",
       "      <td>2018</td>\n",
       "      <td>NaN</td>\n",
       "      <td>NaN</td>\n",
       "      <td>NaN</td>\n",
       "    </tr>\n",
       "  </tbody>\n",
       "</table>\n",
       "</div>"
      ],
      "text/plain": [
       "   OBJECTID Permit APN               WORKDESC  \\\n",
       "37   A_5501   43955059  Additions/Alterations   \n",
       "42   A_7328   24963032       New Construction   \n",
       "43   A_7329   43955021       New Construction   \n",
       "44   A_7672   48126030       New Construction   \n",
       "48   A_8396   49738004       New Construction   \n",
       "\n",
       "                                         ADDRESS                     geometry  \\\n",
       "37  1375  DRY CREEK RD  , SAN JOSE CA 95125-0000  POINT (-121.90136 37.29156)   \n",
       "42       450 N 21ST ST  , SAN JOSE CA 95112-1747  POINT (-121.87626 37.35325)   \n",
       "43          1930  HICKS AV 2 , SAN JOSE CA 95125  POINT (-121.90217 37.29014)   \n",
       "44        245  MCCREERY AV 2 , SAN JOSE CA 95116  POINT (-121.84820 37.35035)   \n",
       "48   2660  MONTEREY RD  , SAN JOSE CA 95111-3050  POINT (-121.85305 37.29673)   \n",
       "\n",
       "   OBJECTID_left    SM APN                                    geometry_parcel  \\\n",
       "37        A_5501  43955059  POLYGON ((-121.90130336802491 37.2917911429285...   \n",
       "42        A_7328       NaN                                                NaN   \n",
       "43        A_7329  43955021  POLYGON ((-121.9018919311962 37.29033066719882...   \n",
       "44        A_7672  48126030  POLYGON ((-121.84817900902405 37.3504477973360...   \n",
       "48        A_8396  49738025  POLYGON ((-121.85368860061926 37.2963199807144...   \n",
       "\n",
       "    issue_year ASSESSOR APN ASSESSOR APN2 ASSESSOR APN3  \n",
       "37        2017          NaN           NaN           NaN  \n",
       "42        2020          NaN           NaN           NaN  \n",
       "43        2020          NaN           NaN           NaN  \n",
       "44        2020          NaN           NaN           NaN  \n",
       "48        2018          NaN           NaN           NaN  "
      ]
     },
     "execution_count": 178,
     "metadata": {},
     "output_type": "execute_result"
    }
   ],
   "source": [
    "merged_permits.loc[merged_permits['ASSESSOR APN'].isna()].iloc[5:10]"
   ]
  },
  {
   "cell_type": "code",
   "execution_count": 193,
   "id": "515fb51a",
   "metadata": {},
   "outputs": [
    {
     "data": {
      "text/plain": [
       "'450 N 21ST ST  , SAN JOSE CA 95112-1747'"
      ]
     },
     "execution_count": 193,
     "metadata": {},
     "output_type": "execute_result"
    }
   ],
   "source": [
    "merged_permits.loc[merged_permits['Permit APN'] == '24963032'].iloc[0]['ADDRESS']"
   ]
  },
  {
   "cell_type": "code",
   "execution_count": 194,
   "id": "1266c8e0",
   "metadata": {},
   "outputs": [
    {
     "ename": "IndexError",
     "evalue": "single positional indexer is out-of-bounds",
     "output_type": "error",
     "traceback": [
      "\u001b[0;31m---------------------------------------------------------------------------\u001b[0m",
      "\u001b[0;31mIndexError\u001b[0m                                Traceback (most recent call last)",
      "Cell \u001b[0;32mIn [194], line 1\u001b[0m\n\u001b[0;32m----> 1\u001b[0m sj_assessor_parcels\u001b[38;5;241m.\u001b[39mloc[sj_assessor_parcels[\u001b[38;5;124m'\u001b[39m\u001b[38;5;124mASSESSOR APN\u001b[39m\u001b[38;5;124m'\u001b[39m] \u001b[38;5;241m==\u001b[39m \u001b[38;5;124m'\u001b[39m\u001b[38;5;124m24963032\u001b[39m\u001b[38;5;124m'\u001b[39m]\u001b[38;5;241m.\u001b[39miloc[\u001b[38;5;241m0\u001b[39m][\u001b[38;5;124m'\u001b[39m\u001b[38;5;124mADDRESS\u001b[39m\u001b[38;5;124m'\u001b[39m]\n",
      "File \u001b[0;32m/usr/local/lib/python3.8/dist-packages/pandas/core/indexing.py:1074\u001b[0m, in \u001b[0;36m_LocationIndexer.__getitem__\u001b[0;34m(self, key)\u001b[0m\n\u001b[1;32m   1071\u001b[0m axis \u001b[38;5;241m=\u001b[39m \u001b[38;5;28mself\u001b[39m\u001b[38;5;241m.\u001b[39maxis \u001b[38;5;129;01mor\u001b[39;00m \u001b[38;5;241m0\u001b[39m\n\u001b[1;32m   1073\u001b[0m maybe_callable \u001b[38;5;241m=\u001b[39m com\u001b[38;5;241m.\u001b[39mapply_if_callable(key, \u001b[38;5;28mself\u001b[39m\u001b[38;5;241m.\u001b[39mobj)\n\u001b[0;32m-> 1074\u001b[0m \u001b[38;5;28;01mreturn\u001b[39;00m \u001b[38;5;28;43mself\u001b[39;49m\u001b[38;5;241;43m.\u001b[39;49m\u001b[43m_getitem_axis\u001b[49m\u001b[43m(\u001b[49m\u001b[43mmaybe_callable\u001b[49m\u001b[43m,\u001b[49m\u001b[43m \u001b[49m\u001b[43maxis\u001b[49m\u001b[38;5;241;43m=\u001b[39;49m\u001b[43maxis\u001b[49m\u001b[43m)\u001b[49m\n",
      "File \u001b[0;32m/usr/local/lib/python3.8/dist-packages/pandas/core/indexing.py:1626\u001b[0m, in \u001b[0;36m_iLocIndexer._getitem_axis\u001b[0;34m(self, key, axis)\u001b[0m\n\u001b[1;32m   1623\u001b[0m     \u001b[38;5;28;01mraise\u001b[39;00m \u001b[38;5;167;01mTypeError\u001b[39;00m(\u001b[38;5;124m\"\u001b[39m\u001b[38;5;124mCannot index by location index with a non-integer key\u001b[39m\u001b[38;5;124m\"\u001b[39m)\n\u001b[1;32m   1625\u001b[0m \u001b[38;5;66;03m# validate the location\u001b[39;00m\n\u001b[0;32m-> 1626\u001b[0m \u001b[38;5;28;43mself\u001b[39;49m\u001b[38;5;241;43m.\u001b[39;49m\u001b[43m_validate_integer\u001b[49m\u001b[43m(\u001b[49m\u001b[43mkey\u001b[49m\u001b[43m,\u001b[49m\u001b[43m \u001b[49m\u001b[43maxis\u001b[49m\u001b[43m)\u001b[49m\n\u001b[1;32m   1628\u001b[0m \u001b[38;5;28;01mreturn\u001b[39;00m \u001b[38;5;28mself\u001b[39m\u001b[38;5;241m.\u001b[39mobj\u001b[38;5;241m.\u001b[39m_ixs(key, axis\u001b[38;5;241m=\u001b[39maxis)\n",
      "File \u001b[0;32m/usr/local/lib/python3.8/dist-packages/pandas/core/indexing.py:1558\u001b[0m, in \u001b[0;36m_iLocIndexer._validate_integer\u001b[0;34m(self, key, axis)\u001b[0m\n\u001b[1;32m   1556\u001b[0m len_axis \u001b[38;5;241m=\u001b[39m \u001b[38;5;28mlen\u001b[39m(\u001b[38;5;28mself\u001b[39m\u001b[38;5;241m.\u001b[39mobj\u001b[38;5;241m.\u001b[39m_get_axis(axis))\n\u001b[1;32m   1557\u001b[0m \u001b[38;5;28;01mif\u001b[39;00m key \u001b[38;5;241m>\u001b[39m\u001b[38;5;241m=\u001b[39m len_axis \u001b[38;5;129;01mor\u001b[39;00m key \u001b[38;5;241m<\u001b[39m \u001b[38;5;241m-\u001b[39mlen_axis:\n\u001b[0;32m-> 1558\u001b[0m     \u001b[38;5;28;01mraise\u001b[39;00m \u001b[38;5;167;01mIndexError\u001b[39;00m(\u001b[38;5;124m\"\u001b[39m\u001b[38;5;124msingle positional indexer is out-of-bounds\u001b[39m\u001b[38;5;124m\"\u001b[39m)\n",
      "\u001b[0;31mIndexError\u001b[0m: single positional indexer is out-of-bounds"
     ]
    }
   ],
   "source": [
    "sj_assessor_parcels.loc[sj_assessor_parcels['ASSESSOR APN'] == '24963032'].iloc[0]['ADDRESS']"
   ]
  },
  {
   "cell_type": "code",
   "execution_count": 186,
   "id": "35146727",
   "metadata": {},
   "outputs": [
    {
     "data": {
      "text/plain": [
       "'1930  HICKS AV  , SAN JOSE CA 95125'"
      ]
     },
     "execution_count": 186,
     "metadata": {},
     "output_type": "execute_result"
    }
   ],
   "source": [
    "sj_assessor_parcels_av2.loc[sj_assessor_parcels_av2['ASSESSOR APN2'] == '43955021'].iloc[0]['ADDRESS']"
   ]
  },
  {
   "cell_type": "code",
   "execution_count": 195,
   "id": "84f1fc6c",
   "metadata": {},
   "outputs": [
    {
     "ename": "IndexError",
     "evalue": "single positional indexer is out-of-bounds",
     "output_type": "error",
     "traceback": [
      "\u001b[0;31m---------------------------------------------------------------------------\u001b[0m",
      "\u001b[0;31mIndexError\u001b[0m                                Traceback (most recent call last)",
      "Cell \u001b[0;32mIn [195], line 1\u001b[0m\n\u001b[0;32m----> 1\u001b[0m assessor_parcels\u001b[38;5;241m.\u001b[39mloc[assessor_parcels[\u001b[38;5;124m'\u001b[39m\u001b[38;5;124mAPN\u001b[39m\u001b[38;5;124m'\u001b[39m] \u001b[38;5;241m==\u001b[39m \u001b[38;5;124m'\u001b[39m\u001b[38;5;124m24963032\u001b[39m\u001b[38;5;124m'\u001b[39m]\u001b[38;5;241m.\u001b[39miloc[\u001b[38;5;241m0\u001b[39m]\u001b[38;5;241m.\u001b[39mto_dict()\n",
      "File \u001b[0;32m/usr/local/lib/python3.8/dist-packages/pandas/core/indexing.py:1074\u001b[0m, in \u001b[0;36m_LocationIndexer.__getitem__\u001b[0;34m(self, key)\u001b[0m\n\u001b[1;32m   1071\u001b[0m axis \u001b[38;5;241m=\u001b[39m \u001b[38;5;28mself\u001b[39m\u001b[38;5;241m.\u001b[39maxis \u001b[38;5;129;01mor\u001b[39;00m \u001b[38;5;241m0\u001b[39m\n\u001b[1;32m   1073\u001b[0m maybe_callable \u001b[38;5;241m=\u001b[39m com\u001b[38;5;241m.\u001b[39mapply_if_callable(key, \u001b[38;5;28mself\u001b[39m\u001b[38;5;241m.\u001b[39mobj)\n\u001b[0;32m-> 1074\u001b[0m \u001b[38;5;28;01mreturn\u001b[39;00m \u001b[38;5;28;43mself\u001b[39;49m\u001b[38;5;241;43m.\u001b[39;49m\u001b[43m_getitem_axis\u001b[49m\u001b[43m(\u001b[49m\u001b[43mmaybe_callable\u001b[49m\u001b[43m,\u001b[49m\u001b[43m \u001b[49m\u001b[43maxis\u001b[49m\u001b[38;5;241;43m=\u001b[39;49m\u001b[43maxis\u001b[49m\u001b[43m)\u001b[49m\n",
      "File \u001b[0;32m/usr/local/lib/python3.8/dist-packages/pandas/core/indexing.py:1626\u001b[0m, in \u001b[0;36m_iLocIndexer._getitem_axis\u001b[0;34m(self, key, axis)\u001b[0m\n\u001b[1;32m   1623\u001b[0m     \u001b[38;5;28;01mraise\u001b[39;00m \u001b[38;5;167;01mTypeError\u001b[39;00m(\u001b[38;5;124m\"\u001b[39m\u001b[38;5;124mCannot index by location index with a non-integer key\u001b[39m\u001b[38;5;124m\"\u001b[39m)\n\u001b[1;32m   1625\u001b[0m \u001b[38;5;66;03m# validate the location\u001b[39;00m\n\u001b[0;32m-> 1626\u001b[0m \u001b[38;5;28;43mself\u001b[39;49m\u001b[38;5;241;43m.\u001b[39;49m\u001b[43m_validate_integer\u001b[49m\u001b[43m(\u001b[49m\u001b[43mkey\u001b[49m\u001b[43m,\u001b[49m\u001b[43m \u001b[49m\u001b[43maxis\u001b[49m\u001b[43m)\u001b[49m\n\u001b[1;32m   1628\u001b[0m \u001b[38;5;28;01mreturn\u001b[39;00m \u001b[38;5;28mself\u001b[39m\u001b[38;5;241m.\u001b[39mobj\u001b[38;5;241m.\u001b[39m_ixs(key, axis\u001b[38;5;241m=\u001b[39maxis)\n",
      "File \u001b[0;32m/usr/local/lib/python3.8/dist-packages/pandas/core/indexing.py:1558\u001b[0m, in \u001b[0;36m_iLocIndexer._validate_integer\u001b[0;34m(self, key, axis)\u001b[0m\n\u001b[1;32m   1556\u001b[0m len_axis \u001b[38;5;241m=\u001b[39m \u001b[38;5;28mlen\u001b[39m(\u001b[38;5;28mself\u001b[39m\u001b[38;5;241m.\u001b[39mobj\u001b[38;5;241m.\u001b[39m_get_axis(axis))\n\u001b[1;32m   1557\u001b[0m \u001b[38;5;28;01mif\u001b[39;00m key \u001b[38;5;241m>\u001b[39m\u001b[38;5;241m=\u001b[39m len_axis \u001b[38;5;129;01mor\u001b[39;00m key \u001b[38;5;241m<\u001b[39m \u001b[38;5;241m-\u001b[39mlen_axis:\n\u001b[0;32m-> 1558\u001b[0m     \u001b[38;5;28;01mraise\u001b[39;00m \u001b[38;5;167;01mIndexError\u001b[39;00m(\u001b[38;5;124m\"\u001b[39m\u001b[38;5;124msingle positional indexer is out-of-bounds\u001b[39m\u001b[38;5;124m\"\u001b[39m)\n",
      "\u001b[0;31mIndexError\u001b[0m: single positional indexer is out-of-bounds"
     ]
    }
   ],
   "source": [
    "assessor_parcels.loc[assessor_parcels['APN'] == '24963032'].iloc[0].to_dict()"
   ]
  },
  {
   "cell_type": "code",
   "execution_count": null,
   "id": "c12c6b6c",
   "metadata": {},
   "outputs": [],
   "source": []
  },
  {
   "cell_type": "code",
   "execution_count": null,
   "id": "724b0cc6",
   "metadata": {},
   "outputs": [],
   "source": []
  },
  {
   "cell_type": "code",
   "execution_count": null,
   "id": "faaed527",
   "metadata": {},
   "outputs": [],
   "source": []
  },
  {
   "cell_type": "code",
   "execution_count": null,
   "id": "101806bb",
   "metadata": {},
   "outputs": [],
   "source": []
  },
  {
   "cell_type": "code",
   "execution_count": null,
   "id": "a00b6bfb",
   "metadata": {},
   "outputs": [],
   "source": []
  }
 ],
 "metadata": {
  "kernelspec": {
   "display_name": "Python 3",
   "language": "python",
   "name": "python3"
  },
  "language_info": {
   "codemirror_mode": {
    "name": "ipython",
    "version": 3
   },
   "file_extension": ".py",
   "mimetype": "text/x-python",
   "name": "python",
   "nbconvert_exporter": "python",
   "pygments_lexer": "ipython3",
   "version": "3.8.10"
  }
 },
 "nbformat": 4,
 "nbformat_minor": 5
}
