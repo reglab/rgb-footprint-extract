{
 "cells": [
  {
   "cell_type": "markdown",
   "id": "3923ba6b",
   "metadata": {},
   "source": [
    "# Explore the construction events in Batch 1"
   ]
  },
  {
   "cell_type": "code",
   "execution_count": 1,
   "id": "05c3024d",
   "metadata": {},
   "outputs": [],
   "source": [
    "import geopandas as gpd\n",
    "import matplotlib.pyplot as plt\n",
    "import numpy as np\n",
    "import os\n",
    "import pandas as pd\n",
    "import seaborn as sns\n",
    "from sklearn.linear_model import LogisticRegression\n",
    "from tqdm import tqdm\n",
    "\n",
    "tqdm.pandas()"
   ]
  },
  {
   "cell_type": "code",
   "execution_count": 2,
   "id": "24bd0830",
   "metadata": {},
   "outputs": [],
   "source": [
    "# Paths\n",
    "OAK_FP = '/oak/stanford/groups/deho/building_compliance/'\n",
    "CF_FP = os.path.join(OAK_FP, 'CloudFactory')\n",
    "INPUT_FP = os.path.join(OAK_FP, 'outputs', 'Population-Estimates', 'inputs')\n",
    "OUTPUT_FP = os.path.join(OAK_FP, 'outputs', 'Population-Estimates', 'outputs')"
   ]
  },
  {
   "cell_type": "code",
   "execution_count": 3,
   "id": "29462e1c",
   "metadata": {},
   "outputs": [],
   "source": [
    "# Input data\n",
    "# * Universe of SJ res parcels assigned to each CBG\n",
    "sj_parcels_cbgs = gpd.read_file(os.path.join(OUTPUT_FP, 'sj-parcels-res-cbgs'))\n",
    "\n",
    "# * Income-stratified CBGs (from Pop-Estimates-Strata.ipynb)\n",
    "cbg_income_2016_SJ = gpd.read_file(os.path.join(OUTPUT_FP, 'Strata', 'cbg-income-strata'))\n",
    "\n",
    "# * San Jose AANC permit data\n",
    "permits = pd.read_csv(os.path.join(OAK_FP, 'outputs/Permit-Matching/outputs/all_permits.csv'))\n",
    "permits['geometry_permit'] = gpd.GeoSeries.from_wkt(permits['geometry_permit'])\n",
    "permits_2015_20 = permits.loc[\n",
    "    permits['issue_year'].isin([2015, 2016, 2017, 2018, 2019, 2020])].copy()\n",
    "\n",
    "# * Assessor parcel data\n",
    "assessor_parcels = gpd.read_file(os.path.join(INPUT_FP, 'AssessorData', 'assessor_scc_parcels.geojson'))\n",
    "sj_assessor_parcels = assessor_parcels.loc[assessor_parcels['SITUS_CITY'] == 'SAN JOSE'].copy()\n",
    "del assessor_parcels\n",
    "\n",
    "# Keep only parcel data\n",
    "sj_assessor_parcels = sj_assessor_parcels.loc[sj_assessor_parcels['FEATURE'] == 'PAR']\n",
    "sj_assessor_parcels = sj_assessor_parcels[[\n",
    "    'OBJECTID', 'APN', 'LAND', 'IMPROVEMEN', 'geometry']].copy()"
   ]
  },
  {
   "cell_type": "code",
   "execution_count": 4,
   "id": "7e46dc94",
   "metadata": {},
   "outputs": [],
   "source": [
    "x = pd.qcut(\n",
    "    cbg_income_2016_SJ['median_inc'], q=5)"
   ]
  },
  {
   "cell_type": "code",
   "execution_count": 8,
   "id": "2cc2c36e",
   "metadata": {},
   "outputs": [
    {
     "data": {
      "text/plain": [
       "count       641.000000\n",
       "mean      99708.164601\n",
       "std       42069.049869\n",
       "min       13975.000000\n",
       "25%       68375.000000\n",
       "50%       96630.000000\n",
       "75%      125048.000000\n",
       "max      250001.000000\n",
       "Name: median_inc, dtype: float64"
      ]
     },
     "execution_count": 8,
     "metadata": {},
     "output_type": "execute_result"
    }
   ],
   "source": [
    "cbg_income_2016_SJ['median_inc'].describe()"
   ]
  },
  {
   "cell_type": "code",
   "execution_count": 6,
   "id": "cc5dccfa",
   "metadata": {},
   "outputs": [
    {
     "data": {
      "text/plain": [
       "[(105625.0, 132330.0], (62880.0, 85156.0], (132330.0, 250001.0], (85156.0, 105625.0], (13974.999, 62880.0], NaN]\n",
       "Categories (5, interval[float64, right]): [(13974.999, 62880.0] < (62880.0, 85156.0] < (85156.0, 105625.0] < (105625.0, 132330.0] < (132330.0, 250001.0]]"
      ]
     },
     "execution_count": 6,
     "metadata": {},
     "output_type": "execute_result"
    }
   ],
   "source": [
    "x.unique()"
   ]
  },
  {
   "cell_type": "code",
   "execution_count": 4,
   "id": "66554e74",
   "metadata": {},
   "outputs": [],
   "source": [
    "# * Historical Assessor data (2016 reported 2018)\n",
    "assessor_historical = pd.read_csv(\n",
    "    '/oak/stanford/groups/deho/corelogic/data/final/CA/SC_county_2018_Tax.txt', \n",
    "    delimiter='|', low_memory=False)"
   ]
  },
  {
   "cell_type": "code",
   "execution_count": 5,
   "id": "793ab123",
   "metadata": {},
   "outputs": [],
   "source": [
    "# * Historical Assessor data (2014 reported 2016)\n",
    "assessor_historical_14 = pd.read_csv(\n",
    "    '/oak/stanford/groups/deho/corelogic/data/final/CA/SC_county_2016_Tax.txt', \n",
    "    delimiter='|', low_memory=False)"
   ]
  },
  {
   "cell_type": "code",
   "execution_count": 29,
   "id": "a08fe4ea",
   "metadata": {},
   "outputs": [],
   "source": [
    "# Inputs from processing Batch 1\n",
    "new_sbuild_2020 = pd.read_csv(\n",
    "    os.path.join(OUTPUT_FP, 'Outcomes', 'B1-100', 'permit-matching-apns-CF-min11-GT1.csv'), \n",
    "    dtype={'APN': str})\n",
    "\n",
    "# Add CBG-income data\n",
    "new_sbuild_2020_cbg = pd.merge(\n",
    "    new_sbuild_2020, sj_parcels_cbgs[['APN', 'GEOID']], how='left', validate='one_to_one')\n",
    "\n",
    "# * Generate quartile and neighborhood columns for each CBG\n",
    "if 'neighborho' in cbg_income_2016_SJ.columns:\n",
    "    cbg_income_2016_SJ.drop('neighborho', axis=1, inplace=True)\n",
    "\n",
    "quartile_names = {'IS_0': 'Low', 'IS_1': 'Low-Moderate', 'IS_2': 'High-moderate', 'IS_3': 'High'}\n",
    "\n",
    "cbg_income_2016_SJ['quartile'] = pd.qcut(\n",
    "    cbg_income_2016_SJ['median_inc'], q=4, \n",
    "    labels=['IS_{}'.format(i) for i in range(4)])\n",
    "\n",
    "cbg_income_2016_SJ['quartile'] = cbg_income_2016_SJ['quartile'].apply(\n",
    "    lambda quartile: quartile_names[quartile])\n",
    " \n",
    "new_sbuild_2020_cbg = pd.merge(\n",
    "    new_sbuild_2020_cbg, cbg_income_2016_SJ[['GEOID', 'median_inc', 'quartile']], \n",
    "    on='GEOID', how='left', validate='many_to_one')"
   ]
  },
  {
   "cell_type": "markdown",
   "id": "31b609dd",
   "metadata": {},
   "source": [
    "## Parcel-level (using CBG income)"
   ]
  },
  {
   "cell_type": "code",
   "execution_count": 33,
   "id": "783c6d94",
   "metadata": {},
   "outputs": [],
   "source": [
    "new_sbuild_parcel_perm = new_sbuild_2020_cbg.loc[new_sbuild_2020_cbg['count_new_sbuild_permitted'] > 0].copy()\n",
    "new_sbuild_parcel_perm = new_sbuild_parcel_perm.loc[\n",
    "    new_sbuild_parcel_perm.index.repeat(new_sbuild_parcel_perm.count_new_sbuild_permitted)]\n",
    "new_sbuild_parcel_perm['Permitted'] = 1\n",
    "\n",
    "new_sbuild_parcel_unperm = new_sbuild_2020_cbg.loc[new_sbuild_2020_cbg['count_new_sbuild_unpermitted'] > 0].copy()\n",
    "new_sbuild_parcel_unperm = new_sbuild_parcel_unperm.loc[\n",
    "    new_sbuild_parcel_unperm.index.repeat(new_sbuild_parcel_unperm.count_new_sbuild_unpermitted)]\n",
    "new_sbuild_parcel_unperm['Permitted'] = 0\n",
    "\n",
    "new_sbuild_parcel = pd.concat([new_sbuild_parcel_perm, new_sbuild_parcel_unperm])\n",
    "new_sbuild_parcel = new_sbuild_parcel[['APN', 'GEOID', 'median_inc', 'quartile', 'Permitted']]"
   ]
  },
  {
   "cell_type": "code",
   "execution_count": 83,
   "id": "384267f4",
   "metadata": {},
   "outputs": [
    {
     "data": {
      "image/png": "[encoded data removed]",
      "text/plain": [
       "<Figure size 640x480 with 1 Axes>"
      ]
     },
     "metadata": {},
     "output_type": "display_data"
    }
   ],
   "source": [
    "ax = sns.scatterplot(new_sbuild_parcel, x='median_inc', y='Permitted', hue='quartile', alpha=0.6)\n",
    "ax.set(xlabel='Median income', ylabel='Construction type (Permitted/Unperitted)')\n",
    "plt.show()"
   ]
  },
  {
   "cell_type": "code",
   "execution_count": 84,
   "id": "b2d76bbf",
   "metadata": {},
   "outputs": [],
   "source": [
    "outcome = new_sbuild_parcel.groupby('quartile').agg(\n",
    "    {'Permitted': 'sum', 'APN': 'count'}).reset_index()\n",
    "outcome['permitted_prop'] = outcome['Permitted'] / outcome['APN']"
   ]
  },
  {
   "cell_type": "code",
   "execution_count": 85,
   "id": "73599200",
   "metadata": {},
   "outputs": [
    {
     "data": {
      "image/png": "[encoded data removed]",
      "text/plain": [
       "<Figure size 640x480 with 1 Axes>"
      ]
     },
     "metadata": {},
     "output_type": "display_data"
    }
   ],
   "source": [
    "ax = sns.barplot(outcome, x='quartile', y='permitted_prop', hue='quartile')\n",
    "ax.set(xlabel='Income quartile', ylabel='Permitted proportion of constructions')\n",
    "plt.show()"
   ]
  },
  {
   "cell_type": "code",
   "execution_count": 86,
   "id": "c61d56d4",
   "metadata": {},
   "outputs": [
    {
     "name": "stdout",
     "output_type": "stream",
     "text": [
      "[INFO] Baseline: 4.8; Effect size: 14.2\n"
     ]
    }
   ],
   "source": [
    "# Bottom 3 quartiles vs High quartile\n",
    "\n",
    "low = new_sbuild_parcel.loc[new_sbuild_parcel['quartile'] != 'High']\n",
    "high = new_sbuild_parcel.loc[new_sbuild_parcel['quartile'] == 'High']\n",
    "baseline = low['Permitted'].sum() / low['APN'].count() * 100\n",
    "high_level = high['Permitted'].sum() / high['APN'].count() * 100\n",
    "\n",
    "effect_size = high_level - baseline\n",
    "\n",
    "print('[INFO] Baseline: {}; Effect size: {}'.format(round(baseline, 1), round(effect_size, 1)))"
   ]
  },
  {
   "cell_type": "code",
   "execution_count": 87,
   "id": "09a2a20c",
   "metadata": {},
   "outputs": [
    {
     "name": "stdout",
     "output_type": "stream",
     "text": [
      "[INFO] Baseline: 7.7; Effect size: 0.0\n"
     ]
    }
   ],
   "source": [
    "# Median\n",
    "\n",
    "low = new_sbuild_parcel.loc[new_sbuild_parcel['quartile'].isin(['Low', 'Low-Moderate'])]\n",
    "high = new_sbuild_parcel.loc[new_sbuild_parcel['quartile'].isin(['High-moderate', 'High'])]\n",
    "baseline = low['Permitted'].sum() / low['APN'].count() * 100\n",
    "high_level = high['Permitted'].sum() / high['APN'].count() * 100\n",
    "\n",
    "effect_size = high_level - baseline\n",
    "\n",
    "print('[INFO] Baseline: {}; Effect size: {}'.format(round(baseline, 1), round(effect_size, 1)))"
   ]
  },
  {
   "cell_type": "code",
   "execution_count": 88,
   "id": "69d83ac5",
   "metadata": {},
   "outputs": [
    {
     "name": "stdout",
     "output_type": "stream",
     "text": [
      "[INFO] Baseline: 11.5; Effect size: 7.5\n"
     ]
    }
   ],
   "source": [
    "# Bottom vs Upper quartiles\n",
    "\n",
    "low = new_sbuild_parcel.loc[new_sbuild_parcel['quartile'].isin(['Low'])]\n",
    "high = new_sbuild_parcel.loc[new_sbuild_parcel['quartile'].isin(['High'])]\n",
    "baseline = low['Permitted'].sum() / low['APN'].count() * 100\n",
    "high_level = high['Permitted'].sum() / high['APN'].count() * 100\n",
    "\n",
    "effect_size = high_level - baseline\n",
    "\n",
    "print('[INFO] Baseline: {}; Effect size: {}'.format(round(baseline, 1), round(effect_size, 1)))"
   ]
  },
  {
   "cell_type": "code",
   "execution_count": 89,
   "id": "007b2cf7",
   "metadata": {},
   "outputs": [
    {
     "data": {
      "text/plain": [
       "[(125048.0, 250001.0], (68375.0, 96630.0], (96630.0, 125048.0], (13974.999, 68375.0], NaN]\n",
       "Categories (4, interval[float64, right]): [(13974.999, 68375.0] < (68375.0, 96630.0] < (96630.0, 125048.0] < (125048.0, 250001.0]]"
      ]
     },
     "execution_count": 89,
     "metadata": {},
     "output_type": "execute_result"
    }
   ],
   "source": [
    "pd.qcut(\n",
    "    cbg_income_2016_SJ['median_inc'], q=4).unique()"
   ]
  },
  {
   "cell_type": "markdown",
   "id": "6f3fdf00",
   "metadata": {},
   "source": [
    "## CBG-level"
   ]
  },
  {
   "cell_type": "code",
   "execution_count": 90,
   "id": "0cacc947",
   "metadata": {},
   "outputs": [],
   "source": [
    "# Aggregate at the CBG level\n",
    "new_sbuild_2020_cbg_agg = new_sbuild_2020_cbg.groupby('GEOID').agg(\n",
    "    {'count_new_sbuild_permitted': 'sum', 'count_new_sbuild': 'sum', 'median_inc': 'mean', 'quartile': 'first'}).reset_index()\n",
    "new_sbuild_2020_cbg_agg['perm_rate'] = new_sbuild_2020_cbg_agg[\n",
    "    'count_new_sbuild_permitted'] / new_sbuild_2020_cbg_agg['count_new_sbuild']"
   ]
  },
  {
   "cell_type": "code",
   "execution_count": 91,
   "id": "99e10430",
   "metadata": {},
   "outputs": [
    {
     "data": {
      "image/png": "[encoded data removed]",
      "text/plain": [
       "<Figure size 640x480 with 1 Axes>"
      ]
     },
     "metadata": {},
     "output_type": "display_data"
    }
   ],
   "source": [
    "ax = sns.scatterplot(new_sbuild_2020_cbg_agg, x='median_inc', y='perm_rate', hue='quartile', alpha=0.6)\n",
    "ax.set(xlabel='Median income', ylabel='Permitted construction rate')\n",
    "plt.show()"
   ]
  },
  {
   "cell_type": "markdown",
   "id": "c86a4a54",
   "metadata": {},
   "source": [
    "## Low-income permitted events"
   ]
  },
  {
   "cell_type": "code",
   "execution_count": 92,
   "id": "54ba219f",
   "metadata": {},
   "outputs": [
    {
     "data": {
      "text/html": [
       "<div>\n",
       "<style scoped>\n",
       "    .dataframe tbody tr th:only-of-type {\n",
       "        vertical-align: middle;\n",
       "    }\n",
       "\n",
       "    .dataframe tbody tr th {\n",
       "        vertical-align: top;\n",
       "    }\n",
       "\n",
       "    .dataframe thead th {\n",
       "        text-align: right;\n",
       "    }\n",
       "</style>\n",
       "<table border=\"1\" class=\"dataframe\">\n",
       "  <thead>\n",
       "    <tr style=\"text-align: right;\">\n",
       "      <th></th>\n",
       "      <th>APN</th>\n",
       "      <th>count_new_sbuild</th>\n",
       "      <th>pcount_2015_20</th>\n",
       "      <th>count_new_sbuild_permitted</th>\n",
       "      <th>count_new_sbuild_unpermitted</th>\n",
       "      <th>GEOID</th>\n",
       "      <th>median_inc</th>\n",
       "      <th>quartile</th>\n",
       "    </tr>\n",
       "  </thead>\n",
       "  <tbody>\n",
       "    <tr>\n",
       "      <th>11</th>\n",
       "      <td>26435035</td>\n",
       "      <td>1</td>\n",
       "      <td>1.0</td>\n",
       "      <td>1.0</td>\n",
       "      <td>0.0</td>\n",
       "      <td>060855017002</td>\n",
       "      <td>29054.054054</td>\n",
       "      <td>Low</td>\n",
       "    </tr>\n",
       "    <tr>\n",
       "      <th>13</th>\n",
       "      <td>26462005</td>\n",
       "      <td>2</td>\n",
       "      <td>1.0</td>\n",
       "      <td>1.0</td>\n",
       "      <td>1.0</td>\n",
       "      <td>060855023022</td>\n",
       "      <td>92308.000000</td>\n",
       "      <td>Low-Moderate</td>\n",
       "    </tr>\n",
       "    <tr>\n",
       "      <th>49</th>\n",
       "      <td>48605010</td>\n",
       "      <td>1</td>\n",
       "      <td>1.0</td>\n",
       "      <td>1.0</td>\n",
       "      <td>0.0</td>\n",
       "      <td>060855034012</td>\n",
       "      <td>52371.000000</td>\n",
       "      <td>Low</td>\n",
       "    </tr>\n",
       "    <tr>\n",
       "      <th>62</th>\n",
       "      <td>49724012</td>\n",
       "      <td>1</td>\n",
       "      <td>1.0</td>\n",
       "      <td>1.0</td>\n",
       "      <td>0.0</td>\n",
       "      <td>060855032045</td>\n",
       "      <td>57750.000000</td>\n",
       "      <td>Low</td>\n",
       "    </tr>\n",
       "  </tbody>\n",
       "</table>\n",
       "</div>"
      ],
      "text/plain": [
       "         APN  count_new_sbuild  pcount_2015_20  count_new_sbuild_permitted  \\\n",
       "11  26435035                 1             1.0                         1.0   \n",
       "13  26462005                 2             1.0                         1.0   \n",
       "49  48605010                 1             1.0                         1.0   \n",
       "62  49724012                 1             1.0                         1.0   \n",
       "\n",
       "    count_new_sbuild_unpermitted         GEOID    median_inc      quartile  \n",
       "11                           0.0  060855017002  29054.054054           Low  \n",
       "13                           1.0  060855023022  92308.000000  Low-Moderate  \n",
       "49                           0.0  060855034012  52371.000000           Low  \n",
       "62                           0.0  060855032045  57750.000000           Low  "
      ]
     },
     "execution_count": 92,
     "metadata": {},
     "output_type": "execute_result"
    }
   ],
   "source": [
    "new_sbuild_2020_cbg.loc[\n",
    "    (new_sbuild_2020_cbg['quartile']!= 'High') & (new_sbuild_2020_cbg['count_new_sbuild_permitted'] > 0)]"
   ]
  },
  {
   "cell_type": "code",
   "execution_count": null,
   "id": "f3c1b418",
   "metadata": {},
   "outputs": [],
   "source": [
    "#'26435035'  ok\n",
    "# 26462005 OK 2nd unit added\n",
    "# 48605010 seems to just be re-roofing: permit value is 0; sqft is 0\n",
    "# 49724012 OK"
   ]
  },
  {
   "cell_type": "code",
   "execution_count": 80,
   "id": "7f4c925d",
   "metadata": {},
   "outputs": [
    {
     "data": {
      "text/html": [
       "<div>\n",
       "<style scoped>\n",
       "    .dataframe tbody tr th:only-of-type {\n",
       "        vertical-align: middle;\n",
       "    }\n",
       "\n",
       "    .dataframe tbody tr th {\n",
       "        vertical-align: top;\n",
       "    }\n",
       "\n",
       "    .dataframe thead th {\n",
       "        text-align: right;\n",
       "    }\n",
       "</style>\n",
       "<table border=\"1\" class=\"dataframe\">\n",
       "  <thead>\n",
       "    <tr style=\"text-align: right;\">\n",
       "      <th></th>\n",
       "      <th>OBJECTID_left</th>\n",
       "      <th>FACILITYID</th>\n",
       "      <th>INTID_left</th>\n",
       "      <th>ADDRESS</th>\n",
       "      <th>APN</th>\n",
       "      <th>APPLICANT</th>\n",
       "      <th>CONTRACTOR</th>\n",
       "      <th>WORKDESC</th>\n",
       "      <th>SUBDESC</th>\n",
       "      <th>PERMITAPPROVAL</th>\n",
       "      <th>...</th>\n",
       "      <th>PLANMOD</th>\n",
       "      <th>LASTUPDATE_right</th>\n",
       "      <th>NOTES_right</th>\n",
       "      <th>COVERED</th>\n",
       "      <th>SHAPE_Length</th>\n",
       "      <th>SHAPE_Area</th>\n",
       "      <th>geometry_parcel</th>\n",
       "      <th>issue_date_converted</th>\n",
       "      <th>foldernum_year</th>\n",
       "      <th>issue_year</th>\n",
       "    </tr>\n",
       "  </thead>\n",
       "  <tbody>\n",
       "    <tr>\n",
       "      <th>11962</th>\n",
       "      <td>E_45633</td>\n",
       "      <td>36673</td>\n",
       "      <td>36673</td>\n",
       "      <td>2943  GARDEN AV 2 , SAN JOSE CA 95111</td>\n",
       "      <td>49724012</td>\n",
       "      <td>QSP CONSTRUCTION</td>\n",
       "      <td>QSP CONSTRUCTION</td>\n",
       "      <td>New Construction</td>\n",
       "      <td>2nd Unit Added</td>\n",
       "      <td>B-Complete, E-Complete, M-Complete, P-Complete</td>\n",
       "      <td>...</td>\n",
       "      <td>NaN</td>\n",
       "      <td>2005-10-25T12:21:45+00:00</td>\n",
       "      <td>NaN</td>\n",
       "      <td>NaN</td>\n",
       "      <td>465.113276</td>\n",
       "      <td>11854.445748</td>\n",
       "      <td>POLYGON ((-121.84184262220663 37.2926805609769...</td>\n",
       "      <td>2018-06-11 00:00:00</td>\n",
       "      <td>2017</td>\n",
       "      <td>2018</td>\n",
       "    </tr>\n",
       "  </tbody>\n",
       "</table>\n",
       "<p>1 rows × 42 columns</p>\n",
       "</div>"
      ],
      "text/plain": [
       "      OBJECTID_left  FACILITYID  INTID_left  \\\n",
       "11962       E_45633       36673       36673   \n",
       "\n",
       "                                     ADDRESS       APN            APPLICANT  \\\n",
       "11962  2943  GARDEN AV 2 , SAN JOSE CA 95111  49724012  QSP CONSTRUCTION      \n",
       "\n",
       "                CONTRACTOR          WORKDESC         SUBDESC  \\\n",
       "11962  QSP CONSTRUCTION     New Construction  2nd Unit Added   \n",
       "\n",
       "                                       PERMITAPPROVAL  ...  PLANMOD  \\\n",
       "11962  B-Complete, E-Complete, M-Complete, P-Complete  ...      NaN   \n",
       "\n",
       "                LASTUPDATE_right  NOTES_right  COVERED  SHAPE_Length  \\\n",
       "11962  2005-10-25T12:21:45+00:00          NaN      NaN    465.113276   \n",
       "\n",
       "         SHAPE_Area                                    geometry_parcel  \\\n",
       "11962  11854.445748  POLYGON ((-121.84184262220663 37.2926805609769...   \n",
       "\n",
       "      issue_date_converted  foldernum_year issue_year  \n",
       "11962  2018-06-11 00:00:00            2017       2018  \n",
       "\n",
       "[1 rows x 42 columns]"
      ]
     },
     "execution_count": 80,
     "metadata": {},
     "output_type": "execute_result"
    }
   ],
   "source": [
    "permits_2015_20.loc[permits_2015_20['APN_parcel'].isin(['49724012'])]"
   ]
  },
  {
   "cell_type": "markdown",
   "id": "f358226a",
   "metadata": {},
   "source": [
    "## High-income permitted events"
   ]
  },
  {
   "cell_type": "code",
   "execution_count": 81,
   "id": "8140cd9f",
   "metadata": {},
   "outputs": [
    {
     "data": {
      "text/html": [
       "<div>\n",
       "<style scoped>\n",
       "    .dataframe tbody tr th:only-of-type {\n",
       "        vertical-align: middle;\n",
       "    }\n",
       "\n",
       "    .dataframe tbody tr th {\n",
       "        vertical-align: top;\n",
       "    }\n",
       "\n",
       "    .dataframe thead th {\n",
       "        text-align: right;\n",
       "    }\n",
       "</style>\n",
       "<table border=\"1\" class=\"dataframe\">\n",
       "  <thead>\n",
       "    <tr style=\"text-align: right;\">\n",
       "      <th></th>\n",
       "      <th>APN</th>\n",
       "      <th>count_new_sbuild</th>\n",
       "      <th>pcount_2015_20</th>\n",
       "      <th>count_new_sbuild_permitted</th>\n",
       "      <th>count_new_sbuild_unpermitted</th>\n",
       "      <th>GEOID</th>\n",
       "      <th>median_inc</th>\n",
       "      <th>quartile</th>\n",
       "    </tr>\n",
       "  </thead>\n",
       "  <tbody>\n",
       "    <tr>\n",
       "      <th>21</th>\n",
       "      <td>30341002</td>\n",
       "      <td>1</td>\n",
       "      <td>1.0</td>\n",
       "      <td>1.0</td>\n",
       "      <td>0.0</td>\n",
       "      <td>060855063014</td>\n",
       "      <td>125481.0</td>\n",
       "      <td>High</td>\n",
       "    </tr>\n",
       "    <tr>\n",
       "      <th>32</th>\n",
       "      <td>44626011</td>\n",
       "      <td>1</td>\n",
       "      <td>2.0</td>\n",
       "      <td>1.0</td>\n",
       "      <td>0.0</td>\n",
       "      <td>060855025006</td>\n",
       "      <td>158819.0</td>\n",
       "      <td>High</td>\n",
       "    </tr>\n",
       "    <tr>\n",
       "      <th>94</th>\n",
       "      <td>69226014</td>\n",
       "      <td>1</td>\n",
       "      <td>1.0</td>\n",
       "      <td>1.0</td>\n",
       "      <td>0.0</td>\n",
       "      <td>060855120291</td>\n",
       "      <td>130167.0</td>\n",
       "      <td>High</td>\n",
       "    </tr>\n",
       "    <tr>\n",
       "      <th>96</th>\n",
       "      <td>70101032</td>\n",
       "      <td>1</td>\n",
       "      <td>1.0</td>\n",
       "      <td>1.0</td>\n",
       "      <td>0.0</td>\n",
       "      <td>060855119072</td>\n",
       "      <td>157652.0</td>\n",
       "      <td>High</td>\n",
       "    </tr>\n",
       "  </tbody>\n",
       "</table>\n",
       "</div>"
      ],
      "text/plain": [
       "         APN  count_new_sbuild  pcount_2015_20  count_new_sbuild_permitted  \\\n",
       "21  30341002                 1             1.0                         1.0   \n",
       "32  44626011                 1             2.0                         1.0   \n",
       "94  69226014                 1             1.0                         1.0   \n",
       "96  70101032                 1             1.0                         1.0   \n",
       "\n",
       "    count_new_sbuild_unpermitted         GEOID  median_inc quartile  \n",
       "21                           0.0  060855063014    125481.0     High  \n",
       "32                           0.0  060855025006    158819.0     High  \n",
       "94                           0.0  060855120291    130167.0     High  \n",
       "96                           0.0  060855119072    157652.0     High  "
      ]
     },
     "execution_count": 81,
     "metadata": {},
     "output_type": "execute_result"
    }
   ],
   "source": [
    "new_sbuild_2020_cbg.loc[\n",
    "    (new_sbuild_2020_cbg['quartile'] == 'High') & (new_sbuild_2020_cbg['count_new_sbuild_permitted'] > 0)]"
   ]
  },
  {
   "cell_type": "code",
   "execution_count": null,
   "id": "0e6fd075",
   "metadata": {},
   "outputs": [],
   "source": [
    "# 30341002 Has 0 permit value and 0 sqft\n",
    "# 44626011 OK\n",
    "# 69226014 14k permit value and 0 sqft\n",
    "# 70101032 15k permit value and 0 sqft"
   ]
  },
  {
   "cell_type": "code",
   "execution_count": 91,
   "id": "750e3ab2",
   "metadata": {},
   "outputs": [
    {
     "data": {
      "text/html": [
       "<div>\n",
       "<style scoped>\n",
       "    .dataframe tbody tr th:only-of-type {\n",
       "        vertical-align: middle;\n",
       "    }\n",
       "\n",
       "    .dataframe tbody tr th {\n",
       "        vertical-align: top;\n",
       "    }\n",
       "\n",
       "    .dataframe thead th {\n",
       "        text-align: right;\n",
       "    }\n",
       "</style>\n",
       "<table border=\"1\" class=\"dataframe\">\n",
       "  <thead>\n",
       "    <tr style=\"text-align: right;\">\n",
       "      <th></th>\n",
       "      <th>OBJECTID_left</th>\n",
       "      <th>FACILITYID</th>\n",
       "      <th>INTID_left</th>\n",
       "      <th>ADDRESS</th>\n",
       "      <th>APN</th>\n",
       "      <th>APPLICANT</th>\n",
       "      <th>CONTRACTOR</th>\n",
       "      <th>WORKDESC</th>\n",
       "      <th>SUBDESC</th>\n",
       "      <th>PERMITAPPROVAL</th>\n",
       "      <th>...</th>\n",
       "      <th>PLANMOD</th>\n",
       "      <th>LASTUPDATE_right</th>\n",
       "      <th>NOTES_right</th>\n",
       "      <th>COVERED</th>\n",
       "      <th>SHAPE_Length</th>\n",
       "      <th>SHAPE_Area</th>\n",
       "      <th>geometry_parcel</th>\n",
       "      <th>issue_date_converted</th>\n",
       "      <th>foldernum_year</th>\n",
       "      <th>issue_year</th>\n",
       "    </tr>\n",
       "  </thead>\n",
       "  <tbody>\n",
       "    <tr>\n",
       "      <th>10397</th>\n",
       "      <td>E_35015</td>\n",
       "      <td>35041</td>\n",
       "      <td>35041</td>\n",
       "      <td>6468  ALMADEN RD  , SAN JOSE CA 95120-1901</td>\n",
       "      <td>70101006</td>\n",
       "      <td>HIJAZI SAMER L</td>\n",
       "      <td>NaN</td>\n",
       "      <td>Additions/Alterations</td>\n",
       "      <td>Single-Family</td>\n",
       "      <td>B-Complete, E-Complete, M-Complete, P-Complete</td>\n",
       "      <td>...</td>\n",
       "      <td>NaN</td>\n",
       "      <td>2016-05-26T21:09:01+00:00</td>\n",
       "      <td>NaN</td>\n",
       "      <td>NaN</td>\n",
       "      <td>610.222632</td>\n",
       "      <td>17999.914119</td>\n",
       "      <td>POLYGON ((-121.86058677763837 37.2211951038365...</td>\n",
       "      <td>2016-12-02 00:00:00</td>\n",
       "      <td>2016</td>\n",
       "      <td>2016</td>\n",
       "    </tr>\n",
       "  </tbody>\n",
       "</table>\n",
       "<p>1 rows × 42 columns</p>\n",
       "</div>"
      ],
      "text/plain": [
       "      OBJECTID_left  FACILITYID  INTID_left  \\\n",
       "10397       E_35015       35041       35041   \n",
       "\n",
       "                                          ADDRESS       APN  \\\n",
       "10397  6468  ALMADEN RD  , SAN JOSE CA 95120-1901  70101006   \n",
       "\n",
       "               APPLICANT CONTRACTOR               WORKDESC        SUBDESC  \\\n",
       "10397  HIJAZI SAMER L           NaN  Additions/Alterations  Single-Family   \n",
       "\n",
       "                                       PERMITAPPROVAL  ...  PLANMOD  \\\n",
       "10397  B-Complete, E-Complete, M-Complete, P-Complete  ...      NaN   \n",
       "\n",
       "                LASTUPDATE_right  NOTES_right  COVERED  SHAPE_Length  \\\n",
       "10397  2016-05-26T21:09:01+00:00          NaN      NaN    610.222632   \n",
       "\n",
       "         SHAPE_Area                                    geometry_parcel  \\\n",
       "10397  17999.914119  POLYGON ((-121.86058677763837 37.2211951038365...   \n",
       "\n",
       "      issue_date_converted  foldernum_year issue_year  \n",
       "10397  2016-12-02 00:00:00            2016       2016  \n",
       "\n",
       "[1 rows x 42 columns]"
      ]
     },
     "execution_count": 91,
     "metadata": {},
     "output_type": "execute_result"
    }
   ],
   "source": [
    "permits_2015_20.loc[permits_2015_20['APN_parcel'].isin(['70101032'])]"
   ]
  },
  {
   "cell_type": "markdown",
   "id": "bb72d622",
   "metadata": {},
   "source": [
    "## CBG median income"
   ]
  },
  {
   "cell_type": "code",
   "execution_count": 45,
   "id": "83970313",
   "metadata": {},
   "outputs": [
    {
     "data": {
      "image/png": "[encoded data removed]",
      "text/plain": [
       "<Figure size 640x480 with 1 Axes>"
      ]
     },
     "metadata": {},
     "output_type": "display_data"
    }
   ],
   "source": [
    "ax = sns.boxplot(cbg_income_2016_SJ, x='median_inc')\n",
    "ax = sns.scatterplot(cbg_income_2016_SJ.loc[cbg_income_2016_SJ['GEOID'].isin(\n",
    "    ['060855063014', '060855120291'])], x='median_inc', y=0, ax=ax, color='red')\n",
    "#ax.axis('off')\n",
    "plt.show()"
   ]
  },
  {
   "cell_type": "markdown",
   "id": "476de9c3",
   "metadata": {},
   "source": [
    "## Counterfactual"
   ]
  },
  {
   "cell_type": "code",
   "execution_count": 112,
   "id": "104d538d",
   "metadata": {},
   "outputs": [
    {
     "data": {
      "text/html": [
       "<div>\n",
       "<style scoped>\n",
       "    .dataframe tbody tr th:only-of-type {\n",
       "        vertical-align: middle;\n",
       "    }\n",
       "\n",
       "    .dataframe tbody tr th {\n",
       "        vertical-align: top;\n",
       "    }\n",
       "\n",
       "    .dataframe thead th {\n",
       "        text-align: right;\n",
       "    }\n",
       "</style>\n",
       "<table border=\"1\" class=\"dataframe\">\n",
       "  <thead>\n",
       "    <tr style=\"text-align: right;\">\n",
       "      <th></th>\n",
       "      <th>GEOID</th>\n",
       "      <th>median_inc</th>\n",
       "      <th>strata_inc</th>\n",
       "      <th>neighborho</th>\n",
       "      <th>geometry</th>\n",
       "      <th>median_inc_str</th>\n",
       "    </tr>\n",
       "  </thead>\n",
       "  <tbody>\n",
       "    <tr>\n",
       "      <th>34</th>\n",
       "      <td>060855063014</td>\n",
       "      <td>125481.0</td>\n",
       "      <td>IS_37</td>\n",
       "      <td>high</td>\n",
       "      <td>POLYGON ((-121.96067 37.31650, -121.96067 37.3...</td>\n",
       "      <td>125481.0</td>\n",
       "    </tr>\n",
       "    <tr>\n",
       "      <th>69</th>\n",
       "      <td>060855120291</td>\n",
       "      <td>130167.0</td>\n",
       "      <td>IS_39</td>\n",
       "      <td>high</td>\n",
       "      <td>POLYGON ((-121.83084 37.25129, -121.83049 37.2...</td>\n",
       "      <td>130167.0</td>\n",
       "    </tr>\n",
       "  </tbody>\n",
       "</table>\n",
       "</div>"
      ],
      "text/plain": [
       "           GEOID  median_inc strata_inc neighborho  \\\n",
       "34  060855063014    125481.0      IS_37       high   \n",
       "69  060855120291    130167.0      IS_39       high   \n",
       "\n",
       "                                             geometry median_inc_str  \n",
       "34  POLYGON ((-121.96067 37.31650, -121.96067 37.3...       125481.0  \n",
       "69  POLYGON ((-121.83084 37.25129, -121.83049 37.2...       130167.0  "
      ]
     },
     "execution_count": 112,
     "metadata": {},
     "output_type": "execute_result"
    }
   ],
   "source": [
    "cbg_income_2016_SJ.loc[cbg_income_2016_SJ['GEOID'].isin(\n",
    "    ['060855063014', '060855120291'])]"
   ]
  },
  {
   "cell_type": "code",
   "execution_count": 118,
   "id": "75558e67",
   "metadata": {},
   "outputs": [],
   "source": [
    "new_sbuild_cf = new_sbuild_2020_cbg.copy()\n",
    "new_sbuild_cf['neighborhood_counterfactual'] = new_sbuild_cf['median_inc'].apply(\n",
    "    lambda inc: 'Low' if inc <= 130167.0 else 'High')"
   ]
  },
  {
   "cell_type": "code",
   "execution_count": 119,
   "id": "47b99804",
   "metadata": {},
   "outputs": [
    {
     "data": {
      "text/html": [
       "<div>\n",
       "<style scoped>\n",
       "    .dataframe tbody tr th:only-of-type {\n",
       "        vertical-align: middle;\n",
       "    }\n",
       "\n",
       "    .dataframe tbody tr th {\n",
       "        vertical-align: top;\n",
       "    }\n",
       "\n",
       "    .dataframe thead th {\n",
       "        text-align: right;\n",
       "    }\n",
       "</style>\n",
       "<table border=\"1\" class=\"dataframe\">\n",
       "  <thead>\n",
       "    <tr style=\"text-align: right;\">\n",
       "      <th></th>\n",
       "      <th>neighborhood_counterfactual</th>\n",
       "      <th>count_new_sbuild_permitted</th>\n",
       "      <th>count_new_sbuild</th>\n",
       "    </tr>\n",
       "  </thead>\n",
       "  <tbody>\n",
       "    <tr>\n",
       "      <th>0</th>\n",
       "      <td>High</td>\n",
       "      <td>2.0</td>\n",
       "      <td>13</td>\n",
       "    </tr>\n",
       "    <tr>\n",
       "      <th>1</th>\n",
       "      <td>Low</td>\n",
       "      <td>6.0</td>\n",
       "      <td>91</td>\n",
       "    </tr>\n",
       "  </tbody>\n",
       "</table>\n",
       "</div>"
      ],
      "text/plain": [
       "  neighborhood_counterfactual  count_new_sbuild_permitted  count_new_sbuild\n",
       "0                        High                         2.0                13\n",
       "1                         Low                         6.0                91"
      ]
     },
     "execution_count": 119,
     "metadata": {},
     "output_type": "execute_result"
    }
   ],
   "source": [
    "new_sbuild_cf.groupby('neighborhood_counterfactual')[[\n",
    "    'count_new_sbuild_permitted', 'count_new_sbuild']].sum().reset_index()"
   ]
  },
  {
   "cell_type": "markdown",
   "id": "f6858339",
   "metadata": {},
   "source": [
    "## Using parcel-level \"income\""
   ]
  },
  {
   "cell_type": "code",
   "execution_count": 93,
   "id": "5e481cca",
   "metadata": {},
   "outputs": [],
   "source": [
    "assessor_data_dict = {}\n",
    "\n",
    "# Historic assessor data\n",
    "assessor_data = assessor_historical.copy()\n",
    "\n",
    "# * Filter to SJ\n",
    "assessor_data = assessor_data.loc[assessor_data['SITUS CITY'] == 'SAN JOSE']\n",
    "assessor_data = assessor_data[[\n",
    "    'APN (PARCEL NUMBER UNFORMATTED)', 'FORMATTED APN', 'ORIGINAL APN', \n",
    "    'TOTAL VALUE CALCULATED', 'SITUS CITY']]\n",
    "# * Most APNs are correctly 8-digit numbers \n",
    "assessor_data['APN'] = assessor_data['APN (PARCEL NUMBER UNFORMATTED)'].apply(\n",
    "    lambda apn: apn)\n",
    "assessor_data['apn_len'] = assessor_data['APN (PARCEL NUMBER UNFORMATTED)'].apply(\n",
    "    lambda apn: len(apn))\n",
    "\n",
    "# * Filter to residential parcels\n",
    "assessor_data = assessor_data.loc[assessor_data['APN'].isin(sj_parcels_cbgs['APN'].unique())]\n",
    "assessor_data['parcel_income'] = assessor_data['TOTAL VALUE CALCULATED']\n",
    "assessor_data_dict['historic'] = assessor_data[['APN', 'parcel_income']].copy()\n",
    "\n",
    "# Latest assessor data\n",
    "assessor_data = sj_assessor_parcels.copy()\n",
    "assessor_data['parcel_income'] = assessor_data['LAND'] + assessor_data['IMPROVEMEN']\n",
    "assessor_data_dict['latest'] = assessor_data[['APN', 'parcel_income']].copy()"
   ]
  },
  {
   "cell_type": "code",
   "execution_count": 94,
   "id": "5c582f85",
   "metadata": {},
   "outputs": [
    {
     "name": "stdout",
     "output_type": "stream",
     "text": [
      "[INFO] Number of parcels without historic assessor data: 1\n",
      "[INFO] Number of parcels without latest assessor data: 0\n"
     ]
    }
   ],
   "source": [
    "# Divide parcel-level \"income\" into quartiles\n",
    "quartile_neighborhoods = {'IS_0': 'Low', 'IS_1': 'Low', 'IS_2': 'Low', 'IS_3': 'High'}\n",
    "quartile_names = {'IS_0': 'Low', 'IS_1': 'Low-Moderate', 'IS_2': 'High-moderate', 'IS_3': 'High'}\n",
    "\n",
    "parcel_inc_dict = {}\n",
    "for time_period in assessor_data_dict.keys():\n",
    "    assessor_data = assessor_data_dict[time_period].copy()\n",
    "    assessor_data['parcel_quartile'] = pd.qcut(\n",
    "        assessor_data['parcel_income'], q=4, \n",
    "        labels=['IS_{}'.format(i) for i in range(4)])\n",
    "\n",
    "    assessor_data['parcel_quartile'] = assessor_data['parcel_quartile'].apply(\n",
    "        lambda quartile: quartile_names[quartile])\n",
    "    assessor_data_dict[time_period] = assessor_data.copy()\n",
    "    \n",
    "    # Assign parcel-level income group\n",
    "    new_sbuild_parcel_inc = new_sbuild_parcel.copy()\n",
    "\n",
    "    new_sbuild_parcel_inc = pd.merge(\n",
    "        new_sbuild_parcel_inc, assessor_data[['APN', 'parcel_income', 'parcel_quartile']],\n",
    "        how='left', validate='many_to_one')\n",
    "\n",
    "    print('[INFO] Number of parcels without {} assessor data: {}'.format(\n",
    "        time_period, new_sbuild_parcel_inc['parcel_income'].isna().sum()))\n",
    "    parcel_inc_dict[time_period] = new_sbuild_parcel_inc.copy()"
   ]
  },
  {
   "cell_type": "code",
   "execution_count": 95,
   "id": "5d8a750b",
   "metadata": {},
   "outputs": [
    {
     "data": {
      "text/plain": [
       "[(629997.0, 36808485.0], (201684.0, 388951.0], (5.999, 201684.0], (388951.0, 629997.0], NaN]\n",
       "Categories (4, interval[float64, right]): [(5.999, 201684.0] < (201684.0, 388951.0] < (388951.0, 629997.0] < (629997.0, 36808485.0]]"
      ]
     },
     "execution_count": 95,
     "metadata": {},
     "output_type": "execute_result"
    }
   ],
   "source": [
    "pd.qcut(assessor_data_dict['historic']['parcel_income'], q=4).unique()"
   ]
  },
  {
   "cell_type": "code",
   "execution_count": 119,
   "id": "9feef884",
   "metadata": {},
   "outputs": [
    {
     "name": "stdout",
     "output_type": "stream",
     "text": [
      "[INFO] Number of residential parcels in historic assessor data: 156987\n"
     ]
    }
   ],
   "source": [
    "time_period = ['historic', 'latest'][0]\n",
    "\n",
    "try:\n",
    "    assessor_data = assessor_data_dict[time_period].copy()\n",
    "    print('[INFO] Number of residential parcels in {} assessor data: {}'.format(\n",
    "        time_period, len(assessor_data)))\n",
    "    new_sbuild_parcel_inc = parcel_inc_dict[time_period].copy()\n",
    "except KeyError:\n",
    "    raise Exception('[ERROR] Check assessor data type')"
   ]
  },
  {
   "cell_type": "code",
   "execution_count": 120,
   "id": "65dff4c8",
   "metadata": {},
   "outputs": [
    {
     "data": {
      "text/html": [
       "<div>\n",
       "<style scoped>\n",
       "    .dataframe tbody tr th:only-of-type {\n",
       "        vertical-align: middle;\n",
       "    }\n",
       "\n",
       "    .dataframe tbody tr th {\n",
       "        vertical-align: top;\n",
       "    }\n",
       "\n",
       "    .dataframe thead th {\n",
       "        text-align: right;\n",
       "    }\n",
       "</style>\n",
       "<table border=\"1\" class=\"dataframe\">\n",
       "  <thead>\n",
       "    <tr style=\"text-align: right;\">\n",
       "      <th></th>\n",
       "      <th>APN</th>\n",
       "      <th>GEOID</th>\n",
       "      <th>median_inc</th>\n",
       "      <th>quartile</th>\n",
       "      <th>Permitted</th>\n",
       "      <th>parcel_income</th>\n",
       "      <th>parcel_quartile</th>\n",
       "    </tr>\n",
       "  </thead>\n",
       "  <tbody>\n",
       "    <tr>\n",
       "      <th>8</th>\n",
       "      <td>01511081</td>\n",
       "      <td>060855046021</td>\n",
       "      <td>77734.0</td>\n",
       "      <td>Low-Moderate</td>\n",
       "      <td>0</td>\n",
       "      <td>NaN</td>\n",
       "      <td>NaN</td>\n",
       "    </tr>\n",
       "  </tbody>\n",
       "</table>\n",
       "</div>"
      ],
      "text/plain": [
       "        APN         GEOID  median_inc      quartile  Permitted  parcel_income  \\\n",
       "8  01511081  060855046021     77734.0  Low-Moderate          0            NaN   \n",
       "\n",
       "  parcel_quartile  \n",
       "8             NaN  "
      ]
     },
     "execution_count": 120,
     "metadata": {},
     "output_type": "execute_result"
    }
   ],
   "source": [
    "new_sbuild_parcel_inc.loc[new_sbuild_parcel_inc['parcel_income'].isna()]"
   ]
  },
  {
   "cell_type": "code",
   "execution_count": 121,
   "id": "2a8d3778",
   "metadata": {},
   "outputs": [
    {
     "data": {
      "image/png": "[encoded data removed]",
      "text/plain": [
       "<Figure size 640x480 with 1 Axes>"
      ]
     },
     "metadata": {},
     "output_type": "display_data"
    }
   ],
   "source": [
    "ax = sns.scatterplot(new_sbuild_parcel_inc, x='parcel_income', y='Permitted', hue='parcel_quartile', alpha=0.6)\n",
    "ax.set(xlabel='Property value', ylabel='Construction type (Permitted/Unperitted)')\n",
    "plt.ticklabel_format(style='plain', axis='x')\n",
    "plt.show()"
   ]
  },
  {
   "cell_type": "code",
   "execution_count": 122,
   "id": "ae93946e",
   "metadata": {},
   "outputs": [],
   "source": [
    "outcome = new_sbuild_parcel_inc.groupby('parcel_quartile').agg(\n",
    "    {'Permitted': 'sum', 'APN': 'count'}).reset_index()\n",
    "outcome['permitted_prop'] = outcome['Permitted'] / outcome['APN']"
   ]
  },
  {
   "cell_type": "code",
   "execution_count": 123,
   "id": "63dfb133",
   "metadata": {},
   "outputs": [
    {
     "data": {
      "text/html": [
       "<div>\n",
       "<style scoped>\n",
       "    .dataframe tbody tr th:only-of-type {\n",
       "        vertical-align: middle;\n",
       "    }\n",
       "\n",
       "    .dataframe tbody tr th {\n",
       "        vertical-align: top;\n",
       "    }\n",
       "\n",
       "    .dataframe thead th {\n",
       "        text-align: right;\n",
       "    }\n",
       "</style>\n",
       "<table border=\"1\" class=\"dataframe\">\n",
       "  <thead>\n",
       "    <tr style=\"text-align: right;\">\n",
       "      <th></th>\n",
       "      <th>parcel_quartile</th>\n",
       "      <th>Permitted</th>\n",
       "      <th>APN</th>\n",
       "      <th>permitted_prop</th>\n",
       "    </tr>\n",
       "  </thead>\n",
       "  <tbody>\n",
       "    <tr>\n",
       "      <th>0</th>\n",
       "      <td>Low</td>\n",
       "      <td>0</td>\n",
       "      <td>18</td>\n",
       "      <td>0.000000</td>\n",
       "    </tr>\n",
       "    <tr>\n",
       "      <th>1</th>\n",
       "      <td>Low-Moderate</td>\n",
       "      <td>3</td>\n",
       "      <td>31</td>\n",
       "      <td>0.096774</td>\n",
       "    </tr>\n",
       "    <tr>\n",
       "      <th>2</th>\n",
       "      <td>High-moderate</td>\n",
       "      <td>1</td>\n",
       "      <td>33</td>\n",
       "      <td>0.030303</td>\n",
       "    </tr>\n",
       "    <tr>\n",
       "      <th>3</th>\n",
       "      <td>High</td>\n",
       "      <td>4</td>\n",
       "      <td>21</td>\n",
       "      <td>0.190476</td>\n",
       "    </tr>\n",
       "  </tbody>\n",
       "</table>\n",
       "</div>"
      ],
      "text/plain": [
       "  parcel_quartile  Permitted  APN  permitted_prop\n",
       "0             Low          0   18        0.000000\n",
       "1    Low-Moderate          3   31        0.096774\n",
       "2   High-moderate          1   33        0.030303\n",
       "3            High          4   21        0.190476"
      ]
     },
     "execution_count": 123,
     "metadata": {},
     "output_type": "execute_result"
    }
   ],
   "source": [
    "outcome"
   ]
  },
  {
   "cell_type": "code",
   "execution_count": 124,
   "id": "6dffdb3a",
   "metadata": {},
   "outputs": [
    {
     "data": {
      "image/png": "[encoded data removed]",
      "text/plain": [
       "<Figure size 640x480 with 1 Axes>"
      ]
     },
     "metadata": {},
     "output_type": "display_data"
    }
   ],
   "source": [
    "ax = sns.barplot(outcome, x='parcel_quartile', y='permitted_prop', hue='parcel_quartile')\n",
    "ax.set(xlabel='Property quartile', ylabel='Permitted proportion of constructions')\n",
    "plt.show()"
   ]
  },
  {
   "cell_type": "code",
   "execution_count": 125,
   "id": "fda91486",
   "metadata": {},
   "outputs": [
    {
     "name": "stdout",
     "output_type": "stream",
     "text": [
      "[INFO] Baseline: 4.9; Effect size: 14.2\n"
     ]
    }
   ],
   "source": [
    "# Bottom 3 quartiles vs top quartile\n",
    "low = outcome.loc[outcome['parcel_quartile'].isin(['Low', 'Low-Moderate', 'High-moderate'])]\n",
    "high = outcome.loc[outcome['parcel_quartile'] == 'High']\n",
    "baseline = low['Permitted'].sum() / low['APN'].sum() * 100\n",
    "high_level = high['Permitted'].sum() / high['APN'].sum() * 100\n",
    "\n",
    "effect_size = high_level - baseline\n",
    "\n",
    "print('[INFO] Baseline: {}; Effect size: {}'.format(round(baseline, 1), round(effect_size, 1)))"
   ]
  },
  {
   "cell_type": "code",
   "execution_count": 85,
   "id": "d5c1f0a8",
   "metadata": {},
   "outputs": [
    {
     "name": "stdout",
     "output_type": "stream",
     "text": [
      "[INFO] Baseline: 6.1; Effect size: 3.1\n"
     ]
    }
   ],
   "source": [
    "# Median\n",
    "low = outcome.loc[outcome['parcel_quartile'].isin(['Low', 'Low-Moderate'])]\n",
    "high = outcome.loc[outcome['parcel_quartile'].isin(['High-moderate', 'High'])]\n",
    "baseline = low['Permitted'].sum() / low['APN'].sum() * 100\n",
    "high_level = high['Permitted'].sum() / high['APN'].sum() * 100\n",
    "\n",
    "effect_size = high_level - baseline\n",
    "\n",
    "print('[INFO] Baseline: {}; Effect size: {}'.format(round(baseline, 1), round(effect_size, 1)))"
   ]
  },
  {
   "cell_type": "code",
   "execution_count": 87,
   "id": "1fd131e5",
   "metadata": {},
   "outputs": [
    {
     "name": "stdout",
     "output_type": "stream",
     "text": [
      "[INFO] Baseline: 0.0; Effect size: 19.0\n"
     ]
    }
   ],
   "source": [
    "# Bottom vs upper quartiles\n",
    "low = outcome.loc[outcome['parcel_quartile'].isin(['Low'])]\n",
    "high = outcome.loc[outcome['parcel_quartile'].isin(['High'])]\n",
    "baseline = low['Permitted'].sum() / low['APN'].sum() * 100\n",
    "high_level = high['Permitted'].sum() / high['APN'].sum() * 100\n",
    "\n",
    "effect_size = high_level - baseline\n",
    "\n",
    "print('[INFO] Baseline: {}; Effect size: {}'.format(round(baseline, 1), round(effect_size, 1)))"
   ]
  },
  {
   "cell_type": "markdown",
   "id": "d672e852",
   "metadata": {},
   "source": [
    "## Construction events"
   ]
  },
  {
   "cell_type": "code",
   "execution_count": 108,
   "id": "02cf3f7d",
   "metadata": {},
   "outputs": [],
   "source": [
    "parcel_geom = sj_parcels_cbgs.copy()\n",
    "parcel_geom['centroid'] = parcel_geom.to_crs('EPSG:26910').geometry.centroid\n",
    "parcel_geom = gpd.GeoDataFrame(parcel_geom[['APN', 'centroid']], geometry='centroid', crs='EPSG:26910')\n",
    "parcel_geom = parcel_geom.to_crs('EPSG:4326')\n",
    "parcel_geom['coords'] = parcel_geom['centroid'].apply(\n",
    "    lambda c: '{}, {}'.format(list(c.coords)[0][1], list(c.coords)[0][0]))"
   ]
  },
  {
   "cell_type": "code",
   "execution_count": 114,
   "id": "bafd410c",
   "metadata": {},
   "outputs": [],
   "source": [
    "# Low income events\n",
    "low_events = new_sbuild_parcel_inc.loc[new_sbuild_parcel_inc['parcel_quartile'] != 'High']\n",
    "low_events = low_events.merge(parcel_geom[['APN', 'coords']], validate='many_to_one')"
   ]
  },
  {
   "cell_type": "code",
   "execution_count": 115,
   "id": "f520d516",
   "metadata": {},
   "outputs": [],
   "source": [
    "# High income events\n",
    "high_events = new_sbuild_parcel_inc.loc[new_sbuild_parcel_inc['parcel_quartile'] == 'High']\n",
    "high_events = high_events.merge(parcel_geom[['APN', 'coords']], validate='many_to_one')"
   ]
  },
  {
   "cell_type": "code",
   "execution_count": 126,
   "id": "3b26a6a6",
   "metadata": {},
   "outputs": [
    {
     "data": {
      "text/html": [
       "<div>\n",
       "<style scoped>\n",
       "    .dataframe tbody tr th:only-of-type {\n",
       "        vertical-align: middle;\n",
       "    }\n",
       "\n",
       "    .dataframe tbody tr th {\n",
       "        vertical-align: top;\n",
       "    }\n",
       "\n",
       "    .dataframe thead th {\n",
       "        text-align: right;\n",
       "    }\n",
       "</style>\n",
       "<table border=\"1\" class=\"dataframe\">\n",
       "  <thead>\n",
       "    <tr style=\"text-align: right;\">\n",
       "      <th></th>\n",
       "      <th>APN</th>\n",
       "      <th>GEOID</th>\n",
       "      <th>median_inc</th>\n",
       "      <th>quartile</th>\n",
       "      <th>Permitted</th>\n",
       "      <th>parcel_income</th>\n",
       "      <th>parcel_quartile</th>\n",
       "      <th>coords</th>\n",
       "    </tr>\n",
       "  </thead>\n",
       "  <tbody>\n",
       "    <tr>\n",
       "      <th>73</th>\n",
       "      <td>67849070</td>\n",
       "      <td>060855120393</td>\n",
       "      <td>119348.0</td>\n",
       "      <td>High-moderate</td>\n",
       "      <td>0</td>\n",
       "      <td>545198.0</td>\n",
       "      <td>High-moderate</td>\n",
       "      <td>37.24595641165711, -121.77929527969044</td>\n",
       "    </tr>\n",
       "    <tr>\n",
       "      <th>74</th>\n",
       "      <td>68432012</td>\n",
       "      <td>060855120432</td>\n",
       "      <td>85156.0</td>\n",
       "      <td>Low-Moderate</td>\n",
       "      <td>0</td>\n",
       "      <td>158178.0</td>\n",
       "      <td>Low</td>\n",
       "      <td>37.26553910022802, -121.80972039052048</td>\n",
       "    </tr>\n",
       "    <tr>\n",
       "      <th>75</th>\n",
       "      <td>68433070</td>\n",
       "      <td>060855120432</td>\n",
       "      <td>85156.0</td>\n",
       "      <td>Low-Moderate</td>\n",
       "      <td>0</td>\n",
       "      <td>421292.0</td>\n",
       "      <td>High-moderate</td>\n",
       "      <td>37.26634802571772, -121.80744013865008</td>\n",
       "    </tr>\n",
       "    <tr>\n",
       "      <th>76</th>\n",
       "      <td>68701028</td>\n",
       "      <td>060855120471</td>\n",
       "      <td>99792.0</td>\n",
       "      <td>High-moderate</td>\n",
       "      <td>0</td>\n",
       "      <td>310691.0</td>\n",
       "      <td>Low-Moderate</td>\n",
       "      <td>37.248039869891514, -121.84046360025593</td>\n",
       "    </tr>\n",
       "    <tr>\n",
       "      <th>77</th>\n",
       "      <td>68918083</td>\n",
       "      <td>060855120372</td>\n",
       "      <td>110917.0</td>\n",
       "      <td>High-moderate</td>\n",
       "      <td>0</td>\n",
       "      <td>348727.0</td>\n",
       "      <td>Low-Moderate</td>\n",
       "      <td>37.24293667218261, -121.82543410673058</td>\n",
       "    </tr>\n",
       "    <tr>\n",
       "      <th>78</th>\n",
       "      <td>68922029</td>\n",
       "      <td>060855120361</td>\n",
       "      <td>102200.0</td>\n",
       "      <td>High-moderate</td>\n",
       "      <td>0</td>\n",
       "      <td>85909.0</td>\n",
       "      <td>Low</td>\n",
       "      <td>37.23789860076776, -121.8095280779002</td>\n",
       "    </tr>\n",
       "    <tr>\n",
       "      <th>79</th>\n",
       "      <td>69205043</td>\n",
       "      <td>060855120294</td>\n",
       "      <td>131458.0</td>\n",
       "      <td>High</td>\n",
       "      <td>0</td>\n",
       "      <td>453110.0</td>\n",
       "      <td>High-moderate</td>\n",
       "      <td>37.24408107003004, -121.8099754074092</td>\n",
       "    </tr>\n",
       "    <tr>\n",
       "      <th>80</th>\n",
       "      <td>69501022</td>\n",
       "      <td>060855120533</td>\n",
       "      <td>99620.0</td>\n",
       "      <td>High-moderate</td>\n",
       "      <td>0</td>\n",
       "      <td>453788.0</td>\n",
       "      <td>High-moderate</td>\n",
       "      <td>37.23992865681753, -121.86176072202376</td>\n",
       "    </tr>\n",
       "    <tr>\n",
       "      <th>81</th>\n",
       "      <td>69501022</td>\n",
       "      <td>060855120533</td>\n",
       "      <td>99620.0</td>\n",
       "      <td>High-moderate</td>\n",
       "      <td>0</td>\n",
       "      <td>453788.0</td>\n",
       "      <td>High-moderate</td>\n",
       "      <td>37.23992865681753, -121.86176072202376</td>\n",
       "    </tr>\n",
       "    <tr>\n",
       "      <th>82</th>\n",
       "      <td>70617022</td>\n",
       "      <td>060855120352</td>\n",
       "      <td>120543.0</td>\n",
       "      <td>High-moderate</td>\n",
       "      <td>0</td>\n",
       "      <td>472612.0</td>\n",
       "      <td>High-moderate</td>\n",
       "      <td>37.228957098640954, -121.76325373303983</td>\n",
       "    </tr>\n",
       "  </tbody>\n",
       "</table>\n",
       "</div>"
      ],
      "text/plain": [
       "         APN         GEOID  median_inc       quartile  Permitted  \\\n",
       "73  67849070  060855120393    119348.0  High-moderate          0   \n",
       "74  68432012  060855120432     85156.0   Low-Moderate          0   \n",
       "75  68433070  060855120432     85156.0   Low-Moderate          0   \n",
       "76  68701028  060855120471     99792.0  High-moderate          0   \n",
       "77  68918083  060855120372    110917.0  High-moderate          0   \n",
       "78  68922029  060855120361    102200.0  High-moderate          0   \n",
       "79  69205043  060855120294    131458.0           High          0   \n",
       "80  69501022  060855120533     99620.0  High-moderate          0   \n",
       "81  69501022  060855120533     99620.0  High-moderate          0   \n",
       "82  70617022  060855120352    120543.0  High-moderate          0   \n",
       "\n",
       "    parcel_income parcel_quartile                                   coords  \n",
       "73       545198.0   High-moderate   37.24595641165711, -121.77929527969044  \n",
       "74       158178.0             Low   37.26553910022802, -121.80972039052048  \n",
       "75       421292.0   High-moderate   37.26634802571772, -121.80744013865008  \n",
       "76       310691.0    Low-Moderate  37.248039869891514, -121.84046360025593  \n",
       "77       348727.0    Low-Moderate   37.24293667218261, -121.82543410673058  \n",
       "78        85909.0             Low    37.23789860076776, -121.8095280779002  \n",
       "79       453110.0   High-moderate    37.24408107003004, -121.8099754074092  \n",
       "80       453788.0   High-moderate   37.23992865681753, -121.86176072202376  \n",
       "81       453788.0   High-moderate   37.23992865681753, -121.86176072202376  \n",
       "82       472612.0   High-moderate  37.228957098640954, -121.76325373303983  "
      ]
     },
     "execution_count": 126,
     "metadata": {},
     "output_type": "execute_result"
    }
   ],
   "source": [
    "low_events.tail(10)"
   ]
  },
  {
   "cell_type": "code",
   "execution_count": 117,
   "id": "adac7011",
   "metadata": {},
   "outputs": [
    {
     "data": {
      "text/html": [
       "<div>\n",
       "<style scoped>\n",
       "    .dataframe tbody tr th:only-of-type {\n",
       "        vertical-align: middle;\n",
       "    }\n",
       "\n",
       "    .dataframe tbody tr th {\n",
       "        vertical-align: top;\n",
       "    }\n",
       "\n",
       "    .dataframe thead th {\n",
       "        text-align: right;\n",
       "    }\n",
       "</style>\n",
       "<table border=\"1\" class=\"dataframe\">\n",
       "  <thead>\n",
       "    <tr style=\"text-align: right;\">\n",
       "      <th></th>\n",
       "      <th>APN</th>\n",
       "      <th>GEOID</th>\n",
       "      <th>median_inc</th>\n",
       "      <th>quartile</th>\n",
       "      <th>Permitted</th>\n",
       "      <th>parcel_income</th>\n",
       "      <th>parcel_quartile</th>\n",
       "      <th>coords</th>\n",
       "    </tr>\n",
       "  </thead>\n",
       "  <tbody>\n",
       "    <tr>\n",
       "      <th>0</th>\n",
       "      <td>26462005</td>\n",
       "      <td>060855023022</td>\n",
       "      <td>92308.0</td>\n",
       "      <td>Low-Moderate</td>\n",
       "      <td>1</td>\n",
       "      <td>899596.0</td>\n",
       "      <td>High</td>\n",
       "      <td>37.31035389146982, -121.91122654787188</td>\n",
       "    </tr>\n",
       "    <tr>\n",
       "      <th>1</th>\n",
       "      <td>26462005</td>\n",
       "      <td>060855023022</td>\n",
       "      <td>92308.0</td>\n",
       "      <td>Low-Moderate</td>\n",
       "      <td>0</td>\n",
       "      <td>899596.0</td>\n",
       "      <td>High</td>\n",
       "      <td>37.31035389146982, -121.91122654787188</td>\n",
       "    </tr>\n",
       "    <tr>\n",
       "      <th>2</th>\n",
       "      <td>44626011</td>\n",
       "      <td>060855025006</td>\n",
       "      <td>158819.0</td>\n",
       "      <td>High</td>\n",
       "      <td>1</td>\n",
       "      <td>1154619.0</td>\n",
       "      <td>High</td>\n",
       "      <td>37.29015939405202, -121.90321756158087</td>\n",
       "    </tr>\n",
       "    <tr>\n",
       "      <th>3</th>\n",
       "      <td>49724012</td>\n",
       "      <td>060855032045</td>\n",
       "      <td>57750.0</td>\n",
       "      <td>Low</td>\n",
       "      <td>1</td>\n",
       "      <td>754000.0</td>\n",
       "      <td>High</td>\n",
       "      <td>37.29246305776481, -121.84196957732348</td>\n",
       "    </tr>\n",
       "    <tr>\n",
       "      <th>4</th>\n",
       "      <td>70101032</td>\n",
       "      <td>060855119072</td>\n",
       "      <td>157652.0</td>\n",
       "      <td>High</td>\n",
       "      <td>1</td>\n",
       "      <td>1000000.0</td>\n",
       "      <td>High</td>\n",
       "      <td>37.221001411259344, -121.8605999704485</td>\n",
       "    </tr>\n",
       "    <tr>\n",
       "      <th>5</th>\n",
       "      <td>24953062</td>\n",
       "      <td>060855011022</td>\n",
       "      <td>51944.0</td>\n",
       "      <td>Low</td>\n",
       "      <td>0</td>\n",
       "      <td>659912.0</td>\n",
       "      <td>High</td>\n",
       "      <td>37.34955991475111, -121.88410140161066</td>\n",
       "    </tr>\n",
       "    <tr>\n",
       "      <th>6</th>\n",
       "      <td>30334023</td>\n",
       "      <td>060855063014</td>\n",
       "      <td>125481.0</td>\n",
       "      <td>High</td>\n",
       "      <td>0</td>\n",
       "      <td>830126.0</td>\n",
       "      <td>High</td>\n",
       "      <td>37.321169723140684, -121.95711238898645</td>\n",
       "    </tr>\n",
       "    <tr>\n",
       "      <th>7</th>\n",
       "      <td>37317034</td>\n",
       "      <td>060855079064</td>\n",
       "      <td>198750.0</td>\n",
       "      <td>High</td>\n",
       "      <td>0</td>\n",
       "      <td>690864.0</td>\n",
       "      <td>High</td>\n",
       "      <td>37.299607919245744, -122.02291959256912</td>\n",
       "    </tr>\n",
       "    <tr>\n",
       "      <th>8</th>\n",
       "      <td>43428123</td>\n",
       "      <td>060855024005</td>\n",
       "      <td>113819.0</td>\n",
       "      <td>High-moderate</td>\n",
       "      <td>0</td>\n",
       "      <td>949750.0</td>\n",
       "      <td>High</td>\n",
       "      <td>37.306610959574314, -121.88422716258431</td>\n",
       "    </tr>\n",
       "    <tr>\n",
       "      <th>9</th>\n",
       "      <td>43909051</td>\n",
       "      <td>060855025004</td>\n",
       "      <td>151550.0</td>\n",
       "      <td>High</td>\n",
       "      <td>0</td>\n",
       "      <td>1015294.0</td>\n",
       "      <td>High</td>\n",
       "      <td>37.29438517935357, -121.89154290221097</td>\n",
       "    </tr>\n",
       "    <tr>\n",
       "      <th>10</th>\n",
       "      <td>44228010</td>\n",
       "      <td>060855029022</td>\n",
       "      <td>134643.0</td>\n",
       "      <td>High</td>\n",
       "      <td>0</td>\n",
       "      <td>1025401.0</td>\n",
       "      <td>High</td>\n",
       "      <td>37.27527922383281, -121.9149791634921</td>\n",
       "    </tr>\n",
       "    <tr>\n",
       "      <th>11</th>\n",
       "      <td>44732030</td>\n",
       "      <td>060855029082</td>\n",
       "      <td>146473.0</td>\n",
       "      <td>High</td>\n",
       "      <td>0</td>\n",
       "      <td>854480.0</td>\n",
       "      <td>High</td>\n",
       "      <td>37.256981860464506, -121.90853338415953</td>\n",
       "    </tr>\n",
       "    <tr>\n",
       "      <th>12</th>\n",
       "      <td>46432056</td>\n",
       "      <td>060855120251</td>\n",
       "      <td>105417.0</td>\n",
       "      <td>High-moderate</td>\n",
       "      <td>0</td>\n",
       "      <td>944500.0</td>\n",
       "      <td>High</td>\n",
       "      <td>37.26505088913727, -121.8513373435284</td>\n",
       "    </tr>\n",
       "    <tr>\n",
       "      <th>13</th>\n",
       "      <td>46740005</td>\n",
       "      <td>060855013002</td>\n",
       "      <td>133393.0</td>\n",
       "      <td>High</td>\n",
       "      <td>0</td>\n",
       "      <td>1060736.0</td>\n",
       "      <td>High</td>\n",
       "      <td>37.3387002511508, -121.87393634595412</td>\n",
       "    </tr>\n",
       "    <tr>\n",
       "      <th>14</th>\n",
       "      <td>49902047</td>\n",
       "      <td>060855032123</td>\n",
       "      <td>117750.0</td>\n",
       "      <td>High-moderate</td>\n",
       "      <td>0</td>\n",
       "      <td>709000.0</td>\n",
       "      <td>High</td>\n",
       "      <td>37.30256891789757, -121.82228920239872</td>\n",
       "    </tr>\n",
       "    <tr>\n",
       "      <th>15</th>\n",
       "      <td>49902047</td>\n",
       "      <td>060855032123</td>\n",
       "      <td>117750.0</td>\n",
       "      <td>High-moderate</td>\n",
       "      <td>0</td>\n",
       "      <td>709000.0</td>\n",
       "      <td>High</td>\n",
       "      <td>37.30256891789757, -121.82228920239872</td>\n",
       "    </tr>\n",
       "    <tr>\n",
       "      <th>16</th>\n",
       "      <td>56938060</td>\n",
       "      <td>060855029091</td>\n",
       "      <td>102727.0</td>\n",
       "      <td>High-moderate</td>\n",
       "      <td>0</td>\n",
       "      <td>769770.0</td>\n",
       "      <td>High</td>\n",
       "      <td>37.25645937953089, -121.89485085820543</td>\n",
       "    </tr>\n",
       "    <tr>\n",
       "      <th>17</th>\n",
       "      <td>67622042</td>\n",
       "      <td>060855033272</td>\n",
       "      <td>85417.0</td>\n",
       "      <td>Low-Moderate</td>\n",
       "      <td>0</td>\n",
       "      <td>649760.0</td>\n",
       "      <td>High</td>\n",
       "      <td>37.30914238935854, -121.79024194950307</td>\n",
       "    </tr>\n",
       "    <tr>\n",
       "      <th>18</th>\n",
       "      <td>67832020</td>\n",
       "      <td>060855120013</td>\n",
       "      <td>113162.0</td>\n",
       "      <td>High-moderate</td>\n",
       "      <td>0</td>\n",
       "      <td>693864.0</td>\n",
       "      <td>High</td>\n",
       "      <td>37.260252440732344, -121.79845927010855</td>\n",
       "    </tr>\n",
       "    <tr>\n",
       "      <th>19</th>\n",
       "      <td>68452040</td>\n",
       "      <td>060855120421</td>\n",
       "      <td>94688.0</td>\n",
       "      <td>Low-Moderate</td>\n",
       "      <td>0</td>\n",
       "      <td>696323.0</td>\n",
       "      <td>High</td>\n",
       "      <td>37.26822228979631, -121.81832148755606</td>\n",
       "    </tr>\n",
       "    <tr>\n",
       "      <th>20</th>\n",
       "      <td>69210133</td>\n",
       "      <td>060855120292</td>\n",
       "      <td>117071.0</td>\n",
       "      <td>High-moderate</td>\n",
       "      <td>0</td>\n",
       "      <td>653162.0</td>\n",
       "      <td>High</td>\n",
       "      <td>37.24967229372334, -121.81399497777568</td>\n",
       "    </tr>\n",
       "  </tbody>\n",
       "</table>\n",
       "</div>"
      ],
      "text/plain": [
       "         APN         GEOID  median_inc       quartile  Permitted  \\\n",
       "0   26462005  060855023022     92308.0   Low-Moderate          1   \n",
       "1   26462005  060855023022     92308.0   Low-Moderate          0   \n",
       "2   44626011  060855025006    158819.0           High          1   \n",
       "3   49724012  060855032045     57750.0            Low          1   \n",
       "4   70101032  060855119072    157652.0           High          1   \n",
       "5   24953062  060855011022     51944.0            Low          0   \n",
       "6   30334023  060855063014    125481.0           High          0   \n",
       "7   37317034  060855079064    198750.0           High          0   \n",
       "8   43428123  060855024005    113819.0  High-moderate          0   \n",
       "9   43909051  060855025004    151550.0           High          0   \n",
       "10  44228010  060855029022    134643.0           High          0   \n",
       "11  44732030  060855029082    146473.0           High          0   \n",
       "12  46432056  060855120251    105417.0  High-moderate          0   \n",
       "13  46740005  060855013002    133393.0           High          0   \n",
       "14  49902047  060855032123    117750.0  High-moderate          0   \n",
       "15  49902047  060855032123    117750.0  High-moderate          0   \n",
       "16  56938060  060855029091    102727.0  High-moderate          0   \n",
       "17  67622042  060855033272     85417.0   Low-Moderate          0   \n",
       "18  67832020  060855120013    113162.0  High-moderate          0   \n",
       "19  68452040  060855120421     94688.0   Low-Moderate          0   \n",
       "20  69210133  060855120292    117071.0  High-moderate          0   \n",
       "\n",
       "    parcel_income parcel_quartile                                   coords  \n",
       "0        899596.0            High   37.31035389146982, -121.91122654787188  \n",
       "1        899596.0            High   37.31035389146982, -121.91122654787188  \n",
       "2       1154619.0            High   37.29015939405202, -121.90321756158087  \n",
       "3        754000.0            High   37.29246305776481, -121.84196957732348  \n",
       "4       1000000.0            High   37.221001411259344, -121.8605999704485  \n",
       "5        659912.0            High   37.34955991475111, -121.88410140161066  \n",
       "6        830126.0            High  37.321169723140684, -121.95711238898645  \n",
       "7        690864.0            High  37.299607919245744, -122.02291959256912  \n",
       "8        949750.0            High  37.306610959574314, -121.88422716258431  \n",
       "9       1015294.0            High   37.29438517935357, -121.89154290221097  \n",
       "10      1025401.0            High    37.27527922383281, -121.9149791634921  \n",
       "11       854480.0            High  37.256981860464506, -121.90853338415953  \n",
       "12       944500.0            High    37.26505088913727, -121.8513373435284  \n",
       "13      1060736.0            High    37.3387002511508, -121.87393634595412  \n",
       "14       709000.0            High   37.30256891789757, -121.82228920239872  \n",
       "15       709000.0            High   37.30256891789757, -121.82228920239872  \n",
       "16       769770.0            High   37.25645937953089, -121.89485085820543  \n",
       "17       649760.0            High   37.30914238935854, -121.79024194950307  \n",
       "18       693864.0            High  37.260252440732344, -121.79845927010855  \n",
       "19       696323.0            High   37.26822228979631, -121.81832148755606  \n",
       "20       653162.0            High   37.24967229372334, -121.81399497777568  "
      ]
     },
     "execution_count": 117,
     "metadata": {},
     "output_type": "execute_result"
    }
   ],
   "source": [
    "high_events"
   ]
  },
  {
   "cell_type": "markdown",
   "id": "49819425",
   "metadata": {},
   "source": [
    "## Comparison of parcels"
   ]
  },
  {
   "cell_type": "code",
   "execution_count": 75,
   "id": "482373f7",
   "metadata": {},
   "outputs": [],
   "source": [
    "# We drop duplicate parcels as they have the same quartile anyway\n",
    "visual_parcels = parcel_inc_dict['historic'].copy()\n",
    "visual_parcels.drop_duplicates(subset=['APN'], inplace=True)\n",
    "\n",
    "neighborhood_names = {'Low': 'Low', 'Low-Moderate': 'Low', 'High-moderate': 'Low', 'High': 'High'}\n",
    "\n",
    "visual_parcels['neighborhood_parcel'] = visual_parcels['parcel_quartile'].apply(\n",
    "    lambda quart: neighborhood_names[quart])\n",
    "\n",
    "visual_parcels['neighborhood_CBG'] = visual_parcels['quartile'].apply(\n",
    "    lambda quart: neighborhood_names[quart])\n",
    "\n",
    "#visual_parcels = visual_parcels[['APN', 'parcel_quartile']]\n",
    "#visual_parcels.rename(columns={'parcel_quartile': 'parcel_quartile_historic'}, inplace=True)\n",
    "\n",
    "#visual_parcels_latest = parcel_inc_dict['latest'][['APN', 'parcel_quartile']].copy()\n",
    "#visual_parcels_latest.drop_duplicates(subset=['APN'], inplace=True)\n",
    "\n",
    "\n",
    "#visual_parcels = pd.merge(\n",
    "#    visual_parcels, visual_parcels_latest, validate='one_to_one')\n",
    "#visual_parcels.rename(columns={'parcel_quartile': 'parcel_quartile_latest'}, inplace=True)"
   ]
  },
  {
   "cell_type": "code",
   "execution_count": 78,
   "id": "e1b5d52b",
   "metadata": {},
   "outputs": [],
   "source": [
    "x = visual_parcels.loc[visual_parcels['neighborhood_parcel'] != visual_parcels['neighborhood_CBG']]"
   ]
  },
  {
   "cell_type": "code",
   "execution_count": 81,
   "id": "383b4f57",
   "metadata": {},
   "outputs": [
    {
     "data": {
      "text/html": [
       "<div>\n",
       "<style scoped>\n",
       "    .dataframe tbody tr th:only-of-type {\n",
       "        vertical-align: middle;\n",
       "    }\n",
       "\n",
       "    .dataframe tbody tr th {\n",
       "        vertical-align: top;\n",
       "    }\n",
       "\n",
       "    .dataframe thead th {\n",
       "        text-align: right;\n",
       "    }\n",
       "</style>\n",
       "<table border=\"1\" class=\"dataframe\">\n",
       "  <thead>\n",
       "    <tr style=\"text-align: right;\">\n",
       "      <th></th>\n",
       "      <th>APN</th>\n",
       "      <th>neighborhood_parcel</th>\n",
       "      <th>neighborhood_CBG</th>\n",
       "    </tr>\n",
       "  </thead>\n",
       "  <tbody>\n",
       "    <tr>\n",
       "      <th>1</th>\n",
       "      <td>26462005</td>\n",
       "      <td>High</td>\n",
       "      <td>Low</td>\n",
       "    </tr>\n",
       "    <tr>\n",
       "      <th>2</th>\n",
       "      <td>30341002</td>\n",
       "      <td>Low</td>\n",
       "      <td>High</td>\n",
       "    </tr>\n",
       "    <tr>\n",
       "      <th>5</th>\n",
       "      <td>49724012</td>\n",
       "      <td>High</td>\n",
       "      <td>Low</td>\n",
       "    </tr>\n",
       "    <tr>\n",
       "      <th>6</th>\n",
       "      <td>69226014</td>\n",
       "      <td>Low</td>\n",
       "      <td>High</td>\n",
       "    </tr>\n",
       "    <tr>\n",
       "      <th>8</th>\n",
       "      <td>01511081</td>\n",
       "      <td>NaN</td>\n",
       "      <td>Low</td>\n",
       "    </tr>\n",
       "    <tr>\n",
       "      <th>16</th>\n",
       "      <td>24953062</td>\n",
       "      <td>High</td>\n",
       "      <td>Low</td>\n",
       "    </tr>\n",
       "    <tr>\n",
       "      <th>19</th>\n",
       "      <td>26123040</td>\n",
       "      <td>Low</td>\n",
       "      <td>High</td>\n",
       "    </tr>\n",
       "    <tr>\n",
       "      <th>22</th>\n",
       "      <td>27409002</td>\n",
       "      <td>Low</td>\n",
       "      <td>High</td>\n",
       "    </tr>\n",
       "    <tr>\n",
       "      <th>23</th>\n",
       "      <td>27453041</td>\n",
       "      <td>Low</td>\n",
       "      <td>High</td>\n",
       "    </tr>\n",
       "    <tr>\n",
       "      <th>31</th>\n",
       "      <td>42914030</td>\n",
       "      <td>Low</td>\n",
       "      <td>High</td>\n",
       "    </tr>\n",
       "    <tr>\n",
       "      <th>35</th>\n",
       "      <td>43428123</td>\n",
       "      <td>High</td>\n",
       "      <td>Low</td>\n",
       "    </tr>\n",
       "    <tr>\n",
       "      <th>37</th>\n",
       "      <td>43933037</td>\n",
       "      <td>Low</td>\n",
       "      <td>High</td>\n",
       "    </tr>\n",
       "    <tr>\n",
       "      <th>40</th>\n",
       "      <td>45120021</td>\n",
       "      <td>Low</td>\n",
       "      <td>High</td>\n",
       "    </tr>\n",
       "    <tr>\n",
       "      <th>43</th>\n",
       "      <td>46432056</td>\n",
       "      <td>High</td>\n",
       "      <td>Low</td>\n",
       "    </tr>\n",
       "    <tr>\n",
       "      <th>68</th>\n",
       "      <td>49902047</td>\n",
       "      <td>High</td>\n",
       "      <td>Low</td>\n",
       "    </tr>\n",
       "    <tr>\n",
       "      <th>74</th>\n",
       "      <td>56938060</td>\n",
       "      <td>High</td>\n",
       "      <td>Low</td>\n",
       "    </tr>\n",
       "    <tr>\n",
       "      <th>80</th>\n",
       "      <td>65219015</td>\n",
       "      <td>Low</td>\n",
       "      <td>High</td>\n",
       "    </tr>\n",
       "    <tr>\n",
       "      <th>88</th>\n",
       "      <td>67622042</td>\n",
       "      <td>High</td>\n",
       "      <td>Low</td>\n",
       "    </tr>\n",
       "    <tr>\n",
       "      <th>89</th>\n",
       "      <td>67646016</td>\n",
       "      <td>Low</td>\n",
       "      <td>High</td>\n",
       "    </tr>\n",
       "    <tr>\n",
       "      <th>90</th>\n",
       "      <td>67646033</td>\n",
       "      <td>Low</td>\n",
       "      <td>High</td>\n",
       "    </tr>\n",
       "    <tr>\n",
       "      <th>91</th>\n",
       "      <td>67832020</td>\n",
       "      <td>High</td>\n",
       "      <td>Low</td>\n",
       "    </tr>\n",
       "    <tr>\n",
       "      <th>95</th>\n",
       "      <td>68452040</td>\n",
       "      <td>High</td>\n",
       "      <td>Low</td>\n",
       "    </tr>\n",
       "    <tr>\n",
       "      <th>99</th>\n",
       "      <td>69205043</td>\n",
       "      <td>Low</td>\n",
       "      <td>High</td>\n",
       "    </tr>\n",
       "    <tr>\n",
       "      <th>100</th>\n",
       "      <td>69210133</td>\n",
       "      <td>High</td>\n",
       "      <td>Low</td>\n",
       "    </tr>\n",
       "  </tbody>\n",
       "</table>\n",
       "</div>"
      ],
      "text/plain": [
       "          APN neighborhood_parcel neighborhood_CBG\n",
       "1    26462005                High              Low\n",
       "2    30341002                 Low             High\n",
       "5    49724012                High              Low\n",
       "6    69226014                 Low             High\n",
       "8    01511081                 NaN              Low\n",
       "16   24953062                High              Low\n",
       "19   26123040                 Low             High\n",
       "22   27409002                 Low             High\n",
       "23   27453041                 Low             High\n",
       "31   42914030                 Low             High\n",
       "35   43428123                High              Low\n",
       "37   43933037                 Low             High\n",
       "40   45120021                 Low             High\n",
       "43   46432056                High              Low\n",
       "68   49902047                High              Low\n",
       "74   56938060                High              Low\n",
       "80   65219015                 Low             High\n",
       "88   67622042                High              Low\n",
       "89   67646016                 Low             High\n",
       "90   67646033                 Low             High\n",
       "91   67832020                High              Low\n",
       "95   68452040                High              Low\n",
       "99   69205043                 Low             High\n",
       "100  69210133                High              Low"
      ]
     },
     "execution_count": 81,
     "metadata": {},
     "output_type": "execute_result"
    }
   ],
   "source": [
    "x[['APN', 'neighborhood_parcel', 'neighborhood_CBG']]"
   ]
  },
  {
   "cell_type": "markdown",
   "id": "822349d3",
   "metadata": {},
   "source": [
    "## Assessor data"
   ]
  },
  {
   "cell_type": "code",
   "execution_count": 7,
   "id": "0f7cc26e",
   "metadata": {},
   "outputs": [],
   "source": [
    "assessor_historical = assessor_historical.loc[assessor_historical['SITUS CITY'] == 'SAN JOSE']\n",
    "assessor_historical['APN'] = assessor_historical['APN (PARCEL NUMBER UNFORMATTED)'].apply(\n",
    "    lambda apn: apn)\n",
    "# * Filter to residential parcels\n",
    "assessor_historical = assessor_historical.loc[assessor_historical[\n",
    "    'APN'].isin(sj_parcels_cbgs['APN'].unique())]"
   ]
  },
  {
   "cell_type": "code",
   "execution_count": 8,
   "id": "e790681e",
   "metadata": {},
   "outputs": [],
   "source": [
    "assessor_historical_14 = assessor_historical_14.loc[assessor_historical_14['SITUS CITY'] == 'SAN JOSE']\n",
    "assessor_historical_14['APN'] = assessor_historical_14['APN (PARCEL NUMBER UNFORMATTED)'].apply(\n",
    "    lambda apn: apn)\n",
    "# * Filter to residential parcels\n",
    "assessor_historical_14 = assessor_historical_14.loc[assessor_historical_14[\n",
    "    'APN'].isin(sj_parcels_cbgs['APN'].unique())]"
   ]
  },
  {
   "cell_type": "code",
   "execution_count": 11,
   "id": "afa44e21",
   "metadata": {},
   "outputs": [],
   "source": [
    "# Merge to compute value change rate\n",
    "assessor_historical_merged = assessor_historical[\n",
    "    ['APN', 'TOTAL VALUE CALCULATED']].merge(\n",
    "    assessor_historical_14[['APN', 'TOTAL VALUE CALCULATED']], on='APN', validate='one_to_one')"
   ]
  },
  {
   "cell_type": "code",
   "execution_count": 17,
   "id": "51c5cba9",
   "metadata": {},
   "outputs": [],
   "source": [
    "assessor_historical_merged['perc_change'] = (assessor_historical_merged['TOTAL VALUE CALCULATED_x'] / assessor_historical_merged['TOTAL VALUE CALCULATED_y'] - 1)* 100\n",
    "\n"
   ]
  },
  {
   "cell_type": "code",
   "execution_count": 35,
   "id": "a6516591",
   "metadata": {},
   "outputs": [
    {
     "data": {
      "text/plain": [
       "0.8409444401948035"
      ]
     },
     "execution_count": 35,
     "metadata": {},
     "output_type": "execute_result"
    }
   ],
   "source": [
    "((assessor_historical_merged['perc_change'] <= 3.6) & (assessor_historical_merged['perc_change'] >= 3.5)).mean()"
   ]
  },
  {
   "cell_type": "code",
   "execution_count": 19,
   "id": "a19005d7",
   "metadata": {},
   "outputs": [
    {
     "data": {
      "text/plain": [
       "count    156286.000000\n",
       "mean         25.142367\n",
       "std         172.361411\n",
       "min         -99.997896\n",
       "25%           3.552408\n",
       "50%           3.552958\n",
       "75%           3.553223\n",
       "max       39582.539683\n",
       "Name: perc_change, dtype: float64"
      ]
     },
     "execution_count": 19,
     "metadata": {},
     "output_type": "execute_result"
    }
   ],
   "source": [
    "assessor_historical_merged['perc_change'].describe()"
   ]
  },
  {
   "cell_type": "code",
   "execution_count": 25,
   "id": "80e360a5",
   "metadata": {},
   "outputs": [
    {
     "data": {
      "text/plain": [
       "5128"
      ]
     },
     "execution_count": 25,
     "metadata": {},
     "output_type": "execute_result"
    }
   ],
   "source": [
    "(assessor_historical_merged['perc_change'] > 100).sum()"
   ]
  },
  {
   "cell_type": "code",
   "execution_count": 31,
   "id": "0e45a188",
   "metadata": {},
   "outputs": [
    {
     "data": {
      "image/png": "[encoded data removed]",
      "text/plain": [
       "<Figure size 640x480 with 1 Axes>"
      ]
     },
     "metadata": {},
     "output_type": "display_data"
    }
   ],
   "source": [
    "ax = assessor_historical_merged.loc[assessor_historical_merged['perc_change'] <= 100]['perc_change'].hist(bins=50)\n",
    "ax.set_xlabel(\"Total Value (% change 2014-2016)\")\n",
    "plt.xlim(0, 100)\n",
    "plt.show()"
   ]
  },
  {
   "cell_type": "code",
   "execution_count": null,
   "id": "3efbccd1",
   "metadata": {},
   "outputs": [],
   "source": []
  },
  {
   "cell_type": "code",
   "execution_count": 48,
   "id": "a5bd51b8",
   "metadata": {},
   "outputs": [
    {
     "data": {
      "text/plain": [
       "SITUS HOUSE NUMBER                  2040\n",
       "SITUS HOUSE NUMBER SUFFIX            NaN\n",
       "SITUS HOUSE NUMBER #2                NaN\n",
       "SITUS DIRECTION                        N\n",
       "SITUS STREET NAME                CAPITOL\n",
       "SITUS MODE                           AVE\n",
       "SITUS QUADRANT                       NaN\n",
       "SITUS UNIT NUMBER                      1\n",
       "SITUS CITY                      SAN JOSE\n",
       "SITUS STATE                           CA\n",
       "SITUS ZIP CODE               951321012.0\n",
       "Name: 23726, dtype: object"
      ]
     },
     "execution_count": 48,
     "metadata": {},
     "output_type": "execute_result"
    }
   ],
   "source": [
    "assessor_historical_14.iloc[10][31:42]"
   ]
  },
  {
   "cell_type": "code",
   "execution_count": 49,
   "id": "380f9dc1",
   "metadata": {},
   "outputs": [
    {
     "data": {
      "text/plain": [
       "TOTAL VALUE CALCULATED              773391.0\n",
       "LAND VALUE CALCULATED               491208.0\n",
       "IMPROVEMENT VALUE CALCULATED        282183.0\n",
       "TOTAL VALUE CALCULATED IND                 A\n",
       "LAND VALUE CALCULATED IND                  A\n",
       "IMPROVEMENT VALUE CALCULATED IND           A\n",
       "ASSD TOTAL VALUE                    773391.0\n",
       "ASSD LAND VALUE                     491208.0\n",
       "ASSD IMPROVEMENT VALUE              282183.0\n",
       "MKT TOTAL VALUE                          NaN\n",
       "MKT LAND VALUE                           NaN\n",
       "MKT IMPROVEMENT VALUE                    NaN\n",
       "APPR TOTAL VALUE                         NaN\n",
       "APPR LAND VALUE                          NaN\n",
       "APPR IMPROVEMENT VALUE                   NaN\n",
       "TAX AMOUNT                          10917.22\n",
       "TAX YEAR                              2014.0\n",
       "ASSESSED YEAR                         2014.0\n",
       "TAX CODE AREA                        17010.0\n",
       "FRONT FOOTAGE                           60.0\n",
       "DEPTH FOOTAGE                          104.0\n",
       "ACRES                                  0.142\n",
       "LAND SQUARE FOOTAGE                   6188.0\n",
       "UNIVERSAL BUILDING SQUARE FEET        3886.0\n",
       "BUILDING SQUARE FEET IND                   L\n",
       "BUILDING  SQUARE FEET                 3886.0\n",
       "LIVING SQUARE FEET                    3886.0\n",
       "GROUND FLOOR SQUARE FEET                 NaN\n",
       "GROSS SQUARE FEET                        NaN\n",
       "ADJUSTED GROSS SQUARE FEET               NaN\n",
       "BASEMENT SQUARE FEET                     NaN\n",
       "GARAGE/PARKING SQUARE FEET               NaN\n",
       "YEAR BUILT                            1964.0\n",
       "EFFECTIVE YEAR BUILT                  1964.0\n",
       "BEDROOMS                                 NaN\n",
       "TOTAL ROOMS                              NaN\n",
       "TOTAL BATHS CALCULATED                   NaN\n",
       "TOTAL BATHS                              NaN\n",
       "FULL BATHS                               NaN\n",
       "HALF BATHS                               NaN\n",
       "1QTR BATHS                               NaN\n",
       "3QTR BATHS                               NaN\n",
       "BATH FIXTURES                            NaN\n",
       "AIR CONDITIONING                         000\n",
       "BASEMENT FINISH                          NaN\n",
       "BASEMENT TYPE CODE                       NaN\n",
       "BLDG CODE                                NaN\n",
       "BLDG IMPV CODE                           NaN\n",
       "CONDITION                                AVE\n",
       "CONSTRUCTION TYPE                        WOO\n",
       "EXTERIOR WALLS                           NaN\n",
       "FIREPLACE IND                              Y\n",
       "FIREPLACE NUMBER                         NaN\n",
       "FIREPLACE TYPE                           000\n",
       "Name: 23726, dtype: object"
      ]
     },
     "execution_count": 49,
     "metadata": {},
     "output_type": "execute_result"
    }
   ],
   "source": [
    "assessor_historical_14.iloc[10][66:120]"
   ]
  },
  {
   "cell_type": "code",
   "execution_count": 43,
   "id": "8c57da80",
   "metadata": {},
   "outputs": [
    {
     "data": {
      "text/plain": [
       "SITUS HOUSE NUMBER                  2048\n",
       "SITUS HOUSE NUMBER SUFFIX            NaN\n",
       "SITUS HOUSE NUMBER #2                NaN\n",
       "SITUS DIRECTION                        N\n",
       "SITUS STREET NAME                CAPITOL\n",
       "SITUS MODE                           AVE\n",
       "SITUS QUADRANT                       NaN\n",
       "SITUS UNIT NUMBER                      1\n",
       "SITUS CITY                      SAN JOSE\n",
       "SITUS STATE                           CA\n",
       "SITUS ZIP CODE               951321014.0\n",
       "Name: 24376, dtype: object"
      ]
     },
     "execution_count": 43,
     "metadata": {},
     "output_type": "execute_result"
    }
   ],
   "source": [
    "assessor_historical.iloc[10][31:42]"
   ]
  },
  {
   "cell_type": "code",
   "execution_count": 38,
   "id": "6c050242",
   "metadata": {},
   "outputs": [
    {
     "data": {
      "text/plain": [
       "TOTAL VALUE CALCULATED              538472.0\n",
       "LAND VALUE CALCULATED               210099.0\n",
       "IMPROVEMENT VALUE CALCULATED        328373.0\n",
       "TOTAL VALUE CALCULATED IND                 A\n",
       "LAND VALUE CALCULATED IND                  A\n",
       "IMPROVEMENT VALUE CALCULATED IND           A\n",
       "ASSD TOTAL VALUE                    538472.0\n",
       "ASSD LAND VALUE                     210099.0\n",
       "ASSD IMPROVEMENT VALUE              328373.0\n",
       "MKT TOTAL VALUE                          NaN\n",
       "MKT LAND VALUE                           NaN\n",
       "MKT IMPROVEMENT VALUE                    NaN\n",
       "APPR TOTAL VALUE                         NaN\n",
       "APPR LAND VALUE                          NaN\n",
       "APPR IMPROVEMENT VALUE                   NaN\n",
       "TAX AMOUNT                           8369.26\n",
       "TAX YEAR                              2016.0\n",
       "ASSESSED YEAR                         2016.0\n",
       "TAX CODE AREA                          17010\n",
       "FRONT FOOTAGE                           70.0\n",
       "DEPTH FOOTAGE                          104.0\n",
       "ACRES                                 0.1671\n",
       "LAND SQUARE FOOTAGE                   7280.0\n",
       "UNIVERSAL BUILDING SQUARE FEET        3886.0\n",
       "BUILDING SQUARE FEET IND                   L\n",
       "BUILDING  SQUARE FEET                 3886.0\n",
       "LIVING SQUARE FEET                    3886.0\n",
       "GROUND FLOOR SQUARE FEET                 NaN\n",
       "GROSS SQUARE FEET                        NaN\n",
       "ADJUSTED GROSS SQUARE FEET               NaN\n",
       "BASEMENT SQUARE FEET                     NaN\n",
       "GARAGE/PARKING SQUARE FEET               NaN\n",
       "YEAR BUILT                            1964.0\n",
       "EFFECTIVE YEAR BUILT                  1964.0\n",
       "BEDROOMS                                 NaN\n",
       "TOTAL ROOMS                              NaN\n",
       "TOTAL BATHS CALCULATED                   NaN\n",
       "TOTAL BATHS                              NaN\n",
       "FULL BATHS                               NaN\n",
       "HALF BATHS                               NaN\n",
       "1QTR BATHS                               NaN\n",
       "3QTR BATHS                               NaN\n",
       "BATH FIXTURES                            NaN\n",
       "AIR CONDITIONING                         000\n",
       "BASEMENT FINISH                          NaN\n",
       "BASEMENT TYPE CODE                       NaN\n",
       "BLDG CODE                                NaN\n",
       "BLDG IMPV CODE                           NaN\n",
       "CONDITION                                AVE\n",
       "CONSTRUCTION TYPE                        WOO\n",
       "EXTERIOR WALLS                           NaN\n",
       "FIREPLACE IND                              Y\n",
       "FIREPLACE NUMBER                         NaN\n",
       "FIREPLACE TYPE                           000\n",
       "Name: 24376, dtype: object"
      ]
     },
     "execution_count": 38,
     "metadata": {},
     "output_type": "execute_result"
    }
   ],
   "source": [
    "assessor_historical.iloc[10][66:120]"
   ]
  },
  {
   "cell_type": "code",
   "execution_count": 51,
   "id": "c4924776",
   "metadata": {},
   "outputs": [
    {
     "data": {
      "text/plain": [
       "402354.1011731143"
      ]
     },
     "execution_count": 51,
     "metadata": {},
     "output_type": "execute_result"
    }
   ],
   "source": [
    "assessor_historical_14['TOTAL VALUE CALCULATED'].mean()"
   ]
  },
  {
   "cell_type": "code",
   "execution_count": 50,
   "id": "538b9853",
   "metadata": {},
   "outputs": [
    {
     "data": {
      "text/plain": [
       "453301.5021643361"
      ]
     },
     "execution_count": 50,
     "metadata": {},
     "output_type": "execute_result"
    }
   ],
   "source": [
    "assessor_historical['TOTAL VALUE CALCULATED'].mean()"
   ]
  },
  {
   "cell_type": "code",
   "execution_count": 53,
   "id": "44f00049",
   "metadata": {},
   "outputs": [
    {
     "data": {
      "text/plain": [
       "350926.0"
      ]
     },
     "execution_count": 53,
     "metadata": {},
     "output_type": "execute_result"
    }
   ],
   "source": [
    "assessor_historical_14['TOTAL VALUE CALCULATED'].median()"
   ]
  },
  {
   "cell_type": "code",
   "execution_count": 52,
   "id": "1dc94bc2",
   "metadata": {},
   "outputs": [
    {
     "data": {
      "text/plain": [
       "388951.0"
      ]
     },
     "execution_count": 52,
     "metadata": {},
     "output_type": "execute_result"
    }
   ],
   "source": [
    "assessor_historical['TOTAL VALUE CALCULATED'].median()"
   ]
  },
  {
   "cell_type": "code",
   "execution_count": 65,
   "id": "1badddbb",
   "metadata": {},
   "outputs": [
    {
     "data": {
      "text/plain": [
       "0.1266220443095858"
      ]
     },
     "execution_count": 65,
     "metadata": {},
     "output_type": "execute_result"
    }
   ],
   "source": [
    "453301 / 402354.1011731143 - 1"
   ]
  },
  {
   "cell_type": "code",
   "execution_count": 75,
   "id": "041ab866",
   "metadata": {},
   "outputs": [],
   "source": [
    "assessor_parcels_sc = gpd.read_file(os.path.join(INPUT_FP, 'AssessorData', 'assessor_scc_parcels.geojson'))\n"
   ]
  },
  {
   "cell_type": "code",
   "execution_count": 76,
   "id": "b45639bf",
   "metadata": {},
   "outputs": [],
   "source": [
    "assessor_parcels_sc = assessor_parcels_sc.loc[assessor_parcels_sc['FEATURE'] == 'PAR']\n",
    "assessor_parcels_sc['parcel_income'] = assessor_parcels_sc['LAND'] + assessor_parcels_sc['IMPROVEMEN']"
   ]
  },
  {
   "cell_type": "code",
   "execution_count": 77,
   "id": "f495ed1b",
   "metadata": {},
   "outputs": [
    {
     "data": {
      "text/plain": [
       "1130090.5025584698"
      ]
     },
     "execution_count": 77,
     "metadata": {},
     "output_type": "execute_result"
    }
   ],
   "source": [
    "assessor_parcels_sc['parcel_income'].mean()"
   ]
  },
  {
   "cell_type": "code",
   "execution_count": 78,
   "id": "2dbfa63e",
   "metadata": {},
   "outputs": [],
   "source": [
    "assessor_parcels = gpd.read_file(os.path.join(INPUT_FP, 'AssessorData', 'assessor_scc_parcels.geojson'))\n",
    "sj_assessor_parcels = assessor_parcels.loc[assessor_parcels['SITUS_CITY'] == 'SAN JOSE'].copy()\n",
    "del assessor_parcels\n",
    "\n",
    "# Keep only parcel data\n",
    "sj_assessor_parcels = sj_assessor_parcels.loc[sj_assessor_parcels['FEATURE'] == 'PAR']"
   ]
  },
  {
   "cell_type": "code",
   "execution_count": 79,
   "id": "b952d9ed",
   "metadata": {},
   "outputs": [],
   "source": [
    "sj_assessor_parcels['parcel_income'] = sj_assessor_parcels['LAND'] + sj_assessor_parcels['IMPROVEMEN']"
   ]
  },
  {
   "cell_type": "code",
   "execution_count": 69,
   "id": "763b20f0",
   "metadata": {},
   "outputs": [],
   "source": [
    "sj_assessor_parcels = sj_assessor_parcels.loc[sj_assessor_parcels[\n",
    "    'APN'].isin(sj_parcels_cbgs['APN'].unique())]"
   ]
  },
  {
   "cell_type": "code",
   "execution_count": 80,
   "id": "5c90c3e2",
   "metadata": {},
   "outputs": [
    {
     "data": {
      "text/plain": [
       "848259.8041449824"
      ]
     },
     "execution_count": 80,
     "metadata": {},
     "output_type": "execute_result"
    }
   ],
   "source": [
    "# All parcels in SJ (228k)\n",
    "sj_assessor_parcels['parcel_income'].mean()"
   ]
  },
  {
   "cell_type": "code",
   "execution_count": 74,
   "id": "ee564c58",
   "metadata": {},
   "outputs": [
    {
     "data": {
      "text/plain": [
       "573095.4219410081"
      ]
     },
     "execution_count": 74,
     "metadata": {},
     "output_type": "execute_result"
    }
   ],
   "source": [
    "# Our residential parcels\n",
    "sj_assessor_parcels['parcel_income'].mean()"
   ]
  },
  {
   "cell_type": "code",
   "execution_count": 130,
   "id": "aea571fe",
   "metadata": {},
   "outputs": [],
   "source": [
    "# Parcel distribution by CBG income\n",
    "cbg_info = sj_parcels_cbgs.copy()\n",
    "cbg_info = cbg_info.merge(cbg_income_2016_SJ[['GEOID', 'quartile']], validate='many_to_one')"
   ]
  },
  {
   "cell_type": "code",
   "execution_count": 134,
   "id": "ce6a7304",
   "metadata": {},
   "outputs": [],
   "source": [
    "# Add parcel data\n",
    "cbg_info = cbg_info.merge(\n",
    "    assessor_historical[['APN', 'TOTAL VALUE CALCULATED']], how='left', validate='one_to_one')"
   ]
  },
  {
   "cell_type": "code",
   "execution_count": 139,
   "id": "1054e71c",
   "metadata": {},
   "outputs": [
    {
     "data": {
      "text/plain": [
       "quartile\n",
       "Low              325913.0\n",
       "Low-Moderate     337223.0\n",
       "High-moderate    412282.5\n",
       "High             516580.5\n",
       "Name: TOTAL VALUE CALCULATED, dtype: float64"
      ]
     },
     "execution_count": 139,
     "metadata": {},
     "output_type": "execute_result"
    }
   ],
   "source": [
    "cbg_info.groupby('quartile')['TOTAL VALUE CALCULATED'].median()"
   ]
  },
  {
   "cell_type": "markdown",
   "id": "6fffdc32",
   "metadata": {},
   "source": [
    "## Relationship between CBG and parcel-level income proxies"
   ]
  },
  {
   "cell_type": "code",
   "execution_count": 12,
   "id": "fd8db440",
   "metadata": {},
   "outputs": [],
   "source": [
    "income = sj_parcels_cbgs.copy()\n",
    "income = income.merge(cbg_income_2016_SJ[['GEOID', 'median_inc']], validate='many_to_one', how='left')\n",
    "\n",
    "assessor_historical['APN'] = assessor_historical['APN (PARCEL NUMBER UNFORMATTED)'].apply(\n",
    "    lambda apn: apn)"
   ]
  },
  {
   "cell_type": "code",
   "execution_count": 14,
   "id": "7e56b9e7",
   "metadata": {},
   "outputs": [],
   "source": [
    "income = income.merge(\n",
    "    assessor_historical[['APN', 'TOTAL VALUE CALCULATED']], validate='one_to_one', how='left')"
   ]
  },
  {
   "cell_type": "code",
   "execution_count": 21,
   "id": "022207f8",
   "metadata": {},
   "outputs": [],
   "source": [
    "income['CBG quartile'] = pd.qcut(income['median_inc'], q=4, \n",
    "    labels=['{}'.format(i) for i in range(4)])\n",
    "income['Assessor quartile'] = pd.qcut(income['TOTAL VALUE CALCULATED'], q=4, \n",
    "    labels=['{}'.format(i) for i in range(4)])"
   ]
  },
  {
   "cell_type": "code",
   "execution_count": 24,
   "id": "b6b5c27a",
   "metadata": {},
   "outputs": [
    {
     "data": {
      "text/html": [
       "<div>\n",
       "<style scoped>\n",
       "    .dataframe tbody tr th:only-of-type {\n",
       "        vertical-align: middle;\n",
       "    }\n",
       "\n",
       "    .dataframe tbody tr th {\n",
       "        vertical-align: top;\n",
       "    }\n",
       "\n",
       "    .dataframe thead th {\n",
       "        text-align: right;\n",
       "    }\n",
       "</style>\n",
       "<table border=\"1\" class=\"dataframe\">\n",
       "  <thead>\n",
       "    <tr style=\"text-align: right;\">\n",
       "      <th>Assessor quartile</th>\n",
       "      <th>0</th>\n",
       "      <th>1</th>\n",
       "      <th>2</th>\n",
       "      <th>3</th>\n",
       "    </tr>\n",
       "    <tr>\n",
       "      <th>CBG quartile</th>\n",
       "      <th></th>\n",
       "      <th></th>\n",
       "      <th></th>\n",
       "      <th></th>\n",
       "    </tr>\n",
       "  </thead>\n",
       "  <tbody>\n",
       "    <tr>\n",
       "      <th>0</th>\n",
       "      <td>11424</td>\n",
       "      <td>12251</td>\n",
       "      <td>10191</td>\n",
       "      <td>5618</td>\n",
       "    </tr>\n",
       "    <tr>\n",
       "      <th>1</th>\n",
       "      <td>10189</td>\n",
       "      <td>11407</td>\n",
       "      <td>11048</td>\n",
       "      <td>6659</td>\n",
       "    </tr>\n",
       "    <tr>\n",
       "      <th>2</th>\n",
       "      <td>9157</td>\n",
       "      <td>9303</td>\n",
       "      <td>10205</td>\n",
       "      <td>11178</td>\n",
       "    </tr>\n",
       "    <tr>\n",
       "      <th>3</th>\n",
       "      <td>8761</td>\n",
       "      <td>6572</td>\n",
       "      <td>8075</td>\n",
       "      <td>16080</td>\n",
       "    </tr>\n",
       "  </tbody>\n",
       "</table>\n",
       "</div>"
      ],
      "text/plain": [
       "Assessor quartile      0      1      2      3\n",
       "CBG quartile                                 \n",
       "0                  11424  12251  10191   5618\n",
       "1                  10189  11407  11048   6659\n",
       "2                   9157   9303  10205  11178\n",
       "3                   8761   6572   8075  16080"
      ]
     },
     "execution_count": 24,
     "metadata": {},
     "output_type": "execute_result"
    }
   ],
   "source": [
    "pd.crosstab(income['CBG quartile'], income['Assessor quartile'])"
   ]
  },
  {
   "cell_type": "code",
   "execution_count": 20,
   "id": "329d5b9a",
   "metadata": {},
   "outputs": [
    {
     "data": {
      "image/png": "[encoded data removed]",
      "text/plain": [
       "<Figure size 640x480 with 1 Axes>"
      ]
     },
     "metadata": {},
     "output_type": "display_data"
    }
   ],
   "source": [
    "ax = income.plot.scatter(x='median_inc', y='TOTAL VALUE CALCULATED')\n",
    "ax.set_xlabel(\"2016 CBG Median Income\")\n",
    "ax.set_ylabel(\"2016 Total Value Calculated (Assessor)\")\n",
    "plt.show()"
   ]
  },
  {
   "cell_type": "markdown",
   "id": "c35f1eda",
   "metadata": {},
   "source": [
    "## Fitting a logistic regression model"
   ]
  },
  {
   "cell_type": "code",
   "execution_count": 56,
   "id": "f38655f2",
   "metadata": {},
   "outputs": [],
   "source": [
    "new_sbuild_parcel.to_csv(\n",
    "    '/oak/stanford/groups/deho/building_compliance/outputs/Population-Estimates/misc/B1-construction-events/new_sbuild_parcel.csv', index=False)"
   ]
  }
 ],
 "metadata": {
  "kernelspec": {
   "display_name": "Python 3",
   "language": "python",
   "name": "python3"
  },
  "language_info": {
   "codemirror_mode": {
    "name": "ipython",
    "version": 3
   },
   "file_extension": ".py",
   "mimetype": "text/x-python",
   "name": "python",
   "nbconvert_exporter": "python",
   "pygments_lexer": "ipython3",
   "version": "3.8.10"
  }
 },
 "nbformat": 4,
 "nbformat_minor": 5
}
