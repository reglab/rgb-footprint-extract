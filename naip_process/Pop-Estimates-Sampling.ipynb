{
 "cells": [
  {
   "cell_type": "markdown",
   "id": "fda6dcb0",
   "metadata": {},
   "source": [
    "# Population Estimates: Samples submitted to Cloud Factory"
   ]
  },
  {
   "cell_type": "code",
   "execution_count": 11,
   "id": "2babb2b1",
   "metadata": {},
   "outputs": [],
   "source": [
    "from tqdm import tqdm\n",
    "\n",
    "import warnings\n",
    "warnings.simplefilter(action='ignore', category=FutureWarning)\n",
    "warnings.filterwarnings(\"ignore\")\n",
    "\n",
    "tqdm.pandas()"
   ]
  },
  {
   "cell_type": "code",
   "execution_count": 12,
   "id": "fbc8dcc1",
   "metadata": {},
   "outputs": [],
   "source": [
    "# Import functions\n",
    "%run inference-functions.ipynb import load_data, get_bounds, assign_cbgs, visualize_tile_predvOSM, assign_cbgs_by_coverage\n",
    "%run ADU_permit_matching-polygon-pipeline.ipynb import load_sources"
   ]
  },
  {
   "cell_type": "code",
   "execution_count": 13,
   "id": "b6e9e9fb",
   "metadata": {},
   "outputs": [],
   "source": [
    "# Paths\n",
    "OAK_FP = '/oak/stanford/groups/deho/building_compliance/'\n",
    "OUTPUT_FP = os.path.join(OAK_FP, 'outputs', 'Population-Estimates', 'outputs')\n",
    "PERMIT_INPUT_FP = os.path.join(OAK_FP, 'outputs', 'Permit-Matching', 'inputs')\n",
    "\n",
    "BUILD_FP = os.path.join(OAK_FP, 'outputs', 'cbg-inference-{}', 'inference_building_processed')\n",
    "OSM_FP = os.path.join(OAK_FP, 'outputs', 'cbg-inference-2020', 'osm_building_processed')"
   ]
  },
  {
   "cell_type": "code",
   "execution_count": 14,
   "id": "f747c129",
   "metadata": {},
   "outputs": [],
   "source": [
    "# Load data\n",
    "# * Residential parcels (assigned to CBGs)\n",
    "sj_parcels_res = gpd.read_file(os.path.join(OUTPUT_FP, 'sj-parcels-res-cbgs'))\n",
    "assert sj_parcels_res.duplicated('APN').sum() == 0\n",
    "\n",
    "# * Census block groups\n",
    "cbg_income_2016_SJ = gpd.read_file(os.path.join(OUTPUT_FP, 'Strata', 'cbg-income-strata'))\n",
    "\n",
    "# * Permits\n",
    "sj_parcel_permit = pd.read_csv(os.path.join(PERMIT_INPUT_FP, '..', 'outputs', 'parcel_permit_found.csv'))\n",
    "sj_permit_noparcel = pd.read_csv(os.path.join(PERMIT_INPUT_FP, '..', 'outputs', 'parcel_permit_notfound.csv'))\n",
    "sj_parcel_permit['geometry_parcel'] = gpd.GeoSeries.from_wkt(sj_parcel_permit['geometry_parcel'])\n",
    "sj_parcel_permit['geometry_permit'] = gpd.GeoSeries.from_wkt(sj_parcel_permit['geometry_permit'])"
   ]
  },
  {
   "cell_type": "code",
   "execution_count": 15,
   "id": "5280fcf7",
   "metadata": {},
   "outputs": [],
   "source": [
    "# Add income strata information to parcel data\n",
    "sj_parcels_res = pd.merge(\n",
    "    sj_parcels_res, cbg_income_2016_SJ[['GEOID', 'strata_inc']], \n",
    "    how='left', validate='many_to_one')"
   ]
  },
  {
   "cell_type": "markdown",
   "id": "097e1f4a",
   "metadata": {},
   "source": [
    "## 1. CF Round 1: Sample 3% of the parcels in each strata"
   ]
  },
  {
   "cell_type": "code",
   "execution_count": 16,
   "id": "8cef2712",
   "metadata": {},
   "outputs": [
    {
     "name": "stderr",
     "output_type": "stream",
     "text": [
      "100%|██████████| 51/51 [00:03<00:00, 12.91it/s]\n"
     ]
    }
   ],
   "source": [
    "# Sample 3% of parcels\n",
    "percentage_of_samples = 0.03\n",
    "iteration1 = pd.DataFrame()\n",
    "for strata_inc in tqdm(sj_parcels_res['strata_inc'].unique()):\n",
    "    parcels_to_review = sj_parcels_res.loc[sj_parcels_res['strata_inc'] == strata_inc]['APN'].unique()\n",
    "\n",
    "    # Sample parcels\n",
    "    np.random.seed(42)\n",
    "    strata_inc_N = len(parcels_to_review)\n",
    "    parcels_to_review = np.random.choice(\n",
    "        parcels_to_review, size=int(strata_inc_N * percentage_of_samples), replace=False)\n",
    "\n",
    "    for i, parcel_apn in enumerate(parcels_to_review):\n",
    "        parcel_dict = {'APN': [parcel_apn], 'strata_inc': [strata_inc]}\n",
    "        iteration1 = pd.concat([iteration1, pd.DataFrame.from_dict(parcel_dict)])"
   ]
  },
  {
   "cell_type": "code",
   "execution_count": 7,
   "id": "24f62bbd",
   "metadata": {},
   "outputs": [
    {
     "name": "stdout",
     "output_type": "stream",
     "text": [
      "<class 'pandas.core.frame.DataFrame'>\n",
      "Int64Index: 5081 entries, 0 to 0\n",
      "Data columns (total 2 columns):\n",
      " #   Column      Non-Null Count  Dtype \n",
      "---  ------      --------------  ----- \n",
      " 0   APN         5081 non-null   object\n",
      " 1   strata_inc  5081 non-null   object\n",
      "dtypes: object(2)\n",
      "memory usage: 119.1+ KB\n"
     ]
    }
   ],
   "source": [
    "iteration1.info()"
   ]
  },
  {
   "cell_type": "code",
   "execution_count": 10,
   "id": "abde5e18",
   "metadata": {},
   "outputs": [],
   "source": [
    "iteration1.to_csv(\n",
    "    os.path.join(OUTPUT_FP, '..', 'CloudFactory', 'Iteration1', 'sampled_APNs.csv'), index=False)"
   ]
  },
  {
   "cell_type": "code",
   "execution_count": 18,
   "id": "d391874e",
   "metadata": {},
   "outputs": [
    {
     "data": {
      "text/plain": [
       "array(['IS_35', 'IS_45', 'IS_40', 'IS_30', 'IS_17', 'IS_11', 'IS_19',\n",
       "       'IS_22', 'IS_23', 'IS_43', 'IS_18', 'IS_12', 'IS_37', 'IS_1',\n",
       "       'IS_49', 'IS_32', 'IS_29', 'IS_31', 'IS_14', 'IS_39', 'IS_13',\n",
       "       'IS_38', 'IS_36', 'IS_8', 'IS_42', 'IS_9', 'IS_15', 'IS_25',\n",
       "       'IS_21', 'IS_2', 'IS_10', 'IS_6', 'IS_24', 'IS_47', 'IS_4',\n",
       "       'IS_27', 'IS_33', 'IS_16', 'IS_48', 'IS_28', 'IS_46', 'IS_34',\n",
       "       'IS_0', 'IS_20', 'IS_26', 'IS_41', 'IS_3', 'IS_7', 'IS_5', 'IS_44'],\n",
       "      dtype=object)"
      ]
     },
     "execution_count": 18,
     "metadata": {},
     "output_type": "execute_result"
    }
   ],
   "source": [
    "iteration1['strata_inc'].unique()"
   ]
  },
  {
   "cell_type": "code",
   "execution_count": null,
   "id": "b22226d4",
   "metadata": {},
   "outputs": [],
   "source": []
  }
 ],
 "metadata": {
  "kernelspec": {
   "display_name": "Python 3",
   "language": "python",
   "name": "python3"
  },
  "language_info": {
   "codemirror_mode": {
    "name": "ipython",
    "version": 3
   },
   "file_extension": ".py",
   "mimetype": "text/x-python",
   "name": "python",
   "nbconvert_exporter": "python",
   "pygments_lexer": "ipython3",
   "version": "3.8.10"
  }
 },
 "nbformat": 4,
 "nbformat_minor": 5
}
