{
 "cells": [
  {
   "cell_type": "markdown",
   "id": "fda6dcb0",
   "metadata": {},
   "source": [
    "# Population Estimates: Samples submitted to Cloud Factory"
   ]
  },
  {
   "cell_type": "code",
   "execution_count": 1,
   "id": "2babb2b1",
   "metadata": {},
   "outputs": [],
   "source": [
    "from tqdm import tqdm\n",
    "\n",
    "import warnings\n",
    "warnings.simplefilter(action='ignore', category=FutureWarning)\n",
    "warnings.filterwarnings(\"ignore\")\n",
    "\n",
    "tqdm.pandas()"
   ]
  },
  {
   "cell_type": "code",
   "execution_count": 2,
   "id": "fbc8dcc1",
   "metadata": {},
   "outputs": [],
   "source": [
    "# Import functions\n",
    "%run inference-functions.ipynb import load_data, get_bounds, assign_cbgs, visualize_tile_predvOSM, assign_cbgs_by_coverage\n",
    "%run ADU_permit_matching-polygon-pipeline.ipynb import load_sources"
   ]
  },
  {
   "cell_type": "code",
   "execution_count": 3,
   "id": "b6e9e9fb",
   "metadata": {},
   "outputs": [],
   "source": [
    "# Paths\n",
    "OAK_FP = '/oak/stanford/groups/deho/building_compliance/'\n",
    "OUTPUT_FP = os.path.join(OAK_FP, 'outputs', 'Population-Estimates', 'outputs')\n",
    "PERMIT_INPUT_FP = os.path.join(OAK_FP, 'outputs', 'Permit-Matching', 'inputs')\n",
    "\n",
    "BUILD_FP = os.path.join(OAK_FP, 'outputs', 'cbg-inference-{}', 'inference_building_processed')\n",
    "OSM_FP = os.path.join(OAK_FP, 'outputs', 'cbg-inference-2020', 'osm_building_processed')"
   ]
  },
  {
   "cell_type": "code",
   "execution_count": 4,
   "id": "f747c129",
   "metadata": {},
   "outputs": [],
   "source": [
    "# Load data\n",
    "# * Residential parcels (assigned to CBGs)\n",
    "sj_parcels_res = gpd.read_file(os.path.join(OUTPUT_FP, 'sj-parcels-res-cbgs'))\n",
    "assert sj_parcels_res.duplicated('APN').sum() == 0\n",
    "\n",
    "# * Census block groups\n",
    "cbg_income_2016_SJ = gpd.read_file(os.path.join(OUTPUT_FP, 'Strata', 'cbg-income-strata'))\n",
    "\n",
    "# * Permits\n",
    "permits = pd.read_csv(os.path.join(OAK_FP, 'outputs/Permit-Matching/outputs/all_permits.csv'))\n",
    "permits['geometry_permit'] = gpd.GeoSeries.from_wkt(permits['geometry_permit'])\n",
    "permits_2015_20 = permits.loc[\n",
    "    permits['issue_year'].isin([2015, 2016, 2017, 2018, 2019, 2020])].copy()\n",
    "\n",
    "# * Parcel confidences for all parcels (based on new confidence metric)\n",
    "parcel_conf_df = pd.read_csv(\n",
    "    os.path.join(OUTPUT_FP, 'Confidences_construction', 'parcel-confidence.csv'), \n",
    "    dtype={'APN': str, 'GEOID': str})\n",
    "\n",
    "# * Batch 1 Area coverage\n",
    "CF_area_coverage = gpd.read_file(\n",
    "    os.path.join(OUTPUT_FP, 'Outcomes', 'B1-100', 'CF_area_coverage'))\n",
    "\n",
    "# * Batch 1 Estimates (small building constructions)\n",
    "new_sbuild_2020 = pd.read_csv(\n",
    "    os.path.join(OUTPUT_FP, 'Outcomes', 'B1-100','permit-matching-apns-CF-min11-GT1.csv'), \n",
    "    dtype={'APN': str})"
   ]
  },
  {
   "cell_type": "code",
   "execution_count": 5,
   "id": "5280fcf7",
   "metadata": {},
   "outputs": [],
   "source": [
    "# Add income strata information to parcel data\n",
    "sj_parcels_res = pd.merge(\n",
    "    sj_parcels_res, cbg_income_2016_SJ[['GEOID', 'strata_inc']], \n",
    "    how='left', validate='many_to_one')"
   ]
  },
  {
   "cell_type": "markdown",
   "id": "097e1f4a",
   "metadata": {},
   "source": [
    "## 1. CF Batch 1: Sample 3.5% of the parcels in each strata\n",
    "Sample ~5,000 residential parcels."
   ]
  },
  {
   "cell_type": "code",
   "execution_count": 6,
   "id": "8cef2712",
   "metadata": {},
   "outputs": [
    {
     "name": "stderr",
     "output_type": "stream",
     "text": [
      "100%|██████████| 51/51 [00:02<00:00, 24.09it/s]\n"
     ]
    }
   ],
   "source": [
    "# Sample 3.5% of parcels\n",
    "percentage_of_samples = 0.035\n",
    "iteration1 = pd.DataFrame()\n",
    "for strata_inc in tqdm(sj_parcels_res['strata_inc'].unique()):\n",
    "    parcels_to_review = sj_parcels_res.loc[sj_parcels_res['strata_inc'] == strata_inc]['APN'].unique()\n",
    "\n",
    "    # Sample parcels\n",
    "    np.random.seed(42)\n",
    "    strata_inc_N = len(parcels_to_review)\n",
    "    parcels_to_review = np.random.choice(\n",
    "        parcels_to_review, size=int(strata_inc_N * percentage_of_samples), replace=False)\n",
    "\n",
    "    for i, parcel_apn in enumerate(parcels_to_review):\n",
    "        parcel_dict = {'APN': [parcel_apn], 'strata_inc': [strata_inc]}\n",
    "        iteration1 = pd.concat([iteration1, pd.DataFrame.from_dict(parcel_dict)])"
   ]
  },
  {
   "cell_type": "code",
   "execution_count": 7,
   "id": "24f62bbd",
   "metadata": {},
   "outputs": [
    {
     "name": "stdout",
     "output_type": "stream",
     "text": [
      "<class 'pandas.core.frame.DataFrame'>\n",
      "Int64Index: 5569 entries, 0 to 0\n",
      "Data columns (total 2 columns):\n",
      " #   Column      Non-Null Count  Dtype \n",
      "---  ------      --------------  ----- \n",
      " 0   APN         5569 non-null   object\n",
      " 1   strata_inc  5569 non-null   object\n",
      "dtypes: object(2)\n",
      "memory usage: 130.5+ KB\n"
     ]
    }
   ],
   "source": [
    "iteration1.info()"
   ]
  },
  {
   "cell_type": "code",
   "execution_count": 8,
   "id": "abde5e18",
   "metadata": {},
   "outputs": [],
   "source": [
    "iteration1.to_csv(\n",
    "    os.path.join(OUTPUT_FP, '..', 'CloudFactory', 'Iteration1', 'sampled_APNs.csv'), index=False)"
   ]
  },
  {
   "cell_type": "markdown",
   "id": "3dce166e",
   "metadata": {},
   "source": [
    "## 2. CF Round 2: Residential parcels associated with 2015-20 AANC permits\n",
    "We submit a batch of parcels that match to AANC permits issued 2015-20 to estimate the number of permits that relate to the construction of detached ADUs. "
   ]
  },
  {
   "cell_type": "code",
   "execution_count": 8,
   "id": "747033bb",
   "metadata": {},
   "outputs": [],
   "source": [
    "# 5k AANC permits issued during 2015-20\n",
    "permits_2015_20_gdf = gpd.GeoDataFrame(permits_2015_20, geometry='geometry_permit', crs='EPSG:4326')"
   ]
  },
  {
   "cell_type": "code",
   "execution_count": 9,
   "id": "40647e47",
   "metadata": {},
   "outputs": [],
   "source": [
    "# 3k AANC permits issued during 2015-20 that spatially fall within our residential boundary\n",
    "permits_2015_20_res = permits_2015_20_gdf.sjoin(\n",
    "    gpd.GeoDataFrame(geometry=[sj_parcels_res.geometry.buffer(0).unary_union], crs='EPSG:4326'), \n",
    "    how='left', predicate='intersects')\n",
    "permits_2015_20_res = permits_2015_20_res.loc[~permits_2015_20_res['index_right'].isna()]"
   ]
  },
  {
   "cell_type": "code",
   "execution_count": 10,
   "id": "3ae99a7d",
   "metadata": {},
   "outputs": [],
   "source": [
    "# Grab only permits with spatially-matched APNs that coincide with the Permit APN\n",
    "permits_2015_20_res = permits_2015_20_res.loc[permits_2015_20_res['APN'] == permits_2015_20_res['APN_parcel']]"
   ]
  },
  {
   "cell_type": "code",
   "execution_count": 11,
   "id": "26e15b14",
   "metadata": {},
   "outputs": [
    {
     "name": "stdout",
     "output_type": "stream",
     "text": [
      "[INFO] Number of parcels: 2797\n"
     ]
    }
   ],
   "source": [
    "# Aggregate at the parcel level\n",
    "iteration2 = permits_2015_20_res.copy()\n",
    "iteration2 = pd.DataFrame({'APN': iteration2['APN_parcel'].unique()})\n",
    "print('[INFO] Number of parcels: {}'.format(len(iteration2)))"
   ]
  },
  {
   "cell_type": "code",
   "execution_count": 12,
   "id": "69b47c33",
   "metadata": {},
   "outputs": [
    {
     "name": "stdout",
     "output_type": "stream",
     "text": [
      "[INFO] Number of parcels: 2682\n"
     ]
    }
   ],
   "source": [
    "# Remove parcels that have been annotated in B1\n",
    "iteration2 = iteration2.loc[~iteration2['APN'].isin(iteration1['APN'].unique())]\n",
    "print('[INFO] Number of parcels: {}'.format(len(iteration2)))"
   ]
  },
  {
   "cell_type": "code",
   "execution_count": 13,
   "id": "d8c4d337",
   "metadata": {},
   "outputs": [
    {
     "name": "stdout",
     "output_type": "stream",
     "text": [
      "[INFO] Number of parcels: 2682\n"
     ]
    }
   ],
   "source": [
    "# Remove parcels that are not in the residential area\n",
    "iteration2 = iteration2.loc[iteration2['APN'].isin(sj_parcels_res['APN'].unique())]\n",
    "print('[INFO] Number of parcels: {}'.format(len(iteration2)))"
   ]
  },
  {
   "cell_type": "code",
   "execution_count": 49,
   "id": "e7dc2b03",
   "metadata": {},
   "outputs": [],
   "source": [
    "iteration2.to_csv(\n",
    "    os.path.join(OUTPUT_FP, '..', 'CloudFactory', 'Iteration2', 'sampled_APNs.csv'), index=False)"
   ]
  },
  {
   "cell_type": "code",
   "execution_count": 50,
   "id": "ed14460d",
   "metadata": {},
   "outputs": [],
   "source": [
    "# Generate tile centroids\n",
    "parcel_centroids2 = iteration2.copy()\n",
    "parcel_centroids2 = pd.merge(\n",
    "    parcel_centroids2, sj_parcels_res[['APN', 'geometry']], how='left', validate='one_to_one')\n",
    "\n",
    "parcel_centroids2 = gpd.GeoDataFrame(parcel_centroids2, crs='EPSG:4326')\n",
    "parcel_centroids2['centroid'] = parcel_centroids2.geometry.centroid\n",
    "\n",
    "parcel_centroids2[['APN', 'centroid']].to_csv(\n",
    "    os.path.join(OUTPUT_FP, '..', 'CloudFactory', 'Iteration2', 'parcel_centroids.csv'), index=False)"
   ]
  },
  {
   "cell_type": "markdown",
   "id": "6d258916",
   "metadata": {},
   "source": [
    "## 3. CF Round 3: Neyman allocation"
   ]
  },
  {
   "cell_type": "code",
   "execution_count": 33,
   "id": "033576cc",
   "metadata": {},
   "outputs": [],
   "source": [
    "# Parameters\n",
    "N_iter3 = 15000"
   ]
  },
  {
   "cell_type": "markdown",
   "id": "f33aa04f",
   "metadata": {},
   "source": [
    "### 3.1 Determine the Neyman allocation"
   ]
  },
  {
   "cell_type": "code",
   "execution_count": 32,
   "id": "933efc87",
   "metadata": {},
   "outputs": [
    {
     "name": "stdout",
     "output_type": "stream",
     "text": [
      "[INFO] Dropping 81638 parcels without confidence data\n",
      "[INFO] We have 25 income strata, 3 confidence bins and 75 final bins for the Neyman alloc\n"
     ]
    }
   ],
   "source": [
    "neyman = sj_parcels_res.copy()\n",
    "\n",
    "# Add parcel confidence data and generate income-confidence bins\n",
    "neyman = pd.merge(neyman, parcel_conf_df[['APN', 'confidence']], how='left', validate='one_to_one')\n",
    "\n",
    "print('[INFO] Dropping {} parcels without confidence data'.format(neyman['confidence'].isna().sum()))\n",
    "neyman = neyman.loc[~neyman['confidence'].isna()]\n",
    "\n",
    "neyman['Bin'] = neyman.apply(\n",
    "    lambda row: '{}-{}'.format(row['strata_inc'], row['confidence']), axis=1)\n",
    "\n",
    "print('[INFO] We have {} income strata, {} confidence bins and {} final bins for the Neyman alloc'.format(\n",
    "    len(neyman['strata_inc'].unique()), \n",
    "    len(neyman['confidence'].unique()), \n",
    "    len(neyman['Bin'].unique())\n",
    "))"
   ]
  },
  {
   "cell_type": "code",
   "execution_count": 47,
   "id": "4229708e",
   "metadata": {},
   "outputs": [],
   "source": [
    "# Add Yij (parcel new small buildings)\n",
    "# * Add all parcels from Batch 1\n",
    "new_sbuild_2020 = pd.merge(\n",
    "    CF_area_coverage[['APN']], \n",
    "    new_sbuild_2020[['APN', 'count_new_sbuild']], how='left', validate='one_to_one')\n",
    "new_sbuild_2020['count_new_sbuild'] = new_sbuild_2020['count_new_sbuild'].fillna(0)\n",
    "\n",
    "neyman = pd.merge(\n",
    "    neyman, new_sbuild_2020[['APN', 'count_new_sbuild']], how='left', validate='one_to_one')\n",
    "neyman['Yij'] = neyman['count_new_sbuild']"
   ]
  },
  {
   "cell_type": "code",
   "execution_count": 116,
   "id": "53ced539",
   "metadata": {},
   "outputs": [
    {
     "data": {
      "text/plain": [
       "count     75.000000\n",
       "mean      36.200000\n",
       "std       36.032643\n",
       "min        3.000000\n",
       "25%       11.000000\n",
       "50%       18.000000\n",
       "75%       59.000000\n",
       "max      129.000000\n",
       "Name: Yij, dtype: float64"
      ]
     },
     "execution_count": 116,
     "metadata": {},
     "output_type": "execute_result"
    }
   ],
   "source": [
    "# Check how many B1 parcels there are in each of the 150 bins (ie how many\n",
    "# parcels are being used to estimate Sj for a bin)\n",
    "nparcels_b1 = neyman.notna().groupby(neyman['Bin'])['Yij'].sum().reset_index()\n",
    "\n",
    "nparcels_b1['Yij'].describe()"
   ]
  },
  {
   "cell_type": "code",
   "execution_count": 61,
   "id": "3b99b9ae",
   "metadata": {},
   "outputs": [
    {
     "name": "stdout",
     "output_type": "stream",
     "text": [
      "[INFO] 0 bins do not have B1 parcels we can use to estimate Sj\n"
     ]
    }
   ],
   "source": [
    "# Find S_j, N_j\n",
    "Neyman_alloc = neyman.groupby('Bin').agg(\n",
    "    {'APN': 'count', 'Yij': 'std'}).reset_index()\n",
    "Neyman_alloc.rename(columns={'APN': 'N_j', 'Yij': 'S_j'}, inplace=True)\n",
    "\n",
    "# For bins that do not have B1 observations, we use the mean Sj\n",
    "empty_bins = Neyman_alloc['S_j'].isna().sum()\n",
    "print('[INFO] {} bins do not have B1 parcels we can use to estimate Sj'.format(\n",
    "    empty_bins))\n",
    "if empty_bins > 0:\n",
    "    raise Exception('[NOT IMPLEMENTED]')"
   ]
  },
  {
   "cell_type": "code",
   "execution_count": null,
   "id": "535ca040",
   "metadata": {},
   "outputs": [],
   "source": [
    "# Smoothing: as many parcels did not have new buildings, we set S_j = min(S_j, min S_i), \n",
    "# where S_i > 0 so that each bin has a non-zero probability of being sampled from.\n",
    "min_Sj = Neyman_alloc.loc[Neyman_alloc['S_j'] > 0]['S_j'].min()\n",
    "Neyman_alloc['S_j'] = Neyman_alloc['S_j'].apply(\n",
    "    lambda sj: sj if sj > 1e-5 else min_Sj)\n",
    "\n",
    "Neyman_denom = (Neyman_alloc['N_j'] * Neyman_alloc['S_j']).sum()\n",
    "Neyman_alloc['weight'] = Neyman_alloc.apply(\n",
    "    lambda row: row['N_j'] * row['S_j'] / Neyman_denom, axis=1)\n",
    "\n",
    "#Neyman_alloc['weight'].hist()\n",
    "#plt.show()\n",
    "\n",
    "assert Neyman_alloc['weight'].sum() - 1 < 1e-5"
   ]
  },
  {
   "cell_type": "code",
   "execution_count": 105,
   "id": "1b4d7145",
   "metadata": {},
   "outputs": [
    {
     "name": "stdout",
     "output_type": "stream",
     "text": [
      "[INFO] Number of parcels to sample: 15004\n"
     ]
    }
   ],
   "source": [
    "# Determine number of samples per bin\n",
    "Neyman_alloc['n_j'] = N_iter3 * Neyman_alloc['weight']\n",
    "Neyman_alloc['n_j'] = Neyman_alloc['n_j'].apply(lambda nj: round(nj, 0))\n",
    "\n",
    "print('[INFO] Number of parcels to sample: {}'.format(int(Neyman_alloc['n_j'].sum())))"
   ]
  },
  {
   "cell_type": "code",
   "execution_count": 74,
   "id": "71e95623",
   "metadata": {},
   "outputs": [
    {
     "data": {
      "image/png": "[encoded data removed]",
      "text/plain": [
       "<Figure size 640x480 with 1 Axes>"
      ]
     },
     "metadata": {},
     "output_type": "display_data"
    }
   ],
   "source": [
    "print('[INFO] Number of parcels sampled per bin')\n",
    "Neyman_alloc['n_j'].hist()\n",
    "plt.show()"
   ]
  },
  {
   "cell_type": "markdown",
   "id": "0e927896",
   "metadata": {},
   "source": [
    "### 3.2 Sample per Neyman allocation\n"
   ]
  },
  {
   "cell_type": "code",
   "execution_count": 93,
   "id": "601c1b1a",
   "metadata": {},
   "outputs": [
    {
     "name": "stdout",
     "output_type": "stream",
     "text": [
      "Sampling below Neyman alloc: Num parcels: 453; nj: 455.0\n",
      "[INFO] Sampling 15002 parcels\n"
     ]
    }
   ],
   "source": [
    "# Sample n_j samples for each bin\n",
    "np.random.seed(42)\n",
    "\n",
    "iteration3_parcels = []\n",
    "for final_bin in Neyman_alloc['Bin'].unique():\n",
    "    n_j = Neyman_alloc.loc[Neyman_alloc['Bin'] == final_bin].iloc[0]['n_j']\n",
    "    parcels_bin = neyman.loc[neyman['Bin'] == final_bin]['APN'].unique()\n",
    "    try:\n",
    "        sampled_parcels_bin = np.random.choice(parcels_bin, size=int(n_j), replace=False)\n",
    "    except ValueError:\n",
    "        sampled_parcels_bin = np.random.choice(parcels_bin, size=len(parcels_bin), replace=False)\n",
    "        print('Sampling below Neyman alloc: Num parcels: {}; nj: {}'.format(len(parcels_bin), n_j))\n",
    "    iteration3_parcels.extend(sampled_parcels_bin.tolist())\n",
    "    \n",
    "iteration3 = neyman.copy()\n",
    "iteration3 = iteration3.loc[iteration3['APN'].isin(iteration3_parcels)]\n",
    "print('[INFO] Sampling {} parcels'.format(len(iteration3)))\n",
    "\n",
    "iteration3[['APN', 'GEOID', 'strata_inc', 'confidence', 'Bin']].to_csv(\n",
    "    os.path.join(OUTPUT_FP, '..', 'CloudFactory', 'Iteration3', 'complete_sampled_APNs.csv'), index=False)"
   ]
  },
  {
   "cell_type": "code",
   "execution_count": 96,
   "id": "3b56c3af",
   "metadata": {},
   "outputs": [
    {
     "name": "stdout",
     "output_type": "stream",
     "text": [
      "[INFO] Number of parcels: 14179 after removing parcels in B1, B2\n"
     ]
    }
   ],
   "source": [
    "# Remove parcels that have been annotated in B1 or B2\n",
    "iteration3 = iteration3.loc[~iteration3['APN'].isin(\n",
    "    list(iteration1['APN'].unique()) + list(iteration2['APN'].unique()))]\n",
    "print('[INFO] Number of parcels: {} after removing parcels in B1, B2'.format(len(iteration3)))\n",
    "\n",
    "iteration3[['APN', 'GEOID', 'strata_inc', 'confidence', 'Bin']].to_csv(\n",
    "    os.path.join(OUTPUT_FP, '..', 'CloudFactory', 'Iteration3', 'sampled_APNs.csv'), index=False)"
   ]
  },
  {
   "cell_type": "code",
   "execution_count": 100,
   "id": "4e7bc99a",
   "metadata": {},
   "outputs": [],
   "source": [
    "# Generate tile centroids\n",
    "parcel_centroids3 = iteration3.copy()\n",
    "parcel_centroids3['centroid'] = parcel_centroids3.geometry.centroid\n",
    "\n",
    "parcel_centroids3[['APN', 'centroid']].to_csv(\n",
    "    os.path.join(OUTPUT_FP, '..', 'CloudFactory', 'Iteration3', 'parcel_centroids.csv'), index=False)"
   ]
  }
 ],
 "metadata": {
  "kernelspec": {
   "display_name": "Python 3",
   "language": "python",
   "name": "python3"
  },
  "language_info": {
   "codemirror_mode": {
    "name": "ipython",
    "version": 3
   },
   "file_extension": ".py",
   "mimetype": "text/x-python",
   "name": "python",
   "nbconvert_exporter": "python",
   "pygments_lexer": "ipython3",
   "version": "3.8.10"
  }
 },
 "nbformat": 4,
 "nbformat_minor": 5
}
