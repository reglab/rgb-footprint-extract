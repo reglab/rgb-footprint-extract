{
 "cells": [
  {
   "cell_type": "markdown",
   "id": "fda6dcb0",
   "metadata": {},
   "source": [
    "# Population Estimates: Samples submitted to Cloud Factory"
   ]
  },
  {
   "cell_type": "code",
   "execution_count": 1,
   "id": "2babb2b1",
   "metadata": {},
   "outputs": [],
   "source": [
    "from tqdm import tqdm\n",
    "\n",
    "import warnings\n",
    "warnings.simplefilter(action='ignore', category=FutureWarning)\n",
    "warnings.filterwarnings(\"ignore\")\n",
    "\n",
    "tqdm.pandas()"
   ]
  },
  {
   "cell_type": "code",
   "execution_count": 2,
   "id": "fbc8dcc1",
   "metadata": {},
   "outputs": [],
   "source": [
    "# Import functions\n",
    "%run inference-functions.ipynb import load_data, get_bounds, assign_cbgs, visualize_tile_predvOSM, assign_cbgs_by_coverage\n",
    "%run ADU_permit_matching-polygon-pipeline.ipynb import load_sources"
   ]
  },
  {
   "cell_type": "code",
   "execution_count": 3,
   "id": "b6e9e9fb",
   "metadata": {},
   "outputs": [],
   "source": [
    "# Paths\n",
    "OAK_FP = '/oak/stanford/groups/deho/building_compliance/'\n",
    "OUTPUT_FP = os.path.join(OAK_FP, 'outputs', 'Population-Estimates', 'outputs')\n",
    "PERMIT_INPUT_FP = os.path.join(OAK_FP, 'outputs', 'Permit-Matching', 'inputs')\n",
    "\n",
    "BUILD_FP = os.path.join(OAK_FP, 'outputs', 'cbg-inference-{}', 'inference_building_processed')\n",
    "OSM_FP = os.path.join(OAK_FP, 'outputs', 'cbg-inference-2020', 'osm_building_processed')"
   ]
  },
  {
   "cell_type": "code",
   "execution_count": 4,
   "id": "f747c129",
   "metadata": {},
   "outputs": [],
   "source": [
    "# Load data\n",
    "# * Residential parcels (assigned to CBGs)\n",
    "sj_parcels_res = gpd.read_file(os.path.join(OUTPUT_FP, 'sj-parcels-res-cbgs'))\n",
    "assert sj_parcels_res.duplicated('APN').sum() == 0\n",
    "\n",
    "# * Census block groups\n",
    "cbg_income_2016_SJ = gpd.read_file(os.path.join(OUTPUT_FP, 'Strata', 'cbg-income-strata'))\n",
    "\n",
    "# * Permits\n",
    "permits = pd.read_csv(os.path.join(OAK_FP, 'outputs/Permit-Matching/outputs/all_permits.csv'))\n",
    "permits['geometry_permit'] = gpd.GeoSeries.from_wkt(permits['geometry_permit'])\n",
    "permits_2015_20 = permits.loc[\n",
    "    permits['issue_year'].isin([2015, 2016, 2017, 2018, 2019, 2020])].copy()"
   ]
  },
  {
   "cell_type": "code",
   "execution_count": 5,
   "id": "5280fcf7",
   "metadata": {},
   "outputs": [],
   "source": [
    "# Add income strata information to parcel data\n",
    "sj_parcels_res = pd.merge(\n",
    "    sj_parcels_res, cbg_income_2016_SJ[['GEOID', 'strata_inc']], \n",
    "    how='left', validate='many_to_one')"
   ]
  },
  {
   "cell_type": "markdown",
   "id": "097e1f4a",
   "metadata": {},
   "source": [
    "## 1. CF Batch 1: Sample 3.5% of the parcels in each strata\n",
    "Sample ~5,000 residential parcels."
   ]
  },
  {
   "cell_type": "code",
   "execution_count": 14,
   "id": "8cef2712",
   "metadata": {},
   "outputs": [
    {
     "name": "stderr",
     "output_type": "stream",
     "text": [
      "100%|██████████| 51/51 [00:02<00:00, 24.79it/s]\n"
     ]
    }
   ],
   "source": [
    "# Sample 3% of parcels\n",
    "percentage_of_samples = 0.035\n",
    "iteration1 = pd.DataFrame()\n",
    "for strata_inc in tqdm(sj_parcels_res['strata_inc'].unique()):\n",
    "    parcels_to_review = sj_parcels_res.loc[sj_parcels_res['strata_inc'] == strata_inc]['APN'].unique()\n",
    "\n",
    "    # Sample parcels\n",
    "    np.random.seed(42)\n",
    "    strata_inc_N = len(parcels_to_review)\n",
    "    parcels_to_review = np.random.choice(\n",
    "        parcels_to_review, size=int(strata_inc_N * percentage_of_samples), replace=False)\n",
    "\n",
    "    for i, parcel_apn in enumerate(parcels_to_review):\n",
    "        parcel_dict = {'APN': [parcel_apn], 'strata_inc': [strata_inc]}\n",
    "        iteration1 = pd.concat([iteration1, pd.DataFrame.from_dict(parcel_dict)])"
   ]
  },
  {
   "cell_type": "code",
   "execution_count": 15,
   "id": "24f62bbd",
   "metadata": {},
   "outputs": [
    {
     "name": "stdout",
     "output_type": "stream",
     "text": [
      "<class 'pandas.core.frame.DataFrame'>\n",
      "Int64Index: 5569 entries, 0 to 0\n",
      "Data columns (total 2 columns):\n",
      " #   Column      Non-Null Count  Dtype \n",
      "---  ------      --------------  ----- \n",
      " 0   APN         5569 non-null   object\n",
      " 1   strata_inc  5569 non-null   object\n",
      "dtypes: object(2)\n",
      "memory usage: 130.5+ KB\n"
     ]
    }
   ],
   "source": [
    "iteration1.info()"
   ]
  },
  {
   "cell_type": "code",
   "execution_count": 8,
   "id": "abde5e18",
   "metadata": {},
   "outputs": [],
   "source": [
    "iteration1.to_csv(\n",
    "    os.path.join(OUTPUT_FP, '..', 'CloudFactory', 'Iteration1', 'sampled_APNs.csv'), index=False)"
   ]
  },
  {
   "cell_type": "markdown",
   "id": "3dce166e",
   "metadata": {},
   "source": [
    "## 2. CF Round 2: Residential parcels associated with 2015-20 AANC permits\n",
    "We submit a batch of parcels that match to AANC permits issued 2015-20 to estimate the number of permits that relate to the construction of detached ADUs. "
   ]
  },
  {
   "cell_type": "code",
   "execution_count": 16,
   "id": "747033bb",
   "metadata": {},
   "outputs": [],
   "source": [
    "# 5k AANC permits issued during 2015-20\n",
    "permits_2015_20_gdf = gpd.GeoDataFrame(permits_2015_20, geometry='geometry_permit', crs='EPSG:4326')"
   ]
  },
  {
   "cell_type": "code",
   "execution_count": 17,
   "id": "40647e47",
   "metadata": {},
   "outputs": [],
   "source": [
    "# 3k AANC permits issued during 2015-20 that spatially fall within our residential boundary\n",
    "permits_2015_20_res = permits_2015_20_gdf.sjoin(\n",
    "    gpd.GeoDataFrame(geometry=[sj_parcels_res.geometry.buffer(0).unary_union], crs='EPSG:4326'), \n",
    "    how='left', predicate='intersects')\n",
    "permits_2015_20_res = permits_2015_20_res.loc[~permits_2015_20_res['index_right'].isna()]"
   ]
  },
  {
   "cell_type": "code",
   "execution_count": 18,
   "id": "3ae99a7d",
   "metadata": {},
   "outputs": [],
   "source": [
    "# Grab only permits with spatially-matched APNs that coincide with the Permit APN\n",
    "permits_2015_20_res = permits_2015_20_res.loc[permits_2015_20_res['APN'] == permits_2015_20_res['APN_parcel']]"
   ]
  },
  {
   "cell_type": "code",
   "execution_count": 19,
   "id": "26e15b14",
   "metadata": {},
   "outputs": [
    {
     "name": "stdout",
     "output_type": "stream",
     "text": [
      "[INFO] Number of parcels: 2797\n"
     ]
    }
   ],
   "source": [
    "# Aggregate at the parcel level\n",
    "iteration2 = permits_2015_20_res.copy()\n",
    "iteration2 = pd.DataFrame({'APN': iteration2['APN_parcel'].unique()})\n",
    "print('[INFO] Number of parcels: {}'.format(len(iteration2)))"
   ]
  },
  {
   "cell_type": "code",
   "execution_count": 20,
   "id": "69b47c33",
   "metadata": {},
   "outputs": [
    {
     "name": "stdout",
     "output_type": "stream",
     "text": [
      "[INFO] Number of parcels: 2682\n"
     ]
    }
   ],
   "source": [
    "# Remove parcels that have been annotated in B1\n",
    "iteration2 = iteration2.loc[~iteration2['APN'].isin(iteration1['APN'].unique())]\n",
    "print('[INFO] Number of parcels: {}'.format(len(iteration2)))"
   ]
  },
  {
   "cell_type": "code",
   "execution_count": 21,
   "id": "d8c4d337",
   "metadata": {},
   "outputs": [
    {
     "name": "stdout",
     "output_type": "stream",
     "text": [
      "[INFO] Number of parcels: 2682\n"
     ]
    }
   ],
   "source": [
    "# Remove parcels that are not in the residential area\n",
    "iteration2 = iteration2.loc[iteration2['APN'].isin(sj_parcels_res['APN'].unique())]\n",
    "print('[INFO] Number of parcels: {}'.format(len(iteration2)))"
   ]
  },
  {
   "cell_type": "code",
   "execution_count": 22,
   "id": "e7dc2b03",
   "metadata": {},
   "outputs": [],
   "source": [
    "iteration2.to_csv(\n",
    "    os.path.join(OUTPUT_FP, '..', 'CloudFactory', 'Iteration2', 'sampled_APNs.csv'), index=False)"
   ]
  },
  {
   "cell_type": "code",
   "execution_count": 23,
   "id": "ed14460d",
   "metadata": {},
   "outputs": [],
   "source": [
    "# Generate tile centroids\n",
    "parcel_centroids2 = iteration2.copy()\n",
    "parcel_centroids2 = pd.merge(\n",
    "    parcel_centroids2, sj_parcels_res[['APN', 'geometry']], how='left', validate='one_to_one')\n",
    "\n",
    "parcel_centroids2 = gpd.GeoDataFrame(parcel_centroids2, crs='EPSG:4326')\n",
    "parcel_centroids2['centroid'] = parcel_centroids2.geometry.centroid\n",
    "\n",
    "parcel_centroids2[['APN', 'centroid']].to_csv(\n",
    "    os.path.join(OUTPUT_FP, '..', 'CloudFactory', 'Iteration2', 'parcel_centroids.csv'), index=False)"
   ]
  }
 ],
 "metadata": {
  "kernelspec": {
   "display_name": "Python 3",
   "language": "python",
   "name": "python3"
  },
  "language_info": {
   "codemirror_mode": {
    "name": "ipython",
    "version": 3
   },
   "file_extension": ".py",
   "mimetype": "text/x-python",
   "name": "python",
   "nbconvert_exporter": "python",
   "pygments_lexer": "ipython3",
   "version": "3.8.10"
  }
 },
 "nbformat": 4,
 "nbformat_minor": 5
}
