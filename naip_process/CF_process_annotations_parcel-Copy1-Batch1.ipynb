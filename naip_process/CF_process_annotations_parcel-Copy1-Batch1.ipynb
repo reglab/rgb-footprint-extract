{
 "cells": [
  {
   "cell_type": "markdown",
   "id": "863d52ce",
   "metadata": {},
   "source": [
    "# Error analysis on San Jose Census Block Groups"
   ]
  },
  {
   "cell_type": "code",
   "execution_count": 3,
   "id": "6d484e47",
   "metadata": {},
   "outputs": [],
   "source": [
    "# Import functions\n",
    "%run inference-functions.ipynb import load_data, get_bounds, visualize_tile_predvOSM, assign_cbgs_by_coverage"
   ]
  },
  {
   "cell_type": "code",
   "execution_count": 4,
   "id": "33cc1447",
   "metadata": {},
   "outputs": [],
   "source": [
    "import json\n",
    "import geopandas as gpd\n",
    "import glob\n",
    "import matplotlib.pyplot as plt\n",
    "import numpy as np\n",
    "import os\n",
    "import pandas as pd\n",
    "import pyproj\n",
    "from pyproj import Geod\n",
    "import rasterio\n",
    "import rasterio.plot\n",
    "from rasterio.transform import from_bounds\n",
    "import rasterio.features\n",
    "import seaborn as sns\n",
    "import shapely\n",
    "from shapely.geometry import box, Polygon, Point\n",
    "from shapely.ops import orient\n",
    "from tqdm import tqdm\n",
    "import pickle\n",
    "import matplotlib.image as mpimg\n",
    "import matplotlib.patches as patches\n",
    "\n",
    "tqdm.pandas()"
   ]
  },
  {
   "cell_type": "code",
   "execution_count": 5,
   "id": "bded2f2f",
   "metadata": {},
   "outputs": [],
   "source": [
    "cf_fp = '/oak/stanford/groups/deho/building_compliance/CloudFactory/'\n",
    "cf_exports = os.path.join(cf_fp, 'exports', 'Batch1_48')\n",
    "cf_images = os.path.join(cf_fp, 'images')"
   ]
  },
  {
   "cell_type": "code",
   "execution_count": 6,
   "id": "64f0b4ee",
   "metadata": {},
   "outputs": [
    {
     "ename": "FileNotFoundError",
     "evalue": "[Errno 2] No such file or directory: '/oak/stanford/groups/deho/building_compliance/CloudFactory/images/img_metadata.p'",
     "output_type": "error",
     "traceback": [
      "\u001b[0;31m---------------------------------------------------------------------------\u001b[0m",
      "\u001b[0;31mFileNotFoundError\u001b[0m                         Traceback (most recent call last)",
      "Cell \u001b[0;32mIn [6], line 1\u001b[0m\n\u001b[0;32m----> 1\u001b[0m \u001b[38;5;28;01mwith\u001b[39;00m \u001b[38;5;28mopen\u001b[39m(os\u001b[38;5;241m.\u001b[39mpath\u001b[38;5;241m.\u001b[39mjoin(cf_images, \u001b[38;5;124m\"\u001b[39m\u001b[38;5;124mimg_metadata.p\u001b[39m\u001b[38;5;124m\"\u001b[39m), \u001b[38;5;124m\"\u001b[39m\u001b[38;5;124mrb\u001b[39m\u001b[38;5;124m\"\u001b[39m) \u001b[38;5;28;01mas\u001b[39;00m output_file:\n\u001b[1;32m      2\u001b[0m     img_metadata \u001b[38;5;241m=\u001b[39m pickle\u001b[38;5;241m.\u001b[39mload(output_file)\n",
      "\u001b[0;31mFileNotFoundError\u001b[0m: [Errno 2] No such file or directory: '/oak/stanford/groups/deho/building_compliance/CloudFactory/images/img_metadata.p'"
     ]
    }
   ],
   "source": [
    "with open(os.path.join(cf_images, \"img_metadata.p\"), \"rb\") as output_file:\n",
    "    img_metadata = pickle.load(output_file)"
   ]
  },
  {
   "cell_type": "code",
   "execution_count": 32,
   "id": "08d8d3ac",
   "metadata": {},
   "outputs": [
    {
     "name": "stderr",
     "output_type": "stream",
     "text": [
      "100%|██████████| 2666/2666 [03:58<00:00, 11.20it/s]  \n"
     ]
    }
   ],
   "source": [
    "df = pd.DataFrame(columns=['apn', 'year', 'geometry'])\n",
    "\n",
    "for i in tqdm(os.listdir(cf_exports)):\n",
    "    apn = i.split('.')[0]\n",
    "    image = mpimg.imread(os.path.join(cf_images, 'Batch1', 'images', f'{apn}.png'))\n",
    "    \n",
    "    #assert apn in img_metadata #####!!!!!! Adding to skip parcels\n",
    "    if not apn in img_metadata:\n",
    "        continue \n",
    "    \n",
    "    lons = img_metadata[apn]['lons']\n",
    "    lats = img_metadata[apn]['lats']\n",
    "    \n",
    "    with open(os.path.join(cf_exports, i), 'r') as f:\n",
    "        parcel_label = json.load(f)\n",
    "        \n",
    "        # get image height and width\n",
    "        height = parcel_label['metadata']['system']['height']\n",
    "        width = parcel_label['metadata']['system']['width']\n",
    "        \n",
    "        # height will not have any buffer\n",
    "        #assert len(lats)*2 == height #####!!!!!! Adding to skip parcels\n",
    "        if not len(lats)*2 == height:\n",
    "            continue\n",
    "        buffer = width - len(lons)*2\n",
    "\n",
    "        if parcel_label['annotated']:\n",
    "            assert parcel_label[\"annotationsCount\"] > 0\n",
    "            assert parcel_label[\"annotationsCount\"] == len(parcel_label['annotations'])\n",
    "            show = False\n",
    "#             fig, ax = plt.subplots()\n",
    "#             ax.imshow(image)\n",
    "\n",
    "            for label in parcel_label['annotations']:\n",
    "                # ignore all labels that are \"blank\"\n",
    "                if label['label'] == 'small_building':\n",
    "                    # i think there are some mislabels -- small_buildings not having coordinate key\n",
    "                    if 'coordinates' in label:\n",
    "                        coords = label['coordinates']\n",
    "                        assert len(coords) == 1\n",
    "\n",
    "                        coords = coords[0]\n",
    "                        \n",
    "                        show = True\n",
    "                        coords_raw0 = [(round(i['x']), round(i['y'])) for i in coords]\n",
    "                        x = [round(i['x']) for i in coords]\n",
    "                        min_x = min(x)\n",
    "                        max_x = max(x)\n",
    "                        y = [round(i['y']) for i in coords]\n",
    "                        min_y = min(y)\n",
    "                        max_y = max(y)\n",
    "                        rect = patches.Rectangle((min_x, min_y), max_x-min_x, max_y-min_y, linewidth=1, edgecolor='r', facecolor='none')\n",
    "#                         ax.add_patch(rect)\n",
    "                        \n",
    "                        \n",
    "                        coords_raw = [(round(i['x']), round(i['y'])-len(lats)) for i in coords]\n",
    "#                         print(coords_raw)\n",
    "                        is_2016 = True\n",
    "                        test_x = [i[0] > len(lons) for i in coords_raw]\n",
    "                        test_y = [i[1] <= len(lats) for i in coords_raw]\n",
    "                        \n",
    "                        if all(test_x):\n",
    "                            is_2016 = False\n",
    "                            # if 2020, then adjust x by buffer\n",
    "                            coords_raw = [(i[0]-len(lons)-buffer, i[1]) for i in coords_raw]\n",
    "                        else:\n",
    "                            if any(test_x):\n",
    "                                print('Wrong behavior')\n",
    "                        \n",
    "                        # this is to ensure that the pixel count starts from 1 rather than 0\n",
    "                        est_g0 = [i[0] > 3 for i in coords_raw] + [i[1] > 0 for i in coords_raw]\n",
    "                        \n",
    "                        assert all(test_y)\n",
    "                        #assert all(est_g0)\n",
    "                        if not all(est_g0): #####!!!!!! Adding this to skip a given annotation\n",
    "                            continue\n",
    "                        \n",
    "                                \n",
    "                        # convert pixel coords into 26910\n",
    "#                         coords_26910 = [[lons[i[0]-1], lats[i[1]]-1] for i in coords_raw]\n",
    "                        \n",
    "    \n",
    "                        \"\"\"\n",
    "                        There is a systematic error when we displace by 1 like above -- not sure why tbh!\n",
    "                        - x-4 and keeping y as is leads to the most accurate behavior, but this is hacky\n",
    "                        \"\"\"\n",
    "                        coords_26910 = [[lons[i[0]-4], lats[i[1]]] for i in coords_raw]\n",
    "                        polygon_26910 = Polygon(coords_26910)\n",
    "                        \n",
    "                        wgs84 = pyproj.CRS('EPSG:26910')\n",
    "                        utm = pyproj.CRS('EPSG:4326')\n",
    "                        project = pyproj.Transformer.from_crs(wgs84, utm, always_xy=True).transform\n",
    "\n",
    "                        # convert\n",
    "                        polygon_4326 = shapely.ops.transform(project, polygon_26910)\n",
    "                        \n",
    "                        ## NEED TO CHECK IF COORDS ARE ACCURATE\n",
    "#                         print(polygon_4326)\n",
    "                        year = '2016' if is_2016 else '2020'\n",
    "                        df.loc[len(df)] = [apn, year, polygon_4326]\n",
    "#             if show:\n",
    "#                 plt.show()\n",
    "#             else:\n",
    "#                 plt.clf()           \n",
    "                            \n",
    "        else:\n",
    "            #print(apn)\n",
    "            assert parcel_label['annotationsCount'] == 0"
   ]
  },
  {
   "cell_type": "code",
   "execution_count": 33,
   "id": "e2b75995",
   "metadata": {},
   "outputs": [
    {
     "data": {
      "text/html": [
       "<div>\n",
       "<style scoped>\n",
       "    .dataframe tbody tr th:only-of-type {\n",
       "        vertical-align: middle;\n",
       "    }\n",
       "\n",
       "    .dataframe tbody tr th {\n",
       "        vertical-align: top;\n",
       "    }\n",
       "\n",
       "    .dataframe thead th {\n",
       "        text-align: right;\n",
       "    }\n",
       "</style>\n",
       "<table border=\"1\" class=\"dataframe\">\n",
       "  <thead>\n",
       "    <tr style=\"text-align: right;\">\n",
       "      <th></th>\n",
       "      <th>apn</th>\n",
       "      <th>year</th>\n",
       "      <th>geometry</th>\n",
       "    </tr>\n",
       "  </thead>\n",
       "  <tbody>\n",
       "    <tr>\n",
       "      <th>0</th>\n",
       "      <td>29930028</td>\n",
       "      <td>2020</td>\n",
       "      <td>POLYGON ((-121.96207624609107 37.3102504769624...</td>\n",
       "    </tr>\n",
       "    <tr>\n",
       "      <th>1</th>\n",
       "      <td>29930028</td>\n",
       "      <td>2016</td>\n",
       "      <td>POLYGON ((-121.96206274349876 37.3102476544563...</td>\n",
       "    </tr>\n",
       "    <tr>\n",
       "      <th>2</th>\n",
       "      <td>42910002</td>\n",
       "      <td>2016</td>\n",
       "      <td>POLYGON ((-121.90617964241505 37.3042604483126...</td>\n",
       "    </tr>\n",
       "    <tr>\n",
       "      <th>3</th>\n",
       "      <td>42910002</td>\n",
       "      <td>2020</td>\n",
       "      <td>POLYGON ((-121.90618971791973 37.3042659495596...</td>\n",
       "    </tr>\n",
       "    <tr>\n",
       "      <th>4</th>\n",
       "      <td>44626008</td>\n",
       "      <td>2016</td>\n",
       "      <td>POLYGON ((-121.9037079017131 37.28984656643558...</td>\n",
       "    </tr>\n",
       "  </tbody>\n",
       "</table>\n",
       "</div>"
      ],
      "text/plain": [
       "        apn  year                                           geometry\n",
       "0  29930028  2020  POLYGON ((-121.96207624609107 37.3102504769624...\n",
       "1  29930028  2016  POLYGON ((-121.96206274349876 37.3102476544563...\n",
       "2  42910002  2016  POLYGON ((-121.90617964241505 37.3042604483126...\n",
       "3  42910002  2020  POLYGON ((-121.90618971791973 37.3042659495596...\n",
       "4  44626008  2016  POLYGON ((-121.9037079017131 37.28984656643558..."
      ]
     },
     "execution_count": 33,
     "metadata": {},
     "output_type": "execute_result"
    }
   ],
   "source": [
    "df.head()"
   ]
  },
  {
   "cell_type": "code",
   "execution_count": 34,
   "id": "b358d377",
   "metadata": {},
   "outputs": [],
   "source": [
    "df = gpd.GeoDataFrame(df, crs='EPSG:4326')\n",
    "df['area'] = df.to_crs('EPSG:26910').geometry.area"
   ]
  },
  {
   "cell_type": "code",
   "execution_count": 35,
   "id": "3ca18e3c",
   "metadata": {},
   "outputs": [],
   "source": [
    "df.rename(columns={'apn': 'APN'}, inplace=True)"
   ]
  },
  {
   "cell_type": "code",
   "execution_count": 36,
   "id": "6931869d",
   "metadata": {},
   "outputs": [],
   "source": [
    "# Save df\n",
    "df.to_file(os.path.join(cf_fp, 'results', 'Batch1_48', 'extracted_poly'))"
   ]
  },
  {
   "cell_type": "markdown",
   "id": "3ccc4db7",
   "metadata": {},
   "source": [
    "# Test parcels"
   ]
  },
  {
   "cell_type": "code",
   "execution_count": 7,
   "id": "2429e65e",
   "metadata": {},
   "outputs": [],
   "source": [
    "df = gpd.read_file(os.path.join(cf_fp, 'results', 'Batch1_48', 'extracted_poly'))"
   ]
  },
  {
   "cell_type": "code",
   "execution_count": 8,
   "id": "3870f3c1",
   "metadata": {},
   "outputs": [],
   "source": [
    "# Check parcels\n",
    "OAK_FP = '/oak/stanford/groups/deho/building_compliance/'\n",
    "sj_parcels_res = gpd.read_file(os.path.join(OAK_FP, 'outputs', 'Population-Estimates', 'outputs', 'sj-parcels-res-cbgs'))\n"
   ]
  },
  {
   "cell_type": "code",
   "execution_count": 15,
   "id": "0e033a32",
   "metadata": {},
   "outputs": [
    {
     "data": {
      "image/png": "[encoded data removed]",
      "text/plain": [
       "<Figure size 640x480 with 1 Axes>"
      ]
     },
     "metadata": {},
     "output_type": "display_data"
    }
   ],
   "source": [
    "parcel_apn='43422021'\n",
    "parcel_bounds = sj_parcels_res[sj_parcels_res['APN'] == parcel_apn]\n",
    "\n",
    "fig, ax = plt.subplots()\n",
    "parcel_bounds.plot(ax=ax, facecolor='none')\n",
    "df.loc[(df['APN'] == parcel_apn) & (df['year'] == '2016')].plot(ax=ax, color='red')\n",
    "df.loc[(df['APN'] == parcel_apn) & (df['year'] == '2020')].plot(ax=ax, color='blue', alpha=0.5)\n",
    "\n",
    "ax.axis('off')\n",
    "plt.show()"
   ]
  },
  {
   "cell_type": "code",
   "execution_count": null,
   "id": "d9fd9331",
   "metadata": {},
   "outputs": [],
   "source": []
  }
 ],
 "metadata": {
  "kernelspec": {
   "display_name": "Python 3",
   "language": "python",
   "name": "python3"
  },
  "language_info": {
   "codemirror_mode": {
    "name": "ipython",
    "version": 3
   },
   "file_extension": ".py",
   "mimetype": "text/x-python",
   "name": "python",
   "nbconvert_exporter": "python",
   "pygments_lexer": "ipython3",
   "version": "3.8.10"
  }
 },
 "nbformat": 4,
 "nbformat_minor": 5
}
