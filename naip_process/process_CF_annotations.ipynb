{
 "cells": [
  {
   "cell_type": "code",
   "execution_count": 2,
   "id": "46f66e3b",
   "metadata": {},
   "outputs": [],
   "source": [
    "import json\n",
    "import numpy as np\n",
    "import os"
   ]
  },
  {
   "cell_type": "code",
   "execution_count": 15,
   "id": "08632dcd",
   "metadata": {},
   "outputs": [],
   "source": [
    "file_path = 'data/CF_exports/2020'"
   ]
  },
  {
   "cell_type": "code",
   "execution_count": 19,
   "id": "c8233c42",
   "metadata": {},
   "outputs": [
    {
     "name": "stdout",
     "output_type": "stream",
     "text": [
      "3 0 0\n"
     ]
    }
   ],
   "source": [
    "for i in os.listdir(file_path):\n",
    "    if i.split('-')[0] in ['m_3712150_ne_10_060_20200525_229', 'm_3712141_nw_10_060_20200525_385']:\n",
    "        tp = 0\n",
    "        fp = 0\n",
    "        fn = 0 # building missed\n",
    "        with open(os.path.join(file_path, i), 'r') as f:\n",
    "            tile_label = json.load(f)\n",
    "            if tile_label['annotated']:\n",
    "                assert tile_label[\"annotationsCount\"] > 0\n",
    "                assert tile_label[\"annotationsCount\"] == len(tile_label['annotations'])\n",
    "\n",
    "                for label in tile_label['annotations']:\n",
    "                    if label['label'] == 'model_found_new_building':\n",
    "                        tp += 1\n",
    "                    elif label['label'] == 'building_missed_by_model':\n",
    "                        fn += 1\n",
    "                    elif label['label'] == 'model_found_building':\n",
    "                        tp += 1\n",
    "            else:\n",
    "                assert tile_label['annotationsCount'] == 0\n",
    "\n",
    "        print(tp, fp, fn)\n",
    "#         print(tile_label)\n",
    "#     break"
   ]
  },
  {
   "cell_type": "code",
   "execution_count": null,
   "id": "d4c566f2",
   "metadata": {},
   "outputs": [],
   "source": []
  }
 ],
 "metadata": {
  "kernelspec": {
   "display_name": "Python 3",
   "language": "python",
   "name": "python3"
  },
  "language_info": {
   "codemirror_mode": {
    "name": "ipython",
    "version": 3
   },
   "file_extension": ".py",
   "mimetype": "text/x-python",
   "name": "python",
   "nbconvert_exporter": "python",
   "pygments_lexer": "ipython3",
   "version": "3.8.8"
  }
 },
 "nbformat": 4,
 "nbformat_minor": 5
}
