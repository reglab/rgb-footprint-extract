{
 "cells": [
  {
   "cell_type": "markdown",
   "id": "febc202b",
   "metadata": {},
   "source": [
    "# Population Estimates: Process existing Cloud Factory annotations\n",
    "\n",
    "We submitted ~700 tiles for CF to review prior to performing the population estimates. These tiles covered the same geographic areas for 2016, 2018 and 2020, and were sampled via random sampling stratified at the CBG-level. For this reason, although a CBG may not have been fully reviewed by CF, we assume that the 1 or 2 tiles reviewed for the CBG are representative of the small building density (number of small buildings per parcel) for the CBG. "
   ]
  },
  {
   "cell_type": "code",
   "execution_count": 1,
   "id": "255193ae",
   "metadata": {},
   "outputs": [],
   "source": [
    "import seaborn as sns\n",
    "from tqdm import tqdm\n",
    "\n",
    "import warnings\n",
    "warnings.simplefilter(action='ignore', category=FutureWarning)\n",
    "warnings.filterwarnings(\"ignore\")\n",
    "\n",
    "tqdm.pandas()"
   ]
  },
  {
   "cell_type": "code",
   "execution_count": 2,
   "id": "d87f2ff4",
   "metadata": {},
   "outputs": [],
   "source": [
    "# Import functions\n",
    "%run inference-functions.ipynb import load_data, get_bounds, assign_cbgs, visualize_tile_predvOSM, assign_cbgs_by_coverage\n",
    "%run ADU_permit_matching-polygon-pipeline.ipynb import load_sources"
   ]
  },
  {
   "cell_type": "code",
   "execution_count": 3,
   "id": "0e295730",
   "metadata": {},
   "outputs": [
    {
     "name": "stderr",
     "output_type": "stream",
     "text": [
      "100%|██████████| 3192/3192 [00:00<00:00, 16430.43it/s]\n",
      "100%|██████████| 3192/3192 [00:00<00:00, 16984.74it/s]\n",
      "100%|██████████| 3324/3324 [00:00<00:00, 16364.85it/s]\n"
     ]
    }
   ],
   "source": [
    "# Paths\n",
    "OAK_FP = '/oak/stanford/groups/deho/building_compliance/'\n",
    "SHAPEFILE_FP = '/oak/stanford/groups/deho/building_compliance/shapefiles'\n",
    "INPUT_FP = os.path.join(OAK_FP, 'outputs', 'Population-Estimates', 'inputs')\n",
    "OUTPUT_FP = os.path.join(OAK_FP, 'outputs', 'Population-Estimates', 'outputs')\n",
    "PERMIT_INPUT_FP = os.path.join(OAK_FP, 'outputs', 'Permit-Matching', 'inputs')\n",
    "\n",
    "# Load sources for each year\n",
    "TIF_FP, INFERENCES_DIR, IMG_FP = load_sources()\n",
    "tile_bounds_dict_all, tiles_gdf = get_tile_dicts_all_years(oak_fp=OAK_FP, inferences_dir=INFERENCES_DIR)\n",
    "\n",
    "# * Universe of SJ res parcels assigned to each CBG\n",
    "sj_parcels_cbgs = gpd.read_file(os.path.join(OUTPUT_FP, 'sj-parcels-res-cbgs'))\n",
    "\n",
    "# * CF annotations\n",
    "CF_LABELS = pd.read_csv(os.path.join(OAK_FP, 'CloudFactory_phase1/cf_coords.csv'))\n",
    "\n",
    "# * Income-stratified CBGs (from Pop-Estimates-Strata.ipynb)\n",
    "cbg_income_2016_SJ = gpd.read_file(os.path.join(OUTPUT_FP, 'Strata', 'cbg-income-strata'))\n",
    "\n",
    "# * San Jose permit data\n",
    "permits = pd.read_csv(os.path.join(OAK_FP, 'outputs/Permit-Matching/outputs/all_permits.csv'))\n",
    "permits['geometry_permit'] = gpd.GeoSeries.from_wkt(permits['geometry_permit'])\n",
    "\n",
    "# * Building footprints (to correct CF labels on tile edges)\n",
    "#building_footprints_infer = {}\n",
    "#for year in ['2016', '2018', '2020']:\n",
    "#    building_footprints_infer[year] = gpd.read_file(\n",
    "#        os.path.join(OAK_FP, 'outputs/cbg-inference-{}/inference_building_processed'.format(year)))"
   ]
  },
  {
   "cell_type": "markdown",
   "id": "80b13f27",
   "metadata": {},
   "source": [
    "## 1. Identify the universe of parcels annotated by CF\n",
    "\n",
    "CF_parcels contains the 18k parcels that were reviewed by Cloud Factory in 2016, 2018 and 2020. "
   ]
  },
  {
   "cell_type": "code",
   "execution_count": 4,
   "id": "959cf2c0",
   "metadata": {},
   "outputs": [],
   "source": [
    "# Convert to GDF\n",
    "CF_LABELS = gpd.GeoDataFrame(\n",
    "    CF_LABELS, geometry=gpd.points_from_xy(CF_LABELS.longitude, CF_LABELS.latitude), crs='EPSG:4326')"
   ]
  },
  {
   "cell_type": "code",
   "execution_count": 5,
   "id": "82b67e5a",
   "metadata": {},
   "outputs": [],
   "source": [
    "# Collect tile names\n",
    "CF_tiles = []\n",
    "for cf_round in [1, 2]:\n",
    "    round_path = os.path.join(\n",
    "        OAK_FP, 'outputs/Temporal-Error-Analysis/Round{}/CF_Visualizations/2018'.format(cf_round))\n",
    "    round_tiles = glob.glob(os.path.join(round_path, '*.png'))\n",
    "    round_tiles = [tile.split(os.path.sep)[-1].replace('-small_2018.png', '') for tile in round_tiles]\n",
    "    CF_tiles.extend(round_tiles)"
   ]
  },
  {
   "cell_type": "code",
   "execution_count": 6,
   "id": "40c67f79",
   "metadata": {},
   "outputs": [],
   "source": [
    "# Collect tile geometries\n",
    "CF_area_coverage = tiles_gdf['2020'].copy()\n",
    "CF_area_coverage = CF_area_coverage.loc[CF_area_coverage['file'].isin(CF_tiles)]\n",
    "CF_area_coverage.to_file(os.path.join(OUTPUT_FP, 'R0_CF_Annotations', 'CF_area_coverage'))"
   ]
  },
  {
   "cell_type": "code",
   "execution_count": 7,
   "id": "667ba930",
   "metadata": {},
   "outputs": [],
   "source": [
    "# Collect associated parcels\n",
    "CF_parcels = sj_parcels_cbgs.sjoin(CF_area_coverage, how='left', predicate='intersects')\n",
    "CF_parcels = CF_parcels.loc[~CF_parcels['index_right'].isna()]\n",
    "CF_parcels.drop('index_right', axis=1, inplace=True)\n",
    "\n",
    "# Drop duplicate parcels (these are caused by parcels that belong to more than 1 tile)\n",
    "CF_parcels.drop_duplicates('APN', inplace=True)\n",
    "CF_parcels.drop('file', axis=1, inplace=True)"
   ]
  },
  {
   "cell_type": "code",
   "execution_count": 92,
   "id": "55b9ed2b",
   "metadata": {},
   "outputs": [
    {
     "data": {
      "text/plain": [
       "16771"
      ]
     },
     "execution_count": 92,
     "metadata": {},
     "output_type": "execute_result"
    }
   ],
   "source": [
    "# CF annotated 17,973 (16,771 after residential and area filtering) unique parcels\n",
    "# in total, for three years\n",
    "len(CF_parcels)"
   ]
  },
  {
   "cell_type": "code",
   "execution_count": 9,
   "id": "3d16fcf1",
   "metadata": {},
   "outputs": [
    {
     "data": {
      "text/html": [
       "<div>\n",
       "<style scoped>\n",
       "    .dataframe tbody tr th:only-of-type {\n",
       "        vertical-align: middle;\n",
       "    }\n",
       "\n",
       "    .dataframe tbody tr th {\n",
       "        vertical-align: top;\n",
       "    }\n",
       "\n",
       "    .dataframe thead th {\n",
       "        text-align: right;\n",
       "    }\n",
       "</style>\n",
       "<table border=\"1\" class=\"dataframe\">\n",
       "  <thead>\n",
       "    <tr style=\"text-align: right;\">\n",
       "      <th></th>\n",
       "      <th>latitude</th>\n",
       "      <th>longitude</th>\n",
       "      <th>year</th>\n",
       "      <th>label</th>\n",
       "      <th>geometry</th>\n",
       "    </tr>\n",
       "  </thead>\n",
       "  <tbody>\n",
       "    <tr>\n",
       "      <th>0</th>\n",
       "      <td>37.347625</td>\n",
       "      <td>-121.875469</td>\n",
       "      <td>2016</td>\n",
       "      <td>model_found_building</td>\n",
       "      <td>POINT (-121.87547 37.34763)</td>\n",
       "    </tr>\n",
       "    <tr>\n",
       "      <th>1</th>\n",
       "      <td>37.346976</td>\n",
       "      <td>-121.874903</td>\n",
       "      <td>2016</td>\n",
       "      <td>model_found_building</td>\n",
       "      <td>POINT (-121.87490 37.34698)</td>\n",
       "    </tr>\n",
       "    <tr>\n",
       "      <th>2</th>\n",
       "      <td>37.347096</td>\n",
       "      <td>-121.874989</td>\n",
       "      <td>2016</td>\n",
       "      <td>model_found_building</td>\n",
       "      <td>POINT (-121.87499 37.34710)</td>\n",
       "    </tr>\n",
       "    <tr>\n",
       "      <th>3</th>\n",
       "      <td>37.348262</td>\n",
       "      <td>-121.874701</td>\n",
       "      <td>2016</td>\n",
       "      <td>model_found_building</td>\n",
       "      <td>POINT (-121.87470 37.34826)</td>\n",
       "    </tr>\n",
       "    <tr>\n",
       "      <th>4</th>\n",
       "      <td>37.346881</td>\n",
       "      <td>-121.877431</td>\n",
       "      <td>2016</td>\n",
       "      <td>model_found_building</td>\n",
       "      <td>POINT (-121.87743 37.34688)</td>\n",
       "    </tr>\n",
       "  </tbody>\n",
       "</table>\n",
       "</div>"
      ],
      "text/plain": [
       "    latitude   longitude  year                 label  \\\n",
       "0  37.347625 -121.875469  2016  model_found_building   \n",
       "1  37.346976 -121.874903  2016  model_found_building   \n",
       "2  37.347096 -121.874989  2016  model_found_building   \n",
       "3  37.348262 -121.874701  2016  model_found_building   \n",
       "4  37.346881 -121.877431  2016  model_found_building   \n",
       "\n",
       "                      geometry  \n",
       "0  POINT (-121.87547 37.34763)  \n",
       "1  POINT (-121.87490 37.34698)  \n",
       "2  POINT (-121.87499 37.34710)  \n",
       "3  POINT (-121.87470 37.34826)  \n",
       "4  POINT (-121.87743 37.34688)  "
      ]
     },
     "execution_count": 9,
     "metadata": {},
     "output_type": "execute_result"
    }
   ],
   "source": [
    "CF_LABELS.head()"
   ]
  },
  {
   "cell_type": "code",
   "execution_count": 10,
   "id": "74acc581",
   "metadata": {},
   "outputs": [
    {
     "name": "stdout",
     "output_type": "stream",
     "text": [
      "[INFO] Cloud factory area coverage (blue) and Cloud Factory small building annotations\n"
     ]
    },
    {
     "data": {
      "image/png": "[encoded data removed]",
      "text/plain": [
       "<Figure size 1000x1000 with 1 Axes>"
      ]
     },
     "metadata": {},
     "output_type": "display_data"
    }
   ],
   "source": [
    "print('[INFO] Cloud factory area coverage (blue) and Cloud Factory small building annotations')\n",
    "fig, ax = plt.subplots(figsize=(10, 10))\n",
    "CF_area_coverage.plot(ax=ax)\n",
    "CF_LABELS.loc[CF_LABELS['year'] == 2020].plot(ax=ax, markersize=0.5, color='yellow')\n",
    "CF_LABELS.loc[CF_LABELS['year'] == 2016].plot(ax=ax, markersize=0.5, color='magenta')\n",
    "#CF_LABELS.loc[CF_LABELS['year'] == 2018].plot(ax=ax, markersize=0.5, color='red')\n",
    "ax.axis('off')\n",
    "plt.show()"
   ]
  },
  {
   "cell_type": "code",
   "execution_count": 8,
   "id": "76bb119e",
   "metadata": {},
   "outputs": [],
   "source": [
    "# Get neighborhood shapefiles\n",
    "neighborhoods = cbg_income_2016_SJ.dissolve('neighborho').reset_index()\n",
    "neighborhoods = neighborhoods[['neighborho', 'geometry']]"
   ]
  },
  {
   "cell_type": "code",
   "execution_count": 10,
   "id": "c81c795d",
   "metadata": {},
   "outputs": [
    {
     "data": {
      "image/png": "[encoded data removed]",
      "text/plain": [
       "<Figure size 640x480 with 1 Axes>"
      ]
     },
     "metadata": {},
     "output_type": "display_data"
    }
   ],
   "source": [
    "# Visualize neighborhoods\n",
    "fig, ax = plt.subplots()\n",
    "neighborhoods.loc[neighborhoods['neighborho'] == 'low'].plot(ax=ax, color='red')\n",
    "neighborhoods.loc[neighborhoods['neighborho'] == 'high'].plot(ax=ax, color='blue')\n",
    "ax.axis('off')\n",
    "plt.show()"
   ]
  },
  {
   "cell_type": "code",
   "execution_count": 9,
   "id": "0fee5371",
   "metadata": {},
   "outputs": [],
   "source": [
    "# Add neighborhood to CF_parcels\n",
    "CF_parcels = pd.merge(\n",
    "    CF_parcels, cbg_income_2016_SJ[['GEOID', 'neighborho']], how='left', validate='many_to_one'\n",
    ")"
   ]
  },
  {
   "cell_type": "code",
   "execution_count": 14,
   "id": "2ceab514",
   "metadata": {},
   "outputs": [
    {
     "data": {
      "text/html": [
       "<div>\n",
       "<style scoped>\n",
       "    .dataframe tbody tr th:only-of-type {\n",
       "        vertical-align: middle;\n",
       "    }\n",
       "\n",
       "    .dataframe tbody tr th {\n",
       "        vertical-align: top;\n",
       "    }\n",
       "\n",
       "    .dataframe thead th {\n",
       "        text-align: right;\n",
       "    }\n",
       "</style>\n",
       "<table border=\"1\" class=\"dataframe\">\n",
       "  <thead>\n",
       "    <tr style=\"text-align: right;\">\n",
       "      <th></th>\n",
       "      <th>neighborho</th>\n",
       "      <th>APN</th>\n",
       "    </tr>\n",
       "  </thead>\n",
       "  <tbody>\n",
       "    <tr>\n",
       "      <th>0</th>\n",
       "      <td>high</td>\n",
       "      <td>8059</td>\n",
       "    </tr>\n",
       "    <tr>\n",
       "      <th>1</th>\n",
       "      <td>low</td>\n",
       "      <td>8712</td>\n",
       "    </tr>\n",
       "  </tbody>\n",
       "</table>\n",
       "</div>"
      ],
      "text/plain": [
       "  neighborho   APN\n",
       "0       high  8059\n",
       "1        low  8712"
      ]
     },
     "execution_count": 14,
     "metadata": {},
     "output_type": "execute_result"
    }
   ],
   "source": [
    "# Number of parcels reviewed in each neighborhood type\n",
    "# CF annotations have higher parcels in low-income neighborhood\n",
    "CF_parcels.groupby('neighborho')['APN'].count().reset_index()"
   ]
  },
  {
   "cell_type": "markdown",
   "id": "e2be4336",
   "metadata": {},
   "source": [
    "## 2. Remove CF annotations allowing for large buildings on tile edges\n",
    "We remove annotations classified as model_found_building that are actually large buildings in our building footprints. \n",
    "\n",
    "This strategy doesn't seem to work too well--picks up on some large buildings but several small buildings as well (perhaps due to mistakes in model inferences?) and fails to drop most large buildings, especially in earlier years. "
   ]
  },
  {
   "cell_type": "code",
   "execution_count": 12,
   "id": "2a68b84d",
   "metadata": {},
   "outputs": [
    {
     "name": "stdout",
     "output_type": "stream",
     "text": [
      "<class 'geopandas.geodataframe.GeoDataFrame'>\n",
      "RangeIndex: 8943 entries, 0 to 8942\n",
      "Data columns (total 5 columns):\n",
      " #   Column     Non-Null Count  Dtype   \n",
      "---  ------     --------------  -----   \n",
      " 0   latitude   8943 non-null   float64 \n",
      " 1   longitude  8943 non-null   float64 \n",
      " 2   year       8943 non-null   int64   \n",
      " 3   label      8943 non-null   object  \n",
      " 4   geometry   8943 non-null   geometry\n",
      "dtypes: float64(2), geometry(1), int64(1), object(1)\n",
      "memory usage: 349.5+ KB\n"
     ]
    }
   ],
   "source": [
    "# For this universe of parcels, CF annotated 8,943 points related to potential\n",
    "# small buildings (across all three yearss). Potential because large buildings \n",
    "# on tile edges were classified\n",
    "# by CF as \"mode_found_building\" so as to not penalize model performance for this \n",
    "# tile clipping effect.\n",
    "CF_LABELS.info()"
   ]
  },
  {
   "cell_type": "code",
   "execution_count": 15,
   "id": "72187244",
   "metadata": {},
   "outputs": [],
   "source": [
    "# Get large buildings for each year\n",
    "#large_bfi = gpd.GeoDataFrame()\n",
    "#for year, gdf in building_footprints_infer.items():\n",
    "#    gdf['year'] = year\n",
    "#    large_bfi = pd.concat([large_bfi, gdf])\n",
    "#large_bfi = large_bfi.loc[large_bfi['small'] == 0]"
   ]
  },
  {
   "cell_type": "code",
   "execution_count": 16,
   "id": "09b474f0",
   "metadata": {},
   "outputs": [],
   "source": [
    "# Remove CF Labels of type \"model_found_building\" that reside on large buildings\n",
    "#CF_LABELS_p1 = CF_LABELS.loc[CF_LABELS['label'] != 'model_found_building'].copy()\n",
    "#CF_LABELS_p2 = CF_LABELS.loc[CF_LABELS['label'] == 'model_found_building'].copy()"
   ]
  },
  {
   "cell_type": "code",
   "execution_count": 19,
   "id": "8cb01d8b",
   "metadata": {},
   "outputs": [
    {
     "name": "stdout",
     "output_type": "stream",
     "text": [
      "[INFO] Year: 2020\n",
      "[INFO] Number of labels: 2222\n",
      "[INFO] Number of labels after dropping large buildings: 2152\n"
     ]
    }
   ],
   "source": [
    "#CF_LABELS_p2_corrected = gpd.GeoDataFrame()\n",
    "#for year in ['2016', '2018', '2020']:\n",
    "#    print('[INFO] Year: {}'.format(year))\n",
    "#    cf_labels_year = CF_LABELS_p2.loc[CF_LABELS_p2['year'] == int(year)].copy()\n",
    "#    large_bfi_year = large_bfi.loc[large_bfi['year'] == year].copy()\n",
    "    \n",
    "#    # Check for overlap with large buildings\n",
    "#    n_labels = len(cf_labels_year)\n",
    "#    print('[INFO] Number of labels: {}'.format(n_labels))\n",
    "#    cf_labels_year = cf_labels_year.sjoin(\n",
    "#        large_bfi_year[['geometry']], how='left', predicate='intersects')\n",
    "    \n",
    "#    assert len(cf_labels_year) == n_labels\n",
    "    \n",
    "    # Keep annotations that do not overlap with a large building\n",
    "#    a = cf_labels_year.loc[~cf_labels_year['index_right'].isna()]\n",
    "#    cf_labels_year = cf_labels_year.loc[cf_labels_year['index_right'].isna()]\n",
    "\n",
    "#    print('[INFO] Number of labels after dropping large buildings: {}'.format(len(cf_labels_year)))\n",
    "    \n",
    "    # Append to corrected dataframe\n",
    "#    CF_LABELS_p2_corrected = pd.concat([CF_LABELS_p2_corrected, cf_labels_year])"
   ]
  },
  {
   "cell_type": "code",
   "execution_count": 22,
   "id": "a07ecda1",
   "metadata": {},
   "outputs": [
    {
     "data": {
      "text/html": [
       "<div>\n",
       "<style scoped>\n",
       "    .dataframe tbody tr th:only-of-type {\n",
       "        vertical-align: middle;\n",
       "    }\n",
       "\n",
       "    .dataframe tbody tr th {\n",
       "        vertical-align: top;\n",
       "    }\n",
       "\n",
       "    .dataframe thead th {\n",
       "        text-align: right;\n",
       "    }\n",
       "</style>\n",
       "<table border=\"1\" class=\"dataframe\">\n",
       "  <thead>\n",
       "    <tr style=\"text-align: right;\">\n",
       "      <th></th>\n",
       "      <th>latitude</th>\n",
       "      <th>longitude</th>\n",
       "      <th>year</th>\n",
       "      <th>label</th>\n",
       "      <th>geometry</th>\n",
       "      <th>index_right</th>\n",
       "    </tr>\n",
       "  </thead>\n",
       "  <tbody>\n",
       "    <tr>\n",
       "      <th>119</th>\n",
       "      <td>37.346789</td>\n",
       "      <td>-121.874526</td>\n",
       "      <td>2020</td>\n",
       "      <td>model_found_building</td>\n",
       "      <td>POINT (-121.87453 37.34679)</td>\n",
       "      <td>202299.0</td>\n",
       "    </tr>\n",
       "    <tr>\n",
       "      <th>140</th>\n",
       "      <td>37.207648</td>\n",
       "      <td>-121.830395</td>\n",
       "      <td>2020</td>\n",
       "      <td>model_found_building</td>\n",
       "      <td>POINT (-121.83040 37.20765)</td>\n",
       "      <td>142993.0</td>\n",
       "    </tr>\n",
       "    <tr>\n",
       "      <th>591</th>\n",
       "      <td>37.306186</td>\n",
       "      <td>-121.897636</td>\n",
       "      <td>2020</td>\n",
       "      <td>model_found_building</td>\n",
       "      <td>POINT (-121.89764 37.30619)</td>\n",
       "      <td>88691.0</td>\n",
       "    </tr>\n",
       "    <tr>\n",
       "      <th>726</th>\n",
       "      <td>37.298945</td>\n",
       "      <td>-121.884426</td>\n",
       "      <td>2020</td>\n",
       "      <td>model_found_building</td>\n",
       "      <td>POINT (-121.88443 37.29895)</td>\n",
       "      <td>40765.0</td>\n",
       "    </tr>\n",
       "    <tr>\n",
       "      <th>1207</th>\n",
       "      <td>37.319417</td>\n",
       "      <td>-121.884598</td>\n",
       "      <td>2020</td>\n",
       "      <td>model_found_building</td>\n",
       "      <td>POINT (-121.88460 37.31942)</td>\n",
       "      <td>159794.0</td>\n",
       "    </tr>\n",
       "    <tr>\n",
       "      <th>...</th>\n",
       "      <td>...</td>\n",
       "      <td>...</td>\n",
       "      <td>...</td>\n",
       "      <td>...</td>\n",
       "      <td>...</td>\n",
       "      <td>...</td>\n",
       "    </tr>\n",
       "    <tr>\n",
       "      <th>8760</th>\n",
       "      <td>37.307936</td>\n",
       "      <td>-121.908437</td>\n",
       "      <td>2020</td>\n",
       "      <td>model_found_building</td>\n",
       "      <td>POINT (-121.90844 37.30794)</td>\n",
       "      <td>89626.0</td>\n",
       "    </tr>\n",
       "    <tr>\n",
       "      <th>8772</th>\n",
       "      <td>37.307948</td>\n",
       "      <td>-121.908565</td>\n",
       "      <td>2020</td>\n",
       "      <td>model_found_building</td>\n",
       "      <td>POINT (-121.90857 37.30795)</td>\n",
       "      <td>89626.0</td>\n",
       "    </tr>\n",
       "    <tr>\n",
       "      <th>8794</th>\n",
       "      <td>37.307954</td>\n",
       "      <td>-121.905180</td>\n",
       "      <td>2020</td>\n",
       "      <td>model_found_building</td>\n",
       "      <td>POINT (-121.90518 37.30795)</td>\n",
       "      <td>89512.0</td>\n",
       "    </tr>\n",
       "    <tr>\n",
       "      <th>8796</th>\n",
       "      <td>37.308852</td>\n",
       "      <td>-121.905167</td>\n",
       "      <td>2020</td>\n",
       "      <td>model_found_building</td>\n",
       "      <td>POINT (-121.90517 37.30885)</td>\n",
       "      <td>89455.0</td>\n",
       "    </tr>\n",
       "    <tr>\n",
       "      <th>8880</th>\n",
       "      <td>37.337032</td>\n",
       "      <td>-121.937641</td>\n",
       "      <td>2020</td>\n",
       "      <td>model_found_building</td>\n",
       "      <td>POINT (-121.93764 37.33703)</td>\n",
       "      <td>15228.0</td>\n",
       "    </tr>\n",
       "  </tbody>\n",
       "</table>\n",
       "<p>70 rows × 6 columns</p>\n",
       "</div>"
      ],
      "text/plain": [
       "       latitude   longitude  year                 label  \\\n",
       "119   37.346789 -121.874526  2020  model_found_building   \n",
       "140   37.207648 -121.830395  2020  model_found_building   \n",
       "591   37.306186 -121.897636  2020  model_found_building   \n",
       "726   37.298945 -121.884426  2020  model_found_building   \n",
       "1207  37.319417 -121.884598  2020  model_found_building   \n",
       "...         ...         ...   ...                   ...   \n",
       "8760  37.307936 -121.908437  2020  model_found_building   \n",
       "8772  37.307948 -121.908565  2020  model_found_building   \n",
       "8794  37.307954 -121.905180  2020  model_found_building   \n",
       "8796  37.308852 -121.905167  2020  model_found_building   \n",
       "8880  37.337032 -121.937641  2020  model_found_building   \n",
       "\n",
       "                         geometry  index_right  \n",
       "119   POINT (-121.87453 37.34679)     202299.0  \n",
       "140   POINT (-121.83040 37.20765)     142993.0  \n",
       "591   POINT (-121.89764 37.30619)      88691.0  \n",
       "726   POINT (-121.88443 37.29895)      40765.0  \n",
       "1207  POINT (-121.88460 37.31942)     159794.0  \n",
       "...                           ...          ...  \n",
       "8760  POINT (-121.90844 37.30794)      89626.0  \n",
       "8772  POINT (-121.90857 37.30795)      89626.0  \n",
       "8794  POINT (-121.90518 37.30795)      89512.0  \n",
       "8796  POINT (-121.90517 37.30885)      89455.0  \n",
       "8880  POINT (-121.93764 37.33703)      15228.0  \n",
       "\n",
       "[70 rows x 6 columns]"
      ]
     },
     "execution_count": 22,
     "metadata": {},
     "output_type": "execute_result"
    }
   ],
   "source": [
    "#a"
   ]
  },
  {
   "cell_type": "code",
   "execution_count": 22,
   "id": "9cd41b94",
   "metadata": {},
   "outputs": [],
   "source": [
    "# Concatenate with other two labels \n",
    "#CF_LABELS = pd.concat([CF_LABELS_p1, CF_LABELS_p2_corrected[CF_LABELS_p1.columns]])"
   ]
  },
  {
   "cell_type": "code",
   "execution_count": 35,
   "id": "c0ec7d6d",
   "metadata": {},
   "outputs": [
    {
     "name": "stdout",
     "output_type": "stream",
     "text": [
      "<class 'geopandas.geodataframe.GeoDataFrame'>\n",
      "RangeIndex: 8943 entries, 0 to 8942\n",
      "Data columns (total 5 columns):\n",
      " #   Column     Non-Null Count  Dtype   \n",
      "---  ------     --------------  -----   \n",
      " 0   latitude   8943 non-null   float64 \n",
      " 1   longitude  8943 non-null   float64 \n",
      " 2   year       8943 non-null   int64   \n",
      " 3   label      8943 non-null   object  \n",
      " 4   geometry   8943 non-null   geometry\n",
      "dtypes: float64(2), geometry(1), int64(1), object(1)\n",
      "memory usage: 349.5+ KB\n"
     ]
    }
   ],
   "source": [
    "CF_LABELS.info()"
   ]
  },
  {
   "cell_type": "code",
   "execution_count": 15,
   "id": "fdc0f277",
   "metadata": {},
   "outputs": [
    {
     "data": {
      "text/html": [
       "<div>\n",
       "<style scoped>\n",
       "    .dataframe tbody tr th:only-of-type {\n",
       "        vertical-align: middle;\n",
       "    }\n",
       "\n",
       "    .dataframe tbody tr th {\n",
       "        vertical-align: top;\n",
       "    }\n",
       "\n",
       "    .dataframe thead th {\n",
       "        text-align: right;\n",
       "    }\n",
       "</style>\n",
       "<table border=\"1\" class=\"dataframe\">\n",
       "  <thead>\n",
       "    <tr style=\"text-align: right;\">\n",
       "      <th></th>\n",
       "      <th>year</th>\n",
       "      <th>latitude</th>\n",
       "      <th>longitude</th>\n",
       "      <th>label</th>\n",
       "      <th>geometry</th>\n",
       "    </tr>\n",
       "  </thead>\n",
       "  <tbody>\n",
       "    <tr>\n",
       "      <th>0</th>\n",
       "      <td>2016</td>\n",
       "      <td>2869</td>\n",
       "      <td>2869</td>\n",
       "      <td>2869</td>\n",
       "      <td>2869</td>\n",
       "    </tr>\n",
       "    <tr>\n",
       "      <th>1</th>\n",
       "      <td>2018</td>\n",
       "      <td>2228</td>\n",
       "      <td>2228</td>\n",
       "      <td>2228</td>\n",
       "      <td>2228</td>\n",
       "    </tr>\n",
       "    <tr>\n",
       "      <th>2</th>\n",
       "      <td>2020</td>\n",
       "      <td>3846</td>\n",
       "      <td>3846</td>\n",
       "      <td>3846</td>\n",
       "      <td>3846</td>\n",
       "    </tr>\n",
       "  </tbody>\n",
       "</table>\n",
       "</div>"
      ],
      "text/plain": [
       "   year  latitude  longitude  label  geometry\n",
       "0  2016      2869       2869   2869      2869\n",
       "1  2018      2228       2228   2228      2228\n",
       "2  2020      3846       3846   3846      3846"
      ]
     },
     "execution_count": 15,
     "metadata": {},
     "output_type": "execute_result"
    }
   ],
   "source": [
    "# CF number of small buildings found in each year\n",
    "CF_LABELS.groupby('year').count().reset_index()"
   ]
  },
  {
   "cell_type": "markdown",
   "id": "12f58b6b",
   "metadata": {},
   "source": [
    "## 3. Compute parcel-level and CBG-level measures"
   ]
  },
  {
   "cell_type": "markdown",
   "id": "0bc6715b",
   "metadata": {},
   "source": [
    "### 3.1 Small building density"
   ]
  },
  {
   "cell_type": "code",
   "execution_count": 40,
   "id": "ab128d77",
   "metadata": {},
   "outputs": [],
   "source": [
    "cbg_density = pd.DataFrame()\n",
    "parcel_density = pd.DataFrame()\n",
    "for year in ['2016', '2018', '2020']:\n",
    "    parcel_density_year = CF_parcels.copy()\n",
    "    cf_labels_year = CF_LABELS.loc[CF_LABELS['year'] == int(year)]\n",
    "    \n",
    "    # Assign CF points to parcels\n",
    "    parcel_density_year = parcel_density_year.sjoin(cf_labels_year, how='left')\n",
    "    \n",
    "    # Parcel density\n",
    "    parcel_density_year = parcel_density_year.groupby(\n",
    "        ['APN', 'GEOID'])['index_right'].count().reset_index()\n",
    "    parcel_density_year['year'] = year\n",
    "    \n",
    "    # Aggregate at the CBG level (gives the mean density of the parcels reviewed by CF in a CBG)\n",
    "    cbg_density_year = parcel_density_year.groupby('GEOID').agg(\n",
    "        {'index_right': ['mean', 'std', 'count']}).reset_index()\n",
    "    cbg_density_year.columns = ['-'.join(l) if l[1] != '' else l[0] for l in cbg_density_year.columns]\n",
    "    \n",
    "    cbg_density_year.rename(columns={'index_right-mean': 'mean_density', \n",
    "                                     'index_right-std': 'std_density', \n",
    "                                    'index_right-count': 'N_parcels_sampled'}, inplace=True)\n",
    "    cbg_density_year['year'] = year\n",
    "    \n",
    "    # Append\n",
    "    cbg_density = pd.concat([cbg_density, cbg_density_year])\n",
    "    \n",
    "    parcel_density_year.rename(columns={'index_right': 'parcel_density'}, inplace=True)\n",
    "    parcel_density = pd.concat([parcel_density, parcel_density_year])"
   ]
  },
  {
   "cell_type": "code",
   "execution_count": 41,
   "id": "a576f002",
   "metadata": {},
   "outputs": [],
   "source": [
    "# Add neighborhood type\n",
    "cbg_density = pd.merge(\n",
    "    cbg_density, cbg_income_2016_SJ[['GEOID', 'neighborho', 'geometry']], how='left', \n",
    "    validate='many_to_one')\n",
    "\n",
    "parcel_density = pd.merge(\n",
    "    parcel_density, cbg_income_2016_SJ[['GEOID', 'neighborho']], how='left', validate='many_to_one'\n",
    ")"
   ]
  },
  {
   "cell_type": "code",
   "execution_count": 90,
   "id": "412efe73",
   "metadata": {},
   "outputs": [],
   "source": [
    "# Save\n",
    "parcel_density.to_csv(os.path.join(OUTPUT_FP, 'R0_CF_Annotations', 'parcel_density.csv'), index=False)\n",
    "\n",
    "cbg_density['GEOID'] = cbg_density['GEOID'].astype(str)\n",
    "cbg_density[['GEOID', 'mean_density', 'std_density', 'N_parcels_sampled', 'year', 'neighborho']].to_csv(\n",
    "    os.path.join(OUTPUT_FP, 'R0_CF_Annotations', 'cbg_density.csv'), index=False)"
   ]
  },
  {
   "cell_type": "markdown",
   "id": "8ef67470",
   "metadata": {},
   "source": [
    "The total growth in small buildings in this area per CF annotations is 963 added small buildings from 2016 to 2020, 362 in high income neighborhoods and 601 in low income neighborhoods."
   ]
  },
  {
   "cell_type": "code",
   "execution_count": 26,
   "id": "950f96c3",
   "metadata": {},
   "outputs": [
    {
     "data": {
      "text/html": [
       "<div>\n",
       "<style scoped>\n",
       "    .dataframe tbody tr th:only-of-type {\n",
       "        vertical-align: middle;\n",
       "    }\n",
       "\n",
       "    .dataframe tbody tr th {\n",
       "        vertical-align: top;\n",
       "    }\n",
       "\n",
       "    .dataframe thead tr th {\n",
       "        text-align: left;\n",
       "    }\n",
       "</style>\n",
       "<table border=\"1\" class=\"dataframe\">\n",
       "  <thead>\n",
       "    <tr>\n",
       "      <th></th>\n",
       "      <th>neighborho</th>\n",
       "      <th colspan=\"3\" halign=\"left\">parcel_density</th>\n",
       "    </tr>\n",
       "    <tr>\n",
       "      <th>year</th>\n",
       "      <th></th>\n",
       "      <th>2016</th>\n",
       "      <th>2018</th>\n",
       "      <th>2020</th>\n",
       "    </tr>\n",
       "  </thead>\n",
       "  <tbody>\n",
       "    <tr>\n",
       "      <th>0</th>\n",
       "      <td>high</td>\n",
       "      <td>1161</td>\n",
       "      <td>812</td>\n",
       "      <td>1523</td>\n",
       "    </tr>\n",
       "    <tr>\n",
       "      <th>1</th>\n",
       "      <td>low</td>\n",
       "      <td>1664</td>\n",
       "      <td>1383</td>\n",
       "      <td>2265</td>\n",
       "    </tr>\n",
       "  </tbody>\n",
       "</table>\n",
       "</div>"
      ],
      "text/plain": [
       "     neighborho parcel_density            \n",
       "year                      2016  2018  2020\n",
       "0          high           1161   812  1523\n",
       "1           low           1664  1383  2265"
      ]
     },
     "execution_count": 26,
     "metadata": {},
     "output_type": "execute_result"
    }
   ],
   "source": [
    "# Parcel-level small building stats\n",
    "a = parcel_density.groupby(['year', 'neighborho'])['parcel_density'].sum().reset_index()\n",
    "a.pivot(index='neighborho', columns='year').reset_index()"
   ]
  },
  {
   "cell_type": "markdown",
   "id": "1341bf6d",
   "metadata": {},
   "source": [
    "### 3.2 Small building growth\n",
    "Note: We assume there are no small building demolitions. I.e., we simply have to check whether small buildings in 2020 existed in 2016. "
   ]
  },
  {
   "cell_type": "code",
   "execution_count": 42,
   "id": "2695f185",
   "metadata": {},
   "outputs": [],
   "source": [
    "\"\"\"\n",
    "apn = '23031033'\n",
    "CF_parcel = CF_parcels.loc[CF_parcels['APN'] == apn].copy()\n",
    "\n",
    "CF_parcel_labels = CF_LABELS.sjoin(CF_parcel, how='left', predicate='intersects').copy()\n",
    "CF_parcel_labels = CF_parcel_labels.loc[~CF_parcel_labels['index_right'].isna()]\n",
    "CF_parcel_labels = CF_parcel_labels.loc[CF_parcel_labels['year'] != 2018]\n",
    "CF_parcel_labels.drop('index_right', axis=1, inplace=True)\n",
    "\n",
    "# Check if the 2020 and 2016 buildings overlap\n",
    "parcel_2016 = CF_parcel_labels.loc[CF_parcel_labels['year'] == 2016].copy()\n",
    "parcel_2020 = CF_parcel_labels.loc[CF_parcel_labels['year'] == 2020].copy()\n",
    "parcel_2020.reset_index(inplace=True, drop=True)\n",
    "n_2020_builds = len(parcel_2020)\n",
    "\n",
    "parcel_2020.geometry = parcel_2020.to_crs('EPSG:26910').buffer(POINT_BUFFER).to_crs('EPSG:4326')\n",
    "parcel_2020 = parcel_2020.sjoin(parcel_2016[['geometry']], how='left', predicate='intersects')\n",
    "\n",
    "# Select only 2020 buildings that did not have a match in 2016\n",
    "#parcel_2020 = parcel_2020.loc[parcel_2020['index_right'].isna()]\n",
    "#parcel_2020 = parcel_2020.reset_index().drop_duplicates(subset='index')\n",
    "\n",
    "parcel_sbuild = parcel_2020.copy()\n",
    "parcel_sbuild = parcel_sbuild.reset_index().drop_duplicates(subset='index')\n",
    "\"\"\""
   ]
  },
  {
   "cell_type": "code",
   "execution_count": 10,
   "id": "05423357",
   "metadata": {
    "scrolled": false
   },
   "outputs": [
    {
     "name": "stdout",
     "output_type": "stream",
     "text": [
      "[INFO] Buffer: 3\n",
      "[INFO] Number of reviewed parcels: 0\n"
     ]
    },
    {
     "name": "stderr",
     "output_type": "stream",
     "text": [
      "16771it [2:42:32,  1.72it/s]\n"
     ]
    }
   ],
   "source": [
    "POINT_BUFFERS = [3]\n",
    "\n",
    "for POINT_BUFFER in POINT_BUFFERS:\n",
    "    print('[INFO] Buffer: {}'.format(POINT_BUFFER))\n",
    "\n",
    "    parcel_growth_path = os.path.join(\n",
    "        OUTPUT_FP, 'R0_CF_Annotations', 'parcel_growth_{}.csv'.format(POINT_BUFFER))\n",
    "    sbuild_2020_path = os.path.join(\n",
    "        OUTPUT_FP, 'R0_CF_Annotations', 'sbuild_2020_{}.csv'.format(POINT_BUFFER))\n",
    "    sbuild_2020_cols = ['latitude', 'longitude', 'year', 'new_sbuilding', 'APN', 'GEOID']\n",
    "    if not os.path.exists(parcel_growth_path) or not os.path.exists(sbuild_2020_path):\n",
    "        parcel_growth = pd.DataFrame()\n",
    "        sbuild_2020 = pd.DataFrame()\n",
    "        reviewed_parcels = []\n",
    "    else:\n",
    "        parcel_growth = pd.read_csv(parcel_growth_path)\n",
    "        sbuild_2020 = pd.read_csv(sbuild_2020_path)\n",
    "        reviewed_parcels = parcel_growth['APN'].unique()\n",
    "\n",
    "    print('[INFO] Number of reviewed parcels: {}'.format(len(reviewed_parcels)))\n",
    "    \n",
    "    for i, apn in tqdm(enumerate(CF_parcels['APN'].unique())):\n",
    "        if apn in reviewed_parcels:\n",
    "            continue\n",
    "\n",
    "        # Get annotations within the parcel\n",
    "        CF_parcel = CF_parcels.loc[CF_parcels['APN'] == apn].copy()\n",
    "\n",
    "        CF_parcel_labels = CF_LABELS.sjoin(CF_parcel, how='left', predicate='intersects').copy()\n",
    "        CF_parcel_labels = CF_parcel_labels.loc[~CF_parcel_labels['index_right'].isna()]\n",
    "        CF_parcel_labels = CF_parcel_labels.loc[CF_parcel_labels['year'] != 2018]\n",
    "        CF_parcel_labels.drop('index_right', axis=1, inplace=True)\n",
    "\n",
    "        # Edge cases: no buildings in 2020, or no buildings in 2016\n",
    "        if 2020 not in CF_parcel_labels['year'].unique():\n",
    "            parcel_new_build = pd.DataFrame.from_dict({'APN': [apn], 'new_small_build': [0]})\n",
    "\n",
    "        if 2016 not in CF_parcel_labels['year'].unique():\n",
    "            # Compute number of new small buildings and append\n",
    "            parcel_new_build = pd.DataFrame.from_dict(\n",
    "                {'APN': [apn], 'new_small_build': [len(CF_parcel_labels)]})\n",
    "            CF_parcel_labels['new_sbuilding'] = True\n",
    "            parcel_sbuild = CF_parcel_labels[sbuild_2020_cols].copy()\n",
    "        \n",
    "        if 2020 in CF_parcel_labels['year'].unique() and 2016 in CF_parcel_labels['year'].unique():\n",
    "            # Check if the 2020 and 2016 buildings overlap\n",
    "            parcel_2016 = CF_parcel_labels.loc[CF_parcel_labels['year'] == 2016].copy()\n",
    "            parcel_2020 = CF_parcel_labels.loc[CF_parcel_labels['year'] == 2020].copy()\n",
    "            parcel_2020.reset_index(inplace=True, drop=True)\n",
    "            parcel_2020['index'] = parcel_2020.index\n",
    "            n_2020_builds = len(parcel_2020)\n",
    "\n",
    "            parcel_2020.geometry = parcel_2020.to_crs('EPSG:26910').buffer(POINT_BUFFER).to_crs('EPSG:4326')\n",
    "            parcel_2020 = parcel_2020.sjoin(parcel_2016[['geometry']], how='left', predicate='intersects')\n",
    "            parcel_2020['new_sbuilding'] = parcel_2020['index_right'].isna()\n",
    "            parcel_2020.sort_values('new_sbuilding', ascending=False, inplace=True)\n",
    "            parcel_2020.drop_duplicates('index', keep='last', inplace=True)\n",
    "\n",
    "            # Get 2020 small buildings and define which are newly built\n",
    "            parcel_sbuild = parcel_2020.copy()\n",
    "            \n",
    "            # Select only 2020 buildings that did not have a match in 2016\n",
    "            parcel_2020 = parcel_2020.loc[parcel_2020['new_sbuilding'] == True]\n",
    "            parcel_new_build = pd.DataFrame.from_dict(\n",
    "                    {'APN': [apn], 'new_small_build': [len(parcel_2020)]})\n",
    "\n",
    "            assert len(parcel_2020) <= n_2020_builds\n",
    "            assert len(parcel_sbuild) <= n_2020_builds\n",
    "            \n",
    "        parcel_growth = pd.concat([parcel_growth, parcel_new_build])\n",
    "        sbuild_2020 = pd.concat([sbuild_2020, parcel_sbuild])\n",
    "        \n",
    "        if i % 50 == 0 or i == len(CF_parcels['APN'].unique()):\n",
    "            parcel_growth.to_csv(parcel_growth_path, index=False)\n",
    "            sbuild_2020.to_csv(sbuild_2020_path, index=False)"
   ]
  },
  {
   "cell_type": "markdown",
   "id": "be292bb0",
   "metadata": {},
   "source": [
    "Buffer example"
   ]
  },
  {
   "cell_type": "code",
   "execution_count": 33,
   "id": "8d1c0a99",
   "metadata": {},
   "outputs": [
    {
     "data": {
      "image/png": "[encoded data removed]",
      "text/plain": [
       "<Figure size 640x480 with 1 Axes>"
      ]
     },
     "metadata": {},
     "output_type": "display_data"
    }
   ],
   "source": [
    "apn='23031006'\n",
    "apn='23031033'\n",
    "POINT_BUFFER = 3\n",
    "\n",
    "# Get annotations within the parcel\n",
    "CF_parcel = CF_parcels.loc[CF_parcels['APN'] == apn].copy()\n",
    "\n",
    "CF_parcel_labels = CF_LABELS.sjoin(CF_parcel, how='left', predicate='intersects').copy()\n",
    "CF_parcel_labels = CF_parcel_labels.loc[~CF_parcel_labels['index_right'].isna()]\n",
    "CF_parcel_labels = CF_parcel_labels.loc[CF_parcel_labels['year'] != 2018]\n",
    "CF_parcel_labels.drop('index_right', axis=1, inplace=True)\n",
    "\n",
    "parcel_2016 = CF_parcel_labels.loc[CF_parcel_labels['year'] == 2016].copy()\n",
    "parcel_2020 = CF_parcel_labels.loc[CF_parcel_labels['year'] == 2020].copy()\n",
    "parcel_2020.reset_index(inplace=True, drop=True)\n",
    "n_2020_builds = len(parcel_2020)\n",
    "\n",
    "parcel_2020.geometry = parcel_2020.to_crs('EPSG:26910').buffer(POINT_BUFFER).to_crs('EPSG:4326')\n",
    "  \n",
    "# Plot\n",
    "fig, ax = plt.subplots()\n",
    "CF_parcel.plot(ax=ax, facecolor='none')\n",
    "parcel_2020.plot(ax=ax)\n",
    "parcel_2016.plot(ax=ax, color='red')\n",
    "plt.show()"
   ]
  },
  {
   "cell_type": "markdown",
   "id": "47bb94a8",
   "metadata": {},
   "source": [
    "### 3.3 Permits\n",
    "Compute permitted and unpermitted small buildings and new small buildings. "
   ]
  },
  {
   "cell_type": "code",
   "execution_count": 156,
   "id": "686007eb",
   "metadata": {},
   "outputs": [],
   "source": [
    "# Aggregate permits at the parcel level to figure out number of permits per parcel\n",
    "parcel_permits = permits.groupby(['APN_parcel', 'issue_year'])['OBJECTID_left'].count().reset_index()\n",
    "parcel_permits = parcel_permits.pivot(\n",
    "    index='APN_parcel', columns='issue_year', values='OBJECTID_left').reset_index()\n",
    "\n",
    "# Count number of permits pre-2015 and pre-2021\n",
    "pre_15_cols = [c for c in parcel_permits.columns if (type(c) == int) and c < 2015]\n",
    "pre_17_cols = [c for c in parcel_permits.columns if (type(c) == int) and c < 2017]\n",
    "pre_21_cols = [c for c in parcel_permits.columns if (type(c) == int) and c < 2021]\n",
    "\n",
    "parcel_permits['<=2014'] = parcel_permits.apply(lambda row: row[pre_15_cols].sum(), axis=1)\n",
    "parcel_permits['<=2016'] = parcel_permits.apply(lambda row: row[pre_17_cols].sum(), axis=1)\n",
    "parcel_permits['<=2020'] = parcel_permits.apply(lambda row: row[pre_21_cols].sum(), axis=1)\n",
    "parcel_permits['2015_20'] = parcel_permits.apply(lambda row: row['<=2020'] - row['<=2014'], axis=1)\n",
    "\n",
    "parcel_permits = parcel_permits[['APN_parcel', '<=2016', '<=2020', '2015_20']]\n",
    "parcel_permits.rename(columns={'APN_parcel': 'APN'}, inplace=True)"
   ]
  },
  {
   "cell_type": "markdown",
   "id": "b646e510",
   "metadata": {},
   "source": [
    "#### 3.3.1 Small buildings in 2016 and in 2020\n",
    "Assumptions:\n",
    "No small building demolitions, No small building conversions (permits aren't acquired retroactively)"
   ]
  },
  {
   "cell_type": "code",
   "execution_count": 157,
   "id": "2a4fa7ee",
   "metadata": {},
   "outputs": [],
   "source": [
    "# Merge permit and small building data\n",
    "parcel_density_permitted = parcel_density.copy()\n",
    "parcel_density_permitted = pd.merge(\n",
    "    parcel_density_permitted, parcel_permits[['APN', '<=2016', '<=2020', '2015_20']], on='APN', \n",
    "    how='left', validate='many_to_one')\n",
    "\n",
    "# Fill parcel columns with zeros\n",
    "parcel_density_permitted[['<=2016', '<=2020', '2015_20']] = parcel_density_permitted[\n",
    "    ['<=2016', '<=2020', '2015_20']].fillna(value=0)\n",
    "\n",
    "# Drop 2018 data\n",
    "parcel_density_permitted = parcel_density_permitted.loc[parcel_density_permitted['year'] != '2018']"
   ]
  },
  {
   "cell_type": "code",
   "execution_count": 158,
   "id": "b97941d2",
   "metadata": {},
   "outputs": [],
   "source": [
    "# Impose no demolition assumption by ensuring density in 2020 is >= as in 2016\n",
    "# Note this adds about 1000 small buildings in 2020\n",
    "parcel_density_permitted = parcel_density_permitted.pivot(\n",
    "    index=['APN', 'GEOID', 'neighborho', '<=2016', '<=2020', '2015_20'], \n",
    "    columns='year', values='parcel_density').reset_index()\n",
    "parcel_density_permitted.rename(columns={'2016': '2016_sb', '2020': '2020_sb'}, inplace=True)\n",
    "\n",
    "parcel_density_permitted['2020_sb'] = parcel_density_permitted.apply(\n",
    "    lambda row: max(row['2020_sb'], row['2016_sb']), axis=1)"
   ]
  },
  {
   "cell_type": "code",
   "execution_count": 159,
   "id": "8b3b091e",
   "metadata": {},
   "outputs": [],
   "source": [
    "# Compute unpermitted and permitted small building density at the parcel level\n",
    "parcel_density_permitted['permitted_sb_2016'] = parcel_density_permitted.apply(\n",
    "    lambda row: min(row['2016_sb'], row['<=2016']), axis=1)\n",
    "\n",
    "def compute_2020_permitted_units(row):    \n",
    "    # New buildings\n",
    "    new_sbuild = row['2020_sb'] - row['2016_sb']\n",
    "    new_permitted_sbuild = min(new_sbuild, row['2015_20'])\n",
    "    return row['permitted_sb_2016'] + new_permitted_sbuild\n",
    "parcel_density_permitted['permitted_sb_2020'] = parcel_density_permitted.apply(\n",
    "    lambda row: compute_2020_permitted_units(row), axis=1)\n",
    "\n",
    "for year in ['2016', '2020']:\n",
    "    parcel_density_permitted['unpermitted_sb_{}'.format(year)] = parcel_density_permitted[\n",
    "        '{}_sb'.format(year)] - parcel_density_permitted['permitted_sb_{}'.format(year)]"
   ]
  },
  {
   "cell_type": "code",
   "execution_count": 160,
   "id": "a591391c",
   "metadata": {},
   "outputs": [],
   "source": [
    "# Compute change in permitted and unpermitted change\n",
    "for rate_kind in ['permitted', 'unpermitted']:\n",
    "    parcel_density_permitted['{}_change'.format(rate_kind)] = parcel_density_permitted.apply(\n",
    "        lambda row: max(0, row['{}_sb_2020'.format(rate_kind)] - row['{}_sb_2016'.format(rate_kind)]),\n",
    "        axis=1)"
   ]
  },
  {
   "cell_type": "code",
   "execution_count": 161,
   "id": "89b8f29c",
   "metadata": {},
   "outputs": [
    {
     "name": "stdout",
     "output_type": "stream",
     "text": [
      "[INFO] Number of parcels: 16771\n"
     ]
    }
   ],
   "source": [
    "print('[INFO] Number of parcels: {}'.format(len(parcel_density_permitted['APN'].unique())))\n",
    "\n",
    "# Save\n",
    "parcel_density_permitted.to_csv(\n",
    "    os.path.join(OUTPUT_FP, 'R0_CF_Annotations', 'parcel_density_permitted.csv'))"
   ]
  },
  {
   "cell_type": "markdown",
   "id": "561c5968",
   "metadata": {},
   "source": [
    "#### 3.3.2 New small buildings during 2016-2020"
   ]
  },
  {
   "cell_type": "code",
   "execution_count": 162,
   "id": "863612fb",
   "metadata": {},
   "outputs": [],
   "source": [
    "# Merge permit and small building data\n",
    "parcel_growth_permitted = parcel_growth.copy()\n",
    "parcel_growth_permitted = pd.merge(\n",
    "    parcel_growth_permitted, parcel_permits[['APN', '2015_20']], on='APN', \n",
    "    how='left', validate='many_to_one')\n",
    "\n",
    "# Fill parcel columns with zeros\n",
    "parcel_growth_permitted[['2015_20']] = parcel_growth_permitted[['2015_20']].fillna(value=0)\n",
    "\n",
    "# Compute unpermitted and permitted new small buildings at the parcel level\n",
    "parcel_growth_permitted['permitted_change'] = parcel_growth_permitted.apply(\n",
    "    lambda row: min(row['new_small_build'], row['2015_20']), axis=1)\n",
    "parcel_growth_permitted['unpermitted_change'] = parcel_growth_permitted[\n",
    "    'new_small_build'] - parcel_growth_permitted['permitted_change']\n",
    "\n",
    "assert parcel_growth_permitted['unpermitted_change'].sum() + parcel_growth_permitted[\n",
    "    'permitted_change'].sum() == parcel_growth_permitted['new_small_build'].sum()\n",
    "\n",
    "# Add GEOID\n",
    "parcel_growth_permitted = pd.merge(\n",
    "    parcel_growth_permitted, sj_parcels_cbgs[['APN', 'GEOID']], how='left', validate='one_to_one')\n",
    "\n",
    "parcel_growth_permitted.to_csv(\n",
    "    os.path.join(OUTPUT_FP, 'R0_CF_Annotations', 'parcel_growth_permitted_{}.csv'.format(POINT_BUFFER)))"
   ]
  },
  {
   "cell_type": "markdown",
   "id": "26434df0",
   "metadata": {},
   "source": [
    "### 3.3.3 Assigning permits by snapping to nearest building\n",
    "We snap the permits to the nearest small building (within a distance threshold as defined by `MAX_DIST_LIST`). "
   ]
  },
  {
   "cell_type": "code",
   "execution_count": 19,
   "id": "1c8a7d05",
   "metadata": {},
   "outputs": [],
   "source": [
    "# All small buildings in 2020 (and whether they're newly built after 2016)\n",
    "POINT_BUFFER = 3\n",
    "MAX_DIST_LIST = [50, 80, 100, 200, 400]\n",
    "sbuild_2020_path = os.path.join(\n",
    "        OUTPUT_FP, 'R0_CF_Annotations', 'sbuild_2020_{}.csv'.format(POINT_BUFFER))\n",
    "sbuild_2020 = pd.read_csv(sbuild_2020_path, dtype={'GEOID': str})\n",
    "sbuild_2020.drop('index_right', inplace=True, axis=1)\n",
    "sbuild_2020['sbuild_index'] = sbuild_2020.index\n",
    "\n",
    "# Convert to GDF\n",
    "sbuild_2020 = gpd.GeoDataFrame(\n",
    "    sbuild_2020, geometry=gpd.points_from_xy(sbuild_2020.longitude, sbuild_2020.latitude), \n",
    "    crs='EPSG:4326')\n",
    "\n",
    "# Subset permits to 2015-2020\n",
    "permits_2015_20 = permits.loc[\n",
    "    permits['issue_year'].isin([2015, 2016, 2017, 2018, 2019, 2020])].copy()\n",
    "\n",
    "permits_2015_20 = gpd.GeoDataFrame(\n",
    "    permits_2015_20, geometry='geometry_permit', crs='EPSG:4326')\n",
    "permits_2015_20.reset_index(inplace=True, drop=True)\n",
    "permits_2015_20['permit_index'] = permits_2015_20.index\n",
    "n_permits_2015_20 = len(permits_2015_20)"
   ]
  },
  {
   "cell_type": "code",
   "execution_count": 20,
   "id": "ac06f5f8",
   "metadata": {},
   "outputs": [
    {
     "name": "stdout",
     "output_type": "stream",
     "text": [
      "[INFO] 5140 permits issues during 2015-20\n",
      "[INFO] 249 permits assigned to small buildings using max distance of 50\n",
      "[INFO] 5140 permits issues during 2015-20\n",
      "[INFO] 384 permits assigned to small buildings using max distance of 80\n",
      "[INFO] 5140 permits issues during 2015-20\n",
      "[INFO] 506 permits assigned to small buildings using max distance of 100\n",
      "[INFO] 5140 permits issues during 2015-20\n",
      "[INFO] 998 permits assigned to small buildings using max distance of 200\n",
      "[INFO] 5140 permits issues during 2015-20\n",
      "[INFO] 1801 permits assigned to small buildings using max distance of 400\n"
     ]
    }
   ],
   "source": [
    "# Snap permits to nearest small building (within a threshold)\n",
    "for MAX_DIST in MAX_DIST_LIST:\n",
    "    # -- 1. Assign permits to nearest small building in 2020 \n",
    "    # * Create a buffer around the building\n",
    "    sbuild_2020_buff = sbuild_2020.to_crs('EPSG:26910').copy()\n",
    "    sbuild_2020_buff['centroid'] = sbuild_2020_buff['geometry']\n",
    "    sbuild_2020_buff['geometry'] = sbuild_2020_buff.buffer(MAX_DIST)\n",
    "    \n",
    "    # * Join permits and small buildings\n",
    "    permits_2015_20_snap = permits_2015_20[\n",
    "        ['OBJECTID_left', 'issue_year', 'geometry_permit', 'permit_index']].to_crs('EPSG:26910').sjoin(\n",
    "        sbuild_2020_buff[['geometry', 'centroid', 'sbuild_index']], how='left', predicate='intersects')\n",
    "\n",
    "    # * Drop permits that do not match to buildings\n",
    "    permits_2015_20_snap = permits_2015_20_snap.loc[~permits_2015_20_snap['index_right'].isna()]\n",
    "\n",
    "    # * Compute distance\n",
    "    permits_2015_20_snap['distance'] = permits_2015_20_snap['geometry_permit'].distance(\n",
    "        permits_2015_20_snap['centroid'])\n",
    "\n",
    "    # * Order permits by closest distance and drop duplicates\n",
    "    permits_2015_20_snap.sort_values('distance', ascending=True, inplace=True)\n",
    "    permits_2015_20_snap.drop_duplicates(subset='permit_index', keep='first', inplace=True)\n",
    "    assert len(permits_2015_20_snap) <= len(permits_2015_20['permit_index'].unique())\n",
    "\n",
    "    print('[INFO] {} permits issues during 2015-20'.format(len(permits_2015_20['permit_index'].unique())))\n",
    "    print('[INFO] {} permits assigned to small buildings using max distance of {}'. format(\n",
    "        len(permits_2015_20_snap), MAX_DIST))\n",
    "\n",
    "    # -- 2. Define permitted new small buildings\n",
    "    permits_2015_20_snap['index_right'] = permits_2015_20_snap['index_right'].astype(int)\n",
    "    permits_2015_20_snap['sbuild_index'] = permits_2015_20_snap['sbuild_index'].astype(int)\n",
    "\n",
    "    sbuild_2020_permitted = pd.merge(\n",
    "        sbuild_2020, permits_2015_20_snap[['sbuild_index', 'OBJECTID_left', 'issue_year']], how='left', \n",
    "        on='sbuild_index', validate='one_to_many')\n",
    "    sbuild_2020_permitted['permitted'] = ~sbuild_2020_permitted['OBJECTID_left'].isna()\n",
    "    \n",
    "    # Keep only one permit per building (to not duplicate small buildings)\n",
    "    sbuild_2020_permitted.sort_values('permitted', ascending=False, inplace=True)\n",
    "    sbuild_2020_permitted.drop_duplicates('sbuild_index', keep='last', inplace=True)\n",
    "    \n",
    "    # -- 3. Aggregate at the parcel level (just consider parcel growth)\n",
    "    parcel_growth_permitted_snap = sbuild_2020_permitted.copy()\n",
    "    parcel_growth_permitted_snap = parcel_growth_permitted_snap.loc[\n",
    "        parcel_growth_permitted_snap['new_sbuilding'] == True]\n",
    "\n",
    "    parcel_growth_permitted_snap['permitted'] = ~parcel_growth_permitted_snap['OBJECTID_left'].isna()\n",
    "    parcel_growth_permitted_snap = parcel_growth_permitted_snap.groupby(['APN', 'GEOID'])[\n",
    "        ['new_sbuilding', 'permitted']].sum().reset_index()\n",
    "    \n",
    "    parcel_growth_permitted_snap.rename(\n",
    "        columns={'new_sbuilding': 'total_change', 'permitted': 'permitted_change'}, inplace=True)\n",
    "    parcel_growth_permitted_snap['unpermitted_change'] = parcel_growth_permitted_snap['total_change'] - parcel_growth_permitted_snap['permitted_change']\n",
    "    assert parcel_growth_permitted_snap['unpermitted_change'].min() >= 0\n",
    "    \n",
    "    # -- 4. Fill with zeros (for parcels that had no new buildings)\n",
    "    parcel_growth_permitted_snap = pd.merge(\n",
    "        CF_parcels[['APN', 'GEOID']], \n",
    "        parcel_growth_permitted_snap[['APN', 'total_change', 'permitted_change', 'unpermitted_change']], \n",
    "        on='APN', how='left', validate='one_to_one')\n",
    "    parcel_growth_permitted_snap.fillna(0, inplace=True)\n",
    "    \n",
    "    # -- 5. Save\n",
    "    parcel_growth_permitted_snap.to_csv(os.path.join(\n",
    "        OUTPUT_FP, 'R0_CF_Annotations', 'parcel_growth_permitted_snap_{}_{}.csv'.format(\n",
    "            POINT_BUFFER, MAX_DIST)))"
   ]
  },
  {
   "cell_type": "code",
   "execution_count": 12,
   "id": "823c4998",
   "metadata": {},
   "outputs": [
    {
     "name": "stdout",
     "output_type": "stream",
     "text": [
      "Permit buffer: 50\n",
      "Proportion of permitted new buildings: 5.55%\n",
      "Permit buffer: 80\n",
      "Proportion of permitted new buildings: 8.51%\n",
      "Permit buffer: 100\n",
      "Proportion of permitted new buildings: 10.36%\n",
      "Permit buffer: 200\n",
      "Proportion of permitted new buildings: 17.38%\n",
      "Permit buffer: 400\n",
      "Proportion of permitted new buildings: 24.04%\n"
     ]
    }
   ],
   "source": [
    "# Checks\n",
    "POINT_BUFFER = 3\n",
    "MAX_DIST_LIST = [50, 80, 100, 200, 400]\n",
    "for MAX_DIST in MAX_DIST_LIST:\n",
    "    parcel_growth_permitted_snap = pd.read_csv(os.path.join(\n",
    "            OUTPUT_FP, 'R0_CF_Annotations', 'parcel_growth_permitted_snap_{}_{}.csv'.format(\n",
    "                POINT_BUFFER, MAX_DIST)))\n",
    "    print('Permit buffer: {}'.format(MAX_DIST))\n",
    "    print('Proportion of permitted new buildings: {}%'.format(round(\n",
    "        100 * parcel_growth_permitted_snap['permitted_change'].sum() / parcel_growth_permitted_snap['total_change'].sum(), \n",
    "        2)))\n",
    "\n",
    "parcel_growth = pd.read_csv(os.path.join(\n",
    "        OUTPUT_FP, 'R0_CF_Annotations', 'parcel_growth_{}.csv'.format(POINT_BUFFER)))"
   ]
  },
  {
   "cell_type": "markdown",
   "id": "91c5080d",
   "metadata": {},
   "source": [
    "## 4. Power Analysis inputs"
   ]
  },
  {
   "cell_type": "markdown",
   "id": "a4f39c5b",
   "metadata": {},
   "source": [
    "### 4.1 Neyman allocation and parcel confidences for CF parcels"
   ]
  },
  {
   "cell_type": "code",
   "execution_count": 10,
   "id": "04b13686",
   "metadata": {},
   "outputs": [],
   "source": [
    "# Load parcel confidences and subset to CF area\n",
    "parcel_conf_df = pd.read_csv(\n",
    "    os.path.join(OUTPUT_FP, 'Confidences', 'parcel-confidence.csv'), \n",
    "    dtype={'GEOID': str})    \n",
    "parcel_conf_df = parcel_conf_df.loc[parcel_conf_df['APN'].isin(CF_parcels['APN'].unique())]\n",
    "\n",
    "# Load parcel growth data\n",
    "POINT_BUFFER = 3\n",
    "parcel_growth_permitted = pd.read_csv(os.path.join(\n",
    "        OUTPUT_FP, 'R0_CF_Annotations', 'parcel_growth_permitted_{}.csv'.format(POINT_BUFFER)))\n",
    "parcel_growth = pd.read_csv(os.path.join(\n",
    "        OUTPUT_FP, 'R0_CF_Annotations', 'parcel_growth_{}.csv'.format(POINT_BUFFER)))\n",
    "\n",
    "# Load parcel density\n",
    "parcel_density = pd.read_csv(\n",
    "    os.path.join(OUTPUT_FP, 'R0_CF_Annotations', 'parcel_density.csv'), \n",
    "    dtype={'GEOID': str})"
   ]
  },
  {
   "cell_type": "code",
   "execution_count": 12,
   "id": "d58b1513",
   "metadata": {},
   "outputs": [
    {
     "data": {
      "text/html": [
       "<div>\n",
       "<style scoped>\n",
       "    .dataframe tbody tr th:only-of-type {\n",
       "        vertical-align: middle;\n",
       "    }\n",
       "\n",
       "    .dataframe tbody tr th {\n",
       "        vertical-align: top;\n",
       "    }\n",
       "\n",
       "    .dataframe thead th {\n",
       "        text-align: right;\n",
       "    }\n",
       "</style>\n",
       "<table border=\"1\" class=\"dataframe\">\n",
       "  <thead>\n",
       "    <tr style=\"text-align: right;\">\n",
       "      <th></th>\n",
       "      <th>APN</th>\n",
       "      <th>new_small_build</th>\n",
       "    </tr>\n",
       "  </thead>\n",
       "  <tbody>\n",
       "    <tr>\n",
       "      <th>0</th>\n",
       "      <td>70616068</td>\n",
       "      <td>0</td>\n",
       "    </tr>\n",
       "    <tr>\n",
       "      <th>1</th>\n",
       "      <td>23032111</td>\n",
       "      <td>0</td>\n",
       "    </tr>\n",
       "    <tr>\n",
       "      <th>2</th>\n",
       "      <td>43948043</td>\n",
       "      <td>0</td>\n",
       "    </tr>\n",
       "    <tr>\n",
       "      <th>3</th>\n",
       "      <td>43941077</td>\n",
       "      <td>0</td>\n",
       "    </tr>\n",
       "    <tr>\n",
       "      <th>4</th>\n",
       "      <td>42132050</td>\n",
       "      <td>0</td>\n",
       "    </tr>\n",
       "  </tbody>\n",
       "</table>\n",
       "</div>"
      ],
      "text/plain": [
       "        APN  new_small_build\n",
       "0  70616068                0\n",
       "1  23032111                0\n",
       "2  43948043                0\n",
       "3  43941077                0\n",
       "4  42132050                0"
      ]
     },
     "execution_count": 12,
     "metadata": {},
     "output_type": "execute_result"
    }
   ],
   "source": [
    "parcel_growth.head()"
   ]
  },
  {
   "cell_type": "code",
   "execution_count": 33,
   "id": "543f44a8",
   "metadata": {},
   "outputs": [
    {
     "name": "stdout",
     "output_type": "stream",
     "text": [
      "[INFO]: 16770 parcels / 16771 parcels\n"
     ]
    }
   ],
   "source": [
    "# Check that all CF parcels have computed parcel confidences\n",
    "finalized = parcel_conf_df['APN'].unique()\n",
    "x = CF_parcels['APN'].isin(finalized)\n",
    "print('[INFO]: {} parcels / {} parcels'.format(x.sum(), len(CF_parcels['APN'].unique())))"
   ]
  },
  {
   "cell_type": "code",
   "execution_count": 34,
   "id": "ce4ab420",
   "metadata": {},
   "outputs": [],
   "source": [
    "# Add high/low neighborhood (defined by 75 percentile)\n",
    "cbg_income_2016_SJ['quartile'] = pd.qcut(\n",
    "    cbg_income_2016_SJ['median_inc'], q=4, \n",
    "    labels=['IS_{}'.format(i) for i in range(4)])\n",
    "\n",
    "parcel_conf_df = pd.merge(\n",
    "    parcel_conf_df, cbg_income_2016_SJ[['GEOID', 'quartile']], how='left', \n",
    "    validate='many_to_one')\n",
    "\n",
    "parcel_conf_df['neighborhood(75)'] = parcel_conf_df['quartile'].apply(\n",
    "    lambda q: 'High' if int(q.split('IS_')[1]) == 3 else 'Low')"
   ]
  },
  {
   "cell_type": "code",
   "execution_count": 35,
   "id": "d05193f6",
   "metadata": {},
   "outputs": [],
   "source": [
    "# Generate income-confidence bins: we cut parcel confidences into low confidence (< 0.5) and\n",
    "# high confidence (> 0.5)\n",
    "parcel_conf_df['CBin'] = pd.cut(parcel_conf_df['confidence'], bins=2, labels=False)\n",
    "parcel_conf_df['CBin'] = parcel_conf_df['CBin'].fillna(value= 'None')\n",
    "\n",
    "parcel_conf_df['Bin'] = parcel_conf_df.apply(\n",
    "    lambda row: '{}-{}'.format(row['strata_inc'], row['CBin']), axis=1)"
   ]
  },
  {
   "cell_type": "code",
   "execution_count": 36,
   "id": "efc2e0ec",
   "metadata": {},
   "outputs": [],
   "source": [
    "# Add Y_ij\n",
    "#note we compute this as the average density across years as the parcel level\n",
    "# given that we sample parcels, not parcel-years.\n",
    "#Y_ij = parcel_density.groupby('APN')['parcel_density'].mean().reset_index()\n",
    "\n",
    "# Y_ij is the permitted proportion of new small buildings in the parcel. We use\n",
    "# a value of 0 if there were no new small buildings between 2016 and 2020. \n",
    "parcel_growth_permitted['permitted_ratio'] = parcel_growth_permitted.apply(\n",
    "    lambda row: 0 if row['new_small_build'] == 0  else row['permitted_change'] / row['new_small_build'], \n",
    "    axis=1)\n",
    "Y_ij = parcel_growth_permitted[['APN', 'permitted_ratio']]\n",
    "\n",
    "parcel_conf_df = pd.merge(parcel_conf_df, Y_ij, how='left', validate='one_to_one')"
   ]
  },
  {
   "cell_type": "code",
   "execution_count": 39,
   "id": "ba3dd0bd",
   "metadata": {},
   "outputs": [],
   "source": [
    "# Add parcel new small buildings\n",
    "# Computation #1 (using parcel-level computations)\n",
    "sb_growth = parcel_density.copy()\n",
    "sb_growth = sb_growth.loc[sb_growth['year'] != '2018']\n",
    "sb_growth = sb_growth.pivot(\n",
    "    index=['APN', 'GEOID'], columns='year', values='parcel_density').reset_index()\n",
    "\n",
    "sb_growth['num_new_sbs'] = sb_growth.apply(\n",
    "    lambda row: max(0, row[2020] - row[2016]), axis=1)\n",
    "sb_growth.rename(columns={'num_new_sbs': 'new_small_build_C1'}, inplace=True)\n",
    "\n",
    "parcel_conf_df = pd.merge(\n",
    "    parcel_conf_df, sb_growth[['APN', 'new_small_build_C1']], how='left', validate='one_to_one')\n",
    "\n",
    "# Computation #2 (using building-level computations)\n",
    "parcel_conf_df = pd.merge(\n",
    "    parcel_conf_df, parcel_growth[['APN', 'new_small_build']], how='left', validate='one_to_one')\n",
    "parcel_conf_df.rename(columns={'new_small_build': 'new_small_build_C2'}, inplace=True)"
   ]
  },
  {
   "cell_type": "code",
   "execution_count": 40,
   "id": "abe71e92",
   "metadata": {},
   "outputs": [
    {
     "data": {
      "text/html": [
       "<div>\n",
       "<style scoped>\n",
       "    .dataframe tbody tr th:only-of-type {\n",
       "        vertical-align: middle;\n",
       "    }\n",
       "\n",
       "    .dataframe tbody tr th {\n",
       "        vertical-align: top;\n",
       "    }\n",
       "\n",
       "    .dataframe thead th {\n",
       "        text-align: right;\n",
       "    }\n",
       "</style>\n",
       "<table border=\"1\" class=\"dataframe\">\n",
       "  <thead>\n",
       "    <tr style=\"text-align: right;\">\n",
       "      <th></th>\n",
       "      <th>APN</th>\n",
       "      <th>confidence</th>\n",
       "      <th>GEOID</th>\n",
       "      <th>strata_inc</th>\n",
       "      <th>quartile</th>\n",
       "      <th>neighborhood(75)</th>\n",
       "      <th>CBin</th>\n",
       "      <th>Bin</th>\n",
       "      <th>permitted_ratio</th>\n",
       "      <th>new_small_build_C1</th>\n",
       "      <th>new_small_build_C2</th>\n",
       "    </tr>\n",
       "  </thead>\n",
       "  <tbody>\n",
       "    <tr>\n",
       "      <th>0</th>\n",
       "      <td>58112007</td>\n",
       "      <td>NaN</td>\n",
       "      <td>060855119051</td>\n",
       "      <td>IS_40</td>\n",
       "      <td>IS_3</td>\n",
       "      <td>High</td>\n",
       "      <td>None</td>\n",
       "      <td>IS_40-None</td>\n",
       "      <td>0.0</td>\n",
       "      <td>0</td>\n",
       "      <td>0.0</td>\n",
       "    </tr>\n",
       "    <tr>\n",
       "      <th>1</th>\n",
       "      <td>58110066</td>\n",
       "      <td>NaN</td>\n",
       "      <td>060855119051</td>\n",
       "      <td>IS_40</td>\n",
       "      <td>IS_3</td>\n",
       "      <td>High</td>\n",
       "      <td>None</td>\n",
       "      <td>IS_40-None</td>\n",
       "      <td>0.0</td>\n",
       "      <td>0</td>\n",
       "      <td>0.0</td>\n",
       "    </tr>\n",
       "    <tr>\n",
       "      <th>2</th>\n",
       "      <td>58115010</td>\n",
       "      <td>NaN</td>\n",
       "      <td>060855119051</td>\n",
       "      <td>IS_40</td>\n",
       "      <td>IS_3</td>\n",
       "      <td>High</td>\n",
       "      <td>None</td>\n",
       "      <td>IS_40-None</td>\n",
       "      <td>0.0</td>\n",
       "      <td>0</td>\n",
       "      <td>0.0</td>\n",
       "    </tr>\n",
       "    <tr>\n",
       "      <th>3</th>\n",
       "      <td>58110003</td>\n",
       "      <td>NaN</td>\n",
       "      <td>060855119051</td>\n",
       "      <td>IS_40</td>\n",
       "      <td>IS_3</td>\n",
       "      <td>High</td>\n",
       "      <td>None</td>\n",
       "      <td>IS_40-None</td>\n",
       "      <td>0.0</td>\n",
       "      <td>0</td>\n",
       "      <td>0.0</td>\n",
       "    </tr>\n",
       "    <tr>\n",
       "      <th>4</th>\n",
       "      <td>48632016</td>\n",
       "      <td>NaN</td>\n",
       "      <td>060855035063</td>\n",
       "      <td>IS_12</td>\n",
       "      <td>IS_0</td>\n",
       "      <td>Low</td>\n",
       "      <td>None</td>\n",
       "      <td>IS_12-None</td>\n",
       "      <td>0.0</td>\n",
       "      <td>1</td>\n",
       "      <td>1.0</td>\n",
       "    </tr>\n",
       "  </tbody>\n",
       "</table>\n",
       "</div>"
      ],
      "text/plain": [
       "        APN  confidence         GEOID strata_inc quartile neighborhood(75)  \\\n",
       "0  58112007         NaN  060855119051      IS_40     IS_3             High   \n",
       "1  58110066         NaN  060855119051      IS_40     IS_3             High   \n",
       "2  58115010         NaN  060855119051      IS_40     IS_3             High   \n",
       "3  58110003         NaN  060855119051      IS_40     IS_3             High   \n",
       "4  48632016         NaN  060855035063      IS_12     IS_0              Low   \n",
       "\n",
       "   CBin         Bin  permitted_ratio  new_small_build_C1  new_small_build_C2  \n",
       "0  None  IS_40-None              0.0                   0                 0.0  \n",
       "1  None  IS_40-None              0.0                   0                 0.0  \n",
       "2  None  IS_40-None              0.0                   0                 0.0  \n",
       "3  None  IS_40-None              0.0                   0                 0.0  \n",
       "4  None  IS_12-None              0.0                   1                 1.0  "
      ]
     },
     "execution_count": 40,
     "metadata": {},
     "output_type": "execute_result"
    }
   ],
   "source": [
    "parcel_conf_df.head()"
   ]
  },
  {
   "cell_type": "code",
   "execution_count": 41,
   "id": "d20fa0d1",
   "metadata": {},
   "outputs": [
    {
     "data": {
      "image/png": "[encoded data removed]",
      "text/plain": [
       "<Figure size 640x480 with 1 Axes>"
      ]
     },
     "metadata": {},
     "output_type": "display_data"
    }
   ],
   "source": [
    "# Find S_j, N_j\n",
    "Neyman_alloc = parcel_conf_df.groupby('Bin').agg(\n",
    "    {'APN': 'count', 'permitted_ratio': 'std'}).reset_index()\n",
    "Neyman_alloc.rename(columns={'APN': 'N_j', 'permitted_ratio': 'S_j'}, inplace=True)\n",
    "\n",
    "# Smoothing: as may parcels did not have new buildings, we set S_j = min(S_j, min S_i), \n",
    "# where S_i > 0 so that each bin has a non-zero probability of being sampled from.\n",
    "min_Sj = Neyman_alloc.loc[Neyman_alloc['S_j'] > 0]['S_j'].min()\n",
    "Neyman_alloc['S_j'] = Neyman_alloc['S_j'].apply(\n",
    "    lambda sj: sj if sj > 1e-5 else min_Sj)\n",
    "\n",
    "Neyman_denom = (Neyman_alloc['N_j'] * Neyman_alloc['S_j']).sum()\n",
    "Neyman_alloc['weight'] = Neyman_alloc.apply(\n",
    "    lambda row: row['N_j'] * row['S_j'] / Neyman_denom, axis=1)\n",
    "\n",
    "Neyman_alloc['weight'].hist()\n",
    "plt.show()\n",
    "\n",
    "assert Neyman_alloc['weight'].sum() - 1 < 1e-5"
   ]
  },
  {
   "cell_type": "code",
   "execution_count": 43,
   "id": "635a813a",
   "metadata": {},
   "outputs": [],
   "source": [
    "# Save\n",
    "Neyman_alloc.to_csv(os.path.join(OUTPUT_FP, 'R0_CF_Annotations', 'PA-neyman_alloc.csv'), index=False)\n",
    "parcel_conf_df.to_csv(os.path.join(\n",
    "    OUTPUT_FP, 'R0_CF_Annotations', 'PA-CFparcels_{}.csv'.format(POINT_BUFFER)), index=False)"
   ]
  },
  {
   "cell_type": "markdown",
   "id": "3ced1642",
   "metadata": {},
   "source": [
    "### 4.2 Aggregates for first power analysis (two-sample t-test of low vs high income small density)\n",
    "Need to aggregate from the parcel level because we wish to compute the number of *parcels* that need to be reviewed."
   ]
  },
  {
   "cell_type": "code",
   "execution_count": 128,
   "id": "fef1ed4b",
   "metadata": {},
   "outputs": [],
   "source": [
    "aggregates_from_parcel = parcel_density.groupby(['year', 'neighborho']).agg(\n",
    "    {'parcel_density': ['mean', 'std', 'count']}).reset_index()\n",
    "aggregates_from_parcel.columns = ['-'.join(l) for l in aggregates_from_parcel.columns]"
   ]
  },
  {
   "cell_type": "code",
   "execution_count": 129,
   "id": "d3693f7b",
   "metadata": {},
   "outputs": [
    {
     "data": {
      "text/html": [
       "<div>\n",
       "<style scoped>\n",
       "    .dataframe tbody tr th:only-of-type {\n",
       "        vertical-align: middle;\n",
       "    }\n",
       "\n",
       "    .dataframe tbody tr th {\n",
       "        vertical-align: top;\n",
       "    }\n",
       "\n",
       "    .dataframe thead th {\n",
       "        text-align: right;\n",
       "    }\n",
       "</style>\n",
       "<table border=\"1\" class=\"dataframe\">\n",
       "  <thead>\n",
       "    <tr style=\"text-align: right;\">\n",
       "      <th></th>\n",
       "      <th>year-</th>\n",
       "      <th>neighborho-</th>\n",
       "      <th>parcel_density-mean</th>\n",
       "      <th>parcel_density-std</th>\n",
       "      <th>parcel_density-count</th>\n",
       "    </tr>\n",
       "  </thead>\n",
       "  <tbody>\n",
       "    <tr>\n",
       "      <th>0</th>\n",
       "      <td>2016</td>\n",
       "      <td>high</td>\n",
       "      <td>0.130801</td>\n",
       "      <td>0.361301</td>\n",
       "      <td>8318</td>\n",
       "    </tr>\n",
       "    <tr>\n",
       "      <th>1</th>\n",
       "      <td>2016</td>\n",
       "      <td>low</td>\n",
       "      <td>0.177642</td>\n",
       "      <td>0.427024</td>\n",
       "      <td>9491</td>\n",
       "    </tr>\n",
       "    <tr>\n",
       "      <th>2</th>\n",
       "      <td>2018</td>\n",
       "      <td>high</td>\n",
       "      <td>0.090887</td>\n",
       "      <td>0.303736</td>\n",
       "      <td>8318</td>\n",
       "    </tr>\n",
       "    <tr>\n",
       "      <th>3</th>\n",
       "      <td>2018</td>\n",
       "      <td>low</td>\n",
       "      <td>0.148351</td>\n",
       "      <td>0.393188</td>\n",
       "      <td>9491</td>\n",
       "    </tr>\n",
       "    <tr>\n",
       "      <th>4</th>\n",
       "      <td>2020</td>\n",
       "      <td>high</td>\n",
       "      <td>0.173960</td>\n",
       "      <td>0.434654</td>\n",
       "      <td>8318</td>\n",
       "    </tr>\n",
       "    <tr>\n",
       "      <th>5</th>\n",
       "      <td>2020</td>\n",
       "      <td>low</td>\n",
       "      <td>0.242229</td>\n",
       "      <td>0.496576</td>\n",
       "      <td>9491</td>\n",
       "    </tr>\n",
       "  </tbody>\n",
       "</table>\n",
       "</div>"
      ],
      "text/plain": [
       "  year- neighborho-  parcel_density-mean  parcel_density-std  \\\n",
       "0  2016        high             0.130801            0.361301   \n",
       "1  2016         low             0.177642            0.427024   \n",
       "2  2018        high             0.090887            0.303736   \n",
       "3  2018         low             0.148351            0.393188   \n",
       "4  2020        high             0.173960            0.434654   \n",
       "5  2020         low             0.242229            0.496576   \n",
       "\n",
       "   parcel_density-count  \n",
       "0                  8318  \n",
       "1                  9491  \n",
       "2                  8318  \n",
       "3                  9491  \n",
       "4                  8318  \n",
       "5                  9491  "
      ]
     },
     "execution_count": 129,
     "metadata": {},
     "output_type": "execute_result"
    }
   ],
   "source": [
    "aggregates_from_parcel"
   ]
  },
  {
   "cell_type": "code",
   "execution_count": 80,
   "id": "d8e8ba86",
   "metadata": {},
   "outputs": [
    {
     "data": {
      "image/png": "[encoded data removed]",
      "text/plain": [
       "<Figure size 1278.61x650 with 3 Axes>"
      ]
     },
     "metadata": {},
     "output_type": "display_data"
    }
   ],
   "source": [
    "g = sns.FacetGrid(aggregates_from_parcel, col=\"year-\",  height=6.5, aspect=.65)\n",
    "g.map(sns.barplot, 'neighborho-', 'parcel_density-mean')\n",
    "g.add_legend()\n",
    "plt.show()"
   ]
  },
  {
   "cell_type": "markdown",
   "id": "9fdce782",
   "metadata": {},
   "source": [
    "### 4.3 S_j"
   ]
  },
  {
   "cell_type": "code",
   "execution_count": 184,
   "id": "89c40a7b",
   "metadata": {},
   "outputs": [
    {
     "name": "stdout",
     "output_type": "stream",
     "text": [
      "<class 'pandas.core.frame.DataFrame'>\n",
      "Int64Index: 249 entries, 498 to 746\n",
      "Data columns (total 6 columns):\n",
      " #   Column        Non-Null Count  Dtype   \n",
      "---  ------        --------------  -----   \n",
      " 0   GEOID         249 non-null    object  \n",
      " 1   mean_density  249 non-null    float64 \n",
      " 2   std_density   241 non-null    float64 \n",
      " 3   year          249 non-null    object  \n",
      " 4   neighborho    245 non-null    object  \n",
      " 5   geometry      249 non-null    geometry\n",
      "dtypes: float64(2), geometry(1), object(3)\n",
      "memory usage: 13.6+ KB\n"
     ]
    }
   ],
   "source": [
    "cbg_density.loc[cbg_density['year'] == '2020'].info()"
   ]
  },
  {
   "cell_type": "code",
   "execution_count": 156,
   "id": "bd2fed9a",
   "metadata": {
    "scrolled": true
   },
   "outputs": [
    {
     "data": {
      "image/png": "[encoded data removed]",
      "text/plain": [
       "<Figure size 1017.49x1050 with 3 Axes>"
      ]
     },
     "metadata": {},
     "output_type": "display_data"
    }
   ],
   "source": [
    "g = sns.FacetGrid(cbg_density, row=\"year\", hue='neighborho', height=3.5, aspect=2.65)\n",
    "g.map(sns.kdeplot, 'std_density')\n",
    "g.add_legend()\n",
    "plt.show()"
   ]
  }
 ],
 "metadata": {
  "kernelspec": {
   "display_name": "Python 3",
   "language": "python",
   "name": "python3"
  },
  "language_info": {
   "codemirror_mode": {
    "name": "ipython",
    "version": 3
   },
   "file_extension": ".py",
   "mimetype": "text/x-python",
   "name": "python",
   "nbconvert_exporter": "python",
   "pygments_lexer": "ipython3",
   "version": "3.8.10"
  }
 },
 "nbformat": 4,
 "nbformat_minor": 5
}
