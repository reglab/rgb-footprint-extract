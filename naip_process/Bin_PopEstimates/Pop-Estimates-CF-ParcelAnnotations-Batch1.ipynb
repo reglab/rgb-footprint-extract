{
 "cells": [
  {
   "cell_type": "markdown",
   "id": "f083315e",
   "metadata": {},
   "source": [
    "# Process parcel-level Cloud Factory annotations for Batch #1"
   ]
  },
  {
   "cell_type": "code",
   "execution_count": 88,
   "id": "4f54b2ef",
   "metadata": {},
   "outputs": [],
   "source": [
    "import json\n",
    "import os\n",
    "from glob import glob\n",
    "import pandas as pd\n",
    "import matplotlib.pyplot as plt\n",
    "\n",
    "from shapely import geometry\n",
    "from tqdm import tqdm"
   ]
  },
  {
   "cell_type": "code",
   "execution_count": 3,
   "id": "915ea923",
   "metadata": {},
   "outputs": [],
   "source": [
    "# Paths\n",
    "OAK_FP = '/oak/stanford/groups/deho/building_compliance/'\n",
    "INPUT_FP = os.path.join(OAK_FP, 'CloudFactory', 'results', 'B1_Preliminary_WithBuildings')"
   ]
  },
  {
   "cell_type": "code",
   "execution_count": 6,
   "id": "51d0bab8",
   "metadata": {},
   "outputs": [
    {
     "name": "stdout",
     "output_type": "stream",
     "text": [
      "Number of parcels: 469\n"
     ]
    }
   ],
   "source": [
    "# Load current images (38% complete) that include small building annotations\n",
    "sbuild_parcels = glob(os.path.join(INPUT_FP, '*.json'))\n",
    "print('Number of parcels: {}'.format(len(sbuild_parcels)))"
   ]
  },
  {
   "cell_type": "code",
   "execution_count": 91,
   "id": "bccbaa52",
   "metadata": {},
   "outputs": [],
   "source": [
    "def count_annotations(res):\n",
    "    \"\"\"\n",
    "    Note: this function only correctly captures whether an annotation is in the left (2016) or right\n",
    "    (2020) half of the image. It does not distinguish between bottom and top rows. (Which seems fine)\n",
    "    given that some annotations were incorrectly made on the top row. \n",
    "    \"\"\"\n",
    "    img_width, img_height = res['metadata']['system']['width'], res['metadata']['system']['height']\n",
    "    box_2016 = geometry.Polygon([[0, 0], [img_width //2, 0], [img_width//2, img_height], [0, img_height], [0, 0]])\n",
    "    box_2020 = geometry.Polygon([[img_width//2, 0], [img_width, 0], [img_width, img_height], \n",
    "                             [img_width//2, img_height], [img_width//2, 0]])\n",
    "    \n",
    "    count_dict = {'2016': [0], '2020': [0]}\n",
    "    for annotation in res['annotations']:\n",
    "        if 'coordinates' in annotation.keys():\n",
    "            # define annotation year \n",
    "            # * get polygon centroid and figure out if in left or right half\n",
    "            ann_pointlist = annotation['coordinates'][0]\n",
    "            ann_poly = geometry.Polygon([[p['x'], p['y']] for p in ann_pointlist])\n",
    "            \n",
    "            if box_2020.contains(ann_poly):\n",
    "                count_dict['2020'][0] += 1\n",
    "            else:\n",
    "                count_dict['2016'][0] += 1\n",
    "\n",
    "    return count_dict"
   ]
  },
  {
   "cell_type": "code",
   "execution_count": 92,
   "id": "ce9f4674",
   "metadata": {},
   "outputs": [
    {
     "name": "stderr",
     "output_type": "stream",
     "text": [
      "100%|██████████| 469/469 [00:04<00:00, 97.79it/s] \n"
     ]
    }
   ],
   "source": [
    "# Collect annotations for each parcel\n",
    "annotations_df = pd.DataFrame()\n",
    "for parcel_file in tqdm(sbuild_parcels):\n",
    "    res_parcel = json.load(open(parcel_file))\n",
    "    count_dict = count_annotations(res_parcel)\n",
    "    count_dict['APN'] = [parcel_file.split(os.path.sep)[-1].replace('.json', '')]\n",
    "    annotations_df = pd.concat([annotations_df, pd.DataFrame.from_dict(count_dict)])"
   ]
  },
  {
   "cell_type": "code",
   "execution_count": 94,
   "id": "16e1c162",
   "metadata": {},
   "outputs": [],
   "source": [
    "# Identify parcels with CF annotated small building construction\n",
    "growth_df = annotations_df.loc[annotations_df['2020'] > annotations_df['2016']]"
   ]
  },
  {
   "cell_type": "code",
   "execution_count": 95,
   "id": "32b7fc3b",
   "metadata": {},
   "outputs": [
    {
     "name": "stdout",
     "output_type": "stream",
     "text": [
      "<class 'pandas.core.frame.DataFrame'>\n",
      "Int64Index: 23 entries, 0 to 0\n",
      "Data columns (total 3 columns):\n",
      " #   Column  Non-Null Count  Dtype \n",
      "---  ------  --------------  ----- \n",
      " 0   2016    23 non-null     int64 \n",
      " 1   2020    23 non-null     int64 \n",
      " 2   APN     23 non-null     object\n",
      "dtypes: int64(2), object(1)\n",
      "memory usage: 736.0+ bytes\n"
     ]
    }
   ],
   "source": [
    "growth_df.info()"
   ]
  },
  {
   "cell_type": "code",
   "execution_count": 96,
   "id": "1c362bdc",
   "metadata": {},
   "outputs": [
    {
     "data": {
      "text/html": [
       "<div>\n",
       "<style scoped>\n",
       "    .dataframe tbody tr th:only-of-type {\n",
       "        vertical-align: middle;\n",
       "    }\n",
       "\n",
       "    .dataframe tbody tr th {\n",
       "        vertical-align: top;\n",
       "    }\n",
       "\n",
       "    .dataframe thead th {\n",
       "        text-align: right;\n",
       "    }\n",
       "</style>\n",
       "<table border=\"1\" class=\"dataframe\">\n",
       "  <thead>\n",
       "    <tr style=\"text-align: right;\">\n",
       "      <th></th>\n",
       "      <th>2016</th>\n",
       "      <th>2020</th>\n",
       "      <th>APN</th>\n",
       "    </tr>\n",
       "  </thead>\n",
       "  <tbody>\n",
       "    <tr>\n",
       "      <th>0</th>\n",
       "      <td>0</td>\n",
       "      <td>1</td>\n",
       "      <td>30334023</td>\n",
       "    </tr>\n",
       "    <tr>\n",
       "      <th>0</th>\n",
       "      <td>0</td>\n",
       "      <td>1</td>\n",
       "      <td>30327016</td>\n",
       "    </tr>\n",
       "    <tr>\n",
       "      <th>0</th>\n",
       "      <td>1</td>\n",
       "      <td>2</td>\n",
       "      <td>24960051</td>\n",
       "    </tr>\n",
       "    <tr>\n",
       "      <th>0</th>\n",
       "      <td>0</td>\n",
       "      <td>1</td>\n",
       "      <td>01511081</td>\n",
       "    </tr>\n",
       "    <tr>\n",
       "      <th>0</th>\n",
       "      <td>0</td>\n",
       "      <td>1</td>\n",
       "      <td>46432056</td>\n",
       "    </tr>\n",
       "    <tr>\n",
       "      <th>0</th>\n",
       "      <td>0</td>\n",
       "      <td>1</td>\n",
       "      <td>30341002</td>\n",
       "    </tr>\n",
       "    <tr>\n",
       "      <th>0</th>\n",
       "      <td>0</td>\n",
       "      <td>1</td>\n",
       "      <td>24529043</td>\n",
       "    </tr>\n",
       "    <tr>\n",
       "      <th>0</th>\n",
       "      <td>0</td>\n",
       "      <td>1</td>\n",
       "      <td>29928063</td>\n",
       "    </tr>\n",
       "    <tr>\n",
       "      <th>0</th>\n",
       "      <td>0</td>\n",
       "      <td>1</td>\n",
       "      <td>42935022</td>\n",
       "    </tr>\n",
       "    <tr>\n",
       "      <th>0</th>\n",
       "      <td>0</td>\n",
       "      <td>1</td>\n",
       "      <td>44732030</td>\n",
       "    </tr>\n",
       "    <tr>\n",
       "      <th>0</th>\n",
       "      <td>0</td>\n",
       "      <td>1</td>\n",
       "      <td>27453041</td>\n",
       "    </tr>\n",
       "    <tr>\n",
       "      <th>0</th>\n",
       "      <td>0</td>\n",
       "      <td>1</td>\n",
       "      <td>27726026</td>\n",
       "    </tr>\n",
       "    <tr>\n",
       "      <th>0</th>\n",
       "      <td>0</td>\n",
       "      <td>1</td>\n",
       "      <td>43428123</td>\n",
       "    </tr>\n",
       "    <tr>\n",
       "      <th>0</th>\n",
       "      <td>0</td>\n",
       "      <td>1</td>\n",
       "      <td>46227003</td>\n",
       "    </tr>\n",
       "    <tr>\n",
       "      <th>0</th>\n",
       "      <td>0</td>\n",
       "      <td>1</td>\n",
       "      <td>26123040</td>\n",
       "    </tr>\n",
       "    <tr>\n",
       "      <th>0</th>\n",
       "      <td>1</td>\n",
       "      <td>2</td>\n",
       "      <td>43917140</td>\n",
       "    </tr>\n",
       "    <tr>\n",
       "      <th>0</th>\n",
       "      <td>0</td>\n",
       "      <td>1</td>\n",
       "      <td>30330004</td>\n",
       "    </tr>\n",
       "    <tr>\n",
       "      <th>0</th>\n",
       "      <td>0</td>\n",
       "      <td>1</td>\n",
       "      <td>43933037</td>\n",
       "    </tr>\n",
       "    <tr>\n",
       "      <th>0</th>\n",
       "      <td>0</td>\n",
       "      <td>1</td>\n",
       "      <td>37317034</td>\n",
       "    </tr>\n",
       "    <tr>\n",
       "      <th>0</th>\n",
       "      <td>0</td>\n",
       "      <td>1</td>\n",
       "      <td>46207052</td>\n",
       "    </tr>\n",
       "    <tr>\n",
       "      <th>0</th>\n",
       "      <td>0</td>\n",
       "      <td>1</td>\n",
       "      <td>44626011</td>\n",
       "    </tr>\n",
       "    <tr>\n",
       "      <th>0</th>\n",
       "      <td>0</td>\n",
       "      <td>1</td>\n",
       "      <td>26462005</td>\n",
       "    </tr>\n",
       "    <tr>\n",
       "      <th>0</th>\n",
       "      <td>1</td>\n",
       "      <td>2</td>\n",
       "      <td>24958007</td>\n",
       "    </tr>\n",
       "  </tbody>\n",
       "</table>\n",
       "</div>"
      ],
      "text/plain": [
       "   2016  2020       APN\n",
       "0     0     1  30334023\n",
       "0     0     1  30327016\n",
       "0     1     2  24960051\n",
       "0     0     1  01511081\n",
       "0     0     1  46432056\n",
       "0     0     1  30341002\n",
       "0     0     1  24529043\n",
       "0     0     1  29928063\n",
       "0     0     1  42935022\n",
       "0     0     1  44732030\n",
       "0     0     1  27453041\n",
       "0     0     1  27726026\n",
       "0     0     1  43428123\n",
       "0     0     1  46227003\n",
       "0     0     1  26123040\n",
       "0     1     2  43917140\n",
       "0     0     1  30330004\n",
       "0     0     1  43933037\n",
       "0     0     1  37317034\n",
       "0     0     1  46207052\n",
       "0     0     1  44626011\n",
       "0     0     1  26462005\n",
       "0     1     2  24958007"
      ]
     },
     "execution_count": 96,
     "metadata": {},
     "output_type": "execute_result"
    }
   ],
   "source": [
    "growth_df"
   ]
  },
  {
   "cell_type": "code",
   "execution_count": null,
   "id": "59e1803e",
   "metadata": {},
   "outputs": [],
   "source": []
  },
  {
   "cell_type": "code",
   "execution_count": null,
   "id": "b5902819",
   "metadata": {},
   "outputs": [],
   "source": []
  },
  {
   "cell_type": "code",
   "execution_count": null,
   "id": "d8ad0f55",
   "metadata": {},
   "outputs": [],
   "source": []
  },
  {
   "cell_type": "code",
   "execution_count": null,
   "id": "e626d47d",
   "metadata": {},
   "outputs": [],
   "source": []
  },
  {
   "cell_type": "code",
   "execution_count": 84,
   "id": "394b1882",
   "metadata": {},
   "outputs": [
    {
     "data": {
      "image/png": "[encoded data removed]",
      "text/plain": [
       "<Figure size 640x480 with 1 Axes>"
      ]
     },
     "metadata": {},
     "output_type": "display_data"
    }
   ],
   "source": [
    "xs, ys = zip(*box_2016.exterior.coords) #create lists of x and y values\n",
    "xs1, ys1 = zip(*box_2020.exterior.coords) #create lists of x and y values\n",
    "xs2, ys2 = zip(*ann_poly.exterior.coords) #create lists of x and y values\n",
    "#xs3, ys3 = zip(*ann_poly2.exterior.coords) #create lists of x and y values\n",
    "\n",
    "plt.figure()\n",
    "plt.plot(xs,ys) \n",
    "plt.plot(xs1,ys1) \n",
    "plt.plot(xs2,ys2) \n",
    "#plt.plot(xs3,ys3) \n",
    "plt.show()"
   ]
  }
 ],
 "metadata": {
  "kernelspec": {
   "display_name": "Python 3",
   "language": "python",
   "name": "python3"
  },
  "language_info": {
   "codemirror_mode": {
    "name": "ipython",
    "version": 3
   },
   "file_extension": ".py",
   "mimetype": "text/x-python",
   "name": "python",
   "nbconvert_exporter": "python",
   "pygments_lexer": "ipython3",
   "version": "3.8.10"
  }
 },
 "nbformat": 4,
 "nbformat_minor": 5
}
