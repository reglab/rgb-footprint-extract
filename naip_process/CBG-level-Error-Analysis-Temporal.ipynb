{
 "cells": [
  {
   "cell_type": "markdown",
   "id": "c0fa699d",
   "metadata": {},
   "source": [
    "# Generate tiles for Cloud Factory"
   ]
  },
  {
   "cell_type": "code",
   "execution_count": 1,
   "id": "563de16c",
   "metadata": {},
   "outputs": [],
   "source": [
    "# Import functions\n",
    "%run inference-functions.ipynb import load_data, get_bounds, visualize_tile_predvOSM, assign_cbgs_by_coverage\n",
    "%run ADU_permit_matching-polygon-pipeline.ipynb import load_sources, get_tile_dicts_all_years"
   ]
  },
  {
   "cell_type": "code",
   "execution_count": 2,
   "id": "ac70536a",
   "metadata": {},
   "outputs": [],
   "source": [
    "import json\n",
    "import geopandas as gpd\n",
    "import glob\n",
    "import matplotlib.pyplot as plt\n",
    "import numpy as np\n",
    "import os\n",
    "import pandas as pd\n",
    "import pyproj\n",
    "from pyproj import Geod\n",
    "import rasterio\n",
    "import rasterio.plot\n",
    "from rasterio.transform import from_bounds\n",
    "import rasterio.features\n",
    "import seaborn as sns\n",
    "import shapely\n",
    "from shapely.geometry import box, Polygon\n",
    "from shapely.ops import orient\n",
    "from tqdm import tqdm\n",
    "\n",
    "tqdm.pandas()"
   ]
  },
  {
   "cell_type": "code",
   "execution_count": 3,
   "id": "67205454",
   "metadata": {},
   "outputs": [],
   "source": [
    "# Paths\n",
    "SHAPEFILE_FP = '/oak/stanford/groups/deho/building_compliance/shapefiles'\n",
    "OAK_FP = '/oak/stanford/groups/deho/building_compliance/'\n",
    "TIF_FP, INFERENCES_DIR, _ = load_sources()\n",
    "OUTPUT_FP = os.path.join(OAK_FP, 'outputs', 'cbg-inference-2020')\n",
    "\n",
    "# Aligned tiles specifically for Cloud Factory\n",
    "CF_IMG_FP = {\n",
    "    '2016': '/oak/stanford/groups/deho/building_compliance/san_jose_naip_512/2016/cf_tiles/',\n",
    "    '2018': '/oak/stanford/groups/deho/building_compliance/san_jose_naip_512/2018/cf_tiles/',\n",
    "    '2020': os.path.join(OAK_FP, 'san_jose_naip_512', 'phase2_superresx2')\n",
    "}\n",
    "\n",
    "YEARS = ['2016', '2018', '2020']\n",
    "TEMPORAL_OUTPUT_FP = os.path.join(OAK_FP, 'outputs', 'Temporal-Error-Analysis')\n",
    "\n",
    "# CF Params\n",
    "CF_ROUND = 1\n",
    "assert CF_ROUND in [1, 2]"
   ]
  },
  {
   "cell_type": "code",
   "execution_count": 4,
   "id": "79ab4c7d",
   "metadata": {},
   "outputs": [
    {
     "name": "stdout",
     "output_type": "stream",
     "text": [
      "[INFO] Restricting zoning data to R-1, R-2 and R-M (ex. R-MH)\n"
     ]
    }
   ],
   "source": [
    "cbg_sj, zoning = load_data(shapefile_fp=SHAPEFILE_FP, oak_fp=OAK_FP)\n",
    "building_footprints_osm = gpd.read_file(os.path.join(OUTPUT_FP,'osm_building_processed'))\n",
    "cbg_footprints = gpd.read_file(os.path.join(OUTPUT_FP, 'cbg_aggregate'))"
   ]
  },
  {
   "cell_type": "code",
   "execution_count": 5,
   "id": "d8dc9fce",
   "metadata": {},
   "outputs": [
    {
     "name": "stderr",
     "output_type": "stream",
     "text": [
      "100%|██████████| 3192/3192 [00:00<00:00, 11121.77it/s]\n",
      "100%|██████████| 3192/3192 [00:00<00:00, 11947.87it/s]\n",
      "100%|██████████| 3074/3074 [00:00<00:00, 12450.38it/s]\n"
     ]
    }
   ],
   "source": [
    "# Load tile dict\n",
    "tile_bounds_dict_all, _ = get_tile_dicts_all_years(oak_fp=OAK_FP, inferences_dir=INFERENCES_DIR)"
   ]
  },
  {
   "cell_type": "code",
   "execution_count": 6,
   "id": "89d2fd6c",
   "metadata": {},
   "outputs": [],
   "source": [
    "# Load inferred buildings for all years\n",
    "building_footprints_infer = {}\n",
    "for year in YEARS:\n",
    "    building_footprints_infer[year] = gpd.read_file(os.path.join(OAK_FP, 'outputs/cbg-inference-{}/inference_building_processed'.format(year)))"
   ]
  },
  {
   "cell_type": "markdown",
   "id": "08e935d0",
   "metadata": {},
   "source": [
    "## Define tiles (CF Round 1, CF Round 2)"
   ]
  },
  {
   "cell_type": "code",
   "execution_count": 7,
   "id": "8ef0044d",
   "metadata": {},
   "outputs": [],
   "source": [
    "if CF_ROUND == 1:\n",
    "    # Round 1: Get CBG tile names\n",
    "    checked_tiles = pd.read_csv(os.path.join(OAK_FP, 'outputs', 'cbg-inference-2020', 'Error-Analysis', 'sampled_tiles_checked.csv'))\n",
    "    checked_tiles = checked_tiles.loc[checked_tiles['sample_rationale'] == 'CBG']\n",
    "    tile_names = checked_tiles['file'].unique()\n",
    "    \n",
    "    selected_tiles = checked_tiles.copy()"
   ]
  },
  {
   "cell_type": "code",
   "execution_count": 8,
   "id": "27d2a098",
   "metadata": {},
   "outputs": [],
   "source": [
    "if CF_ROUND == 2:\n",
    "    # Round 2: 140 CBG-stratified randomly sampled tiles\n",
    "    selected_tiles = pd.read_csv(os.path.join(OAK_FP, 'outputs', 'Temporal-Error-Analysis', 'Round2', 'sampled_tiles.csv'))\n",
    "    tile_names = selected_tiles['file'].unique()"
   ]
  },
  {
   "cell_type": "code",
   "execution_count": 9,
   "id": "629ad7d2",
   "metadata": {},
   "outputs": [
    {
     "name": "stderr",
     "output_type": "stream",
     "text": [
      "100%|██████████| 71/71 [00:00<00:00, 325.71it/s]\n"
     ]
    }
   ],
   "source": [
    "tile_gdf = selected_tiles[['file', 'GEOID']].copy()\n",
    "tile_gdf['geometry'] = tile_gdf.file.progress_apply(\n",
    "        lambda name: get_bounds(tile_bounds_dict_all['2020'], name) if name in list(tile_bounds_dict_all['2020'].keys()) else None\n",
    ")\n",
    "tile_gdf = gpd.GeoDataFrame(tile_gdf, crs='EPSG:4326')"
   ]
  },
  {
   "cell_type": "markdown",
   "id": "441b5781",
   "metadata": {},
   "source": [
    "## Generate visualizations for selected tiles"
   ]
  },
  {
   "cell_type": "code",
   "execution_count": 13,
   "id": "3948bc49",
   "metadata": {},
   "outputs": [],
   "source": [
    "# Visualize OSM and predictions on tiles\n",
    "def visualize_tile_predvOSM_CF(tile_bounds_dict, building_footprints_infer, building_footprints_osm, \n",
    "                            file_name, img_fp, tif_fp, final_output_fp, year, save=False, small=True \n",
    "                            ):\n",
    "    if os.path.exists(os.path.join(final_output_fp, '{}-small_{}.png'.format(file_name, year))):\n",
    "        return None\n",
    "    \n",
    "    # Get image, OSM and inference\n",
    "    if os.path.exists(os.path.join(img_fp, 'train')):\n",
    "        # For 2020 data which is split across train, val and test\n",
    "        img_file = None\n",
    "        for dirname in ['train', 'val', 'test']:\n",
    "            dirpath = os.path.join(img_fp, dirname, 'images', '{}.npy'.format(file_name))\n",
    "            if os.path.exists(dirpath):\n",
    "                img_file = dirpath\n",
    "    else:\n",
    "        # For 2016 and 2018 data which is not split\n",
    "        if year == '2020':\n",
    "            img_file = os.path.join(img_fp, '{}.npy'.format(file_name))\n",
    "        else:\n",
    "            img_file = os.path.join(img_fp, '{}_{}.npy'.format(file_name, year))\n",
    "            \n",
    "    tile_img = np.load(img_file)\n",
    "    tile_bounds = get_bounds(tile_bounds_dict, file_name)\n",
    "    infer_tile = gpd.clip(building_footprints_infer, tile_bounds)\n",
    "    osm_tile = gpd.clip(building_footprints_osm, tile_bounds)\n",
    "    \n",
    "    # Get raster for plotting purposes\n",
    "    raster = rasterio.open(os.path.join(tif_fp, '{}.tif'.format(file_name)))\n",
    "    t = from_bounds(*raster.bounds, tile_img.shape[0], tile_img.shape[1])\n",
    "    \n",
    "    # Get shape boundaries\n",
    "    infer_tile_ext = infer_tile.copy()\n",
    "    infer_tile_ext.geometry = infer_tile_ext.geometry.exterior\n",
    "\n",
    "    osm_tile_ext = osm_tile.copy()\n",
    "    osm_tile_ext.geometry = osm_tile_ext.geometry.exterior\n",
    "    \n",
    "    # Get small OSM & Inference buildings\n",
    "    infer_tile_small = infer_tile.loc[infer_tile.small == 1]\n",
    "    osm_tile_small = osm_tile.loc[osm_tile.small == 1]\n",
    "    \n",
    "    infer_tile_small_ext = infer_tile_small.copy()\n",
    "    infer_tile_small_ext.geometry = infer_tile_small_ext.geometry.exterior\n",
    "\n",
    "    osm_tile_small_ext = osm_tile_small.copy()\n",
    "    osm_tile_small_ext.geometry = osm_tile_small_ext.geometry.exterior\n",
    "    \n",
    "    # Plot inference vs OSM\n",
    "    if not small:\n",
    "        plt.clf()\n",
    "        fig, ax = plt.subplots(figsize=(15, 15))\n",
    "        rasterio.plot.show(np.moveaxis(tile_img, 2, 0),transform=t, ax=ax)\n",
    "        if len(infer_tile_ext) > 0:\n",
    "            infer_tile_ext.to_crs('EPSG:26910').plot(ax=ax, alpha=1, color='red', zorder=2)\n",
    "        if len(osm_tile_ext) > 0:\n",
    "            osm_tile_ext.to_crs('EPSG:26910').plot(ax=ax, alpha=1, color='blue', zorder=1)\n",
    "        ax.axis('off')\n",
    "        if save:\n",
    "            plt.savefig(os.path.join(final_output_fp, '{}-comp_{}.png'.format(file_name, year)), bbox_inches='tight')\n",
    "        else:\n",
    "            plt.show()\n",
    "    \n",
    "    # Plot small buildings\n",
    "    if small:\n",
    "        plt.clf()\n",
    "        fig, ax = plt.subplots(figsize=(15, 15))\n",
    "        rasterio.plot.show(np.moveaxis(tile_img, 2, 0),transform=t, ax=ax)\n",
    "        if len(infer_tile_small_ext) > 0:\n",
    "            infer_tile_small_ext.to_crs('EPSG:26910').plot(ax=ax, alpha=1, color='red', zorder=2)\n",
    "        if len(osm_tile_small_ext) > 0:\n",
    "            osm_tile_small_ext.to_crs('EPSG:26910').plot(ax=ax, alpha=1, color='blue', zorder=1)\n",
    "        ax.axis('off')\n",
    "        if save:\n",
    "            plt.savefig(os.path.join(final_output_fp, '{}-small_{}.png'.format(file_name, year)), bbox_inches='tight')\n",
    "        else:\n",
    "            plt.show()\n",
    "    plt.close()"
   ]
  },
  {
   "cell_type": "code",
   "execution_count": 14,
   "id": "743b72c7",
   "metadata": {},
   "outputs": [
    {
     "name": "stderr",
     "output_type": "stream",
     "text": [
      "100%|██████████| 71/71 [03:17<00:00,  2.78s/it]\n"
     ]
    }
   ],
   "source": [
    "# Generate visualizations\n",
    "for year in ['2018']:\n",
    "    _ = tile_gdf.to_crs('EPSG:26910').file.progress_apply(lambda file: visualize_tile_predvOSM_CF(\n",
    "            tile_bounds_dict=tile_bounds_dict_all['2020'], # Use tile bounds from 2020\n",
    "            building_footprints_infer=building_footprints_infer[year], # Use predictions for specific year\n",
    "            building_footprints_osm=building_footprints_osm,\n",
    "            file_name=file,\n",
    "            img_fp=CF_IMG_FP[year], # Use npy arrays for specific year\n",
    "            tif_fp=TIF_FP['2020'], # Use tile bounds from 2020\n",
    "            final_output_fp=os.path.join(TEMPORAL_OUTPUT_FP, 'Round{}'.format(CF_ROUND), 'CF_Visualizations', year),\n",
    "            save=True, small=True, \n",
    "            year=year))"
   ]
  },
  {
   "cell_type": "code",
   "execution_count": 10,
   "id": "5ab9bc55",
   "metadata": {},
   "outputs": [
    {
     "name": "stderr",
     "output_type": "stream",
     "text": [
      "100%|██████████| 152/152 [00:00<00:00, 17336.55it/s]\n"
     ]
    }
   ],
   "source": [
    "# Generate and save tile centroids\n",
    "tile_gdf['centroid'] = tile_gdf.geometry.progress_apply(\n",
    "    lambda geom: geom.centroid\n",
    ")\n",
    "\n",
    "tile_gdf[['file', 'centroid']].to_csv(\n",
    "    os.path.join(TEMPORAL_OUTPUT_FP, 'Round{}'.format(CF_ROUND), 'tile_centroids.csv'), \n",
    "    index=False)"
   ]
  },
  {
   "cell_type": "markdown",
   "id": "3143855c",
   "metadata": {},
   "source": [
    "# Playground"
   ]
  },
  {
   "cell_type": "code",
   "execution_count": null,
   "id": "bd23f401",
   "metadata": {},
   "outputs": [],
   "source": [
    "tile = m_3712142_nw_10_060_20200525_173\n",
    "x = np.load(os.path.join(CF_IMG_FP['2016'], '{}_2016.npy'.format(tile)))\n",
    "plt.imshow(tile)\n",
    "plt.show()"
   ]
  },
  {
   "cell_type": "code",
   "execution_count": null,
   "id": "446e98a3",
   "metadata": {},
   "outputs": [],
   "source": []
  },
  {
   "cell_type": "code",
   "execution_count": null,
   "id": "bdc69e57",
   "metadata": {},
   "outputs": [],
   "source": []
  }
 ],
 "metadata": {
  "kernelspec": {
   "display_name": "Python 3",
   "language": "python",
   "name": "python3"
  },
  "language_info": {
   "codemirror_mode": {
    "name": "ipython",
    "version": 3
   },
   "file_extension": ".py",
   "mimetype": "text/x-python",
   "name": "python",
   "nbconvert_exporter": "python",
   "pygments_lexer": "ipython3",
   "version": "3.8.10"
  }
 },
 "nbformat": 4,
 "nbformat_minor": 5
}
