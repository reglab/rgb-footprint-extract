{
 "cells": [
  {
   "cell_type": "markdown",
   "id": "c5af55ad",
   "metadata": {},
   "source": [
    "# Identify permitted and potentially unpermitted attached and detached units in San Jose (2020)"
   ]
  },
  {
   "cell_type": "code",
   "execution_count": 1,
   "id": "fc420f8b",
   "metadata": {},
   "outputs": [],
   "source": [
    "import os\n",
    "import geopandas as gpd\n",
    "import pandas as pd\n",
    "import matplotlib.pyplot as plt\n",
    "from shapely.geometry import Point\n",
    "import numpy as np\n",
    "import math\n",
    "from tqdm import tqdm"
   ]
  },
  {
   "cell_type": "code",
   "execution_count": 2,
   "id": "4c8e3baf",
   "metadata": {},
   "outputs": [],
   "source": [
    "# Import functions for the polygon pipeline\n",
    "%run ADU_permit_matching-polygon-pipeline.ipynb import (process_OSM_data, \\\n",
    "                                                        compare_buildings, \\\n",
    "                                                        merge_buildings,\\\n",
    "                                                        get_inference_main_building, \\\n",
    "                                                        identify_main_buildings, \\\n",
    "                                                        compute_largest_protruding_poly, \\\n",
    "                                                        compare_building_footprint, \\\n",
    "                                                        flatten_geometries, \\\n",
    "                                                        run_osm_apn, \\\n",
    "                                                        run_osm_apn_full_detail)"
   ]
  },
  {
   "cell_type": "code",
   "execution_count": 3,
   "id": "a4c82c70",
   "metadata": {},
   "outputs": [],
   "source": [
    "import warnings\n",
    "warnings.filterwarnings(\"ignore\")"
   ]
  },
  {
   "cell_type": "code",
   "execution_count": 4,
   "id": "6ae725b5",
   "metadata": {},
   "outputs": [],
   "source": [
    "# File paths\n",
    "OAK_FP = '/oak/stanford/groups/deho/building_compliance/'\n",
    "INPUT_FP = os.path.join(OAK_FP, 'outputs', 'Permit-Matching')\n",
    "SJ_RES_PARCELS_FP = os.path.join(INPUT_FP, 'inputs', 'san_jose_parcels_res.geojson')\n",
    "ZONING_FP = os.path.join(OAK_FP, 'san_jose_suppl', 'san_jose_Zoning_Districts.geojson')\n",
    "BUILD_FP = os.path.join(OAK_FP, 'outputs', 'cbg-inference-{}', 'inference_building_processed')\n",
    "OSM_FP = os.path.join(OAK_FP, 'outputs', 'cbg-inference-2020', 'osm_building_processed')"
   ]
  },
  {
   "cell_type": "code",
   "execution_count": 5,
   "id": "fd200028",
   "metadata": {},
   "outputs": [],
   "source": [
    "# Load data\n",
    "# * Residential parcels\n",
    "sj_parcels_res = gpd.read_file(SJ_RES_PARCELS_FP)\n",
    "sj_parcels_res = sj_parcels_res[sj_parcels_res['APN'].notna()]\n",
    "\n",
    "# * Building permits\n",
    "bldg_active = gpd.read_file(os.path.join(INPUT_FP, 'inputs', 'permits', 'bldg_active.geojson'))\n",
    "bldg_recent = gpd.read_file(os.path.join(INPUT_FP, 'inputs','permits', 'bldg_recent.geojson'))\n",
    "bldg_expired = gpd.read_file(os.path.join(INPUT_FP, 'inputs', 'permits', 'bldg_expired.geojson'))\n",
    "\n",
    "# * Zoning\n",
    "sj_zoning = gpd.read_file(ZONING_FP)\n",
    "sj_residential = sj_zoning[(sj_zoning['ZONING'].str.contains('R-1')) | (sj_zoning['ZONING'].str.contains('R-2')) |\\\n",
    "         ((sj_zoning['ZONING'].str.contains('R-M')) & (sj_zoning['ZONING'] != 'R-MH'))]\n",
    "\n",
    "# * parcel+permit\n",
    "sj_parcel_permit = pd.read_csv(os.path.join(INPUT_FP, 'outputs', 'parcel_permit_found.csv'))\n",
    "sj_permit_noparcel = pd.read_csv(os.path.join(INPUT_FP, 'outputs', 'parcel_permit_notfound.csv'))\n",
    "sj_parcel_permit['geometry_parcel'] = gpd.GeoSeries.from_wkt(sj_parcel_permit['geometry_parcel'])\n",
    "sj_parcel_permit['geometry_permit'] = gpd.GeoSeries.from_wkt(sj_parcel_permit['geometry_permit'])\n",
    "sj_permit_noparcel['geometry'] = gpd.GeoSeries.from_wkt(sj_permit_noparcel['geometry'])"
   ]
  },
  {
   "cell_type": "markdown",
   "id": "84d495de",
   "metadata": {},
   "source": [
    "Handle active permits differently than expired permits\n",
    "- Expired permits barely report dwelling units and square footage\n",
    "- Should we filter really finely like we do for active permits, or filter for just work description as we do for expired permits to catch ALL the construction permits we can find? I worry that some of the buildings we infer will be under non-SFR permits\n",
    "\n",
    "Keep this block of code in case we want to filter more specifically for possible dwelling units, but we will work with the more relaxed conditions to get more possible permits to compare to"
   ]
  },
  {
   "cell_type": "code",
   "execution_count": 6,
   "id": "d9078811",
   "metadata": {},
   "outputs": [],
   "source": [
    "# Filter permits\n",
    "cols = list(bldg_active.columns) + ['permit_status']\n",
    "permits = gpd.GeoDataFrame(columns=cols)\n",
    "for i, status in zip([bldg_active, bldg_recent, bldg_expired], ['active', 'recent', 'expired']):\n",
    "    i['permit_status'] = status\n",
    "    permits = pd.concat([permits, i[i['WORKDESC'].isin(['New Construction', 'Additions/Alterations'])]])\n",
    "permits = permits.reset_index(drop=True)\n",
    "\n",
    "permits.crs = \"EPSG:4326\""
   ]
  },
  {
   "cell_type": "markdown",
   "id": "382a041a",
   "metadata": {},
   "source": [
    "# Functions"
   ]
  },
  {
   "cell_type": "code",
   "execution_count": 7,
   "id": "e679cd75",
   "metadata": {},
   "outputs": [],
   "source": [
    "def match_parcel(parcel_apn):\n",
    "    # Obtain parcel-level data\n",
    "    parcel_inputs = parcel_level_data(\n",
    "      parcel_apn, sj_parcels_res, sj_parcel_permit)\n",
    "    inferred_buildings_2020_parcel, inferred_buildings_2016_parcel, osm_buildings_parcel, permits_parcel = parcel_inputs\n",
    "\n",
    "    # Incorporate OSM data\n",
    "    parcel_buildings, _ = process_OSM_data(\n",
    "      inferred_buildings_2020_parcel, inferred_buildings_2016_parcel, osm_buildings_parcel, MIN_AREA_THRESHOLD, FLATTEN_THRESHOLD)\n",
    "\n",
    "    # Incorporate permit data\n",
    "    parcel_buildings = process_permit_data(parcel_apn, permits_parcel, parcel_buildings)\n",
    "\n",
    "    return parcel_buildings"
   ]
  },
  {
   "cell_type": "code",
   "execution_count": 8,
   "id": "39cc119f",
   "metadata": {},
   "outputs": [],
   "source": [
    "def parcel_level_data(parcel_apn, sj_parcels_res, sj_parcel_permit):\n",
    "    parcel_bounds = sj_parcels_res[sj_parcels_res['APN'] == parcel_apn]\n",
    "\n",
    "    # clip inferred buildings and osm buildings\n",
    "    # i don't think clip is a good idea since it truncates the inferences according to the mask\n",
    "    # inferred_buildings_2020_parcel = gpd.clip(building_inference_2020, parcel_bounds)\n",
    "\n",
    "    # def mask_buildings(df, parcel_bounds):\n",
    "    #   df_out = df.sjoin(parcel_bounds[['geometry','geom']])\n",
    "    #   # print(df_out)\n",
    "    #   df_out['iou'] = df_out['geometry'].intersection(df_out['geom']).area/df_out['geom'].area\n",
    "    #   df_out = df_out[df_out['iou'] > 0.7]\n",
    "    #   return df_out\n",
    "\n",
    "    def mask_buildings1(parcel_bounds, fp):\n",
    "        df_out = gpd.read_file(fp, mask=parcel_bounds)\n",
    "        df_out['iou'] = df_out['geometry'].intersection(parcel_bounds).area/df_out['geometry'].area\n",
    "        df_out = df_out[df_out['iou'] > 0.7]\n",
    "        if df_out.empty:\n",
    "            return None\n",
    "        else:\n",
    "            return df_out\n",
    "\n",
    "    inferred_buildings_2020_parcel = mask_buildings1(parcel_bounds['geometry'].values[0], BUILD_FP.format('2020'))\n",
    "    inferred_buildings_2016_parcel = mask_buildings1(parcel_bounds['geometry'].values[0], BUILD_FP.format('2016'))\n",
    "    osm_buildings_parcel = mask_buildings1(parcel_bounds['geometry'].values[0], OSM_FP)\n",
    "\n",
    "    permits_parcel = sj_parcel_permit[sj_parcel_permit['APN_parcel'] == parcel_apn]\n",
    "    if permits_parcel.empty:\n",
    "        permits_parcels = None\n",
    "\n",
    "    return inferred_buildings_2020_parcel, inferred_buildings_2016_parcel, osm_buildings_parcel, permits_parcel"
   ]
  },
  {
   "cell_type": "code",
   "execution_count": 9,
   "id": "726f07ba",
   "metadata": {},
   "outputs": [],
   "source": [
    "def process_permit_data(parcel_apn, permits_parcel, parcel_buildings):\n",
    "    # filter by parcel_buildings in this first pass\n",
    "    \"\"\"\n",
    "    We will only consider non-main buildings OR main buildings with a detected expansion from OSM or 2016.\n",
    "    \n",
    "    For each parcel, we will:\n",
    "    1. Filter for parcels that are clearly not SFRs (has >5 buildings)\n",
    "    \n",
    "    There are three types of classifications:\n",
    "    1. Permitted (building/activity matches to a permit)\n",
    "        - If expansion, permit needs to be issued between 2015-2020\n",
    "        - If small building, \n",
    "    2. Unpermitted (building/activity doesn't match reasonably to a permit)\n",
    "    \"\"\"\n",
    "    if parcel_buildings is not None:\n",
    "        if len(parcel_buildings) <= 5:\n",
    "            # then consider\n",
    "            parcel_buildings = parcel_buildings[(parcel_buildings['main_building_flag'] == False) | \\\n",
    "                                                ((parcel_buildings['main_building_flag']) & \\\n",
    "                                                 ((parcel_buildings['expansion_OSM_flag']) | \\\n",
    "                                                (parcel_buildings['expansion_2016_flag'])))]\n",
    "            if not parcel_buildings.empty:\n",
    "                # then start to do matching\n",
    "                if permits_parcel is not None and len(permits_parcel) > 0:\n",
    "                    ## ------ MAIN DRIVER HERE ------\n",
    "                    output_df = gpd.GeoDataFrame(columns=['apn'] + list(parcel_buildings.columns) + ['verdict', 'permit_id', 'certainty'])\n",
    "                    permit_nomatch_df = pd.DataFrame(columns=permits_parcel.columns)\n",
    "                    \n",
    "                    # then there is a permit matching in that parcel\n",
    "                    small_building = parcel_buildings[parcel_buildings['main_building_flag'] == False].reset_index(drop=True)\n",
    "                    expansion = parcel_buildings[(parcel_buildings['main_building_flag']) & \\\n",
    "                                                 ((parcel_buildings['expansion_OSM_flag']) | \\\n",
    "                                                (parcel_buildings['expansion_2016_flag']))].reset_index(drop=True)\n",
    "                    \n",
    "                    \n",
    "                    if not expansion.empty:\n",
    "                        assert len(expansion) == 1\n",
    "                        \n",
    "                        \n",
    "                    for idx, row in permits_parcel.iterrows():\n",
    "                        if row['WORKDESC'] == 'Additions/Alterations' and row['year'] <= 2020 and row['year'] >= 2015 \\\n",
    "                        and row['PERMITVALUE'] > 0 and row['SQUAREFOOT'] > 0:\n",
    "                            if not expansion.empty:\n",
    "                                output_df.loc[len(output_df)] = [parcel_apn] + expansion.loc[0].tolist() + ['permitted', row['OBJECTID_left'], 3]\n",
    "                                expansion.drop(0, inplace=True)\n",
    "                            else:\n",
    "                                permit_nomatch_df.loc[len(permit_nomatch_df)] = row.tolist()\n",
    "                        elif row['WORKDESC'] == 'Additions/Alterations' and row['year'] <= 2020 and row['year'] >= 2015 \\\n",
    "                        and row['PERMITVALUE'] > 0:\n",
    "                            if not expansion.empty:\n",
    "                                output_df.loc[len(output_df)] = [parcel_apn] + expansion.loc[0].tolist() + ['permitted', row['OBJECTID_left'], 2]\n",
    "                                expansion.drop(0, inplace=True)\n",
    "                            else:\n",
    "                                permit_nomatch_df.loc[len(permit_nomatch_df)] = row.tolist()\n",
    "                        elif row['WORKDESC'] == 'Additions/Alterations' and row['year'] <= 2020 and row['year'] >= 2015:\n",
    "                            if not expansion.empty:\n",
    "                                output_df.loc[len(output_df)] = [parcel_apn] + expansion.loc[0].tolist() + ['permitted', row['OBJECTID_left'], 1]\n",
    "                                expansion.drop(0, inplace=True)\n",
    "                            else:\n",
    "                                permit_nomatch_df.loc[len(permit_nomatch_df)] = row.tolist()\n",
    "                        elif (row['WORKDESC'] == 'New Construction' or row['WORKDESC'] == 'Additions/Alterations') and row['DWELLINGUNIT'] > 0 and \\\n",
    "                        row['PERMITVALUE'] > 0 and row['SQUAREFOOT'] > 0:\n",
    "                            if not small_building.empty:\n",
    "                                output_df.loc[len(output_df)] = [parcel_apn] + small_building.loc[0].tolist() + ['permitted', row['OBJECTID_left'], 3]\n",
    "                                small_building = small_building.drop(0).reset_index(drop=True)\n",
    "                            elif not expansion.empty and row['year'] <= 2020 and row['year'] >= 2015:\n",
    "                                output_df.loc[len(output_df)] = [parcel_apn] + expansion.loc[0].tolist() + ['permitted', row['OBJECTID_left'], 3]\n",
    "                                expansion.drop(0, inplace=True)\n",
    "                            else:\n",
    "                                permit_nomatch_df.loc[len(permit_nomatch_df)] = row.tolist()\n",
    "                        elif (row['WORKDESC'] == 'New Construction' or row['WORKDESC'] == 'Additions/Alterations') and row['PERMITVALUE'] > 0 and row['SQUAREFOOT'] > 0:\n",
    "                            if not small_building.empty:\n",
    "                                output_df.loc[len(output_df)] = [parcel_apn] + small_building.loc[0].tolist() + ['permitted', row['OBJECTID_left'], 3]\n",
    "                                small_building = small_building.drop(0).reset_index(drop=True)\n",
    "                            elif not expansion.empty and row['year'] <= 2020 and row['year'] >= 2015:\n",
    "                                output_df.loc[len(output_df)] = [parcel_apn] + expansion.loc[0].tolist() + ['permitted', row['OBJECTID_left'], 2]\n",
    "                                expansion.drop(0, inplace=True)\n",
    "                            else:\n",
    "                                permit_nomatch_df.loc[len(permit_nomatch_df)] = row.tolist()\n",
    "                        elif (row['WORKDESC'] == 'New Construction' or row['WORKDESC'] == 'Additions/Alterations'):\n",
    "                            if not small_building.empty:\n",
    "                                output_df.loc[len(output_df)] = [parcel_apn] + small_building.loc[0].tolist() + ['permitted', row['OBJECTID_left'], 3]\n",
    "                                small_building = small_building.drop(0).reset_index(drop=True)\n",
    "                            elif not expansion.empty and row['year'] <= 2020 and row['year'] >= 2015:\n",
    "                                output_df.loc[len(output_df)] = [parcel_apn] + expansion.loc[0].tolist() + ['permitted', row['OBJECTID_left'], 1]\n",
    "                                expansion.drop(0, inplace=True)\n",
    "                            else:\n",
    "                                permit_nomatch_df.loc[len(permit_nomatch_df)] = row.tolist()\n",
    "                            # then try to find the expansion\n",
    "                        else:\n",
    "                            print(row[['WORKDESC', 'SUBDESC', 'DWELLINGUNIT', 'PERMITVALUE', 'SQUAREFOOT', 'year']])\n",
    "                            # add to unmatched permits -- probably permits never went through or FN from model\n",
    "                    \n",
    "                    # rest is unpermitted\n",
    "                    if not small_building.empty:\n",
    "                        small_building['verdict'] = 'unpermitted'\n",
    "                        small_building['apn'] = parcel_apn\n",
    "                        output_df = pd.concat([output_df, small_building])\n",
    "                        \n",
    "                    if not expansion.empty:\n",
    "                        expansion['verdict'] = 'unpermitted'\n",
    "                        expansion['apn'] = parcel_apn\n",
    "                        output_df = pd.concat([output_df, expansion])\n",
    "                        \n",
    "                    return output_df, permit_nomatch_df\n",
    "#                     if not expansion.empty:\n",
    "#                         print(expansion)\n",
    "#                         print(permits_parcel[['WORKDESC', 'SUBDESC', 'DWELLINGUNIT', 'PERMITVALUE', 'SQUAREFOOT', 'FOLDERNUM']])\n",
    "                        \n",
    "#                     if not small_building.empty:\n",
    "#                         print(small_building)\n",
    "#                         print(permits_parcel[['WORKDESC', 'SUBDESC', 'DWELLINGUNIT', 'PERMITVALUE', 'SQUAREFOOT', 'FOLDERNUM']])\n",
    "                    \n",
    "                        \n",
    "                else:\n",
    "                    # return all the filtered parcel_buildings, with the caveat that we're highly overestimating\n",
    "                    parcel_buildings['verdict'] = 'unpermitted'\n",
    "                    parcel_buildings['apn'] = parcel_apn\n",
    "                    return parcel_buildings, None\n",
    "            else:\n",
    "                # return nothing since we can't consider any of the buildings (at least not rn)\n",
    "#                 if permits_parcel is not None and len(permits_parcel) > 0:\n",
    "#                     return None, permits_parcel\n",
    "#                 else:\n",
    "#                     return None, None\n",
    "                return None, None\n",
    "        else:\n",
    "            # return nothing since we don't want to consider this parcel\n",
    "            return None, None\n",
    "    \n",
    "#     if len(permits_parcel) > 0:\n",
    "#         print(permits_parcel[['WORKDESC', 'SUBDESC', 'DWELLINGUNIT', 'PERMITVALUE', 'SQUAREFOOT', 'FOLDERNUM']])\n",
    "#         if parcel_buildings is not None:\n",
    "#             print(parcel_buildings)\n",
    "#         else:\n",
    "#             print(0)\n",
    "#         pass\n",
    "#     else:\n",
    "#         return parcel_buildings"
   ]
  },
  {
   "cell_type": "code",
   "execution_count": 10,
   "id": "b0132d03",
   "metadata": {},
   "outputs": [],
   "source": [
    "def process_permit_data(parcel_apn, permits_parcel, parcel_buildings):\n",
    "    # filter by parcel_buildings in this first pass\n",
    "    \"\"\"\n",
    "    We will only consider non-main buildings OR main buildings with a detected expansion from OSM or 2016.\n",
    "    \n",
    "    For each parcel, we will:\n",
    "    1. Filter for parcels that are clearly not SFRs (has >5 buildings)\n",
    "    \n",
    "    There are three types of classifications:\n",
    "    1. Permitted (building/activity matches to a permit)\n",
    "        - If expansion, permit needs to be issued between 2015-2020\n",
    "        - If small building, \n",
    "    2. Unpermitted (building/activity doesn't match reasonably to a permit)\n",
    "    \"\"\"\n",
    "    if parcel_buildings is not None:\n",
    "        if len(parcel_buildings) <= 5:\n",
    "            # then consider\n",
    "            parcel_buildings = parcel_buildings[(parcel_buildings['main_building_flag'] == False) | \\\n",
    "                                                ((parcel_buildings['main_building_flag']) & \\\n",
    "                                                 ((parcel_buildings['expansion_OSM_flag']) | \\\n",
    "                                                (parcel_buildings['expansion_2016_flag'])))]\n",
    "            # Non-empty parcel buildings\n",
    "            if not parcel_buildings.empty:\n",
    "                # then start to do matching\n",
    "                if permits_parcel is not None and len(permits_parcel) > 0:\n",
    "                    ## ------ MAIN DRIVER HERE ------\n",
    "                    output_df = gpd.GeoDataFrame(columns=['apn'] + list(parcel_buildings.columns) + ['verdict', 'permit_id', 'certainty'])\n",
    "                    permit_nomatch_df = pd.DataFrame(columns=permits_parcel.columns)\n",
    "                    \n",
    "                    # then there is a permit matching in that parcel\n",
    "                    small_building = parcel_buildings[parcel_buildings['main_building_flag'] == False].reset_index(drop=True)\n",
    "                    expansion = parcel_buildings[(parcel_buildings['main_building_flag']) & \\\n",
    "                                                 ((parcel_buildings['expansion_OSM_flag']) | \\\n",
    "                                                (parcel_buildings['expansion_2016_flag']))].reset_index(drop=True)\n",
    "                    \n",
    "                    \n",
    "                    if not expansion.empty:\n",
    "                        assert len(expansion) == 1\n",
    "                        \n",
    "                    # Loop over the permits in the parcel \n",
    "                    for idx, row in permits_parcel.iterrows():\n",
    "                        # Main building expansion permits (2015-2020) - positive square footage (higher risk)\n",
    "                        if row['WORKDESC'] == 'Additions/Alterations' and row['year'] <= 2020 and row['year'] >= 2015 \\\n",
    "                        and row['PERMITVALUE'] > 0 and row['SQUAREFOOT'] > 0:\n",
    "                            if not expansion.empty:\n",
    "                                output_df.loc[len(output_df)] = [parcel_apn] + expansion.loc[0].tolist() + ['permitted', row['OBJECTID_left'], 3]\n",
    "                                expansion.drop(0, inplace=True)\n",
    "                            else:\n",
    "                                permit_nomatch_df.loc[len(permit_nomatch_df)] = row.tolist()\n",
    "                        # Main building expansion permits (2015-2020) - non-positive square footage (lower risk)\n",
    "                        elif row['WORKDESC'] == 'Additions/Alterations' and row['year'] <= 2020 and row['year'] >= 2015 \\\n",
    "                        and row['PERMITVALUE'] > 0:\n",
    "                            if not expansion.empty:\n",
    "                                output_df.loc[len(output_df)] = [parcel_apn] + expansion.loc[0].tolist() + ['permitted', row['OBJECTID_left'], 2]\n",
    "                                expansion.drop(0, inplace=True)\n",
    "                            else:\n",
    "                                permit_nomatch_df.loc[len(permit_nomatch_df)] = row.tolist()\n",
    "                        # Main building expansion permits (2015-2020) - non-positive square footage and permit value (lowest risk)\n",
    "                        elif row['WORKDESC'] == 'Additions/Alterations' and row['year'] <= 2020 and row['year'] >= 2015:\n",
    "                            if not expansion.empty:\n",
    "                                output_df.loc[len(output_df)] = [parcel_apn] + expansion.loc[0].tolist() + ['permitted', row['OBJECTID_left'], 1]\n",
    "                                expansion.drop(0, inplace=True)\n",
    "                            else:\n",
    "                                permit_nomatch_df.loc[len(permit_nomatch_df)] = row.tolist()\n",
    "                        # Other alterations/construction - higher risk for main building\n",
    "                        elif (row['WORKDESC'] == 'New Construction' or row['WORKDESC'] == 'Additions/Alterations') and row['DWELLINGUNIT'] > 0 and \\\n",
    "                        row['PERMITVALUE'] > 0 and row['SQUAREFOOT'] > 0:\n",
    "                            if not small_building.empty:\n",
    "                                output_df.loc[len(output_df)] = [parcel_apn] + small_building.loc[0].tolist() + ['permitted', row['OBJECTID_left'], 3]\n",
    "                                small_building = small_building.drop(0).reset_index(drop=True)\n",
    "                            elif not expansion.empty and row['year'] <= 2020 and row['year'] >= 2015:\n",
    "                                output_df.loc[len(output_df)] = [parcel_apn] + expansion.loc[0].tolist() + ['permitted', row['OBJECTID_left'], 3]\n",
    "                                expansion.drop(0, inplace=True)\n",
    "                            else:\n",
    "                                permit_nomatch_df.loc[len(permit_nomatch_df)] = row.tolist()\n",
    "                        #  Other alterations/construction - lower risk for main building\n",
    "                        elif (row['WORKDESC'] == 'New Construction' or row['WORKDESC'] == 'Additions/Alterations') and row['PERMITVALUE'] > 0 and row['SQUAREFOOT'] > 0:\n",
    "                            if not small_building.empty:\n",
    "                                output_df.loc[len(output_df)] = [parcel_apn] + small_building.loc[0].tolist() + ['permitted', row['OBJECTID_left'], 3]\n",
    "                                small_building = small_building.drop(0).reset_index(drop=True)\n",
    "                            elif not expansion.empty and row['year'] <= 2020 and row['year'] >= 2015:\n",
    "                                output_df.loc[len(output_df)] = [parcel_apn] + expansion.loc[0].tolist() + ['permitted', row['OBJECTID_left'], 2]\n",
    "                                expansion.drop(0, inplace=True)\n",
    "                            else:\n",
    "                                permit_nomatch_df.loc[len(permit_nomatch_df)] = row.tolist()\n",
    "                        #  Other alterations/construction - lowest risk for main building\n",
    "                        elif (row['WORKDESC'] == 'New Construction' or row['WORKDESC'] == 'Additions/Alterations'):\n",
    "                            if not small_building.empty:\n",
    "                                output_df.loc[len(output_df)] = [parcel_apn] + small_building.loc[0].tolist() + ['permitted', row['OBJECTID_left'], 3]\n",
    "                                small_building = small_building.drop(0).reset_index(drop=True)\n",
    "                            elif not expansion.empty and row['year'] <= 2020 and row['year'] >= 2015:\n",
    "                                output_df.loc[len(output_df)] = [parcel_apn] + expansion.loc[0].tolist() + ['permitted', row['OBJECTID_left'], 1]\n",
    "                                expansion.drop(0, inplace=True)\n",
    "                            else:\n",
    "                                permit_nomatch_df.loc[len(permit_nomatch_df)] = row.tolist()\n",
    "                            # then try to find the expansion\n",
    "                        else:\n",
    "                            print(row[['WORKDESC', 'SUBDESC', 'DWELLINGUNIT', 'PERMITVALUE', 'SQUAREFOOT', 'year']])\n",
    "                            # add to unmatched permits -- probably permits never went through or FN from model\n",
    "                    \n",
    "                    # Mark remaining buildings as unpermitted\n",
    "                    # rest is unpermitted\n",
    "                    if not small_building.empty:\n",
    "                        small_building['verdict'] = 'unpermitted'\n",
    "                        small_building['apn'] = parcel_apn\n",
    "                        output_df = pd.concat([output_df, small_building])\n",
    "                        \n",
    "                    if not expansion.empty:\n",
    "                        expansion['verdict'] = 'unpermitted'\n",
    "                        expansion['apn'] = parcel_apn\n",
    "                        output_df = pd.concat([output_df, expansion])\n",
    "                        \n",
    "                    return output_df, permit_nomatch_df\n",
    "#                     if not expansion.empty:\n",
    "#                         print(expansion)\n",
    "#                         print(permits_parcel[['WORKDESC', 'SUBDESC', 'DWELLINGUNIT', 'PERMITVALUE', 'SQUAREFOOT', 'FOLDERNUM']])\n",
    "                        \n",
    "#                     if not small_building.empty:\n",
    "#                         print(small_building)\n",
    "#                         print(permits_parcel[['WORKDESC', 'SUBDESC', 'DWELLINGUNIT', 'PERMITVALUE', 'SQUAREFOOT', 'FOLDERNUM']])\n",
    "                    \n",
    "                # Empty permits        \n",
    "                else:\n",
    "                    # return all the filtered parcel_buildings, with the caveat that we're highly overestimating\n",
    "                    parcel_buildings['verdict'] = 'unpermitted'\n",
    "                    parcel_buildings['apn'] = parcel_apn\n",
    "                    return parcel_buildings, None\n",
    "                \n",
    "            # Empty buildings\n",
    "            else:\n",
    "                # return nothing since we can't consider any of the buildings (at least not rn)\n",
    "                return None, None\n",
    "\n",
    "        # Non-residential parcel (>5 buildings)\n",
    "        else:\n",
    "            # return nothing since we don't want to consider this parcel\n",
    "            return None, None"
   ]
  },
  {
   "cell_type": "markdown",
   "id": "7847af2a",
   "metadata": {},
   "source": [
    "# Main"
   ]
  },
  {
   "cell_type": "code",
   "execution_count": 23,
   "id": "9636e7d0",
   "metadata": {},
   "outputs": [],
   "source": [
    "if os.path.exists('shortlist.csv'):\n",
    "    shortlist = pd.read_csv('shortlist.csv')\n",
    "else:\n",
    "    shortlist = pd.DataFrame(columns=['apn', 'main_building_flag', 'OSM_flag', \n",
    "                                      'expansion_OSM_flag', 'expansion_2016_flag', \n",
    "                                      'geometry', 'verdict', 'permit_id', 'certainty'])\n",
    "    \n",
    "if os.path.exists('permit_nomatch.csv'):\n",
    "    permit_nomatch = pd.read_csv('permit_nomatch.csv')\n",
    "else:\n",
    "    permit_nomatch = pd.DataFrame()"
   ]
  },
  {
   "cell_type": "code",
   "execution_count": 41,
   "id": "d91b0499",
   "metadata": {},
   "outputs": [
    {
     "name": "stderr",
     "output_type": "stream",
     "text": [
      "100%|██████████| 100/100 [05:54<00:00,  3.55s/it]\n"
     ]
    }
   ],
   "source": [
    "# Loop over each parcel\n",
    "parcel_apns = sj_parcels_res['APN'].unique()\n",
    "\n",
    "idx = 0\n",
    "for parcel_apn in tqdm(parcel_apns):\n",
    "    # Run the condition below if you want to filter only on permits that match to a parcel\n",
    "#    if not sj_parcel_permit[sj_parcel_permit['APN_parcel'] == parcel_apn].empty:\n",
    "    shortlist_parcel, permit_nomatch_df = match_parcel(parcel_apn)\n",
    "    if shortlist_parcel is not None and len(shortlist_parcel) > 0:\n",
    "        shortlist = pd.concat([shortlist, shortlist_parcel])\n",
    "    if permit_nomatch_df is not None and len(permit_nomatch_df) > 0:\n",
    "        permit_nomatch = pd.concat([permit_nomatch, permit_nomatch_df]) \n",
    "    idx += 1\n",
    "    if idx % 100 == 0:\n",
    "        shortlist.to_csv('shortlist.csv', index=False)\n",
    "        permit_nomatch.to_csv('permit_nomatch.csv', index=False)"
   ]
  },
  {
   "cell_type": "markdown",
   "id": "fdab52e3",
   "metadata": {},
   "source": [
    "## Balanced sampling over parcels"
   ]
  },
  {
   "cell_type": "code",
   "execution_count": 11,
   "id": "a28c1428",
   "metadata": {},
   "outputs": [],
   "source": [
    "MIN_AREA_THRESHOLD = 30\n",
    "FLATTEN_THRESHOLD = 0.85\n",
    "SAMPLE_SIZE = 1000"
   ]
  },
  {
   "cell_type": "code",
   "execution_count": 75,
   "id": "c654c231",
   "metadata": {
    "scrolled": true
   },
   "outputs": [
    {
     "name": "stdout",
     "output_type": "stream",
     "text": [
      "Reviewed permitted APNs: 1000; Reviewed unpermitted APNs: 1000\n"
     ]
    },
    {
     "name": "stderr",
     "output_type": "stream",
     "text": [
      "1it [00:25, 25.34s/it]"
     ]
    },
    {
     "name": "stdout",
     "output_type": "stream",
     "text": [
      "Permitted: 559; Unpermitted: 474\n"
     ]
    },
    {
     "name": "stderr",
     "output_type": "stream",
     "text": [
      "50it [02:00,  2.08s/it]"
     ]
    },
    {
     "name": "stdout",
     "output_type": "stream",
     "text": [
      "Permitted: 559; Unpermitted: 474\n"
     ]
    },
    {
     "name": "stderr",
     "output_type": "stream",
     "text": [
      "100it [03:28,  1.74s/it]"
     ]
    },
    {
     "name": "stdout",
     "output_type": "stream",
     "text": [
      "Permitted: 559; Unpermitted: 474\n"
     ]
    },
    {
     "name": "stderr",
     "output_type": "stream",
     "text": [
      "150it [05:01,  1.80s/it]"
     ]
    },
    {
     "name": "stdout",
     "output_type": "stream",
     "text": [
      "Permitted: 559; Unpermitted: 474\n"
     ]
    },
    {
     "name": "stderr",
     "output_type": "stream",
     "text": [
      "200it [06:58,  2.12s/it]"
     ]
    },
    {
     "name": "stdout",
     "output_type": "stream",
     "text": [
      "Permitted: 559; Unpermitted: 474\n"
     ]
    },
    {
     "name": "stderr",
     "output_type": "stream",
     "text": [
      "250it [08:34,  1.58s/it]"
     ]
    },
    {
     "name": "stdout",
     "output_type": "stream",
     "text": [
      "Permitted: 559; Unpermitted: 474\n"
     ]
    },
    {
     "name": "stderr",
     "output_type": "stream",
     "text": [
      "300it [10:07,  1.67s/it]"
     ]
    },
    {
     "name": "stdout",
     "output_type": "stream",
     "text": [
      "Permitted: 559; Unpermitted: 474\n"
     ]
    },
    {
     "name": "stderr",
     "output_type": "stream",
     "text": [
      "350it [11:39,  1.58s/it]"
     ]
    },
    {
     "name": "stdout",
     "output_type": "stream",
     "text": [
      "Permitted: 559; Unpermitted: 474\n"
     ]
    },
    {
     "name": "stderr",
     "output_type": "stream",
     "text": [
      "400it [13:26,  1.65s/it]"
     ]
    },
    {
     "name": "stdout",
     "output_type": "stream",
     "text": [
      "Permitted: 559; Unpermitted: 474\n"
     ]
    },
    {
     "name": "stderr",
     "output_type": "stream",
     "text": [
      "450it [14:53,  1.58s/it]"
     ]
    },
    {
     "name": "stdout",
     "output_type": "stream",
     "text": [
      "Permitted: 559; Unpermitted: 474\n"
     ]
    },
    {
     "name": "stderr",
     "output_type": "stream",
     "text": [
      "500it [16:32,  2.11s/it]"
     ]
    },
    {
     "name": "stdout",
     "output_type": "stream",
     "text": [
      "Permitted: 559; Unpermitted: 474\n"
     ]
    },
    {
     "name": "stderr",
     "output_type": "stream",
     "text": [
      "550it [18:03,  1.60s/it]"
     ]
    },
    {
     "name": "stdout",
     "output_type": "stream",
     "text": [
      "Permitted: 559; Unpermitted: 474\n"
     ]
    },
    {
     "name": "stderr",
     "output_type": "stream",
     "text": [
      "600it [19:47,  1.89s/it]"
     ]
    },
    {
     "name": "stdout",
     "output_type": "stream",
     "text": [
      "Permitted: 559; Unpermitted: 474\n"
     ]
    },
    {
     "name": "stderr",
     "output_type": "stream",
     "text": [
      "650it [21:59, 10.63s/it]"
     ]
    },
    {
     "name": "stdout",
     "output_type": "stream",
     "text": [
      "Permitted: 559; Unpermitted: 474\n"
     ]
    },
    {
     "name": "stderr",
     "output_type": "stream",
     "text": [
      "700it [23:32,  1.95s/it]"
     ]
    },
    {
     "name": "stdout",
     "output_type": "stream",
     "text": [
      "Permitted: 559; Unpermitted: 474\n"
     ]
    },
    {
     "name": "stderr",
     "output_type": "stream",
     "text": [
      "750it [25:10,  2.21s/it]"
     ]
    },
    {
     "name": "stdout",
     "output_type": "stream",
     "text": [
      "Permitted: 559; Unpermitted: 474\n"
     ]
    },
    {
     "name": "stderr",
     "output_type": "stream",
     "text": [
      "800it [27:06,  1.91s/it]"
     ]
    },
    {
     "name": "stdout",
     "output_type": "stream",
     "text": [
      "Permitted: 559; Unpermitted: 474\n"
     ]
    },
    {
     "name": "stderr",
     "output_type": "stream",
     "text": [
      "850it [28:38,  1.98s/it]"
     ]
    },
    {
     "name": "stdout",
     "output_type": "stream",
     "text": [
      "Permitted: 559; Unpermitted: 474\n"
     ]
    },
    {
     "name": "stderr",
     "output_type": "stream",
     "text": [
      "900it [30:17,  1.89s/it]"
     ]
    },
    {
     "name": "stdout",
     "output_type": "stream",
     "text": [
      "Permitted: 559; Unpermitted: 474\n"
     ]
    },
    {
     "name": "stderr",
     "output_type": "stream",
     "text": [
      "950it [31:50,  1.88s/it]"
     ]
    },
    {
     "name": "stdout",
     "output_type": "stream",
     "text": [
      "Permitted: 559; Unpermitted: 474\n"
     ]
    },
    {
     "name": "stderr",
     "output_type": "stream",
     "text": [
      "1000it [33:23,  2.05s/it]"
     ]
    },
    {
     "name": "stdout",
     "output_type": "stream",
     "text": [
      "Permitted: 559; Unpermitted: 474\n"
     ]
    },
    {
     "name": "stderr",
     "output_type": "stream",
     "text": [
      "1050it [34:59,  1.89s/it]"
     ]
    },
    {
     "name": "stdout",
     "output_type": "stream",
     "text": [
      "Permitted: 559; Unpermitted: 485\n"
     ]
    },
    {
     "name": "stderr",
     "output_type": "stream",
     "text": [
      "1100it [37:27,  2.21s/it]"
     ]
    },
    {
     "name": "stdout",
     "output_type": "stream",
     "text": [
      "Permitted: 559; Unpermitted: 506\n"
     ]
    },
    {
     "name": "stderr",
     "output_type": "stream",
     "text": [
      "1150it [39:16,  1.66s/it]"
     ]
    },
    {
     "name": "stdout",
     "output_type": "stream",
     "text": [
      "Permitted: 559; Unpermitted: 528\n"
     ]
    },
    {
     "name": "stderr",
     "output_type": "stream",
     "text": [
      "1200it [40:52,  1.68s/it]"
     ]
    },
    {
     "name": "stdout",
     "output_type": "stream",
     "text": [
      "Permitted: 559; Unpermitted: 543\n"
     ]
    },
    {
     "name": "stderr",
     "output_type": "stream",
     "text": [
      "1250it [42:29,  1.87s/it]"
     ]
    },
    {
     "name": "stdout",
     "output_type": "stream",
     "text": [
      "Permitted: 559; Unpermitted: 565\n"
     ]
    },
    {
     "name": "stderr",
     "output_type": "stream",
     "text": [
      "1300it [44:02,  1.55s/it]"
     ]
    },
    {
     "name": "stdout",
     "output_type": "stream",
     "text": [
      "Permitted: 559; Unpermitted: 578\n"
     ]
    },
    {
     "name": "stderr",
     "output_type": "stream",
     "text": [
      "1350it [45:27,  1.26s/it]"
     ]
    },
    {
     "name": "stdout",
     "output_type": "stream",
     "text": [
      "Permitted: 559; Unpermitted: 599\n"
     ]
    },
    {
     "name": "stderr",
     "output_type": "stream",
     "text": [
      "1400it [46:56,  1.55s/it]"
     ]
    },
    {
     "name": "stdout",
     "output_type": "stream",
     "text": [
      "Permitted: 559; Unpermitted: 624\n"
     ]
    },
    {
     "name": "stderr",
     "output_type": "stream",
     "text": [
      "1450it [48:34,  1.94s/it]"
     ]
    },
    {
     "name": "stdout",
     "output_type": "stream",
     "text": [
      "Permitted: 559; Unpermitted: 649\n"
     ]
    },
    {
     "name": "stderr",
     "output_type": "stream",
     "text": [
      "1500it [50:09,  2.02s/it]"
     ]
    },
    {
     "name": "stdout",
     "output_type": "stream",
     "text": [
      "Permitted: 559; Unpermitted: 670\n"
     ]
    },
    {
     "name": "stderr",
     "output_type": "stream",
     "text": [
      "1550it [51:51,  2.11s/it]"
     ]
    },
    {
     "name": "stdout",
     "output_type": "stream",
     "text": [
      "Permitted: 559; Unpermitted: 692\n"
     ]
    },
    {
     "name": "stderr",
     "output_type": "stream",
     "text": [
      "1600it [53:23,  1.73s/it]"
     ]
    },
    {
     "name": "stdout",
     "output_type": "stream",
     "text": [
      "Permitted: 559; Unpermitted: 712\n"
     ]
    },
    {
     "name": "stderr",
     "output_type": "stream",
     "text": [
      "1650it [54:59,  1.98s/it]"
     ]
    },
    {
     "name": "stdout",
     "output_type": "stream",
     "text": [
      "Permitted: 559; Unpermitted: 739\n"
     ]
    },
    {
     "name": "stderr",
     "output_type": "stream",
     "text": [
      "1700it [56:28,  1.36s/it]"
     ]
    },
    {
     "name": "stdout",
     "output_type": "stream",
     "text": [
      "Permitted: 559; Unpermitted: 756\n"
     ]
    },
    {
     "name": "stderr",
     "output_type": "stream",
     "text": [
      "1750it [58:04,  1.68s/it]"
     ]
    },
    {
     "name": "stdout",
     "output_type": "stream",
     "text": [
      "Permitted: 559; Unpermitted: 774\n"
     ]
    },
    {
     "name": "stderr",
     "output_type": "stream",
     "text": [
      "1800it [59:47,  1.71s/it]"
     ]
    },
    {
     "name": "stdout",
     "output_type": "stream",
     "text": [
      "Permitted: 559; Unpermitted: 799\n"
     ]
    },
    {
     "name": "stderr",
     "output_type": "stream",
     "text": [
      "1850it [1:01:18,  1.98s/it]"
     ]
    },
    {
     "name": "stdout",
     "output_type": "stream",
     "text": [
      "Permitted: 559; Unpermitted: 825\n"
     ]
    },
    {
     "name": "stderr",
     "output_type": "stream",
     "text": [
      "1900it [1:02:54,  1.89s/it]"
     ]
    },
    {
     "name": "stdout",
     "output_type": "stream",
     "text": [
      "Permitted: 559; Unpermitted: 850\n"
     ]
    },
    {
     "name": "stderr",
     "output_type": "stream",
     "text": [
      "1950it [1:04:24,  1.80s/it]"
     ]
    },
    {
     "name": "stdout",
     "output_type": "stream",
     "text": [
      "Permitted: 559; Unpermitted: 870\n"
     ]
    },
    {
     "name": "stderr",
     "output_type": "stream",
     "text": [
      "2000it [1:06:01,  1.67s/it]"
     ]
    },
    {
     "name": "stdout",
     "output_type": "stream",
     "text": [
      "Permitted: 559; Unpermitted: 894\n"
     ]
    },
    {
     "name": "stderr",
     "output_type": "stream",
     "text": [
      "2050it [1:07:37,  2.03s/it]"
     ]
    },
    {
     "name": "stdout",
     "output_type": "stream",
     "text": [
      "Permitted: 559; Unpermitted: 913\n"
     ]
    },
    {
     "name": "stderr",
     "output_type": "stream",
     "text": [
      "2100it [1:09:14,  2.03s/it]"
     ]
    },
    {
     "name": "stdout",
     "output_type": "stream",
     "text": [
      "Permitted: 559; Unpermitted: 934\n"
     ]
    },
    {
     "name": "stderr",
     "output_type": "stream",
     "text": [
      "2150it [1:10:52,  1.81s/it]"
     ]
    },
    {
     "name": "stdout",
     "output_type": "stream",
     "text": [
      "Permitted: 559; Unpermitted: 963\n"
     ]
    },
    {
     "name": "stderr",
     "output_type": "stream",
     "text": [
      "2200it [1:13:30,  1.53s/it]"
     ]
    },
    {
     "name": "stdout",
     "output_type": "stream",
     "text": [
      "Permitted: 559; Unpermitted: 981\n"
     ]
    },
    {
     "name": "stderr",
     "output_type": "stream",
     "text": [
      "2543it [1:15:35,  3.20it/s]"
     ]
    },
    {
     "name": "stdout",
     "output_type": "stream",
     "text": [
      "Permitted: 559; Unpermitted: 1000\n"
     ]
    },
    {
     "name": "stderr",
     "output_type": "stream",
     "text": [
      "2849it [1:16:17,  9.31it/s]"
     ]
    },
    {
     "name": "stdout",
     "output_type": "stream",
     "text": [
      "Permitted: 559; Unpermitted: 1000\n"
     ]
    },
    {
     "name": "stderr",
     "output_type": "stream",
     "text": [
      "3049it [1:16:42,  7.24it/s]"
     ]
    },
    {
     "name": "stdout",
     "output_type": "stream",
     "text": [
      "Permitted: 559; Unpermitted: 1000\n"
     ]
    },
    {
     "name": "stderr",
     "output_type": "stream",
     "text": [
      "3512it [1:18:50,  9.51it/s]"
     ]
    },
    {
     "name": "stdout",
     "output_type": "stream",
     "text": [
      "Permitted: 559; Unpermitted: 1000\n"
     ]
    },
    {
     "name": "stderr",
     "output_type": "stream",
     "text": [
      "3615it [1:18:58, 11.66it/s]"
     ]
    },
    {
     "name": "stdout",
     "output_type": "stream",
     "text": [
      "Permitted: 559; Unpermitted: 1000\n"
     ]
    },
    {
     "name": "stderr",
     "output_type": "stream",
     "text": [
      "4197it [1:19:49,  7.71it/s]"
     ]
    },
    {
     "name": "stdout",
     "output_type": "stream",
     "text": [
      "Permitted: 559; Unpermitted: 1000\n"
     ]
    },
    {
     "name": "stderr",
     "output_type": "stream",
     "text": [
      "6212it [1:24:57,  3.73it/s]"
     ]
    },
    {
     "name": "stdout",
     "output_type": "stream",
     "text": [
      "Permitted: 559; Unpermitted: 1000\n"
     ]
    },
    {
     "name": "stderr",
     "output_type": "stream",
     "text": [
      "7939it [1:28:23,  9.39it/s]"
     ]
    },
    {
     "name": "stdout",
     "output_type": "stream",
     "text": [
      "Permitted: 559; Unpermitted: 1000\n"
     ]
    },
    {
     "name": "stderr",
     "output_type": "stream",
     "text": [
      "8549it [1:29:31,  3.73it/s]"
     ]
    },
    {
     "name": "stdout",
     "output_type": "stream",
     "text": [
      "Permitted: 559; Unpermitted: 1000\n"
     ]
    },
    {
     "name": "stderr",
     "output_type": "stream",
     "text": [
      "8625it [1:29:42,  7.15it/s]"
     ]
    },
    {
     "name": "stdout",
     "output_type": "stream",
     "text": [
      "Permitted: 559; Unpermitted: 1000\n"
     ]
    },
    {
     "name": "stderr",
     "output_type": "stream",
     "text": [
      "8847it [1:30:12,  4.28it/s]"
     ]
    },
    {
     "name": "stdout",
     "output_type": "stream",
     "text": [
      "Permitted: 559; Unpermitted: 1000\n"
     ]
    },
    {
     "name": "stderr",
     "output_type": "stream",
     "text": [
      "10057it [1:32:47,  5.62it/s]"
     ]
    },
    {
     "name": "stdout",
     "output_type": "stream",
     "text": [
      "Permitted: 559; Unpermitted: 1000\n"
     ]
    },
    {
     "name": "stderr",
     "output_type": "stream",
     "text": [
      "10895it [1:34:51,  5.96it/s]"
     ]
    },
    {
     "name": "stdout",
     "output_type": "stream",
     "text": [
      "Permitted: 559; Unpermitted: 1000\n"
     ]
    },
    {
     "name": "stderr",
     "output_type": "stream",
     "text": [
      "11335it [1:35:44,  9.93it/s]"
     ]
    },
    {
     "name": "stdout",
     "output_type": "stream",
     "text": [
      "Permitted: 559; Unpermitted: 1000\n"
     ]
    },
    {
     "name": "stderr",
     "output_type": "stream",
     "text": [
      "12796it [1:38:27,  5.21it/s]"
     ]
    },
    {
     "name": "stdout",
     "output_type": "stream",
     "text": [
      "Permitted: 559; Unpermitted: 1000\n"
     ]
    },
    {
     "name": "stderr",
     "output_type": "stream",
     "text": [
      "12944it [1:38:38, 11.93it/s]"
     ]
    },
    {
     "name": "stdout",
     "output_type": "stream",
     "text": [
      "Permitted: 559; Unpermitted: 1000\n"
     ]
    },
    {
     "name": "stderr",
     "output_type": "stream",
     "text": [
      "13094it [1:38:54, 19.22it/s]"
     ]
    },
    {
     "name": "stdout",
     "output_type": "stream",
     "text": [
      "Permitted: 559; Unpermitted: 1000\n"
     ]
    },
    {
     "name": "stderr",
     "output_type": "stream",
     "text": [
      "13686it [1:39:58,  8.91it/s]"
     ]
    },
    {
     "name": "stdout",
     "output_type": "stream",
     "text": [
      "Permitted: 559; Unpermitted: 1000\n"
     ]
    },
    {
     "name": "stderr",
     "output_type": "stream",
     "text": [
      "15594it [1:47:25,  9.33it/s]"
     ]
    },
    {
     "name": "stdout",
     "output_type": "stream",
     "text": [
      "Permitted: 559; Unpermitted: 1000\n"
     ]
    },
    {
     "name": "stderr",
     "output_type": "stream",
     "text": [
      "15864it [1:47:53, 12.41it/s]"
     ]
    },
    {
     "name": "stdout",
     "output_type": "stream",
     "text": [
      "Permitted: 559; Unpermitted: 1000\n"
     ]
    },
    {
     "name": "stderr",
     "output_type": "stream",
     "text": [
      "16312it [1:48:45,  5.83it/s]"
     ]
    },
    {
     "name": "stdout",
     "output_type": "stream",
     "text": [
      "Permitted: 559; Unpermitted: 1000\n"
     ]
    },
    {
     "name": "stderr",
     "output_type": "stream",
     "text": [
      "19333it [1:54:26,  5.95it/s]"
     ]
    },
    {
     "name": "stdout",
     "output_type": "stream",
     "text": [
      "Permitted: 573; Unpermitted: 1000\n"
     ]
    },
    {
     "name": "stderr",
     "output_type": "stream",
     "text": [
      "19482it [1:54:50,  4.62it/s]"
     ]
    },
    {
     "name": "stdout",
     "output_type": "stream",
     "text": [
      "Permitted: 580; Unpermitted: 1000\n"
     ]
    },
    {
     "name": "stderr",
     "output_type": "stream",
     "text": [
      "20439it [1:56:19, 13.22it/s]"
     ]
    },
    {
     "name": "stdout",
     "output_type": "stream",
     "text": [
      "Permitted: 607; Unpermitted: 1000\n"
     ]
    },
    {
     "name": "stderr",
     "output_type": "stream",
     "text": [
      "20942it [1:57:17,  6.79it/s]"
     ]
    },
    {
     "name": "stdout",
     "output_type": "stream",
     "text": [
      "Permitted: 623; Unpermitted: 1000\n"
     ]
    },
    {
     "name": "stderr",
     "output_type": "stream",
     "text": [
      "22233it [2:00:21, 10.29it/s]"
     ]
    },
    {
     "name": "stdout",
     "output_type": "stream",
     "text": [
      "Permitted: 660; Unpermitted: 1000\n"
     ]
    },
    {
     "name": "stderr",
     "output_type": "stream",
     "text": [
      "22541it [2:00:37, 20.22it/s]"
     ]
    },
    {
     "name": "stdout",
     "output_type": "stream",
     "text": [
      "Permitted: 663; Unpermitted: 1000\n"
     ]
    },
    {
     "name": "stderr",
     "output_type": "stream",
     "text": [
      "23247it [2:02:11,  6.38it/s]"
     ]
    },
    {
     "name": "stdout",
     "output_type": "stream",
     "text": [
      "Permitted: 691; Unpermitted: 1000\n"
     ]
    },
    {
     "name": "stderr",
     "output_type": "stream",
     "text": [
      "25532it [2:06:40,  8.23it/s]"
     ]
    },
    {
     "name": "stdout",
     "output_type": "stream",
     "text": [
      "Permitted: 764; Unpermitted: 1000\n"
     ]
    },
    {
     "name": "stderr",
     "output_type": "stream",
     "text": [
      "26091it [2:07:36, 11.34it/s]"
     ]
    },
    {
     "name": "stdout",
     "output_type": "stream",
     "text": [
      "Permitted: 781; Unpermitted: 1000\n"
     ]
    },
    {
     "name": "stderr",
     "output_type": "stream",
     "text": [
      "27143it [2:09:15, 17.75it/s]"
     ]
    },
    {
     "name": "stdout",
     "output_type": "stream",
     "text": [
      "Permitted: 806; Unpermitted: 1000\n"
     ]
    },
    {
     "name": "stderr",
     "output_type": "stream",
     "text": [
      "27335it [2:09:34, 20.15it/s]"
     ]
    },
    {
     "name": "stdout",
     "output_type": "stream",
     "text": [
      "Permitted: 810; Unpermitted: 1000\n"
     ]
    },
    {
     "name": "stderr",
     "output_type": "stream",
     "text": [
      "27948it [2:10:46, 12.70it/s]"
     ]
    },
    {
     "name": "stdout",
     "output_type": "stream",
     "text": [
      "Permitted: 825; Unpermitted: 1000\n"
     ]
    },
    {
     "name": "stderr",
     "output_type": "stream",
     "text": [
      "28374it [2:17:38,  3.85s/it]"
     ]
    },
    {
     "name": "stdout",
     "output_type": "stream",
     "text": [
      "Permitted: 847; Unpermitted: 1000\n"
     ]
    },
    {
     "name": "stderr",
     "output_type": "stream",
     "text": [
      "28445it [2:17:50,  1.64it/s]"
     ]
    },
    {
     "name": "stdout",
     "output_type": "stream",
     "text": [
      "Permitted: 849; Unpermitted: 1000\n"
     ]
    },
    {
     "name": "stderr",
     "output_type": "stream",
     "text": [
      "29907it [2:20:31,  9.05it/s]"
     ]
    },
    {
     "name": "stdout",
     "output_type": "stream",
     "text": [
      "Permitted: 895; Unpermitted: 1000\n"
     ]
    },
    {
     "name": "stderr",
     "output_type": "stream",
     "text": [
      "30876it [2:25:23,  1.97s/it]"
     ]
    },
    {
     "name": "stdout",
     "output_type": "stream",
     "text": [
      "Permitted: 925; Unpermitted: 1000\n"
     ]
    },
    {
     "name": "stderr",
     "output_type": "stream",
     "text": [
      "31189it [2:26:03,  6.50it/s]"
     ]
    },
    {
     "name": "stdout",
     "output_type": "stream",
     "text": [
      "Permitted: 936; Unpermitted: 1000\n"
     ]
    },
    {
     "name": "stderr",
     "output_type": "stream",
     "text": [
      "31297it [2:26:16, 11.29it/s]"
     ]
    },
    {
     "name": "stdout",
     "output_type": "stream",
     "text": [
      "Permitted: 938; Unpermitted: 1000\n"
     ]
    },
    {
     "name": "stderr",
     "output_type": "stream",
     "text": [
      "31638it [2:27:03,  8.39it/s]"
     ]
    },
    {
     "name": "stdout",
     "output_type": "stream",
     "text": [
      "Permitted: 951; Unpermitted: 1000\n"
     ]
    },
    {
     "name": "stderr",
     "output_type": "stream",
     "text": [
      "31866it [2:27:37,  5.04it/s]"
     ]
    },
    {
     "name": "stdout",
     "output_type": "stream",
     "text": [
      "Permitted: 958; Unpermitted: 1000\n"
     ]
    },
    {
     "name": "stderr",
     "output_type": "stream",
     "text": [
      "31987it [2:27:50, 10.12it/s]"
     ]
    },
    {
     "name": "stdout",
     "output_type": "stream",
     "text": [
      "Permitted: 960; Unpermitted: 1000\n"
     ]
    },
    {
     "name": "stderr",
     "output_type": "stream",
     "text": [
      "33074it [2:30:40, 11.20it/s]"
     ]
    },
    {
     "name": "stdout",
     "output_type": "stream",
     "text": [
      "Permitted: 988; Unpermitted: 1000\n"
     ]
    },
    {
     "name": "stderr",
     "output_type": "stream",
     "text": [
      "33497it [2:31:28, 11.74it/s]"
     ]
    },
    {
     "name": "stdout",
     "output_type": "stream",
     "text": [
      "Permitted: 999; Unpermitted: 1000\n"
     ]
    },
    {
     "name": "stderr",
     "output_type": "stream",
     "text": [
      "33501it [2:31:31,  3.68it/s]\n"
     ]
    },
    {
     "name": "stdout",
     "output_type": "stream",
     "text": [
      "Permitted: 1000; Unpermitted: 1000\n"
     ]
    }
   ],
   "source": [
    "# Loop over each parcel\n",
    "parcel_apns = sj_parcels_res['APN'].unique()\n",
    "\n",
    "# Set up parcels that match and don't match to permits\n",
    "shortlist_cols = ['apn', 'main_building_flag', 'OSM_flag', 'expansion_OSM_flag', \n",
    "                  'expansion_2016_flag', 'geometry', 'verdict', 'permit_id', 'certainty']\n",
    "perm_shortlist = pd.DataFrame(columns=shortlist_cols)\n",
    "unperm_shortlist = pd.DataFrame(columns=shortlist_cols)\n",
    "\n",
    "perm_permit_nomatch = pd.DataFrame(columns=sj_parcel_permit.columns)\n",
    "unperm_permit_nomatch = pd.DataFrame(columns=sj_parcel_permit.columns)\n",
    "reviewed_perm_apns, reviewed_unperm_apns = [], []\n",
    "\n",
    "if os.path.exists('perm_shortlist.csv'):\n",
    "    try:\n",
    "        perm_shortlist = pd.read_csv('perm_shortlist.csv')\n",
    "    except pd.errors.EmptyDataError:\n",
    "        perm_shortlist = pd.DataFrame(columns=shortlist_cols)\n",
    "        \n",
    "    try:\n",
    "        unperm_shortlist = pd.read_csv('unperm_shortlist.csv')\n",
    "    except pd.errors.EmptyDataError:\n",
    "        unperm_shortlist = pd.DataFrame(columns=shortlist_cols)\n",
    "        \n",
    "    try:\n",
    "        perm_permit_nomatch = pd.read_csv('perm_permit_nomatch.csv')\n",
    "    except pd.errors.EmptyDataError:\n",
    "        perm_permit_nomatch = pd.DataFrame(columns=sj_parcel_permit.columns)\n",
    "    \n",
    "    try:\n",
    "        unperm_permit_nomatch = pd.read_csv('unperm_permit_nomatch.csv')\n",
    "    except pd.errors.EmptyDataError:\n",
    "        unperm_permit_nomatch = pd.DataFrame(columns=sj_parcel_permit.columns)\n",
    "    \n",
    "    reviewed_perm_apns = set(perm_shortlist['apn'].unique()) \n",
    "    reviewed_perm_apns = reviewed_perm_apns.union(set(perm_permit_nomatch['APN_parcel'].unique()))\n",
    "    \n",
    "    reviewed_unperm_apns = set(unperm_shortlist['apn'].unique())\n",
    "    reviewed_unperm_apns = reviewed_unperm_apns.union(set(unperm_permit_nomatch['APN_parcel'].unique()))\n",
    "\n",
    "np.random.seed(43)\n",
    "parcel_apns = np.random.choice(parcel_apns, len(parcel_apns), replace=False)\n",
    "\n",
    "print('Reviewed permitted APNs: {}; Reviewed unpermitted APNs: {}'.format(len(reviewed_perm_apns), len(reviewed_unperm_apns)))\n",
    "\n",
    "\n",
    "for i, parcel_apn in tqdm(enumerate(parcel_apns)):\n",
    "    if parcel_apn in reviewed_apns:\n",
    "        continue\n",
    "        \n",
    "    count_perm = len(perm_shortlist['apn'].unique())\n",
    "    count_unperm = len(unperm_shortlist['apn'].unique())\n",
    "        \n",
    "    if count_perm >= SAMPLE_SIZE and count_unperm >= SAMPLE_SIZE:\n",
    "        break\n",
    "    \n",
    "    # Filter only on permits that match to a parcel\n",
    "    if not sj_parcel_permit[sj_parcel_permit['APN_parcel'] == parcel_apn].empty:\n",
    "        if count_perm < SAMPLE_SIZE:\n",
    "            shortlist_parcel, permit_nomatch_df = match_parcel(parcel_apn)\n",
    "            if shortlist_parcel is not None and len(shortlist_parcel) > 0:\n",
    "                perm_shortlist = pd.concat([perm_shortlist, shortlist_parcel])\n",
    "            if permit_nomatch_df is not None and len(permit_nomatch_df) > 0:\n",
    "                perm_permit_nomatch = pd.concat([perm_permit_nomatch, permit_nomatch_df]) \n",
    "        else:\n",
    "            continue\n",
    "    else:\n",
    "        if count_unperm < SAMPLE_SIZE:\n",
    "            shortlist_parcel, permit_nomatch_df = match_parcel(parcel_apn)\n",
    "            if shortlist_parcel is not None and len(shortlist_parcel) > 0:\n",
    "                unperm_shortlist = pd.concat([unperm_shortlist, shortlist_parcel])\n",
    "            if permit_nomatch_df is not None and len(permit_nomatch_df) > 0:\n",
    "                unperm_permit_nomatch = pd.concat([unperm_permit_nomatch, permit_nomatch_df]) \n",
    "        else:\n",
    "            continue\n",
    "    \n",
    "    if i % 50 == 0:\n",
    "        print(\"Permitted: {}; Unpermitted: {}\".format(count_perm, count_unperm))\n",
    "        perm_shortlist.to_csv('perm_shortlist.csv', index=False)\n",
    "        unperm_shortlist.to_csv('unperm_shortlist.csv', index=False)\n",
    "        perm_permit_nomatch.to_csv('perm_permit_nomatch.csv', index=False)\n",
    "        unperm_permit_nomatch.to_csv('unperm_permit_nomatch.csv', index=False)\n",
    "\n",
    "print(\"Permitted: {}; Unpermitted: {}\".format(count_perm, count_unperm))\n",
    "perm_shortlist.to_csv('perm_shortlist.csv', index=False)\n",
    "unperm_shortlist.to_csv('unperm_shortlist.csv', index=False)\n",
    "perm_permit_nomatch.to_csv('perm_permit_nomatch.csv', index=False)\n",
    "unperm_permit_nomatch.to_csv('unperm_permit_nomatch.csv', index=False)"
   ]
  },
  {
   "cell_type": "code",
   "execution_count": 12,
   "id": "26394a63",
   "metadata": {},
   "outputs": [],
   "source": [
    "# Read in data\n",
    "try:\n",
    "    perm_shortlist = pd.read_csv('perm_shortlist.csv')\n",
    "except pd.errors.EmptyDataError:\n",
    "    perm_shortlist = pd.DataFrame(columns=shortlist_cols)\n",
    "\n",
    "try:\n",
    "    unperm_shortlist = pd.read_csv('unperm_shortlist.csv')\n",
    "except pd.errors.EmptyDataError:\n",
    "    unperm_shortlist = pd.DataFrame(columns=shortlist_cols)\n",
    "\n",
    "try:\n",
    "    perm_permit_nomatch = pd.read_csv('perm_permit_nomatch.csv')\n",
    "except pd.errors.EmptyDataError:\n",
    "    perm_permit_nomatch = pd.DataFrame(columns=sj_parcel_permit.columns)\n",
    "\n",
    "try:\n",
    "    unperm_permit_nomatch = pd.read_csv('unperm_permit_nomatch.csv')\n",
    "except pd.errors.EmptyDataError:\n",
    "    unperm_permit_nomatch = pd.DataFrame(columns=sj_parcel_permit.columns)\n",
    "\n",
    "assert len(perm_shortlist['apn'].unique()) == SAMPLE_SIZE\n",
    "assert len(unperm_shortlist['apn'].unique()) == SAMPLE_SIZE"
   ]
  },
  {
   "cell_type": "code",
   "execution_count": 13,
   "id": "0a9a63a1",
   "metadata": {},
   "outputs": [],
   "source": [
    "# Grab first 1k parcels of each type\n",
    "perm_shortlist['shortlist_type'] = 'permitted'\n",
    "unperm_shortlist['shortlist_type'] = 'unpermitted'\n",
    "\n",
    "perm_permit_nomatch['shortlist_type'] = 'permitted'\n",
    "unperm_permit_nomatch['shortlist_type'] = 'unpermitted'\n",
    "\n",
    "perm_apns = perm_shortlist['apn'].unique()\n",
    "perm_apns = np.random.choice(perm_apns, size=1000, replace=False)\n",
    "\n",
    "unperm_apns = unperm_shortlist['apn'].unique()\n",
    "unperm_apns = np.random.choice(unperm_apns, size=1000, replace=False)\n",
    "\n",
    "shortlist = pd.concat([perm_shortlist.loc[perm_shortlist['apn'].isin(perm_apns)], \n",
    "                       unperm_shortlist.loc[unperm_shortlist['apn'].isin(unperm_apns)]])\n",
    "\n",
    "permit_nomatch = pd.concat([perm_permit_nomatch.loc[perm_permit_nomatch['APN_parcel'].isin(perm_apns)], \n",
    "                            unperm_permit_nomatch.loc[unperm_permit_nomatch['APN_parcel'].isin(unperm_apns)]])\n",
    "\n",
    "# Drop duplicates\n",
    "permit_nomatch = permit_nomatch.drop_duplicates()\n",
    "shortlist = shortlist.drop_duplicates()"
   ]
  },
  {
   "cell_type": "code",
   "execution_count": 14,
   "id": "ce44b060",
   "metadata": {},
   "outputs": [
    {
     "data": {
      "text/plain": [
       "shortlist_type  verdict      main_building_flag  expansion_2016_flag\n",
       "permitted       permitted    False               False                  207\n",
       "                                                 True                   180\n",
       "                             True                False                    6\n",
       "                                                 True                   316\n",
       "                unpermitted  False               False                  111\n",
       "                                                 True                   167\n",
       "                             True                False                   25\n",
       "                                                 True                   414\n",
       "unpermitted     unpermitted  False               False                  255\n",
       "                                                 True                   240\n",
       "                             True                False                   33\n",
       "                                                 True                   728\n",
       "Name: apn, dtype: int64"
      ]
     },
     "execution_count": 14,
     "metadata": {},
     "output_type": "execute_result"
    }
   ],
   "source": [
    "# Compute stats\n",
    "shortlist['expansion_flag'] = shortlist['expansion_2016_flag'] | shortlist['expansion_OSM_flag']\n",
    "shortlist.groupby(['shortlist_type', 'verdict', 'main_building_flag', 'expansion_2016_flag'])['apn'].count()"
   ]
  },
  {
   "cell_type": "code",
   "execution_count": 15,
   "id": "2bef3a9a",
   "metadata": {},
   "outputs": [
    {
     "data": {
      "text/plain": [
       "shortlist_type\n",
       "permitted    459\n",
       "Name: APN_parcel, dtype: int64"
      ]
     },
     "execution_count": 15,
     "metadata": {},
     "output_type": "execute_result"
    }
   ],
   "source": [
    "permit_nomatch.groupby(['shortlist_type'])['APN_parcel'].count()"
   ]
  },
  {
   "cell_type": "code",
   "execution_count": 31,
   "id": "1ad208fa",
   "metadata": {},
   "outputs": [
    {
     "data": {
      "text/plain": [
       "11456"
      ]
     },
     "execution_count": 31,
     "metadata": {},
     "output_type": "execute_result"
    }
   ],
   "source": [
    "len(sj_parcel_permit['APN_parcel'].unique())"
   ]
  },
  {
   "cell_type": "code",
   "execution_count": 55,
   "id": "6f3ee762",
   "metadata": {},
   "outputs": [],
   "source": [
    "permit_nomatch = permit_nomatch.drop_duplicates()"
   ]
  },
  {
   "cell_type": "code",
   "execution_count": 57,
   "id": "cc6a68cd",
   "metadata": {},
   "outputs": [
    {
     "data": {
      "text/plain": [
       "2738"
      ]
     },
     "execution_count": 57,
     "metadata": {},
     "output_type": "execute_result"
    }
   ],
   "source": [
    "len(shortlist)"
   ]
  },
  {
   "cell_type": "code",
   "execution_count": 71,
   "id": "af0e36e6",
   "metadata": {},
   "outputs": [],
   "source": [
    "# Look at unmatched permits\n",
    "# Filter for permits after 2015\n",
    "permit_nomatch_16_20 = permit_nomatch.loc[(permit_nomatch['year'] >= 2016) & (permit_nomatch['year'] <= 2020)]"
   ]
  },
  {
   "cell_type": "code",
   "execution_count": 68,
   "id": "f0e84625",
   "metadata": {},
   "outputs": [
    {
     "data": {
      "image/png": "[encoded data removed]",
      "text/plain": [
       "<Figure size 640x480 with 1 Axes>"
      ]
     },
     "metadata": {},
     "output_type": "display_data"
    }
   ],
   "source": [
    "permit_nomatch['year'].plot.hist()\n",
    "plt.show()"
   ]
  },
  {
   "cell_type": "code",
   "execution_count": 72,
   "id": "ea77ef03",
   "metadata": {},
   "outputs": [
    {
     "data": {
      "text/plain": [
       "94"
      ]
     },
     "execution_count": 72,
     "metadata": {},
     "output_type": "execute_result"
    }
   ],
   "source": [
    "len(permit_nomatch_16_20)"
   ]
  },
  {
   "cell_type": "code",
   "execution_count": 78,
   "id": "f39c0393",
   "metadata": {},
   "outputs": [],
   "source": [
    "permit_nomatch_16_20.iloc[1]"
   ]
  },
  {
   "cell_type": "code",
   "execution_count": 76,
   "id": "230bc3f3",
   "metadata": {},
   "outputs": [
    {
     "data": {
      "text/html": [
       "<div>\n",
       "<style scoped>\n",
       "    .dataframe tbody tr th:only-of-type {\n",
       "        vertical-align: middle;\n",
       "    }\n",
       "\n",
       "    .dataframe tbody tr th {\n",
       "        vertical-align: top;\n",
       "    }\n",
       "\n",
       "    .dataframe thead th {\n",
       "        text-align: right;\n",
       "    }\n",
       "</style>\n",
       "<table border=\"1\" class=\"dataframe\">\n",
       "  <thead>\n",
       "    <tr style=\"text-align: right;\">\n",
       "      <th></th>\n",
       "      <th>OBJECTID_left</th>\n",
       "      <th>WORKDESC</th>\n",
       "      <th>SUBDESC</th>\n",
       "      <th>FOLDERNUM</th>\n",
       "      <th>permit_status</th>\n",
       "      <th>PERMITVALUE</th>\n",
       "      <th>DWELLINGUNIT</th>\n",
       "      <th>SQUAREFOOT</th>\n",
       "    </tr>\n",
       "  </thead>\n",
       "  <tbody>\n",
       "    <tr>\n",
       "      <th>11477</th>\n",
       "      <td>E_42433</td>\n",
       "      <td>Additions/Alterations</td>\n",
       "      <td>Single-Family</td>\n",
       "      <td>2018-135213-RS</td>\n",
       "      <td>expired</td>\n",
       "      <td>1224.0</td>\n",
       "      <td>0</td>\n",
       "      <td>0</td>\n",
       "    </tr>\n",
       "    <tr>\n",
       "      <th>11848</th>\n",
       "      <td>E_45244</td>\n",
       "      <td>Additions/Alterations</td>\n",
       "      <td>Single-Family</td>\n",
       "      <td>2018-114830-RS</td>\n",
       "      <td>expired</td>\n",
       "      <td>25616.0</td>\n",
       "      <td>0</td>\n",
       "      <td>0</td>\n",
       "    </tr>\n",
       "  </tbody>\n",
       "</table>\n",
       "</div>"
      ],
      "text/plain": [
       "      OBJECTID_left               WORKDESC        SUBDESC       FOLDERNUM  \\\n",
       "11477       E_42433  Additions/Alterations  Single-Family  2018-135213-RS   \n",
       "11848       E_45244  Additions/Alterations  Single-Family  2018-114830-RS   \n",
       "\n",
       "      permit_status  PERMITVALUE  DWELLINGUNIT  SQUAREFOOT  \n",
       "11477       expired       1224.0             0           0  \n",
       "11848       expired      25616.0             0           0  "
      ]
     },
     "execution_count": 76,
     "metadata": {},
     "output_type": "execute_result"
    }
   ],
   "source": [
    "sj_parcel_permit[sj_parcel_permit['APN_parcel'] == '27406055'][[\n",
    "    'OBJECTID_left', 'WORKDESC', 'SUBDESC', 'FOLDERNUM', 'permit_status', 'PERMITVALUE',\n",
    "    'DWELLINGUNIT', 'SQUAREFOOT']]"
   ]
  },
  {
   "cell_type": "code",
   "execution_count": 77,
   "id": "5c10e537",
   "metadata": {},
   "outputs": [
    {
     "data": {
      "image/png": "[encoded data removed]",
      "text/plain": [
       "<Figure size 1800x1000 with 6 Axes>"
      ]
     },
     "metadata": {},
     "output_type": "display_data"
    },
    {
     "data": {
      "text/html": [
       "<div>\n",
       "<style scoped>\n",
       "    .dataframe tbody tr th:only-of-type {\n",
       "        vertical-align: middle;\n",
       "    }\n",
       "\n",
       "    .dataframe tbody tr th {\n",
       "        vertical-align: top;\n",
       "    }\n",
       "\n",
       "    .dataframe thead th {\n",
       "        text-align: right;\n",
       "    }\n",
       "</style>\n",
       "<table border=\"1\" class=\"dataframe\">\n",
       "  <thead>\n",
       "    <tr style=\"text-align: right;\">\n",
       "      <th></th>\n",
       "      <th>main_building_flag</th>\n",
       "      <th>OSM_flag</th>\n",
       "      <th>expansion_OSM_flag</th>\n",
       "      <th>expansion_2016_flag</th>\n",
       "      <th>geometry</th>\n",
       "      <th>area</th>\n",
       "    </tr>\n",
       "  </thead>\n",
       "  <tbody>\n",
       "    <tr>\n",
       "      <th>0</th>\n",
       "      <td>True</td>\n",
       "      <td>True</td>\n",
       "      <td>False</td>\n",
       "      <td>True</td>\n",
       "      <td>POLYGON ((-121.93138 37.33552, -121.93129 37.3...</td>\n",
       "      <td>152.201468</td>\n",
       "    </tr>\n",
       "    <tr>\n",
       "      <th>2</th>\n",
       "      <td>False</td>\n",
       "      <td>False</td>\n",
       "      <td>True</td>\n",
       "      <td>True</td>\n",
       "      <td>POLYGON ((-121.93152 37.33566, -121.93152 37.3...</td>\n",
       "      <td>95.734520</td>\n",
       "    </tr>\n",
       "  </tbody>\n",
       "</table>\n",
       "</div>"
      ],
      "text/plain": [
       "   main_building_flag  OSM_flag  expansion_OSM_flag  expansion_2016_flag  \\\n",
       "0                True      True               False                 True   \n",
       "2               False     False                True                 True   \n",
       "\n",
       "                                            geometry        area  \n",
       "0  POLYGON ((-121.93138 37.33552, -121.93129 37.3...  152.201468  \n",
       "2  POLYGON ((-121.93152 37.33566, -121.93152 37.3...   95.734520  "
      ]
     },
     "execution_count": 77,
     "metadata": {},
     "output_type": "execute_result"
    }
   ],
   "source": [
    "run_osm_apn_full_detail(parcel_apn='27406055', area_threshold=30, flatten_threshold=0.80)"
   ]
  },
  {
   "cell_type": "code",
   "execution_count": 28,
   "id": "3c7e8304",
   "metadata": {},
   "outputs": [
    {
     "data": {
      "text/html": [
       "<div>\n",
       "<style scoped>\n",
       "    .dataframe tbody tr th:only-of-type {\n",
       "        vertical-align: middle;\n",
       "    }\n",
       "\n",
       "    .dataframe tbody tr th {\n",
       "        vertical-align: top;\n",
       "    }\n",
       "\n",
       "    .dataframe thead th {\n",
       "        text-align: right;\n",
       "    }\n",
       "</style>\n",
       "<table border=\"1\" class=\"dataframe\">\n",
       "  <thead>\n",
       "    <tr style=\"text-align: right;\">\n",
       "      <th></th>\n",
       "      <th>apn</th>\n",
       "      <th>main_building_flag</th>\n",
       "      <th>OSM_flag</th>\n",
       "      <th>expansion_OSM_flag</th>\n",
       "      <th>expansion_2016_flag</th>\n",
       "      <th>geometry</th>\n",
       "      <th>verdict</th>\n",
       "      <th>permit_id</th>\n",
       "      <th>certainty</th>\n",
       "      <th>area</th>\n",
       "      <th>shortlist_type</th>\n",
       "      <th>expansion_flag</th>\n",
       "    </tr>\n",
       "  </thead>\n",
       "  <tbody>\n",
       "    <tr>\n",
       "      <th>13</th>\n",
       "      <td>27408009</td>\n",
       "      <td>False</td>\n",
       "      <td>True</td>\n",
       "      <td>False</td>\n",
       "      <td>True</td>\n",
       "      <td>POLYGON ((-121.926437 37.335341, -121.926441 3...</td>\n",
       "      <td>permitted</td>\n",
       "      <td>A_51602</td>\n",
       "      <td>3.0</td>\n",
       "      <td>37.093952</td>\n",
       "      <td>permitted</td>\n",
       "      <td>True</td>\n",
       "    </tr>\n",
       "    <tr>\n",
       "      <th>14</th>\n",
       "      <td>27408009</td>\n",
       "      <td>False</td>\n",
       "      <td>False</td>\n",
       "      <td>True</td>\n",
       "      <td>True</td>\n",
       "      <td>POLYGON ((-121.9266223884396 37.33530497938542...</td>\n",
       "      <td>permitted</td>\n",
       "      <td>A_56785</td>\n",
       "      <td>3.0</td>\n",
       "      <td>22.151059</td>\n",
       "      <td>permitted</td>\n",
       "      <td>True</td>\n",
       "    </tr>\n",
       "    <tr>\n",
       "      <th>16</th>\n",
       "      <td>27408009</td>\n",
       "      <td>False</td>\n",
       "      <td>False</td>\n",
       "      <td>True</td>\n",
       "      <td>True</td>\n",
       "      <td>POLYGON ((-121.9269782775079 37.3355311321258,...</td>\n",
       "      <td>unpermitted</td>\n",
       "      <td>NaN</td>\n",
       "      <td>NaN</td>\n",
       "      <td>15.796815</td>\n",
       "      <td>permitted</td>\n",
       "      <td>True</td>\n",
       "    </tr>\n",
       "    <tr>\n",
       "      <th>19</th>\n",
       "      <td>42937040</td>\n",
       "      <td>False</td>\n",
       "      <td>True</td>\n",
       "      <td>False</td>\n",
       "      <td>True</td>\n",
       "      <td>POLYGON ((-121.905101 37.298959, -121.904946 3...</td>\n",
       "      <td>permitted</td>\n",
       "      <td>E_23766</td>\n",
       "      <td>3.0</td>\n",
       "      <td>76.659214</td>\n",
       "      <td>permitted</td>\n",
       "      <td>True</td>\n",
       "    </tr>\n",
       "    <tr>\n",
       "      <th>24</th>\n",
       "      <td>46702025</td>\n",
       "      <td>False</td>\n",
       "      <td>True</td>\n",
       "      <td>False</td>\n",
       "      <td>True</td>\n",
       "      <td>POLYGON ((-121.888681 37.342105, -121.888729 3...</td>\n",
       "      <td>permitted</td>\n",
       "      <td>E_23609</td>\n",
       "      <td>3.0</td>\n",
       "      <td>90.897816</td>\n",
       "      <td>permitted</td>\n",
       "      <td>True</td>\n",
       "    </tr>\n",
       "  </tbody>\n",
       "</table>\n",
       "</div>"
      ],
      "text/plain": [
       "         apn  main_building_flag  OSM_flag expansion_OSM_flag  \\\n",
       "13  27408009               False      True              False   \n",
       "14  27408009               False     False               True   \n",
       "16  27408009               False     False               True   \n",
       "19  42937040               False      True              False   \n",
       "24  46702025               False      True              False   \n",
       "\n",
       "   expansion_2016_flag                                           geometry  \\\n",
       "13                True  POLYGON ((-121.926437 37.335341, -121.926441 3...   \n",
       "14                True  POLYGON ((-121.9266223884396 37.33530497938542...   \n",
       "16                True  POLYGON ((-121.9269782775079 37.3355311321258,...   \n",
       "19                True  POLYGON ((-121.905101 37.298959, -121.904946 3...   \n",
       "24                True  POLYGON ((-121.888681 37.342105, -121.888729 3...   \n",
       "\n",
       "        verdict permit_id  certainty       area shortlist_type  expansion_flag  \n",
       "13    permitted   A_51602        3.0  37.093952      permitted            True  \n",
       "14    permitted   A_56785        3.0  22.151059      permitted            True  \n",
       "16  unpermitted       NaN        NaN  15.796815      permitted            True  \n",
       "19    permitted   E_23766        3.0  76.659214      permitted            True  \n",
       "24    permitted   E_23609        3.0  90.897816      permitted            True  "
      ]
     },
     "execution_count": 28,
     "metadata": {},
     "output_type": "execute_result"
    }
   ],
   "source": [
    "# Look at small building constructions -- are these mostly false positives?\n",
    "shortlist.loc[(shortlist['main_building_flag'] == False) & (shortlist['expansion_2016_flag'] == True)].head(5)"
   ]
  },
  {
   "cell_type": "code",
   "execution_count": 27,
   "id": "43bae525",
   "metadata": {},
   "outputs": [
    {
     "data": {
      "image/png": "[encoded data removed]",
      "text/plain": [
       "<Figure size 1800x1000 with 6 Axes>"
      ]
     },
     "metadata": {},
     "output_type": "display_data"
    },
    {
     "data": {
      "text/html": [
       "<div>\n",
       "<style scoped>\n",
       "    .dataframe tbody tr th:only-of-type {\n",
       "        vertical-align: middle;\n",
       "    }\n",
       "\n",
       "    .dataframe tbody tr th {\n",
       "        vertical-align: top;\n",
       "    }\n",
       "\n",
       "    .dataframe thead th {\n",
       "        text-align: right;\n",
       "    }\n",
       "</style>\n",
       "<table border=\"1\" class=\"dataframe\">\n",
       "  <thead>\n",
       "    <tr style=\"text-align: right;\">\n",
       "      <th></th>\n",
       "      <th>main_building_flag</th>\n",
       "      <th>OSM_flag</th>\n",
       "      <th>expansion_OSM_flag</th>\n",
       "      <th>expansion_2016_flag</th>\n",
       "      <th>geometry</th>\n",
       "      <th>area</th>\n",
       "    </tr>\n",
       "  </thead>\n",
       "  <tbody>\n",
       "    <tr>\n",
       "      <th>0</th>\n",
       "      <td>True</td>\n",
       "      <td>True</td>\n",
       "      <td>False</td>\n",
       "      <td>True</td>\n",
       "      <td>POLYGON ((-121.80660 37.23220, -121.80660 37.2...</td>\n",
       "      <td>221.457161</td>\n",
       "    </tr>\n",
       "    <tr>\n",
       "      <th>1</th>\n",
       "      <td>False</td>\n",
       "      <td>False</td>\n",
       "      <td>True</td>\n",
       "      <td>True</td>\n",
       "      <td>POLYGON ((-121.80637 37.23214, -121.80637 37.2...</td>\n",
       "      <td>19.499806</td>\n",
       "    </tr>\n",
       "  </tbody>\n",
       "</table>\n",
       "</div>"
      ],
      "text/plain": [
       "   main_building_flag  OSM_flag  expansion_OSM_flag  expansion_2016_flag  \\\n",
       "0                True      True               False                 True   \n",
       "1               False     False                True                 True   \n",
       "\n",
       "                                            geometry        area  \n",
       "0  POLYGON ((-121.80660 37.23220, -121.80660 37.2...  221.457161  \n",
       "1  POLYGON ((-121.80637 37.23214, -121.80637 37.2...   19.499806  "
      ]
     },
     "execution_count": 27,
     "metadata": {},
     "output_type": "execute_result"
    }
   ],
   "source": [
    "# Ground truth\n",
    "run_osm_apn_full_detail(parcel_apn='68932067', area_threshold=30, flatten_threshold=0.85)"
   ]
  },
  {
   "cell_type": "code",
   "execution_count": 51,
   "id": "d4ee78b0",
   "metadata": {},
   "outputs": [
    {
     "data": {
      "text/html": [
       "<div>\n",
       "<style scoped>\n",
       "    .dataframe tbody tr th:only-of-type {\n",
       "        vertical-align: middle;\n",
       "    }\n",
       "\n",
       "    .dataframe tbody tr th {\n",
       "        vertical-align: top;\n",
       "    }\n",
       "\n",
       "    .dataframe thead th {\n",
       "        text-align: right;\n",
       "    }\n",
       "</style>\n",
       "<table border=\"1\" class=\"dataframe\">\n",
       "  <thead>\n",
       "    <tr style=\"text-align: right;\">\n",
       "      <th></th>\n",
       "      <th>apn</th>\n",
       "      <th>main_building_flag</th>\n",
       "      <th>OSM_flag</th>\n",
       "      <th>expansion_OSM_flag</th>\n",
       "      <th>expansion_2016_flag</th>\n",
       "      <th>geometry</th>\n",
       "      <th>verdict</th>\n",
       "      <th>permit_id</th>\n",
       "      <th>certainty</th>\n",
       "      <th>area</th>\n",
       "      <th>shortlist_type</th>\n",
       "      <th>expansion_flag</th>\n",
       "    </tr>\n",
       "  </thead>\n",
       "  <tbody>\n",
       "    <tr>\n",
       "      <th>29</th>\n",
       "      <td>42116035</td>\n",
       "      <td>True</td>\n",
       "      <td>True</td>\n",
       "      <td>False</td>\n",
       "      <td>True</td>\n",
       "      <td>POLYGON ((-121.941429 37.24766699999999, -121....</td>\n",
       "      <td>unpermitted</td>\n",
       "      <td>NaN</td>\n",
       "      <td>NaN</td>\n",
       "      <td>269.904643</td>\n",
       "      <td>permitted</td>\n",
       "      <td>True</td>\n",
       "    </tr>\n",
       "    <tr>\n",
       "      <th>32</th>\n",
       "      <td>70618043</td>\n",
       "      <td>True</td>\n",
       "      <td>False</td>\n",
       "      <td>True</td>\n",
       "      <td>True</td>\n",
       "      <td>POLYGON ((-121.762107995041 37.22864553960805,...</td>\n",
       "      <td>unpermitted</td>\n",
       "      <td>NaN</td>\n",
       "      <td>NaN</td>\n",
       "      <td>226.279209</td>\n",
       "      <td>permitted</td>\n",
       "      <td>True</td>\n",
       "    </tr>\n",
       "    <tr>\n",
       "      <th>33</th>\n",
       "      <td>24509050</td>\n",
       "      <td>True</td>\n",
       "      <td>False</td>\n",
       "      <td>True</td>\n",
       "      <td>True</td>\n",
       "      <td>POLYGON ((-121.870066601121 37.38328890274084,...</td>\n",
       "      <td>unpermitted</td>\n",
       "      <td>NaN</td>\n",
       "      <td>NaN</td>\n",
       "      <td>237.600107</td>\n",
       "      <td>permitted</td>\n",
       "      <td>True</td>\n",
       "    </tr>\n",
       "    <tr>\n",
       "      <th>36</th>\n",
       "      <td>26444013</td>\n",
       "      <td>True</td>\n",
       "      <td>True</td>\n",
       "      <td>False</td>\n",
       "      <td>True</td>\n",
       "      <td>POLYGON ((-121.900203 37.317151, -121.900202 3...</td>\n",
       "      <td>unpermitted</td>\n",
       "      <td>NaN</td>\n",
       "      <td>NaN</td>\n",
       "      <td>139.015718</td>\n",
       "      <td>permitted</td>\n",
       "      <td>True</td>\n",
       "    </tr>\n",
       "    <tr>\n",
       "      <th>37</th>\n",
       "      <td>26140107</td>\n",
       "      <td>True</td>\n",
       "      <td>False</td>\n",
       "      <td>True</td>\n",
       "      <td>True</td>\n",
       "      <td>POLYGON ((-121.9081484043368 37.32441501705095...</td>\n",
       "      <td>unpermitted</td>\n",
       "      <td>NaN</td>\n",
       "      <td>NaN</td>\n",
       "      <td>135.353035</td>\n",
       "      <td>permitted</td>\n",
       "      <td>True</td>\n",
       "    </tr>\n",
       "  </tbody>\n",
       "</table>\n",
       "</div>"
      ],
      "text/plain": [
       "         apn  main_building_flag  OSM_flag expansion_OSM_flag  \\\n",
       "29  42116035                True      True              False   \n",
       "32  70618043                True     False               True   \n",
       "33  24509050                True     False               True   \n",
       "36  26444013                True      True              False   \n",
       "37  26140107                True     False               True   \n",
       "\n",
       "   expansion_2016_flag                                           geometry  \\\n",
       "29                True  POLYGON ((-121.941429 37.24766699999999, -121....   \n",
       "32                True  POLYGON ((-121.762107995041 37.22864553960805,...   \n",
       "33                True  POLYGON ((-121.870066601121 37.38328890274084,...   \n",
       "36                True  POLYGON ((-121.900203 37.317151, -121.900202 3...   \n",
       "37                True  POLYGON ((-121.9081484043368 37.32441501705095...   \n",
       "\n",
       "        verdict permit_id  certainty        area shortlist_type  \\\n",
       "29  unpermitted       NaN        NaN  269.904643      permitted   \n",
       "32  unpermitted       NaN        NaN  226.279209      permitted   \n",
       "33  unpermitted       NaN        NaN  237.600107      permitted   \n",
       "36  unpermitted       NaN        NaN  139.015718      permitted   \n",
       "37  unpermitted       NaN        NaN  135.353035      permitted   \n",
       "\n",
       "    expansion_flag  \n",
       "29            True  \n",
       "32            True  \n",
       "33            True  \n",
       "36            True  \n",
       "37            True  "
      ]
     },
     "execution_count": 51,
     "metadata": {},
     "output_type": "execute_result"
    }
   ],
   "source": [
    "# Look at main building expansions\n",
    "shortlist.loc[(shortlist['main_building_flag'] == True)].iloc[15:20]"
   ]
  },
  {
   "cell_type": "code",
   "execution_count": 54,
   "id": "98dfa6e4",
   "metadata": {},
   "outputs": [
    {
     "data": {
      "image/png": "[encoded data removed]",
      "text/plain": [
       "<Figure size 1800x1000 with 6 Axes>"
      ]
     },
     "metadata": {},
     "output_type": "display_data"
    },
    {
     "data": {
      "text/html": [
       "<div>\n",
       "<style scoped>\n",
       "    .dataframe tbody tr th:only-of-type {\n",
       "        vertical-align: middle;\n",
       "    }\n",
       "\n",
       "    .dataframe tbody tr th {\n",
       "        vertical-align: top;\n",
       "    }\n",
       "\n",
       "    .dataframe thead th {\n",
       "        text-align: right;\n",
       "    }\n",
       "</style>\n",
       "<table border=\"1\" class=\"dataframe\">\n",
       "  <thead>\n",
       "    <tr style=\"text-align: right;\">\n",
       "      <th></th>\n",
       "      <th>main_building_flag</th>\n",
       "      <th>OSM_flag</th>\n",
       "      <th>expansion_OSM_flag</th>\n",
       "      <th>expansion_2016_flag</th>\n",
       "      <th>geometry</th>\n",
       "      <th>area</th>\n",
       "    </tr>\n",
       "  </thead>\n",
       "  <tbody>\n",
       "    <tr>\n",
       "      <th>1</th>\n",
       "      <td>True</td>\n",
       "      <td>False</td>\n",
       "      <td>True</td>\n",
       "      <td>True</td>\n",
       "      <td>POLYGON ((-121.76211 37.22865, -121.76211 37.2...</td>\n",
       "      <td>226.279209</td>\n",
       "    </tr>\n",
       "  </tbody>\n",
       "</table>\n",
       "</div>"
      ],
      "text/plain": [
       "   main_building_flag  OSM_flag  expansion_OSM_flag  expansion_2016_flag  \\\n",
       "1                True     False                True                 True   \n",
       "\n",
       "                                            geometry        area  \n",
       "1  POLYGON ((-121.76211 37.22865, -121.76211 37.2...  226.279209  "
      ]
     },
     "execution_count": 54,
     "metadata": {},
     "output_type": "execute_result"
    }
   ],
   "source": [
    "run_osm_apn_full_detail(parcel_apn='70618043', area_threshold=30, flatten_threshold=0.85)"
   ]
  },
  {
   "cell_type": "code",
   "execution_count": null,
   "id": "80e490ca",
   "metadata": {},
   "outputs": [],
   "source": []
  },
  {
   "cell_type": "code",
   "execution_count": null,
   "id": "2e7c8ce4",
   "metadata": {},
   "outputs": [],
   "source": []
  },
  {
   "cell_type": "code",
   "execution_count": null,
   "id": "8028ea5d",
   "metadata": {},
   "outputs": [],
   "source": []
  },
  {
   "cell_type": "code",
   "execution_count": 26,
   "id": "13aeb2a9",
   "metadata": {},
   "outputs": [],
   "source": [
    "# Check\n",
    "#parcel_apn='48114037'\n",
    "#inferred_buildings_2020_parcel, inferred_buildings_2016_parcel, osm_buildings_parcel, permits_parcel = parcel_level_data(parcel_apn, sj_parcels_res, sj_parcel_permit)\n",
    "#parcel_buildings = process_OSM_data(\n",
    "#    inferred_buildings_2020_parcel, inferred_buildings_2016_parcel, osm_buildings_parcel)"
   ]
  },
  {
   "cell_type": "code",
   "execution_count": 2,
   "id": "458e7570",
   "metadata": {},
   "outputs": [],
   "source": [
    "# 3.5 Sort shortlists\n",
    "# TO DO\n",
    "# Risk levels:\n",
    "# highest risk, no permitted additions of any kind, and you detect detached\n",
    "# no permitted additions of any kind, and you detect attached\n",
    "# permitted detached ADU, you detect more than one detached\n",
    "# permitted detached ADU, you detect attached and detached\n",
    "# permitted attached ADU, you detect attached and detached\n",
    "# permitted attached ADU, you detect a detached (or vice versa)\n",
    "# permitted attached ADU and detached ADU, you detect anything unpermitted"
   ]
  },
  {
   "cell_type": "code",
   "execution_count": null,
   "id": "2341cd72",
   "metadata": {},
   "outputs": [],
   "source": []
  }
 ],
 "metadata": {
  "kernelspec": {
   "display_name": "Python 3",
   "language": "python",
   "name": "python3"
  },
  "language_info": {
   "codemirror_mode": {
    "name": "ipython",
    "version": 3
   },
   "file_extension": ".py",
   "mimetype": "text/x-python",
   "name": "python",
   "nbconvert_exporter": "python",
   "pygments_lexer": "ipython3",
   "version": "3.8.10"
  }
 },
 "nbformat": 4,
 "nbformat_minor": 5
}
