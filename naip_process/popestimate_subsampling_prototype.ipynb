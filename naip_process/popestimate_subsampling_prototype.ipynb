{
 "cells": [
  {
   "cell_type": "code",
   "execution_count": 1,
   "id": "beaed944",
   "metadata": {},
   "outputs": [],
   "source": [
    "import geopandas as gpd\n",
    "import pandas as pd\n",
    "import numpy as np\n",
    "import os\n",
    "import shapely.wkt\n",
    "import pyproj\n",
    "from pyproj import Geod\n",
    "import shapely\n",
    "from shapely.geometry import box, Polygon, Point\n",
    "from shapely.ops import orient\n",
    "from tqdm import tqdm\n",
    "import matplotlib.pyplot as plt\n",
    "import seaborn as sns\n",
    "import pickle\n",
    "import time\n",
    "import multiprocessing as mp"
   ]
  },
  {
   "cell_type": "markdown",
   "id": "ad627ce7",
   "metadata": {},
   "source": [
    "## Preprocessing/load in variables"
   ]
  },
  {
   "cell_type": "code",
   "execution_count": 2,
   "id": "66a197fc",
   "metadata": {},
   "outputs": [],
   "source": [
    "all_res = pd.read_csv('/oak/stanford/groups/deho/building_compliance/outputs/Population-Estimates/outputs/Strata/sj_parcels_bins.csv')"
   ]
  },
  {
   "cell_type": "code",
   "execution_count": 3,
   "id": "8583b93f",
   "metadata": {},
   "outputs": [],
   "source": [
    "sample_all = pd.read_csv('/oak/stanford/groups/deho/building_compliance/outputs/Population-Estimates/CloudFactory/Iteration3/complete_sampled_APNs.csv')\n",
    "sample = pd.read_csv('/oak/stanford/groups/deho/building_compliance/outputs/Population-Estimates/CloudFactory/Iteration3/sampled_APNs.csv')"
   ]
  },
  {
   "cell_type": "code",
   "execution_count": 4,
   "id": "eaf99436",
   "metadata": {},
   "outputs": [],
   "source": [
    "part1 = sample.loc[:5000]"
   ]
  },
  {
   "cell_type": "code",
   "execution_count": 5,
   "id": "1e6e9f93",
   "metadata": {},
   "outputs": [],
   "source": [
    "neyman = pd.concat([all_res['Bin'].value_counts().rename('all'), \n",
    "           part1['Bin'].value_counts().rename('sample')], axis=1).reset_index()"
   ]
  },
  {
   "cell_type": "code",
   "execution_count": 6,
   "id": "fd3988f1",
   "metadata": {},
   "outputs": [],
   "source": [
    "neyman = pd.concat([all_res['Bin'].value_counts().rename('all'), \n",
    "           part1['Bin'].value_counts().rename('sample')], axis=1).reset_index()"
   ]
  },
  {
   "cell_type": "code",
   "execution_count": 7,
   "id": "81671503",
   "metadata": {},
   "outputs": [],
   "source": [
    "neyman['sample'] = neyman['sample'].fillna(0)\n",
    "neyman['proportion_all_res'] = neyman['all']/neyman['all'].sum()\n",
    "neyman['random_5k'] = round(neyman['proportion_all_res']*5000)\n",
    "# percent change random to neyman\n",
    "neyman['perc_change'] = (neyman['sample'] - neyman['random_5k'])/neyman['random_5k']*100\n",
    "change = min(neyman['perc_change'])\n",
    "max_n = round(neyman['sample'].sum()*(1+change/100)) # max n we can subsample to simulate a SRS"
   ]
  },
  {
   "cell_type": "markdown",
   "id": "51bbfc71",
   "metadata": {},
   "source": [
    "## helper functions"
   ]
  },
  {
   "cell_type": "code",
   "execution_count": 9,
   "id": "9742994d",
   "metadata": {},
   "outputs": [],
   "source": [
    "def make_global(bins_all_res, bins_sample, high_income_threshold, merged):\n",
    "    global bins_all_res_global\n",
    "    global high_income_threshold_global\n",
    "    global merged_global\n",
    "    global bins_sample_global\n",
    "\n",
    "    bins_all_res_global = bins_all_res\n",
    "    high_income_threshold_global = high_income_threshold\n",
    "    merged_global = merged\n",
    "    bins_sample_global = bins_sample"
   ]
  },
  {
   "cell_type": "code",
   "execution_count": 34,
   "id": "902de134",
   "metadata": {},
   "outputs": [],
   "source": [
    "def driver(i):\n",
    "    bin_n = bins_all_res_global['Bin'].value_counts()\n",
    "    bin_sample_n = bins_sample_global['Bin'].value_counts()\n",
    "    unique_bins = list(bins_all_res_global['Bin'].unique())\n",
    "    sampled_unique_bins = list(bins_sample_global['Bin'].unique())\n",
    "    \n",
    "    results = {}\n",
    "    results_df = pd.DataFrame(columns=['bin', 'year', 't', 'ybar', 'N', 'n', 'var', 'tot_var', 'high'])\n",
    "    for year in ['2016', '2020']:\n",
    "\n",
    "        t_dic = {'total': 0, 'high': 0, 'low': 0}\n",
    "        total_var_dic = {'total': 0, 'high': 0, 'low': 0}\n",
    "\n",
    "        for b in unique_bins:\n",
    "            if b in sampled_unique_bins: # we drop 2 bins\n",
    "                high_income = False\n",
    "                income = b.split('_')[1].split('-')[0]\n",
    "                if income != 'MISSING':\n",
    "                    if int(income) > high_income_threshold_global:\n",
    "                        high_income = True\n",
    "\n",
    "                # SAMPLE WITH REPLACEMENT HERE\n",
    "                np.random.seed((os.getpid() * int(time.time())) % 123456789)\n",
    "#                 np.random.seed(i)\n",
    "                bootstrap = bins_sample_global[bins_sample_global['Bin'] == b].sample(frac=1.0, replace=True)\n",
    "                value_counts = bootstrap['APN'].value_counts()\n",
    "\n",
    "                overlap = list(set(bootstrap['APN'].unique()) & set(merged_global['APN'].unique()))\n",
    "                overlap_counts = value_counts.loc[overlap]\n",
    "                sub = pd.DataFrame(columns=merged_global.columns)\n",
    "\n",
    "                for idx, val in overlap_counts.iteritems():\n",
    "                    for i in range(val):\n",
    "                        sub.loc[len(sub)] = merged_global[merged_global['APN'] == idx].iloc[0].tolist()\n",
    "\n",
    "#                 sub = merged[merged['Bin'] == b].sample(frac=x, replace=True)\n",
    "                sub[year] = sub[year].apply(lambda x: 1 if not pd.isna(x) else 0)\n",
    "                sub = sub[[year, 'APN']].groupby('APN').agg(list)\n",
    "                sub[year] = sub[year].apply(lambda x: np.sum(x))\n",
    "\n",
    "                n_j = bin_sample_n[b]\n",
    "                N_j = bin_n[b]\n",
    "\n",
    "                y_avg_j = sub[year].sum()/n_j\n",
    "                t_j = N_j*y_avg_j\n",
    "                if n_j == 1:\n",
    "                    n_j += 1 # safeguard against div by 0 error\n",
    "                var_j = np.sum(np.square(np.array(sub[year].tolist() + \\\n",
    "                                              [0] * (n_j-len(sub))) - y_avg_j)) / (n_j - 1)\n",
    "                total_var_j = (1-(n_j/N_j))*N_j*N_j*(var_j/n_j)\n",
    "\n",
    "                t_dic['total'] += t_j\n",
    "                total_var_dic['total'] += total_var_j\n",
    "\n",
    "                results_df.loc[len(results_df)] = [b, year, t_j, y_avg_j, N_j, n_j, var_j, total_var_j, high_income]\n",
    "                inc = None\n",
    "                if income != 'MISSING':\n",
    "                    if high_income:\n",
    "                        inc = 'high'\n",
    "                        t_dic['high'] += t_j\n",
    "                        total_var_dic['high'] += total_var_j\n",
    "                    else:\n",
    "                        inc = 'low'\n",
    "                        t_dic['low'] += t_j\n",
    "                        total_var_dic['low'] += total_var_j\n",
    "\n",
    "\n",
    "        results[year] = {'t': t_dic, 'var': total_var_dic}\n",
    "\n",
    "    t_2020 = results['2020']['t']['high']\n",
    "    t_2016 = results['2016']['t']['high']\n",
    "\n",
    "    high_change = (t_2020-t_2016)/(t_2016)\n",
    "\n",
    "    t_2020 = results['2020']['t']['low']\n",
    "    t_2016 = results['2016']['t']['low']\n",
    "\n",
    "    low_change = (t_2020-t_2016)/(t_2016)\n",
    "\n",
    "    return (results['2020']['t']['total'] - results['2016']['t']['total'], low_change - high_change)"
   ]
  },
  {
   "cell_type": "code",
   "execution_count": 11,
   "id": "e1bd11b4",
   "metadata": {},
   "outputs": [],
   "source": [
    "def bootstrap_mp(subset, bins_all_res, bins_sample, high_income_threshold, n):\n",
    "    \n",
    "    merged = subset[['apn', '2016', '2020']].merge(bins_all_res, left_on='apn', \n",
    "                                                   right_on='APN', how='left').drop(columns=['apn'])\n",
    "    \n",
    "    nprocs = mp.cpu_count()\n",
    "\n",
    "    p = mp.Pool(processes=nprocs, initializer=make_global, \n",
    "                initargs=(bins_all_res, bins_sample, high_income_threshold, merged, ))\n",
    "    \n",
    "#     result = p.map(driver, range(n))\n",
    "    \n",
    "    result = []\n",
    "    for x in tqdm(p.imap_unordered(driver, range(n)), total=n):\n",
    "        result.append(x)\n",
    "    \n",
    "    diff_n = [i[0] for i in result]\n",
    "    perc_change = [i[1] for i in result]\n",
    "    \n",
    "    return diff_n, perc_change\n",
    "    \n",
    "#     with open(os.path.join(fp_out, \"bootstrap_q1.p\"), \"wb\") as output_file:\n",
    "#         pickle.dump(diff_n, output_file)\n",
    "\n",
    "#     with open(os.path.join(fp_out,  \"bootstrap_q2.p\"), \"wb\") as output_file:\n",
    "#         pickle.dump(perc_change, output_file)"
   ]
  },
  {
   "cell_type": "code",
   "execution_count": 15,
   "id": "6b5298b4",
   "metadata": {},
   "outputs": [],
   "source": [
    "def two_sided_test(l, p):\n",
    "    l.sort()\n",
    "    ci = [l[int(p/2*len(l))], l[len(l) - int(p/2*len(l))]]\n",
    "    mean = np.mean(l)\n",
    "    return mean, ci"
   ]
  },
  {
   "cell_type": "code",
   "execution_count": 10,
   "id": "66c83c43",
   "metadata": {},
   "outputs": [],
   "source": [
    "OAK_FP = '/oak/stanford/groups/deho/building_compliance/'\n",
    "OUTPUT_FP = os.path.join(OAK_FP, 'outputs/Population-Estimates/outputs/')\n",
    "cf_fp = '/oak/stanford/groups/deho/building_compliance/CloudFactory/'\n",
    "POP_OUTPUT = '/oak/stanford/groups/deho/building_compliance/outputs/Population-Estimates/'"
   ]
  },
  {
   "cell_type": "code",
   "execution_count": 30,
   "id": "a1c76124",
   "metadata": {},
   "outputs": [],
   "source": [
    "df_processed = pd.read_csv(os.path.join(cf_fp, 'results', 'Batch3_part1', 'processed_buildings.csv'), \n",
    "                           dtype={'apn': str})\n",
    "bins_all_res = pd.read_csv(os.path.join(OAK_FP, 'outputs/Population-Estimates/outputs/Strata/sj_parcels_bins.csv'))\n",
    "# sample_all = pd.read_csv('/oak/stanford/groups/deho/building_compliance/outputs/Population-Estimates/CloudFactory/Iteration3/complete_sampled_APNs.csv')\n",
    "sample = pd.read_csv('/oak/stanford/groups/deho/building_compliance/outputs/Population-Estimates/CloudFactory/Iteration3/sampled_APNs.csv')\n",
    "part1 = sample.loc[:5000]\n",
    "\n",
    "# filter by size\n",
    "wgs84 = pyproj.CRS('EPSG:4326')\n",
    "utm = pyproj.CRS('EPSG:26910')\n",
    "project = pyproj.Transformer.from_crs(wgs84, utm, always_xy=True).transform\n",
    "df_processed['2016_a'] = df_processed['2016'].apply(lambda x: shapely.ops.transform(project, shapely.wkt.loads(x)).area if not pd.isna(x) else x)\n",
    "df_processed['2020_a'] = df_processed['2020'].apply(lambda x: shapely.ops.transform(project, shapely.wkt.loads(x)).area if not pd.isna(x) else x)\n",
    "\n",
    "subset = df_processed[(df_processed['2016_a'] >= 11.15) | (df_processed['2020_a'] >= 11.15)]"
   ]
  },
  {
   "cell_type": "code",
   "execution_count": 31,
   "id": "25b4f048",
   "metadata": {},
   "outputs": [],
   "source": [
    "high_income_threshold = 37.5\n",
    "n = 5000"
   ]
  },
  {
   "cell_type": "markdown",
   "id": "c1f314d5",
   "metadata": {},
   "source": [
    "### 0. Model Inferences"
   ]
  },
  {
   "cell_type": "code",
   "execution_count": 48,
   "id": "e6f2fc9a",
   "metadata": {},
   "outputs": [],
   "source": [
    "OAK_FP = '/oak/stanford/groups/deho/building_compliance/'\n",
    "\n",
    "BUILD_FP = os.path.join(OAK_FP, 'outputs', 'cbg-inference-{}', 'inference_building_processed')"
   ]
  },
  {
   "cell_type": "code",
   "execution_count": 54,
   "id": "47d754cb",
   "metadata": {},
   "outputs": [],
   "source": [
    "inference_2016 = gpd.read_file(BUILD_FP.format('2016'))\n",
    "inference_2020 = gpd.read_file(BUILD_FP.format('2020'))"
   ]
  },
  {
   "cell_type": "code",
   "execution_count": 53,
   "id": "8cf853ba",
   "metadata": {},
   "outputs": [
    {
     "data": {
      "text/plain": [
       "59238"
      ]
     },
     "execution_count": 53,
     "metadata": {},
     "output_type": "execute_result"
    }
   ],
   "source": [
    "inference_2016['small'].sum()"
   ]
  },
  {
   "cell_type": "code",
   "execution_count": 55,
   "id": "89aa4161",
   "metadata": {},
   "outputs": [
    {
     "data": {
      "text/plain": [
       "65119"
      ]
     },
     "execution_count": 55,
     "metadata": {},
     "output_type": "execute_result"
    }
   ],
   "source": [
    "inference_2020['small'].sum()"
   ]
  },
  {
   "cell_type": "markdown",
   "id": "83b3b522",
   "metadata": {},
   "source": [
    "## a) Run once -- DON'T RUN THIS AGAIN. Nothing to do with subsampling"
   ]
  },
  {
   "cell_type": "markdown",
   "id": "c3f9dc1e",
   "metadata": {},
   "source": [
    "Neyman run"
   ]
  },
  {
   "cell_type": "code",
   "execution_count": 35,
   "id": "352f5779",
   "metadata": {},
   "outputs": [
    {
     "name": "stderr",
     "output_type": "stream",
     "text": [
      "100%|██████████| 5000/5000 [1:29:41<00:00,  1.08s/it]  \n"
     ]
    }
   ],
   "source": [
    "diff_n, perc_change = bootstrap_mp(subset, bins_all_res, part1, high_income_threshold, n)"
   ]
  },
  {
   "cell_type": "code",
   "execution_count": 36,
   "id": "adc2f4d6",
   "metadata": {},
   "outputs": [],
   "source": [
    "with open(os.path.join(POP_OUTPUT, 'final', 'ney1_q1.p'), 'wb') as f:\n",
    "    pickle.dump(diff_n, f)\n",
    "    \n",
    "with open(os.path.join(POP_OUTPUT, 'final', 'ney1_q2.p'), 'wb') as f:\n",
    "    pickle.dump(perc_change, f)"
   ]
  },
  {
   "cell_type": "code",
   "execution_count": 39,
   "id": "ea23ef7e",
   "metadata": {},
   "outputs": [
    {
     "data": {
      "text/plain": [
       "(2000.2222353395314, [8.791037790528208, 4028.025148923829])"
      ]
     },
     "execution_count": 39,
     "metadata": {},
     "output_type": "execute_result"
    }
   ],
   "source": [
    "two_sided_test(diff_n, 0.05)"
   ]
  },
  {
   "cell_type": "code",
   "execution_count": 40,
   "id": "0ae2f9e8",
   "metadata": {},
   "outputs": [
    {
     "data": {
      "text/plain": [
       "(0.025143555556075527, [-0.17305419467401215, 0.21141359556905362])"
      ]
     },
     "execution_count": 40,
     "metadata": {},
     "output_type": "execute_result"
    }
   ],
   "source": [
    "two_sided_test(perc_change, 0.05)"
   ]
  },
  {
   "cell_type": "markdown",
   "id": "6f49e891",
   "metadata": {},
   "source": [
    "load in srs previously run"
   ]
  },
  {
   "cell_type": "code",
   "execution_count": 46,
   "id": "67748bb7",
   "metadata": {},
   "outputs": [],
   "source": [
    "with open(os.path.join(POP_OUTPUT, 'final', 'bootstrap_q1.p'), 'rb') as f:\n",
    "    diff_n_srs = pickle.load(f)\n",
    "    \n",
    "with open(os.path.join(POP_OUTPUT, 'final', 'bootstrap_q2.p'), 'rb') as f:\n",
    "     perc_change_srs = pickle.load(f)"
   ]
  },
  {
   "cell_type": "code",
   "execution_count": 44,
   "id": "95ee5400",
   "metadata": {},
   "outputs": [
    {
     "data": {
      "text/plain": [
       "(1121.6032564911718, [-446.9124315721929, 2735.798511360339])"
      ]
     },
     "execution_count": 44,
     "metadata": {},
     "output_type": "execute_result"
    }
   ],
   "source": [
    "two_sided_test(diff_n_srs, 0.05)"
   ]
  },
  {
   "cell_type": "code",
   "execution_count": 47,
   "id": "875a491f",
   "metadata": {},
   "outputs": [
    {
     "data": {
      "text/plain": [
       "(0.05687604300227142, [-0.14322043159951736, 0.24560892254582983])"
      ]
     },
     "execution_count": 47,
     "metadata": {},
     "output_type": "execute_result"
    }
   ],
   "source": [
    "two_sided_test(perc_change_srs, 0.05)"
   ]
  },
  {
   "cell_type": "code",
   "execution_count": 45,
   "id": "5a7fe83a",
   "metadata": {},
   "outputs": [
    {
     "data": {
      "text/plain": [
       "(0.05687604300227142, [-0.14322043159951736, 0.24560892254582983])"
      ]
     },
     "execution_count": 45,
     "metadata": {},
     "output_type": "execute_result"
    }
   ],
   "source": [
    "two_sided_test(perc_change_srs, 0.05)"
   ]
  },
  {
   "cell_type": "markdown",
   "id": "13be8806",
   "metadata": {},
   "source": [
    "## b) Run w subsampling\n",
    "- n: number of times to bootstrap (reduce this to <1000. it will take way too long otherwise)\n",
    "- max_n (calculated in one of the earliest cells): max samples we can have to generate a stratified random sample (this will be our upper limit on subsampling)\n",
    "- runs: number of times we take a particular subsample -- so basically for each run, we take n bootstrap samples. this is important because subsampling, say, 800 of 5000 will lead to very high variance, so i wanted to see how much the estimates differ when we subsample 5 times, and do bootstrapping on those 5 samples"
   ]
  },
  {
   "cell_type": "code",
   "execution_count": 19,
   "id": "b1d4a316",
   "metadata": {},
   "outputs": [],
   "source": [
    "high_income_threshold = 37.5\n",
    "n = 5000 # number of times to bootstrap\n",
    "runs = 5"
   ]
  },
  {
   "cell_type": "code",
   "execution_count": 15,
   "id": "3c1e1592",
   "metadata": {},
   "outputs": [],
   "source": [
    "n_sample_list = [int(i) for i in np.linspace(800, max_n, 5)]"
   ]
  },
  {
   "cell_type": "code",
   "execution_count": 12,
   "id": "880629d9",
   "metadata": {},
   "outputs": [],
   "source": [
    "fp_out_srs = os.path.join(POP_OUTPUT, 'final', 'test', 'srs')\n",
    "fp_out_ney = os.path.join(POP_OUTPUT, 'final', 'test', 'neyman')\n",
    "\n",
    "if not os.path.exists(fp_out_srs):\n",
    "    os.makedirs(fp_out_srs)\n",
    "if not os.path.exists(fp_out_ney):\n",
    "    os.makedirs(fp_out_ney)"
   ]
  },
  {
   "cell_type": "code",
   "execution_count": null,
   "id": "161ae628",
   "metadata": {},
   "outputs": [],
   "source": [
    "q1_neyman = {}\n",
    "q1_srs = {}\n",
    "q2_neyman = {}\n",
    "q2_srs = {}\n",
    "\n",
    "for o in [q1_neyman, q1_srs, q2_neyman, q2_srs]:\n",
    "    for i in n_sample_list:\n",
    "        o[i] = {}\n",
    "        for j in range(1, 6):\n",
    "            o[i][j] = []"
   ]
  },
  {
   "cell_type": "code",
   "execution_count": null,
   "id": "dcac7cf9",
   "metadata": {},
   "outputs": [],
   "source": [
    "for n_sample in tqdm(n_sample_list, position=0, desc=\"n_sample\", leave=False):\n",
    "    for r in tqdm(range(1, runs+1), position=1, desc=\"r\", leave=False):\n",
    "        ## ---- SAMPLING FOR BOTH METHODS ----\n",
    "        neyman_sample = part1.sample(n_sample)\n",
    "        random_sample = pd.DataFrame(columns=part1.columns)\n",
    "        # re-calculate random_subsampled depending on n\n",
    "        neyman['random_subsampled'] = round(neyman['proportion_all_res'] * n_sample)\n",
    "\n",
    "        assert all(neyman['random_subsampled'] <= neyman['sample'])\n",
    "        \n",
    "        for idx, row in neyman.iterrows():\n",
    "            b = row['index']\n",
    "            sample_n = int(row['random_subsampled'])\n",
    "\n",
    "            random_sample = pd.concat([random_sample, part1[part1['Bin'] == b].sample(sample_n)], ignore_index=True)\n",
    "        \n",
    "        ## ---- BOOTSTRAPPING ----\n",
    "        # neyman \n",
    "        diff_n, perc_change = bootstrap_mp(subset, bins_all_res, neyman_sample, high_income_threshold, n)\n",
    "        q1_neyman[n_sample][r] = diff_n\n",
    "        q2_neyman[n_sample][r] = perc_change\n",
    "        \n",
    "        for i, j in zip([q1_neyman, q2_neyman], ['q1.p', 'q2.p']):\n",
    "            with open(os.path.join(fp_out_ney, j), 'wb') as f:\n",
    "                pickle.dump(i, f)\n",
    "        \n",
    "        # stratified random sample\n",
    "        diff_n, perc_change = bootstrap_mp(subset, bins_all_res, random_sample, high_income_threshold, n)\n",
    "        q1_srs[n_sample][r] = diff_n\n",
    "        q2_srs[n_sample][r] = perc_change\n",
    "        \n",
    "        for i, j in zip([q1_srs, q2_srs], ['q1.p', 'q2.p']):\n",
    "            with open(os.path.join(fp_out_srs, j), 'wb') as f:\n",
    "                pickle.dump(i, f)"
   ]
  },
  {
   "cell_type": "code",
   "execution_count": 13,
   "id": "776746bf",
   "metadata": {},
   "outputs": [],
   "source": [
    "if os.path.exists(os.path.join(fp_out_srs, 'q1.p')):\n",
    "    with open(os.path.join(fp_out_srs, 'q1.p'), 'rb') as f:\n",
    "        q1_srs = pickle.load(f)\n",
    "        \n",
    "if os.path.exists(os.path.join(fp_out_ney, 'q1.p')):\n",
    "    with open(os.path.join(fp_out_ney, 'q1.p'), 'rb') as f:\n",
    "        q1_neyman = pickle.load(f)\n",
    "        \n",
    "if os.path.exists(os.path.join(fp_out_srs, 'q2.p')):\n",
    "    with open(os.path.join(fp_out_srs, 'q2.p'), 'rb') as f:\n",
    "        q2_srs = pickle.load(f)\n",
    "        \n",
    "if os.path.exists(os.path.join(fp_out_ney, 'q2.p')):\n",
    "    with open(os.path.join(fp_out_ney, 'q2.p'), 'rb') as f:\n",
    "        q2_neyman = pickle.load(f)"
   ]
  },
  {
   "cell_type": "code",
   "execution_count": 17,
   "id": "566dc5a0",
   "metadata": {},
   "outputs": [],
   "source": [
    "results = pd.DataFrame(columns=['q', 'method', 'sample_n', 'run', 'lb', 'mean', 'ub'])\n",
    "for q, method, dic in zip([1, 1, 2, 2], ['srs', 'neyman', 'srs', 'neyman'],\n",
    "               [q1_srs, q1_neyman, q2_srs, q2_neyman]):\n",
    "    for i in dic.keys():\n",
    "        for j in range(1, runs+1):\n",
    "            mean, ci = two_sided_test(dic[i][j], 0.05)\n",
    "            results.loc[len(results)] = [q, method, i, j, ci[0], mean, ci[1]]"
   ]
  },
  {
   "cell_type": "code",
   "execution_count": 36,
   "id": "bfda2a27",
   "metadata": {},
   "outputs": [],
   "source": [
    "results['err'] = results['ub']-results['mean']"
   ]
  },
  {
   "cell_type": "code",
   "execution_count": 75,
   "id": "f88223f8",
   "metadata": {},
   "outputs": [],
   "source": [
    "grouped = results.groupby(['q', 'method', 'sample_n']).agg('mean').reset_index()"
   ]
  },
  {
   "cell_type": "code",
   "execution_count": 80,
   "id": "149a96b1",
   "metadata": {},
   "outputs": [
    {
     "data": {
      "image/png": "[encoded data removed]",
      "text/plain": [
       "<Figure size 640x480 with 1 Axes>"
      ]
     },
     "metadata": {},
     "output_type": "display_data"
    }
   ],
   "source": [
    "for m in ['srs', 'neyman']:\n",
    "    subset = grouped[(grouped['q'] == 1) & (grouped['method'] == m)]\n",
    "    \n",
    "    plt.errorbar(subset['sample_n'], subset['mean'],\n",
    "                 yerr = subset['err'], alpha=.75, fmt=':', capsize=3, capthick=1, label=m)\n",
    "    data = {\n",
    "        'x': list(subset['sample_n']),\n",
    "        'y1': [y - e for y, e in zip(subset['mean'], subset['err'])],\n",
    "        'y2': [y + e for y, e in zip(subset['mean'], subset['err'])]}\n",
    "    plt.fill_between(**data, alpha=.25)\n",
    "\n",
    "plt.xlabel('sample size')\n",
    "plt.ylabel('#buildings 2020 - 2016')\n",
    "plt.legend()\n",
    "plt.show()"
   ]
  },
  {
   "cell_type": "code",
   "execution_count": 24,
   "id": "2c06b196",
   "metadata": {},
   "outputs": [],
   "source": [
    "for dic in [q1_srs, q1_neyman, q2_srs, q2_neyman]:\n",
    "    for i in dic.keys():\n",
    "        for j in range(1, 6):\n",
    "            if len(dic[i][j]) == 0:\n",
    "                print(i)"
   ]
  },
  {
   "cell_type": "code",
   "execution_count": null,
   "id": "75047ac7",
   "metadata": {},
   "outputs": [],
   "source": []
  }
 ],
 "metadata": {
  "kernelspec": {
   "display_name": "Python 3",
   "language": "python",
   "name": "python3"
  },
  "language_info": {
   "codemirror_mode": {
    "name": "ipython",
    "version": 3
   },
   "file_extension": ".py",
   "mimetype": "text/x-python",
   "name": "python",
   "nbconvert_exporter": "python",
   "pygments_lexer": "ipython3",
   "version": "3.8.10"
  }
 },
 "nbformat": 4,
 "nbformat_minor": 5
}
