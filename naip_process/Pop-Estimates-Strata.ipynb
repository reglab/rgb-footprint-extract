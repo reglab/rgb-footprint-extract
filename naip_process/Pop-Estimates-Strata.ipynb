{
 "cells": [
  {
   "cell_type": "markdown",
   "id": "03503eee",
   "metadata": {},
   "source": [
    "# Population Estimates: Define the income-level strata"
   ]
  },
  {
   "cell_type": "code",
   "execution_count": 4,
   "id": "e3bae070",
   "metadata": {},
   "outputs": [],
   "source": [
    "import seaborn as sns\n",
    "from tqdm import tqdm\n",
    "\n",
    "import warnings\n",
    "warnings.simplefilter(action='ignore', category=FutureWarning)\n",
    "warnings.filterwarnings(\"ignore\")\n",
    "\n",
    "tqdm.pandas()"
   ]
  },
  {
   "cell_type": "code",
   "execution_count": 5,
   "id": "f7776e41",
   "metadata": {},
   "outputs": [],
   "source": [
    "# Import functions\n",
    "%run inference-functions.ipynb import load_data, get_bounds, assign_cbgs, visualize_tile_predvOSM, assign_cbgs_by_coverage\n",
    "%run ADU_permit_matching-polygon-pipeline.ipynb import load_sources"
   ]
  },
  {
   "cell_type": "code",
   "execution_count": 38,
   "id": "43384d19",
   "metadata": {},
   "outputs": [],
   "source": [
    "# Paths\n",
    "OAK_FP = '/oak/stanford/groups/deho/building_compliance/'\n",
    "SHAPEFILE_FP = '/oak/stanford/groups/deho/building_compliance/shapefiles'\n",
    "INPUT_FP = os.path.join(OAK_FP, 'outputs', 'Population-Estimates', 'inputs')\n",
    "OUTPUT_FP = os.path.join(OAK_FP, 'outputs', 'Population-Estimates', 'outputs')\n",
    "\n",
    "# * Updated location for San Jose residential parcels\n",
    "SJ_RES_PARCELS_FP = os.path.join(OAK_FP, 'san_jose_suppl', 'san_jose_parcels_res.geojson')\n",
    "\n",
    "BUILD_FP = os.path.join(OAK_FP, 'outputs', 'cbg-inference-{}', 'inference_building_processed')\n",
    "OSM_FP = os.path.join(OAK_FP, 'outputs', 'cbg-inference-2020', 'osm_building_processed')\n",
    "\n",
    "# Load data \n",
    "cbg_sj_2016 = load_bg_shp(shapefile_fp=SHAPEFILE_FP, oak_fp=OAK_FP, year='2016')\n",
    "\n",
    "# * Residential parcels\n",
    "sj_parcels_res = gpd.read_file(SJ_RES_PARCELS_FP)\n",
    "sj_parcels_res = sj_parcels_res[sj_parcels_res['APN'].notna()]\n",
    "\n",
    "# * CBG income (includes interpolation for 15 CBGs with missing income data)\n",
    "cbg_income_2016 = gpd.read_file(os.path.join(INPUT_FP, 'cbg_income_2016'))\n",
    "\n",
    "# * Parcel confidences\n",
    "parcel_conf_df = pd.read_csv(\n",
    "    os.path.join(OUTPUT_FP, 'Confidences_construction', 'parcel-confidence.csv'), dtype={'APN': str})"
   ]
  },
  {
   "cell_type": "markdown",
   "id": "36f8c9c4",
   "metadata": {},
   "source": [
    "## 1. Income-level stratification"
   ]
  },
  {
   "cell_type": "markdown",
   "id": "62ca3f53",
   "metadata": {},
   "source": [
    "Shapefiles include 643 CBGs as of 2016 for San Jose. ACS has non-missing data for 628 CBGs; interpolated data has data for 13 out of these 15 CBGs. The other 2 CBGs include a county jail containing 7 residential parcels and a residential CBG containing only 24 residential parcels. We drop these two CBGs."
   ]
  },
  {
   "cell_type": "code",
   "execution_count": 4,
   "id": "5d4bbf45",
   "metadata": {},
   "outputs": [],
   "source": [
    "# Filter for SJ CBGs\n",
    "cbg_income_2016_SJ = cbg_income_2016.loc[cbg_income_2016['GEOID'].isin(\n",
    "        cbg_sj_2016['GEOID'].unique())].copy()"
   ]
  },
  {
   "cell_type": "code",
   "execution_count": 5,
   "id": "867f0dee",
   "metadata": {},
   "outputs": [
    {
     "name": "stdout",
     "output_type": "stream",
     "text": [
      "<class 'geopandas.geodataframe.GeoDataFrame'>\n",
      "Int64Index: 643 entries, 4 to 1070\n",
      "Data columns (total 3 columns):\n",
      " #   Column      Non-Null Count  Dtype   \n",
      "---  ------      --------------  -----   \n",
      " 0   GEOID       643 non-null    object  \n",
      " 1   median_inc  641 non-null    float64 \n",
      " 2   geometry    643 non-null    geometry\n",
      "dtypes: float64(1), geometry(1), object(1)\n",
      "memory usage: 20.1+ KB\n"
     ]
    }
   ],
   "source": [
    "# Check missing CBGs and save shapefile of this subset\n",
    "cbg_income_2016_SJ.info()\n",
    "\n",
    "missing = cbg_income_2016_SJ.loc[cbg_income_2016_SJ['median_inc'].isna()]\n",
    "\n",
    "#missing.to_file(os.path.join(OUTPUT_FP, '..', 'misc', 'missing-inc-cbgs'))"
   ]
  },
  {
   "cell_type": "code",
   "execution_count": 6,
   "id": "7c171f35",
   "metadata": {},
   "outputs": [],
   "source": [
    "# Stratify\n",
    "N_INCOME_BINS = 50\n",
    "cbg_income_2016_SJ['strata_income'] = pd.qcut(\n",
    "    cbg_income_2016_SJ['median_inc'], q=N_INCOME_BINS, \n",
    "    labels=['IS_{}'.format(i) for i in range(N_INCOME_BINS)])"
   ]
  },
  {
   "cell_type": "code",
   "execution_count": 7,
   "id": "3c7a3efb",
   "metadata": {},
   "outputs": [],
   "source": [
    "# Define high vs. low-income neighborhoods\n",
    "cbg_income_2016_SJ['neighborhood'] = cbg_income_2016_SJ['strata_income'].apply(\n",
    "    lambda strata_income: 'low' if int(strata_income.split('_')[1]) < N_INCOME_BINS/2 else 'high'\n",
    ")"
   ]
  },
  {
   "cell_type": "code",
   "execution_count": 8,
   "id": "8a64814f",
   "metadata": {},
   "outputs": [],
   "source": [
    "# Convert strata from category to object\n",
    "cbg_income_2016_SJ['strata_income'] = cbg_income_2016_SJ['strata_income'].astype('object')"
   ]
  },
  {
   "cell_type": "code",
   "execution_count": 9,
   "id": "a077c6b8",
   "metadata": {},
   "outputs": [],
   "source": [
    "# Add strata for the missing CBGs\n",
    "cbg_income_2016_SJ['strata_income'] = cbg_income_2016_SJ['strata_income'].fillna('IS_MISSING')"
   ]
  },
  {
   "cell_type": "code",
   "execution_count": 26,
   "id": "1b6d8f9a",
   "metadata": {},
   "outputs": [],
   "source": [
    "cbg_income_2016_SJ.to_file(os.path.join(OUTPUT_FP, 'Strata', 'cbg-income-strata'))"
   ]
  },
  {
   "cell_type": "code",
   "execution_count": 10,
   "id": "dab32259",
   "metadata": {},
   "outputs": [
    {
     "data": {
      "image/png": "[encoded data removed]",
      "text/plain": [
       "<Figure size 640x480 with 1 Axes>"
      ]
     },
     "metadata": {},
     "output_type": "display_data"
    }
   ],
   "source": [
    "cbg_income_2016_SJ['median_inc'].hist()\n",
    "plt.show()"
   ]
  },
  {
   "cell_type": "markdown",
   "id": "c1cb4616",
   "metadata": {},
   "source": [
    "## 2. Assign parcels to CBGs"
   ]
  },
  {
   "cell_type": "code",
   "execution_count": 10,
   "id": "3a54ef4a",
   "metadata": {},
   "outputs": [],
   "source": [
    "sj_parcels = sj_parcels_res[['APN', 'geometry']].copy()"
   ]
  },
  {
   "cell_type": "code",
   "execution_count": 11,
   "id": "3a1ab555",
   "metadata": {},
   "outputs": [
    {
     "name": "stdout",
     "output_type": "stream",
     "text": [
      "Number of parcels: 161299\n"
     ]
    }
   ],
   "source": [
    "# Drop duplicate parcels\n",
    "sj_parcels.drop_duplicates(subset=['APN'], inplace=True)\n",
    "print('Number of parcels: {}'.format(len(sj_parcels)))"
   ]
  },
  {
   "cell_type": "code",
   "execution_count": 12,
   "id": "54964646",
   "metadata": {},
   "outputs": [
    {
     "name": "stdout",
     "output_type": "stream",
     "text": [
      "Number of parcels: 159930\n"
     ]
    }
   ],
   "source": [
    "# Filter parcels by area. We use an area threshold of 5,000 square meters as this\n",
    "# provides a good trade-off between removing some non-SFRs in this area interval\n",
    "# such as churches and apartment complexes, and starting to capture large SFRs\n",
    "sj_parcels['area'] = sj_parcels.to_crs('EPSG:26910').geometry.area\n",
    "\n",
    "AREA_THRESHOLD = 5000\n",
    "sj_parcels = sj_parcels.loc[sj_parcels['area'] <= AREA_THRESHOLD]\n",
    "print('Number of parcels: {}'.format(len(sj_parcels)))"
   ]
  },
  {
   "cell_type": "code",
   "execution_count": 13,
   "id": "ed68f044",
   "metadata": {},
   "outputs": [
    {
     "name": "stderr",
     "output_type": "stream",
     "text": [
      "100%|██████████| 160332/160332 [02:53<00:00, 926.56it/s]\n"
     ]
    },
    {
     "name": "stdout",
     "output_type": "stream",
     "text": [
      "Number of parcels: 159930\n"
     ]
    }
   ],
   "source": [
    "# Assign to CBGs\n",
    "cbg_income_2016_SJ.reset_index(inplace=True, drop=True)\n",
    "sj_parcels = sj_parcels.sjoin(cbg_income_2016_SJ[['GEOID', 'geometry']], how='left', predicate='intersects')\n",
    "\n",
    "sj_parcels['CBG_iou'] = sj_parcels.progress_apply(\n",
    "    lambda row: 0 if pd.isnull(row['index_right']) else row['geometry'].buffer(0).intersection(\n",
    "        cbg_income_2016_SJ.iloc[int(row['index_right'])]['geometry'].buffer(0)).area/row['geometry'].buffer(0).area, \n",
    "    axis=1)\n",
    "\n",
    "# Handle multiple matches\n",
    "sj_parcels.sort_values('CBG_iou', ascending=False, inplace=True)\n",
    "sj_parcels.drop_duplicates(subset=['APN'], keep='first', inplace=True)\n",
    "\n",
    "sj_parcels.drop('index_right', axis=1, inplace=True)\n",
    "\n",
    "print('Number of parcels: {}'.format(len(sj_parcels)))"
   ]
  },
  {
   "cell_type": "code",
   "execution_count": 14,
   "id": "84a843c8",
   "metadata": {},
   "outputs": [],
   "source": [
    "# Save\n",
    "sj_parcels[['APN', 'GEOID', 'geometry']].to_file(os.path.join(OUTPUT_FP, 'sj-parcels-res-cbgs'))"
   ]
  },
  {
   "cell_type": "code",
   "execution_count": 20,
   "id": "c9678d57",
   "metadata": {
    "scrolled": true
   },
   "outputs": [
    {
     "data": {
      "text/html": [
       "<div>\n",
       "<style scoped>\n",
       "    .dataframe tbody tr th:only-of-type {\n",
       "        vertical-align: middle;\n",
       "    }\n",
       "\n",
       "    .dataframe tbody tr th {\n",
       "        vertical-align: top;\n",
       "    }\n",
       "\n",
       "    .dataframe thead th {\n",
       "        text-align: right;\n",
       "    }\n",
       "</style>\n",
       "<table border=\"1\" class=\"dataframe\">\n",
       "  <thead>\n",
       "    <tr style=\"text-align: right;\">\n",
       "      <th></th>\n",
       "      <th>APN</th>\n",
       "      <th>GEOID</th>\n",
       "      <th>geometry</th>\n",
       "    </tr>\n",
       "  </thead>\n",
       "  <tbody>\n",
       "    <tr>\n",
       "      <th>0</th>\n",
       "      <td>70616068</td>\n",
       "      <td>060855120352</td>\n",
       "      <td>POLYGON ((-121.76364 37.23242, -121.76363 37.2...</td>\n",
       "    </tr>\n",
       "    <tr>\n",
       "      <th>1</th>\n",
       "      <td>58332069</td>\n",
       "      <td>060855119051</td>\n",
       "      <td>POLYGON ((-121.85785 37.21815, -121.85638 37.2...</td>\n",
       "    </tr>\n",
       "    <tr>\n",
       "      <th>2</th>\n",
       "      <td>64709051</td>\n",
       "      <td>060855035081</td>\n",
       "      <td>POLYGON ((-121.80662 37.35661, -121.80651 37.3...</td>\n",
       "    </tr>\n",
       "    <tr>\n",
       "      <th>3</th>\n",
       "      <td>49926003</td>\n",
       "      <td>060855032112</td>\n",
       "      <td>POLYGON ((-121.83067 37.30892, -121.83061 37.3...</td>\n",
       "    </tr>\n",
       "    <tr>\n",
       "      <th>4</th>\n",
       "      <td>43927061</td>\n",
       "      <td>060855030013</td>\n",
       "      <td>POLYGON ((-121.89886 37.28527, -121.89885 37.2...</td>\n",
       "    </tr>\n",
       "  </tbody>\n",
       "</table>\n",
       "</div>"
      ],
      "text/plain": [
       "        APN         GEOID                                           geometry\n",
       "0  70616068  060855120352  POLYGON ((-121.76364 37.23242, -121.76363 37.2...\n",
       "1  58332069  060855119051  POLYGON ((-121.85785 37.21815, -121.85638 37.2...\n",
       "2  64709051  060855035081  POLYGON ((-121.80662 37.35661, -121.80651 37.3...\n",
       "3  49926003  060855032112  POLYGON ((-121.83067 37.30892, -121.83061 37.3...\n",
       "4  43927061  060855030013  POLYGON ((-121.89886 37.28527, -121.89885 37.2..."
      ]
     },
     "execution_count": 20,
     "metadata": {},
     "output_type": "execute_result"
    }
   ],
   "source": [
    "sj_parcels[['APN', 'GEOID', 'geometry']].head()"
   ]
  },
  {
   "cell_type": "code",
   "execution_count": 16,
   "id": "fcb51551",
   "metadata": {},
   "outputs": [],
   "source": [
    "# Check residential parcels in missing income CBGs\n",
    "sj_parcels = gpd.read_file(os.path.join(OUTPUT_FP, 'sj-parcels-res-cbgs'))"
   ]
  },
  {
   "cell_type": "code",
   "execution_count": 17,
   "id": "09a7088f",
   "metadata": {},
   "outputs": [
    {
     "name": "stdout",
     "output_type": "stream",
     "text": [
      "27\n"
     ]
    }
   ],
   "source": [
    "missing_parcels = sj_parcels.loc[sj_parcels['GEOID'].isin(missing['GEOID'])]\n",
    "print(len(missing_parcels))"
   ]
  },
  {
   "cell_type": "code",
   "execution_count": 18,
   "id": "7e34ffa4",
   "metadata": {},
   "outputs": [
    {
     "name": "stdout",
     "output_type": "stream",
     "text": [
      "23\n",
      "4\n"
     ]
    }
   ],
   "source": [
    "print(len(sj_parcels.loc[sj_parcels['GEOID'] == '060855034021'])) # \n",
    "\n",
    "print(len(sj_parcels.loc[sj_parcels['GEOID'] == '060855002002']))"
   ]
  },
  {
   "cell_type": "code",
   "execution_count": 19,
   "id": "27b30bb1",
   "metadata": {},
   "outputs": [
    {
     "data": {
      "image/png": "[encoded data removed]",
      "text/plain": [
       "<Figure size 1500x1500 with 1 Axes>"
      ]
     },
     "metadata": {},
     "output_type": "display_data"
    }
   ],
   "source": [
    "fig, ax = plt.subplots(figsize=(15, 15))\n",
    "missing.plot(ax=ax),\n",
    "missing_parcels.plot(ax=ax, color='red')\n",
    "ax.axis('off')\n",
    "plt.show()"
   ]
  },
  {
   "cell_type": "markdown",
   "id": "bc4f0b27",
   "metadata": {},
   "source": [
    "## 3. Compute N_h\n",
    "\n",
    "Requires the parcel-level confidences. "
   ]
  },
  {
   "cell_type": "code",
   "execution_count": 60,
   "id": "d24dadd8",
   "metadata": {},
   "outputs": [],
   "source": [
    "# Parcels\n",
    "sj_parcels = gpd.read_file(os.path.join(OUTPUT_FP, 'sj-parcels-res-cbgs'))\n",
    "\n",
    "# Load parcel confidences and subset to CF area\n",
    "parcel_confidences = parcel_conf_df.copy()\n",
    "parcel_confidences.rename(columns={'confidence': 'CBin'}, inplace=True)\n",
    "\n",
    "# Generate income-confidence bins\n",
    "parcel_confidences['Bin'] = parcel_confidences.apply(\n",
    "    lambda row: '{}-{}'.format(row['strata_inc'], row['CBin']), axis=1)\n",
    "\n",
    "# Save: shp including parcel, GEOID, bin\n",
    "parcel_confidences = pd.merge(sj_parcels[['APN']], parcel_confidences[['APN', 'Bin']], \n",
    "                              how='left', validate='one_to_one')\n",
    "\n",
    "parcel_confidences[['APN', 'Bin']].to_csv(\n",
    "    os.path.join(OUTPUT_FP, 'Strata', 'sj_parcels_bins.csv'), index=False)"
   ]
  },
  {
   "cell_type": "code",
   "execution_count": 73,
   "id": "40fe230a",
   "metadata": {},
   "outputs": [],
   "source": [
    "parcel_confidences = pd.read_csv(\n",
    "    os.path.join(OUTPUT_FP, 'Strata', 'sj_parcels_bins.csv'))"
   ]
  },
  {
   "cell_type": "code",
   "execution_count": 66,
   "id": "6d2d90d0",
   "metadata": {},
   "outputs": [],
   "source": [
    "x = parcel_confidences.loc[parcel_confidences['Bin'].isna()]"
   ]
  },
  {
   "cell_type": "code",
   "execution_count": 70,
   "id": "5cdfdb62",
   "metadata": {},
   "outputs": [
    {
     "data": {
      "text/html": [
       "<div>\n",
       "<style scoped>\n",
       "    .dataframe tbody tr th:only-of-type {\n",
       "        vertical-align: middle;\n",
       "    }\n",
       "\n",
       "    .dataframe tbody tr th {\n",
       "        vertical-align: top;\n",
       "    }\n",
       "\n",
       "    .dataframe thead th {\n",
       "        text-align: right;\n",
       "    }\n",
       "</style>\n",
       "<table border=\"1\" class=\"dataframe\">\n",
       "  <thead>\n",
       "    <tr style=\"text-align: right;\">\n",
       "      <th></th>\n",
       "      <th>APN</th>\n",
       "      <th>confidence</th>\n",
       "      <th>GEOID</th>\n",
       "      <th>strata_inc</th>\n",
       "    </tr>\n",
       "  </thead>\n",
       "  <tbody>\n",
       "  </tbody>\n",
       "</table>\n",
       "</div>"
      ],
      "text/plain": [
       "Empty DataFrame\n",
       "Columns: [APN, confidence, GEOID, strata_inc]\n",
       "Index: []"
      ]
     },
     "execution_count": 70,
     "metadata": {},
     "output_type": "execute_result"
    }
   ],
   "source": [
    "parcel_conf_df.loc[parcel_conf_df['APN'].isin(x['APN'].unique())]"
   ]
  },
  {
   "cell_type": "code",
   "execution_count": 72,
   "id": "088af142",
   "metadata": {},
   "outputs": [
    {
     "data": {
      "text/plain": [
       "61"
      ]
     },
     "execution_count": 72,
     "metadata": {},
     "output_type": "execute_result"
    }
   ],
   "source": [
    "len(x['APN'].unique())"
   ]
  },
  {
   "cell_type": "code",
   "execution_count": 62,
   "id": "7edeae0f",
   "metadata": {},
   "outputs": [
    {
     "data": {
      "text/plain": [
       "array(['IS_35-1', 'IS_40-1', 'IS_11-3', 'IS_22-1', 'IS_43-1', 'IS_12-1',\n",
       "       'IS_29-1', 'IS_39-1', 'IS_13-1', 'IS_31-1', 'IS_36-1', 'IS_45-1',\n",
       "       'IS_2-1', 'IS_10-3', 'IS_37-1', 'IS_32-1', 'IS_21-1', 'IS_33-3',\n",
       "       'IS_49-1', 'IS_38-1', 'IS_21-3', 'IS_18-1', 'IS_33-1', 'IS_25-1',\n",
       "       'IS_26-1', 'IS_41-1', 'IS_49-3', 'IS_9-1', 'IS_29-2', 'IS_24-3',\n",
       "       'IS_33-2', 'IS_35-3', 'IS_34-1', 'IS_30-1', 'IS_7-1', 'IS_40-3',\n",
       "       'IS_28-2', 'IS_16-1', 'IS_19-1', 'IS_10-1', 'IS_32-3', 'IS_32-2',\n",
       "       'IS_0-1', 'IS_25-3', 'IS_24-1', 'IS_23-3', 'IS_42-1', 'IS_42-3',\n",
       "       'IS_3-2', 'IS_47-1', 'IS_27-1', 'IS_11-1', 'IS_20-1', 'IS_42-2',\n",
       "       'IS_MISSING-1', 'IS_46-1', 'IS_1-1', 'IS_19-2', 'IS_5-1',\n",
       "       'IS_48-1', 'IS_13-3', 'IS_38-3', 'IS_20-3', 'IS_7-3', 'IS_16-3',\n",
       "       'IS_23-1', 'IS_8-1', 'IS_31-3', 'IS_15-1', 'IS_28-3', 'IS_14-3',\n",
       "       'IS_2-2', 'IS_3-1', 'IS_44-1', 'IS_7-2', 'IS_15-2', 'IS_47-3',\n",
       "       'IS_34-2', 'IS_12-3', 'IS_17-1', 'IS_40-2', 'IS_44-2', 'IS_38-2',\n",
       "       'IS_6-1', 'IS_9-3', 'IS_6-3', 'IS_20-2', 'IS_22-3', 'IS_26-2',\n",
       "       'IS_28-1', 'IS_43-3', 'IS_8-3', 'IS_3-3', 'IS_14-1', 'IS_27-2',\n",
       "       'IS_27-3', 'IS_35-2', 'IS_18-3', 'IS_47-2', 'IS_9-2', 'IS_45-2',\n",
       "       'IS_45-3', 'IS_22-2', 'IS_43-2', 'IS_17-2', 'IS_17-3', 'IS_8-2',\n",
       "       'IS_10-2', 'IS_29-3', 'IS_41-3', 'IS_25-2', 'IS_39-2', 'IS_19-3',\n",
       "       'IS_4-1', 'IS_30-3', 'IS_39-3', 'IS_23-2', 'IS_2-3', 'IS_44-3',\n",
       "       'IS_46-2', 'IS_18-2', 'IS_46-3', 'IS_15-3', 'IS_5-3', 'IS_34-3',\n",
       "       'IS_48-2', 'IS_37-2', 'IS_1-2', 'IS_1-3', 'IS_21-2', 'IS_37-3',\n",
       "       'IS_5-2', 'IS_31-2', 'IS_48-3', 'IS_4-3', 'IS_49-2', 'IS_0-3',\n",
       "       'IS_16-2', 'IS_26-3', 'IS_13-2', 'IS_41-2', 'IS_12-2', 'IS_14-2',\n",
       "       'IS_24-2', nan, 'IS_6-2', 'IS_30-2', 'IS_11-2', 'IS_36-2',\n",
       "       'IS_36-3', 'IS_0-2', 'IS_4-2', 'IS_MISSING-3'], dtype=object)"
      ]
     },
     "execution_count": 62,
     "metadata": {},
     "output_type": "execute_result"
    }
   ],
   "source": [
    "parcel_confidences['Bin'].unique()"
   ]
  }
 ],
 "metadata": {
  "kernelspec": {
   "display_name": "Python 3",
   "language": "python",
   "name": "python3"
  },
  "language_info": {
   "codemirror_mode": {
    "name": "ipython",
    "version": 3
   },
   "file_extension": ".py",
   "mimetype": "text/x-python",
   "name": "python",
   "nbconvert_exporter": "python",
   "pygments_lexer": "ipython3",
   "version": "3.8.10"
  }
 },
 "nbformat": 4,
 "nbformat_minor": 5
}
