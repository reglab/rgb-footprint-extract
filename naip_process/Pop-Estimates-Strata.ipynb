{
 "cells": [
  {
   "cell_type": "markdown",
   "id": "03503eee",
   "metadata": {},
   "source": [
    "# Population Estimates: Define the income-level strata"
   ]
  },
  {
   "cell_type": "code",
   "execution_count": 1,
   "id": "e3bae070",
   "metadata": {},
   "outputs": [],
   "source": [
    "import seaborn as sns\n",
    "from tqdm import tqdm\n",
    "\n",
    "import warnings\n",
    "warnings.simplefilter(action='ignore', category=FutureWarning)\n",
    "warnings.filterwarnings(\"ignore\")\n",
    "\n",
    "tqdm.pandas()"
   ]
  },
  {
   "cell_type": "code",
   "execution_count": 2,
   "id": "f7776e41",
   "metadata": {},
   "outputs": [],
   "source": [
    "# Import functions\n",
    "%run inference-functions.ipynb import load_data, get_bounds, assign_cbgs, visualize_tile_predvOSM, assign_cbgs_by_coverage\n",
    "%run ADU_permit_matching-polygon-pipeline.ipynb import load_sources"
   ]
  },
  {
   "cell_type": "code",
   "execution_count": 3,
   "id": "43384d19",
   "metadata": {},
   "outputs": [],
   "source": [
    "# Paths\n",
    "OAK_FP = '/oak/stanford/groups/deho/building_compliance/'\n",
    "SHAPEFILE_FP = '/oak/stanford/groups/deho/building_compliance/shapefiles'\n",
    "INPUT_FP = os.path.join(OAK_FP, 'outputs', 'Population-Estimates', 'inputs')\n",
    "OUTPUT_FP = os.path.join(OAK_FP, 'outputs', 'Population-Estimates', 'outputs')\n",
    "PERMIT_INPUT_FP = os.path.join(OAK_FP, 'outputs', 'Permit-Matching', 'inputs')\n",
    "SJ_RES_PARCELS_FP = os.path.join(PERMIT_INPUT_FP, 'san_jose_parcels_res.geojson')\n",
    "\n",
    "BUILD_FP = os.path.join(OAK_FP, 'outputs', 'cbg-inference-{}', 'inference_building_processed')\n",
    "OSM_FP = os.path.join(OAK_FP, 'outputs', 'cbg-inference-2020', 'osm_building_processed')\n",
    "\n",
    "# Load data \n",
    "cbg_sj_2016 = load_bg_shp(shapefile_fp=SHAPEFILE_FP, oak_fp=OAK_FP, year='2016')\n",
    "\n",
    "# * Residential parcels\n",
    "sj_parcels_res = gpd.read_file(SJ_RES_PARCELS_FP)\n",
    "sj_parcels_res = sj_parcels_res[sj_parcels_res['APN'].notna()]\n",
    "\n",
    "# * CBG income\n",
    "cbg_income_2016 = gpd.read_file(os.path.join(INPUT_FP, 'cbg_income_2016'))"
   ]
  },
  {
   "cell_type": "markdown",
   "id": "36f8c9c4",
   "metadata": {},
   "source": [
    "## 1. Income-level stratification"
   ]
  },
  {
   "cell_type": "markdown",
   "id": "62ca3f53",
   "metadata": {},
   "source": [
    "Shapefiles include 643 CBGs as of 2016 for San Jose. ACS has non-missing data for 628 CBGs.\n",
    "\n",
    "Need to define the strata, and which CBGs belong to high/low income regions."
   ]
  },
  {
   "cell_type": "code",
   "execution_count": 4,
   "id": "d8a10874",
   "metadata": {},
   "outputs": [],
   "source": [
    "# Filter for SJ CBGs\n",
    "cbg_income_2016_SJ = cbg_income_2016.loc[cbg_income_2016['GEOID'].isin(cbg_sj_2016['GEOID'].unique())]"
   ]
  },
  {
   "cell_type": "code",
   "execution_count": 11,
   "id": "867f0dee",
   "metadata": {},
   "outputs": [
    {
     "name": "stdout",
     "output_type": "stream",
     "text": [
      "<class 'geopandas.geodataframe.GeoDataFrame'>\n",
      "Int64Index: 643 entries, 4 to 1070\n",
      "Data columns (total 3 columns):\n",
      " #   Column    Non-Null Count  Dtype   \n",
      "---  ------    --------------  -----   \n",
      " 0   GEOID     643 non-null    object  \n",
      " 1   hh_mdn_   628 non-null    float64 \n",
      " 2   geometry  643 non-null    geometry\n",
      "dtypes: float64(1), geometry(1), object(1)\n",
      "memory usage: 20.1+ KB\n"
     ]
    }
   ],
   "source": [
    "# Check missing CBGs and save shapefile of this subset\n",
    "cbg_income_2016_SJ.info()\n",
    "\n",
    "cbg_income_2016_SJ.loc[cbg_income_2016_SJ['hh_mdn_'].isna()].to_file(\n",
    "    os.path.join(OUTPUT_FP, '..', 'misc', 'missing-inc-cbgs'))"
   ]
  },
  {
   "cell_type": "code",
   "execution_count": 12,
   "id": "dab32259",
   "metadata": {},
   "outputs": [
    {
     "data": {
      "image/png": "[encoded data removed]",
      "text/plain": [
       "<Figure size 640x480 with 1 Axes>"
      ]
     },
     "metadata": {},
     "output_type": "display_data"
    }
   ],
   "source": [
    "cbg_income_2016_SJ['hh_mdn_'].hist()\n",
    "plt.show()"
   ]
  },
  {
   "cell_type": "code",
   "execution_count": 5,
   "id": "7c171f35",
   "metadata": {},
   "outputs": [],
   "source": [
    "# Stratify\n",
    "N_INCOME_BINS = 50\n",
    "cbg_income_2016_SJ['strata_income'] = pd.qcut(\n",
    "    cbg_income_2016_SJ['hh_mdn_'], q=N_INCOME_BINS, \n",
    "    labels=['IS_{}'.format(i) for i in range(N_INCOME_BINS)])"
   ]
  },
  {
   "cell_type": "code",
   "execution_count": 6,
   "id": "3c7a3efb",
   "metadata": {},
   "outputs": [],
   "source": [
    "# Define high vs. low-income neighborhoods\n",
    "cbg_income_2016_SJ['neighborhood'] = cbg_income_2016_SJ['strata_income'].apply(\n",
    "    lambda strata_income: 'low' if int(strata_income.split('_')[1]) < N_INCOME_BINS/2 else 'high'\n",
    ")"
   ]
  },
  {
   "cell_type": "code",
   "execution_count": 9,
   "id": "8a64814f",
   "metadata": {},
   "outputs": [],
   "source": [
    "# Convert strata from cateogry to object\n",
    "cbg_income_2016_SJ['strata_income'] = cbg_income_2016_SJ['strata_income'].astype('object')"
   ]
  },
  {
   "cell_type": "code",
   "execution_count": 10,
   "id": "a077c6b8",
   "metadata": {},
   "outputs": [],
   "source": [
    "# Add strata for the missing CBGs\n",
    "cbg_income_2016_SJ['strata_income'] = cbg_income_2016_SJ['strata_income'].fillna('IS_MISSING')"
   ]
  },
  {
   "cell_type": "code",
   "execution_count": 13,
   "id": "1b6d8f9a",
   "metadata": {},
   "outputs": [],
   "source": [
    "cbg_income_2016_SJ.to_file(os.path.join(OUTPUT_FP, 'Strata', 'cbg-income-strata'))"
   ]
  },
  {
   "cell_type": "markdown",
   "id": "c1cb4616",
   "metadata": {},
   "source": [
    "## 2. Assign parcels to CBGs"
   ]
  },
  {
   "cell_type": "code",
   "execution_count": 70,
   "id": "3a54ef4a",
   "metadata": {},
   "outputs": [],
   "source": [
    "sj_parcels = sj_parcels_res[['APN', 'geometry']].copy()"
   ]
  },
  {
   "cell_type": "code",
   "execution_count": 71,
   "id": "3a1ab555",
   "metadata": {},
   "outputs": [
    {
     "name": "stdout",
     "output_type": "stream",
     "text": [
      "Number of parcels: 170296\n"
     ]
    }
   ],
   "source": [
    "# Drop duplicate parcels\n",
    "sj_parcels.drop_duplicates(subset=['APN'], inplace=True)\n",
    "print('Number of parcels: {}'.format(len(sj_parcels)))"
   ]
  },
  {
   "cell_type": "code",
   "execution_count": 72,
   "id": "ed68f044",
   "metadata": {},
   "outputs": [
    {
     "name": "stderr",
     "output_type": "stream",
     "text": [
      "100%|██████████| 171156/171156 [01:31<00:00, 1880.08it/s]\n"
     ]
    },
    {
     "name": "stdout",
     "output_type": "stream",
     "text": [
      "Number of parcels: 170296\n"
     ]
    }
   ],
   "source": [
    "# Assign to CBGs\n",
    "cbg_income_2016_SJ.reset_index(inplace=True, drop=True)\n",
    "sj_parcels = sj_parcels.sjoin(cbg_income_2016_SJ[['GEOID', 'geometry']], how='left', predicate='intersects')\n",
    "\n",
    "sj_parcels['CBG_iou'] = sj_parcels.progress_apply(\n",
    "    lambda row: 0 if pd.isnull(row['index_right']) else row['geometry'].buffer(0).intersection(\n",
    "        cbg_income_2016_SJ.iloc[int(row['index_right'])]['geometry'].buffer(0)).area/row['geometry'].buffer(0).area, \n",
    "    axis=1)\n",
    "\n",
    "# Handle multiple matches\n",
    "sj_parcels.sort_values('CBG_iou', ascending=False, inplace=True)\n",
    "sj_parcels.drop_duplicates(subset=['APN'], keep='first', inplace=True)\n",
    "\n",
    "sj_parcels.drop('index_right', axis=1, inplace=True)\n",
    "\n",
    "print('Number of parcels: {}'.format(len(sj_parcels)))"
   ]
  },
  {
   "cell_type": "code",
   "execution_count": 73,
   "id": "84a843c8",
   "metadata": {},
   "outputs": [],
   "source": [
    "# Save\n",
    "sj_parcels[['APN', 'GEOID', 'geometry']].to_file(os.path.join(OUTPUT_FP, 'sj-parcels-res-cbgs'))"
   ]
  },
  {
   "cell_type": "code",
   "execution_count": 74,
   "id": "c9678d57",
   "metadata": {},
   "outputs": [
    {
     "data": {
      "text/html": [
       "<div>\n",
       "<style scoped>\n",
       "    .dataframe tbody tr th:only-of-type {\n",
       "        vertical-align: middle;\n",
       "    }\n",
       "\n",
       "    .dataframe tbody tr th {\n",
       "        vertical-align: top;\n",
       "    }\n",
       "\n",
       "    .dataframe thead th {\n",
       "        text-align: right;\n",
       "    }\n",
       "</style>\n",
       "<table border=\"1\" class=\"dataframe\">\n",
       "  <thead>\n",
       "    <tr style=\"text-align: right;\">\n",
       "      <th></th>\n",
       "      <th>APN</th>\n",
       "      <th>geometry</th>\n",
       "      <th>GEOID</th>\n",
       "      <th>CBG_iou</th>\n",
       "    </tr>\n",
       "  </thead>\n",
       "  <tbody>\n",
       "    <tr>\n",
       "      <th>168334</th>\n",
       "      <td>70616068</td>\n",
       "      <td>POLYGON ((-121.76364 37.23242, -121.76345 37.2...</td>\n",
       "      <td>060855120352</td>\n",
       "      <td>1.0</td>\n",
       "    </tr>\n",
       "    <tr>\n",
       "      <th>127008</th>\n",
       "      <td>74209047</td>\n",
       "      <td>POLYGON ((-121.80358 37.18987, -121.80359 37.1...</td>\n",
       "      <td>060855119112</td>\n",
       "      <td>1.0</td>\n",
       "    </tr>\n",
       "    <tr>\n",
       "      <th>167977</th>\n",
       "      <td>58332069</td>\n",
       "      <td>POLYGON ((-121.85785 37.21815, -121.85792 37.2...</td>\n",
       "      <td>060855119051</td>\n",
       "      <td>1.0</td>\n",
       "    </tr>\n",
       "    <tr>\n",
       "      <th>146573</th>\n",
       "      <td>65432068</td>\n",
       "      <td>POLYGON ((-121.79014 37.35326, -121.79017 37.3...</td>\n",
       "      <td>060855033122</td>\n",
       "      <td>1.0</td>\n",
       "    </tr>\n",
       "    <tr>\n",
       "      <th>121438</th>\n",
       "      <td>49462002</td>\n",
       "      <td>POLYGON ((-121.81862 37.28808, -121.81862 37.2...</td>\n",
       "      <td>060855032102</td>\n",
       "      <td>1.0</td>\n",
       "    </tr>\n",
       "  </tbody>\n",
       "</table>\n",
       "</div>"
      ],
      "text/plain": [
       "             APN                                           geometry  \\\n",
       "168334  70616068  POLYGON ((-121.76364 37.23242, -121.76345 37.2...   \n",
       "127008  74209047  POLYGON ((-121.80358 37.18987, -121.80359 37.1...   \n",
       "167977  58332069  POLYGON ((-121.85785 37.21815, -121.85792 37.2...   \n",
       "146573  65432068  POLYGON ((-121.79014 37.35326, -121.79017 37.3...   \n",
       "121438  49462002  POLYGON ((-121.81862 37.28808, -121.81862 37.2...   \n",
       "\n",
       "               GEOID  CBG_iou  \n",
       "168334  060855120352      1.0  \n",
       "127008  060855119112      1.0  \n",
       "167977  060855119051      1.0  \n",
       "146573  060855033122      1.0  \n",
       "121438  060855032102      1.0  "
      ]
     },
     "execution_count": 74,
     "metadata": {},
     "output_type": "execute_result"
    }
   ],
   "source": [
    "sj_parcels.head()"
   ]
  },
  {
   "cell_type": "markdown",
   "id": "bc4f0b27",
   "metadata": {},
   "source": [
    "## 3. Compute N_h"
   ]
  },
  {
   "cell_type": "markdown",
   "id": "b4c4e4d0",
   "metadata": {},
   "source": [
    "Requires the parcel-level confidences. "
   ]
  },
  {
   "cell_type": "code",
   "execution_count": null,
   "id": "d24dadd8",
   "metadata": {},
   "outputs": [],
   "source": [
    "# Parcels\n",
    "sj_parcels = gpd.read_file(os.path.join(OUTPUT_FP, 'sj-parcels-res-cbgs'))\n",
    "\n",
    "# Load confidences for each parcel\n",
    "parcel_confidences = pd.read_csv()\n",
    "\n",
    "# Save: shp including parcel, GEOID, bin"
   ]
  },
  {
   "cell_type": "markdown",
   "id": "e5a81368",
   "metadata": {},
   "source": [
    "## 4. Sample parcels"
   ]
  },
  {
   "cell_type": "code",
   "execution_count": null,
   "id": "cdd0e8ab",
   "metadata": {},
   "outputs": [],
   "source": []
  }
 ],
 "metadata": {
  "kernelspec": {
   "display_name": "Python 3",
   "language": "python",
   "name": "python3"
  },
  "language_info": {
   "codemirror_mode": {
    "name": "ipython",
    "version": 3
   },
   "file_extension": ".py",
   "mimetype": "text/x-python",
   "name": "python",
   "nbconvert_exporter": "python",
   "pygments_lexer": "ipython3",
   "version": "3.8.10"
  }
 },
 "nbformat": 4,
 "nbformat_minor": 5
}
