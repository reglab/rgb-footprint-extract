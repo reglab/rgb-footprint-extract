{
 "cells": [
  {
   "cell_type": "code",
   "execution_count": null,
   "id": "226627f5",
   "metadata": {},
   "outputs": [],
   "source": []
  },
  {
   "cell_type": "code",
   "execution_count": 1,
   "id": "e1b4efb9",
   "metadata": {},
   "outputs": [],
   "source": [
    "import geopandas as gpd\n",
    "import numpy as np\n",
    "import pandas as pd\n",
    "import os\n",
    "from tqdm import tqdm\n",
    "from sklearn.linear_model import LinearRegression\n",
    "import seaborn as sns\n",
    "import matplotlib.pyplot as plt\n",
    "\n",
    "from shapely.geometry import box, Polygon, Point\n",
    "from shapely.ops import orient\n",
    "import shapely.wkt\n",
    "import pyproj\n",
    "from pyproj import Geod\n",
    "\n",
    "tqdm.pandas()"
   ]
  },
  {
   "cell_type": "code",
   "execution_count": 2,
   "id": "7b5ac2d8",
   "metadata": {},
   "outputs": [],
   "source": [
    "# Paths\n",
    "OAK_FP = '/oak/stanford/groups/deho/building_compliance/'\n",
    "CF_FP = os.path.join(OAK_FP, 'CloudFactory')\n",
    "INPUT_FP = os.path.join(OAK_FP, 'outputs', 'Population-Estimates', 'inputs')\n",
    "OUTPUT_FP = os.path.join(OAK_FP, 'outputs', 'Population-Estimates', 'outputs')"
   ]
  },
  {
   "cell_type": "code",
   "execution_count": 5,
   "id": "b7f7bc46",
   "metadata": {},
   "outputs": [
    {
     "name": "stdout",
     "output_type": "stream",
     "text": [
      "<class 'geopandas.geodataframe.GeoDataFrame'>\n",
      "RangeIndex: 159930 entries, 0 to 159929\n",
      "Data columns (total 3 columns):\n",
      " #   Column    Non-Null Count   Dtype   \n",
      "---  ------    --------------   -----   \n",
      " 0   APN       159930 non-null  object  \n",
      " 1   GEOID     159930 non-null  object  \n",
      " 2   geometry  159930 non-null  geometry\n",
      "dtypes: geometry(1), object(2)\n",
      "memory usage: 3.7+ MB\n"
     ]
    }
   ],
   "source": [
    "sj_parcels_cbgs.info()"
   ]
  },
  {
   "cell_type": "code",
   "execution_count": 4,
   "id": "966cb3f7",
   "metadata": {},
   "outputs": [
    {
     "data": {
      "text/html": [
       "<div>\n",
       "<style scoped>\n",
       "    .dataframe tbody tr th:only-of-type {\n",
       "        vertical-align: middle;\n",
       "    }\n",
       "\n",
       "    .dataframe tbody tr th {\n",
       "        vertical-align: top;\n",
       "    }\n",
       "\n",
       "    .dataframe thead th {\n",
       "        text-align: right;\n",
       "    }\n",
       "</style>\n",
       "<table border=\"1\" class=\"dataframe\">\n",
       "  <thead>\n",
       "    <tr style=\"text-align: right;\">\n",
       "      <th></th>\n",
       "      <th>APN</th>\n",
       "      <th>GEOID</th>\n",
       "      <th>geometry</th>\n",
       "    </tr>\n",
       "  </thead>\n",
       "  <tbody>\n",
       "    <tr>\n",
       "      <th>80231</th>\n",
       "      <td>46731021</td>\n",
       "      <td>060855014022</td>\n",
       "      <td>POLYGON ((-121.86972 37.34456, -121.86961 37.3...</td>\n",
       "    </tr>\n",
       "  </tbody>\n",
       "</table>\n",
       "</div>"
      ],
      "text/plain": [
       "            APN         GEOID  \\\n",
       "80231  46731021  060855014022   \n",
       "\n",
       "                                                geometry  \n",
       "80231  POLYGON ((-121.86972 37.34456, -121.86961 37.3...  "
      ]
     },
     "execution_count": 4,
     "metadata": {},
     "output_type": "execute_result"
    }
   ],
   "source": [
    "sj_parcels_cbgs.loc[sj_parcels_cbgs['APN'] == '46731021']"
   ]
  },
  {
   "cell_type": "code",
   "execution_count": 3,
   "id": "1f7c82e9",
   "metadata": {},
   "outputs": [],
   "source": [
    "# Input data\n",
    "# * Universe of SJ res parcels assigned to each CBG\n",
    "sj_parcels_cbgs = gpd.read_file(os.path.join(OUTPUT_FP, 'sj-parcels-res-cbgs'))\n",
    "\n",
    "# * Income-stratified CBGs (from Pop-Estimates-Strata.ipynb)\n",
    "cbg_income_2016_SJ = gpd.read_file(os.path.join(OUTPUT_FP, 'Strata', 'cbg-income-strata'))"
   ]
  },
  {
   "cell_type": "code",
   "execution_count": 4,
   "id": "dc5d230a",
   "metadata": {},
   "outputs": [],
   "source": [
    "# Parcel bins\n",
    "parcel_conf_df = pd.read_csv(\n",
    "    os.path.join(OUTPUT_FP, 'Confidences_construction', 'parcel-confidence.csv'))\n",
    "parcel_conf_df['Bin'] = parcel_conf_df.apply(\n",
    "    lambda row: '{}-{}'.format(row['strata_inc'], row['confidence']), axis=1)"
   ]
  },
  {
   "cell_type": "code",
   "execution_count": 5,
   "id": "7cfc340b",
   "metadata": {},
   "outputs": [],
   "source": [
    "# Neyman inputs\n",
    "Neyman_alloc = pd.read_csv(\n",
    "    os.path.join(\n",
    "        OUTPUT_FP, 'Outcomes', 'B1-100', 'PA', 'PA-neyman_alloc-CF-min11-GT1.csv'))"
   ]
  },
  {
   "cell_type": "code",
   "execution_count": 6,
   "id": "7b2068a4",
   "metadata": {},
   "outputs": [],
   "source": [
    "# Batch 3 - Part 1\n",
    "sample = pd.read_csv(os.path.join(\n",
    "    OAK_FP, 'outputs', 'Population-Estimates','CloudFactory/Iteration3/sampled_APNs.csv'), \n",
    "                     dtype={'APN': str, 'GEOID': str})\n",
    "sample['GEOID'] = sample['GEOID'].apply(lambda g: '0' + g)\n",
    "sample = sample.loc[:5000]\n",
    "\n",
    "df_processed = pd.read_csv(\n",
    "    os.path.join(CF_FP, 'results', 'Batch3_part1', 'processed_buildings.csv'), \n",
    "    dtype={'apn': str})\n",
    "\n",
    "# Filter by size\n",
    "wgs84 = pyproj.CRS('EPSG:4326')\n",
    "utm = pyproj.CRS('EPSG:26910')\n",
    "project = pyproj.Transformer.from_crs(wgs84, utm, always_xy=True).transform\n",
    "df_processed['2016_a'] = df_processed['2016'].apply(lambda x: shapely.ops.transform(project, shapely.wkt.loads(x)).area if not pd.isna(x) else x)\n",
    "df_processed['2020_a'] = df_processed['2020'].apply(lambda x: shapely.ops.transform(project, shapely.wkt.loads(x)).area if not pd.isna(x) else x)\n",
    "\n",
    "df_processed = df_processed[(df_processed['2016_a'] >= 11.15) | (df_processed['2020_a'] >= 11.15)]"
   ]
  },
  {
   "cell_type": "code",
   "execution_count": 7,
   "id": "053a76b2",
   "metadata": {},
   "outputs": [],
   "source": [
    "# Aggregate and define construction events\n",
    "df_processed['construction_event'] = 1 - df_processed['exact_match']\n",
    "df_processed = df_processed.groupby('apn')['construction_event'].sum().reset_index()"
   ]
  },
  {
   "cell_type": "code",
   "execution_count": 8,
   "id": "3f4b9ff3",
   "metadata": {},
   "outputs": [],
   "source": [
    "# Get construction events and median income for each parcel\n",
    "CF_parcels = sample.copy()\n",
    "CF_parcels = CF_parcels.merge(df_processed, how='left', left_on='APN', right_on='apn', validate='one_to_one')\n",
    "\n",
    "# Fill with zeros (no construction events in parcels that don't appear in df_processed)\n",
    "CF_parcels['construction_event'] = CF_parcels['construction_event'].fillna(0).astype(int)\n",
    "\n",
    "CF_parcels = CF_parcels.merge(\n",
    "    cbg_income_2016_SJ[['GEOID', 'median_inc']], how='left', on='GEOID', validate='many_to_one')"
   ]
  },
  {
   "cell_type": "code",
   "execution_count": 9,
   "id": "7d9b4c1d",
   "metadata": {},
   "outputs": [],
   "source": [
    "# Compute proportional weights\n",
    "Prop_alloc = sj_parcels_cbgs.copy()\n",
    "Prop_alloc = Prop_alloc.merge(\n",
    "    parcel_conf_df[['APN', 'Bin']], how='left', validate='one_to_one')\n",
    "Prop_alloc = Prop_alloc.groupby('Bin')['APN'].count().reset_index()\n",
    "Prop_alloc.rename(columns={'APN': 'N_j'}, inplace=True)\n",
    "Prop_alloc['weight'] = Prop_alloc['N_j'] / Prop_alloc['N_j'].sum()"
   ]
  },
  {
   "cell_type": "code",
   "execution_count": 10,
   "id": "0176f04e",
   "metadata": {},
   "outputs": [],
   "source": [
    "# Compute sampling ratio (weights for WLS)\n",
    "ratio = Neyman_alloc.copy()\n",
    "ratio.rename(columns={'weight': 'Neyman_weight'}, inplace=True)\n",
    "ratio = ratio.merge(Prop_alloc[['Bin', 'weight']], validate='one_to_one')\n",
    "ratio.rename(columns={'weight': 'Prop_weight'}, inplace=True)\n",
    "ratio['sampling_ratio'] = ratio['Neyman_weight'] / ratio['Prop_weight']\n",
    "ratio['w'] = 1 / ratio['sampling_ratio']\n",
    "\n",
    "CF_parcels = CF_parcels.merge(ratio[['Bin', 'w']], validate='many_to_one')"
   ]
  },
  {
   "cell_type": "markdown",
   "id": "4982a526",
   "metadata": {},
   "source": [
    "# Sample a Stratified Allocation of fixed size"
   ]
  },
  {
   "cell_type": "code",
   "execution_count": 11,
   "id": "259c4967",
   "metadata": {},
   "outputs": [],
   "source": [
    "def generate_sample(N, df, alloc_df, replace=True):\n",
    "    alloc_df['n_j'] = round(alloc_df['weight'] * N, 0).astype(int)\n",
    "    size_dict = pd.Series(alloc_df['n_j'].values, index=alloc_df['Bin']).to_dict()\n",
    "    sample_df = df.groupby('Bin', group_keys=False).apply(\n",
    "        lambda df: df.sample(n=size_dict[df.name], replace=replace).reset_index(drop=True))\n",
    "    if sample_df.index.nlevels > 1:\n",
    "        sample_df = sample_df.droplevel(0, axis=0)\n",
    "    return sample_df"
   ]
  },
  {
   "cell_type": "code",
   "execution_count": 38,
   "id": "60f5ead5",
   "metadata": {},
   "outputs": [],
   "source": [
    "n = 800\n",
    "prop_sample = generate_sample(N=n, df=CF_parcels, alloc_df=Prop_alloc, replace=False)\n"
   ]
  },
  {
   "cell_type": "markdown",
   "id": "c5140791",
   "metadata": {},
   "source": [
    "# Compute estimate on a sample"
   ]
  },
  {
   "cell_type": "code",
   "execution_count": 12,
   "id": "530981bb",
   "metadata": {},
   "outputs": [],
   "source": [
    "def compute_estimate(df, sample_type):\n",
    "    if sample_type == 'Neyman':\n",
    "        reg = LinearRegression().fit(\n",
    "            df['median_inc'].to_numpy().reshape(-1, 1), df['construction_event'], df['w'])\n",
    "    else:\n",
    "        reg = LinearRegression().fit(\n",
    "            df['median_inc'].to_numpy().reshape(-1, 1), df['construction_event'])\n",
    "    \n",
    "    # Estimate\n",
    "    return reg.coef_.item()"
   ]
  },
  {
   "cell_type": "code",
   "execution_count": 13,
   "id": "964967c5",
   "metadata": {},
   "outputs": [],
   "source": [
    "#sample_df = generate_sample(N=5000, df=CF_parcels, alloc_df=Prop_alloc)"
   ]
  },
  {
   "cell_type": "markdown",
   "id": "4ea1b557",
   "metadata": {},
   "source": [
    "# Multiple n"
   ]
  },
  {
   "cell_type": "markdown",
   "id": "1b859a50",
   "metadata": {},
   "source": [
    "## M <= N"
   ]
  },
  {
   "cell_type": "code",
   "execution_count": 14,
   "id": "509cc49c",
   "metadata": {},
   "outputs": [
    {
     "name": "stderr",
     "output_type": "stream",
     "text": [
      "100%|██████████| 8/8 [1:59:42<00:00, 897.78s/it]\n"
     ]
    }
   ],
   "source": [
    "# Generate data\n",
    "K = 5000\n",
    "estimate_df = pd.DataFrame()\n",
    "for n in tqdm(range(1000, 5000, 500)):\n",
    "    for k in range(K):\n",
    "        # Generate prop sample\n",
    "        prop_sample = generate_sample(N=n, df=CF_parcels, alloc_df=Prop_alloc, replace=True)\n",
    "\n",
    "        # Generate Neyman sample\n",
    "        ney_sample = generate_sample(N=n, df=CF_parcels, alloc_df=Neyman_alloc, replace=True)\n",
    "\n",
    "        # Estimates\n",
    "        estimate_dict = {\n",
    "            'n': [n], 'k': [k],\n",
    "            'Beta (Proportional Alloc)': [compute_estimate(df=prop_sample, sample_type='prop')], \n",
    "            'Beta (Neyman Alloc)': [compute_estimate(df=ney_sample, sample_type='Neyman')]}\n",
    "        estimate_df = pd.concat([estimate_df, pd.DataFrame.from_dict(estimate_dict)])"
   ]
  },
  {
   "cell_type": "code",
   "execution_count": 15,
   "id": "dc35ed73",
   "metadata": {},
   "outputs": [
    {
     "data": {
      "image/png": "[encoded data removed]",
      "text/plain": [
       "<Figure size 640x480 with 1 Axes>"
      ]
     },
     "metadata": {},
     "output_type": "display_data"
    }
   ],
   "source": [
    "# Plot\n",
    "estimate_df_long = estimate_df.melt(id_vars=['n', 'k'], var_name='sampling', value_name='estimate')\n",
    "sns.lineplot(estimate_df_long, x='n', y='estimate', hue='sampling')\n",
    "plt.show()"
   ]
  },
  {
   "cell_type": "code",
   "execution_count": 17,
   "id": "834f4540",
   "metadata": {},
   "outputs": [],
   "source": [
    "estimate_df_long.to_csv('SRSvNeyman/resampledSRS.csv', index=False)"
   ]
  },
  {
   "cell_type": "code",
   "execution_count": 26,
   "id": "d2bf04ec",
   "metadata": {},
   "outputs": [],
   "source": [
    "estimate_df_long = pd.read_csv('SRSvNeyman/resampledSRS.csv')"
   ]
  },
  {
   "cell_type": "code",
   "execution_count": 27,
   "id": "8a41bec6",
   "metadata": {},
   "outputs": [
    {
     "data": {
      "text/html": [
       "<div>\n",
       "<style scoped>\n",
       "    .dataframe tbody tr th:only-of-type {\n",
       "        vertical-align: middle;\n",
       "    }\n",
       "\n",
       "    .dataframe tbody tr th {\n",
       "        vertical-align: top;\n",
       "    }\n",
       "\n",
       "    .dataframe thead th {\n",
       "        text-align: right;\n",
       "    }\n",
       "</style>\n",
       "<table border=\"1\" class=\"dataframe\">\n",
       "  <thead>\n",
       "    <tr style=\"text-align: right;\">\n",
       "      <th></th>\n",
       "      <th>n</th>\n",
       "      <th>k</th>\n",
       "      <th>sampling</th>\n",
       "      <th>estimate</th>\n",
       "    </tr>\n",
       "  </thead>\n",
       "  <tbody>\n",
       "    <tr>\n",
       "      <th>0</th>\n",
       "      <td>1000</td>\n",
       "      <td>0</td>\n",
       "      <td>Beta (Proportional Alloc)</td>\n",
       "      <td>-5.989911e-07</td>\n",
       "    </tr>\n",
       "    <tr>\n",
       "      <th>1</th>\n",
       "      <td>1000</td>\n",
       "      <td>1</td>\n",
       "      <td>Beta (Proportional Alloc)</td>\n",
       "      <td>-6.615740e-07</td>\n",
       "    </tr>\n",
       "    <tr>\n",
       "      <th>2</th>\n",
       "      <td>1000</td>\n",
       "      <td>2</td>\n",
       "      <td>Beta (Proportional Alloc)</td>\n",
       "      <td>-2.306407e-07</td>\n",
       "    </tr>\n",
       "    <tr>\n",
       "      <th>3</th>\n",
       "      <td>1000</td>\n",
       "      <td>3</td>\n",
       "      <td>Beta (Proportional Alloc)</td>\n",
       "      <td>-2.551301e-07</td>\n",
       "    </tr>\n",
       "    <tr>\n",
       "      <th>4</th>\n",
       "      <td>1000</td>\n",
       "      <td>4</td>\n",
       "      <td>Beta (Proportional Alloc)</td>\n",
       "      <td>-5.569014e-07</td>\n",
       "    </tr>\n",
       "  </tbody>\n",
       "</table>\n",
       "</div>"
      ],
      "text/plain": [
       "      n  k                   sampling      estimate\n",
       "0  1000  0  Beta (Proportional Alloc) -5.989911e-07\n",
       "1  1000  1  Beta (Proportional Alloc) -6.615740e-07\n",
       "2  1000  2  Beta (Proportional Alloc) -2.306407e-07\n",
       "3  1000  3  Beta (Proportional Alloc) -2.551301e-07\n",
       "4  1000  4  Beta (Proportional Alloc) -5.569014e-07"
      ]
     },
     "execution_count": 27,
     "metadata": {},
     "output_type": "execute_result"
    }
   ],
   "source": [
    "estimate_df_long.head()"
   ]
  },
  {
   "cell_type": "code",
   "execution_count": null,
   "id": "99001351",
   "metadata": {},
   "outputs": [],
   "source": []
  },
  {
   "cell_type": "code",
   "execution_count": null,
   "id": "c00e3ae3",
   "metadata": {},
   "outputs": [],
   "source": []
  },
  {
   "cell_type": "markdown",
   "id": "8d11368f",
   "metadata": {},
   "source": [
    "## Limiting the SRS"
   ]
  },
  {
   "cell_type": "code",
   "execution_count": 74,
   "id": "23ea8777",
   "metadata": {},
   "outputs": [],
   "source": [
    "# Without replacement to fill in Neyman samples\n",
    "max_n = 1667\n",
    "N = len(CF_parcels)"
   ]
  },
  {
   "cell_type": "code",
   "execution_count": 65,
   "id": "3f2c753f",
   "metadata": {
    "scrolled": true
   },
   "outputs": [
    {
     "name": "stderr",
     "output_type": "stream",
     "text": [
      "100%|██████████| 5/5 [12:46<00:00, 153.40s/it]\n"
     ]
    }
   ],
   "source": [
    "# Note: per https://projecteuclid.org/journals/annals-of-statistics/volume-22/issue-4/Large-Sample-Confidence-Regions-Based-on-Subsamples-under-Minimal-Assumptions/10.1214/aos/1176325770.full\n",
    "# we can generate samples of size M < N (in our clase, M=N_max)\n",
    "# and compute confidence intervals on our estimate by appropriately scaling the CIs\n",
    "\n",
    "\n",
    "# Generate data\n",
    "#K = 100 # Bootstrap samples\n",
    "R = 1000 # Slices of data\n",
    "estimate_df_fixed = pd.DataFrame()\n",
    "for n in tqdm(range(800, 1667, 200)): # 500\n",
    "    for r in range(R): # 100\n",
    "        # Fixed data to bootstrap -- there is no sampling with replacement here\n",
    "        # * Generate prop sample\n",
    "        prop_sample = generate_sample(N=n, df=CF_parcels, alloc_df=Prop_alloc, replace=False)\n",
    "\n",
    "        # * Generate Neyman sample\n",
    "        ney_sample = generate_sample(N=n, df=CF_parcels, alloc_df=Neyman_alloc, replace=False)\n",
    "\n",
    "        #for k in range(K):\n",
    "        #    # Bootstrap the fixed samples\n",
    "        #    # * Generate prop sample\n",
    "        #    prop_sample = generate_sample(N=n, df=prop_sample, alloc_df=Prop_alloc, replace=True)\n",
    "\n",
    "        #    # * Generate Neyman sample\n",
    "        #    ney_sample = generate_sample(N=n, df=ney_sample, alloc_df=Neyman_alloc, replace=True)\n",
    "\n",
    "        # Estimates\n",
    "        estimate_dict = {\n",
    "            'n': [n], #'k': [k],\n",
    "            'r': [r],\n",
    "            'Beta (Proportional Alloc)': [compute_estimate(df=prop_sample, sample_type='prop')], \n",
    "            'Beta (Neyman Alloc)': [compute_estimate(df=ney_sample, sample_type='Neyman')]}\n",
    "        estimate_df_fixed = pd.concat([estimate_df_fixed, pd.DataFrame.from_dict(estimate_dict)])"
   ]
  },
  {
   "cell_type": "code",
   "execution_count": 25,
   "id": "47f53bdb",
   "metadata": {},
   "outputs": [
    {
     "data": {
      "text/html": [
       "<div>\n",
       "<style scoped>\n",
       "    .dataframe tbody tr th:only-of-type {\n",
       "        vertical-align: middle;\n",
       "    }\n",
       "\n",
       "    .dataframe tbody tr th {\n",
       "        vertical-align: top;\n",
       "    }\n",
       "\n",
       "    .dataframe thead th {\n",
       "        text-align: right;\n",
       "    }\n",
       "</style>\n",
       "<table border=\"1\" class=\"dataframe\">\n",
       "  <thead>\n",
       "    <tr style=\"text-align: right;\">\n",
       "      <th></th>\n",
       "      <th>n</th>\n",
       "      <th>Allocation</th>\n",
       "      <th>std</th>\n",
       "      <th>mean</th>\n",
       "      <th>median</th>\n",
       "      <th>ub</th>\n",
       "      <th>lb</th>\n",
       "    </tr>\n",
       "  </thead>\n",
       "  <tbody>\n",
       "    <tr>\n",
       "      <th>0</th>\n",
       "      <td>800</td>\n",
       "      <td>Beta (Neyman Alloc)</td>\n",
       "      <td>9.507624e-08</td>\n",
       "      <td>-4.966455e-07</td>\n",
       "      <td>-4.935697e-07</td>\n",
       "      <td>-3.102960e-07</td>\n",
       "      <td>-6.829949e-07</td>\n",
       "    </tr>\n",
       "    <tr>\n",
       "      <th>1</th>\n",
       "      <td>800</td>\n",
       "      <td>Beta (Proportional Alloc)</td>\n",
       "      <td>8.820945e-08</td>\n",
       "      <td>-4.725729e-07</td>\n",
       "      <td>-4.693816e-07</td>\n",
       "      <td>-2.996824e-07</td>\n",
       "      <td>-6.454634e-07</td>\n",
       "    </tr>\n",
       "    <tr>\n",
       "      <th>2</th>\n",
       "      <td>1000</td>\n",
       "      <td>Beta (Neyman Alloc)</td>\n",
       "      <td>9.261937e-08</td>\n",
       "      <td>-4.640366e-07</td>\n",
       "      <td>-4.736500e-07</td>\n",
       "      <td>-2.825027e-07</td>\n",
       "      <td>-6.455706e-07</td>\n",
       "    </tr>\n",
       "    <tr>\n",
       "      <th>3</th>\n",
       "      <td>1000</td>\n",
       "      <td>Beta (Proportional Alloc)</td>\n",
       "      <td>8.928278e-08</td>\n",
       "      <td>-4.321099e-07</td>\n",
       "      <td>-4.360846e-07</td>\n",
       "      <td>-2.571157e-07</td>\n",
       "      <td>-6.071042e-07</td>\n",
       "    </tr>\n",
       "    <tr>\n",
       "      <th>4</th>\n",
       "      <td>1200</td>\n",
       "      <td>Beta (Neyman Alloc)</td>\n",
       "      <td>8.895552e-08</td>\n",
       "      <td>-5.065061e-07</td>\n",
       "      <td>-5.036665e-07</td>\n",
       "      <td>-3.321533e-07</td>\n",
       "      <td>-6.808589e-07</td>\n",
       "    </tr>\n",
       "    <tr>\n",
       "      <th>5</th>\n",
       "      <td>1200</td>\n",
       "      <td>Beta (Proportional Alloc)</td>\n",
       "      <td>8.588469e-08</td>\n",
       "      <td>-4.463108e-07</td>\n",
       "      <td>-4.483091e-07</td>\n",
       "      <td>-2.779768e-07</td>\n",
       "      <td>-6.146448e-07</td>\n",
       "    </tr>\n",
       "    <tr>\n",
       "      <th>6</th>\n",
       "      <td>1400</td>\n",
       "      <td>Beta (Neyman Alloc)</td>\n",
       "      <td>9.019959e-08</td>\n",
       "      <td>-4.138058e-07</td>\n",
       "      <td>-4.166926e-07</td>\n",
       "      <td>-2.370146e-07</td>\n",
       "      <td>-5.905970e-07</td>\n",
       "    </tr>\n",
       "    <tr>\n",
       "      <th>7</th>\n",
       "      <td>1400</td>\n",
       "      <td>Beta (Proportional Alloc)</td>\n",
       "      <td>8.151482e-08</td>\n",
       "      <td>-4.408241e-07</td>\n",
       "      <td>-4.434189e-07</td>\n",
       "      <td>-2.810550e-07</td>\n",
       "      <td>-6.005931e-07</td>\n",
       "    </tr>\n",
       "    <tr>\n",
       "      <th>8</th>\n",
       "      <td>1600</td>\n",
       "      <td>Beta (Neyman Alloc)</td>\n",
       "      <td>8.929099e-08</td>\n",
       "      <td>-4.400151e-07</td>\n",
       "      <td>-4.381710e-07</td>\n",
       "      <td>-2.650048e-07</td>\n",
       "      <td>-6.150254e-07</td>\n",
       "    </tr>\n",
       "    <tr>\n",
       "      <th>9</th>\n",
       "      <td>1600</td>\n",
       "      <td>Beta (Proportional Alloc)</td>\n",
       "      <td>7.898224e-08</td>\n",
       "      <td>-4.544636e-07</td>\n",
       "      <td>-4.544587e-07</td>\n",
       "      <td>-2.996584e-07</td>\n",
       "      <td>-6.092688e-07</td>\n",
       "    </tr>\n",
       "  </tbody>\n",
       "</table>\n",
       "</div>"
      ],
      "text/plain": [
       "      n                 Allocation           std          mean        median  \\\n",
       "0   800        Beta (Neyman Alloc)  9.507624e-08 -4.966455e-07 -4.935697e-07   \n",
       "1   800  Beta (Proportional Alloc)  8.820945e-08 -4.725729e-07 -4.693816e-07   \n",
       "2  1000        Beta (Neyman Alloc)  9.261937e-08 -4.640366e-07 -4.736500e-07   \n",
       "3  1000  Beta (Proportional Alloc)  8.928278e-08 -4.321099e-07 -4.360846e-07   \n",
       "4  1200        Beta (Neyman Alloc)  8.895552e-08 -5.065061e-07 -5.036665e-07   \n",
       "5  1200  Beta (Proportional Alloc)  8.588469e-08 -4.463108e-07 -4.483091e-07   \n",
       "6  1400        Beta (Neyman Alloc)  9.019959e-08 -4.138058e-07 -4.166926e-07   \n",
       "7  1400  Beta (Proportional Alloc)  8.151482e-08 -4.408241e-07 -4.434189e-07   \n",
       "8  1600        Beta (Neyman Alloc)  8.929099e-08 -4.400151e-07 -4.381710e-07   \n",
       "9  1600  Beta (Proportional Alloc)  7.898224e-08 -4.544636e-07 -4.544587e-07   \n",
       "\n",
       "             ub            lb  \n",
       "0 -3.102960e-07 -6.829949e-07  \n",
       "1 -2.996824e-07 -6.454634e-07  \n",
       "2 -2.825027e-07 -6.455706e-07  \n",
       "3 -2.571157e-07 -6.071042e-07  \n",
       "4 -3.321533e-07 -6.808589e-07  \n",
       "5 -2.779768e-07 -6.146448e-07  \n",
       "6 -2.370146e-07 -5.905970e-07  \n",
       "7 -2.810550e-07 -6.005931e-07  \n",
       "8 -2.650048e-07 -6.150254e-07  \n",
       "9 -2.996584e-07 -6.092688e-07  "
      ]
     },
     "execution_count": 25,
     "metadata": {},
     "output_type": "execute_result"
    }
   ],
   "source": [
    "adj_estimate"
   ]
  },
  {
   "cell_type": "code",
   "execution_count": 81,
   "id": "8e87006f",
   "metadata": {},
   "outputs": [],
   "source": [
    "adj_estimate = estimate_df_fixed.melt(\n",
    "    id_vars=['n', 'r'], var_name='Allocation', value_name='Beta')"
   ]
  },
  {
   "cell_type": "code",
   "execution_count": 83,
   "id": "826d120f",
   "metadata": {},
   "outputs": [],
   "source": [
    "adj_estimate = adj_estimate.groupby(['n', 'Allocation'])['Beta'].agg(['std', 'mean', 'median']).reset_index()"
   ]
  },
  {
   "cell_type": "code",
   "execution_count": 85,
   "id": "11c384b2",
   "metadata": {},
   "outputs": [],
   "source": [
    "# Adjust the SE\n",
    "adj_estimate['std'] = adj_estimate['std'] * np.sqrt(adj_estimate['n']/N)"
   ]
  },
  {
   "cell_type": "code",
   "execution_count": 18,
   "id": "80422e6d",
   "metadata": {},
   "outputs": [],
   "source": [
    "# Generate CIs\n",
    "adj_estimate['ub'] = adj_estimate['mean'] + adj_estimate['std'] * 1.96\n",
    "adj_estimate['lb'] = adj_estimate['mean'] - adj_estimate['std'] * 1.96"
   ]
  },
  {
   "cell_type": "code",
   "execution_count": 13,
   "id": "3354e9d3",
   "metadata": {},
   "outputs": [],
   "source": [
    "adj_estimate = pd.read_csv('SRSvNeyman/SRS.csv')"
   ]
  },
  {
   "cell_type": "code",
   "execution_count": 24,
   "id": "71eabb0d",
   "metadata": {},
   "outputs": [
    {
     "data": {
      "image/png": "[encoded data removed]",
      "text/plain": [
       "<Figure size 640x480 with 1 Axes>"
      ]
     },
     "metadata": {},
     "output_type": "display_data"
    }
   ],
   "source": [
    "prop = adj_estimate.loc[adj_estimate['Allocation'] == 'Beta (Proportional Alloc)'].copy()\n",
    "ney = adj_estimate.loc[adj_estimate['Allocation'] == 'Beta (Neyman Alloc)'].copy()\n",
    "\n",
    "ax = sns.lineplot(data=adj_estimate, x='n', y=\"mean\", errorbar=None, hue='Allocation')\n",
    "ax.fill_between(\n",
    "    prop['n'], prop['lb'], prop['ub'], alpha=0.2, color='orange')\n",
    "ax.fill_between(\n",
    "    ney['n'], ney['lb'], ney['ub'], alpha=0.2, color='blue')\n",
    "\n",
    "#sns.lineplot(adj_estimate, x='n', y='estimate', hue='sampling')\n",
    "plt.show()"
   ]
  },
  {
   "cell_type": "code",
   "execution_count": null,
   "id": "82bca38a",
   "metadata": {},
   "outputs": [],
   "source": []
  },
  {
   "cell_type": "code",
   "execution_count": null,
   "id": "af35a2b9",
   "metadata": {},
   "outputs": [],
   "source": []
  },
  {
   "cell_type": "code",
   "execution_count": null,
   "id": "349d8ed0",
   "metadata": {},
   "outputs": [],
   "source": []
  },
  {
   "cell_type": "code",
   "execution_count": null,
   "id": "da8c0b2e",
   "metadata": {},
   "outputs": [],
   "source": []
  },
  {
   "cell_type": "code",
   "execution_count": 68,
   "id": "5139b345",
   "metadata": {},
   "outputs": [],
   "source": [
    "# Compute point estimate and CIs\n",
    "adj_estimate = estimate_df_fixed.groupby('n')[\n",
    "    ['Beta (Proportional Alloc)', 'Beta (Neyman Alloc)']].agg(['std', 'mean', 'median']).reset_index()"
   ]
  },
  {
   "cell_type": "code",
   "execution_count": 78,
   "id": "4ca583c6",
   "metadata": {},
   "outputs": [
    {
     "data": {
      "text/html": [
       "<div>\n",
       "<style scoped>\n",
       "    .dataframe tbody tr th:only-of-type {\n",
       "        vertical-align: middle;\n",
       "    }\n",
       "\n",
       "    .dataframe tbody tr th {\n",
       "        vertical-align: top;\n",
       "    }\n",
       "\n",
       "    .dataframe thead th {\n",
       "        text-align: right;\n",
       "    }\n",
       "</style>\n",
       "<table border=\"1\" class=\"dataframe\">\n",
       "  <thead>\n",
       "    <tr style=\"text-align: right;\">\n",
       "      <th></th>\n",
       "      <th>n-</th>\n",
       "      <th>Beta (Proportional Alloc)-std</th>\n",
       "      <th>Beta (Proportional Alloc)-mean</th>\n",
       "      <th>Beta (Proportional Alloc)-median</th>\n",
       "      <th>Beta (Neyman Alloc)-std</th>\n",
       "      <th>Beta (Neyman Alloc)-mean</th>\n",
       "      <th>Beta (Neyman Alloc)-median</th>\n",
       "    </tr>\n",
       "  </thead>\n",
       "  <tbody>\n",
       "    <tr>\n",
       "      <th>0</th>\n",
       "      <td>800</td>\n",
       "      <td>8.820945e-08</td>\n",
       "      <td>-4.725729e-07</td>\n",
       "      <td>-4.693816e-07</td>\n",
       "      <td>9.507624e-08</td>\n",
       "      <td>-4.966455e-07</td>\n",
       "      <td>-4.935697e-07</td>\n",
       "    </tr>\n",
       "    <tr>\n",
       "      <th>1</th>\n",
       "      <td>1000</td>\n",
       "      <td>8.928278e-08</td>\n",
       "      <td>-4.321099e-07</td>\n",
       "      <td>-4.360846e-07</td>\n",
       "      <td>9.261937e-08</td>\n",
       "      <td>-4.640366e-07</td>\n",
       "      <td>-4.736500e-07</td>\n",
       "    </tr>\n",
       "    <tr>\n",
       "      <th>2</th>\n",
       "      <td>1200</td>\n",
       "      <td>8.588469e-08</td>\n",
       "      <td>-4.463108e-07</td>\n",
       "      <td>-4.483091e-07</td>\n",
       "      <td>8.895552e-08</td>\n",
       "      <td>-5.065061e-07</td>\n",
       "      <td>-5.036665e-07</td>\n",
       "    </tr>\n",
       "    <tr>\n",
       "      <th>3</th>\n",
       "      <td>1400</td>\n",
       "      <td>8.151482e-08</td>\n",
       "      <td>-4.408241e-07</td>\n",
       "      <td>-4.434189e-07</td>\n",
       "      <td>9.019959e-08</td>\n",
       "      <td>-4.138058e-07</td>\n",
       "      <td>-4.166926e-07</td>\n",
       "    </tr>\n",
       "    <tr>\n",
       "      <th>4</th>\n",
       "      <td>1600</td>\n",
       "      <td>7.898224e-08</td>\n",
       "      <td>-4.544636e-07</td>\n",
       "      <td>-4.544587e-07</td>\n",
       "      <td>8.929099e-08</td>\n",
       "      <td>-4.400151e-07</td>\n",
       "      <td>-4.381710e-07</td>\n",
       "    </tr>\n",
       "  </tbody>\n",
       "</table>\n",
       "</div>"
      ],
      "text/plain": [
       "     n-  Beta (Proportional Alloc)-std  Beta (Proportional Alloc)-mean  \\\n",
       "0   800                   8.820945e-08                   -4.725729e-07   \n",
       "1  1000                   8.928278e-08                   -4.321099e-07   \n",
       "2  1200                   8.588469e-08                   -4.463108e-07   \n",
       "3  1400                   8.151482e-08                   -4.408241e-07   \n",
       "4  1600                   7.898224e-08                   -4.544636e-07   \n",
       "\n",
       "   Beta (Proportional Alloc)-median  Beta (Neyman Alloc)-std  \\\n",
       "0                     -4.693816e-07             9.507624e-08   \n",
       "1                     -4.360846e-07             9.261937e-08   \n",
       "2                     -4.483091e-07             8.895552e-08   \n",
       "3                     -4.434189e-07             9.019959e-08   \n",
       "4                     -4.544587e-07             8.929099e-08   \n",
       "\n",
       "   Beta (Neyman Alloc)-mean  Beta (Neyman Alloc)-median  \n",
       "0             -4.966455e-07               -4.935697e-07  \n",
       "1             -4.640366e-07               -4.736500e-07  \n",
       "2             -5.065061e-07               -5.036665e-07  \n",
       "3             -4.138058e-07               -4.166926e-07  \n",
       "4             -4.400151e-07               -4.381710e-07  "
      ]
     },
     "execution_count": 78,
     "metadata": {},
     "output_type": "execute_result"
    }
   ],
   "source": [
    "#\n",
    "adj_estimate.head()"
   ]
  },
  {
   "cell_type": "code",
   "execution_count": 72,
   "id": "1ce0dd09",
   "metadata": {},
   "outputs": [],
   "source": [
    "adj_estimate.columns = [\n",
    "    '{}-{}'.format(col[0], col[1]) if len(col) > 1 else col[0] for col in adj_estimate.columns ]"
   ]
  },
  {
   "cell_type": "code",
   "execution_count": 76,
   "id": "a88399fb",
   "metadata": {},
   "outputs": [],
   "source": [
    "# Adjust the SE\n",
    "adj_estimate['Beta (Proportional Alloc)-std'] = adj_estimate[\n",
    "    'Beta (Proportional Alloc)-std'] * np.sqrt(adj_estimate['n-']/N)"
   ]
  },
  {
   "cell_type": "code",
   "execution_count": 77,
   "id": "9696811a",
   "metadata": {},
   "outputs": [],
   "source": [
    "adj_estimate['Beta (Neyman Alloc)-std'] = adj_estimate[\n",
    "    'Beta (Neyman Alloc)-std'] * np.sqrt(adj_estimate['n-']/N)"
   ]
  },
  {
   "cell_type": "code",
   "execution_count": null,
   "id": "335f5d95",
   "metadata": {},
   "outputs": [],
   "source": [
    "# Plot\n",
    "estimate_df_long = adj_estimate.melt(\n",
    "    id_vars=['n'], var_name='sampling', value_name='estimate')\n",
    "sns.lineplot(estimate_df_long, x='n', y='estimate', hue='sampling')\n",
    "plt.show()"
   ]
  },
  {
   "cell_type": "code",
   "execution_count": 86,
   "id": "fd31447e",
   "metadata": {},
   "outputs": [],
   "source": [
    "adj_estimate.to_csv('SRSvNeyman/SRS.csv', index=False)"
   ]
  },
  {
   "cell_type": "code",
   "execution_count": null,
   "id": "3f560ab6",
   "metadata": {},
   "outputs": [],
   "source": []
  }
 ],
 "metadata": {
  "kernelspec": {
   "display_name": "Python 3",
   "language": "python",
   "name": "python3"
  },
  "language_info": {
   "codemirror_mode": {
    "name": "ipython",
    "version": 3
   },
   "file_extension": ".py",
   "mimetype": "text/x-python",
   "name": "python",
   "nbconvert_exporter": "python",
   "pygments_lexer": "ipython3",
   "version": "3.8.10"
  }
 },
 "nbformat": 4,
 "nbformat_minor": 5
}
