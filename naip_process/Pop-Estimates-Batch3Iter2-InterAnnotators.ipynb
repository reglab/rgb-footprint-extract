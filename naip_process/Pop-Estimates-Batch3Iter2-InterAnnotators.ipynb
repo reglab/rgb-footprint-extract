{
 "cells": [
  {
   "cell_type": "markdown",
   "id": "5d5e8b2b",
   "metadata": {},
   "source": [
    "# Batch 3 - Iteration 2: Determine the annotators for the second iteration inter-annotator reliability measure"
   ]
  },
  {
   "cell_type": "code",
   "execution_count": 1,
   "id": "976898be",
   "metadata": {},
   "outputs": [],
   "source": [
    "import json\n",
    "import geopandas as gpd\n",
    "import matplotlib.pyplot as plt\n",
    "import numpy as np\n",
    "import os\n",
    "import pandas as pd\n",
    "import seaborn as sns\n",
    "from sklearn.linear_model import LogisticRegression\n",
    "from tqdm import tqdm\n",
    "\n",
    "tqdm.pandas()"
   ]
  },
  {
   "cell_type": "code",
   "execution_count": 54,
   "id": "05947b2e",
   "metadata": {},
   "outputs": [],
   "source": [
    "# Paths\n",
    "OAK_FP = '/oak/stanford/groups/deho/building_compliance/'\n",
    "CF_FP = os.path.join(OAK_FP, 'CloudFactory')\n",
    "OUTPUT_FP = os.path.join(CF_FP, 'images', 'batch3_revise')"
   ]
  },
  {
   "cell_type": "code",
   "execution_count": 3,
   "id": "669c8aec",
   "metadata": {},
   "outputs": [],
   "source": [
    "# Annotators\n",
    "annotator_dict = {\n",
    "    'Grace': 'grace.odemba@es.cloudfactory.com', \n",
    "    'Jackline': 'jackline.ogutu@es.cloudfactory.com', \n",
    "    'Joy': 'joy.mwende@es.cloudfactory.com', \n",
    "    'Nyambe': 'nyambe.mwangelwa@es.cloudfactory.com'\n",
    "}\n",
    "# Nyambe was the reviewer for Batch 3 - part 3 parcels"
   ]
  },
  {
   "cell_type": "code",
   "execution_count": 4,
   "id": "0cb5e38f",
   "metadata": {},
   "outputs": [],
   "source": [
    "def get_parcel_annotators(json_file):\n",
    "    with open(json_file, 'r') as f:\n",
    "        a_dict = json.load(f)\n",
    "        \n",
    "    initial_annotator = []\n",
    "    any_annotator = []\n",
    "        \n",
    "    initial_annotator_tasks = a_dict['metadata']['system']['taskStatusLog']\n",
    "    for task in initial_annotator_tasks:\n",
    "        initial_annotator.append(task['status']['creator'])\n",
    "    \n",
    "    for annotation in a_dict['annotations']:\n",
    "        any_annotator.append(annotation['creator'])\n",
    "        any_annotator.append(annotation['updatedBy'])\n",
    "        \n",
    "    # Remove stanford annotators\n",
    "    initial_annotator = [a for a in initial_annotator if '@law.stanford' not in a]\n",
    "    any_annotator = [a for a in any_annotator if '@law.stanford' not in a]\n",
    "    \n",
    "    # Consolidate any annotators\n",
    "    any_annotator = set(initial_annotator + any_annotator)\n",
    "        \n",
    "    return set(initial_annotator), set(any_annotator)"
   ]
  },
  {
   "cell_type": "code",
   "execution_count": 5,
   "id": "0747db7e",
   "metadata": {},
   "outputs": [],
   "source": [
    "def determine_iter2_annotator(iter1_annotators, batch, annotator_dict):\n",
    "    possible_annotators = set(annotator_dict.values())\n",
    "    \n",
    "    # Remove Iteration 1 annotators\n",
    "    possible_annotators = possible_annotators.difference(iter1_annotators)\n",
    "    \n",
    "    # If Batch3 part 3, remove Nyambe as they were the reviewer for most parcels\n",
    "    if batch == 'Batch3_part3':\n",
    "        possible_annotators = possible_annotators.difference({'nyambe.mwangelwa@es.cloudfactory.com'})\n",
    "    \n",
    "    return possible_annotators"
   ]
  },
  {
   "cell_type": "code",
   "execution_count": 60,
   "id": "96720682",
   "metadata": {},
   "outputs": [],
   "source": [
    "def main(OAK_FP, CF_FP, OUTPUT_FP, annotator_dict):\n",
    "    # Iteration 2 APNs\n",
    "    iter2_apns = pd.read_pickle(os.path.join(CF_FP, 'images/batch3_revise/sample.p'))\n",
    "    \n",
    "    # Collect Iteration 1 annotators\n",
    "    annotator_df = pd.DataFrame()\n",
    "    for stratum, apns in tqdm(iter2_apns.items()):\n",
    "        for apn in apns:\n",
    "            for batch in ['Batch3_part1', 'Batch3_part2', 'Batch3_part3', 'Batch2', 'Batch1_100']:\n",
    "                batch_path = os.path.join(CF_FP, 'exports', batch)\n",
    "                try: \n",
    "                    initial_an, any_an = get_parcel_annotators(json_file=os.path.join(batch_path, f\"{apn}.json\"))\n",
    "                    parcel_df = pd.DataFrame.from_dict(\n",
    "                        {'APN': [apn], 'Batch': [batch], 'Initial': [initial_an], 'Any': [any_an]})\n",
    "                    annotator_df = pd.concat([annotator_df, parcel_df])\n",
    "                except FileNotFoundError:\n",
    "                    pass\n",
    "    \n",
    "    total_iter2 = len(iter2_apns['positives']) + len(iter2_apns['negatives_sample']) + len(iter2_apns['true_negatives_sample'])\n",
    "    assert len(annotator_df) == total_iter2\n",
    "    \n",
    "    # Define Iteration 2 possible annotators\n",
    "    annotator_df['possible_annotators'] = annotator_df.apply(\n",
    "    lambda row: determine_iter2_annotator(\n",
    "        iter1_annotators=row['Any'], batch=row['Batch'], annotator_dict=annotator_dict), axis=1)\n",
    "    \n",
    "    # Final annotator\n",
    "    np.random.seed(1)\n",
    "    iter2_annotator_df = pd.DataFrame()\n",
    "    iter2_counts = {v: 0 for v in annotator_dict.values()}\n",
    "    even_split = len(annotator_df) // len(annotator_dict)\n",
    "\n",
    "    for apn in annotator_df['APN'].unique():\n",
    "        apn_row = annotator_df.loc[annotator_df['APN'] == apn].iloc[0]\n",
    "        possible_annotators = apn_row['possible_annotators']\n",
    "\n",
    "        # Even out annotator assignments\n",
    "        for annotator in possible_annotators:\n",
    "            if iter2_counts[annotator] >= even_split + 2:\n",
    "                possible_annotators = possible_annotators.difference({annotator})\n",
    "\n",
    "        if len(possible_annotators) == 0:\n",
    "            selected_annotator = None\n",
    "        else:\n",
    "            if 'nyambe.mwangelwa@es.cloudfactory.com' in possible_annotators:\n",
    "                selected_annotator = 'nyambe.mwangelwa@es.cloudfactory.com'\n",
    "            else:\n",
    "                selected_annotator = np.random.choice(list(possible_annotators), 1)[0]\n",
    "\n",
    "            # Update dict\n",
    "            iter2_counts[selected_annotator] += 1\n",
    "\n",
    "        iter2_annotator_df = pd.concat(\n",
    "            [iter2_annotator_df, pd.DataFrame.from_dict({'APN': [apn], 'Annotator': [selected_annotator]})])\n",
    "\n",
    "    # Check that all parcels have an annotator\n",
    "    assert iter2_annotator_df['Annotator'].isna().sum() == 0\n",
    "    \n",
    "    # Annotator distribution\n",
    "    print(iter2_counts)\n",
    "    \n",
    "    # Save\n",
    "    #iter2_annotator_df = iter2_annotator_df.merge(annotator_df, validate='one_to_one')\n",
    "    iter2_annotator_df.to_csv(os.path.join(OUTPUT_FP, 'annotators.csv'))\n",
    "    return iter2_annotator_df"
   ]
  },
  {
   "cell_type": "code",
   "execution_count": 61,
   "id": "661619e0",
   "metadata": {},
   "outputs": [
    {
     "name": "stderr",
     "output_type": "stream",
     "text": [
      "100%|██████████| 3/3 [00:02<00:00,  1.22it/s]\n"
     ]
    },
    {
     "name": "stdout",
     "output_type": "stream",
     "text": [
      "{'grace.odemba@es.cloudfactory.com': 325, 'jackline.ogutu@es.cloudfactory.com': 326, 'joy.mwende@es.cloudfactory.com': 329, 'nyambe.mwangelwa@es.cloudfactory.com': 329}\n"
     ]
    }
   ],
   "source": [
    "if __name__ == '__main__':\n",
    "    iter2_annotator_df = main(OAK_FP, CF_FP, OUTPUT_FP, annotator_dict)"
   ]
  },
  {
   "cell_type": "code",
   "execution_count": 63,
   "id": "9834e16c",
   "metadata": {},
   "outputs": [
    {
     "data": {
      "text/plain": [
       "Annotator\n",
       "grace.odemba@es.cloudfactory.com        325\n",
       "jackline.ogutu@es.cloudfactory.com      326\n",
       "joy.mwende@es.cloudfactory.com          329\n",
       "nyambe.mwangelwa@es.cloudfactory.com    329\n",
       "Name: APN, dtype: int64"
      ]
     },
     "execution_count": 63,
     "metadata": {},
     "output_type": "execute_result"
    }
   ],
   "source": [
    "iter2_annotator_df.groupby('Annotator')['APN'].count()"
   ]
  }
 ],
 "metadata": {
  "kernelspec": {
   "display_name": "Python 3",
   "language": "python",
   "name": "python3"
  },
  "language_info": {
   "codemirror_mode": {
    "name": "ipython",
    "version": 3
   },
   "file_extension": ".py",
   "mimetype": "text/x-python",
   "name": "python",
   "nbconvert_exporter": "python",
   "pygments_lexer": "ipython3",
   "version": "3.8.10"
  }
 },
 "nbformat": 4,
 "nbformat_minor": 5
}
