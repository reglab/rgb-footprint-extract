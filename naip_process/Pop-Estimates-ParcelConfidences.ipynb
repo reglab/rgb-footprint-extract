{
 "cells": [
  {
   "cell_type": "markdown",
   "id": "c28b88b4",
   "metadata": {},
   "source": [
    "# Population Estimates: Compute confidence levels for all parcels"
   ]
  },
  {
   "cell_type": "code",
   "execution_count": 1,
   "id": "3cef5df7",
   "metadata": {},
   "outputs": [],
   "source": [
    "from tqdm import tqdm\n",
    "\n",
    "import warnings\n",
    "warnings.simplefilter(action='ignore', category=FutureWarning)\n",
    "warnings.filterwarnings(\"ignore\")\n",
    "\n",
    "tqdm.pandas()"
   ]
  },
  {
   "cell_type": "code",
   "execution_count": 2,
   "id": "4a1f5238",
   "metadata": {},
   "outputs": [],
   "source": [
    "# Import functions\n",
    "%run inference-functions.ipynb import load_data, get_bounds, assign_cbgs, visualize_tile_predvOSM, assign_cbgs_by_coverage\n",
    "%run ADU_permit_matching-polygon-pipeline.ipynb import load_sources"
   ]
  },
  {
   "cell_type": "code",
   "execution_count": 3,
   "id": "44031031",
   "metadata": {},
   "outputs": [],
   "source": [
    "# Paths\n",
    "OAK_FP = '/oak/stanford/groups/deho/building_compliance/'\n",
    "OUTPUT_FP = os.path.join(OAK_FP, 'outputs', 'Population-Estimates', 'outputs')\n",
    "PERMIT_INPUT_FP = os.path.join(OAK_FP, 'outputs', 'Permit-Matching', 'inputs')\n",
    "\n",
    "BUILD_FP = os.path.join(OAK_FP, 'outputs', 'cbg-inference-{}', 'inference_building_processed')\n",
    "OSM_FP = os.path.join(OAK_FP, 'outputs', 'cbg-inference-2020', 'osm_building_processed')"
   ]
  },
  {
   "cell_type": "code",
   "execution_count": 4,
   "id": "28e7d0b0",
   "metadata": {},
   "outputs": [],
   "source": [
    "# Define parameters\n",
    "# * Percentage of samples in each income strata to process\n",
    "percentage_of_samples = 0.2\n",
    "\n",
    "# * Divide compute ----- MODIFY AGENT HERE (N Nathan, A Andrea) ---------\n",
    "agent = 'A'\n",
    "\n",
    "# Note: These parameters are relevant for how OSM footprints are used\n",
    "# to identify the main building and to decide whether to snap to OSM small building \n",
    "# footprints. \n",
    "# The limit_2016_inferences parameter determines whether OSM footprints are used \n",
    "# symmetrically for 2020 and 2016. If True, we only include OSM footprints for 2016\n",
    "# if these have been partially discovered by model inferences. If False, we include\n",
    "# any OSM small building for the 2016 footprints (as done for 2020).\n",
    "\n",
    "model_params = {'area_threshold_main': 30, 'area_threshold_small': 20,\n",
    "                'flatten_threshold': 0.85, 'main_expansion_type': 'raw_polygons', \n",
    "                'main_polygon_definition': 'OSM', 'negative_buffer': 0.5, 'simplify_tolerance': 0,\n",
    "                'limit_2016_inferences': True}"
   ]
  },
  {
   "cell_type": "markdown",
   "id": "562e3812",
   "metadata": {},
   "source": [
    "# 1. Compute confidences"
   ]
  },
  {
   "cell_type": "code",
   "execution_count": null,
   "id": "29270a03",
   "metadata": {},
   "outputs": [],
   "source": [
    "def main():\n",
    "    # Load data\n",
    "    # * Residential parcels (assigned to CBGs)\n",
    "    sj_parcels_res = gpd.read_file(os.path.join(OUTPUT_FP, 'sj-parcels-res-cbgs'))\n",
    "    assert sj_parcels_res.duplicated('APN').sum() == 0\n",
    "\n",
    "    # * Census block groups\n",
    "    cbg_income_2016_SJ = gpd.read_file(os.path.join(OUTPUT_FP, 'Strata', 'cbg-income-strata'))\n",
    "\n",
    "    # * Permits\n",
    "    sj_parcel_permit = pd.read_csv(os.path.join(PERMIT_INPUT_FP, '..', 'outputs', 'parcel_permit_found.csv'))\n",
    "    sj_permit_noparcel = pd.read_csv(os.path.join(PERMIT_INPUT_FP, '..', 'outputs', 'parcel_permit_notfound.csv'))\n",
    "    sj_parcel_permit['geometry_parcel'] = gpd.GeoSeries.from_wkt(sj_parcel_permit['geometry_parcel'])\n",
    "    sj_parcel_permit['geometry_permit'] = gpd.GeoSeries.from_wkt(sj_parcel_permit['geometry_permit'])\n",
    "    \n",
    "    # Add income strata information to parcel data\n",
    "    sj_parcels_res = pd.merge(\n",
    "        sj_parcels_res, cbg_income_2016_SJ[['GEOID', 'strata_inc']], \n",
    "        how='left', validate='many_to_one')\n",
    "    \n",
    "    # Divide compute (split up the income strata)\n",
    "    unique_strata = sj_parcels_res['strata_inc'].unique()\n",
    "\n",
    "    # Find a seed that balances the number of APNs \n",
    "    np.random.seed(44)\n",
    "    a1_strata = np.random.choice(unique_strata, size=len(unique_strata)//2, replace=False)\n",
    "\n",
    "    sj_parcels_res['agent'] = sj_parcels_res['strata_inc'].apply(\n",
    "        lambda strata_inc: 'A' if strata_inc in a1_strata else 'N')\n",
    "    \n",
    "    # Drop parcels for other agent\n",
    "    sj_parcels_res = sj_parcels_res.loc[sj_parcels_res['agent'] == agent]\n",
    "    \n",
    "    # Set up output files\n",
    "    parcel_output = os.path.join(OUTPUT_FP, 'Confidences', agent, 'parcel-confidence.csv')\n",
    "    building_output = os.path.join(OUTPUT_FP, 'Confidences', agent, 'building-confidence-{}')\n",
    "\n",
    "    if os.path.exists(parcel_output):\n",
    "        parcel_conf_df = pd.read_csv(parcel_output)\n",
    "        buildings_gpd = {'2016': gpd.read_file(building_output.format('2016')), \n",
    "                     '2020': gpd.read_file(building_output.format('2020'))}\n",
    "\n",
    "        reviewed_parcels = parcel_conf_df['APN'].unique()\n",
    "        reviewed_istrata = parcel_conf_df['strata_inc'].unique()\n",
    "\n",
    "        print('[INFO] Number of reviewed income strata: {}'.format(len(reviewed_istrata)))\n",
    "        print('[INFO] Number of reviewed parcels: {}'.format(len(reviewed_parcels)))\n",
    "\n",
    "    else:\n",
    "        os.makedirs(os.path.dirname(parcel_output))\n",
    "\n",
    "        parcel_conf_df = pd.DataFrame()\n",
    "        buildings_gpd = {'2016': gpd.GeoDataFrame(geometry=[]), '2020': gpd.GeoDataFrame(geometry=[])}\n",
    "        reviewed_parcels = []\n",
    "        \n",
    "    # Compute confidence for each parcel, order by income strata\n",
    "    for strata_inc in tqdm(sj_parcels_res['strata_inc'].unique()):\n",
    "        parcels_to_review = sj_parcels_res.loc[sj_parcels_res['strata_inc'] == strata_inc]['APN'].unique()\n",
    "\n",
    "        # Sample parcels\n",
    "        np.random.seed(42)\n",
    "        strata_inc_N = len(parcels_to_review)\n",
    "        parcels_to_review = np.random.choice(\n",
    "            parcels_to_review, size=int(strata_inc_N * percentage_of_samples), replace=False)\n",
    "\n",
    "        for i, parcel_apn in enumerate(parcels_to_review):\n",
    "            if parcel_apn in reviewed_parcels:\n",
    "                continue\n",
    "\n",
    "            # Compute confidence\n",
    "            parcel_conf, parcel_build = parcel_confidence(\n",
    "                sj_parcels_res, sj_parcel_permit, parcel_apn, model_params)\n",
    "\n",
    "            # Get geoid\n",
    "            parcel_geoid = sj_parcels_res.loc[sj_parcels_res['APN'] == parcel_apn].iloc[0]['GEOID']\n",
    "\n",
    "            # Append\n",
    "            parcel_conf_df = pd.concat([parcel_conf_df, pd.DataFrame.from_dict(\n",
    "                {'APN': [parcel_apn], 'GEOID': [parcel_geoid],\n",
    "                 'strata_inc': [strata_inc], 'confidence': [parcel_conf]})])\n",
    "\n",
    "            for year in ['2016', '2020']:\n",
    "                if parcel_build[year] is not None:\n",
    "                    parcel_build[year]['APN'] = parcel_apn\n",
    "                    buildings_gpd[year] = pd.concat([buildings_gpd[year], parcel_build[year]])\n",
    "\n",
    "            if i % 50 == 0 or i == len(parcels_to_review):\n",
    "                parcel_conf_df.to_csv(parcel_output, index=False)\n",
    "                for year in ['2016', '2020']:\n",
    "                    buildings_gpd[year].to_file(building_output.format(year))"
   ]
  },
  {
   "cell_type": "code",
   "execution_count": null,
   "id": "0940a38e",
   "metadata": {},
   "outputs": [],
   "source": [
    "main()"
   ]
  },
  {
   "cell_type": "markdown",
   "id": "d24be159",
   "metadata": {},
   "source": [
    "# 2. Output checks"
   ]
  },
  {
   "cell_type": "code",
   "execution_count": 18,
   "id": "7d750310",
   "metadata": {},
   "outputs": [
    {
     "name": "stdout",
     "output_type": "stream",
     "text": [
      "[INFO] Number of reviewed income strata: 51\n",
      "[INFO] Number of reviewed parcels: 18657\n"
     ]
    }
   ],
   "source": [
    "parcel_conf_df = pd.DataFrame()\n",
    "for agent in ['A', 'N']:\n",
    "    parcel_output = os.path.join(OUTPUT_FP, 'Confidences', agent, 'parcel-confidence.csv')\n",
    "    \n",
    "    parcel_conf_df = pd.concat([parcel_conf_df, pd.read_csv(parcel_output)])\n",
    "    \n",
    "reviewed_parcels = parcel_conf_df['APN'].unique()\n",
    "reviewed_istrata = parcel_conf_df['strata_inc'].unique()\n",
    "\n",
    "print('[INFO] Number of reviewed income strata: {}'.format(len(reviewed_istrata)))\n",
    "print('[INFO] Number of reviewed parcels: {}'.format(len(reviewed_parcels)))"
   ]
  },
  {
   "cell_type": "markdown",
   "id": "0cabcc6b",
   "metadata": {},
   "source": [
    "# 3. Output checks"
   ]
  },
  {
   "cell_type": "code",
   "execution_count": null,
   "id": "2e2ce301",
   "metadata": {},
   "outputs": [],
   "source": [
    "parcel_output = os.path.join(OUTPUT_FP, 'Confidences', agent, 'parcel-confidence.csv')\n",
    "building_output = os.path.join(OUTPUT_FP, 'Confidences', agent, 'building-confidence-{}')\n",
    "\n",
    "parcel_conf_df = pd.read_csv(parcel_output)\n",
    "buildings_gpd = {\n",
    "    '2016': gpd.read_file(building_output.format('2016')), \n",
    "    '2020': gpd.read_file(building_output.format('2020'))}\n",
    "\n",
    "reviewed_parcels = parcel_conf_df['APN'].unique()\n",
    "reviewed_istrata = parcel_conf_df['strata_inc'].unique()\n",
    "\n",
    "print('[INFO] Number of reviewed income strata: {}'.format(len(reviewed_istrata)))\n",
    "print('[INFO] Number of reviewed parcels: {}'.format(len(reviewed_parcels)))"
   ]
  },
  {
   "cell_type": "code",
   "execution_count": null,
   "id": "e2b9a5f9",
   "metadata": {},
   "outputs": [],
   "source": [
    "# Load data\n",
    "parcel_conf_df.head()"
   ]
  },
  {
   "cell_type": "code",
   "execution_count": null,
   "id": "5978dd03",
   "metadata": {},
   "outputs": [],
   "source": [
    "parcel_conf_df['confidence'].hist()\n",
    "plt.show()"
   ]
  },
  {
   "cell_type": "code",
   "execution_count": null,
   "id": "9cfed44a",
   "metadata": {},
   "outputs": [],
   "source": [
    "buildings_gpd['2020']['build_conf'] = buildings_gpd['2020']['build_conf'].astype('float')"
   ]
  },
  {
   "cell_type": "code",
   "execution_count": null,
   "id": "4b8fa38d",
   "metadata": {},
   "outputs": [],
   "source": [
    "buildings_gpd['2020']['build_conf'].hist()\n",
    "plt.show()"
   ]
  }
 ],
 "metadata": {
  "kernelspec": {
   "display_name": "Python 3",
   "language": "python",
   "name": "python3"
  },
  "language_info": {
   "codemirror_mode": {
    "name": "ipython",
    "version": 3
   },
   "file_extension": ".py",
   "mimetype": "text/x-python",
   "name": "python",
   "nbconvert_exporter": "python",
   "pygments_lexer": "ipython3",
   "version": "3.8.10"
  }
 },
 "nbformat": 4,
 "nbformat_minor": 5
}
